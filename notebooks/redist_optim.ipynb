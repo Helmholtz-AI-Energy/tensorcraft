{
 "cells": [
  {
   "cell_type": "markdown",
   "metadata": {},
   "source": [
    "# Optim Bottom-Up"
   ]
  },
  {
   "cell_type": "markdown",
   "metadata": {},
   "source": [
    "## Setup\n"
   ]
  },
  {
   "cell_type": "code",
   "execution_count": null,
   "metadata": {},
   "outputs": [
    {
     "name": "stdout",
     "output_type": "stream",
     "text": [
      "28-03-2025 11:26:22 : INFO : compiler : __init__ -- Grammar file loaded successfully.\n",
      "28-03-2025 11:26:23 : INFO : compiler : __init__ -- Parser object created successfully.\n"
     ]
    }
   ],
   "source": [
    "%load_ext autoreload\n",
    "%autoreload 2\n",
    "from importlib import reload\n",
    "import logging\n",
    "reload(logging)\n",
    "\n",
    "import torch\n",
    "\n",
    "import tensorcraft as tc\n",
    "\n",
    "log = logging.getLogger(\"tensorcraft\")\n",
    "log.setLevel(logging.INFO)"
   ]
  },
  {
   "cell_type": "code",
   "execution_count": null,
   "metadata": {},
   "outputs": [],
   "source": [
    "columns = [\"Step #\", \"Operation\", \"Distribution\", \"Cost\", \"Memory Usage [MB]\"]\n",
    "columns_width = [8, 20, 40, 8, 8]\n",
    "\n",
    "type_size = 8\n",
    "\n",
    "def print_path(path: list[tuple[str, any, float]], tensor_shape: torch.Size):\n",
    "\n",
    "    line = \" & \".join(f\"{col:<{width}}\" for col, width in zip(columns, columns_width)) + \" \\\\\\\\\"\n",
    "    print(line)\n",
    "    for i, (op, s_dist, s_cost) in enumerate(path):\n",
    "        line = f\"{i:<{columns_width[0]}} & {op:<{columns_width[1]}} & {str(s_dist):<{columns_width[2]}} & {s_cost:<{columns_width[3]}} & {s_dist.maxNumElements(tensor_shape) * 8 / 10**6:<{columns_width[4]}} \\\\\\\\\" \n",
    "        print(line)\n"
   ]
  },
  {
   "cell_type": "markdown",
   "metadata": {},
   "source": [
    "## Redistributors\n",
    "\n",
    "Given a tensor shape, a starting distribution and a target distribution, creates a sequence of collective ops to reach the target dist while optimizing for different metrics."
   ]
  },
  {
   "cell_type": "markdown",
   "metadata": {},
   "source": [
    "### Memory efficient redistributions example"
   ]
  },
  {
   "cell_type": "code",
   "execution_count": null,
   "metadata": {},
   "outputs": [
    {
     "name": "stdout",
     "output_type": "stream",
     "text": [
      "D_[4,2,4]⊥{(0,1),∅,∅,∅}(1,∅,∅,∅)\n",
      "Option 1\n",
      "Step 0: alltoall(0,1) - D_[4,2,4]⊥{0,1,∅,∅}(2,1,∅,∅), comm_vol, n_procs: (512, 2)\n",
      "Step 1: alltoall(0,2) - D_[4,2,4]⊥{∅,1,0,∅}(∅,1,2,∅), comm_vol, n_procs: (1024, 4)\n",
      "Option 2\n",
      "Step 0: split(3,2)  D_[4,2,4]⊥{(0,1),∅,∅,2}(1,∅,∅,1), comm_vol, n_procs: (0, 0)\n",
      "Step 1: alltoall(0,1) - D_[4,2,4]⊥{0,1,∅,2}(2,1,∅,1), comm_vol, n_procs: (128, 2)\n",
      "Step 2: alltoall(0,2) - D_[4,2,4]⊥{∅,1,0,2}(∅,1,2,1), comm_vol, n_procs: (256, 4)\n",
      "Step 3: allgather(2)  D_[4,2,4]⊥{∅,1,0,∅}(∅,1,2,∅), comm_vol, n_procs: (256, 4)\n"
     ]
    }
   ],
   "source": [
    "tensor_shape = torch.Size([8, 8, 8, 4])\n",
    "mesh = torch.Size([4,2,4])\n",
    "dist = tc.dist.MultiAxisDist(mesh, ((0,1), (), (), ()), 1)\n",
    "print(dist)\n",
    "\n",
    "print(\"Option 1\")\n",
    "new_dist, comm_vol, n_procs = dist.alltoall(tensor_shape, 0, 1, minor=True)\n",
    "print(f\"Step 0: alltoall(0,1) - {new_dist}, comm_vol, n_procs: {comm_vol, n_procs}\")\n",
    "new_dist, comm_vol, n_procs = new_dist.alltoall(tensor_shape, 0, 2)\n",
    "print(f\"Step 1: alltoall(0,2) - {new_dist}, comm_vol, n_procs: {comm_vol, n_procs}\")\n",
    "\n",
    "print(\"Option 2\")\n",
    "new_dist, comm_vol, n_procs = dist.split(tensor_shape, 3, 2, 1)\n",
    "print(f\"Step 0: split(3,2)  {new_dist}, comm_vol, n_procs: {comm_vol, n_procs}\")\n",
    "new_dist, comm_vol, n_procs = new_dist.alltoall(tensor_shape, 0, 1, minor=True)\n",
    "print(f\"Step 1: alltoall(0,1) - {new_dist}, comm_vol, n_procs: {comm_vol, n_procs}\")\n",
    "new_dist, comm_vol, n_procs = new_dist.alltoall(tensor_shape, 0, 2)\n",
    "print(f\"Step 2: alltoall(0,2) - {new_dist}, comm_vol, n_procs: {comm_vol, n_procs}\")\n",
    "new_dist, comm_vol, n_procs = new_dist.allgather(tensor_shape, 2)\n",
    "print(f\"Step 3: allgather(2)  {new_dist}, comm_vol, n_procs: {comm_vol, n_procs}\")"
   ]
  },
  {
   "cell_type": "markdown",
   "metadata": {},
   "source": [
    "### Naive Gather Split\n",
    "\n",
    "Simplest redistributor. Just allgathers, then splits. Should be both communication and memory ineficient. "
   ]
  },
  {
   "cell_type": "code",
   "execution_count": null,
   "metadata": {},
   "outputs": [
    {
     "name": "stdout",
     "output_type": "stream",
     "text": [
      "28-03-2025 11:30:20 : INFO : naive_gatherer : _redistribute_multi_axis -- Dist D_[2,4]⊥{∅,∅}(∅,∅), volume: 3000, n_procs 2\n",
      "Step #   & Operation            & Distribution                             & Cost     & Memory Usage [MB] \\\\\n",
      "0        &                      & D_[2,4]⊥{0,∅}(10,∅)                      & 0        & 0.012    \\\\\n",
      "1        & allgather_*          & D_[2,4]⊥{∅,∅}(∅,∅)                       & 2501.0   & 0.02     \\\\\n",
      "2        & split_*              & D_[2,4]⊥{∅,0}(∅,10)                      & 0        & 0.012    \\\\\n",
      "Total cost: 2501.0\n"
     ]
    }
   ],
   "source": [
    "\n",
    "tensor_shape = torch.Size((50,50))\n",
    "mesh = torch.Size((2,4))\n",
    "dist = tc.dist.MultiAxisDist(mesh, ((0,), ()), (10, 10))\n",
    "target_dist = tc.dist.MultiAxisDist(mesh, ((), (0,)), (10, 10))\n",
    "naive_rdist = tc.optim.NaiveGathererRedist(tc.optim.IdealLowerBoundsCM())\n",
    "\n",
    "sequence, total_cost = naive_rdist.redistribute(tensor_shape, dist, target_dist)\n",
    "print_path(sequence, tensor_shape)\n",
    "print(f\"Total cost: {total_cost}\")\n"
   ]
  },
  {
   "cell_type": "markdown",
   "metadata": {},
   "source": [
    "## Memory Constrained"
   ]
  },
  {
   "cell_type": "code",
   "execution_count": null,
   "metadata": {},
   "outputs": [
    {
     "name": "stdout",
     "output_type": "stream",
     "text": [
      "28-03-2025 11:30:27 : INFO : mem_const : _redistribute_multi_axis -- D_[2,4]⊥{0,∅}(2,∅)\n",
      "28-03-2025 11:30:27 : INFO : mem_const : _redistribute_multi_axis -- D_[2,4]⊥{∅,0}(∅,2)\n"
     ]
    },
    {
     "name": "stdout",
     "output_type": "stream",
     "text": [
      "Step #   & Operation            & Distribution                             & Cost     & Memory Usage [MB] \\\\\n",
      "0        &                      & D_[2,4]⊥{0,∅}(2,∅)                       & 0        & 0.04     \\\\\n",
      "1        & alltoall_0_1_-1      & D_[2,4]⊥{∅,0}(∅,2)                       & 5001.0   & 0.04     \\\\\n",
      "Total cost: 5001.0\n"
     ]
    }
   ],
   "source": [
    "tensor_shape = torch.Size([100, 100])\n",
    "mesh = torch.Size([2, 4])\n",
    "dist = tc.dist.MultiAxisDist(mesh, ((0,), ()), 2) \n",
    "target_dist = tc.dist.MultiAxisDist(mesh, ((), (0,)), 2)\n",
    "\n",
    "mem_constrained_dist = tc.optim.MemoryConstrainedRedist(tc.optim.IdealLowerBoundsCM())\n",
    "sequence, total_cost = mem_constrained_dist.redistribute(tensor_shape, dist, target_dist)\n",
    "\n",
    "print_path(sequence, tensor_shape)\n",
    "print(f\"Total cost: {total_cost}\")"
   ]
  },
  {
   "cell_type": "code",
   "execution_count": null,
   "metadata": {},
   "outputs": [
    {
     "name": "stdout",
     "output_type": "stream",
     "text": [
      "28-03-2025 11:32:09 : INFO : mem_const : _redistribute_multi_axis -- D_[4,2,4]⊥{(0,1),∅,∅,∅}(100,∅,∅,∅)\n",
      "28-03-2025 11:32:09 : INFO : mem_const : _redistribute_multi_axis -- D_[4,2,4]⊥{∅,1,0,∅}(∅,100,100,∅)\n"
     ]
    },
    {
     "name": "stdout",
     "output_type": "stream",
     "text": [
      "Step #   & Operation            & Distribution                             & Cost     & Memory Usage [MB] \\\\\n",
      "0        &                      & D_[4,2,4]⊥{(0,1),∅,∅,∅}(100,∅,∅,∅)       & 0        & 1024.0   \\\\\n",
      "1        & split_3_2_1          & D_[4,2,4]⊥{(0,1),∅,∅,2}(100,∅,∅,1)       & 0.0      & 256.0    \\\\\n",
      "2        & alltoall_minor_0_1_-1 & D_[4,2,4]⊥{0,1,∅,2}(200,100,∅,1)         & 10239.856402303965 & 256.0    \\\\\n",
      "3        & alltoall_0_2_100     & D_[4,2,4]⊥{∅,1,0,2}(∅,100,100,1)         & 30719.559206911894 & 256.0    \\\\\n",
      "4        & allgather_2          & D_[4,2,4]⊥{∅,1,0,∅}(∅,100,100,∅)         & 30719.559206911894 & 1024.0   \\\\\n",
      "Total cost: 71678.97481612775\n"
     ]
    }
   ],
   "source": [
    "tensor_shape = torch.Size([800, 400, 800, 4])\n",
    "mesh = torch.Size([4,2,4])\n",
    "dist = tc.dist.MultiAxisDist(mesh, ((0,1), (), (), ()), 100) \n",
    "target_dist = tc.dist.MultiAxisDist(mesh, ((), (1,), (0,), ()), (-1, 100, 100, -1))\n",
    "\n",
    "\n",
    "mem_constrained_dist = tc.optim.MemoryConstrainedRedist(tc.optim.IdealLowerBoundsCM(), max_depth=5, alpha=0.01, beta=64/(200 * 1000^3))\n",
    "sequence, total_cost = mem_constrained_dist.redistribute(tensor_shape, dist, target_dist)\n",
    "\n",
    "print_path(sequence, tensor_shape)\n",
    "print(f\"Total cost: {total_cost}\")\n"
   ]
  },
  {
   "cell_type": "code",
   "execution_count": null,
   "metadata": {},
   "outputs": [],
   "source": []
  },
  {
   "cell_type": "markdown",
   "metadata": {},
   "source": [
    "Tuteja, Keshvi (SCC) <keshvi.tuteja@kit.edu>"
   ]
  },
  {
   "cell_type": "code",
   "execution_count": null,
   "metadata": {},
   "outputs": [],
   "source": []
  }
 ],
 "metadata": {
  "kernelspec": {
   "display_name": "tensorcraft-dev311",
   "language": "python",
   "name": "python3"
  },
  "language_info": {
   "codemirror_mode": {
    "name": "ipython",
    "version": 3
   },
   "file_extension": ".py",
   "mimetype": "text/x-python",
   "name": "python",
   "nbconvert_exporter": "python",
   "pygments_lexer": "ipython3",
   "version": "3.11.2"
  }
 },
 "nbformat": 4,
 "nbformat_minor": 2
}
