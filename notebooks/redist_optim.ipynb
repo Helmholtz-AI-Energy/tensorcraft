{
 "cells": [
  {
   "cell_type": "markdown",
   "metadata": {},
   "source": [
    "# Optim Bottom-Up"
   ]
  },
  {
   "cell_type": "markdown",
   "metadata": {},
   "source": [
    "## Setup\n"
   ]
  },
  {
   "cell_type": "code",
   "execution_count": null,
   "metadata": {},
   "outputs": [
    {
     "name": "stdout",
     "output_type": "stream",
     "text": [
      "The autoreload extension is already loaded. To reload it, use:\n",
      "  %reload_ext autoreload\n"
     ]
    }
   ],
   "source": [
    "%load_ext autoreload\n",
    "%autoreload 2\n",
    "from importlib import reload\n",
    "import logging\n",
    "\n",
    "import torch\n",
    "\n",
    "import tensorcraft as tc\n",
    "\n",
    "tc.set_logger_config(level = logging.INFO)\n",
    "\n",
    "ALPHA = 1e-6 # 1 micro second of latency (Maybe bigger)\n",
    "BETA=64.0/( 200.0 * 1e9) # 200 GBits per second bandwidth\n",
    "\n",
    "NODE_LIMIT = 1000\n",
    "TOP_K = 15\n",
    "MAX_DEPTH = 6\n",
    "PATH_COST_W = 1.02\n",
    "ESTIMATE_W = 1.00"
   ]
  },
  {
   "cell_type": "code",
   "execution_count": null,
   "metadata": {},
   "outputs": [],
   "source": [
    "columns = [\"Step #\", \"Operation\", \"Distribution\", \"Cost[s]\", \"Memory Usage [MB]\"]\n",
    "columns_width = [8, 20, 40, 8, 8]\n",
    "\n",
    "type_size = 8\n",
    "\n",
    "def print_path(path: list[tuple[str, any, float]], tensor_shape: torch.Size):\n",
    "\n",
    "    line = \" & \".join(f\"{col:<{width}}\" for col, width in zip(columns, columns_width)) + \" \\\\\\\\\"\n",
    "    print(line)\n",
    "    for i, (op, s_dist, s_cost) in enumerate(path):\n",
    "        line = f\"{i:<{columns_width[0]}} & {op:<{columns_width[1]}} & {s_dist.latexStr():<{columns_width[2]}} & {s_cost:<{columns_width[3]}} & {s_dist.maxNumElements(tensor_shape) * 8 / 10**6:<{columns_width[4]}} \\\\\\\\\" \n",
    "        print(line)\n"
   ]
  },
  {
   "cell_type": "code",
   "execution_count": null,
   "metadata": {},
   "outputs": [],
   "source": [
    "\n",
    "def mem_constrained_filter(shape: torch.Size, start_dist: tc.dist.MultiAxisDist, target_dist: tc.dist.MultiAxisDist, current_dist: tc.dist.MultiAxisDist ) -> bool:\n",
    "    max_n_elements = max(start_dist.maxNumElements(shape), target_dist.maxNumElements(shape))\n",
    "    return max_n_elements < current_dist.maxNumElements(shape)"
   ]
  },
  {
   "cell_type": "markdown",
   "metadata": {},
   "source": [
    "## Redistributors\n",
    "\n",
    "Given a tensor shape, a starting distribution and a target distribution, creates a sequence of collective ops to reach the target dist while optimizing for different metrics."
   ]
  },
  {
   "cell_type": "markdown",
   "metadata": {},
   "source": [
    "### Problem 1 ( Tiled Matrix to Row cyclic)\n",
    "\n",
    "Shifting from a tiled matrix, to a row cyclic distribution"
   ]
  },
  {
   "cell_type": "code",
   "execution_count": null,
   "metadata": {},
   "outputs": [
    {
     "data": {
      "text/plain": [
       "True"
      ]
     },
     "execution_count": null,
     "metadata": {},
     "output_type": "execute_result"
    }
   ],
   "source": [
    "tensor_shape = torch.Size([10000000, 512])\n",
    "mesh = torch.Size([2,4])\n",
    "dist = tc.dist.MultiAxisDist(mesh, ((0,), (1,),), (5000000, 128)) \n",
    "dist.compatible(tensor_shape)\n",
    "target_dist = tc.dist.MultiAxisDist(mesh, ((0,1), None), 1250000)\n",
    "target_dist.compatible(tensor_shape)"
   ]
  },
  {
   "cell_type": "code",
   "execution_count": null,
   "metadata": {},
   "outputs": [
    {
     "name": "stdout",
     "output_type": "stream",
     "text": [
      "Step #   & Operation            & Distribution                             & Cost[s]  & Memory Usage [MB] \\\\\n",
      "0        &                      & $T_{\\perp\\{ 0,1 \\}(5000000,128)}$        & 0        & 5120.0   \\\\\n",
      "1        & allgather_*          & $T_{\\perp\\{ \\emptyset,\\emptyset \\}(\\emptyset,\\emptyset)}$ & 1.433603 & 40960.0  \\\\\n",
      "2        & split_*              & $T_{\\perp\\{ (0,1),\\emptyset \\}(1250000,\\emptyset)}$ & 0        & 5120.0   \\\\\n",
      "Total cost: 1.43s\n"
     ]
    }
   ],
   "source": [
    "\n",
    "naive_rdist = tc.optim.NaiveGathererRedist(tc.optim.IdealLowerBoundsCM(), alpha=ALPHA, beta=BETA)\n",
    "\n",
    "sequence, total_cost = naive_rdist.redistribute(tensor_shape, dist, target_dist)\n",
    "print_path(sequence, tensor_shape)\n",
    "print(f\"Total cost: {total_cost:.2f}s\")\n"
   ]
  },
  {
   "cell_type": "code",
   "execution_count": null,
   "metadata": {},
   "outputs": [
    {
     "name": "stdout",
     "output_type": "stream",
     "text": [
      "[2025-05-07 15:11:18,952][\u001b[1;36mtensorcraft.util.route_finder\u001b[0m][\u001b[1;35mfind_routes\u001b[0m][\u001b[1;37mINFO\u001b[0m] - \u001b[1;37mExplored 69 nodes, found 15 possible paths.\u001b[0m\n",
      "[2025-05-07 15:11:18,952][\u001b[1;36m\u001b[1;36mtensorcraft.util.route_finder\u001b[0m\u001b[0m][\u001b[1;35m\u001b[1;35mfind_routes\u001b[0m\u001b[0m][\u001b[1;30m\u001b[1;37mINFO\u001b[0m\u001b[0m] - \u001b[1;30m\u001b[1;37mExplored 69 nodes, found 15 possible paths.\u001b[0m\u001b[0m\n",
      "[2025-05-07 15:11:18,952][\u001b[1;36m\u001b[1;36m\u001b[1;36mtensorcraft.util.route_finder\u001b[0m\u001b[0m\u001b[0m][\u001b[1;35m\u001b[1;35m\u001b[1;35mfind_routes\u001b[0m\u001b[0m\u001b[0m][\u001b[1;30m\u001b[1;30m\u001b[1;37mINFO\u001b[0m\u001b[0m\u001b[0m] - \u001b[1;30m\u001b[1;30m\u001b[1;37mExplored 69 nodes, found 15 possible paths.\u001b[0m\u001b[0m\u001b[0m\n",
      "[2025-05-07 15:11:18,952][\u001b[1;36m\u001b[1;36m\u001b[1;36m\u001b[1;36mtensorcraft.util.route_finder\u001b[0m\u001b[0m\u001b[0m\u001b[0m][\u001b[1;35m\u001b[1;35m\u001b[1;35m\u001b[1;35mfind_routes\u001b[0m\u001b[0m\u001b[0m\u001b[0m][\u001b[1;30m\u001b[1;30m\u001b[1;30m\u001b[1;37mINFO\u001b[0m\u001b[0m\u001b[0m\u001b[0m] - \u001b[1;30m\u001b[1;30m\u001b[1;30m\u001b[1;37mExplored 69 nodes, found 15 possible paths.\u001b[0m\u001b[0m\u001b[0m\u001b[0m\n",
      "Step #   & Operation            & Distribution                             & Cost[s]  & Memory Usage [MB] \\\\\n",
      "0        &                      & $T_{\\perp\\{ 0,1 \\}(5000000,128)}$        & 0        & 5120.0   \\\\\n",
      "1        & allgather_1          & $T_{\\perp\\{ 0,\\emptyset \\}(5000000,\\emptyset)}$ & 0.6144019999999999 & 20480.0  \\\\\n",
      "2        & split_minor_0_1_1    & $T_{\\perp\\{ (0,1),\\emptyset \\}(1250000,\\emptyset)}$ & 0.0      & 5120.0   \\\\\n",
      "Total cost: 0.614s\n",
      "CPU times: user 8.3 s, sys: 6.93 s, total: 15.2 s\n",
      "Wall time: 15.3 s\n"
     ]
    }
   ],
   "source": [
    "%%time\n",
    "astar_redist = tc.optim.AStarRedistributor(tc.optim.IdealLowerBoundsCM(), alpha=ALPHA, beta=BETA, path_cost_w=PATH_COST_W, estimate_w=ESTIMATE_W, top_k=TOP_K, node_limit=NODE_LIMIT, max_depth=MAX_DEPTH)\n",
    "sequence, total_cost = astar_redist.redistribute(tensor_shape, dist, target_dist)\n",
    "\n",
    "print_path(sequence, tensor_shape)\n",
    "print(f\"Total cost: {total_cost:.3f}s\")"
   ]
  },
  {
   "cell_type": "code",
   "execution_count": null,
   "metadata": {},
   "outputs": [
    {
     "name": "stdout",
     "output_type": "stream",
     "text": [
      "[2025-05-07 15:11:32,025][\u001b[1;36mtensorcraft.util.route_finder\u001b[0m][\u001b[1;35mfind_routes\u001b[0m][\u001b[1;37mINFO\u001b[0m] - \u001b[1;37mExplored 33 nodes, found 9 possible paths.\u001b[0m\n",
      "[2025-05-07 15:11:32,025][\u001b[1;36m\u001b[1;36mtensorcraft.util.route_finder\u001b[0m\u001b[0m][\u001b[1;35m\u001b[1;35mfind_routes\u001b[0m\u001b[0m][\u001b[1;30m\u001b[1;37mINFO\u001b[0m\u001b[0m] - \u001b[1;30m\u001b[1;37mExplored 33 nodes, found 9 possible paths.\u001b[0m\u001b[0m\n",
      "[2025-05-07 15:11:32,025][\u001b[1;36m\u001b[1;36m\u001b[1;36mtensorcraft.util.route_finder\u001b[0m\u001b[0m\u001b[0m][\u001b[1;35m\u001b[1;35m\u001b[1;35mfind_routes\u001b[0m\u001b[0m\u001b[0m][\u001b[1;30m\u001b[1;30m\u001b[1;37mINFO\u001b[0m\u001b[0m\u001b[0m] - \u001b[1;30m\u001b[1;30m\u001b[1;37mExplored 33 nodes, found 9 possible paths.\u001b[0m\u001b[0m\u001b[0m\n",
      "[2025-05-07 15:11:32,025][\u001b[1;36m\u001b[1;36m\u001b[1;36m\u001b[1;36mtensorcraft.util.route_finder\u001b[0m\u001b[0m\u001b[0m\u001b[0m][\u001b[1;35m\u001b[1;35m\u001b[1;35m\u001b[1;35mfind_routes\u001b[0m\u001b[0m\u001b[0m\u001b[0m][\u001b[1;30m\u001b[1;30m\u001b[1;30m\u001b[1;37mINFO\u001b[0m\u001b[0m\u001b[0m\u001b[0m] - \u001b[1;30m\u001b[1;30m\u001b[1;30m\u001b[1;37mExplored 33 nodes, found 9 possible paths.\u001b[0m\u001b[0m\u001b[0m\u001b[0m\n",
      "Step #   & Operation            & Distribution                             & Cost[s]  & Memory Usage [MB] \\\\\n",
      "0        &                      & $T_{\\perp\\{ 0,1 \\}(5000000,128)}$        & 0        & 5120.0   \\\\\n",
      "1        & changeBlockSize_1_1  & $T_{\\perp\\{ 0,1 \\}(5000000,1)}$          & 0.153602 & 5120.0   \\\\\n",
      "2        & alltoall_0_1_-1      & $T_{\\perp\\{ \\emptyset,(0,1) \\}(\\emptyset,1)}$ & 0.20480099999999998 & 5120.0   \\\\\n",
      "3        & alltoall_minor_1_0_1250000 & $T_{\\perp\\{ 1,0 \\}(1250000,4)}$          & 0.6144019999999999 & 5120.0   \\\\\n",
      "4        & alltoall_1_0_-1      & $T_{\\perp\\{ (0,1),\\emptyset \\}(1250000,\\emptyset)}$ & 0.20480099999999998 & 5120.0   \\\\\n",
      "Total cost: 1.178s\n",
      "CPU times: user 7.05 s, sys: 5.93 s, total: 13 s\n",
      "Wall time: 13 s\n"
     ]
    }
   ],
   "source": [
    "%%time\n",
    "astar_redist = tc.optim.AStarRedistributor(tc.optim.IdealLowerBoundsCM(), node_filter=mem_constrained_filter, alpha=ALPHA, beta=BETA, path_cost_w=PATH_COST_W, estimate_w=ESTIMATE_W, top_k=TOP_K, node_limit=NODE_LIMIT, max_depth=MAX_DEPTH)\n",
    "sequence, total_cost = astar_redist.redistribute(tensor_shape, dist, target_dist)\n",
    "\n",
    "print_path(sequence, tensor_shape)\n",
    "print(f\"Total cost: {total_cost:.3f}s\")"
   ]
  },
  {
   "cell_type": "code",
   "execution_count": null,
   "metadata": {},
   "outputs": [
    {
     "name": "stdout",
     "output_type": "stream",
     "text": [
      "[2025-05-07 15:11:32,232][\u001b[1;36mtensorcraft.util.route_finder\u001b[0m][\u001b[1;35mfind_routes\u001b[0m][\u001b[1;37mINFO\u001b[0m] - \u001b[1;37mExplored 2 nodes, found 2 possible paths.\u001b[0m\n",
      "[2025-05-07 15:11:32,232][\u001b[1;36m\u001b[1;36mtensorcraft.util.route_finder\u001b[0m\u001b[0m][\u001b[1;35m\u001b[1;35mfind_routes\u001b[0m\u001b[0m][\u001b[1;30m\u001b[1;37mINFO\u001b[0m\u001b[0m] - \u001b[1;30m\u001b[1;37mExplored 2 nodes, found 2 possible paths.\u001b[0m\u001b[0m\n",
      "[2025-05-07 15:11:32,232][\u001b[1;36m\u001b[1;36m\u001b[1;36mtensorcraft.util.route_finder\u001b[0m\u001b[0m\u001b[0m][\u001b[1;35m\u001b[1;35m\u001b[1;35mfind_routes\u001b[0m\u001b[0m\u001b[0m][\u001b[1;30m\u001b[1;30m\u001b[1;37mINFO\u001b[0m\u001b[0m\u001b[0m] - \u001b[1;30m\u001b[1;30m\u001b[1;37mExplored 2 nodes, found 2 possible paths.\u001b[0m\u001b[0m\u001b[0m\n",
      "[2025-05-07 15:11:32,232][\u001b[1;36m\u001b[1;36m\u001b[1;36m\u001b[1;36mtensorcraft.util.route_finder\u001b[0m\u001b[0m\u001b[0m\u001b[0m][\u001b[1;35m\u001b[1;35m\u001b[1;35m\u001b[1;35mfind_routes\u001b[0m\u001b[0m\u001b[0m\u001b[0m][\u001b[1;30m\u001b[1;30m\u001b[1;30m\u001b[1;37mINFO\u001b[0m\u001b[0m\u001b[0m\u001b[0m] - \u001b[1;30m\u001b[1;30m\u001b[1;30m\u001b[1;37mExplored 2 nodes, found 2 possible paths.\u001b[0m\u001b[0m\u001b[0m\u001b[0m\n",
      "Step #   & Operation            & Distribution                             & Cost[s]  & Memory Usage [MB] \\\\\n",
      "0        &                      & $T_{\\perp\\{ 0,1 \\}(5000000,128)}$        & 0        & 5120.0   \\\\\n",
      "1        & allgather_1          & $T_{\\perp\\{ 0,\\emptyset \\}(5000000,\\emptyset)}$ & 0.6144019999999999 & 20480.0  \\\\\n",
      "2        & split_minor_0_1_1    & $T_{\\perp\\{ (0,1),\\emptyset \\}(1250000,\\emptyset)}$ & 0.0      & 5120.0   \\\\\n",
      "Total cost: 0.614s\n",
      "CPU times: user 78.3 ms, sys: 55.7 ms, total: 134 ms\n",
      "Wall time: 132 ms\n"
     ]
    }
   ],
   "source": [
    "%%time\n",
    "astar_redist = tc.optim.AStarRedistributor(tc.optim.IdealLowerBoundsCM(), alpha=ALPHA, beta=BETA, path_cost_w=PATH_COST_W, estimate_w=ESTIMATE_W, top_k=1, node_limit=NODE_LIMIT, max_depth=MAX_DEPTH)\n",
    "sequence, total_cost = astar_redist.redistribute(tensor_shape, dist, target_dist)\n",
    "\n",
    "print_path(sequence, tensor_shape)\n",
    "print(f\"Total cost: {total_cost:.3f}s\")"
   ]
  },
  {
   "cell_type": "markdown",
   "metadata": {},
   "source": [
    "## Problem 2"
   ]
  },
  {
   "cell_type": "code",
   "execution_count": null,
   "metadata": {},
   "outputs": [],
   "source": [
    "tensor_shape = torch.Size([1000, 400, 400, 8])\n",
    "dist = tc.dist.MultiAxisDist(torch.Size([4, 4, 2]), ((0,), None, None, (1, 2)), 1)\n",
    "target_dist = tc.dist.MultiAxisDist(\n",
    "    torch.Size([4, 4, 2]), ((0,), (1,), (2,), None), (1, 100, 100, None)\n",
    ")"
   ]
  },
  {
   "cell_type": "code",
   "execution_count": null,
   "metadata": {},
   "outputs": [
    {
     "name": "stdout",
     "output_type": "stream",
     "text": [
      "Step #   & Operation            & Distribution                             & Cost[s]  & Memory Usage [MB] \\\\\n",
      "0        &                      & $T_{\\perp\\{ 0,\\emptyset,\\emptyset,(1,2) \\}(1,\\emptyset,\\emptyset,1)}$ & 0        & 320.0    \\\\\n",
      "1        & allgather_*          & $T_{\\perp\\{ \\emptyset,\\emptyset,\\emptyset,\\emptyset \\}(\\emptyset,\\emptyset,\\emptyset,\\emptyset)}$ & 0.39680499999999996 & 10240.0  \\\\\n",
      "2        & split_*              & $T_{\\perp\\{ 0,1,2,\\emptyset \\}(1,100,100,\\emptyset)}$ & 0        & 320.0    \\\\\n",
      "Total cost: 0.40s\n",
      "CPU times: user 5.67 ms, sys: 887 μs, total: 6.55 ms\n",
      "Wall time: 5.99 ms\n"
     ]
    }
   ],
   "source": [
    "%%time\n",
    "naive_rdist = tc.optim.NaiveGathererRedist(tc.optim.IdealLowerBoundsCM(), alpha=ALPHA, beta=BETA)\n",
    "\n",
    "sequence, total_cost = naive_rdist.redistribute(tensor_shape, dist, target_dist)\n",
    "print_path(sequence, tensor_shape)\n",
    "print(f\"Total cost: {total_cost:.2f}s\")"
   ]
  },
  {
   "cell_type": "code",
   "execution_count": null,
   "metadata": {},
   "outputs": [
    {
     "name": "stdout",
     "output_type": "stream",
     "text": [
      "[2025-05-07 15:41:06,822][\u001b[1;36mtensorcraft.util.route_finder\u001b[0m][\u001b[1;35mfind_routes\u001b[0m][\u001b[1;37mINFO\u001b[0m] - \u001b[1;37mExplored 891 nodes, found 9 possible paths.\u001b[0m\n",
      "[2025-05-07 15:41:06,822][\u001b[1;36m\u001b[1;36mtensorcraft.util.route_finder\u001b[0m\u001b[0m][\u001b[1;35m\u001b[1;35mfind_routes\u001b[0m\u001b[0m][\u001b[1;30m\u001b[1;37mINFO\u001b[0m\u001b[0m] - \u001b[1;30m\u001b[1;37mExplored 891 nodes, found 9 possible paths.\u001b[0m\u001b[0m\n",
      "[2025-05-07 15:41:06,822][\u001b[1;36m\u001b[1;36m\u001b[1;36mtensorcraft.util.route_finder\u001b[0m\u001b[0m\u001b[0m][\u001b[1;35m\u001b[1;35m\u001b[1;35mfind_routes\u001b[0m\u001b[0m\u001b[0m][\u001b[1;30m\u001b[1;30m\u001b[1;37mINFO\u001b[0m\u001b[0m\u001b[0m] - \u001b[1;30m\u001b[1;30m\u001b[1;37mExplored 891 nodes, found 9 possible paths.\u001b[0m\u001b[0m\u001b[0m\n",
      "[2025-05-07 15:41:06,822][\u001b[1;36m\u001b[1;36m\u001b[1;36m\u001b[1;36mtensorcraft.util.route_finder\u001b[0m\u001b[0m\u001b[0m\u001b[0m][\u001b[1;35m\u001b[1;35m\u001b[1;35m\u001b[1;35mfind_routes\u001b[0m\u001b[0m\u001b[0m\u001b[0m][\u001b[1;30m\u001b[1;30m\u001b[1;30m\u001b[1;37mINFO\u001b[0m\u001b[0m\u001b[0m\u001b[0m] - \u001b[1;30m\u001b[1;30m\u001b[1;30m\u001b[1;37mExplored 891 nodes, found 9 possible paths.\u001b[0m\u001b[0m\u001b[0m\u001b[0m\n",
      "Step #   & Operation            & Distribution                             & Cost[s]  & Memory Usage [MB] \\\\\n",
      "0        &                      & $T_{\\perp\\{ 0,\\emptyset,\\emptyset,(1,2) \\}(1,\\emptyset,\\emptyset,1)}$ & 0        & 320.0    \\\\\n",
      "1        & alltoall_minor_3_2_100 & $T_{\\perp\\{ 0,\\emptyset,2,1 \\}(1,\\emptyset,100,2)}$ & 0.012800999999999998 & 320.0    \\\\\n",
      "2        & alltoall_3_1_100     & $T_{\\perp\\{ 0,1,2,\\emptyset \\}(1,100,100,\\emptyset)}$ & 0.038402 & 320.0    \\\\\n",
      "Total cost: 0.051s\n",
      "CPU times: user 29.2 s, sys: 49.7 ms, total: 29.3 s\n",
      "Wall time: 29.4 s\n"
     ]
    }
   ],
   "source": [
    "%%time\n",
    "mem_constrained_dist = tc.optim.AStarRedistributor(tc.optim.IdealLowerBoundsCM(), alpha=ALPHA, beta=BETA, node_filter=mem_constrained_filter, path_cost_w=PATH_COST_W, estimate_w=ESTIMATE_W, top_k=TOP_K, node_limit=NODE_LIMIT, max_depth=MAX_DEPTH)\n",
    "sequence, total_cost = mem_constrained_dist.redistribute(tensor_shape, dist, target_dist)\n",
    "\n",
    "print_path(sequence, tensor_shape)\n",
    "print(f\"Total cost: {total_cost:.3f}s\")"
   ]
  },
  {
   "cell_type": "code",
   "execution_count": null,
   "metadata": {},
   "outputs": [
    {
     "name": "stdout",
     "output_type": "stream",
     "text": [
      "[2025-05-07 15:42:02,718][\u001b[1;36mtensorcraft.util.route_finder\u001b[0m][\u001b[1;35mfind_routes\u001b[0m][\u001b[1;37mINFO\u001b[0m] - \u001b[1;37mExplored 1000 nodes, found 13 possible paths.\u001b[0m\n",
      "[2025-05-07 15:42:02,718][\u001b[1;36m\u001b[1;36mtensorcraft.util.route_finder\u001b[0m\u001b[0m][\u001b[1;35m\u001b[1;35mfind_routes\u001b[0m\u001b[0m][\u001b[1;30m\u001b[1;37mINFO\u001b[0m\u001b[0m] - \u001b[1;30m\u001b[1;37mExplored 1000 nodes, found 13 possible paths.\u001b[0m\u001b[0m\n",
      "[2025-05-07 15:42:02,718][\u001b[1;36m\u001b[1;36m\u001b[1;36mtensorcraft.util.route_finder\u001b[0m\u001b[0m\u001b[0m][\u001b[1;35m\u001b[1;35m\u001b[1;35mfind_routes\u001b[0m\u001b[0m\u001b[0m][\u001b[1;30m\u001b[1;30m\u001b[1;37mINFO\u001b[0m\u001b[0m\u001b[0m] - \u001b[1;30m\u001b[1;30m\u001b[1;37mExplored 1000 nodes, found 13 possible paths.\u001b[0m\u001b[0m\u001b[0m\n",
      "[2025-05-07 15:42:02,718][\u001b[1;36m\u001b[1;36m\u001b[1;36m\u001b[1;36mtensorcraft.util.route_finder\u001b[0m\u001b[0m\u001b[0m\u001b[0m][\u001b[1;35m\u001b[1;35m\u001b[1;35m\u001b[1;35mfind_routes\u001b[0m\u001b[0m\u001b[0m\u001b[0m][\u001b[1;30m\u001b[1;30m\u001b[1;30m\u001b[1;37mINFO\u001b[0m\u001b[0m\u001b[0m\u001b[0m] - \u001b[1;30m\u001b[1;30m\u001b[1;30m\u001b[1;37mExplored 1000 nodes, found 13 possible paths.\u001b[0m\u001b[0m\u001b[0m\u001b[0m\n",
      "Step #   & Operation            & Distribution                             & Cost[s]  & Memory Usage [MB] \\\\\n",
      "0        &                      & $T_{\\perp\\{ 0,\\emptyset,\\emptyset,(1,2) \\}(1,\\emptyset,\\emptyset,1)}$ & 0        & 320.0    \\\\\n",
      "1        & alltoall_minor_3_2_100 & $T_{\\perp\\{ 0,\\emptyset,2,1 \\}(1,\\emptyset,100,2)}$ & 0.012800999999999998 & 320.0    \\\\\n",
      "2        & allgather_1          & $T_{\\perp\\{ 0,\\emptyset,2,\\emptyset \\}(1,\\emptyset,100,\\emptyset)}$ & 0.038402 & 1280.0   \\\\\n",
      "3        & split_1_1_100        & $T_{\\perp\\{ 0,1,2,\\emptyset \\}(1,100,100,\\emptyset)}$ & 0.0      & 320.0    \\\\\n",
      "Total cost: 0.051s\n",
      "CPU times: user 55.7 s, sys: 55.7 ms, total: 55.7 s\n",
      "Wall time: 55.8 s\n"
     ]
    }
   ],
   "source": [
    "%%time\n",
    "astar_redist = tc.optim.AStarRedistributor(tc.optim.IdealLowerBoundsCM(), alpha=ALPHA, beta=BETA, path_cost_w=PATH_COST_W, estimate_w=ESTIMATE_W, top_k=TOP_K, node_limit=NODE_LIMIT, max_depth=MAX_DEPTH)\n",
    "sequence, total_cost = astar_redist.redistribute(tensor_shape, dist, target_dist)\n",
    "\n",
    "print_path(sequence, tensor_shape)\n",
    "print(f\"Total cost: {total_cost:.3f}s\")"
   ]
  },
  {
   "cell_type": "markdown",
   "metadata": {},
   "source": [
    "## Problem 3"
   ]
  },
  {
   "cell_type": "code",
   "execution_count": null,
   "metadata": {},
   "outputs": [],
   "source": [
    "tensor_shape = torch.Size([1000, 1000, 1000])\n",
    "dist = tc.dist.MultiAxisDist(torch.Size([2, 2, 2]), ((0,), (1,), (2,)), 1)\n",
    "target_dist = tc.dist.MultiAxisDist(\n",
    "    torch.Size([2, 2, 2]), ((), (0,1,2), ()), 125\n",
    ")"
   ]
  },
  {
   "cell_type": "code",
   "execution_count": null,
   "metadata": {},
   "outputs": [
    {
     "name": "stdout",
     "output_type": "stream",
     "text": [
      "Step #   & Operation            & Distribution                             & Cost[s]  & Memory Usage [MB] \\\\\n",
      "0        &                      & $T_{\\perp\\{ 0,1,2 \\}(1,1,1)}$            & 0        & 1000.0   \\\\\n",
      "1        & allgather_*          & $T_{\\perp\\{ \\emptyset,\\emptyset,\\emptyset \\}(\\emptyset,\\emptyset,\\emptyset)}$ & 0.28000299999999995 & 8000.0   \\\\\n",
      "2        & split_*              & $T_{\\perp\\{ \\emptyset,(0,1,2),\\emptyset \\}(\\emptyset,125,\\emptyset)}$ & 0        & 1000.0   \\\\\n",
      "Total cost: 0.28s\n",
      "CPU times: user 4.35 ms, sys: 844 μs, total: 5.19 ms\n",
      "Wall time: 4.66 ms\n"
     ]
    }
   ],
   "source": [
    "%%time\n",
    "naive_rdist = tc.optim.NaiveGathererRedist(tc.optim.IdealLowerBoundsCM(), alpha=ALPHA, beta=BETA)\n",
    "\n",
    "sequence, total_cost = naive_rdist.redistribute(tensor_shape, dist, target_dist)\n",
    "print_path(sequence, tensor_shape)\n",
    "print(f\"Total cost: {total_cost:.2f}s\")"
   ]
  },
  {
   "cell_type": "code",
   "execution_count": null,
   "metadata": {},
   "outputs": [
    {
     "name": "stdout",
     "output_type": "stream",
     "text": [
      "[2025-05-07 17:05:34,749][\u001b[1;36mtensorcraft.util.route_finder\u001b[0m][\u001b[1;35mfind_routes\u001b[0m][\u001b[1;37mINFO\u001b[0m] - \u001b[1;37mExplored 31 nodes, found 16 possible paths.\u001b[0m\n",
      "[2025-05-07 17:05:34,749][\u001b[1;36m\u001b[1;36mtensorcraft.util.route_finder\u001b[0m\u001b[0m][\u001b[1;35m\u001b[1;35mfind_routes\u001b[0m\u001b[0m][\u001b[1;30m\u001b[1;37mINFO\u001b[0m\u001b[0m] - \u001b[1;30m\u001b[1;37mExplored 31 nodes, found 16 possible paths.\u001b[0m\u001b[0m\n",
      "[2025-05-07 17:05:34,749][\u001b[1;36m\u001b[1;36m\u001b[1;36mtensorcraft.util.route_finder\u001b[0m\u001b[0m\u001b[0m][\u001b[1;35m\u001b[1;35m\u001b[1;35mfind_routes\u001b[0m\u001b[0m\u001b[0m][\u001b[1;30m\u001b[1;30m\u001b[1;37mINFO\u001b[0m\u001b[0m\u001b[0m] - \u001b[1;30m\u001b[1;30m\u001b[1;37mExplored 31 nodes, found 16 possible paths.\u001b[0m\u001b[0m\u001b[0m\n",
      "[2025-05-07 17:05:34,749][\u001b[1;36m\u001b[1;36m\u001b[1;36m\u001b[1;36mtensorcraft.util.route_finder\u001b[0m\u001b[0m\u001b[0m\u001b[0m][\u001b[1;35m\u001b[1;35m\u001b[1;35m\u001b[1;35mfind_routes\u001b[0m\u001b[0m\u001b[0m\u001b[0m][\u001b[1;30m\u001b[1;30m\u001b[1;30m\u001b[1;37mINFO\u001b[0m\u001b[0m\u001b[0m\u001b[0m] - \u001b[1;30m\u001b[1;30m\u001b[1;30m\u001b[1;37mExplored 31 nodes, found 16 possible paths.\u001b[0m\u001b[0m\u001b[0m\u001b[0m\n",
      "Step #   & Operation            & Distribution                             & Cost[s]  & Memory Usage [MB] \\\\\n",
      "0        &                      & $T_{\\perp\\{ 0,1,2 \\}(1,1,1)}$            & 0        & 1000.0   \\\\\n",
      "1        & alltoall_0_1_-1      & $T_{\\perp\\{ \\emptyset,(0,1),2 \\}(\\emptyset,1,1)}$ & 0.040001 & 1000.0   \\\\\n",
      "2        & alltoall_1_2_-1      & $T_{\\perp\\{ \\emptyset,\\emptyset,(0,1,2) \\}(\\emptyset,\\emptyset,1)}$ & 0.120002 & 1000.0   \\\\\n",
      "3        & alltoall_minor_2_1_125 & $T_{\\perp\\{ \\emptyset,2,(0,1) \\}(\\emptyset,125,2)}$ & 0.040001 & 1000.0   \\\\\n",
      "4        & alltoall_2_1_-1      & $T_{\\perp\\{ \\emptyset,(0,1,2),\\emptyset \\}(\\emptyset,125,\\emptyset)}$ & 0.120002 & 1000.0   \\\\\n",
      "Total cost: 0.320s\n",
      "CPU times: user 1.64 s, sys: 3.99 ms, total: 1.64 s\n",
      "Wall time: 1.65 s\n"
     ]
    }
   ],
   "source": [
    "%%time\n",
    "mem_constrained_dist = tc.optim.AStarRedistributor(tc.optim.IdealLowerBoundsCM(), alpha=ALPHA, beta=BETA, node_filter=mem_constrained_filter, path_cost_w=PATH_COST_W, estimate_w=ESTIMATE_W, top_k=TOP_K, node_limit=NODE_LIMIT, max_depth=MAX_DEPTH)\n",
    "sequence, total_cost = mem_constrained_dist.redistribute(tensor_shape, dist, target_dist)\n",
    "\n",
    "print_path(sequence, tensor_shape)\n",
    "print(f\"Total cost: {total_cost:.3f}s\")"
   ]
  },
  {
   "cell_type": "code",
   "execution_count": null,
   "metadata": {},
   "outputs": [
    {
     "name": "stdout",
     "output_type": "stream",
     "text": [
      "[2025-05-07 17:05:37,227][\u001b[1;36mtensorcraft.util.route_finder\u001b[0m][\u001b[1;35mfind_routes\u001b[0m][\u001b[1;37mINFO\u001b[0m] - \u001b[1;37mExplored 52 nodes, found 17 possible paths.\u001b[0m\n",
      "[2025-05-07 17:05:37,227][\u001b[1;36m\u001b[1;36mtensorcraft.util.route_finder\u001b[0m\u001b[0m][\u001b[1;35m\u001b[1;35mfind_routes\u001b[0m\u001b[0m][\u001b[1;30m\u001b[1;37mINFO\u001b[0m\u001b[0m] - \u001b[1;30m\u001b[1;37mExplored 52 nodes, found 17 possible paths.\u001b[0m\u001b[0m\n",
      "[2025-05-07 17:05:37,227][\u001b[1;36m\u001b[1;36m\u001b[1;36mtensorcraft.util.route_finder\u001b[0m\u001b[0m\u001b[0m][\u001b[1;35m\u001b[1;35m\u001b[1;35mfind_routes\u001b[0m\u001b[0m\u001b[0m][\u001b[1;30m\u001b[1;30m\u001b[1;37mINFO\u001b[0m\u001b[0m\u001b[0m] - \u001b[1;30m\u001b[1;30m\u001b[1;37mExplored 52 nodes, found 17 possible paths.\u001b[0m\u001b[0m\u001b[0m\n",
      "[2025-05-07 17:05:37,227][\u001b[1;36m\u001b[1;36m\u001b[1;36m\u001b[1;36mtensorcraft.util.route_finder\u001b[0m\u001b[0m\u001b[0m\u001b[0m][\u001b[1;35m\u001b[1;35m\u001b[1;35m\u001b[1;35mfind_routes\u001b[0m\u001b[0m\u001b[0m\u001b[0m][\u001b[1;30m\u001b[1;30m\u001b[1;30m\u001b[1;37mINFO\u001b[0m\u001b[0m\u001b[0m\u001b[0m] - \u001b[1;30m\u001b[1;30m\u001b[1;30m\u001b[1;37mExplored 52 nodes, found 17 possible paths.\u001b[0m\u001b[0m\u001b[0m\u001b[0m\n",
      "Step #   & Operation            & Distribution                             & Cost[s]  & Memory Usage [MB] \\\\\n",
      "0        &                      & $T_{\\perp\\{ 0,1,2 \\}(1,1,1)}$            & 0        & 1000.0   \\\\\n",
      "1        & allgather_*          & $T_{\\perp\\{ \\emptyset,\\emptyset,\\emptyset \\}(\\emptyset,\\emptyset,\\emptyset)}$ & 0.28000299999999995 & 8000.0   \\\\\n",
      "2        & split_1_2_125        & $T_{\\perp\\{ \\emptyset,2,\\emptyset \\}(\\emptyset,125,\\emptyset)}$ & 0.0      & 4000.0   \\\\\n",
      "3        & split_1_1_1          & $T_{\\perp\\{ \\emptyset,(1,2),\\emptyset \\}(\\emptyset,125,\\emptyset)}$ & 0.0      & 2000.0   \\\\\n",
      "4        & split_1_0_1          & $T_{\\perp\\{ \\emptyset,(0,1,2),\\emptyset \\}(\\emptyset,125,\\emptyset)}$ & 0.0      & 1000.0   \\\\\n",
      "Total cost: 0.280s\n",
      "CPU times: user 2.39 s, sys: 7.93 ms, total: 2.4 s\n",
      "Wall time: 2.41 s\n"
     ]
    }
   ],
   "source": [
    "%%time\n",
    "astar_redist = tc.optim.AStarRedistributor(tc.optim.IdealLowerBoundsCM(), alpha=ALPHA, beta=BETA, path_cost_w=PATH_COST_W, estimate_w=ESTIMATE_W, top_k=TOP_K, node_limit=NODE_LIMIT, max_depth=MAX_DEPTH)\n",
    "sequence, total_cost = astar_redist.redistribute(tensor_shape, dist, target_dist)\n",
    "\n",
    "print_path(sequence, tensor_shape)\n",
    "print(f\"Total cost: {total_cost:.3f}s\")"
   ]
  },
  {
   "cell_type": "code",
   "execution_count": null,
   "metadata": {},
   "outputs": [],
   "source": []
  }
 ],
 "metadata": {
  "kernelspec": {
   "display_name": ".venv",
   "language": "python",
   "name": "python3"
  },
  "language_info": {
   "codemirror_mode": {
    "name": "ipython",
    "version": 3
   },
   "file_extension": ".py",
   "mimetype": "text/x-python",
   "name": "python",
   "nbconvert_exporter": "python",
   "pygments_lexer": "ipython3",
   "version": "3.11.2"
  }
 },
 "nbformat": 4,
 "nbformat_minor": 2
}
