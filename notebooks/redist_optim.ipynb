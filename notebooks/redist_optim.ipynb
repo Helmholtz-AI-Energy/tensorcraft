{
 "cells": [
  {
   "cell_type": "markdown",
   "metadata": {},
   "source": [
    "# Optim Bottom-Up"
   ]
  },
  {
   "cell_type": "markdown",
   "metadata": {},
   "source": [
    "## Setup\n"
   ]
  },
  {
   "cell_type": "code",
   "execution_count": null,
   "metadata": {},
   "outputs": [],
   "source": [
    "%load_ext autoreload\n",
    "%autoreload 2\n",
    "from importlib import reload\n",
    "import logging\n",
    "reload(logging)\n",
    "\n",
    "import torch\n",
    "\n",
    "import tensorcraft as tc\n",
    "\n",
    "log = logging.getLogger(\"tensorcraft\")\n",
    "# log.setLevel(logging.INFO)\n",
    "\n",
    "ALPHA = 1e-6\n",
    "BETA=64.0/( 200.0 * 1e9)"
   ]
  },
  {
   "cell_type": "code",
   "execution_count": null,
   "metadata": {},
   "outputs": [],
   "source": [
    "columns = [\"Step #\", \"Operation\", \"Distribution\", \"Cost[s]\", \"Memory Usage [MB]\"]\n",
    "columns_width = [8, 20, 40, 8, 8]\n",
    "\n",
    "type_size = 8\n",
    "\n",
    "def print_path(path: list[tuple[str, any, float]], tensor_shape: torch.Size):\n",
    "\n",
    "    line = \" & \".join(f\"{col:<{width}}\" for col, width in zip(columns, columns_width)) + \" \\\\\\\\\"\n",
    "    print(line)\n",
    "    for i, (op, s_dist, s_cost) in enumerate(path):\n",
    "        line = f\"{i:<{columns_width[0]}} & {op:<{columns_width[1]}} & {s_dist.latexStr():<{columns_width[2]}} & {s_cost:<{columns_width[3]}} & {s_dist.maxNumElements(tensor_shape) * 8 / 10**6:<{columns_width[4]}} \\\\\\\\\" \n",
    "        print(line)\n"
   ]
  },
  {
   "cell_type": "markdown",
   "metadata": {},
   "source": [
    "## Redistributors\n",
    "\n",
    "Given a tensor shape, a starting distribution and a target distribution, creates a sequence of collective ops to reach the target dist while optimizing for different metrics."
   ]
  },
  {
   "cell_type": "markdown",
   "metadata": {},
   "source": [
    "### Memory efficient redistributions example"
   ]
  },
  {
   "cell_type": "code",
   "execution_count": null,
   "metadata": {},
   "outputs": [
    {
     "name": "stdout",
     "output_type": "stream",
     "text": [
      "D_[4,2,4]⊥{(0,1),∅,∅,∅}(1,∅,∅,∅)\n",
      "Option 1\n",
      "Step 0: alltoall(0,1) - D_[4,2,4]⊥{0,1,∅,∅}(2,1,∅,∅), comm_vol, n_procs: (512, 2)\n",
      "Step 1: alltoall(0,2) - D_[4,2,4]⊥{∅,1,0,∅}(∅,1,2,∅), comm_vol, n_procs: (1024, 4)\n",
      "Option 2\n",
      "Step 0: split(3,2)  D_[4,2,4]⊥{(0,1),∅,∅,2}(1,∅,∅,1), comm_vol, n_procs: (0, 0)\n",
      "Step 1: alltoall(0,1) - D_[4,2,4]⊥{0,1,∅,2}(2,1,∅,1), comm_vol, n_procs: (128, 2)\n",
      "Step 2: alltoall(0,2) - D_[4,2,4]⊥{∅,1,0,2}(∅,1,2,1), comm_vol, n_procs: (256, 4)\n",
      "Step 3: allgather(2)  D_[4,2,4]⊥{∅,1,0,∅}(∅,1,2,∅), comm_vol, n_procs: (256, 4)\n"
     ]
    }
   ],
   "source": [
    "tensor_shape = torch.Size([8, 8, 8, 4])\n",
    "mesh = torch.Size([4,2,4])\n",
    "dist = tc.dist.MultiAxisDist(mesh, ((0,1), (), (), ()), 1)\n",
    "print(dist)\n",
    "\n",
    "print(\"Option 1\")\n",
    "new_dist, comm_vol, n_procs = dist.alltoall(tensor_shape, 0, 1, minor=True)\n",
    "print(f\"Step 0: alltoall(0,1) - {new_dist}, comm_vol, n_procs: {comm_vol, n_procs}\")\n",
    "new_dist, comm_vol, n_procs = new_dist.alltoall(tensor_shape, 0, 2)\n",
    "print(f\"Step 1: alltoall(0,2) - {new_dist}, comm_vol, n_procs: {comm_vol, n_procs}\")\n",
    "\n",
    "print(\"Option 2\")\n",
    "new_dist, comm_vol, n_procs = dist.split(tensor_shape, 3, 2, 1)\n",
    "print(f\"Step 0: split(3,2)  {new_dist}, comm_vol, n_procs: {comm_vol, n_procs}\")\n",
    "new_dist, comm_vol, n_procs = new_dist.alltoall(tensor_shape, 0, 1, minor=True)\n",
    "print(f\"Step 1: alltoall(0,1) - {new_dist}, comm_vol, n_procs: {comm_vol, n_procs}\")\n",
    "new_dist, comm_vol, n_procs = new_dist.alltoall(tensor_shape, 0, 2)\n",
    "print(f\"Step 2: alltoall(0,2) - {new_dist}, comm_vol, n_procs: {comm_vol, n_procs}\")\n",
    "new_dist, comm_vol, n_procs = new_dist.allgather(tensor_shape, 2)\n",
    "print(f\"Step 3: allgather(2)  {new_dist}, comm_vol, n_procs: {comm_vol, n_procs}\")"
   ]
  },
  {
   "cell_type": "markdown",
   "metadata": {},
   "source": [
    "### Problem 1"
   ]
  },
  {
   "cell_type": "code",
   "execution_count": null,
   "metadata": {},
   "outputs": [],
   "source": [
    "tensor_shape = torch.Size([800, 400, 800, 4])\n",
    "mesh = torch.Size([4,2,4])\n",
    "dist = tc.dist.MultiAxisDist(mesh, ((0,1), (), (), ()), 100) \n",
    "target_dist = tc.dist.MultiAxisDist(mesh, ((), (1,), (0,), ()), (-1, 100, 100, -1))"
   ]
  },
  {
   "cell_type": "markdown",
   "metadata": {},
   "source": [
    "#### Naive Gather Split\n",
    "\n",
    "Simplest redistributor. Just allgathers, then splits. Should be both communication and memory ineficient. "
   ]
  },
  {
   "cell_type": "code",
   "execution_count": null,
   "metadata": {},
   "outputs": [
    {
     "name": "stdout",
     "output_type": "stream",
     "text": [
      "Step #   & Operation            & Distribution                             & Cost[s]  & Memory Usage [MB] \\\\\n",
      "0        &                      & $T_{\\perp\\{ (0,1),\\emptyset,\\emptyset,\\emptyset \\}(100,\\emptyset,\\emptyset,\\emptyset)}$ & 0        & 1024.0   \\\\\n",
      "1        & allgather_*          & $T_{\\perp\\{ \\emptyset,\\emptyset,\\emptyset,\\emptyset \\}(\\emptyset,\\emptyset,\\emptyset,\\emptyset)}$ & 0.28672299999999995 & 8192.0   \\\\\n",
      "2        & split_*              & $T_{\\perp\\{ \\emptyset,1,0,\\emptyset \\}(\\emptyset,100,100,\\emptyset)}$ & 0        & 1024.0   \\\\\n",
      "Total cost: 0.29s\n",
      "CPU times: user 1.63 ms, sys: 0 ns, total: 1.63 ms\n",
      "Wall time: 1.45 ms\n"
     ]
    }
   ],
   "source": [
    "%%time\n",
    "naive_rdist = tc.optim.NaiveGathererRedist(tc.optim.IdealLowerBoundsCM(), alpha=ALPHA, beta=BETA)\n",
    "\n",
    "sequence, total_cost = naive_rdist.redistribute(tensor_shape, dist, target_dist)\n",
    "print_path(sequence, tensor_shape)\n",
    "print(f\"Total cost: {total_cost:.2f}s\")\n"
   ]
  },
  {
   "cell_type": "markdown",
   "metadata": {},
   "source": [
    "#### Memory Constrained"
   ]
  },
  {
   "cell_type": "code",
   "execution_count": null,
   "metadata": {},
   "outputs": [
    {
     "name": "stdout",
     "output_type": "stream",
     "text": [
      "Explored 1000 nodes, found 20 possible paths.\n",
      "Step #   & Operation            & Distribution                             & Cost[s]  & Memory Usage [MB] \\\\\n",
      "0        &                      & $T_{\\perp\\{ (0,1),\\emptyset,\\emptyset,\\emptyset \\}(100,\\emptyset,\\emptyset,\\emptyset)}$ & 0        & 1024.0   \\\\\n",
      "1        & split_3_2_1          & $T_{\\perp\\{ (0,1),\\emptyset,\\emptyset,2 \\}(100,\\emptyset,\\emptyset,1)}$ & 0.0      & 256.0    \\\\\n",
      "2        & alltoall_minor_0_1_-1 & $T_{\\perp\\{ 0,1,\\emptyset,2 \\}(200,100,\\emptyset,1)}$ & 0.010240999999999998 & 256.0    \\\\\n",
      "3        & alltoall_0_2_100     & $T_{\\perp\\{ \\emptyset,1,0,2 \\}(\\emptyset,100,100,1)}$ & 0.030721999999999996 & 256.0    \\\\\n",
      "4        & allgather_2          & $T_{\\perp\\{ \\emptyset,1,0,\\emptyset \\}(\\emptyset,100,100,\\emptyset)}$ & 0.030721999999999996 & 1024.0   \\\\\n",
      "Total cost: 0.07s\n",
      "CPU times: user 1min 40s, sys: 29.4 ms, total: 1min 40s\n",
      "Wall time: 1min 41s\n"
     ]
    }
   ],
   "source": [
    "%%time\n",
    "mem_constrained_dist = tc.optim.MemoryConstrainedRedist(tc.optim.IdealLowerBoundsCM(), alpha=ALPHA, beta=BETA)\n",
    "sequence, total_cost = mem_constrained_dist.redistribute(tensor_shape, dist, target_dist)\n",
    "\n",
    "print_path(sequence, tensor_shape)\n",
    "print(f\"Total cost: {total_cost:.2f}s\")"
   ]
  },
  {
   "cell_type": "code",
   "execution_count": null,
   "metadata": {},
   "outputs": [
    {
     "name": "stdout",
     "output_type": "stream",
     "text": [
      "Explored 547 nodes, found 10 possible paths.\n",
      "Step #   & Operation            & Distribution                             & Cost[s]  & Memory Usage [MB] \\\\\n",
      "0        &                      & $T_{\\perp\\{ (0,1),\\emptyset,\\emptyset,\\emptyset \\}(100,\\emptyset,\\emptyset,\\emptyset)}$ & 0        & 1024.0   \\\\\n",
      "1        & alltoall_minor_0_1_-1 & $T_{\\perp\\{ 0,1,\\emptyset,\\emptyset \\}(200,100,\\emptyset,\\emptyset)}$ & 0.040961 & 1024.0   \\\\\n",
      "2        & alltoall_0_2_100     & $T_{\\perp\\{ \\emptyset,1,0,\\emptyset \\}(\\emptyset,100,100,\\emptyset)}$ & 0.12288199999999999 & 1024.0   \\\\\n",
      "Total cost: 0.16s\n",
      "CPU times: user 9.55 s, sys: 3.35 ms, total: 9.56 s\n",
      "Wall time: 9.58 s\n"
     ]
    }
   ],
   "source": [
    "%%time\n",
    "mem_constrained_dist = tc.optim.MemoryConstrainedRedist(tc.optim.IdealLowerBoundsCM(), alpha=ALPHA, beta=BETA, max_depth=3)\n",
    "sequence, total_cost = mem_constrained_dist.redistribute(tensor_shape, dist, target_dist)\n",
    "\n",
    "print_path(sequence, tensor_shape)\n",
    "print(f\"Total cost: {total_cost:.2f}s\")"
   ]
  },
  {
   "cell_type": "code",
   "execution_count": null,
   "metadata": {},
   "outputs": [
    {
     "name": "stdout",
     "output_type": "stream",
     "text": [
      "Explored 8 nodes, found 1 possible paths.\n",
      "Step #   & Operation            & Distribution                             & Cost[s]  & Memory Usage [MB] \\\\\n",
      "0        &                      & $T_{\\perp\\{ (0,1),\\emptyset,\\emptyset,\\emptyset \\}(100,\\emptyset,\\emptyset,\\emptyset)}$ & 0        & 1024.0   \\\\\n",
      "1        & alltoall_minor_0_1_-1 & $T_{\\perp\\{ 0,1,\\emptyset,\\emptyset \\}(200,100,\\emptyset,\\emptyset)}$ & 0.040961 & 1024.0   \\\\\n",
      "2        & alltoall_0_2_100     & $T_{\\perp\\{ \\emptyset,1,0,\\emptyset \\}(\\emptyset,100,100,\\emptyset)}$ & 0.12288199999999999 & 1024.0   \\\\\n",
      "Total cost: 0.16s\n",
      "CPU times: user 324 ms, sys: 4 μs, total: 324 ms\n",
      "Wall time: 324 ms\n"
     ]
    }
   ],
   "source": [
    "%%time\n",
    "mem_constrained_dist = tc.optim.MemoryConstrainedRedist(tc.optim.IdealLowerBoundsCM(), alpha=ALPHA, beta=BETA, top_k=1)\n",
    "sequence, total_cost = mem_constrained_dist.redistribute(tensor_shape, dist, target_dist)\n",
    "\n",
    "print_path(sequence, tensor_shape)\n",
    "print(f\"Total cost: {total_cost:.2f}s\")"
   ]
  },
  {
   "cell_type": "markdown",
   "metadata": {},
   "source": [
    "#### A*"
   ]
  },
  {
   "cell_type": "code",
   "execution_count": null,
   "metadata": {},
   "outputs": [
    {
     "name": "stdout",
     "output_type": "stream",
     "text": [
      "Explored 8 nodes, found 1 possible paths.\n",
      "Step #   & Operation            & Distribution                             & Cost[s]  & Memory Usage [MB] \\\\\n",
      "0        &                      & $T_{\\perp\\{ (0,1),\\emptyset,\\emptyset,\\emptyset \\}(100,\\emptyset,\\emptyset,\\emptyset)}$ & 0        & 1024.0   \\\\\n",
      "1        & alltoall_0_2_-1      & $T_{\\perp\\{ \\emptyset,\\emptyset,(0,1),\\emptyset \\}(\\emptyset,\\emptyset,100,\\emptyset)}$ & 0.28672299999999995 & 1024.0   \\\\\n",
      "2        & alltoall_minor_2_1_-1 & $T_{\\perp\\{ \\emptyset,1,0,\\emptyset \\}(\\emptyset,100,200,\\emptyset)}$ & 0.040961 & 1024.0   \\\\\n",
      "3        & changeBlockSize_2_100 & $T_{\\perp\\{ \\emptyset,1,0,\\emptyset \\}(\\emptyset,100,100,\\emptyset)}$ & 0.030721999999999996 & 1024.0   \\\\\n",
      "Total cost: 0.36s\n",
      "CPU times: user 555 ms, sys: 0 ns, total: 555 ms\n",
      "Wall time: 559 ms\n"
     ]
    }
   ],
   "source": [
    "%%time\n",
    "a_star_redist = tc.optim.AStarRedistributor(tc.optim.IdealLowerBoundsCM(), alpha=ALPHA, beta=BETA, path_cost_w=100.0, estimate_w=1.0)\n",
    "sequence, total_cost = a_star_redist.redistribute(tensor_shape, dist, target_dist)\n",
    "\n",
    "print_path(sequence, tensor_shape)\n",
    "print(f\"Total cost: {total_cost:.2f}s\")"
   ]
  },
  {
   "cell_type": "code",
   "execution_count": null,
   "metadata": {},
   "outputs": [],
   "source": []
  }
 ],
 "metadata": {
  "kernelspec": {
   "display_name": "tensorcraft-dev-3.12",
   "language": "python",
   "name": "python3"
  },
  "language_info": {
   "codemirror_mode": {
    "name": "ipython",
    "version": 3
   },
   "file_extension": ".py",
   "mimetype": "text/x-python",
   "name": "python",
   "nbconvert_exporter": "python",
   "pygments_lexer": "ipython3",
   "version": "3.12.4"
  }
 },
 "nbformat": 4,
 "nbformat_minor": 2
}
