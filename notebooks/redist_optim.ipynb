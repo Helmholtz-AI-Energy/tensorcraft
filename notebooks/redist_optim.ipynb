{
 "cells": [
  {
   "cell_type": "markdown",
   "metadata": {},
   "source": [
    "# Optim Bottom-Up"
   ]
  },
  {
   "cell_type": "markdown",
   "metadata": {},
   "source": [
    "## Setup\n"
   ]
  },
  {
   "cell_type": "code",
   "execution_count": null,
   "metadata": {},
   "outputs": [
    {
     "name": "stdout",
     "output_type": "stream",
     "text": [
      "06-03-2025 04:41:54 : INFO : compiler : __init__ -- Grammar file loaded successfully.\n",
      "06-03-2025 04:41:54 : INFO : compiler : __init__ -- Parser object created successfully.\n"
     ]
    }
   ],
   "source": [
    "%load_ext autoreload\n",
    "%autoreload 2\n",
    "from importlib import reload\n",
    "import logging\n",
    "reload(logging)\n",
    "\n",
    "import torch\n",
    "import matplotlib.pyplot as plt\n",
    "from pprint import pprint\n",
    "\n",
    "import tensorcraft as tc\n",
    "\n",
    "log = logging.getLogger(\"tensorcraft\")\n",
    "log.setLevel(logging.INFO)"
   ]
  },
  {
   "cell_type": "markdown",
   "metadata": {},
   "source": [
    "## Redistributors\n",
    "\n",
    "Given a tensor shape, a starting distribution and a target distribution, creates a sequence of collective ops to reach the target dist while optimizing for different metrics."
   ]
  },
  {
   "cell_type": "markdown",
   "metadata": {},
   "source": [
    "### Memory efficient redistributions example"
   ]
  },
  {
   "cell_type": "code",
   "execution_count": null,
   "metadata": {},
   "outputs": [
    {
     "name": "stdout",
     "output_type": "stream",
     "text": [
      "D_[4,2,4]⊥{(0,1),∅,∅,∅}(1,∅,∅,∅)\n",
      "Option 1\n",
      "Step 0: alltoall(0,1) - D_[4,2,4]⊥{0,1,∅,∅}(2,1,∅,∅), comm_vol, n_procs: (256, 2)\n",
      "Step 1: alltoall(0,2) - D_[4,2,4]⊥{∅,1,0,∅}(∅,1,2,∅), comm_vol, n_procs: (256, 4)\n",
      "Option 2\n",
      "Step 0: split(3,2)  D_[4,2,4]⊥{(0,1),∅,∅,2}(1,∅,∅,1), comm_vol, n_procs: (0, 0)\n",
      "Step 1: alltoall(0,1) - D_[4,2,4]⊥{0,1,∅,2}(2,1,∅,1), comm_vol, n_procs: (64, 2)\n",
      "Step 2: alltoall(0,2) - D_[4,2,4]⊥{∅,1,0,2}(∅,1,2,1), comm_vol, n_procs: (64, 4)\n",
      "Step 3: allgather(2)  D_[4,2,4]⊥{∅,1,0,∅}(∅,1,2,∅), comm_vol, n_procs: (64, 4)\n"
     ]
    }
   ],
   "source": [
    "tensor_shape = torch.Size([8, 8, 8, 4])\n",
    "mesh = torch.Size([4,2,4])\n",
    "dist = tc.dist.MultiAxisDist(mesh, ((0,1), (), (), ()), 1)\n",
    "print(dist)\n",
    "\n",
    "print(\"Option 1\")\n",
    "new_dist, comm_vol, n_procs = dist.alltoall(tensor_shape, 0, 1, minor=True)\n",
    "print(f\"Step 0: alltoall(0,1) - {new_dist}, comm_vol, n_procs: {comm_vol, n_procs}\")\n",
    "new_dist, comm_vol, n_procs = new_dist.alltoall(tensor_shape, 0, 2)\n",
    "print(f\"Step 1: alltoall(0,2) - {new_dist}, comm_vol, n_procs: {comm_vol, n_procs}\")\n",
    "\n",
    "print(\"Option 2\")\n",
    "new_dist, comm_vol, n_procs = dist.split(tensor_shape, 3, 2, 1)\n",
    "print(f\"Step 0: split(3,2)  {new_dist}, comm_vol, n_procs: {comm_vol, n_procs}\")\n",
    "new_dist, comm_vol, n_procs = new_dist.alltoall(tensor_shape, 0, 1, minor=True)\n",
    "print(f\"Step 1: alltoall(0,1) - {new_dist}, comm_vol, n_procs: {comm_vol, n_procs}\")\n",
    "new_dist, comm_vol, n_procs = new_dist.alltoall(tensor_shape, 0, 2)\n",
    "print(f\"Step 2: alltoall(0,2) - {new_dist}, comm_vol, n_procs: {comm_vol, n_procs}\")\n",
    "new_dist, comm_vol, n_procs = new_dist.allgather(tensor_shape, 2)\n",
    "print(f\"Step 3: allgather(2)  {new_dist}, comm_vol, n_procs: {comm_vol, n_procs}\")"
   ]
  },
  {
   "cell_type": "markdown",
   "metadata": {},
   "source": [
    "### Naive Gather Split\n",
    "\n",
    "Simplest redistributor. Just allgathers, then splits. Should be both communication and memory ineficient. "
   ]
  },
  {
   "cell_type": "code",
   "execution_count": null,
   "metadata": {},
   "outputs": [
    {
     "name": "stdout",
     "output_type": "stream",
     "text": [
      "06-03-2025 04:49:05 : INFO : naive_gatherer : _redistribute_multi_axis -- Dist D_[2,4]⊥{∅,∅}(∅,∅), volume: 1500, n_procs 2\n",
      "Step # | Operation       Distribution                   Cost\n",
      "0                       D_[2,4]⊥{0,∅}(10,∅)            Cost(latency=0, bandwidth=0, computation=0, max_memory_delta=0)\n",
      "1       allgather_*     D_[2,4]⊥{∅,∅}(∅,∅)             Cost(latency=1, bandwidth=1500.0, computation=0, max_memory_delta=1000)\n",
      "2       split_*         D_[2,4]⊥{∅,0}(∅,10)            Cost(latency=0, bandwidth=0, computation=0, max_memory_delta=-1000)\n",
      "Total cost: 2501.0\n"
     ]
    }
   ],
   "source": [
    "tensor_shape = torch.Size((50,50))\n",
    "mesh = torch.Size((2,4))\n",
    "dist = tc.dist.MultiAxisDist(mesh, ((0,), ()), (10, 10))\n",
    "target_dist = tc.dist.MultiAxisDist(mesh, ((), (0,)), (10, 10))\n",
    "naive_rdist = tc.optim.NaiveGathererRedist(tc.optim.IdealLowerBoundsCM())\n",
    "\n",
    "sequence, cost = naive_rdist.redistribute(tensor_shape, dist, target_dist)\n",
    "columns = [\"Step #\", \"Operation\", \"Distribution\", \"Cost\"]\n",
    "print(f\"{columns[0]:<5} | {columns[1]:<15} {columns[2]:<30} {columns[3]}\")\n",
    "for i, (op, s_dist, s_cost) in enumerate(sequence):\n",
    "    print(f\"{i:<5}   {op:<15} {str(s_dist):<30} {s_cost}\")\n",
    "print(f\"Total cost: {cost}\")\n"
   ]
  },
  {
   "cell_type": "code",
   "execution_count": null,
   "metadata": {},
   "outputs": [
    {
     "name": "stdout",
     "output_type": "stream",
     "text": [
      "06-03-2025 04:49:43 : INFO : mem_const : _redistribute_multi_axis -- D_[2,4]⊥{0,∅}(2,∅)\n",
      "06-03-2025 04:49:43 : INFO : mem_const : _redistribute_multi_axis -- D_[2,4]⊥{∅,0}(∅,2)\n"
     ]
    },
    {
     "name": "stdout",
     "output_type": "stream",
     "text": [
      "Step # | Operation       Distribution                   Cost\n",
      "0                       D_[2,4]⊥{0,∅}(2,∅)             Cost(latency=0, bandwidth=0, computation=0, max_memory_delta=0)\n",
      "1       alltoall_0_1_-1 D_[2,4]⊥{∅,0}(∅,2)             Cost(latency=1, bandwidth=1300.0, computation=0, max_memory_delta=0)\n",
      "Total cost: 1301.0\n"
     ]
    }
   ],
   "source": [
    "tensor_shape = torch.Size([50, 50])\n",
    "mesh = torch.Size([2, 4])\n",
    "dist = tc.dist.MultiAxisDist(mesh, ((0,), ()), 2) \n",
    "target_dist = tc.dist.MultiAxisDist(mesh, ((), (0,)), 2)\n",
    "mem_constrained_dist = tc.optim.MemoryConstrainedRedist(tc.optim.IdealLowerBoundsCM())\n",
    "sequence, cost = mem_constrained_dist.redistribute(tensor_shape, dist, target_dist)\n",
    "columns = [\"Step #\", \"Operation\", \"Distribution\", \"Cost\"]\n",
    "print(f\"{columns[0]:<5} | {columns[1]:<15} {columns[2]:<30} {columns[3]}\")\n",
    "for i, (op, s_dist, s_cost) in enumerate(sequence):\n",
    "    print(f\"{i:<5}   {op:<15} {str(s_dist):<30} {s_cost}\")\n",
    "print(f\"Total cost: {cost}\")"
   ]
  },
  {
   "cell_type": "code",
   "execution_count": null,
   "metadata": {},
   "outputs": [
    {
     "name": "stdout",
     "output_type": "stream",
     "text": [
      "06-03-2025 04:50:41 : INFO : mem_const : _redistribute_multi_axis -- D_[4,2,4]⊥{(0,1),∅,∅,∅}(1,∅,∅,∅)\n",
      "06-03-2025 04:50:41 : INFO : mem_const : _redistribute_multi_axis -- D_[4,2,4]⊥{∅,1,0,∅}(∅,4,2,∅)\n"
     ]
    },
    {
     "name": "stdout",
     "output_type": "stream",
     "text": [
      "Step # | Operation                      Distribution                                       Cost\n",
      "0                                      D_[4,2,4]⊥{(0,1),∅,∅,∅}(1,∅,∅,∅)                   Cost(latency=0, bandwidth=0, computation=0, max_memory_delta=0)\n",
      "1       alltoall_minor_0_1_4           D_[4,2,4]⊥{0,1,∅,∅}(2,4,∅,∅)                       Cost(latency=1, bandwidth=256.0, computation=0, max_memory_delta=0)\n",
      "2       split_minor_1_2_2              D_[4,2,4]⊥{0,(1,2),∅,∅}(2,1,∅,∅)                   Cost(latency=0, bandwidth=0, computation=0, max_memory_delta=-192)\n",
      "3       alltoall_0_2_-1                D_[4,2,4]⊥{∅,(1,2),0,∅}(∅,1,2,∅)                   Cost(latency=2, bandwidth=192.0, computation=0, max_memory_delta=0)\n",
      "4       allgather_2                    D_[4,2,4]⊥{∅,1,0,∅}(∅,4,2,∅)                       Cost(latency=2, bandwidth=192.0, computation=0, max_memory_delta=0)\n",
      "Total cost: 645.0\n"
     ]
    }
   ],
   "source": [
    "tensor_shape = torch.Size([8, 8, 8, 4])\n",
    "mesh = torch.Size([4,2,4])\n",
    "dist = tc.dist.MultiAxisDist(mesh, ((0,1), (), (), ()), 1) \n",
    "target_dist = tc.dist.MultiAxisDist(mesh, ((), (1,), (0,), ()), (-1, 4, 2, -1))\n",
    "mem_constrained_dist = tc.optim.MemoryConstrainedRedist(tc.optim.IdealLowerBoundsCM())\n",
    "sequence, cost = mem_constrained_dist.redistribute(tensor_shape, dist, target_dist)\n",
    "print(f\"{columns[0]:<5} | {columns[1]:<30} {columns[2]:<50} {columns[3]}\")\n",
    "for i, (op, s_dist, s_cost) in enumerate(sequence):\n",
    "    print(f\"{i:<5}   {op:<30} {str(s_dist):<50} {s_cost}\")\n",
    "print(f\"Total cost: {cost}\")"
   ]
  },
  {
   "cell_type": "code",
   "execution_count": null,
   "metadata": {},
   "outputs": [],
   "source": []
  }
 ],
 "metadata": {
  "kernelspec": {
   "display_name": "tensorcraft-dev311",
   "language": "python",
   "name": "python3"
  },
  "language_info": {
   "codemirror_mode": {
    "name": "ipython",
    "version": 3
   },
   "file_extension": ".py",
   "mimetype": "text/x-python",
   "name": "python",
   "nbconvert_exporter": "python",
   "pygments_lexer": "ipython3",
   "version": "3.11.2"
  }
 },
 "nbformat": 4,
 "nbformat_minor": 2
}
