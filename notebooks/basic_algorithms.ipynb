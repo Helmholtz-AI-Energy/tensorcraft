{
 "cells": [
  {
   "cell_type": "markdown",
   "metadata": {},
   "source": [
    "# 2D and 3D Matrix Multiplication\n",
    "## Setup\n",
    "### Installation\n",
    "```pip install ipyparallel```\n",
    "\n",
    "or \n",
    "\n",
    "```pip install -e .[notebook]```\n",
    "\n",
    "### Start cluster\n",
    "\n",
    "```ipcluster start -n 4 --engines=MPI --profile mpi```"
   ]
  },
  {
   "cell_type": "code",
   "execution_count": 1,
   "metadata": {},
   "outputs": [
    {
     "data": {
      "text/plain": [
       "4"
      ]
     },
     "execution_count": 1,
     "metadata": {},
     "output_type": "execute_result"
    }
   ],
   "source": [
    "import ipyparallel as ipp\n",
    "rc = ipp.Client(profile='mpi')\n",
    "rc.wait_for_engines(4)\n",
    "len(rc)"
   ]
  },
  {
   "cell_type": "code",
   "execution_count": 2,
   "metadata": {},
   "outputs": [
    {
     "data": {
      "application/vnd.jupyter.widget-view+json": {
       "model_id": "9b6d3a8bd0844c86b34fbd47ca5bc637",
       "version_major": 2,
       "version_minor": 0
      },
      "text/plain": [
       "%px:   0%|          | 0/4 [00:00<?, ?tasks/s]"
      ]
     },
     "metadata": {},
     "output_type": "display_data"
    },
    {
     "data": {
      "text/plain": [
       "[stdout:1] Hello from rank 1!\n"
      ]
     },
     "metadata": {},
     "output_type": "display_data"
    },
    {
     "data": {
      "text/plain": [
       "[stdout:2] Hello from rank 2!\n"
      ]
     },
     "metadata": {},
     "output_type": "display_data"
    },
    {
     "data": {
      "text/plain": [
       "[stdout:0] Hello from rank 0!\n"
      ]
     },
     "metadata": {},
     "output_type": "display_data"
    },
    {
     "data": {
      "text/plain": [
       "[stdout:3] Hello from rank 3!\n"
      ]
     },
     "metadata": {},
     "output_type": "display_data"
    }
   ],
   "source": [
    "%%px\n",
    "import torch\n",
    "from mpi4py import MPI\n",
    "\n",
    "comm = MPI.COMM_WORLD\n",
    "rank = comm.Get_rank()\n",
    "print(f'Hello from rank {rank}!')"
   ]
  },
  {
   "cell_type": "code",
   "execution_count": 3,
   "metadata": {},
   "outputs": [
    {
     "data": {
      "text/plain": [
       "[stdout:0] Hello from rank 0! My coordinates are [0, 0]\n"
      ]
     },
     "metadata": {},
     "output_type": "display_data"
    },
    {
     "data": {
      "text/plain": [
       "[stdout:2] Hello from rank 2! My coordinates are [1, 0]\n"
      ]
     },
     "metadata": {},
     "output_type": "display_data"
    },
    {
     "data": {
      "text/plain": [
       "[stdout:3] Hello from rank 3! My coordinates are [1, 1]\n"
      ]
     },
     "metadata": {},
     "output_type": "display_data"
    },
    {
     "data": {
      "text/plain": [
       "[stdout:1] Hello from rank 1! My coordinates are [0, 1]\n"
      ]
     },
     "metadata": {},
     "output_type": "display_data"
    }
   ],
   "source": [
    "%%px\n",
    "cart_comm = comm.Create_cart(dims=[2, 2], periods=[True, True], reorder=True)\n",
    "print(f'Hello from rank {rank}! My coordinates are {cart_comm.Get_coords(rank)}')\n"
   ]
  },
  {
   "cell_type": "code",
   "execution_count": 4,
   "metadata": {},
   "outputs": [
    {
     "data": {
      "text/plain": [
       "[stdout:0] Topo: ([2, 2], [1, 1], [0, 0])\n"
      ]
     },
     "metadata": {},
     "output_type": "display_data"
    },
    {
     "data": {
      "text/plain": [
       "[stdout:2] Topo: ([2, 2], [1, 1], [1, 0])\n"
      ]
     },
     "metadata": {},
     "output_type": "display_data"
    },
    {
     "data": {
      "text/plain": [
       "[stdout:1] Topo: ([2, 2], [1, 1], [0, 1])\n"
      ]
     },
     "metadata": {},
     "output_type": "display_data"
    },
    {
     "data": {
      "text/plain": [
       "[stdout:3] Topo: ([2, 2], [1, 1], [1, 1])\n"
      ]
     },
     "metadata": {},
     "output_type": "display_data"
    }
   ],
   "source": [
    "%%px\n",
    "print(f\"Topo: {cart_comm.Get_topo()}\")"
   ]
  },
  {
   "cell_type": "code",
   "execution_count": 5,
   "metadata": {},
   "outputs": [
    {
     "data": {
      "text/plain": [
       "[stdout:1] Hello from rank 1! In my row, the ranks are [0, 1]\n",
       "Hello from rank 1! In my col, the ranks are [1, 3]\n"
      ]
     },
     "metadata": {},
     "output_type": "display_data"
    },
    {
     "data": {
      "text/plain": [
       "[stdout:0] Hello from rank 0! In my row, the ranks are [0, 1]\n",
       "Hello from rank 0! In my col, the ranks are [0, 2]\n"
      ]
     },
     "metadata": {},
     "output_type": "display_data"
    },
    {
     "data": {
      "text/plain": [
       "[stdout:2] Hello from rank 2! In my row, the ranks are [2, 3]\n",
       "Hello from rank 2! In my col, the ranks are [0, 2]\n"
      ]
     },
     "metadata": {},
     "output_type": "display_data"
    },
    {
     "data": {
      "text/plain": [
       "[stdout:3] Hello from rank 3! In my row, the ranks are [2, 3]\n",
       "Hello from rank 3! In my col, the ranks are [1, 3]\n"
      ]
     },
     "metadata": {},
     "output_type": "display_data"
    }
   ],
   "source": [
    "%%px\n",
    "row_comm = cart_comm.Sub([0,1])\n",
    "row_global_ranks = row_comm.allgather(rank)\n",
    "print(f'Hello from rank {rank}! In my row, the ranks are {row_global_ranks}')\n",
    "\n",
    "col_comm = cart_comm.Sub([1,0])\n",
    "col_global_ranks = col_comm.allgather(rank)\n",
    "print(f'Hello from rank {rank}! In my col, the ranks are {col_global_ranks}')\n"
   ]
  },
  {
   "cell_type": "code",
   "execution_count": 6,
   "metadata": {},
   "outputs": [],
   "source": [
    "%%px\n",
    "def as_buffer(x: torch.Tensor):\n",
    "    return MPI.buffer.fromaddress(x.untyped_storage().data_ptr(), 0)"
   ]
  },
  {
   "cell_type": "markdown",
   "metadata": {},
   "source": [
    "## Matrix Vector\n",
    "\n",
    "### y:= Ax"
   ]
  },
  {
   "cell_type": "code",
   "execution_count": 7,
   "metadata": {},
   "outputs": [
    {
     "data": {
      "text/plain": [
       "[stdout:2] A_local: tensor([[ 8, 10, 12, 14],\n",
       "        [24, 26, 28, 30],\n",
       "        [40, 42, 44, 46],\n",
       "        [56, 58, 60, 62]])\n",
       "x_local: tensor([[2],\n",
       "        [6]])\n",
       "x_gather_col: tensor([[0],\n",
       "        [2],\n",
       "        [4],\n",
       "        [6]])\n",
       "y_local: tensor([[152],\n",
       "        [344],\n",
       "        [536],\n",
       "        [728]])\n",
       "y_scatter: tensor([[ 364],\n",
       "        [1260]])\n",
       "y_end: tensor([[ 140],\n",
       "        [ 364],\n",
       "        [ 588],\n",
       "        [ 812],\n",
       "        [1036],\n",
       "        [1260],\n",
       "        [1484],\n",
       "        [1708]])\n"
      ]
     },
     "metadata": {},
     "output_type": "display_data"
    },
    {
     "data": {
      "text/plain": [
       "[stdout:1] A_local: tensor([[ 1,  3,  5,  7],\n",
       "        [17, 19, 21, 23],\n",
       "        [33, 35, 37, 39],\n",
       "        [49, 51, 53, 55]])\n",
       "x_local: tensor([[1],\n",
       "        [5]])\n",
       "x_gather_col: tensor([[1],\n",
       "        [3],\n",
       "        [5],\n",
       "        [7]])\n",
       "y_local: tensor([[ 84],\n",
       "        [340],\n",
       "        [596],\n",
       "        [852]])\n",
       "y_scatter: tensor([[ 588],\n",
       "        [1484]])\n",
       "y_end: tensor([[ 140],\n",
       "        [ 364],\n",
       "        [ 588],\n",
       "        [ 812],\n",
       "        [1036],\n",
       "        [1260],\n",
       "        [1484],\n",
       "        [1708]])\n"
      ]
     },
     "metadata": {},
     "output_type": "display_data"
    },
    {
     "data": {
      "text/plain": [
       "[stdout:3] A_local: tensor([[ 9, 11, 13, 15],\n",
       "        [25, 27, 29, 31],\n",
       "        [41, 43, 45, 47],\n",
       "        [57, 59, 61, 63]])\n",
       "x_local: tensor([[3],\n",
       "        [7]])\n",
       "x_gather_col: tensor([[1],\n",
       "        [3],\n",
       "        [5],\n",
       "        [7]])\n",
       "y_local: tensor([[212],\n",
       "        [468],\n",
       "        [724],\n",
       "        [980]])\n",
       "y_scatter: tensor([[ 812],\n",
       "        [1708]])\n",
       "y_end: tensor([[ 140],\n",
       "        [ 364],\n",
       "        [ 588],\n",
       "        [ 812],\n",
       "        [1036],\n",
       "        [1260],\n",
       "        [1484],\n",
       "        [1708]])\n"
      ]
     },
     "metadata": {},
     "output_type": "display_data"
    },
    {
     "data": {
      "text/plain": [
       "[stdout:0] A_local: tensor([[ 0,  2,  4,  6],\n",
       "        [16, 18, 20, 22],\n",
       "        [32, 34, 36, 38],\n",
       "        [48, 50, 52, 54]])\n",
       "x_local: tensor([[0],\n",
       "        [4]])\n",
       "x_gather_col: tensor([[0],\n",
       "        [2],\n",
       "        [4],\n",
       "        [6]])\n",
       "y_local: tensor([[ 56],\n",
       "        [248],\n",
       "        [440],\n",
       "        [632]])\n",
       "y_scatter: tensor([[ 140],\n",
       "        [1036]])\n",
       "y_end: tensor([[ 140],\n",
       "        [ 364],\n",
       "        [ 588],\n",
       "        [ 812],\n",
       "        [1036],\n",
       "        [1260],\n",
       "        [1484],\n",
       "        [1708]])\n"
      ]
     },
     "metadata": {},
     "output_type": "display_data"
    }
   ],
   "source": [
    "%%px\n",
    "A_g = torch.arange(64).reshape(8, 8)\n",
    "A_l = A_g[col_comm.Get_rank()::2, row_comm.Get_rank()::2].contiguous()\n",
    "print(\"A_local:\", A_l)\n",
    "\n",
    "x_g = torch.arange(8).reshape(8, 1)\n",
    "x_l = x_g[comm.Get_rank()::comm.Get_size(), :].contiguous()\n",
    "print(\"x_local:\", x_l)\n",
    "\n",
    "\n",
    "x_col = torch.zeros(4,1, dtype=torch.long)\n",
    "col_comm.Allgather((as_buffer(x_l), 2, MPI.LONG), (as_buffer(x_col), 2, MPI.LONG))\n",
    "x_col = x_col.reshape(2,2).T.reshape(4,1).contiguous()\n",
    "print(\"x_gather_col:\", x_col)\n",
    "\n",
    "y_l = A_l @ x_col\n",
    "print(\"y_local:\", y_l)\n",
    "\n",
    "y_l = y_l.reshape(2,2).T.reshape(4,1).contiguous()\n",
    "y_scatter = torch.zeros(2, 1, dtype=torch.long)\n",
    "row_comm.Reduce_scatter((as_buffer(y_l), 4, MPI.LONG), (as_buffer(y_scatter), 2, MPI.LONG), [2,2], MPI.SUM)\n",
    "print(\"y_scatter:\", y_scatter)\n",
    "\n",
    "y_end = torch.zeros(2,2,2, dtype=torch.long)\n",
    "comm.Allgather((as_buffer(y_scatter), 2, MPI.LONG), (as_buffer(y_end), 2, MPI.LONG))\n",
    "y_end = y_end.permute(2,1,0).reshape(8,1).contiguous()\n",
    "print(\"y_end:\", y_end)\n",
    "\n"
   ]
  },
  {
   "cell_type": "code",
   "execution_count": 8,
   "metadata": {},
   "outputs": [
    {
     "data": {
      "text/plain": [
       "[stdout:0] Expected: tensor([[ 140],\n",
       "        [ 364],\n",
       "        [ 588],\n",
       "        [ 812],\n",
       "        [1036],\n",
       "        [1260],\n",
       "        [1484],\n",
       "        [1708]])\n",
       "Actual: tensor([[ 140],\n",
       "        [ 364],\n",
       "        [ 588],\n",
       "        [ 812],\n",
       "        [1036],\n",
       "        [1260],\n",
       "        [1484],\n",
       "        [1708]])\n"
      ]
     },
     "metadata": {},
     "output_type": "display_data"
    },
    {
     "data": {
      "text/plain": [
       "\u001b[0;31mOut[0:7]: \u001b[0mTrue"
      ]
     },
     "metadata": {
      "after": null,
      "completed": null,
      "data": {},
      "engine_id": 0,
      "engine_uuid": "7ad5b6a9-33f732e8a4c084f23c0937a7",
      "error": null,
      "execute_input": "print(\"Expected:\", A_g @ x_g)\nprint(\"Actual:\", y_end)\ntorch.allclose(y_end, A_g @ x_g)\n",
      "execute_result": {
       "data": {
        "text/plain": "True"
       },
       "execution_count": 7,
       "metadata": {}
      },
      "follow": null,
      "msg_id": null,
      "outputs": [],
      "received": null,
      "started": null,
      "status": null,
      "stderr": "",
      "stdout": "Expected: tensor([[ 140],\n        [ 364],\n        [ 588],\n        [ 812],\n        [1036],\n        [1260],\n        [1484],\n        [1708]])\nActual: tensor([[ 140],\n        [ 364],\n        [ 588],\n        [ 812],\n        [1036],\n        [1260],\n        [1484],\n        [1708]])\n",
      "submitted": "2024-12-09T16:18:30.371596Z"
     },
     "output_type": "display_data"
    },
    {
     "data": {
      "text/plain": [
       "[stdout:3] Expected: tensor([[ 140],\n",
       "        [ 364],\n",
       "        [ 588],\n",
       "        [ 812],\n",
       "        [1036],\n",
       "        [1260],\n",
       "        [1484],\n",
       "        [1708]])\n",
       "Actual: tensor([[ 140],\n",
       "        [ 364],\n",
       "        [ 588],\n",
       "        [ 812],\n",
       "        [1036],\n",
       "        [1260],\n",
       "        [1484],\n",
       "        [1708]])\n"
      ]
     },
     "metadata": {},
     "output_type": "display_data"
    },
    {
     "data": {
      "text/plain": [
       "[stdout:1] Expected: tensor([[ 140],\n",
       "        [ 364],\n",
       "        [ 588],\n",
       "        [ 812],\n",
       "        [1036],\n",
       "        [1260],\n",
       "        [1484],\n",
       "        [1708]])\n",
       "Actual: tensor([[ 140],\n",
       "        [ 364],\n",
       "        [ 588],\n",
       "        [ 812],\n",
       "        [1036],\n",
       "        [1260],\n",
       "        [1484],\n",
       "        [1708]])\n"
      ]
     },
     "metadata": {},
     "output_type": "display_data"
    },
    {
     "data": {
      "text/plain": [
       "[stdout:2] Expected: tensor([[ 140],\n",
       "        [ 364],\n",
       "        [ 588],\n",
       "        [ 812],\n",
       "        [1036],\n",
       "        [1260],\n",
       "        [1484],\n",
       "        [1708]])\n",
       "Actual: tensor([[ 140],\n",
       "        [ 364],\n",
       "        [ 588],\n",
       "        [ 812],\n",
       "        [1036],\n",
       "        [1260],\n",
       "        [1484],\n",
       "        [1708]])\n"
      ]
     },
     "metadata": {},
     "output_type": "display_data"
    },
    {
     "data": {
      "text/plain": [
       "\u001b[0;31mOut[3:7]: \u001b[0mTrue"
      ]
     },
     "metadata": {
      "after": [],
      "completed": "2024-12-09T16:18:30.406888Z",
      "data": {},
      "engine_id": 3,
      "engine_uuid": "f54bdb0e-4878e5726d51268f1990dd81",
      "error": null,
      "execute_input": "print(\"Expected:\", A_g @ x_g)\nprint(\"Actual:\", y_end)\ntorch.allclose(y_end, A_g @ x_g)\n",
      "execute_result": {
       "data": {
        "text/plain": "True"
       },
       "execution_count": 7,
       "metadata": {}
      },
      "follow": [],
      "is_broadcast": false,
      "is_coalescing": false,
      "msg_id": "11920433-b63e0f1c543eacb6c8c2f038_47964_28",
      "outputs": [],
      "received": "2024-12-09T16:18:30.409659Z",
      "started": "2024-12-09T16:18:30.381102Z",
      "status": "ok",
      "stderr": "",
      "stdout": "Expected: tensor([[ 140],\n        [ 364],\n        [ 588],\n        [ 812],\n        [1036],\n        [1260],\n        [1484],\n        [1708]])\nActual: tensor([[ 140],\n        [ 364],\n        [ 588],\n        [ 812],\n        [1036],\n        [1260],\n        [1484],\n        [1708]])\n",
      "submitted": "2024-12-09T16:18:30.372140Z"
     },
     "output_type": "display_data"
    },
    {
     "data": {
      "text/plain": [
       "\u001b[0;31mOut[1:7]: \u001b[0mTrue"
      ]
     },
     "metadata": {
      "after": [],
      "completed": "2024-12-09T16:18:30.407180Z",
      "data": {},
      "engine_id": 1,
      "engine_uuid": "1c7ae7c0-f4c0ba2efe2c4d20798691d4",
      "error": null,
      "execute_input": "print(\"Expected:\", A_g @ x_g)\nprint(\"Actual:\", y_end)\ntorch.allclose(y_end, A_g @ x_g)\n",
      "execute_result": {
       "data": {
        "text/plain": "True"
       },
       "execution_count": 7,
       "metadata": {}
      },
      "follow": [],
      "is_broadcast": false,
      "is_coalescing": false,
      "msg_id": "11920433-b63e0f1c543eacb6c8c2f038_47964_26",
      "outputs": [],
      "received": "2024-12-09T16:18:30.414977Z",
      "started": "2024-12-09T16:18:30.378607Z",
      "status": "ok",
      "stderr": "",
      "stdout": "Expected: tensor([[ 140],\n        [ 364],\n        [ 588],\n        [ 812],\n        [1036],\n        [1260],\n        [1484],\n        [1708]])\nActual: tensor([[ 140],\n        [ 364],\n        [ 588],\n        [ 812],\n        [1036],\n        [1260],\n        [1484],\n        [1708]])\n",
      "submitted": "2024-12-09T16:18:30.371688Z"
     },
     "output_type": "display_data"
    },
    {
     "data": {
      "text/plain": [
       "\u001b[0;31mOut[2:7]: \u001b[0mTrue"
      ]
     },
     "metadata": {
      "after": [],
      "completed": "2024-12-09T16:18:30.408739Z",
      "data": {},
      "engine_id": 2,
      "engine_uuid": "65143b67-fa1a434a2d9a8ed37dc37477",
      "error": null,
      "execute_input": "print(\"Expected:\", A_g @ x_g)\nprint(\"Actual:\", y_end)\ntorch.allclose(y_end, A_g @ x_g)\n",
      "execute_result": {
       "data": {
        "text/plain": "True"
       },
       "execution_count": 7,
       "metadata": {}
      },
      "follow": [],
      "is_broadcast": false,
      "is_coalescing": false,
      "msg_id": "11920433-b63e0f1c543eacb6c8c2f038_47964_27",
      "outputs": [],
      "received": "2024-12-09T16:18:30.413582Z",
      "started": "2024-12-09T16:18:30.379990Z",
      "status": "ok",
      "stderr": "",
      "stdout": "Expected: tensor([[ 140],\n        [ 364],\n        [ 588],\n        [ 812],\n        [1036],\n        [1260],\n        [1484],\n        [1708]])\nActual: tensor([[ 140],\n        [ 364],\n        [ 588],\n        [ 812],\n        [1036],\n        [1260],\n        [1484],\n        [1708]])\n",
      "submitted": "2024-12-09T16:18:30.371821Z"
     },
     "output_type": "display_data"
    }
   ],
   "source": [
    "%%px\n",
    "print(\"Expected:\", A_g @ x_g)\n",
    "print(\"Actual:\", y_end)\n",
    "torch.allclose(y_end, A_g @ x_g)"
   ]
  },
  {
   "cell_type": "markdown",
   "metadata": {},
   "source": [
    "### x = A.T * y"
   ]
  },
  {
   "cell_type": "code",
   "execution_count": 9,
   "metadata": {},
   "outputs": [
    {
     "data": {
      "text/plain": [
       "[stdout:3] A_local: tensor([[ 9, 11, 13, 15],\n",
       "        [25, 27, 29, 31],\n",
       "        [41, 43, 45, 47],\n",
       "        [57, 59, 61, 63]])\n",
       "y_local: tensor([[3],\n",
       "        [7]])\n",
       "y_gather_col: tensor([[1],\n",
       "        [3],\n",
       "        [5],\n",
       "        [7]])\n",
       "x_local: tensor([[688],\n",
       "        [720],\n",
       "        [752],\n",
       "        [784]])\n",
       "x_scatter: tensor([[1204],\n",
       "        [1316]])\n"
      ]
     },
     "metadata": {},
     "output_type": "display_data"
    },
    {
     "data": {
      "text/plain": [
       "[stdout:0] A_local: tensor([[ 0,  2,  4,  6],\n",
       "        [16, 18, 20, 22],\n",
       "        [32, 34, 36, 38],\n",
       "        [48, 50, 52, 54]])\n",
       "y_local: tensor([[0],\n",
       "        [4]])\n",
       "y_gather_col: tensor([[0],\n",
       "        [2],\n",
       "        [4],\n",
       "        [6]])\n",
       "x_local: tensor([[448],\n",
       "        [472],\n",
       "        [496],\n",
       "        [520]])\n",
       "x_scatter: tensor([[1120],\n",
       "        [1232]])\n"
      ]
     },
     "metadata": {},
     "output_type": "display_data"
    },
    {
     "data": {
      "text/plain": [
       "[stdout:1] A_local: tensor([[ 1,  3,  5,  7],\n",
       "        [17, 19, 21, 23],\n",
       "        [33, 35, 37, 39],\n",
       "        [49, 51, 53, 55]])\n",
       "y_local: tensor([[2],\n",
       "        [6]])\n",
       "y_gather_col: tensor([[0],\n",
       "        [2],\n",
       "        [4],\n",
       "        [6]])\n",
       "x_local: tensor([[460],\n",
       "        [484],\n",
       "        [508],\n",
       "        [532]])\n",
       "x_scatter: tensor([[1148],\n",
       "        [1260]])\n"
      ]
     },
     "metadata": {},
     "output_type": "display_data"
    },
    {
     "data": {
      "text/plain": [
       "[stdout:2] A_local: tensor([[ 8, 10, 12, 14],\n",
       "        [24, 26, 28, 30],\n",
       "        [40, 42, 44, 46],\n",
       "        [56, 58, 60, 62]])\n",
       "y_local: tensor([[1],\n",
       "        [5]])\n",
       "y_gather_col: tensor([[1],\n",
       "        [3],\n",
       "        [5],\n",
       "        [7]])\n",
       "x_local: tensor([[672],\n",
       "        [704],\n",
       "        [736],\n",
       "        [768]])\n",
       "x_scatter: tensor([[1176],\n",
       "        [1288]])\n"
      ]
     },
     "metadata": {},
     "output_type": "display_data"
    }
   ],
   "source": [
    "%%px\n",
    "A_g = torch.arange(64).reshape(8, 8)\n",
    "A_l = A_g[col_comm.Get_rank()::2, row_comm.Get_rank()::2].contiguous()\n",
    "print(\"A_local:\", A_l)\n",
    "\n",
    "y_g = torch.arange(8).reshape(8, 1)\n",
    "i = col_comm.Get_rank() + col_comm.Get_size() * row_comm.Get_rank()\n",
    "y_l = y_g[i::comm.Get_size(), :].contiguous()\n",
    "print(\"y_local:\", y_l)\n",
    "\n",
    "y_col = torch.zeros(4,1, dtype=torch.long)\n",
    "row_comm.Allgather((as_buffer(y_l), 2, MPI.LONG), (as_buffer(y_col), 2, MPI.LONG))\n",
    "y_col = y_col.reshape(2,2).T.reshape(4,1).contiguous()\n",
    "print(\"y_gather_col:\", y_col)\n",
    "\n",
    "x_l = A_l.T @ y_col\n",
    "print(\"x_local:\", x_l)\n",
    "\n",
    "x_l = x_l.reshape(2,2).T.reshape(4,1).contiguous()\n",
    "x_scatter = torch.zeros(2, 1, dtype=torch.long)\n",
    "col_comm.Reduce_scatter((as_buffer(x_l), 4, MPI.LONG), (as_buffer(x_scatter), 2, MPI.LONG), [2,2], MPI.SUM)\n",
    "print(\"x_scatter:\", x_scatter)\n"
   ]
  },
  {
   "cell_type": "code",
   "execution_count": 10,
   "metadata": {},
   "outputs": [
    {
     "data": {
      "text/plain": [
       "[stdout:0] expected: tensor([[1120],\n",
       "        [1148],\n",
       "        [1176],\n",
       "        [1204],\n",
       "        [1232],\n",
       "        [1260],\n",
       "        [1288],\n",
       "        [1316]])\n"
      ]
     },
     "metadata": {},
     "output_type": "display_data"
    },
    {
     "data": {
      "text/plain": [
       "[stdout:1] expected: tensor([[1120],\n",
       "        [1148],\n",
       "        [1176],\n",
       "        [1204],\n",
       "        [1232],\n",
       "        [1260],\n",
       "        [1288],\n",
       "        [1316]])\n"
      ]
     },
     "metadata": {},
     "output_type": "display_data"
    },
    {
     "data": {
      "text/plain": [
       "[stdout:2] expected: tensor([[1120],\n",
       "        [1148],\n",
       "        [1176],\n",
       "        [1204],\n",
       "        [1232],\n",
       "        [1260],\n",
       "        [1288],\n",
       "        [1316]])\n"
      ]
     },
     "metadata": {},
     "output_type": "display_data"
    },
    {
     "data": {
      "text/plain": [
       "[stdout:3] expected: tensor([[1120],\n",
       "        [1148],\n",
       "        [1176],\n",
       "        [1204],\n",
       "        [1232],\n",
       "        [1260],\n",
       "        [1288],\n",
       "        [1316]])\n"
      ]
     },
     "metadata": {},
     "output_type": "display_data"
    }
   ],
   "source": [
    "%%px\n",
    "print(\"expected:\", A_g.T @ y_g)"
   ]
  },
  {
   "cell_type": "markdown",
   "metadata": {},
   "source": [
    "### A := y * x.T + A"
   ]
  },
  {
   "cell_type": "code",
   "execution_count": 14,
   "metadata": {},
   "outputs": [
    {
     "data": {
      "text/plain": [
       "[stdout:3] A_local: tensor([[ 9, 11, 13, 15],\n",
       "        [25, 27, 29, 31],\n",
       "        [41, 43, 45, 47],\n",
       "        [57, 59, 61, 63]])\n",
       "x_local: tensor([[3],\n",
       "        [7]])\n",
       "y_local: tensor([[3],\n",
       "        [7]])\n",
       "x_gather_col: tensor([[1],\n",
       "        [3],\n",
       "        [5],\n",
       "        [7]])\n",
       "y_gather_col: tensor([[1],\n",
       "        [3],\n",
       "        [5],\n",
       "        [7]])\n",
       "Z_local: tensor([[ 10,  14,  18,  22],\n",
       "        [ 28,  36,  44,  52],\n",
       "        [ 46,  58,  70,  82],\n",
       "        [ 64,  80,  96, 112]])\n"
      ]
     },
     "metadata": {},
     "output_type": "display_data"
    },
    {
     "data": {
      "text/plain": [
       "[stdout:2] A_local: tensor([[ 8, 10, 12, 14],\n",
       "        [24, 26, 28, 30],\n",
       "        [40, 42, 44, 46],\n",
       "        [56, 58, 60, 62]])\n",
       "x_local: tensor([[2],\n",
       "        [6]])\n",
       "y_local: tensor([[1],\n",
       "        [5]])\n",
       "x_gather_col: tensor([[0],\n",
       "        [2],\n",
       "        [4],\n",
       "        [6]])\n",
       "y_gather_col: tensor([[1],\n",
       "        [3],\n",
       "        [5],\n",
       "        [7]])\n",
       "Z_local: tensor([[  8,  12,  16,  20],\n",
       "        [ 24,  32,  40,  48],\n",
       "        [ 40,  52,  64,  76],\n",
       "        [ 56,  72,  88, 104]])\n"
      ]
     },
     "metadata": {},
     "output_type": "display_data"
    },
    {
     "data": {
      "text/plain": [
       "[stdout:1] A_local: tensor([[ 1,  3,  5,  7],\n",
       "        [17, 19, 21, 23],\n",
       "        [33, 35, 37, 39],\n",
       "        [49, 51, 53, 55]])\n",
       "x_local: tensor([[1],\n",
       "        [5]])\n",
       "y_local: tensor([[2],\n",
       "        [6]])\n",
       "x_gather_col: tensor([[1],\n",
       "        [3],\n",
       "        [5],\n",
       "        [7]])\n",
       "y_gather_col: tensor([[0],\n",
       "        [2],\n",
       "        [4],\n",
       "        [6]])\n",
       "Z_local: tensor([[ 1,  3,  5,  7],\n",
       "        [19, 25, 31, 37],\n",
       "        [37, 47, 57, 67],\n",
       "        [55, 69, 83, 97]])\n"
      ]
     },
     "metadata": {},
     "output_type": "display_data"
    },
    {
     "data": {
      "text/plain": [
       "[stdout:0] A_local: tensor([[ 0,  2,  4,  6],\n",
       "        [16, 18, 20, 22],\n",
       "        [32, 34, 36, 38],\n",
       "        [48, 50, 52, 54]])\n",
       "x_local: tensor([[0],\n",
       "        [4]])\n",
       "y_local: tensor([[0],\n",
       "        [4]])\n",
       "x_gather_col: tensor([[0],\n",
       "        [2],\n",
       "        [4],\n",
       "        [6]])\n",
       "y_gather_col: tensor([[0],\n",
       "        [2],\n",
       "        [4],\n",
       "        [6]])\n",
       "Z_local: tensor([[ 0,  2,  4,  6],\n",
       "        [16, 22, 28, 34],\n",
       "        [32, 42, 52, 62],\n",
       "        [48, 62, 76, 90]])\n"
      ]
     },
     "metadata": {},
     "output_type": "display_data"
    }
   ],
   "source": [
    "%%px\n",
    "A_g = torch.arange(64).reshape(8, 8)\n",
    "A_l = A_g[col_comm.Get_rank()::2, row_comm.Get_rank()::2].contiguous()\n",
    "print(\"A_local:\", A_l)\n",
    "\n",
    "x_g = torch.arange(8).reshape(8, 1)\n",
    "x_l = x_g[comm.Get_rank()::comm.Get_size(), :].contiguous()\n",
    "print(\"x_local:\", x_l)\n",
    "\n",
    "y_g = torch.arange(8).reshape(8, 1)\n",
    "i = col_comm.Get_rank() + col_comm.Get_size() * row_comm.Get_rank()\n",
    "y_l = y_g[i::comm.Get_size(), :].contiguous()\n",
    "print(\"y_local:\", y_l)\n",
    "\n",
    "x_col = torch.zeros(4,1, dtype=torch.long)\n",
    "col_comm.Allgather((as_buffer(x_l), 2, MPI.LONG), (as_buffer(x_col), 2, MPI.LONG))\n",
    "x_col = x_col.reshape(2,2).T.reshape(4,1).contiguous()\n",
    "print(\"x_gather_col:\", x_col)\n",
    "\n",
    "y_col = torch.zeros(4,1, dtype=torch.long)\n",
    "row_comm.Allgather((as_buffer(y_l), 2, MPI.LONG), (as_buffer(y_col), 2, MPI.LONG))\n",
    "y_col = y_col.reshape(2,2).T.reshape(4,1).contiguous()\n",
    "print(\"y_gather_col:\", y_col)\n",
    "\n",
    "Z_l = y_col @ x_col.T + A_l\n",
    "print(\"Z_local:\", Z_l)\n",
    "\n",
    "\n"
   ]
  },
  {
   "cell_type": "code",
   "execution_count": 12,
   "metadata": {},
   "outputs": [
    {
     "data": {
      "text/plain": [
       "[stdout:3] Expected: tensor([[  0,   1,   2,   3,   4,   5,   6,   7],\n",
       "        [  8,  10,  12,  14,  16,  18,  20,  22],\n",
       "        [ 16,  19,  22,  25,  28,  31,  34,  37],\n",
       "        [ 24,  28,  32,  36,  40,  44,  48,  52],\n",
       "        [ 32,  37,  42,  47,  52,  57,  62,  67],\n",
       "        [ 40,  46,  52,  58,  64,  70,  76,  82],\n",
       "        [ 48,  55,  62,  69,  76,  83,  90,  97],\n",
       "        [ 56,  64,  72,  80,  88,  96, 104, 112]])\n"
      ]
     },
     "metadata": {},
     "output_type": "display_data"
    },
    {
     "data": {
      "text/plain": [
       "[stdout:0] Expected: tensor([[  0,   1,   2,   3,   4,   5,   6,   7],\n",
       "        [  8,  10,  12,  14,  16,  18,  20,  22],\n",
       "        [ 16,  19,  22,  25,  28,  31,  34,  37],\n",
       "        [ 24,  28,  32,  36,  40,  44,  48,  52],\n",
       "        [ 32,  37,  42,  47,  52,  57,  62,  67],\n",
       "        [ 40,  46,  52,  58,  64,  70,  76,  82],\n",
       "        [ 48,  55,  62,  69,  76,  83,  90,  97],\n",
       "        [ 56,  64,  72,  80,  88,  96, 104, 112]])\n"
      ]
     },
     "metadata": {},
     "output_type": "display_data"
    },
    {
     "data": {
      "text/plain": [
       "[stdout:1] Expected: tensor([[  0,   1,   2,   3,   4,   5,   6,   7],\n",
       "        [  8,  10,  12,  14,  16,  18,  20,  22],\n",
       "        [ 16,  19,  22,  25,  28,  31,  34,  37],\n",
       "        [ 24,  28,  32,  36,  40,  44,  48,  52],\n",
       "        [ 32,  37,  42,  47,  52,  57,  62,  67],\n",
       "        [ 40,  46,  52,  58,  64,  70,  76,  82],\n",
       "        [ 48,  55,  62,  69,  76,  83,  90,  97],\n",
       "        [ 56,  64,  72,  80,  88,  96, 104, 112]])\n"
      ]
     },
     "metadata": {},
     "output_type": "display_data"
    },
    {
     "data": {
      "text/plain": [
       "[stdout:2] Expected: tensor([[  0,   1,   2,   3,   4,   5,   6,   7],\n",
       "        [  8,  10,  12,  14,  16,  18,  20,  22],\n",
       "        [ 16,  19,  22,  25,  28,  31,  34,  37],\n",
       "        [ 24,  28,  32,  36,  40,  44,  48,  52],\n",
       "        [ 32,  37,  42,  47,  52,  57,  62,  67],\n",
       "        [ 40,  46,  52,  58,  64,  70,  76,  82],\n",
       "        [ 48,  55,  62,  69,  76,  83,  90,  97],\n",
       "        [ 56,  64,  72,  80,  88,  96, 104, 112]])\n"
      ]
     },
     "metadata": {},
     "output_type": "display_data"
    }
   ],
   "source": [
    "%%px\n",
    "print(f\"Expected: {y_g @ x_g.T + A_g}\")"
   ]
  },
  {
   "cell_type": "code",
   "execution_count": null,
   "metadata": {},
   "outputs": [],
   "source": []
  }
 ],
 "metadata": {
  "kernelspec": {
   "display_name": "tensorcraft",
   "language": "python",
   "name": "python3"
  },
  "language_info": {
   "codemirror_mode": {
    "name": "ipython",
    "version": 3
   },
   "file_extension": ".py",
   "mimetype": "text/x-python",
   "name": "python",
   "nbconvert_exporter": "python",
   "pygments_lexer": "ipython3",
   "version": "3.10.10"
  }
 },
 "nbformat": 4,
 "nbformat_minor": 2
}
