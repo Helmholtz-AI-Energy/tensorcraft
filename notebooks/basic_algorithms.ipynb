{
 "cells": [
  {
   "cell_type": "markdown",
   "metadata": {},
   "source": [
    "# 2D and 3D Matrix Multiplication\n",
    "## Setup\n",
    "### Installation\n",
    "```pip install ipyparallel```\n",
    "\n",
    "or \n",
    "\n",
    "```pip install -e .[notebook]```\n",
    "\n",
    "### Start cluster\n",
    "\n",
    "```ipcluster start -n 4 --engines=MPI --profile mpi```"
   ]
  },
  {
   "cell_type": "code",
   "execution_count": 1,
   "metadata": {},
   "outputs": [
    {
     "data": {
      "text/plain": [
       "4"
      ]
     },
     "execution_count": 1,
     "metadata": {},
     "output_type": "execute_result"
    }
   ],
   "source": [
    "import ipyparallel as ipp\n",
    "rc = ipp.Client(profile='mpi')\n",
    "rc.wait_for_engines(4)\n",
    "len(rc)"
   ]
  },
  {
   "cell_type": "code",
   "execution_count": 2,
   "metadata": {},
   "outputs": [
    {
     "data": {
      "application/vnd.jupyter.widget-view+json": {
       "model_id": "36ea5621edec4366ad6d232edea4a36c",
       "version_major": 2,
       "version_minor": 0
      },
      "text/plain": [
       "%px:   0%|          | 0/4 [00:00<?, ?tasks/s]"
      ]
     },
     "metadata": {},
     "output_type": "display_data"
    },
    {
     "data": {
      "text/plain": [
       "[stdout:2] Hello from rank 2!\n"
      ]
     },
     "metadata": {},
     "output_type": "display_data"
    },
    {
     "data": {
      "text/plain": [
       "[stdout:3] Hello from rank 3!\n"
      ]
     },
     "metadata": {},
     "output_type": "display_data"
    },
    {
     "data": {
      "text/plain": [
       "[stdout:0] Hello from rank 0!\n"
      ]
     },
     "metadata": {},
     "output_type": "display_data"
    },
    {
     "data": {
      "text/plain": [
       "[stdout:1] Hello from rank 1!\n"
      ]
     },
     "metadata": {},
     "output_type": "display_data"
    }
   ],
   "source": [
    "%%px\n",
    "import torch\n",
    "from mpi4py import MPI\n",
    "\n",
    "comm = MPI.COMM_WORLD\n",
    "rank = comm.Get_rank()\n",
    "print(f'Hello from rank {rank}!')"
   ]
  },
  {
   "cell_type": "code",
   "execution_count": 3,
   "metadata": {},
   "outputs": [
    {
     "data": {
      "text/plain": [
       "[stdout:3] Hello from rank 3! My coordinates are [1, 1]\n"
      ]
     },
     "metadata": {},
     "output_type": "display_data"
    },
    {
     "data": {
      "text/plain": [
       "[stdout:0] Hello from rank 0! My coordinates are [0, 0]\n"
      ]
     },
     "metadata": {},
     "output_type": "display_data"
    },
    {
     "data": {
      "text/plain": [
       "[stdout:1] Hello from rank 1! My coordinates are [0, 1]\n"
      ]
     },
     "metadata": {},
     "output_type": "display_data"
    },
    {
     "data": {
      "text/plain": [
       "[stdout:2] Hello from rank 2! My coordinates are [1, 0]\n"
      ]
     },
     "metadata": {},
     "output_type": "display_data"
    }
   ],
   "source": [
    "%%px\n",
    "cart_comm = comm.Create_cart(dims=[2, 2], periods=[True, True], reorder=True)\n",
    "print(f'Hello from rank {rank}! My coordinates are {cart_comm.Get_coords(rank)}')\n"
   ]
  },
  {
   "cell_type": "code",
   "execution_count": 4,
   "metadata": {},
   "outputs": [
    {
     "data": {
      "text/plain": [
       "[stdout:3] Topo: ([2, 2], [1, 1], [1, 1])\n"
      ]
     },
     "metadata": {},
     "output_type": "display_data"
    },
    {
     "data": {
      "text/plain": [
       "[stdout:0] Topo: ([2, 2], [1, 1], [0, 0])\n"
      ]
     },
     "metadata": {},
     "output_type": "display_data"
    },
    {
     "data": {
      "text/plain": [
       "[stdout:2] Topo: ([2, 2], [1, 1], [1, 0])\n"
      ]
     },
     "metadata": {},
     "output_type": "display_data"
    },
    {
     "data": {
      "text/plain": [
       "[stdout:1] Topo: ([2, 2], [1, 1], [0, 1])\n"
      ]
     },
     "metadata": {},
     "output_type": "display_data"
    }
   ],
   "source": [
    "%%px\n",
    "print(f\"Topo: {cart_comm.Get_topo()}\")"
   ]
  },
  {
   "cell_type": "code",
   "execution_count": 5,
   "metadata": {},
   "outputs": [
    {
     "data": {
      "text/plain": [
       "[stdout:1] Hello from rank 1! In my row, the ranks are [0, 1]\n",
       "Hello from rank 1! In my col, the ranks are [1, 3]\n"
      ]
     },
     "metadata": {},
     "output_type": "display_data"
    },
    {
     "data": {
      "text/plain": [
       "[stdout:3] Hello from rank 3! In my row, the ranks are [2, 3]\n",
       "Hello from rank 3! In my col, the ranks are [1, 3]\n"
      ]
     },
     "metadata": {},
     "output_type": "display_data"
    },
    {
     "data": {
      "text/plain": [
       "[stdout:2] Hello from rank 2! In my row, the ranks are [2, 3]\n",
       "Hello from rank 2! In my col, the ranks are [0, 2]\n"
      ]
     },
     "metadata": {},
     "output_type": "display_data"
    },
    {
     "data": {
      "text/plain": [
       "[stdout:0] Hello from rank 0! In my row, the ranks are [0, 1]\n",
       "Hello from rank 0! In my col, the ranks are [0, 2]\n"
      ]
     },
     "metadata": {},
     "output_type": "display_data"
    }
   ],
   "source": [
    "%%px\n",
    "row_comm = cart_comm.Sub([0,1])\n",
    "row_global_ranks = row_comm.allgather(rank)\n",
    "print(f'Hello from rank {rank}! In my row, the ranks are {row_global_ranks}')\n",
    "\n",
    "col_comm = cart_comm.Sub([1,0])\n",
    "col_global_ranks = col_comm.allgather(rank)\n",
    "print(f'Hello from rank {rank}! In my col, the ranks are {col_global_ranks}')\n"
   ]
  },
  {
   "cell_type": "code",
   "execution_count": 17,
   "metadata": {},
   "outputs": [],
   "source": [
    "%%px\n",
    "def as_buffer(x: torch.Tensor):\n",
    "    return MPI.buffer.fromaddress(x.untyped_storage().data_ptr(), 0)"
   ]
  },
  {
   "cell_type": "markdown",
   "metadata": {},
   "source": [
    "## Matrix Vector\n",
    "\n",
    "### y:= Ax"
   ]
  },
  {
   "cell_type": "code",
   "execution_count": 22,
   "metadata": {},
   "outputs": [
    {
     "data": {
      "text/plain": [
       "[stdout:2] A_local: tensor([[ 8, 10, 12, 14],\n",
       "        [24, 26, 28, 30],\n",
       "        [40, 42, 44, 46],\n",
       "        [56, 58, 60, 62]])\n",
       "x_local: tensor([[2],\n",
       "        [6]])\n",
       "x_gather_col: tensor([[0],\n",
       "        [2],\n",
       "        [4],\n",
       "        [6]])\n",
       "y_local: tensor([[152],\n",
       "        [344],\n",
       "        [536],\n",
       "        [728]])\n",
       "y_scatter: tensor([[ 364],\n",
       "        [1260]])\n",
       "y_end: tensor([[ 140],\n",
       "        [ 364],\n",
       "        [ 588],\n",
       "        [ 812],\n",
       "        [1036],\n",
       "        [1260],\n",
       "        [1484],\n",
       "        [1708]])\n"
      ]
     },
     "metadata": {},
     "output_type": "display_data"
    },
    {
     "data": {
      "text/plain": [
       "[stdout:3] A_local: tensor([[ 9, 11, 13, 15],\n",
       "        [25, 27, 29, 31],\n",
       "        [41, 43, 45, 47],\n",
       "        [57, 59, 61, 63]])\n",
       "x_local: tensor([[3],\n",
       "        [7]])\n",
       "x_gather_col: tensor([[1],\n",
       "        [3],\n",
       "        [5],\n",
       "        [7]])\n",
       "y_local: tensor([[212],\n",
       "        [468],\n",
       "        [724],\n",
       "        [980]])\n",
       "y_scatter: tensor([[ 812],\n",
       "        [1708]])\n",
       "y_end: tensor([[ 140],\n",
       "        [ 364],\n",
       "        [ 588],\n",
       "        [ 812],\n",
       "        [1036],\n",
       "        [1260],\n",
       "        [1484],\n",
       "        [1708]])\n"
      ]
     },
     "metadata": {},
     "output_type": "display_data"
    },
    {
     "data": {
      "text/plain": [
       "[stdout:1] A_local: tensor([[ 1,  3,  5,  7],\n",
       "        [17, 19, 21, 23],\n",
       "        [33, 35, 37, 39],\n",
       "        [49, 51, 53, 55]])\n",
       "x_local: tensor([[1],\n",
       "        [5]])\n",
       "x_gather_col: tensor([[1],\n",
       "        [3],\n",
       "        [5],\n",
       "        [7]])\n",
       "y_local: tensor([[ 84],\n",
       "        [340],\n",
       "        [596],\n",
       "        [852]])\n",
       "y_scatter: tensor([[ 588],\n",
       "        [1484]])\n",
       "y_end: tensor([[ 140],\n",
       "        [ 364],\n",
       "        [ 588],\n",
       "        [ 812],\n",
       "        [1036],\n",
       "        [1260],\n",
       "        [1484],\n",
       "        [1708]])\n"
      ]
     },
     "metadata": {},
     "output_type": "display_data"
    },
    {
     "data": {
      "text/plain": [
       "[stdout:0] A_local: tensor([[ 0,  2,  4,  6],\n",
       "        [16, 18, 20, 22],\n",
       "        [32, 34, 36, 38],\n",
       "        [48, 50, 52, 54]])\n",
       "x_local: tensor([[0],\n",
       "        [4]])\n",
       "x_gather_col: tensor([[0],\n",
       "        [2],\n",
       "        [4],\n",
       "        [6]])\n",
       "y_local: tensor([[ 56],\n",
       "        [248],\n",
       "        [440],\n",
       "        [632]])\n",
       "y_scatter: tensor([[ 140],\n",
       "        [1036]])\n",
       "y_end: tensor([[ 140],\n",
       "        [ 364],\n",
       "        [ 588],\n",
       "        [ 812],\n",
       "        [1036],\n",
       "        [1260],\n",
       "        [1484],\n",
       "        [1708]])\n"
      ]
     },
     "metadata": {},
     "output_type": "display_data"
    }
   ],
   "source": [
    "%%px\n",
    "A_g = torch.arange(64).reshape(8, 8)\n",
    "A_l = A_g[col_comm.Get_rank()::2, row_comm.Get_rank()::2].contiguous()\n",
    "print(\"A_local:\", A_l)\n",
    "\n",
    "x_g = torch.arange(8).reshape(8, 1)\n",
    "x_l = x_g[comm.Get_rank()::comm.Get_size(), :].contiguous()\n",
    "print(\"x_local:\", x_l)\n",
    "\n",
    "\n",
    "x_col = torch.zeros(4,1, dtype=torch.long)\n",
    "col_comm.Allgather((as_buffer(x_l), 2, MPI.LONG), (as_buffer(x_col), 2, MPI.LONG))\n",
    "x_col = x_col.reshape(2,2).T.reshape(4,1).contiguous()\n",
    "print(\"x_gather_col:\", x_col)\n",
    "\n",
    "y_l = A_l @ x_col\n",
    "print(\"y_local:\", y_l)\n",
    "\n",
    "y_l = y_l.reshape(2,2).T.reshape(4,1).contiguous()\n",
    "y_scatter = torch.zeros(2, 1, dtype=torch.long)\n",
    "row_comm.Reduce_scatter((as_buffer(y_l), 4, MPI.LONG), (as_buffer(y_scatter), 2, MPI.LONG), [2,2], MPI.SUM)\n",
    "print(\"y_scatter:\", y_scatter)\n",
    "\n",
    "y_end = torch.zeros(2,2,2, dtype=torch.long)\n",
    "comm.Allgather((as_buffer(y_scatter), 2, MPI.LONG), (as_buffer(y_end), 2, MPI.LONG))\n",
    "y_end = y_end.permute(2,1,0).reshape(8,1).contiguous()\n",
    "print(\"y_end:\", y_end)\n",
    "\n"
   ]
  },
  {
   "cell_type": "code",
   "execution_count": 23,
   "metadata": {},
   "outputs": [
    {
     "data": {
      "text/plain": [
       "[stdout:1] Expected: tensor([[ 140],\n",
       "        [ 364],\n",
       "        [ 588],\n",
       "        [ 812],\n",
       "        [1036],\n",
       "        [1260],\n",
       "        [1484],\n",
       "        [1708]])\n",
       "Actual: tensor([[ 140],\n",
       "        [ 364],\n",
       "        [ 588],\n",
       "        [ 812],\n",
       "        [1036],\n",
       "        [1260],\n",
       "        [1484],\n",
       "        [1708]])\n"
      ]
     },
     "metadata": {},
     "output_type": "display_data"
    },
    {
     "data": {
      "text/plain": [
       "[stdout:3] Expected: tensor([[ 140],\n",
       "        [ 364],\n",
       "        [ 588],\n",
       "        [ 812],\n",
       "        [1036],\n",
       "        [1260],\n",
       "        [1484],\n",
       "        [1708]])\n",
       "Actual: tensor([[ 140],\n",
       "        [ 364],\n",
       "        [ 588],\n",
       "        [ 812],\n",
       "        [1036],\n",
       "        [1260],\n",
       "        [1484],\n",
       "        [1708]])\n"
      ]
     },
     "metadata": {},
     "output_type": "display_data"
    },
    {
     "data": {
      "text/plain": [
       "[stdout:2] Expected: tensor([[ 140],\n",
       "        [ 364],\n",
       "        [ 588],\n",
       "        [ 812],\n",
       "        [1036],\n",
       "        [1260],\n",
       "        [1484],\n",
       "        [1708]])\n",
       "Actual: tensor([[ 140],\n",
       "        [ 364],\n",
       "        [ 588],\n",
       "        [ 812],\n",
       "        [1036],\n",
       "        [1260],\n",
       "        [1484],\n",
       "        [1708]])\n"
      ]
     },
     "metadata": {},
     "output_type": "display_data"
    },
    {
     "data": {
      "text/plain": [
       "\u001b[0;31mOut[3:22]: \u001b[0mTrue"
      ]
     },
     "metadata": {
      "after": null,
      "completed": null,
      "data": {},
      "engine_id": 3,
      "engine_uuid": "0e689df1-5459a859dbbe49afb63b28ec",
      "error": null,
      "execute_input": "print(\"Expected:\", A_g @ x_g)\nprint(\"Actual:\", y_end)\ntorch.allclose(y_end, A_g @ x_g)\n",
      "execute_result": {
       "data": {
        "text/plain": "True"
       },
       "execution_count": 22,
       "metadata": {}
      },
      "follow": null,
      "msg_id": null,
      "outputs": [],
      "received": null,
      "started": null,
      "status": null,
      "stderr": "",
      "stdout": "Expected: tensor([[ 140],\n        [ 364],\n        [ 588],\n        [ 812],\n        [1036],\n        [1260],\n        [1484],\n        [1708]])\nActual: tensor([[ 140],\n        [ 364],\n        [ 588],\n        [ 812],\n        [1036],\n        [1260],\n        [1484],\n        [1708]])\n",
      "submitted": "2024-12-06T14:57:28.680355Z"
     },
     "output_type": "display_data"
    },
    {
     "data": {
      "text/plain": [
       "\u001b[0;31mOut[2:22]: \u001b[0mTrue"
      ]
     },
     "metadata": {
      "after": [],
      "completed": "2024-12-06T14:57:28.700052Z",
      "data": {},
      "engine_id": 2,
      "engine_uuid": "f6b0f228-0589314b699379c9092fc26c",
      "error": null,
      "execute_input": "print(\"Expected:\", A_g @ x_g)\nprint(\"Actual:\", y_end)\ntorch.allclose(y_end, A_g @ x_g)\n",
      "execute_result": {
       "data": {
        "text/plain": "True"
       },
       "execution_count": 22,
       "metadata": {}
      },
      "follow": [],
      "is_broadcast": false,
      "is_coalescing": false,
      "msg_id": "4113694c-d00c407c727b5b170b5121dc_383897_87",
      "outputs": [],
      "received": "2024-12-06T14:57:28.704100Z",
      "started": "2024-12-06T14:57:28.687447Z",
      "status": "ok",
      "stderr": "",
      "stdout": "Expected: tensor([[ 140],\n        [ 364],\n        [ 588],\n        [ 812],\n        [1036],\n        [1260],\n        [1484],\n        [1708]])\nActual: tensor([[ 140],\n        [ 364],\n        [ 588],\n        [ 812],\n        [1036],\n        [1260],\n        [1484],\n        [1708]])\n",
      "submitted": "2024-12-06T14:57:28.680099Z"
     },
     "output_type": "display_data"
    },
    {
     "data": {
      "text/plain": [
       "[stdout:0] Expected: tensor([[ 140],\n",
       "        [ 364],\n",
       "        [ 588],\n",
       "        [ 812],\n",
       "        [1036],\n",
       "        [1260],\n",
       "        [1484],\n",
       "        [1708]])\n",
       "Actual: tensor([[ 140],\n",
       "        [ 364],\n",
       "        [ 588],\n",
       "        [ 812],\n",
       "        [1036],\n",
       "        [1260],\n",
       "        [1484],\n",
       "        [1708]])\n"
      ]
     },
     "metadata": {},
     "output_type": "display_data"
    },
    {
     "data": {
      "text/plain": [
       "\u001b[0;31mOut[1:22]: \u001b[0mTrue"
      ]
     },
     "metadata": {
      "after": null,
      "completed": null,
      "data": {},
      "engine_id": 1,
      "engine_uuid": "1a3bdee8-43fdf4934d6ca07d72a958f0",
      "error": null,
      "execute_input": "print(\"Expected:\", A_g @ x_g)\nprint(\"Actual:\", y_end)\ntorch.allclose(y_end, A_g @ x_g)\n",
      "execute_result": {
       "data": {
        "text/plain": "True"
       },
       "execution_count": 22,
       "metadata": {}
      },
      "follow": null,
      "msg_id": null,
      "outputs": [],
      "received": null,
      "started": null,
      "status": null,
      "stderr": "",
      "stdout": "Expected: tensor([[ 140],\n        [ 364],\n        [ 588],\n        [ 812],\n        [1036],\n        [1260],\n        [1484],\n        [1708]])\nActual: tensor([[ 140],\n        [ 364],\n        [ 588],\n        [ 812],\n        [1036],\n        [1260],\n        [1484],\n        [1708]])\n",
      "submitted": "2024-12-06T14:57:28.680031Z"
     },
     "output_type": "display_data"
    },
    {
     "data": {
      "text/plain": [
       "\u001b[0;31mOut[0:22]: \u001b[0mTrue"
      ]
     },
     "metadata": {
      "after": [],
      "completed": "2024-12-06T14:57:28.706323Z",
      "data": {},
      "engine_id": 0,
      "engine_uuid": "7ae8bd3c-54f5c22c0fe88f5986c18cc0",
      "error": null,
      "execute_input": "print(\"Expected:\", A_g @ x_g)\nprint(\"Actual:\", y_end)\ntorch.allclose(y_end, A_g @ x_g)\n",
      "execute_result": {
       "data": {
        "text/plain": "True"
       },
       "execution_count": 22,
       "metadata": {}
      },
      "follow": [],
      "is_broadcast": false,
      "is_coalescing": false,
      "msg_id": "4113694c-d00c407c727b5b170b5121dc_383897_85",
      "outputs": [],
      "received": "2024-12-06T14:57:28.713925Z",
      "started": "2024-12-06T14:57:28.686627Z",
      "status": "ok",
      "stderr": "",
      "stdout": "Expected: tensor([[ 140],\n        [ 364],\n        [ 588],\n        [ 812],\n        [1036],\n        [1260],\n        [1484],\n        [1708]])\nActual: tensor([[ 140],\n        [ 364],\n        [ 588],\n        [ 812],\n        [1036],\n        [1260],\n        [1484],\n        [1708]])\n",
      "submitted": "2024-12-06T14:57:28.679308Z"
     },
     "output_type": "display_data"
    }
   ],
   "source": [
    "%%px\n",
    "print(\"Expected:\", A_g @ x_g)\n",
    "print(\"Actual:\", y_end)\n",
    "torch.allclose(y_end, A_g @ x_g)"
   ]
  },
  {
   "cell_type": "markdown",
   "metadata": {},
   "source": [
    "### x = A.T * y"
   ]
  },
  {
   "cell_type": "code",
   "execution_count": 27,
   "metadata": {},
   "outputs": [
    {
     "data": {
      "text/plain": [
       "[stdout:2] A_local: tensor([[ 8, 10, 12, 14],\n",
       "        [24, 26, 28, 30],\n",
       "        [40, 42, 44, 46],\n",
       "        [56, 58, 60, 62]])\n",
       "y_local: tensor([[1],\n",
       "        [5]])\n",
       "y_gather_col: tensor([[1],\n",
       "        [3],\n",
       "        [5],\n",
       "        [7]])\n",
       "x_local: tensor([[672],\n",
       "        [704],\n",
       "        [736],\n",
       "        [768]])\n",
       "x_scatter: tensor([[1176],\n",
       "        [1288]])\n"
      ]
     },
     "metadata": {},
     "output_type": "display_data"
    },
    {
     "data": {
      "text/plain": [
       "[stdout:3] A_local: tensor([[ 9, 11, 13, 15],\n",
       "        [25, 27, 29, 31],\n",
       "        [41, 43, 45, 47],\n",
       "        [57, 59, 61, 63]])\n",
       "y_local: tensor([[3],\n",
       "        [7]])\n",
       "y_gather_col: tensor([[1],\n",
       "        [3],\n",
       "        [5],\n",
       "        [7]])\n",
       "x_local: tensor([[688],\n",
       "        [720],\n",
       "        [752],\n",
       "        [784]])\n",
       "x_scatter: tensor([[1204],\n",
       "        [1316]])\n"
      ]
     },
     "metadata": {},
     "output_type": "display_data"
    },
    {
     "data": {
      "text/plain": [
       "[stdout:1] A_local: tensor([[ 1,  3,  5,  7],\n",
       "        [17, 19, 21, 23],\n",
       "        [33, 35, 37, 39],\n",
       "        [49, 51, 53, 55]])\n",
       "y_local: tensor([[2],\n",
       "        [6]])\n",
       "y_gather_col: tensor([[0],\n",
       "        [2],\n",
       "        [4],\n",
       "        [6]])\n",
       "x_local: tensor([[460],\n",
       "        [484],\n",
       "        [508],\n",
       "        [532]])\n",
       "x_scatter: tensor([[1148],\n",
       "        [1260]])\n"
      ]
     },
     "metadata": {},
     "output_type": "display_data"
    },
    {
     "data": {
      "text/plain": [
       "[stdout:0] A_local: tensor([[ 0,  2,  4,  6],\n",
       "        [16, 18, 20, 22],\n",
       "        [32, 34, 36, 38],\n",
       "        [48, 50, 52, 54]])\n",
       "y_local: tensor([[0],\n",
       "        [4]])\n",
       "y_gather_col: tensor([[0],\n",
       "        [2],\n",
       "        [4],\n",
       "        [6]])\n",
       "x_local: tensor([[448],\n",
       "        [472],\n",
       "        [496],\n",
       "        [520]])\n",
       "x_scatter: tensor([[1120],\n",
       "        [1232]])\n"
      ]
     },
     "metadata": {},
     "output_type": "display_data"
    }
   ],
   "source": [
    "%%px\n",
    "A_g = torch.arange(64).reshape(8, 8)\n",
    "A_l = A_g[col_comm.Get_rank()::2, row_comm.Get_rank()::2].contiguous()\n",
    "print(\"A_local:\", A_l)\n",
    "\n",
    "y_g = torch.arange(8).reshape(8, 1)\n",
    "i = col_comm.Get_rank() + col_comm.Get_size() * row_comm.Get_rank()\n",
    "y_l = y_g[i::comm.Get_size(), :].contiguous()\n",
    "print(\"y_local:\", y_l)\n",
    "\n",
    "y_col = torch.zeros(4,1, dtype=torch.long)\n",
    "row_comm.Allgather((as_buffer(y_l), 2, MPI.LONG), (as_buffer(y_col), 2, MPI.LONG))\n",
    "y_col = y_col.reshape(2,2).T.reshape(4,1).contiguous()\n",
    "print(\"y_gather_col:\", y_col)\n",
    "\n",
    "x_l = A_l.T @ y_col\n",
    "print(\"x_local:\", x_l)\n",
    "\n",
    "x_l = x_l.reshape(2,2).T.reshape(4,1).contiguous()\n",
    "x_scatter = torch.zeros(2, 1, dtype=torch.long)\n",
    "col_comm.Reduce_scatter((as_buffer(x_l), 4, MPI.LONG), (as_buffer(x_scatter), 2, MPI.LONG), [2,2], MPI.SUM)\n",
    "print(\"x_scatter:\", x_scatter)\n"
   ]
  },
  {
   "cell_type": "code",
   "execution_count": 25,
   "metadata": {},
   "outputs": [
    {
     "data": {
      "text/plain": [
       "[stdout:1] expected: tensor([[1120],\n",
       "        [1148],\n",
       "        [1176],\n",
       "        [1204],\n",
       "        [1232],\n",
       "        [1260],\n",
       "        [1288],\n",
       "        [1316]])\n"
      ]
     },
     "metadata": {},
     "output_type": "display_data"
    },
    {
     "data": {
      "text/plain": [
       "[stdout:2] expected: tensor([[1120],\n",
       "        [1148],\n",
       "        [1176],\n",
       "        [1204],\n",
       "        [1232],\n",
       "        [1260],\n",
       "        [1288],\n",
       "        [1316]])\n"
      ]
     },
     "metadata": {},
     "output_type": "display_data"
    },
    {
     "data": {
      "text/plain": [
       "[stdout:0] expected: tensor([[1120],\n",
       "        [1148],\n",
       "        [1176],\n",
       "        [1204],\n",
       "        [1232],\n",
       "        [1260],\n",
       "        [1288],\n",
       "        [1316]])\n"
      ]
     },
     "metadata": {},
     "output_type": "display_data"
    },
    {
     "data": {
      "text/plain": [
       "[stdout:3] expected: tensor([[1120],\n",
       "        [1148],\n",
       "        [1176],\n",
       "        [1204],\n",
       "        [1232],\n",
       "        [1260],\n",
       "        [1288],\n",
       "        [1316]])\n"
      ]
     },
     "metadata": {},
     "output_type": "display_data"
    }
   ],
   "source": [
    "%%px\n",
    "print(\"expected:\", A_g.T @ y_g)"
   ]
  },
  {
   "cell_type": "code",
   "execution_count": null,
   "metadata": {},
   "outputs": [],
   "source": []
  }
 ],
 "metadata": {
  "kernelspec": {
   "display_name": "tensorcraft",
   "language": "python",
   "name": "python3"
  },
  "language_info": {
   "codemirror_mode": {
    "name": "ipython",
    "version": 3
   },
   "file_extension": ".py",
   "mimetype": "text/x-python",
   "name": "python",
   "nbconvert_exporter": "python",
   "pygments_lexer": "ipython3",
   "version": "3.10.10"
  }
 },
 "nbformat": 4,
 "nbformat_minor": 2
}
