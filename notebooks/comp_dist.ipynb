{
 "cells": [
  {
   "cell_type": "markdown",
   "metadata": {},
   "source": [
    "# Intro Op compatibility"
   ]
  },
  {
   "cell_type": "code",
   "execution_count": null,
   "metadata": {},
   "outputs": [
    {
     "name": "stdout",
     "output_type": "stream",
     "text": [
      "The autoreload extension is already loaded. To reload it, use:\n",
      "  %reload_ext autoreload\n"
     ]
    }
   ],
   "source": [
    "%load_ext autoreload\n",
    "%autoreload 2\n",
    "import matplotlib\n",
    "import matplotlib.pyplot as plt\n",
    "import torch\n",
    "\n",
    "import tensorcraft as tc\n",
    "import drawsvg as draw"
   ]
  },
  {
   "cell_type": "code",
   "execution_count": null,
   "metadata": {},
   "outputs": [],
   "source": [
    "TOL = 1e-7\n",
    "\n",
    "code = \"\"\"\n",
    "# Distance computation\n",
    "Dist[j,k] += (Samples[j,l] - Clusters[k,l]) ^ 2\n",
    "\n",
    "# Argmin\n",
    "Min[j] = 1000\n",
    "Labels[j] = -1\n",
    "Min[j] += ( Dist[j,k] < Min[j] ) * ( Dist[j,k] - Min[j] )\n",
    "Labels[j] += (Dist[j,k] == Min[j]) * (k - Labels[j])\n",
    "\n",
    "# # Cluster update\n",
    "Count[l] += (Labels[j] == l)\n",
    "Update[l,k] += Samples[j,k] * (Labels[j] == l)\n",
    "Update[l,k] = Update[l,k] / Count[l]\n",
    "\"\"\"\n",
    "kmeans_kernel = tc.compile(code)"
   ]
  },
  {
   "cell_type": "code",
   "execution_count": null,
   "metadata": {},
   "outputs": [
    {
     "ename": "AttributeError",
     "evalue": "module 'tensorcraft' has no attribute 'Tensor'",
     "output_type": "error",
     "traceback": [
      "\u001b[0;31m---------------------------------------------------------------------------\u001b[0m",
      "\u001b[0;31mAttributeError\u001b[0m                            Traceback (most recent call last)",
      "Cell \u001b[0;32mIn[6], line 5\u001b[0m\n\u001b[1;32m      1\u001b[0m d \u001b[38;5;241m=\u001b[39m draw\u001b[38;5;241m.\u001b[39mDrawing(\u001b[38;5;241m400\u001b[39m, \u001b[38;5;241m200\u001b[39m, origin\u001b[38;5;241m=\u001b[39m\u001b[38;5;124m'\u001b[39m\u001b[38;5;124mcenter\u001b[39m\u001b[38;5;124m'\u001b[39m)\n\u001b[1;32m      2\u001b[0m tc\u001b[38;5;241m.\u001b[39mviz\u001b[38;5;241m.\u001b[39mdraw_op(d,\n\u001b[1;32m      3\u001b[0m     kmeans_kernel\u001b[38;5;241m.\u001b[39mtensor_expressions,\n\u001b[1;32m      4\u001b[0m     tensor_shapes\u001b[38;5;241m=\u001b[39m{\n\u001b[0;32m----> 5\u001b[0m         \u001b[38;5;124m\"\u001b[39m\u001b[38;5;124mSamples\u001b[39m\u001b[38;5;124m\"\u001b[39m: \u001b[43mtc\u001b[49m\u001b[38;5;241;43m.\u001b[39;49m\u001b[43mTensor\u001b[49m([\u001b[38;5;241m50\u001b[39m, \u001b[38;5;241m10\u001b[39m]),\n\u001b[1;32m      6\u001b[0m         \u001b[38;5;124m\"\u001b[39m\u001b[38;5;124mClusters\u001b[39m\u001b[38;5;124m\"\u001b[39m: tc\u001b[38;5;241m.\u001b[39mTensor([\u001b[38;5;241m5\u001b[39m, \u001b[38;5;241m10\u001b[39m]),\n\u001b[1;32m      7\u001b[0m         \u001b[38;5;124m\"\u001b[39m\u001b[38;5;124mDist\u001b[39m\u001b[38;5;124m\"\u001b[39m: tc\u001b[38;5;241m.\u001b[39mTensor([\u001b[38;5;241m50\u001b[39m, \u001b[38;5;241m5\u001b[39m]),\n\u001b[1;32m      8\u001b[0m     },\n\u001b[1;32m      9\u001b[0m     mindex_highlight\u001b[38;5;241m=\u001b[39m(\u001b[38;5;241m2\u001b[39m,\u001b[38;5;241m2\u001b[39m)\n\u001b[1;32m     10\u001b[0m )\n",
      "\u001b[0;31mAttributeError\u001b[0m: module 'tensorcraft' has no attribute 'Tensor'"
     ]
    }
   ],
   "source": [
    "# d = draw.Drawing(400, 200, origin='center')\n",
    "# tc.viz.draw_op(d,\n",
    "#     kmeans_kernel.tensor_expressions,\n",
    "#     tensor_shapes={\n",
    "#         \"Samples\": torch.Size(50, 10),\n",
    "#         \"Clusters\": torch.Size(5, 10),\n",
    "#         \"Dist\": torch.Size(50, 5),\n",
    "#     },\n",
    "#     mindex_highlight=(2,2)\n",
    "# )"
   ]
  },
  {
   "cell_type": "code",
   "execution_count": null,
   "metadata": {},
   "outputs": [],
   "source": []
  }
 ],
 "metadata": {
  "kernelspec": {
   "display_name": "tensorcraft-dev-3.12",
   "language": "python",
   "name": "python3"
  },
  "language_info": {
   "codemirror_mode": {
    "name": "ipython",
    "version": 3
   },
   "file_extension": ".py",
   "mimetype": "text/x-python",
   "name": "python",
   "nbconvert_exporter": "python",
   "pygments_lexer": "ipython3",
   "version": "3.12.4"
  }
 },
 "nbformat": 4,
 "nbformat_minor": 2
}
