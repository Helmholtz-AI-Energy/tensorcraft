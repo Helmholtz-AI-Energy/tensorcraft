{
 "cells": [
  {
   "cell_type": "markdown",
   "metadata": {},
   "source": [
    "# Intro Op compatibility"
   ]
  },
  {
   "cell_type": "code",
   "execution_count": null,
   "metadata": {},
   "outputs": [],
   "source": [
    "%load_ext autoreload\n",
    "%autoreload 2\n",
    "import matplotlib\n",
    "import matplotlib.pyplot as plt\n",
    "import torch\n",
    "\n",
    "import tensorcraft as tc\n",
    "import drawsvg as draw"
   ]
  },
  {
   "cell_type": "code",
   "execution_count": null,
   "metadata": {},
   "outputs": [],
   "source": [
    "TOL = 1e-7\n",
    "\n",
    "code = \"\"\"\n",
    "# Distance computation\n",
    "Dist[j,k] += (Samples[j,l] - Clusters[k,l]) ^ 2\n",
    "\n",
    "# Argmin\n",
    "Min[j] = 1000\n",
    "Labels[j] = -1\n",
    "Min[j] += ( Dist[j,k] < Min[j] ) * ( Dist[j,k] - Min[j] )\n",
    "Labels[j] += (Dist[j,k] == Min[j]) * (k - Labels[j])\n",
    "\n",
    "# # Cluster update\n",
    "Count[l] += (Labels[j] == l)\n",
    "Update[l,k] += Samples[j,k] * (Labels[j] == l)\n",
    "Update[l,k] = Update[l,k] / Count[l]\n",
    "\"\"\"\n",
    "kmeans_kernel = tc.compile(code)"
   ]
  },
  {
   "cell_type": "code",
   "execution_count": null,
   "metadata": {},
   "outputs": [],
   "source": [
    "# d = draw.Drawing(400, 200, origin='center')\n",
    "# tc.viz.draw_op(d,\n",
    "#     kmeans_kernel.tensor_expressions,\n",
    "#     tensor_shapes={\n",
    "#         \"Samples\": torch.Size(50, 10),\n",
    "#         \"Clusters\": torch.Size(5, 10),\n",
    "#         \"Dist\": torch.Size(50, 5),\n",
    "#     },\n",
    "#     mindex_highlight=(2,2)\n",
    "# )"
   ]
  },
  {
   "cell_type": "code",
   "execution_count": null,
   "metadata": {},
   "outputs": [],
   "source": []
  }
 ],
 "metadata": {
  "kernelspec": {
   "display_name": "tensorcraft-dev311",
   "language": "python",
   "name": "python3"
  },
  "language_info": {
   "codemirror_mode": {
    "name": "ipython",
    "version": 3
   },
   "file_extension": ".py",
   "mimetype": "text/x-python",
   "name": "python",
   "nbconvert_exporter": "python",
   "pygments_lexer": "ipython3",
   "version": "3.11.2"
  }
 },
 "nbformat": 4,
 "nbformat_minor": 2
}
