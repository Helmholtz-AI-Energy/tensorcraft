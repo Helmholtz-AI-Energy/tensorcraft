{
 "cells": [
  {
   "cell_type": "code",
   "execution_count": 1,
   "metadata": {},
   "outputs": [],
   "source": [
    "import tensorcraft as tc\n",
    "import numpy as np\n",
    "import matplotlib.pyplot as plt\n"
   ]
  },
  {
   "cell_type": "code",
   "execution_count": 3,
   "metadata": {},
   "outputs": [
    {
     "data": {
      "text/plain": [
       "[Tree(Token('RULE', 'tensorexp'), [Tree(Token('RULE', 'tensor'), [Token('TENSORVAR', 'D'), Tree(Token('RULE', 'multiidxop'), [Tree(Token('RULE', 'multiidxop'), [Tree(Token('RULE', 'idxop'), [Tree(Token('RULE', 'idxproduct'), [Tree('indexvar', [Token('INDEXVAR', 'j')])])])]), Tree(Token('RULE', 'idxop'), [Tree(Token('RULE', 'idxproduct'), [Tree('indexvar', [Token('INDEXVAR', 'k')])])])])]), Tree(Token('RULE', 'tensorop'), [Tree('prod', [Tree(Token('RULE', 'tensorproduct'), [Tree(Token('RULE', 'operand'), [Tree('sub', [Tree(Token('RULE', 'tensorop'), [Tree(Token('RULE', 'tensorproduct'), [Tree(Token('RULE', 'operand'), [Tree(Token('RULE', 'signed_tensor'), [Tree(Token('RULE', 'tensor'), [Token('TENSORVAR', 'X'), Tree(Token('RULE', 'multiidxop'), [Tree(Token('RULE', 'multiidxop'), [Tree(Token('RULE', 'idxop'), [Tree(Token('RULE', 'idxproduct'), [Tree('indexvar', [Token('INDEXVAR', 'j')])])])]), Tree(Token('RULE', 'idxop'), [Tree(Token('RULE', 'idxproduct'), [Tree('indexvar', [Token('INDEXVAR', 'l')])])])])])])])])]), Tree(Token('RULE', 'tensorproduct'), [Tree(Token('RULE', 'operand'), [Tree(Token('RULE', 'signed_tensor'), [Tree(Token('RULE', 'tensor'), [Token('TENSORVAR', 'C'), Tree(Token('RULE', 'multiidxop'), [Tree(Token('RULE', 'multiidxop'), [Tree(Token('RULE', 'idxop'), [Tree(Token('RULE', 'idxproduct'), [Tree('indexvar', [Token('INDEXVAR', 'k')])])])]), Tree(Token('RULE', 'idxop'), [Tree(Token('RULE', 'idxproduct'), [Tree('indexvar', [Token('INDEXVAR', 'l')])])])])])])])])])])]), Tree(Token('RULE', 'operand'), [Tree('sub', [Tree(Token('RULE', 'tensorop'), [Tree(Token('RULE', 'tensorproduct'), [Tree(Token('RULE', 'operand'), [Tree(Token('RULE', 'signed_tensor'), [Tree(Token('RULE', 'tensor'), [Token('TENSORVAR', 'X'), Tree(Token('RULE', 'multiidxop'), [Tree(Token('RULE', 'multiidxop'), [Tree(Token('RULE', 'idxop'), [Tree(Token('RULE', 'idxproduct'), [Tree('indexvar', [Token('INDEXVAR', 'j')])])])]), Tree(Token('RULE', 'idxop'), [Tree(Token('RULE', 'idxproduct'), [Tree('indexvar', [Token('INDEXVAR', 'l')])])])])])])])])]), Tree(Token('RULE', 'tensorproduct'), [Tree(Token('RULE', 'operand'), [Tree(Token('RULE', 'signed_tensor'), [Tree(Token('RULE', 'tensor'), [Token('TENSORVAR', 'C'), Tree(Token('RULE', 'multiidxop'), [Tree(Token('RULE', 'multiidxop'), [Tree(Token('RULE', 'idxop'), [Tree(Token('RULE', 'idxproduct'), [Tree('indexvar', [Token('INDEXVAR', 'k')])])])]), Tree(Token('RULE', 'idxop'), [Tree(Token('RULE', 'idxproduct'), [Tree('indexvar', [Token('INDEXVAR', 'l')])])])])])])])])])])])])]),\n",
       " Tree(Token('RULE', 'tensorexp'), [Tree(Token('RULE', 'tensor'), [Token('TENSORVAR', 'M'), Tree(Token('RULE', 'multiidxop'), [Tree(Token('RULE', 'idxop'), [Tree(Token('RULE', 'idxproduct'), [Tree('indexvar', [Token('INDEXVAR', 'j')])])])])]), Tree(Token('RULE', 'tensorop'), [Tree(Token('RULE', 'tensorproduct'), [Tree(Token('RULE', 'operand'), [Token('SIGNED_NUMBER', '1000')])])])]),\n",
       " Tree(Token('RULE', 'tensorexp'), [Tree(Token('RULE', 'tensor'), [Token('TENSORVAR', 'M'), Tree(Token('RULE', 'multiidxop'), [Tree(Token('RULE', 'idxop'), [Tree(Token('RULE', 'idxproduct'), [Tree('indexvar', [Token('INDEXVAR', 'j')])])])])]), Tree(Token('RULE', 'tensorop'), [Tree('prod', [Tree(Token('RULE', 'tensorproduct'), [Tree(Token('RULE', 'operand'), [Tree(Token('RULE', 'tensorop'), [Tree('lt', [Tree(Token('RULE', 'tensorproduct'), [Tree(Token('RULE', 'operand'), [Tree(Token('RULE', 'signed_tensor'), [Tree(Token('RULE', 'tensor'), [Token('TENSORVAR', 'D'), Tree(Token('RULE', 'multiidxop'), [Tree(Token('RULE', 'multiidxop'), [Tree(Token('RULE', 'idxop'), [Tree(Token('RULE', 'idxproduct'), [Tree('indexvar', [Token('INDEXVAR', 'j')])])])]), Tree(Token('RULE', 'idxop'), [Tree(Token('RULE', 'idxproduct'), [Tree('indexvar', [Token('INDEXVAR', 'k')])])])])])])])]), Tree(Token('RULE', 'operand'), [Tree(Token('RULE', 'signed_tensor'), [Tree(Token('RULE', 'tensor'), [Token('TENSORVAR', 'M'), Tree(Token('RULE', 'multiidxop'), [Tree(Token('RULE', 'idxop'), [Tree(Token('RULE', 'idxproduct'), [Tree('indexvar', [Token('INDEXVAR', 'j')])])])])])])])])])])]), Tree(Token('RULE', 'operand'), [Tree('sub', [Tree(Token('RULE', 'tensorop'), [Tree(Token('RULE', 'tensorproduct'), [Tree(Token('RULE', 'operand'), [Tree(Token('RULE', 'signed_tensor'), [Tree(Token('RULE', 'tensor'), [Token('TENSORVAR', 'D'), Tree(Token('RULE', 'multiidxop'), [Tree(Token('RULE', 'multiidxop'), [Tree(Token('RULE', 'idxop'), [Tree(Token('RULE', 'idxproduct'), [Tree('indexvar', [Token('INDEXVAR', 'j')])])])]), Tree(Token('RULE', 'idxop'), [Tree(Token('RULE', 'idxproduct'), [Tree('indexvar', [Token('INDEXVAR', 'k')])])])])])])])])]), Tree(Token('RULE', 'tensorproduct'), [Tree(Token('RULE', 'operand'), [Tree(Token('RULE', 'signed_tensor'), [Tree(Token('RULE', 'tensor'), [Token('TENSORVAR', 'M'), Tree(Token('RULE', 'multiidxop'), [Tree(Token('RULE', 'idxop'), [Tree(Token('RULE', 'idxproduct'), [Tree('indexvar', [Token('INDEXVAR', 'j')])])])])])])])])])])])])]),\n",
       " Tree(Token('RULE', 'tensorexp'), [Tree(Token('RULE', 'tensor'), [Token('TENSORVAR', 'Y'), Tree(Token('RULE', 'multiidxop'), [Tree(Token('RULE', 'idxop'), [Tree(Token('RULE', 'idxproduct'), [Tree('indexvar', [Token('INDEXVAR', 'j')])])])])]), Tree(Token('RULE', 'tensorop'), [Tree('prod', [Tree(Token('RULE', 'tensorproduct'), [Tree(Token('RULE', 'operand'), [Tree(Token('RULE', 'tensorop'), [Tree('equal', [Tree(Token('RULE', 'tensorproduct'), [Tree(Token('RULE', 'operand'), [Tree(Token('RULE', 'signed_tensor'), [Tree(Token('RULE', 'tensor'), [Token('TENSORVAR', 'D'), Tree(Token('RULE', 'multiidxop'), [Tree(Token('RULE', 'multiidxop'), [Tree(Token('RULE', 'idxop'), [Tree(Token('RULE', 'idxproduct'), [Tree('indexvar', [Token('INDEXVAR', 'j')])])])]), Tree(Token('RULE', 'idxop'), [Tree(Token('RULE', 'idxproduct'), [Tree('indexvar', [Token('INDEXVAR', 'k')])])])])])])])]), Tree(Token('RULE', 'operand'), [Tree(Token('RULE', 'signed_tensor'), [Tree(Token('RULE', 'tensor'), [Token('TENSORVAR', 'M'), Tree(Token('RULE', 'multiidxop'), [Tree(Token('RULE', 'idxop'), [Tree(Token('RULE', 'idxproduct'), [Tree('indexvar', [Token('INDEXVAR', 'j')])])])])])])])])])])]), Tree(Token('RULE', 'operand'), [Tree('sub', [Tree(Token('RULE', 'tensorop'), [Tree(Token('RULE', 'tensorproduct'), [Tree(Token('RULE', 'operand'), [Tree(Token('RULE', 'signed_idxvar'), [Token('INDEXVAR', 'k')])])])]), Tree(Token('RULE', 'tensorproduct'), [Tree(Token('RULE', 'operand'), [Tree(Token('RULE', 'signed_tensor'), [Tree(Token('RULE', 'tensor'), [Token('TENSORVAR', 'Y'), Tree(Token('RULE', 'multiidxop'), [Tree(Token('RULE', 'idxop'), [Tree(Token('RULE', 'idxproduct'), [Tree('indexvar', [Token('INDEXVAR', 'j')])])])])])])])])])])])])]),\n",
       " Tree(Token('RULE', 'tensorexp'), [Tree(Token('RULE', 'tensor'), [Token('TENSORVAR', 'U'), Tree(Token('RULE', 'multiidxop'), [Tree(Token('RULE', 'multiidxop'), [Tree(Token('RULE', 'idxop'), [Tree(Token('RULE', 'idxproduct'), [Tree('indexvar', [Token('INDEXVAR', 'k')])])])]), Tree(Token('RULE', 'idxop'), [Tree(Token('RULE', 'idxproduct'), [Tree('indexvar', [Token('INDEXVAR', 'l')])])])])]), Tree(Token('RULE', 'tensorop'), [Tree(Token('RULE', 'tensorproduct'), [Tree(Token('RULE', 'operand'), [Token('SIGNED_NUMBER', '0')])])])]),\n",
       " Tree(Token('RULE', 'tensorexp'), [Tree(Token('RULE', 'tensor'), [Token('TENSORVAR', 'B'), Tree(Token('RULE', 'multiidxop'), [Tree(Token('RULE', 'idxop'), [Tree(Token('RULE', 'idxproduct'), [Tree('indexvar', [Token('INDEXVAR', 'l')])])])])]), Tree(Token('RULE', 'tensorop'), [Tree(Token('RULE', 'tensorproduct'), [Tree(Token('RULE', 'operand'), [Tree(Token('RULE', 'tensorop'), [Tree('equal', [Tree(Token('RULE', 'tensorproduct'), [Tree(Token('RULE', 'operand'), [Tree(Token('RULE', 'signed_tensor'), [Tree(Token('RULE', 'tensor'), [Token('TENSORVAR', 'Y'), Tree(Token('RULE', 'multiidxop'), [Tree(Token('RULE', 'idxop'), [Tree(Token('RULE', 'idxproduct'), [Tree('indexvar', [Token('INDEXVAR', 'j')])])])])])])])]), Tree(Token('RULE', 'operand'), [Tree(Token('RULE', 'signed_idxvar'), [Token('INDEXVAR', 'l')])])])])])])])]),\n",
       " Tree(Token('RULE', 'tensorexp'), [Tree(Token('RULE', 'tensor'), [Token('TENSORVAR', 'U'), Tree(Token('RULE', 'multiidxop'), [Tree(Token('RULE', 'multiidxop'), [Tree(Token('RULE', 'idxop'), [Tree(Token('RULE', 'idxproduct'), [Tree('indexvar', [Token('INDEXVAR', 'l')])])])]), Tree(Token('RULE', 'idxop'), [Tree(Token('RULE', 'idxproduct'), [Tree('indexvar', [Token('INDEXVAR', 'k')])])])])]), Tree(Token('RULE', 'tensorop'), [Tree('prod', [Tree(Token('RULE', 'tensorproduct'), [Tree(Token('RULE', 'operand'), [Tree(Token('RULE', 'signed_tensor'), [Tree(Token('RULE', 'tensor'), [Token('TENSORVAR', 'X'), Tree(Token('RULE', 'multiidxop'), [Tree(Token('RULE', 'multiidxop'), [Tree(Token('RULE', 'idxop'), [Tree(Token('RULE', 'idxproduct'), [Tree('indexvar', [Token('INDEXVAR', 'j')])])])]), Tree(Token('RULE', 'idxop'), [Tree(Token('RULE', 'idxproduct'), [Tree('indexvar', [Token('INDEXVAR', 'k')])])])])])])])]), Tree(Token('RULE', 'operand'), [Tree(Token('RULE', 'tensorop'), [Tree('equal', [Tree(Token('RULE', 'tensorproduct'), [Tree(Token('RULE', 'operand'), [Tree(Token('RULE', 'signed_tensor'), [Tree(Token('RULE', 'tensor'), [Token('TENSORVAR', 'Y'), Tree(Token('RULE', 'multiidxop'), [Tree(Token('RULE', 'idxop'), [Tree(Token('RULE', 'idxproduct'), [Tree('indexvar', [Token('INDEXVAR', 'j')])])])])])])])]), Tree(Token('RULE', 'operand'), [Tree(Token('RULE', 'signed_idxvar'), [Token('INDEXVAR', 'l')])])])])])])])]),\n",
       " Tree(Token('RULE', 'tensorexp'), [Tree(Token('RULE', 'tensor'), [Token('TENSORVAR', 'U'), Tree(Token('RULE', 'multiidxop'), [Tree(Token('RULE', 'multiidxop'), [Tree(Token('RULE', 'idxop'), [Tree(Token('RULE', 'idxproduct'), [Tree('indexvar', [Token('INDEXVAR', 'l')])])])]), Tree(Token('RULE', 'idxop'), [Tree(Token('RULE', 'idxproduct'), [Tree('indexvar', [Token('INDEXVAR', 'k')])])])])]), Tree(Token('RULE', 'tensorop'), [Tree('div', [Tree(Token('RULE', 'tensorproduct'), [Tree(Token('RULE', 'operand'), [Tree(Token('RULE', 'signed_tensor'), [Tree(Token('RULE', 'tensor'), [Token('TENSORVAR', 'U'), Tree(Token('RULE', 'multiidxop'), [Tree(Token('RULE', 'multiidxop'), [Tree(Token('RULE', 'idxop'), [Tree(Token('RULE', 'idxproduct'), [Tree('indexvar', [Token('INDEXVAR', 'l')])])])]), Tree(Token('RULE', 'idxop'), [Tree(Token('RULE', 'idxproduct'), [Tree('indexvar', [Token('INDEXVAR', 'k')])])])])])])])]), Tree(Token('RULE', 'operand'), [Tree(Token('RULE', 'signed_tensor'), [Tree(Token('RULE', 'tensor'), [Token('TENSORVAR', 'B'), Tree(Token('RULE', 'multiidxop'), [Tree(Token('RULE', 'idxop'), [Tree(Token('RULE', 'idxproduct'), [Tree('indexvar', [Token('INDEXVAR', 'l')])])])])])])])])])])]"
      ]
     },
     "execution_count": 3,
     "metadata": {},
     "output_type": "execute_result"
    }
   ],
   "source": [
    "tree = tc.compile(\"\"\"\n",
    "# Distance computation\n",
    "D[j,k] = (X[j,l] - C[k,l]) * (X[j,l] - C[k,l])\n",
    "\n",
    "# Argmin\n",
    "M[j] = 1000\n",
    "M[j] = (D[j,k] < M[j]) * (D[j,k] - M[j])\n",
    "Y[j] = (D[j,k] == M[j]) * (k - Y[j])\n",
    "\n",
    "# Cluster update\n",
    "U[k,l] = 0\n",
    "B[l] = (Y[j] == l)\n",
    "U[l,k] = X[j,k] * (Y[j] == l)\n",
    "U[l,k] = U[l,k] / B[l]\n",
    "\"\"\")\n",
    "\n",
    "tree.children"
   ]
  },
  {
   "cell_type": "code",
   "execution_count": null,
   "metadata": {},
   "outputs": [],
   "source": []
  }
 ],
 "metadata": {
  "kernelspec": {
   "display_name": "tensorcraft",
   "language": "python",
   "name": "python3"
  },
  "language_info": {
   "codemirror_mode": {
    "name": "ipython",
    "version": 3
   },
   "file_extension": ".py",
   "mimetype": "text/x-python",
   "name": "python",
   "nbconvert_exporter": "python",
   "pygments_lexer": "ipython3",
   "version": "3.10.10"
  }
 },
 "nbformat": 4,
 "nbformat_minor": 2
}
