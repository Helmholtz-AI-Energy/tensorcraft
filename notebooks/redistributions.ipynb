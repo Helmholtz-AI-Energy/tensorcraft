{
 "cells": [
  {
   "cell_type": "markdown",
   "metadata": {},
   "source": [
    "# Redistributions"
   ]
  },
  {
   "cell_type": "markdown",
   "metadata": {},
   "source": [
    "## Setup"
   ]
  },
  {
   "cell_type": "code",
   "execution_count": null,
   "metadata": {},
   "outputs": [],
   "source": [
    "%load_ext autoreload\n",
    "%autoreload 2\n",
    "import torch\n",
    "import tensorcraft as tc\n",
    "import matplotlib.pyplot as plt\n",
    "import logging\n",
    "log = logging.getLogger(\"tensorcraft\")\n",
    "log.setLevel(\"INFO\")"
   ]
  },
  {
   "cell_type": "markdown",
   "metadata": {},
   "source": [
    "## AllGather"
   ]
  },
  {
   "cell_type": "code",
   "execution_count": null,
   "metadata": {},
   "outputs": [],
   "source": [
    "tensor_shape = torch.Size([20, 20])\n",
    "mesh = torch.Size([3,2,2])\n",
    "dist = tc.dist.MultiAxisDist(mesh, ((0,1), (2,)), 2)\n",
    "print(dist)\n",
    "fig = plt.figure(layout='constrained')\n",
    "tc.viz.draw_processor_grid(fig, tensor_shape, dist)\n"
   ]
  },
  {
   "cell_type": "markdown",
   "metadata": {},
   "source": [
    "### all axis"
   ]
  },
  {
   "cell_type": "code",
   "execution_count": null,
   "metadata": {},
   "outputs": [],
   "source": [
    "new_dist, max_cost = dist.allGather(tensor_shape, gather_dim=None)\n",
    "print(new_dist)\n",
    "print(max_cost)\n",
    "\n",
    "fig = plt.figure(layout='constrained')\n",
    "tc.viz.draw_processor_grid(fig, tensor_shape, new_dist)"
   ]
  },
  {
   "cell_type": "markdown",
   "metadata": {},
   "source": [
    "### Mesh Axis 0"
   ]
  },
  {
   "cell_type": "code",
   "execution_count": null,
   "metadata": {},
   "outputs": [],
   "source": [
    "new_dist, max_cost = dist.allGather(tensor_shape, gather_dim=0)\n",
    "print(new_dist)\n",
    "print(max_cost)\n",
    "\n",
    "fig = plt.figure(layout='constrained')\n",
    "tc.viz.draw_processor_grid(fig, tensor_shape, new_dist)"
   ]
  },
  {
   "cell_type": "markdown",
   "metadata": {},
   "source": [
    "### Mesh Axis 1"
   ]
  },
  {
   "cell_type": "code",
   "execution_count": null,
   "metadata": {},
   "outputs": [
    {
     "data": {
      "image/png": "[encoded data removed]",
      "text/plain": [
       "<Figure size 640x480 with 12 Axes>"
      ]
     },
     "metadata": {},
     "output_type": "display_data"
    }
   ],
   "source": [
    "new_dist, max_cost = dist.allGather(tensor_shape, gather_dim=1)\n",
    "print(new_dist)\n",
    "print(max_cost)\n",
    "\n",
    "fig = plt.figure(layout='constrained')\n",
    "tc.viz.draw_processor_grid(fig, tensor_shape, new_dist)"
   ]
  },
  {
   "cell_type": "markdown",
   "metadata": {},
   "source": [
    "### Mesh Axis 2"
   ]
  },
  {
   "cell_type": "code",
   "execution_count": null,
   "metadata": {},
   "outputs": [
    {
     "name": "stdout",
     "output_type": "stream",
     "text": [
      "Mesh axis idx: 0\n",
      "Communication volume: 80\n",
      "MultiAxisDist(torch.Size([3, 2, 2]), ((0, 1), ()), [2, 2])\n",
      "tensor(40.)\n"
     ]
    }
   ],
   "source": [
    "new_dist, max_cost = dist.allGather(tensor_shape, gather_dim=2)\n",
    "print(new_dist)\n",
    "print(max_cost)\n",
    "\n",
    "fig = plt.figure(layout='constrained')\n",
    "tc.viz.draw_processor_grid(fig, tensor_shape, new_dist)"
   ]
  },
  {
   "cell_type": "markdown",
   "metadata": {},
   "source": [
    "## Split"
   ]
  },
  {
   "cell_type": "code",
   "execution_count": null,
   "metadata": {},
   "outputs": [],
   "source": [
    "tensor_shape = torch.Size([20, 20])\n",
    "mesh = torch.Size([2,2,2])\n",
    "dist = tc.dist.MultiAxisDist(mesh, ((), ()), 1)\n",
    "print(dist)\n",
    "fig = plt.figure(layout='constrained')\n",
    "tc.viz.draw_processor_grid(fig, tensor_shape, dist)"
   ]
  },
  {
   "cell_type": "code",
   "execution_count": null,
   "metadata": {},
   "outputs": [],
   "source": [
    "new_dist, cost = dist.split(tensor_shape, tensor_axis=0, mesh_dims=2, block_size=2)\n",
    "print(cost)\n",
    "fig = plt.figure(layout=\"constrained\")\n",
    "tc.viz.draw_processor_grid(fig, tensor_shape, new_dist)\n"
   ]
  },
  {
   "cell_type": "code",
   "execution_count": null,
   "metadata": {},
   "outputs": [],
   "source": [
    "new_new_dist, cost = new_dist.split(tensor_shape, tensor_axis=1, mesh_dims=(0,1), block_size=3)\n",
    "print(cost)\n",
    "fig = plt.figure(layout=\"constrained\")\n",
    "tc.viz.draw_processor_grid(fig, tensor_shape, new_new_dist)"
   ]
  },
  {
   "cell_type": "code",
   "execution_count": null,
   "metadata": {},
   "outputs": [],
   "source": [
    "new_new_dist, cost = new_dist.split(tensor_shape, tensor_axis=0, mesh_dims=(0,1), block_size=1)\n",
    "print(cost)\n",
    "print(new_new_dist)\n",
    "fig = plt.figure(layout=\"constrained\")\n",
    "tc.viz.draw_processor_grid(fig, tensor_shape, new_new_dist)"
   ]
  },
  {
   "cell_type": "markdown",
   "metadata": {},
   "source": [
    "## All2All"
   ]
  },
  {
   "cell_type": "code",
   "execution_count": null,
   "metadata": {},
   "outputs": [],
   "source": [
    "tensor_shape = torch.Size([20, 20])\n",
    "mesh = torch.Size([2,2,2])\n",
    "dist = tc.dist.MultiAxisDist(mesh, ((0,), ()), 10)\n",
    "print(dist)\n",
    "fig = plt.figure(layout='constrained')\n",
    "tc.viz.draw_processor_grid(fig, tensor_shape, dist)"
   ]
  },
  {
   "cell_type": "code",
   "execution_count": null,
   "metadata": {},
   "outputs": [],
   "source": [
    "new_dist, cost = dist.all2all(tensor_shape, 0, 1)\n",
    "print(new_dist)\n",
    "print(cost)\n",
    "fig = plt.figure(layout='constrained')\n",
    "tc.viz.draw_processor_grid(fig, tensor_shape, new_dist)"
   ]
  },
  {
   "cell_type": "code",
   "execution_count": null,
   "metadata": {},
   "outputs": [],
   "source": [
    "tensor_shape = torch.Size([6, 20])\n",
    "mesh = torch.Size([3,2,2])\n",
    "dist = tc.dist.MultiAxisDist(mesh, ((0,1), (2,)), (1,4))\n",
    "print(dist)\n",
    "fig = plt.figure(layout='constrained')\n",
    "tc.viz.draw_processor_grid(fig, tensor_shape, dist)"
   ]
  },
  {
   "cell_type": "code",
   "execution_count": null,
   "metadata": {},
   "outputs": [],
   "source": [
    "new_dist, cost = dist.all2all(tensor_shape, 0,1,minor=True)\n",
    "print(new_dist)\n",
    "print(cost)\n",
    "fig = plt.figure(layout='constrained')\n",
    "tc.viz.draw_processor_grid(fig, tensor_shape, new_dist)"
   ]
  },
  {
   "cell_type": "markdown",
   "metadata": {},
   "source": [
    "## Permute"
   ]
  },
  {
   "cell_type": "code",
   "execution_count": null,
   "metadata": {},
   "outputs": [],
   "source": [
    "tensor_shape = torch.Size([20, 20])\n",
    "mesh = torch.Size([3,3])\n",
    "dist = tc.dist.MultiAxisDist(mesh, ((0,1), ()), 2)\n",
    "print(dist)\n",
    "fig = plt.figure(layout='constrained')\n",
    "tc.viz.draw_processor_grid(fig, tensor_shape, dist)"
   ]
  },
  {
   "cell_type": "code",
   "execution_count": null,
   "metadata": {},
   "outputs": [],
   "source": [
    "new_dist, cost = dist.permute(tensor_shape, [0,1])\n",
    "print(new_dist)\n",
    "print(cost)\n",
    "fig = plt.figure(layout='constrained')\n",
    "tc.viz.draw_processor_grid(fig, tensor_shape, new_dist)"
   ]
  },
  {
   "cell_type": "code",
   "execution_count": null,
   "metadata": {},
   "outputs": [],
   "source": [
    "tensor_shape = torch.Size([20, 20])\n",
    "mesh = torch.Size([2,2])\n",
    "dist = tc.dist.MultiAxisDist(mesh, ((0,), ()), 1)\n",
    "print(dist)\n",
    "fig = plt.figure(layout='constrained')\n",
    "tc.viz.draw_processor_grid(fig, tensor_shape, dist)"
   ]
  },
  {
   "cell_type": "markdown",
   "metadata": {},
   "source": [
    "## Memory efficient redistributions example"
   ]
  },
  {
   "cell_type": "code",
   "execution_count": null,
   "metadata": {},
   "outputs": [],
   "source": [
    "tensor_shape = torch.Size([8, 8, 8, 4])\n",
    "mesh = torch.Size([4,2,4])\n",
    "dist = tc.dist.MultiAxisDist(mesh, ((0,1), (), (), ()), 1)\n",
    "print(dist)\n",
    "\n",
    "print(\"Option 1\")\n",
    "new_dist, cost = dist.all2all(tensor_shape, 0, 1, minor=True)\n",
    "print(f\"Step 0: all2all(0,1) - {new_dist}, Cost: {cost}\")\n",
    "new_dist, cost = new_dist.all2all(tensor_shape, 0, 2)\n",
    "print(f\"Step 1: all2all(0,2) - {new_dist}, Cost: {cost}\")\n",
    "\n",
    "print(\"Option 2\")\n",
    "new_dist, cost = dist.split(tensor_shape, 3, 2, 1)\n",
    "print(f\"Step 0: split(3,2)  {new_dist}, Cost: {cost}\")\n",
    "new_dist, cost = new_dist.all2all(tensor_shape, 0, 1, minor=True)\n",
    "print(f\"Step 1: all2all(0,1) - {new_dist}, Cost: {cost}\")\n",
    "new_dist, cost = new_dist.all2all(tensor_shape, 0, 2)\n",
    "print(f\"Step 2: all2all(0,2) - {new_dist}, Cost: {cost}\")\n",
    "new_dist, cost = new_dist.allGather(tensor_shape, 2)\n",
    "print(f\"Step 3: allgather(2)  {new_dist}, Cost: {cost}\")"
   ]
  },
  {
   "cell_type": "code",
   "execution_count": null,
   "metadata": {},
   "outputs": [],
   "source": []
  }
 ],
 "metadata": {
  "kernelspec": {
   "display_name": "tensorcraft",
   "language": "python",
   "name": "python3"
  },
  "language_info": {
   "codemirror_mode": {
    "name": "ipython",
    "version": 3
   },
   "file_extension": ".py",
   "mimetype": "text/x-python",
   "name": "python",
   "nbconvert_exporter": "python",
   "pygments_lexer": "ipython3",
   "version": "3.10.10"
  }
 },
 "nbformat": 4,
 "nbformat_minor": 2
}
