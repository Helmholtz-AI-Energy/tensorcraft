{
 "cells": [
  {
   "cell_type": "code",
   "execution_count": 1,
   "metadata": {},
   "outputs": [
    {
     "ename": "ImportError",
     "evalue": "cannot import name 'Tensor' from partially initialized module 'tensorcraft' (most likely due to a circular import) (/home/juanpedroghm/code/tensorcraft/tensorcraft/__init__.py)",
     "output_type": "error",
     "traceback": [
      "\u001b[0;31m---------------------------------------------------------------------------\u001b[0m",
      "\u001b[0;31mImportError\u001b[0m                               Traceback (most recent call last)",
      "Cell \u001b[0;32mIn[1], line 6\u001b[0m\n\u001b[1;32m      3\u001b[0m \u001b[38;5;28;01mimport\u001b[39;00m \u001b[38;5;21;01mmatplotlib\u001b[39;00m\n\u001b[1;32m      4\u001b[0m \u001b[38;5;28;01mimport\u001b[39;00m \u001b[38;5;21;01mmatplotlib\u001b[39;00m\u001b[38;5;21;01m.\u001b[39;00m\u001b[38;5;21;01mpyplot\u001b[39;00m \u001b[38;5;28;01mas\u001b[39;00m \u001b[38;5;21;01mplt\u001b[39;00m\n\u001b[0;32m----> 6\u001b[0m \u001b[38;5;28;01mfrom\u001b[39;00m \u001b[38;5;21;01mtensorcraft\u001b[39;00m \u001b[38;5;28;01mimport\u001b[39;00m DTensor\n\u001b[1;32m      7\u001b[0m \u001b[38;5;28;01mfrom\u001b[39;00m \u001b[38;5;21;01mtensorcraft\u001b[39;00m\u001b[38;5;21;01m.\u001b[39;00m\u001b[38;5;21;01mdistributions\u001b[39;00m \u001b[38;5;28;01mimport\u001b[39;00m MultiAxisDist, Dist, TileDist, SlabDist\n\u001b[1;32m      8\u001b[0m \u001b[38;5;28;01mfrom\u001b[39;00m \u001b[38;5;21;01mtensorcraft\u001b[39;00m\u001b[38;5;21;01m.\u001b[39;00m\u001b[38;5;21;01mviz\u001b[39;00m \u001b[38;5;28;01mimport\u001b[39;00m draw2DMesh, draw2DTensor, draw2DProcessorView, draw3DTensor, draw3DMesh, latex2figSize\n",
      "File \u001b[0;32m~/code/tensorcraft/tensorcraft/__init__.py:6\u001b[0m\n\u001b[1;32m      3\u001b[0m __version__ \u001b[38;5;241m=\u001b[39m \u001b[38;5;124m\"\u001b[39m\u001b[38;5;124m0.0.0\u001b[39m\u001b[38;5;124m\"\u001b[39m\n\u001b[1;32m      5\u001b[0m \u001b[38;5;66;03m# Import everything and put it into __all__\u001b[39;00m\n\u001b[0;32m----> 6\u001b[0m \u001b[38;5;28;01mimport\u001b[39;00m \u001b[38;5;21;01mtensorcraft\u001b[39;00m\u001b[38;5;21;01m.\u001b[39;00m\u001b[38;5;21;01mdistributions\u001b[39;00m \u001b[38;5;28;01mas\u001b[39;00m \u001b[38;5;21;01mdist\u001b[39;00m\n\u001b[1;32m      7\u001b[0m \u001b[38;5;28;01mfrom\u001b[39;00m \u001b[38;5;21;01mtensorcraft\u001b[39;00m\u001b[38;5;21;01m.\u001b[39;00m\u001b[38;5;21;01mtensor\u001b[39;00m \u001b[38;5;28;01mimport\u001b[39;00m Tensor, DTensor\n\u001b[1;32m      8\u001b[0m \u001b[38;5;28;01mfrom\u001b[39;00m \u001b[38;5;21;01mtensorcraft\u001b[39;00m \u001b[38;5;28;01mimport\u001b[39;00m compiler, logging, viz\n",
      "File \u001b[0;32m~/code/tensorcraft/tensorcraft/distributions/__init__.py:3\u001b[0m\n\u001b[1;32m      1\u001b[0m \u001b[38;5;124;03m\"\"\"Distribution module for TensorCraft.\"\"\"\u001b[39;00m\n\u001b[0;32m----> 3\u001b[0m \u001b[38;5;28;01mfrom\u001b[39;00m \u001b[38;5;21;01mtensorcraft\u001b[39;00m\u001b[38;5;21;01m.\u001b[39;00m\u001b[38;5;21;01mdistributions\u001b[39;00m\u001b[38;5;21;01m.\u001b[39;00m\u001b[38;5;21;01mdist\u001b[39;00m \u001b[38;5;28;01mimport\u001b[39;00m Dist\n\u001b[1;32m      4\u001b[0m \u001b[38;5;28;01mfrom\u001b[39;00m \u001b[38;5;21;01mtensorcraft\u001b[39;00m\u001b[38;5;21;01m.\u001b[39;00m\u001b[38;5;21;01mdistributions\u001b[39;00m\u001b[38;5;21;01m.\u001b[39;00m\u001b[38;5;21;01mmulti_axis\u001b[39;00m \u001b[38;5;28;01mimport\u001b[39;00m MultiAxisDist\n\u001b[1;32m      5\u001b[0m \u001b[38;5;28;01mfrom\u001b[39;00m \u001b[38;5;21;01mtensorcraft\u001b[39;00m\u001b[38;5;21;01m.\u001b[39;00m\u001b[38;5;21;01mdistributions\u001b[39;00m\u001b[38;5;21;01m.\u001b[39;00m\u001b[38;5;21;01mslab\u001b[39;00m \u001b[38;5;28;01mimport\u001b[39;00m SlabDist\n",
      "File \u001b[0;32m~/code/tensorcraft/tensorcraft/distributions/dist.py:8\u001b[0m\n\u001b[1;32m      5\u001b[0m \u001b[38;5;28;01mimport\u001b[39;00m \u001b[38;5;21;01mnumpy\u001b[39;00m \u001b[38;5;28;01mas\u001b[39;00m \u001b[38;5;21;01mnp\u001b[39;00m\n\u001b[1;32m      6\u001b[0m \u001b[38;5;28;01mimport\u001b[39;00m \u001b[38;5;21;01mnumpy\u001b[39;00m\u001b[38;5;21;01m.\u001b[39;00m\u001b[38;5;21;01mtyping\u001b[39;00m \u001b[38;5;28;01mas\u001b[39;00m \u001b[38;5;21;01mnpt\u001b[39;00m\n\u001b[0;32m----> 8\u001b[0m \u001b[38;5;28;01mfrom\u001b[39;00m \u001b[38;5;21;01mtensorcraft\u001b[39;00m \u001b[38;5;28;01mimport\u001b[39;00m Tensor, MIndex\n\u001b[1;32m     11\u001b[0m \u001b[38;5;28;01mclass\u001b[39;00m \u001b[38;5;21;01mDist\u001b[39;00m(ABC):\n\u001b[1;32m     12\u001b[0m \u001b[38;5;250m    \u001b[39m\u001b[38;5;124;03m\"\"\"Abstract base class for distributions.\"\"\"\u001b[39;00m\n",
      "\u001b[0;31mImportError\u001b[0m: cannot import name 'Tensor' from partially initialized module 'tensorcraft' (most likely due to a circular import) (/home/juanpedroghm/code/tensorcraft/tensorcraft/__init__.py)"
     ]
    }
   ],
   "source": [
    "%load_ext autoreload\n",
    "%autoreload 2\n",
    "import matplotlib\n",
    "import matplotlib.pyplot as plt\n",
    "\n",
    "from tensorcraft import DTensor\n",
    "from tensorcraft.distributions import MultiAxisDist, Dist, TileDist, SlabDist\n",
    "from tensorcraft.viz import draw2DMesh, draw2DTensor, draw2DProcessorView, draw3DTensor, draw3DMesh, latex2figSize\n",
    "\n",
    "matplotlib.rcParams[\"figure.dpi\"] = 200"
   ]
  },
  {
   "cell_type": "code",
   "execution_count": 2,
   "metadata": {},
   "outputs": [],
   "source": [
    "LATEX_WIDTH = 347.12354 # Doc\n",
    "# LATEX_WIDTH = 444.14774 # Doc\n",
    "\n",
    "figSize = latex2figSize(LATEX_WIDTH, fraction=1, ratio=1)\n",
    "fontsize = 10\n",
    "fontsize_small = 8\n",
    "\n",
    "matplotlib.rcParams.update({\n",
    "    \"figure.figsize\": figSize,\n",
    "    \"figure.dpi\": 100,\n",
    "    # \"figure.autolayout\": True,\n",
    "    \"text.usetex\": True,\n",
    "    \"font.family\": \"serif\",\n",
    "    \"font.size\": fontsize,  \n",
    "    \"axes.labelsize\": fontsize_small,\n",
    "    \"legend.fontsize\": fontsize_small,\n",
    "    \"xtick.labelsize\": fontsize_small,\n",
    "    \"ytick.labelsize\": fontsize_small,\n",
    "\n",
    "})\n"
   ]
  },
  {
   "cell_type": "code",
   "execution_count": null,
   "metadata": {},
   "outputs": [],
   "source": [
    "t = Tensor((3, 6))\n",
    "t.info()\n",
    "print(t.getLinearIndex((0, 4)))"
   ]
  },
  {
   "cell_type": "code",
   "execution_count": null,
   "metadata": {},
   "outputs": [],
   "source": [
    "import networkx as nx\n",
    "graph = nx.grid_graph(dim=(5,2))\n",
    "graph.nodes()"
   ]
  },
  {
   "cell_type": "code",
   "execution_count": null,
   "metadata": {},
   "outputs": [],
   "source": [
    "mesh = Tensor((2,3))\n",
    "fig = plt.figure()\n",
    "draw2DMesh(fig.add_subplot(111), mesh )"
   ]
  },
  {
   "cell_type": "code",
   "execution_count": null,
   "metadata": {},
   "outputs": [],
   "source": [
    "fig = plt.figure()\n",
    "mesh = Tensor((2,2,2))\n",
    "\n",
    "draw3DMesh(fig.add_subplot(111, projection=\"3d\"), mesh)"
   ]
  },
  {
   "cell_type": "code",
   "execution_count": null,
   "metadata": {},
   "outputs": [],
   "source": [
    "mesh = Tensor((4, 3))\n",
    "d = MultiAxisDist(mesh, (tuple(), (0,)), (3, 0))\n",
    "tensor = DTensor((15, 20), dist=d)\n",
    "\n",
    "processorArragement = tensor.processor_view\n",
    "subplot_x = processorArragement[0]\n",
    "subplot_y = (\n",
    "    processorArragement[1] if len(d.processorArrangement) > 1 else 1\n",
    ")\n",
    "\n",
    "fig = plt.figure(layout=\"constrained\")\n",
    "gs = fig.add_gridspec(nrows=subplot_x, ncols=subplot_y)\n",
    "axs = gs.subplots(\n",
    "    sharex=True,\n",
    "    sharey=True,\n",
    ")\n",
    "\n",
    "for p in range(d.numProcessors):\n",
    "\n",
    "    p_midx = d.getProcessorMultiIndex(p)\n",
    "    draw2DProcessorView(axs[p_midx[0], p_midx[1]], tensor, p)\n",
    "\n",
    "d.getIndexLocation(tensor, 0)"
   ]
  },
  {
   "cell_type": "code",
   "execution_count": null,
   "metadata": {},
   "outputs": [],
   "source": [
    "fig = plt.figure(layout=\"constrained\")\n",
    "d = MultiAxisDist(mesh, ((0,), (1,)), (2, 2))\n",
    "tensor = DTensor((10, 20), dist=d)\n",
    "draw2DTensor(fig.add_subplot(111), tensor)"
   ]
  },
  {
   "cell_type": "code",
   "execution_count": null,
   "metadata": {},
   "outputs": [],
   "source": [
    "fig = plt.figure()\n",
    "\n",
    "d = SlabDist(5, 0,0)\n",
    "tensor = DTensor((12, 20), dist=d)\n",
    "draw2DTensor(fig.add_subplot(111), tensor)"
   ]
  },
  {
   "cell_type": "code",
   "execution_count": null,
   "metadata": {},
   "outputs": [],
   "source": [
    "fig = plt.figure()\n",
    "d = TileDist(4, 5)\n",
    "tensor = DTensor((50, 50), dist=d)\n",
    "draw2DTensor(fig.add_subplot(111), tensor)"
   ]
  },
  {
   "cell_type": "code",
   "execution_count": null,
   "metadata": {},
   "outputs": [],
   "source": [
    "fig = plt.figure()\n",
    "dist = TileDist(8, 1)\n",
    "# dist = SlabDist(5, 0)\n",
    "tensor = DTensor((5, 5, 5), dist=dist)\n",
    "draw3DTensor(fig.add_subplot(111, projection=\"3d\"), tensor)"
   ]
  },
  {
   "cell_type": "code",
   "execution_count": null,
   "metadata": {},
   "outputs": [],
   "source": [
    "import networkx as nx\n",
    "mesh = Tensor((4,3))\n",
    "graph = nx.grid_2d_graph(*mesh.shape)\n",
    "graph"
   ]
  },
  {
   "cell_type": "code",
   "execution_count": null,
   "metadata": {},
   "outputs": [],
   "source": [
    "pos = nx.spring_layout(graph)\n",
    "pos"
   ]
  },
  {
   "cell_type": "code",
   "execution_count": null,
   "metadata": {},
   "outputs": [],
   "source": [
    "import numpy as np\n",
    "shape = (10, 15, 7)\n",
    "\n",
    "P = 4\n",
    "\n",
    "tile_dims = np.zeros((len(shape), P))\n",
    "\n",
    "for i in range(len(shape)):\n",
    "    chunk = shape[i] // P\n",
    "    remainder = shape[i] % P\n",
    "    tile_dims[i] = chunk\n",
    "    tile_dims[i][:remainder] += 1\n",
    "\n",
    "tile_ends = np.cumsum(tile_dims[0])\n",
    "print(tile_ends)\n",
    "np.where(7 < tile_ends)[0][0]"
   ]
  },
  {
   "cell_type": "code",
   "execution_count": null,
   "metadata": {},
   "outputs": [],
   "source": [
    "tile_dims"
   ]
  },
  {
   "cell_type": "code",
   "execution_count": null,
   "metadata": {},
   "outputs": [],
   "source": []
  }
 ],
 "metadata": {
  "kernelspec": {
   "display_name": "tensor_dist_viz",
   "language": "python",
   "name": "python3"
  },
  "language_info": {
   "codemirror_mode": {
    "name": "ipython",
    "version": 3
   },
   "file_extension": ".py",
   "mimetype": "text/x-python",
   "name": "python",
   "nbconvert_exporter": "python",
   "pygments_lexer": "ipython3",
   "version": "3.10.10"
  }
 },
 "nbformat": 4,
 "nbformat_minor": 2
}
