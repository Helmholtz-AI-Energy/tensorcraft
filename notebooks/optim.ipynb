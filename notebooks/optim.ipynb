{
 "cells": [
  {
   "cell_type": "markdown",
   "metadata": {},
   "source": [
    "# Optim Bottom-Up"
   ]
  },
  {
   "cell_type": "markdown",
   "metadata": {},
   "source": [
    "## Setup\n"
   ]
  },
  {
   "cell_type": "code",
   "execution_count": null,
   "metadata": {},
   "outputs": [
    {
     "name": "stdout",
     "output_type": "stream",
     "text": [
      "19-02-2025 03:34:06 : INFO : compiler : __init__ -- Grammar file loaded successfully.\n",
      "19-02-2025 03:34:06 : INFO : compiler : __init__ -- Parser object created successfully.\n"
     ]
    }
   ],
   "source": [
    "%load_ext autoreload\n",
    "%autoreload 2\n",
    "from importlib import reload\n",
    "import logging\n",
    "reload(logging)\n",
    "\n",
    "import torch\n",
    "import matplotlib.pyplot as plt\n",
    "from pprint import pprint\n",
    "\n",
    "import tensorcraft as tc\n",
    "log = logging.getLogger(\"tensorcraft\")"
   ]
  },
  {
   "cell_type": "markdown",
   "metadata": {},
   "source": [
    "## Redistributors\n",
    "\n",
    "Given a tensor shape, a starting distribution and a target distribution, creates a sequence of collective ops to reach the target dist while optimizing for different metrics."
   ]
  },
  {
   "cell_type": "markdown",
   "metadata": {},
   "source": [
    "### Naive Gather Split\n",
    "\n",
    "Simplest redistributor. Just allgathers, then splits. Should be both communication and memory ineficient. "
   ]
  },
  {
   "cell_type": "code",
   "execution_count": null,
   "metadata": {},
   "outputs": [],
   "source": [
    "naive_rdist = tc.optim.NaiveGathererRedist(tc.optim.IdealLowerBoundsCM())"
   ]
  },
  {
   "cell_type": "code",
   "execution_count": null,
   "metadata": {},
   "outputs": [
    {
     "name": "stdout",
     "output_type": "stream",
     "text": [
      "MultiAxisDist(torch.Size([2, 4]), ((0,), ()), (10, 10))\n"
     ]
    },
    {
     "data": {
      "image/png": "[encoded data removed]",
      "text/plain": [
       "<Figure size 640x480 with 8 Axes>"
      ]
     },
     "metadata": {},
     "output_type": "display_data"
    }
   ],
   "source": [
    "tensor_shape = torch.Size((20,20))\n",
    "mesh = torch.Size((2,4))\n",
    "dist = tc.dist.MultiAxisDist(mesh, ((0,), ()), (10, 10))\n",
    "print(dist)\n",
    "fig = plt.figure(layout='constrained')\n",
    "tc.viz.draw_processor_grid(fig, tensor_shape, dist)\n"
   ]
  },
  {
   "cell_type": "code",
   "execution_count": null,
   "metadata": {},
   "outputs": [
    {
     "name": "stdout",
     "output_type": "stream",
     "text": [
      "19-02-2025 03:40:18 : INFO : naive_gatherer : redistribute -- Dist MultiAxisDist(torch.Size([2, 4]), ((), ()), (0, 0)), volume: 200.0, n_procs 2\n",
      "[('allgather',\n",
      "  (torch.Size([20, 20]),),\n",
      "  Cost(latency=1, bandwidth=200.0, computation=0, max_memory_delta=200.0)),\n",
      " ('split',\n",
      "  (torch.Size([20, 20]),),\n",
      "  Cost(latency=0, bandwidth=0, computation=0, max_memory_delta=-200.0))]\n",
      "Cost(latency=1, bandwidth=200.0, computation=0, max_memory_delta=200.0)\n"
     ]
    }
   ],
   "source": [
    "target_dist = tc.dist.MultiAxisDist(mesh, ((), (0,)), (10, 10))\n",
    "sequence, cost = naive_rdist.redistribute(tensor_shape, dist, target_dist)\n",
    "pprint(sequence)\n",
    "print(cost)"
   ]
  },
  {
   "cell_type": "code",
   "execution_count": null,
   "metadata": {},
   "outputs": [],
   "source": []
  }
 ],
 "metadata": {
  "kernelspec": {
   "display_name": "tensorcraft-dev-3.12",
   "language": "python",
   "name": "python3"
  },
  "language_info": {
   "codemirror_mode": {
    "name": "ipython",
    "version": 3
   },
   "file_extension": ".py",
   "mimetype": "text/x-python",
   "name": "python",
   "nbconvert_exporter": "python",
   "pygments_lexer": "ipython3",
   "version": "3.12.4"
  }
 },
 "nbformat": 4,
 "nbformat_minor": 2
}
