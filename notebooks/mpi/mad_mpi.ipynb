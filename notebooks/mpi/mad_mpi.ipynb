{
 "cells": [
  {
   "cell_type": "code",
   "execution_count": null,
   "id": "0",
   "metadata": {},
   "outputs": [],
   "source": [
    "%load_ext autoreload\n",
    "%autoreload 2\n",
    "import matplotlib\n",
    "import matplotlib.pyplot as plt\n",
    "import torch\n",
    "import logging\n",
    "\n",
    "import tensorcraft as tc\n",
    "\n",
    "\n",
    "log = logging.getLogger(\"tensorcraft\")\n",
    "log.setLevel(\"INFO\")"
   ]
  },
  {
   "cell_type": "code",
   "execution_count": null,
   "id": "1",
   "metadata": {},
   "outputs": [
    {
     "name": "stdout",
     "output_type": "stream",
     "text": [
      "10-04-2025 06:06:38 : INFO : <string> : apply -- R1: Processor multi index: torch.Size([0, 1])\n",
      "10-04-2025 06:06:38 : INFO : <string> : apply -- R1: Residues: [0, 1]\n",
      "10-04-2025 06:06:38 : INFO : <string> : apply -- R1: Padded tensor shape: torch.Size([20, 6])\n",
      "10-04-2025 06:06:38 : INFO : <string> : apply -- R1: Permute tuple: (0, 2, 1, 3)\n",
      "10-04-2025 06:06:38 : INFO : <string> : apply -- R1: Reshape tuple: [1, 20, 3, 2]\n",
      "10-04-2025 06:06:38 : INFO : <string> : apply -- R1: Tile Slices: [slice(None, None, None), slice(tensor(0), None, 2)]\n",
      "10-04-2025 06:06:38 : INFO : <string> : apply -- R1: Local tensor shape: torch.Size([1, 2, 20, 2])\n",
      "10-04-2025 06:06:38 : INFO : <string> : apply -- R1: Target local tensor shape: [20, 4]\n",
      "10-04-2025 06:06:38 : INFO : <string> : apply -- R1: Linear processor index: 0, Residue: 1, Block size: 2, axis: 1\n",
      "10-04-2025 06:06:38 : INFO : <string> : apply -- R1: Shaved slices: [slice(None, None, None), slice(0, -1, None)]\n",
      "10-04-2025 06:06:38 : INFO : <string> : apply -- R1: Final local tensor shape: torch.Size([20, 3])\n",
      "tensor([[ 0,  1,  4],\n",
      "        [ 5,  6,  9],\n",
      "        [10, 11, 14],\n",
      "        [15, 16, 19],\n",
      "        [20, 21, 24],\n",
      "        [25, 26, 29],\n",
      "        [30, 31, 34],\n",
      "        [35, 36, 39],\n",
      "        [40, 41, 44],\n",
      "        [45, 46, 49],\n",
      "        [50, 51, 54],\n",
      "        [55, 56, 59],\n",
      "        [60, 61, 64],\n",
      "        [65, 66, 69],\n",
      "        [70, 71, 74],\n",
      "        [75, 76, 79],\n",
      "        [80, 81, 84],\n",
      "        [85, 86, 89],\n",
      "        [90, 91, 94],\n",
      "        [95, 96, 99]])\n"
     ]
    },
    {
     "data": {
      "image/png": "[encoded data removed]",
      "text/plain": [
       "<Figure size 640x480 with 5 Axes>"
      ]
     },
     "metadata": {},
     "output_type": "display_data"
    }
   ],
   "source": [
    "x = torch.arange(100).reshape(20, 5)\n",
    "\n",
    "mesh = torch.Size((2, 2))\n",
    "dist = tc.dist.MultiAxisDist(mesh, ((),(0,)), 2)\n",
    "\n",
    "\n",
    "tensor_shape = x.shape\n",
    "x_local = dist.apply(x, 1)\n",
    "print(x_local)\n",
    "\n",
    "fig = plt.figure(layout=\"constrained\")\n",
    "tc.viz.draw_processor_grid(fig, tensor_shape, dist, cbar=True)"
   ]
  },
  {
   "cell_type": "code",
   "execution_count": null,
   "id": "2",
   "metadata": {},
   "outputs": [],
   "source": []
  }
 ],
 "metadata": {
  "kernelspec": {
   "display_name": "tensorcraft-dev311",
   "language": "python",
   "name": "python3"
  },
  "language_info": {
   "codemirror_mode": {
    "name": "ipython",
    "version": 3
   },
   "file_extension": ".py",
   "mimetype": "text/x-python",
   "name": "python",
   "nbconvert_exporter": "python",
   "pygments_lexer": "ipython3",
   "version": "3.11.2"
  }
 },
 "nbformat": 4,
 "nbformat_minor": 5
}
