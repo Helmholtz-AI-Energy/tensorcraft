{
 "cells": [
  {
   "cell_type": "markdown",
   "metadata": {},
   "source": [
    "# 2D and 3D Matrix Multiplication\n",
    "## Setup\n",
    "### Installation\n",
    "```pip install ipyparallel```\n",
    "\n",
    "or \n",
    "\n",
    "```pip install -e .[notebook]```\n",
    "\n",
    "### Start cluster\n",
    "\n",
    "```ipcluster start -n 4 --engines=MPI --profile mpi```"
   ]
  },
  {
   "cell_type": "code",
   "execution_count": null,
   "metadata": {},
   "outputs": [
    {
     "name": "stdout",
     "output_type": "stream",
     "text": [
      "Waiting for connection file: ~/.ipython/profile_mpi/security/ipcontroller-client.json\n"
     ]
    },
    {
     "ename": "KeyboardInterrupt",
     "evalue": "",
     "output_type": "error",
     "traceback": [
      "\u001b[31m---------------------------------------------------------------------------\u001b[39m",
      "\u001b[31mKeyboardInterrupt\u001b[39m                         Traceback (most recent call last)",
      "\u001b[36mCell\u001b[39m\u001b[36m \u001b[39m\u001b[32mIn[1]\u001b[39m\u001b[32m, line 2\u001b[39m\n\u001b[32m      1\u001b[39m \u001b[38;5;28;01mimport\u001b[39;00m\u001b[38;5;250m \u001b[39m\u001b[34;01mipyparallel\u001b[39;00m\u001b[38;5;250m \u001b[39m\u001b[38;5;28;01mas\u001b[39;00m\u001b[38;5;250m \u001b[39m\u001b[34;01mipp\u001b[39;00m\n\u001b[32m----> \u001b[39m\u001b[32m2\u001b[39m rc = \u001b[43mipp\u001b[49m\u001b[43m.\u001b[49m\u001b[43mClient\u001b[49m\u001b[43m(\u001b[49m\u001b[43mprofile\u001b[49m\u001b[43m=\u001b[49m\u001b[33;43m'\u001b[39;49m\u001b[33;43mmpi\u001b[39;49m\u001b[33;43m'\u001b[39;49m\u001b[43m)\u001b[49m\n\u001b[32m      3\u001b[39m rc.wait_for_engines(\u001b[32m4\u001b[39m)\n\u001b[32m      4\u001b[39m \u001b[38;5;28mlen\u001b[39m(rc)\n",
      "\u001b[36mFile \u001b[39m\u001b[32m~/.venvs/tensorcraft-dev312/lib/python3.12/site-packages/ipyparallel/client/client.py:450\u001b[39m, in \u001b[36mClient.__init__\u001b[39m\u001b[34m(self, connection_info, url_file, profile, profile_dir, ipython_dir, context, debug, sshserver, sshkey, password, paramiko, timeout, cluster_id, cluster, **extra_args)\u001b[39m\n\u001b[32m    448\u001b[39m waiting_time = \u001b[32m0.0\u001b[39m\n\u001b[32m    449\u001b[39m \u001b[38;5;28;01mwhile\u001b[39;00m waiting_time < timeout:\n\u001b[32m--> \u001b[39m\u001b[32m450\u001b[39m     \u001b[43mtime\u001b[49m\u001b[43m.\u001b[49m\u001b[43msleep\u001b[49m\u001b[43m(\u001b[49m\u001b[38;5;28;43mmin\u001b[39;49m\u001b[43m(\u001b[49m\u001b[43mtimeout\u001b[49m\u001b[43m \u001b[49m\u001b[43m-\u001b[49m\u001b[43m \u001b[49m\u001b[43mwaiting_time\u001b[49m\u001b[43m,\u001b[49m\u001b[43m \u001b[49m\u001b[32;43m1\u001b[39;49m\u001b[43m)\u001b[49m\u001b[43m)\u001b[49m\n\u001b[32m    451\u001b[39m     waiting_time += \u001b[32m1\u001b[39m\n\u001b[32m    452\u001b[39m     \u001b[38;5;28;01mif\u001b[39;00m os.path.exists(connection_file):\n",
      "\u001b[31mKeyboardInterrupt\u001b[39m: "
     ]
    }
   ],
   "source": [
    "import ipyparallel as ipp\n",
    "rc = ipp.Client(profile='mpi')\n",
    "rc.wait_for_engines(4)\n",
    "len(rc)"
   ]
  },
  {
   "cell_type": "code",
   "execution_count": null,
   "metadata": {},
   "outputs": [],
   "source": [
    "%%px\n",
    "import torch\n",
    "from mpi4py import MPI\n",
    "\n",
    "comm = MPI.COMM_WORLD\n",
    "rank = comm.Get_rank()\n",
    "print(f'Hello from rank {rank}!')"
   ]
  },
  {
   "cell_type": "code",
   "execution_count": null,
   "metadata": {},
   "outputs": [],
   "source": [
    "%%px\n",
    "cart_comm = comm.Create_cart(dims=[2, 2], periods=[True, True], reorder=True)\n",
    "print(f'Hello from rank {rank}! My coordinates are {cart_comm.Get_coords(rank)}')\n"
   ]
  },
  {
   "cell_type": "code",
   "execution_count": null,
   "metadata": {},
   "outputs": [],
   "source": [
    "%%px\n",
    "print(f\"Topo: {cart_comm.Get_topo()}\")"
   ]
  },
  {
   "cell_type": "code",
   "execution_count": null,
   "metadata": {},
   "outputs": [],
   "source": [
    "%%px\n",
    "row_comm = cart_comm.Sub([0,1])\n",
    "row_global_ranks = row_comm.allgather(rank)\n",
    "print(f'Hello from rank {rank}! In my row, the ranks are {row_global_ranks}')\n",
    "\n",
    "col_comm = cart_comm.Sub([1,0])\n",
    "col_global_ranks = col_comm.allgather(rank)\n",
    "print(f'Hello from rank {rank}! In my col, the ranks are {col_global_ranks}')\n"
   ]
  },
  {
   "cell_type": "code",
   "execution_count": null,
   "metadata": {},
   "outputs": [],
   "source": [
    "%%px\n",
    "def as_buffer(x: torch.Tensor):\n",
    "    return MPI.buffer.fromaddress(x.untyped_storage().data_ptr(), 0)"
   ]
  },
  {
   "cell_type": "markdown",
   "metadata": {},
   "source": [
    "## Matrix Vector\n",
    "\n",
    "### y:= Ax"
   ]
  },
  {
   "cell_type": "code",
   "execution_count": null,
   "metadata": {},
   "outputs": [],
   "source": [
    "%%px\n",
    "A_g = torch.arange(64).reshape(8, 8)\n",
    "A_l = A_g[col_comm.Get_rank()::2, row_comm.Get_rank()::2].contiguous()\n",
    "print(\"A_local:\", A_l)\n",
    "\n",
    "x_g = torch.arange(8).reshape(8, 1)\n",
    "x_l = x_g[comm.Get_rank()::comm.Get_size(), :].contiguous()\n",
    "print(\"x_local:\", x_l)\n",
    "\n",
    "\n",
    "# x_col = torch.zeros(4,1, dtype=torch.long)\n",
    "# col_comm.Allgather((as_buffer(x_l), 2, MPI.LONG), (as_buffer(x_col), 2, MPI.LONG))\n",
    "# x_col = x_col.reshape(2,2).T.reshape(4,1).contiguous()\n",
    "# print(\"x_gather_col:\", x_col)\n",
    "\n",
    "x_col = torch.zeros(4,1, dtype=torch.long)\n",
    "data_type = MPI.LONG.Create_vector(2, 1, 2).Create_resized(MPI.LONG.Get_extent()[0], MPI.LONG.Get_extent()[1]).Commit()\n",
    "col_comm.Allgather((as_buffer(x_l), 2, MPI.LONG), (as_buffer(x_col), 1, data_type))\n",
    "print(\"x_gather_col:\", x_col)\n",
    "\n",
    "y_l = A_l @ x_col\n",
    "print(\"y_local:\", y_l)\n",
    "\n",
    "y_l = y_l.reshape(2,2).T.reshape(4,1).contiguous()\n",
    "y_scatter = torch.zeros(2, 1, dtype=torch.long)\n",
    "row_comm.Reduce_scatter((as_buffer(y_l), 4, MPI.LONG), (as_buffer(y_scatter), 2, MPI.LONG), [2,2], MPI.SUM)\n",
    "print(\"y_scatter:\", y_scatter)\n",
    "\n",
    "y_end = torch.zeros(2,2,2, dtype=torch.long)\n",
    "comm.Allgather((as_buffer(y_scatter), 2, MPI.LONG), (as_buffer(y_end), 2, MPI.LONG))\n",
    "y_end = y_end.permute(2,1,0).reshape(8,1).contiguous()\n",
    "print(\"y_end:\", y_end)\n",
    "\n"
   ]
  },
  {
   "cell_type": "code",
   "execution_count": null,
   "metadata": {},
   "outputs": [],
   "source": [
    "%%px\n",
    "print(\"Expected:\", A_g @ x_g)\n",
    "print(\"Actual:\", y_end)\n",
    "torch.allclose(y_end, A_g @ x_g)"
   ]
  },
  {
   "cell_type": "markdown",
   "metadata": {},
   "source": [
    "### x = A.T * y"
   ]
  },
  {
   "cell_type": "code",
   "execution_count": null,
   "metadata": {},
   "outputs": [],
   "source": [
    "%%px\n",
    "A_g = torch.arange(64).reshape(8, 8)\n",
    "A_l = A_g[col_comm.Get_rank()::2, row_comm.Get_rank()::2].contiguous()\n",
    "print(\"A_local:\", A_l)\n",
    "\n",
    "y_g = torch.arange(8).reshape(8, 1)\n",
    "i = col_comm.Get_rank() + col_comm.Get_size() * row_comm.Get_rank()\n",
    "y_l = y_g[i::comm.Get_size(), :].contiguous()\n",
    "print(\"y_local:\", y_l)\n",
    "\n",
    "y_col = torch.zeros(4,1, dtype=torch.long)\n",
    "row_comm.Allgather((as_buffer(y_l), 2, MPI.LONG), (as_buffer(y_col), 2, MPI.LONG))\n",
    "y_col = y_col.reshape(2,2).T.reshape(4,1).contiguous()\n",
    "print(\"y_gather_col:\", y_col)\n",
    "\n",
    "x_l = A_l.T @ y_col\n",
    "print(\"x_local:\", x_l)\n",
    "\n",
    "x_l = x_l.reshape(2,2).T.reshape(4,1).contiguous()\n",
    "x_scatter = torch.zeros(2, 1, dtype=torch.long)\n",
    "col_comm.Reduce_scatter((as_buffer(x_l), 4, MPI.LONG), (as_buffer(x_scatter), 2, MPI.LONG), [2,2], MPI.SUM)\n",
    "print(\"x_scatter:\", x_scatter)\n"
   ]
  },
  {
   "cell_type": "code",
   "execution_count": null,
   "metadata": {},
   "outputs": [],
   "source": [
    "%%px\n",
    "print(\"expected:\", A_g.T @ y_g)"
   ]
  },
  {
   "cell_type": "markdown",
   "metadata": {},
   "source": [
    "### A := y * x.T + A"
   ]
  },
  {
   "cell_type": "code",
   "execution_count": null,
   "metadata": {},
   "outputs": [],
   "source": [
    "%%px\n",
    "A_g = torch.arange(64).reshape(8, 8)\n",
    "A_l = A_g[col_comm.Get_rank()::2, row_comm.Get_rank()::2].contiguous()\n",
    "print(\"A_local:\", A_l)\n",
    "\n",
    "x_g = torch.arange(8).reshape(8, 1)\n",
    "x_l = x_g[comm.Get_rank()::comm.Get_size(), :].contiguous()\n",
    "print(\"x_local:\", x_l)\n",
    "\n",
    "y_g = torch.arange(8).reshape(8, 1)\n",
    "i = col_comm.Get_rank() + col_comm.Get_size() * row_comm.Get_rank()\n",
    "y_l = y_g[i::comm.Get_size(), :].contiguous()\n",
    "print(\"y_local:\", y_l)\n",
    "\n",
    "x_col = torch.zeros(4,1, dtype=torch.long)\n",
    "col_comm.Allgather((as_buffer(x_l), 2, MPI.LONG), (as_buffer(x_col), 2, MPI.LONG))\n",
    "x_col = x_col.reshape(2,2).T.reshape(4,1).contiguous()\n",
    "print(\"x_gather_col:\", x_col)\n",
    "\n",
    "y_col = torch.zeros(4,1, dtype=torch.long)\n",
    "row_comm.Allgather((as_buffer(y_l), 2, MPI.LONG), (as_buffer(y_col), 2, MPI.LONG))\n",
    "y_col = y_col.reshape(2,2).T.reshape(4,1).contiguous()\n",
    "print(\"y_gather_col:\", y_col)\n",
    "\n",
    "Z_l = y_col @ x_col.T + A_l\n",
    "print(\"Z_local:\", Z_l)\n",
    "\n",
    "\n"
   ]
  },
  {
   "cell_type": "code",
   "execution_count": null,
   "metadata": {},
   "outputs": [],
   "source": [
    "%%px\n",
    "print(f\"Expected: {y_g @ x_g.T + A_g}\")"
   ]
  },
  {
   "cell_type": "markdown",
   "metadata": {},
   "source": [
    "## Create_darray"
   ]
  },
  {
   "cell_type": "code",
   "execution_count": null,
   "metadata": {},
   "outputs": [
    {
     "name": "stderr",
     "output_type": "stream",
     "text": [
      "UsageError: Cell magic `%%px` not found.\n"
     ]
    }
   ],
   "source": [
    "%%px\n",
    "if comm.Get_rank() == 0:\n",
    "    A = torch.arange(64).reshape(8, 8)\n",
    "    print(A)\n",
    "    print(A.dtype)\n",
    "\n",
    "    darray_type = MPI.LONG.Create_darray(\n",
    "        4,                    # Size\n",
    "        1,                      # Rank\n",
    "        # 2,                      # number of array dimensions (as well as process grid dimensions)\n",
    "        [64,1],                 # size of the global array\n",
    "        [MPI.DISTRIBUTE_CYCLIC, MPI.DISTRIBUTE_NONE], # distribution type\n",
    "        [1, 1], # distribution argument\n",
    "        [4, 1],                 # size of the process grid\n",
    "        MPI.ORDER_C,            # array storage order\n",
    "    ).Commit()\n",
    "\n",
    "    # comm.Send(buf=[as_buffer(A), 8, MPI.LONG], dest=1)\n",
    "    comm.Send([as_buffer(A), 1, darray_type], dest=1, tag=55)\n",
    "\n",
    "    darray_type.Free() \n",
    "\n",
    "elif comm.Get_rank() == 1:\n",
    "    A = torch.zeros(4, 4, dtype=torch.int64)\n",
    "\n",
    "    # comm.Recv(buf=[as_buffer(A), 8, MPI.LONG], source=0)\n",
    "    comm.Recv([as_buffer(A), 16, MPI.LONG], source=0, tag=55)\n",
    "    print(A)\n",
    "\n"
   ]
  },
  {
   "cell_type": "markdown",
   "metadata": {},
   "source": [
    "## Large Item Count"
   ]
  },
  {
   "cell_type": "code",
   "execution_count": null,
   "metadata": {},
   "outputs": [],
   "source": [
    "%%px\n",
    "import tensorcraft as tc\n",
    "comm = MPI.COMM_WORLD\n",
    "## Let's find the maximum element count on my mpi implementation\n",
    "options = [torch.iinfo(torch.int32).max]\n",
    "\n",
    "for possible_max in options:\n",
    "    print(f\"Trying {possible_max}\")\n",
    "    if comm.Get_rank() == 0:\n",
    "        A = torch.ones(possible_max, dtype=torch.bool)\n",
    "        print(A.dtype)\n",
    "        print(A[:10])\n",
    "\n",
    "        print(f\"Sending {possible_max} elements, {possible_max / 10**9} Gb\")\n",
    "\n",
    "    else:\n",
    "        A = torch.zeros(possible_max, dtype=torch.bool)\n",
    "\n",
    "    comm.Bcast(buf=[tc.mpi4torch.as_buffer(A), possible_max, MPI.BOOL], root=0)\n",
    "\n",
    "    if comm.Get_rank() == 0:\n",
    "        print(\"Sent!\")\n",
    "    else:\n",
    "        print(\"Received!\")\n",
    "        print(A[:10])"
   ]
  },
  {
   "cell_type": "markdown",
   "metadata": {},
   "source": [
    "# Interweave allgather"
   ]
  },
  {
   "cell_type": "code",
   "execution_count": null,
   "metadata": {},
   "outputs": [
    {
     "data": {
      "text/plain": [
       "4"
      ]
     },
     "execution_count": null,
     "metadata": {},
     "output_type": "execute_result"
    }
   ],
   "source": [
    "import ipyparallel as ipp\n",
    "rc = ipp.Client(profile='mpi')\n",
    "rc.wait_for_engines(4)\n",
    "len(rc)"
   ]
  },
  {
   "cell_type": "code",
   "execution_count": null,
   "metadata": {},
   "outputs": [
    {
     "data": {
      "application/vnd.jupyter.widget-view+json": {
       "model_id": "f61f7b8a07cb42fe87276ba99ee45194",
       "version_major": 2,
       "version_minor": 0
      },
      "text/plain": [
       "%px:   0%|          | 0/4 [00:00<?, ?tasks/s]"
      ]
     },
     "metadata": {},
     "output_type": "display_data"
    },
    {
     "name": "stderr",
     "output_type": "stream",
     "text": [
      "Received Keyboard Interrupt. Sending signal SIGINT to engines...\n"
     ]
    },
    {
     "ename": "",
     "evalue": "",
     "output_type": "error",
     "traceback": [
      "\u001b[1;31mCannot execute code, session has been disposed. Please try restarting the Kernel."
     ]
    },
    {
     "ename": "",
     "evalue": "",
     "output_type": "error",
     "traceback": [
      "\u001b[1;31mCannot execute code, session has been disposed. Please try restarting the Kernel. \n",
      "\u001b[1;31mView Jupyter <a href='command:jupyter.viewOutput'>log</a> for further details."
     ]
    }
   ],
   "source": [
    "%%px\n",
    "import torch\n",
    "from mpi4py import MPI\n",
    "\n",
    "comm = MPI.COMM_WORLD\n",
    "rank = comm.Get_rank()\n",
    "print(f'Hello from rank {rank}!')"
   ]
  },
  {
   "cell_type": "code",
   "execution_count": null,
   "metadata": {},
   "outputs": [
    {
     "name": "stdout",
     "output_type": "stream",
     "text": [
      "%px:   0%|          | 0/4 [00:01<?, ?tasks/s]"
     ]
    },
    {
     "data": {
      "text/plain": [
       "[stdout:1] [2025-05-02 14:18:33,045][\u001b[1;36mtensorcraft.mpi.distributions.multi_axis_dist\u001b[0m][\u001b[1;35mapply\u001b[0m][\u001b[1;32mDEBUG\u001b[0m] - R1/4:\u001b[1;32mProcessor multi index: torch.Size([0, 1])\u001b[0m\n",
       "[2025-05-02 14:18:33,047][\u001b[1;36mtensorcraft.mpi.distributions.multi_axis_dist\u001b[0m][\u001b[1;35mapply\u001b[0m][\u001b[1;32mDEBUG\u001b[0m] - R1/4:\u001b[1;32mMissing elements: [0, 1, 0]\u001b[0m\n",
       "[2025-05-02 14:18:33,048][\u001b[1;36mtensorcraft.mpi.distributions.multi_axis_dist\u001b[0m][\u001b[1;35mapply\u001b[0m][\u001b[1;32mDEBUG\u001b[0m] - R1/4:\u001b[1;32mN blocks per axis: [1, 10, 1]\u001b[0m\n",
       "[2025-05-02 14:18:33,050][\u001b[1;36mtensorcraft.mpi.distributions.multi_axis_dist\u001b[0m][\u001b[1;35mapply\u001b[0m][\u001b[1;32mDEBUG\u001b[0m] - R1/4:\u001b[1;32mPadded tensor shape: torch.Size([2, 11, 2])\u001b[0m\n",
       "[2025-05-02 14:18:33,054][\u001b[1;36mtensorcraft.mpi.distributions.multi_axis_dist\u001b[0m][\u001b[1;35mapply\u001b[0m][\u001b[1;32mDEBUG\u001b[0m] - R1/4:\u001b[1;32mPermute tuple: (0, 2, 4, 1, 3, 5)\u001b[0m\n",
       "[2025-05-02 14:18:33,056][\u001b[1;36mtensorcraft.mpi.distributions.multi_axis_dist\u001b[0m][\u001b[1;35mapply\u001b[0m][\u001b[1;32mDEBUG\u001b[0m] - R1/4:\u001b[1;32mReshape tuple: [1, 2, 11, 1, 1, 2]\u001b[0m\n",
       "[2025-05-02 14:18:33,062][\u001b[1;36mtensorcraft.mpi.distributions.multi_axis_dist\u001b[0m][\u001b[1;35mapply\u001b[0m][\u001b[1;32mDEBUG\u001b[0m] - R1/4:\u001b[1;32mTile Slices: [slice(None, None, None), slice(None, None, None), slice(tensor(1), None, 4), slice(None, None, None), slice(None, None, None), slice(None, None, None)]\u001b[0m\n",
       "[2025-05-02 14:18:33,064][\u001b[1;36mtensorcraft.mpi.distributions.multi_axis_dist\u001b[0m][\u001b[1;35mapply\u001b[0m][\u001b[1;32mDEBUG\u001b[0m] - R1/4:\u001b[1;32mLocal tensor shape: torch.Size([1, 2, 3, 1, 1, 2])\u001b[0m\n",
       "[2025-05-02 14:18:33,066][\u001b[1;36mtensorcraft.mpi.distributions.multi_axis_dist\u001b[0m][\u001b[1;35mapply\u001b[0m][\u001b[1;32mDEBUG\u001b[0m] - R1/4:\u001b[1;32mTarget local tensor shape: [2, 3, 2]\u001b[0m\n",
       "[2025-05-02 14:18:33,069][\u001b[1;36mtensorcraft.mpi.distributions.multi_axis_dist\u001b[0m][\u001b[1;35mapply\u001b[0m][\u001b[1;32mDEBUG\u001b[0m] - R1/4:\u001b[1;32mtensor([[[ 2,  3],\n",
       "         [10, 11],\n",
       "         [18, 19]],\n",
       "\n",
       "        [[22, 23],\n",
       "         [30, 31],\n",
       "         [38, 39]]])\u001b[0m\n",
       "[2025-05-02 14:18:33,077][\u001b[1;36mtensorcraft.mpi.distributions.multi_axis_dist\u001b[0m][\u001b[1;35mapply\u001b[0m][\u001b[1;32mDEBUG\u001b[0m] - R1/4:\u001b[1;32mLinear processor index: 1, Residue: 1, Block size: 1, axis: 1, N procs: 4, N full blocks: 10\u001b[0m\n",
       "[2025-05-02 14:18:33,083][\u001b[1;36mtensorcraft.mpi.distributions.multi_axis_dist\u001b[0m][\u001b[1;35mapply\u001b[0m][\u001b[1;32mDEBUG\u001b[0m] - R1/4:\u001b[1;32mShaved slices: [slice(None, None, None), slice(None, None, None), slice(None, None, None)]\u001b[0m\n",
       "[2025-05-02 14:18:33,086][\u001b[1;36mtensorcraft.mpi.distributions.multi_axis_dist\u001b[0m][\u001b[1;35mapply\u001b[0m][\u001b[1;32mDEBUG\u001b[0m] - R1/4:\u001b[1;32mFinal local tensor shape: torch.Size([2, 3, 2])\u001b[0m\n",
       "tensor([[[ 2,  3],\n",
       "         [10, 11],\n",
       "         [18, 19]],\n",
       "\n",
       "        [[22, 23],\n",
       "         [30, 31],\n",
       "         [38, 39]]])\n",
       "torch.Size([2, 3, 2])\n",
       "torch.int64\n",
       "False\n"
      ]
     },
     "metadata": {},
     "output_type": "display_data"
    },
    {
     "data": {
      "text/plain": [
       "[stdout:3] [2025-05-02 14:18:33,106][\u001b[1;36mtensorcraft.mpi.distributions.multi_axis_dist\u001b[0m][\u001b[1;35mapply\u001b[0m][\u001b[1;32mDEBUG\u001b[0m] - R3/4:\u001b[1;32mProcessor multi index: torch.Size([1, 1])\u001b[0m\n",
       "[2025-05-02 14:18:33,108][\u001b[1;36mtensorcraft.mpi.distributions.multi_axis_dist\u001b[0m][\u001b[1;35mapply\u001b[0m][\u001b[1;32mDEBUG\u001b[0m] - R3/4:\u001b[1;32mMissing elements: [0, 1, 0]\u001b[0m\n",
       "[2025-05-02 14:18:33,111][\u001b[1;36mtensorcraft.mpi.distributions.multi_axis_dist\u001b[0m][\u001b[1;35mapply\u001b[0m][\u001b[1;32mDEBUG\u001b[0m] - R3/4:\u001b[1;32mN blocks per axis: [1, 10, 1]\u001b[0m\n",
       "[2025-05-02 14:18:33,116][\u001b[1;36mtensorcraft.mpi.distributions.multi_axis_dist\u001b[0m][\u001b[1;35mapply\u001b[0m][\u001b[1;32mDEBUG\u001b[0m] - R3/4:\u001b[1;32mPadded tensor shape: torch.Size([2, 11, 2])\u001b[0m\n",
       "[2025-05-02 14:18:33,122][\u001b[1;36mtensorcraft.mpi.distributions.multi_axis_dist\u001b[0m][\u001b[1;35mapply\u001b[0m][\u001b[1;32mDEBUG\u001b[0m] - R3/4:\u001b[1;32mPermute tuple: (0, 2, 4, 1, 3, 5)\u001b[0m\n",
       "[2025-05-02 14:18:33,125][\u001b[1;36mtensorcraft.mpi.distributions.multi_axis_dist\u001b[0m][\u001b[1;35mapply\u001b[0m][\u001b[1;32mDEBUG\u001b[0m] - R3/4:\u001b[1;32mReshape tuple: [1, 2, 11, 1, 1, 2]\u001b[0m\n",
       "[2025-05-02 14:18:33,129][\u001b[1;36mtensorcraft.mpi.distributions.multi_axis_dist\u001b[0m][\u001b[1;35mapply\u001b[0m][\u001b[1;32mDEBUG\u001b[0m] - R3/4:\u001b[1;32mTile Slices: [slice(None, None, None), slice(None, None, None), slice(tensor(3), None, 4), slice(None, None, None), slice(None, None, None), slice(None, None, None)]\u001b[0m\n",
       "[2025-05-02 14:18:33,132][\u001b[1;36mtensorcraft.mpi.distributions.multi_axis_dist\u001b[0m][\u001b[1;35mapply\u001b[0m][\u001b[1;32mDEBUG\u001b[0m] - R3/4:\u001b[1;32mLocal tensor shape: torch.Size([1, 2, 2, 1, 1, 2])\u001b[0m\n",
       "[2025-05-02 14:18:33,133][\u001b[1;36mtensorcraft.mpi.distributions.multi_axis_dist\u001b[0m][\u001b[1;35mapply\u001b[0m][\u001b[1;32mDEBUG\u001b[0m] - R3/4:\u001b[1;32mTarget local tensor shape: [2, 2, 2]\u001b[0m\n",
       "[2025-05-02 14:18:33,134][\u001b[1;36mtensorcraft.mpi.distributions.multi_axis_dist\u001b[0m][\u001b[1;35mapply\u001b[0m][\u001b[1;32mDEBUG\u001b[0m] - R3/4:\u001b[1;32mtensor([[[ 6,  7],\n",
       "         [14, 15]],\n",
       "\n",
       "        [[26, 27],\n",
       "         [34, 35]]])\u001b[0m\n",
       "[2025-05-02 14:18:33,139][\u001b[1;36mtensorcraft.mpi.distributions.multi_axis_dist\u001b[0m][\u001b[1;35mapply\u001b[0m][\u001b[1;32mDEBUG\u001b[0m] - R3/4:\u001b[1;32mLinear processor index: 3, Residue: 1, Block size: 1, axis: 1, N procs: 4, N full blocks: 10\u001b[0m\n",
       "[2025-05-02 14:18:33,141][\u001b[1;36mtensorcraft.mpi.distributions.multi_axis_dist\u001b[0m][\u001b[1;35mapply\u001b[0m][\u001b[1;32mDEBUG\u001b[0m] - R3/4:\u001b[1;32mShaved slices: [slice(None, None, None), slice(None, None, None), slice(None, None, None)]\u001b[0m\n",
       "[2025-05-02 14:18:33,142][\u001b[1;36mtensorcraft.mpi.distributions.multi_axis_dist\u001b[0m][\u001b[1;35mapply\u001b[0m][\u001b[1;32mDEBUG\u001b[0m] - R3/4:\u001b[1;32mFinal local tensor shape: torch.Size([2, 2, 2])\u001b[0m\n",
       "tensor([[[ 6,  7],\n",
       "         [14, 15]],\n",
       "\n",
       "        [[26, 27],\n",
       "         [34, 35]]])\n",
       "torch.Size([2, 2, 2])\n",
       "torch.int64\n",
       "False\n"
      ]
     },
     "metadata": {},
     "output_type": "display_data"
    },
    {
     "name": "stdout",
     "output_type": "stream",
     "text": [
      "%px:  25%|██▌       | 1/4 [00:01<00:00,  9.61tasks/s]"
     ]
    },
    {
     "data": {
      "text/plain": [
       "[stdout:0] [2025-05-02 14:18:33,146][\u001b[1;36mtensorcraft.mpi.distributions.multi_axis_dist\u001b[0m][\u001b[1;35mapply\u001b[0m][\u001b[1;32mDEBUG\u001b[0m] - R0/4:\u001b[1;32mProcessor multi index: torch.Size([0, 0])\u001b[0m\n",
       "[2025-05-02 14:18:33,148][\u001b[1;36mtensorcraft.mpi.distributions.multi_axis_dist\u001b[0m][\u001b[1;35mapply\u001b[0m][\u001b[1;32mDEBUG\u001b[0m] - R0/4:\u001b[1;32mMissing elements: [0, 1, 0]\u001b[0m\n",
       "[2025-05-02 14:18:33,150][\u001b[1;36mtensorcraft.mpi.distributions.multi_axis_dist\u001b[0m][\u001b[1;35mapply\u001b[0m][\u001b[1;32mDEBUG\u001b[0m] - R0/4:\u001b[1;32mN blocks per axis: [1, 10, 1]\u001b[0m\n",
       "[2025-05-02 14:18:33,152][\u001b[1;36mtensorcraft.mpi.distributions.multi_axis_dist\u001b[0m][\u001b[1;35mapply\u001b[0m][\u001b[1;32mDEBUG\u001b[0m] - R0/4:\u001b[1;32mPadded tensor shape: torch.Size([2, 11, 2])\u001b[0m\n",
       "[2025-05-02 14:18:33,156][\u001b[1;36mtensorcraft.mpi.distributions.multi_axis_dist\u001b[0m][\u001b[1;35mapply\u001b[0m][\u001b[1;32mDEBUG\u001b[0m] - R0/4:\u001b[1;32mPermute tuple: (0, 2, 4, 1, 3, 5)\u001b[0m\n",
       "[2025-05-02 14:18:33,158][\u001b[1;36mtensorcraft.mpi.distributions.multi_axis_dist\u001b[0m][\u001b[1;35mapply\u001b[0m][\u001b[1;32mDEBUG\u001b[0m] - R0/4:\u001b[1;32mReshape tuple: [1, 2, 11, 1, 1, 2]\u001b[0m\n",
       "[2025-05-02 14:18:33,162][\u001b[1;36mtensorcraft.mpi.distributions.multi_axis_dist\u001b[0m][\u001b[1;35mapply\u001b[0m][\u001b[1;32mDEBUG\u001b[0m] - R0/4:\u001b[1;32mTile Slices: [slice(None, None, None), slice(None, None, None), slice(tensor(0), None, 4), slice(None, None, None), slice(None, None, None), slice(None, None, None)]\u001b[0m\n",
       "[2025-05-02 14:18:33,166][\u001b[1;36mtensorcraft.mpi.distributions.multi_axis_dist\u001b[0m][\u001b[1;35mapply\u001b[0m][\u001b[1;32mDEBUG\u001b[0m] - R0/4:\u001b[1;32mLocal tensor shape: torch.Size([1, 2, 3, 1, 1, 2])\u001b[0m\n",
       "[2025-05-02 14:18:33,171][\u001b[1;36mtensorcraft.mpi.distributions.multi_axis_dist\u001b[0m][\u001b[1;35mapply\u001b[0m][\u001b[1;32mDEBUG\u001b[0m] - R0/4:\u001b[1;32mTarget local tensor shape: [2, 3, 2]\u001b[0m\n",
       "[2025-05-02 14:18:33,173][\u001b[1;36mtensorcraft.mpi.distributions.multi_axis_dist\u001b[0m][\u001b[1;35mapply\u001b[0m][\u001b[1;32mDEBUG\u001b[0m] - R0/4:\u001b[1;32mtensor([[[ 0,  1],\n",
       "         [ 8,  9],\n",
       "         [16, 17]],\n",
       "\n",
       "        [[20, 21],\n",
       "         [28, 29],\n",
       "         [36, 37]]])\u001b[0m\n",
       "[2025-05-02 14:18:33,181][\u001b[1;36mtensorcraft.mpi.distributions.multi_axis_dist\u001b[0m][\u001b[1;35mapply\u001b[0m][\u001b[1;32mDEBUG\u001b[0m] - R0/4:\u001b[1;32mLinear processor index: 0, Residue: 1, Block size: 1, axis: 1, N procs: 4, N full blocks: 10\u001b[0m\n",
       "[2025-05-02 14:18:33,184][\u001b[1;36mtensorcraft.mpi.distributions.multi_axis_dist\u001b[0m][\u001b[1;35mapply\u001b[0m][\u001b[1;32mDEBUG\u001b[0m] - R0/4:\u001b[1;32mShaved slices: [slice(None, None, None), slice(None, None, None), slice(None, None, None)]\u001b[0m\n",
       "[2025-05-02 14:18:33,187][\u001b[1;36mtensorcraft.mpi.distributions.multi_axis_dist\u001b[0m][\u001b[1;35mapply\u001b[0m][\u001b[1;32mDEBUG\u001b[0m] - R0/4:\u001b[1;32mFinal local tensor shape: torch.Size([2, 3, 2])\u001b[0m\n",
       "tensor([[[ 0,  1],\n",
       "         [ 8,  9],\n",
       "         [16, 17]],\n",
       "\n",
       "        [[20, 21],\n",
       "         [28, 29],\n",
       "         [36, 37]]])\n",
       "torch.Size([2, 3, 2])\n",
       "torch.int64\n",
       "False\n"
      ]
     },
     "metadata": {},
     "output_type": "display_data"
    },
    {
     "name": "stdout",
     "output_type": "stream",
     "text": [
      "%px:  75%|███████▌  | 3/4 [00:01<00:00, 15.24tasks/s]"
     ]
    },
    {
     "data": {
      "text/plain": [
       "[stdout:2] [2025-05-02 14:18:33,254][\u001b[1;36mtensorcraft.mpi.distributions.multi_axis_dist\u001b[0m][\u001b[1;35mapply\u001b[0m][\u001b[1;32mDEBUG\u001b[0m] - R2/4:\u001b[1;32mProcessor multi index: torch.Size([1, 0])\u001b[0m\n",
       "[2025-05-02 14:18:33,259][\u001b[1;36mtensorcraft.mpi.distributions.multi_axis_dist\u001b[0m][\u001b[1;35mapply\u001b[0m][\u001b[1;32mDEBUG\u001b[0m] - R2/4:\u001b[1;32mMissing elements: [0, 1, 0]\u001b[0m\n",
       "[2025-05-02 14:18:33,262][\u001b[1;36mtensorcraft.mpi.distributions.multi_axis_dist\u001b[0m][\u001b[1;35mapply\u001b[0m][\u001b[1;32mDEBUG\u001b[0m] - R2/4:\u001b[1;32mN blocks per axis: [1, 10, 1]\u001b[0m\n",
       "[2025-05-02 14:18:33,263][\u001b[1;36mtensorcraft.mpi.distributions.multi_axis_dist\u001b[0m][\u001b[1;35mapply\u001b[0m][\u001b[1;32mDEBUG\u001b[0m] - R2/4:\u001b[1;32mPadded tensor shape: torch.Size([2, 11, 2])\u001b[0m\n",
       "[2025-05-02 14:18:33,268][\u001b[1;36mtensorcraft.mpi.distributions.multi_axis_dist\u001b[0m][\u001b[1;35mapply\u001b[0m][\u001b[1;32mDEBUG\u001b[0m] - R2/4:\u001b[1;32mPermute tuple: (0, 2, 4, 1, 3, 5)\u001b[0m\n",
       "[2025-05-02 14:18:33,270][\u001b[1;36mtensorcraft.mpi.distributions.multi_axis_dist\u001b[0m][\u001b[1;35mapply\u001b[0m][\u001b[1;32mDEBUG\u001b[0m] - R2/4:\u001b[1;32mReshape tuple: [1, 2, 11, 1, 1, 2]\u001b[0m\n",
       "[2025-05-02 14:18:33,279][\u001b[1;36mtensorcraft.mpi.distributions.multi_axis_dist\u001b[0m][\u001b[1;35mapply\u001b[0m][\u001b[1;32mDEBUG\u001b[0m] - R2/4:\u001b[1;32mTile Slices: [slice(None, None, None), slice(None, None, None), slice(tensor(2), None, 4), slice(None, None, None), slice(None, None, None), slice(None, None, None)]\u001b[0m\n",
       "[2025-05-02 14:18:33,282][\u001b[1;36mtensorcraft.mpi.distributions.multi_axis_dist\u001b[0m][\u001b[1;35mapply\u001b[0m][\u001b[1;32mDEBUG\u001b[0m] - R2/4:\u001b[1;32mLocal tensor shape: torch.Size([1, 2, 3, 1, 1, 2])\u001b[0m\n",
       "[2025-05-02 14:18:33,284][\u001b[1;36mtensorcraft.mpi.distributions.multi_axis_dist\u001b[0m][\u001b[1;35mapply\u001b[0m][\u001b[1;32mDEBUG\u001b[0m] - R2/4:\u001b[1;32mTarget local tensor shape: [2, 3, 2]\u001b[0m\n",
       "[2025-05-02 14:18:33,286][\u001b[1;36mtensorcraft.mpi.distributions.multi_axis_dist\u001b[0m][\u001b[1;35mapply\u001b[0m][\u001b[1;32mDEBUG\u001b[0m] - R2/4:\u001b[1;32mtensor([[[ 4,  5],\n",
       "         [12, 13],\n",
       "         [ 0,  0]],\n",
       "\n",
       "        [[24, 25],\n",
       "         [32, 33],\n",
       "         [ 0,  0]]])\u001b[0m\n",
       "[2025-05-02 14:18:33,292][\u001b[1;36mtensorcraft.mpi.distributions.multi_axis_dist\u001b[0m][\u001b[1;35mapply\u001b[0m][\u001b[1;32mDEBUG\u001b[0m] - R2/4:\u001b[1;32mLinear processor index: 2, Residue: 1, Block size: 1, axis: 1, N procs: 4, N full blocks: 10\u001b[0m\n",
       "[2025-05-02 14:18:33,296][\u001b[1;36mtensorcraft.mpi.distributions.multi_axis_dist\u001b[0m][\u001b[1;35mapply\u001b[0m][\u001b[1;32mDEBUG\u001b[0m] - R2/4:\u001b[1;32mShaved slices: [slice(None, None, None), slice(0, -1, None), slice(None, None, None)]\u001b[0m\n",
       "[2025-05-02 14:18:33,299][\u001b[1;36mtensorcraft.mpi.distributions.multi_axis_dist\u001b[0m][\u001b[1;35mapply\u001b[0m][\u001b[1;32mDEBUG\u001b[0m] - R2/4:\u001b[1;32mFinal local tensor shape: torch.Size([2, 2, 2])\u001b[0m\n",
       "tensor([[[ 4,  5],\n",
       "         [12, 13]],\n",
       "\n",
       "        [[24, 25],\n",
       "         [32, 33]]])\n",
       "torch.Size([2, 2, 2])\n",
       "torch.int64\n",
       "False\n"
      ]
     },
     "metadata": {},
     "output_type": "display_data"
    },
    {
     "name": "stdout",
     "output_type": "stream",
     "text": [
      "%px: 100%|██████████| 4/4 [00:01<00:00,  2.48tasks/s]\n"
     ]
    }
   ],
   "source": [
    "%%px\n",
    "import logging\n",
    "import tensorcraft as tc\n",
    "\n",
    "tc.set_logger_config(log_rank=True, level=logging.DEBUG)\n",
    "\n",
    "x = torch.arange(40).reshape(2, 10, 2)\n",
    "mesh = torch.Size([2,2])\n",
    "dist = tc.mpi.MPIMultiAxisDist(mesh, (None, (0,1), None), 1)\n",
    "\n",
    "x_local = dist.apply(x, rank)\n",
    "print(x_local)\n",
    "print(x_local.shape)\n",
    "print(x_local.dtype)\n",
    "print(x_local.is_contiguous())"
   ]
  },
  {
   "cell_type": "code",
   "execution_count": null,
   "metadata": {},
   "outputs": [
    {
     "data": {
      "text/plain": [
       "[stdout:3] [2025-05-02 14:18:33,506][\u001b[1;36mtensorcraft.distributions.multi_axis\u001b[0m][\u001b[1;35mallgather\u001b[0m][\u001b[1;32mDEBUG\u001b[0m] - R3/4:\u001b[1;32mTensor axis: 1\u001b[0m\n",
       "[2025-05-02 14:18:33,508][\u001b[1;36mtensorcraft.distributions.multi_axis\u001b[0m][\u001b[1;35mallgather\u001b[0m][\u001b[1;32mDEBUG\u001b[0m] - R3/4:\u001b[1;32mMesh axis: 0\u001b[0m\n",
       "[2025-05-02 14:18:33,509][\u001b[1;36mtensorcraft.distributions.multi_axis\u001b[0m][\u001b[1;35mallgather\u001b[0m][\u001b[1;32mDEBUG\u001b[0m] - R3/4:\u001b[1;32mMappings: (0, 1)\u001b[0m\n",
       "[2025-05-02 14:18:33,512][\u001b[1;36mtensorcraft.distributions.multi_axis\u001b[0m][\u001b[1;35mallgather\u001b[0m][\u001b[1;32mDEBUG\u001b[0m] - R3/4:\u001b[1;32mTensor axis: 1\u001b[0m\n",
       "[2025-05-02 14:18:33,514][\u001b[1;36mtensorcraft.distributions.multi_axis\u001b[0m][\u001b[1;35mallgather\u001b[0m][\u001b[1;32mDEBUG\u001b[0m] - R3/4:\u001b[1;32mMesh axis: 0\u001b[0m\n",
       "[2025-05-02 14:18:33,515][\u001b[1;36mtensorcraft.distributions.multi_axis\u001b[0m][\u001b[1;35mallgather\u001b[0m][\u001b[1;32mDEBUG\u001b[0m] - R3/4:\u001b[1;32mMappings: (0, 1)\u001b[0m\n",
       "[2025-05-02 14:18:33,522][\u001b[1;36mtensorcraft.mpi.distributions.multi_axis_dist\u001b[0m][\u001b[1;35m_apply_single_axis_allgather\u001b[0m][\u001b[1;32mDEBUG\u001b[0m] - R3/4:\u001b[1;32mNew distribution: D_[2,2]⊥{∅,1,∅}(∅,1,∅), new shape: torch.Size([2, 5, 2])\u001b[0m\n",
       "[2025-05-02 14:18:33,525][\u001b[1;36mtensorcraft.mpi.distributions.multi_axis_dist\u001b[0m][\u001b[1;35m_apply_single_axis_allgather\u001b[0m][\u001b[1;32mDEBUG\u001b[0m] - R3/4:\u001b[1;32mLocal tensor shape: torch.Size([2, 2, 2])\u001b[0m\n",
       "[2025-05-02 14:18:33,527][\u001b[1;36mtensorcraft.mpi.distributions.multi_axis_dist\u001b[0m][\u001b[1;35m_apply_single_axis_allgather\u001b[0m][\u001b[1;32mDEBUG\u001b[0m] - R3/4:\u001b[1;32mExpected local shape: torch.Size([2, 2, 2])\u001b[0m\n",
       "[2025-05-02 14:18:33,528][\u001b[1;36mtensorcraft.mpi.distributions.multi_axis_dist\u001b[0m][\u001b[1;35m_apply_single_axis_allgather\u001b[0m][\u001b[1;32mDEBUG\u001b[0m] - R3/4:\u001b[1;32mChanged tensor axis: 1\u001b[0m\n",
       "[2025-05-02 14:18:33,530][\u001b[1;36mtensorcraft.mpi.distributions.multi_axis_dist\u001b[0m][\u001b[1;35m_apply_single_axis_allgather\u001b[0m][\u001b[1;32mDEBUG\u001b[0m] - R3/4:\u001b[1;32mProcessor multi index: torch.Size([1, 1])\u001b[0m\n",
       "[2025-05-02 14:18:33,530][\u001b[1;36mtensorcraft.mpi.distributions.multi_axis_dist\u001b[0m][\u001b[1;35m_apply_single_axis_allgather\u001b[0m][\u001b[1;32mDEBUG\u001b[0m] - R3/4:\u001b[1;32mN procs: 2\u001b[0m\n",
       "[2025-05-02 14:18:33,532][\u001b[1;36mtensorcraft.mpi.distributions.multi_axis_dist\u001b[0m][\u001b[1;35m_apply_single_axis_allgather\u001b[0m][\u001b[1;32mDEBUG\u001b[0m] - R3/4:\u001b[1;32mRank of largest tensor in the subcommunicator: [0, 1] 1\u001b[0m\n",
       "[2025-05-02 14:18:33,536][\u001b[1;36mtensorcraft.mpi.distributions.multi_axis_dist\u001b[0m][\u001b[1;35m_apply_single_axis_allgather\u001b[0m][\u001b[1;32mDEBUG\u001b[0m] - R3/4:\u001b[1;32mN elements: 12\u001b[0m\n",
       "[2025-05-02 14:18:33,538][\u001b[1;36mtensorcraft.mpi.distributions.multi_axis_dist\u001b[0m][\u001b[1;35m_apply_single_axis_allgather\u001b[0m][\u001b[1;32mDEBUG\u001b[0m] - R3/4:\u001b[1;32mMax local shape: torch.Size([2, 3, 2])\u001b[0m\n",
       "[2025-05-02 14:18:33,539][\u001b[1;36mtensorcraft.mpi.distributions.multi_axis_dist\u001b[0m][\u001b[1;35m_apply_single_axis_allgather\u001b[0m][\u001b[1;32mDEBUG\u001b[0m] - R3/4:\u001b[1;32mPadding: 1\u001b[0m\n",
       "[2025-05-02 14:18:33,540][\u001b[1;36mtensorcraft.mpi.distributions.multi_axis_dist\u001b[0m][\u001b[1;35m_apply_single_axis_allgather\u001b[0m][\u001b[1;32mDEBUG\u001b[0m] - R3/4:\u001b[1;32mPadding tuple: [0, 0, 1, 0, 0, 0]\u001b[0m\n",
       "[2025-05-02 14:18:33,544][\u001b[1;36mtensorcraft.mpi.distributions.multi_axis_dist\u001b[0m][\u001b[1;35m_apply_single_axis_allgather\u001b[0m][\u001b[1;32mDEBUG\u001b[0m] - R3/4:\u001b[1;32mPadded local tensor shape: torch.Size([2, 3, 2])\u001b[0m\n",
       "[2025-05-02 14:18:33,547][\u001b[1;36mtensorcraft.mpi.distributions.multi_axis_dist\u001b[0m][\u001b[1;35m_apply_single_axis_allgather\u001b[0m][\u001b[1;32mDEBUG\u001b[0m] - R3/4:\u001b[1;32mPadded local tensor: tensor([[[ 6,  7],\n",
       "         [14, 15],\n",
       "         [ 0,  0]],\n",
       "\n",
       "        [[26, 27],\n",
       "         [34, 35],\n",
       "         [ 0,  0]]])\u001b[0m\n",
       "[2025-05-02 14:18:33,549][\u001b[1;36mtensorcraft.mpi.mpi_utils\u001b[0m][\u001b[1;35mtensor2mpiBuffer\u001b[0m][\u001b[1;32mDEBUG\u001b[0m] - R3/4:\u001b[1;32mtensor_stride: (6, 2, 1)\u001b[0m\n",
       "[2025-05-02 14:18:33,550][\u001b[1;36mtensorcraft.mpi.mpi_utils\u001b[0m][\u001b[1;35mtensor2mpiBuffer\u001b[0m][\u001b[1;32mDEBUG\u001b[0m] - R3/4:\u001b[1;32mtensor_offset: 0\u001b[0m\n",
       "[2025-05-02 14:18:33,551][\u001b[1;36mtensorcraft.mpi.mpi_utils\u001b[0m][\u001b[1;35mtensor2mpiBuffer\u001b[0m][\u001b[1;32mDEBUG\u001b[0m] - R3/4:\u001b[1;32mtensor_shape: torch.Size([2, 3, 2])\u001b[0m\n",
       "[2025-05-02 14:18:33,552][\u001b[1;36mtensorcraft.mpi.mpi_utils\u001b[0m][\u001b[1;35mtensor2mpiBuffer\u001b[0m][\u001b[1;32mDEBUG\u001b[0m] - R3/4:\u001b[1;32mtensor_dtype: torch.int64\u001b[0m\n",
       "[2025-05-02 14:18:33,554][\u001b[1;36mtensorcraft.mpi.mpi_utils\u001b[0m][\u001b[1;35mtensor2mpiBuffer\u001b[0m][\u001b[1;32mDEBUG\u001b[0m] - R3/4:\u001b[1;32mBest case scenario, it is contiguous!\u001b[0m\n",
       "[2025-05-02 14:18:33,555][\u001b[1;36mtensorcraft.mpi.distributions.multi_axis_dist\u001b[0m][\u001b[1;35m_apply_single_axis_allgather\u001b[0m][\u001b[1;32mDEBUG\u001b[0m] - R3/4:\u001b[1;32mSend buffer: (<mpi4py.MPI.buffer object at 0x7a14854ba410>, 12, <mpi4py.MPI.Datatype object at 0x7a15826ac6f0>)\u001b[0m\n",
       "[2025-05-02 14:18:33,678][\u001b[1;36mtensorcraft.mpi.distributions.multi_axis_dist\u001b[0m][\u001b[1;35m_apply_single_axis_allgather\u001b[0m][\u001b[1;32mDEBUG\u001b[0m] - R3/4:\u001b[1;32mRecv_tensor : tensor([[[[[ 2,  3]],\n",
       "\n",
       "          [[10, 11]],\n",
       "\n",
       "          [[18, 19]]],\n",
       "\n",
       "\n",
       "         [[[22, 23]],\n",
       "\n",
       "          [[30, 31]],\n",
       "\n",
       "          [[38, 39]]]],\n",
       "\n",
       "\n",
       "\n",
       "        [[[[ 6,  7]],\n",
       "\n",
       "          [[14, 15]],\n",
       "\n",
       "          [[ 0,  0]]],\n",
       "\n",
       "\n",
       "         [[[26, 27]],\n",
       "\n",
       "          [[34, 35]],\n",
       "\n",
       "          [[ 0,  0]]]]])\u001b[0m\n",
       "[2025-05-02 14:18:33,680][\u001b[1;36mtensorcraft.mpi.distributions.multi_axis_dist\u001b[0m][\u001b[1;35m_apply_single_axis_allgather\u001b[0m][\u001b[1;32mDEBUG\u001b[0m] - R3/4:\u001b[1;32mReshaped tensor shape: torch.Size([2, 6, 2])\u001b[0m\n",
       "[2025-05-02 14:18:33,681][\u001b[1;36mtensorcraft.mpi.distributions.multi_axis_dist\u001b[0m][\u001b[1;35m_apply_single_axis_allgather\u001b[0m][\u001b[1;32mDEBUG\u001b[0m] - R3/4:\u001b[1;32mSlices: [slice(None, None, None), slice(0, 5, None), slice(None, None, None)]\u001b[0m\n",
       "[2025-05-02 14:18:33,682][\u001b[1;36mtensorcraft.mpi.distributions.multi_axis_dist\u001b[0m][\u001b[1;35m_apply_single_axis_allgather\u001b[0m][\u001b[1;32mDEBUG\u001b[0m] - R3/4:\u001b[1;32mFinal tensor shape: torch.Size([2, 5, 2])\u001b[0m\n",
       "tensor([[[ 2,  3],\n",
       "         [ 6,  7],\n",
       "         [10, 11],\n",
       "         [14, 15],\n",
       "         [18, 19]],\n",
       "\n",
       "        [[22, 23],\n",
       "         [26, 27],\n",
       "         [30, 31],\n",
       "         [34, 35],\n",
       "         [38, 39]]])\n"
      ]
     },
     "metadata": {},
     "output_type": "display_data"
    },
    {
     "data": {
      "text/plain": [
       "[stdout:0] [2025-05-02 14:18:33,505][\u001b[1;36mtensorcraft.distributions.multi_axis\u001b[0m][\u001b[1;35mallgather\u001b[0m][\u001b[1;32mDEBUG\u001b[0m] - R0/4:\u001b[1;32mTensor axis: 1\u001b[0m\n",
       "[2025-05-02 14:18:33,509][\u001b[1;36mtensorcraft.distributions.multi_axis\u001b[0m][\u001b[1;35mallgather\u001b[0m][\u001b[1;32mDEBUG\u001b[0m] - R0/4:\u001b[1;32mMesh axis: 0\u001b[0m\n",
       "[2025-05-02 14:18:33,510][\u001b[1;36mtensorcraft.distributions.multi_axis\u001b[0m][\u001b[1;35mallgather\u001b[0m][\u001b[1;32mDEBUG\u001b[0m] - R0/4:\u001b[1;32mMappings: (0, 1)\u001b[0m\n",
       "[2025-05-02 14:18:33,515][\u001b[1;36mtensorcraft.distributions.multi_axis\u001b[0m][\u001b[1;35mallgather\u001b[0m][\u001b[1;32mDEBUG\u001b[0m] - R0/4:\u001b[1;32mTensor axis: 1\u001b[0m\n",
       "[2025-05-02 14:18:33,518][\u001b[1;36mtensorcraft.distributions.multi_axis\u001b[0m][\u001b[1;35mallgather\u001b[0m][\u001b[1;32mDEBUG\u001b[0m] - R0/4:\u001b[1;32mMesh axis: 0\u001b[0m\n",
       "[2025-05-02 14:18:33,522][\u001b[1;36mtensorcraft.distributions.multi_axis\u001b[0m][\u001b[1;35mallgather\u001b[0m][\u001b[1;32mDEBUG\u001b[0m] - R0/4:\u001b[1;32mMappings: (0, 1)\u001b[0m\n",
       "[2025-05-02 14:18:33,528][\u001b[1;36mtensorcraft.mpi.distributions.multi_axis_dist\u001b[0m][\u001b[1;35m_apply_single_axis_allgather\u001b[0m][\u001b[1;32mDEBUG\u001b[0m] - R0/4:\u001b[1;32mNew distribution: D_[2,2]⊥{∅,1,∅}(∅,1,∅), new shape: torch.Size([2, 5, 2])\u001b[0m\n",
       "[2025-05-02 14:18:33,535][\u001b[1;36mtensorcraft.mpi.distributions.multi_axis_dist\u001b[0m][\u001b[1;35m_apply_single_axis_allgather\u001b[0m][\u001b[1;32mDEBUG\u001b[0m] - R0/4:\u001b[1;32mLocal tensor shape: torch.Size([2, 3, 2])\u001b[0m\n",
       "[2025-05-02 14:18:33,537][\u001b[1;36mtensorcraft.mpi.distributions.multi_axis_dist\u001b[0m][\u001b[1;35m_apply_single_axis_allgather\u001b[0m][\u001b[1;32mDEBUG\u001b[0m] - R0/4:\u001b[1;32mExpected local shape: torch.Size([2, 3, 2])\u001b[0m\n",
       "[2025-05-02 14:18:33,540][\u001b[1;36mtensorcraft.mpi.distributions.multi_axis_dist\u001b[0m][\u001b[1;35m_apply_single_axis_allgather\u001b[0m][\u001b[1;32mDEBUG\u001b[0m] - R0/4:\u001b[1;32mChanged tensor axis: 1\u001b[0m\n",
       "[2025-05-02 14:18:33,549][\u001b[1;36mtensorcraft.mpi.distributions.multi_axis_dist\u001b[0m][\u001b[1;35m_apply_single_axis_allgather\u001b[0m][\u001b[1;32mDEBUG\u001b[0m] - R0/4:\u001b[1;32mProcessor multi index: torch.Size([0, 0])\u001b[0m\n",
       "[2025-05-02 14:18:33,551][\u001b[1;36mtensorcraft.mpi.distributions.multi_axis_dist\u001b[0m][\u001b[1;35m_apply_single_axis_allgather\u001b[0m][\u001b[1;32mDEBUG\u001b[0m] - R0/4:\u001b[1;32mN procs: 2\u001b[0m\n",
       "[2025-05-02 14:18:33,553][\u001b[1;36mtensorcraft.mpi.distributions.multi_axis_dist\u001b[0m][\u001b[1;35m_apply_single_axis_allgather\u001b[0m][\u001b[1;32mDEBUG\u001b[0m] - R0/4:\u001b[1;32mRank of largest tensor in the subcommunicator: [0, 0] 0\u001b[0m\n",
       "[2025-05-02 14:18:33,556][\u001b[1;36mtensorcraft.mpi.distributions.multi_axis_dist\u001b[0m][\u001b[1;35m_apply_single_axis_allgather\u001b[0m][\u001b[1;32mDEBUG\u001b[0m] - R0/4:\u001b[1;32mN elements: 12\u001b[0m\n",
       "[2025-05-02 14:18:33,562][\u001b[1;36mtensorcraft.mpi.distributions.multi_axis_dist\u001b[0m][\u001b[1;35m_apply_single_axis_allgather\u001b[0m][\u001b[1;32mDEBUG\u001b[0m] - R0/4:\u001b[1;32mMax local shape: torch.Size([2, 3, 2])\u001b[0m\n",
       "[2025-05-02 14:18:33,564][\u001b[1;36mtensorcraft.mpi.distributions.multi_axis_dist\u001b[0m][\u001b[1;35m_apply_single_axis_allgather\u001b[0m][\u001b[1;32mDEBUG\u001b[0m] - R0/4:\u001b[1;32mPadding: 0\u001b[0m\n",
       "[2025-05-02 14:18:33,565][\u001b[1;36mtensorcraft.mpi.mpi_utils\u001b[0m][\u001b[1;35mtensor2mpiBuffer\u001b[0m][\u001b[1;32mDEBUG\u001b[0m] - R0/4:\u001b[1;32mtensor_stride: (22, 8, 1)\u001b[0m\n",
       "[2025-05-02 14:18:33,566][\u001b[1;36mtensorcraft.mpi.mpi_utils\u001b[0m][\u001b[1;35mtensor2mpiBuffer\u001b[0m][\u001b[1;32mDEBUG\u001b[0m] - R0/4:\u001b[1;32mtensor_offset: 0\u001b[0m\n",
       "[2025-05-02 14:18:33,567][\u001b[1;36mtensorcraft.mpi.mpi_utils\u001b[0m][\u001b[1;35mtensor2mpiBuffer\u001b[0m][\u001b[1;32mDEBUG\u001b[0m] - R0/4:\u001b[1;32mtensor_shape: torch.Size([2, 3, 2])\u001b[0m\n",
       "[2025-05-02 14:18:33,571][\u001b[1;36mtensorcraft.mpi.mpi_utils\u001b[0m][\u001b[1;35mtensor2mpiBuffer\u001b[0m][\u001b[1;32mDEBUG\u001b[0m] - R0/4:\u001b[1;32mtensor_dtype: torch.int64\u001b[0m\n",
       "[2025-05-02 14:18:33,573][\u001b[1;36mtensorcraft.mpi.distributions.multi_axis_dist\u001b[0m][\u001b[1;35m_apply_single_axis_allgather\u001b[0m][\u001b[1;32mDEBUG\u001b[0m] - R0/4:\u001b[1;32mSend buffer: (<mpi4py.MPI.buffer object at 0x7a682aee5fb0>, 1, <mpi4py.MPI.Datatype object at 0x7a6924265290>)\u001b[0m\n",
       "[2025-05-02 14:18:33,682][\u001b[1;36mtensorcraft.mpi.distributions.multi_axis_dist\u001b[0m][\u001b[1;35m_apply_single_axis_allgather\u001b[0m][\u001b[1;32mDEBUG\u001b[0m] - R0/4:\u001b[1;32mRecv_tensor : tensor([[[[[ 0,  1]],\n",
       "\n",
       "          [[ 8,  9]],\n",
       "\n",
       "          [[16, 17]]],\n",
       "\n",
       "\n",
       "         [[[20, 21]],\n",
       "\n",
       "          [[28, 29]],\n",
       "\n",
       "          [[36, 37]]]],\n",
       "\n",
       "\n",
       "\n",
       "        [[[[ 4,  5]],\n",
       "\n",
       "          [[12, 13]],\n",
       "\n",
       "          [[ 0,  0]]],\n",
       "\n",
       "\n",
       "         [[[24, 25]],\n",
       "\n",
       "          [[32, 33]],\n",
       "\n",
       "          [[ 0,  0]]]]])\u001b[0m\n",
       "[2025-05-02 14:18:33,692][\u001b[1;36mtensorcraft.mpi.distributions.multi_axis_dist\u001b[0m][\u001b[1;35m_apply_single_axis_allgather\u001b[0m][\u001b[1;32mDEBUG\u001b[0m] - R0/4:\u001b[1;32mReshaped tensor shape: torch.Size([2, 6, 2])\u001b[0m\n",
       "[2025-05-02 14:18:33,698][\u001b[1;36mtensorcraft.mpi.distributions.multi_axis_dist\u001b[0m][\u001b[1;35m_apply_single_axis_allgather\u001b[0m][\u001b[1;32mDEBUG\u001b[0m] - R0/4:\u001b[1;32mSlices: [slice(None, None, None), slice(0, 5, None), slice(None, None, None)]\u001b[0m\n",
       "[2025-05-02 14:18:33,700][\u001b[1;36mtensorcraft.mpi.distributions.multi_axis_dist\u001b[0m][\u001b[1;35m_apply_single_axis_allgather\u001b[0m][\u001b[1;32mDEBUG\u001b[0m] - R0/4:\u001b[1;32mFinal tensor shape: torch.Size([2, 5, 2])\u001b[0m\n",
       "tensor([[[ 0,  1],\n",
       "         [ 4,  5],\n",
       "         [ 8,  9],\n",
       "         [12, 13],\n",
       "         [16, 17]],\n",
       "\n",
       "        [[20, 21],\n",
       "         [24, 25],\n",
       "         [28, 29],\n",
       "         [32, 33],\n",
       "         [36, 37]]])\n"
      ]
     },
     "metadata": {},
     "output_type": "display_data"
    },
    {
     "data": {
      "text/plain": [
       "[stdout:1] [2025-05-02 14:18:33,512][\u001b[1;36mtensorcraft.distributions.multi_axis\u001b[0m][\u001b[1;35mallgather\u001b[0m][\u001b[1;32mDEBUG\u001b[0m] - R1/4:\u001b[1;32mTensor axis: 1\u001b[0m\n",
       "[2025-05-02 14:18:33,516][\u001b[1;36mtensorcraft.distributions.multi_axis\u001b[0m][\u001b[1;35mallgather\u001b[0m][\u001b[1;32mDEBUG\u001b[0m] - R1/4:\u001b[1;32mMesh axis: 0\u001b[0m\n",
       "[2025-05-02 14:18:33,522][\u001b[1;36mtensorcraft.distributions.multi_axis\u001b[0m][\u001b[1;35mallgather\u001b[0m][\u001b[1;32mDEBUG\u001b[0m] - R1/4:\u001b[1;32mMappings: (0, 1)\u001b[0m\n",
       "[2025-05-02 14:18:33,536][\u001b[1;36mtensorcraft.distributions.multi_axis\u001b[0m][\u001b[1;35mallgather\u001b[0m][\u001b[1;32mDEBUG\u001b[0m] - R1/4:\u001b[1;32mTensor axis: 1\u001b[0m\n",
       "[2025-05-02 14:18:33,544][\u001b[1;36mtensorcraft.distributions.multi_axis\u001b[0m][\u001b[1;35mallgather\u001b[0m][\u001b[1;32mDEBUG\u001b[0m] - R1/4:\u001b[1;32mMesh axis: 0\u001b[0m\n",
       "[2025-05-02 14:18:33,553][\u001b[1;36mtensorcraft.distributions.multi_axis\u001b[0m][\u001b[1;35mallgather\u001b[0m][\u001b[1;32mDEBUG\u001b[0m] - R1/4:\u001b[1;32mMappings: (0, 1)\u001b[0m\n",
       "[2025-05-02 14:18:33,565][\u001b[1;36mtensorcraft.mpi.distributions.multi_axis_dist\u001b[0m][\u001b[1;35m_apply_single_axis_allgather\u001b[0m][\u001b[1;32mDEBUG\u001b[0m] - R1/4:\u001b[1;32mNew distribution: D_[2,2]⊥{∅,1,∅}(∅,1,∅), new shape: torch.Size([2, 5, 2])\u001b[0m\n",
       "[2025-05-02 14:18:33,579][\u001b[1;36mtensorcraft.mpi.distributions.multi_axis_dist\u001b[0m][\u001b[1;35m_apply_single_axis_allgather\u001b[0m][\u001b[1;32mDEBUG\u001b[0m] - R1/4:\u001b[1;32mLocal tensor shape: torch.Size([2, 3, 2])\u001b[0m\n",
       "[2025-05-02 14:18:33,587][\u001b[1;36mtensorcraft.mpi.distributions.multi_axis_dist\u001b[0m][\u001b[1;35m_apply_single_axis_allgather\u001b[0m][\u001b[1;32mDEBUG\u001b[0m] - R1/4:\u001b[1;32mExpected local shape: torch.Size([2, 3, 2])\u001b[0m\n",
       "[2025-05-02 14:18:33,593][\u001b[1;36mtensorcraft.mpi.distributions.multi_axis_dist\u001b[0m][\u001b[1;35m_apply_single_axis_allgather\u001b[0m][\u001b[1;32mDEBUG\u001b[0m] - R1/4:\u001b[1;32mChanged tensor axis: 1\u001b[0m\n",
       "[2025-05-02 14:18:33,599][\u001b[1;36mtensorcraft.mpi.distributions.multi_axis_dist\u001b[0m][\u001b[1;35m_apply_single_axis_allgather\u001b[0m][\u001b[1;32mDEBUG\u001b[0m] - R1/4:\u001b[1;32mProcessor multi index: torch.Size([0, 1])\u001b[0m\n",
       "[2025-05-02 14:18:33,603][\u001b[1;36mtensorcraft.mpi.distributions.multi_axis_dist\u001b[0m][\u001b[1;35m_apply_single_axis_allgather\u001b[0m][\u001b[1;32mDEBUG\u001b[0m] - R1/4:\u001b[1;32mN procs: 2\u001b[0m\n",
       "[2025-05-02 14:18:33,609][\u001b[1;36mtensorcraft.mpi.distributions.multi_axis_dist\u001b[0m][\u001b[1;35m_apply_single_axis_allgather\u001b[0m][\u001b[1;32mDEBUG\u001b[0m] - R1/4:\u001b[1;32mRank of largest tensor in the subcommunicator: [0, 1] 1\u001b[0m\n",
       "[2025-05-02 14:18:33,617][\u001b[1;36mtensorcraft.mpi.distributions.multi_axis_dist\u001b[0m][\u001b[1;35m_apply_single_axis_allgather\u001b[0m][\u001b[1;32mDEBUG\u001b[0m] - R1/4:\u001b[1;32mN elements: 12\u001b[0m\n",
       "[2025-05-02 14:18:33,619][\u001b[1;36mtensorcraft.mpi.distributions.multi_axis_dist\u001b[0m][\u001b[1;35m_apply_single_axis_allgather\u001b[0m][\u001b[1;32mDEBUG\u001b[0m] - R1/4:\u001b[1;32mMax local shape: torch.Size([2, 3, 2])\u001b[0m\n",
       "[2025-05-02 14:18:33,620][\u001b[1;36mtensorcraft.mpi.distributions.multi_axis_dist\u001b[0m][\u001b[1;35m_apply_single_axis_allgather\u001b[0m][\u001b[1;32mDEBUG\u001b[0m] - R1/4:\u001b[1;32mPadding: 0\u001b[0m\n",
       "[2025-05-02 14:18:33,621][\u001b[1;36mtensorcraft.mpi.mpi_utils\u001b[0m][\u001b[1;35mtensor2mpiBuffer\u001b[0m][\u001b[1;32mDEBUG\u001b[0m] - R1/4:\u001b[1;32mtensor_stride: (22, 8, 1)\u001b[0m\n",
       "[2025-05-02 14:18:33,622][\u001b[1;36mtensorcraft.mpi.mpi_utils\u001b[0m][\u001b[1;35mtensor2mpiBuffer\u001b[0m][\u001b[1;32mDEBUG\u001b[0m] - R1/4:\u001b[1;32mtensor_offset: 2\u001b[0m\n",
       "[2025-05-02 14:18:33,623][\u001b[1;36mtensorcraft.mpi.mpi_utils\u001b[0m][\u001b[1;35mtensor2mpiBuffer\u001b[0m][\u001b[1;32mDEBUG\u001b[0m] - R1/4:\u001b[1;32mtensor_shape: torch.Size([2, 3, 2])\u001b[0m\n",
       "[2025-05-02 14:18:33,625][\u001b[1;36mtensorcraft.mpi.mpi_utils\u001b[0m][\u001b[1;35mtensor2mpiBuffer\u001b[0m][\u001b[1;32mDEBUG\u001b[0m] - R1/4:\u001b[1;32mtensor_dtype: torch.int64\u001b[0m\n",
       "[2025-05-02 14:18:33,626][\u001b[1;36mtensorcraft.mpi.distributions.multi_axis_dist\u001b[0m][\u001b[1;35m_apply_single_axis_allgather\u001b[0m][\u001b[1;32mDEBUG\u001b[0m] - R1/4:\u001b[1;32mSend buffer: (<mpi4py.MPI.buffer object at 0x79e0204c6090>, 1, <mpi4py.MPI.Datatype object at 0x79e1180eccc0>)\u001b[0m\n",
       "[2025-05-02 14:18:33,678][\u001b[1;36mtensorcraft.mpi.distributions.multi_axis_dist\u001b[0m][\u001b[1;35m_apply_single_axis_allgather\u001b[0m][\u001b[1;32mDEBUG\u001b[0m] - R1/4:\u001b[1;32mRecv_tensor : tensor([[[[[ 2,  3]],\n",
       "\n",
       "          [[10, 11]],\n",
       "\n",
       "          [[18, 19]]],\n",
       "\n",
       "\n",
       "         [[[22, 23]],\n",
       "\n",
       "          [[30, 31]],\n",
       "\n",
       "          [[38, 39]]]],\n",
       "\n",
       "\n",
       "\n",
       "        [[[[ 6,  7]],\n",
       "\n",
       "          [[14, 15]],\n",
       "\n",
       "          [[ 0,  0]]],\n",
       "\n",
       "\n",
       "         [[[26, 27]],\n",
       "\n",
       "          [[34, 35]],\n",
       "\n",
       "          [[ 0,  0]]]]])\u001b[0m\n",
       "[2025-05-02 14:18:33,680][\u001b[1;36mtensorcraft.mpi.distributions.multi_axis_dist\u001b[0m][\u001b[1;35m_apply_single_axis_allgather\u001b[0m][\u001b[1;32mDEBUG\u001b[0m] - R1/4:\u001b[1;32mReshaped tensor shape: torch.Size([2, 6, 2])\u001b[0m\n",
       "[2025-05-02 14:18:33,682][\u001b[1;36mtensorcraft.mpi.distributions.multi_axis_dist\u001b[0m][\u001b[1;35m_apply_single_axis_allgather\u001b[0m][\u001b[1;32mDEBUG\u001b[0m] - R1/4:\u001b[1;32mSlices: [slice(None, None, None), slice(0, 5, None), slice(None, None, None)]\u001b[0m\n",
       "[2025-05-02 14:18:33,683][\u001b[1;36mtensorcraft.mpi.distributions.multi_axis_dist\u001b[0m][\u001b[1;35m_apply_single_axis_allgather\u001b[0m][\u001b[1;32mDEBUG\u001b[0m] - R1/4:\u001b[1;32mFinal tensor shape: torch.Size([2, 5, 2])\u001b[0m\n",
       "tensor([[[ 2,  3],\n",
       "         [ 6,  7],\n",
       "         [10, 11],\n",
       "         [14, 15],\n",
       "         [18, 19]],\n",
       "\n",
       "        [[22, 23],\n",
       "         [26, 27],\n",
       "         [30, 31],\n",
       "         [34, 35],\n",
       "         [38, 39]]])\n"
      ]
     },
     "metadata": {},
     "output_type": "display_data"
    },
    {
     "data": {
      "text/plain": [
       "[stdout:2] [2025-05-02 14:18:33,526][\u001b[1;36mtensorcraft.distributions.multi_axis\u001b[0m][\u001b[1;35mallgather\u001b[0m][\u001b[1;32mDEBUG\u001b[0m] - R2/4:\u001b[1;32mTensor axis: 1\u001b[0m\n",
       "[2025-05-02 14:18:33,530][\u001b[1;36mtensorcraft.distributions.multi_axis\u001b[0m][\u001b[1;35mallgather\u001b[0m][\u001b[1;32mDEBUG\u001b[0m] - R2/4:\u001b[1;32mMesh axis: 0\u001b[0m\n",
       "[2025-05-02 14:18:33,531][\u001b[1;36mtensorcraft.distributions.multi_axis\u001b[0m][\u001b[1;35mallgather\u001b[0m][\u001b[1;32mDEBUG\u001b[0m] - R2/4:\u001b[1;32mMappings: (0, 1)\u001b[0m\n",
       "[2025-05-02 14:18:33,536][\u001b[1;36mtensorcraft.distributions.multi_axis\u001b[0m][\u001b[1;35mallgather\u001b[0m][\u001b[1;32mDEBUG\u001b[0m] - R2/4:\u001b[1;32mTensor axis: 1\u001b[0m\n",
       "[2025-05-02 14:18:33,544][\u001b[1;36mtensorcraft.distributions.multi_axis\u001b[0m][\u001b[1;35mallgather\u001b[0m][\u001b[1;32mDEBUG\u001b[0m] - R2/4:\u001b[1;32mMesh axis: 0\u001b[0m\n",
       "[2025-05-02 14:18:33,548][\u001b[1;36mtensorcraft.distributions.multi_axis\u001b[0m][\u001b[1;35mallgather\u001b[0m][\u001b[1;32mDEBUG\u001b[0m] - R2/4:\u001b[1;32mMappings: (0, 1)\u001b[0m\n",
       "[2025-05-02 14:18:33,553][\u001b[1;36mtensorcraft.mpi.distributions.multi_axis_dist\u001b[0m][\u001b[1;35m_apply_single_axis_allgather\u001b[0m][\u001b[1;32mDEBUG\u001b[0m] - R2/4:\u001b[1;32mNew distribution: D_[2,2]⊥{∅,1,∅}(∅,1,∅), new shape: torch.Size([2, 5, 2])\u001b[0m\n",
       "[2025-05-02 14:18:33,558][\u001b[1;36mtensorcraft.mpi.distributions.multi_axis_dist\u001b[0m][\u001b[1;35m_apply_single_axis_allgather\u001b[0m][\u001b[1;32mDEBUG\u001b[0m] - R2/4:\u001b[1;32mLocal tensor shape: torch.Size([2, 2, 2])\u001b[0m\n",
       "[2025-05-02 14:18:33,559][\u001b[1;36mtensorcraft.mpi.distributions.multi_axis_dist\u001b[0m][\u001b[1;35m_apply_single_axis_allgather\u001b[0m][\u001b[1;32mDEBUG\u001b[0m] - R2/4:\u001b[1;32mExpected local shape: torch.Size([2, 2, 2])\u001b[0m\n",
       "[2025-05-02 14:18:33,562][\u001b[1;36mtensorcraft.mpi.distributions.multi_axis_dist\u001b[0m][\u001b[1;35m_apply_single_axis_allgather\u001b[0m][\u001b[1;32mDEBUG\u001b[0m] - R2/4:\u001b[1;32mChanged tensor axis: 1\u001b[0m\n",
       "[2025-05-02 14:18:33,564][\u001b[1;36mtensorcraft.mpi.distributions.multi_axis_dist\u001b[0m][\u001b[1;35m_apply_single_axis_allgather\u001b[0m][\u001b[1;32mDEBUG\u001b[0m] - R2/4:\u001b[1;32mProcessor multi index: torch.Size([1, 0])\u001b[0m\n",
       "[2025-05-02 14:18:33,566][\u001b[1;36mtensorcraft.mpi.distributions.multi_axis_dist\u001b[0m][\u001b[1;35m_apply_single_axis_allgather\u001b[0m][\u001b[1;32mDEBUG\u001b[0m] - R2/4:\u001b[1;32mN procs: 2\u001b[0m\n",
       "[2025-05-02 14:18:33,568][\u001b[1;36mtensorcraft.mpi.distributions.multi_axis_dist\u001b[0m][\u001b[1;35m_apply_single_axis_allgather\u001b[0m][\u001b[1;32mDEBUG\u001b[0m] - R2/4:\u001b[1;32mRank of largest tensor in the subcommunicator: [0, 0] 0\u001b[0m\n",
       "[2025-05-02 14:18:33,577][\u001b[1;36mtensorcraft.mpi.distributions.multi_axis_dist\u001b[0m][\u001b[1;35m_apply_single_axis_allgather\u001b[0m][\u001b[1;32mDEBUG\u001b[0m] - R2/4:\u001b[1;32mN elements: 12\u001b[0m\n",
       "[2025-05-02 14:18:33,579][\u001b[1;36mtensorcraft.mpi.distributions.multi_axis_dist\u001b[0m][\u001b[1;35m_apply_single_axis_allgather\u001b[0m][\u001b[1;32mDEBUG\u001b[0m] - R2/4:\u001b[1;32mMax local shape: torch.Size([2, 3, 2])\u001b[0m\n",
       "[2025-05-02 14:18:33,581][\u001b[1;36mtensorcraft.mpi.distributions.multi_axis_dist\u001b[0m][\u001b[1;35m_apply_single_axis_allgather\u001b[0m][\u001b[1;32mDEBUG\u001b[0m] - R2/4:\u001b[1;32mPadding: 1\u001b[0m\n",
       "[2025-05-02 14:18:33,583][\u001b[1;36mtensorcraft.mpi.distributions.multi_axis_dist\u001b[0m][\u001b[1;35m_apply_single_axis_allgather\u001b[0m][\u001b[1;32mDEBUG\u001b[0m] - R2/4:\u001b[1;32mPadding tuple: [0, 0, 1, 0, 0, 0]\u001b[0m\n",
       "[2025-05-02 14:18:33,585][\u001b[1;36mtensorcraft.mpi.distributions.multi_axis_dist\u001b[0m][\u001b[1;35m_apply_single_axis_allgather\u001b[0m][\u001b[1;32mDEBUG\u001b[0m] - R2/4:\u001b[1;32mPadded local tensor shape: torch.Size([2, 3, 2])\u001b[0m\n",
       "[2025-05-02 14:18:33,592][\u001b[1;36mtensorcraft.mpi.distributions.multi_axis_dist\u001b[0m][\u001b[1;35m_apply_single_axis_allgather\u001b[0m][\u001b[1;32mDEBUG\u001b[0m] - R2/4:\u001b[1;32mPadded local tensor: tensor([[[ 4,  5],\n",
       "         [12, 13],\n",
       "         [ 0,  0]],\n",
       "\n",
       "        [[24, 25],\n",
       "         [32, 33],\n",
       "         [ 0,  0]]])\u001b[0m\n",
       "[2025-05-02 14:18:33,596][\u001b[1;36mtensorcraft.mpi.mpi_utils\u001b[0m][\u001b[1;35mtensor2mpiBuffer\u001b[0m][\u001b[1;32mDEBUG\u001b[0m] - R2/4:\u001b[1;32mtensor_stride: (6, 2, 1)\u001b[0m\n",
       "[2025-05-02 14:18:33,597][\u001b[1;36mtensorcraft.mpi.mpi_utils\u001b[0m][\u001b[1;35mtensor2mpiBuffer\u001b[0m][\u001b[1;32mDEBUG\u001b[0m] - R2/4:\u001b[1;32mtensor_offset: 0\u001b[0m\n",
       "[2025-05-02 14:18:33,598][\u001b[1;36mtensorcraft.mpi.mpi_utils\u001b[0m][\u001b[1;35mtensor2mpiBuffer\u001b[0m][\u001b[1;32mDEBUG\u001b[0m] - R2/4:\u001b[1;32mtensor_shape: torch.Size([2, 3, 2])\u001b[0m\n",
       "[2025-05-02 14:18:33,600][\u001b[1;36mtensorcraft.mpi.mpi_utils\u001b[0m][\u001b[1;35mtensor2mpiBuffer\u001b[0m][\u001b[1;32mDEBUG\u001b[0m] - R2/4:\u001b[1;32mtensor_dtype: torch.int64\u001b[0m\n",
       "[2025-05-02 14:18:33,605][\u001b[1;36mtensorcraft.mpi.mpi_utils\u001b[0m][\u001b[1;35mtensor2mpiBuffer\u001b[0m][\u001b[1;32mDEBUG\u001b[0m] - R2/4:\u001b[1;32mBest case scenario, it is contiguous!\u001b[0m\n",
       "[2025-05-02 14:18:33,609][\u001b[1;36mtensorcraft.mpi.distributions.multi_axis_dist\u001b[0m][\u001b[1;35m_apply_single_axis_allgather\u001b[0m][\u001b[1;32mDEBUG\u001b[0m] - R2/4:\u001b[1;32mSend buffer: (<mpi4py.MPI.buffer object at 0x74da2efde090>, 12, <mpi4py.MPI.Datatype object at 0x74db2c32c6f0>)\u001b[0m\n",
       "[2025-05-02 14:18:33,686][\u001b[1;36mtensorcraft.mpi.distributions.multi_axis_dist\u001b[0m][\u001b[1;35m_apply_single_axis_allgather\u001b[0m][\u001b[1;32mDEBUG\u001b[0m] - R2/4:\u001b[1;32mRecv_tensor : tensor([[[[[ 0,  1]],\n",
       "\n",
       "          [[ 8,  9]],\n",
       "\n",
       "          [[16, 17]]],\n",
       "\n",
       "\n",
       "         [[[20, 21]],\n",
       "\n",
       "          [[28, 29]],\n",
       "\n",
       "          [[36, 37]]]],\n",
       "\n",
       "\n",
       "\n",
       "        [[[[ 4,  5]],\n",
       "\n",
       "          [[12, 13]],\n",
       "\n",
       "          [[ 0,  0]]],\n",
       "\n",
       "\n",
       "         [[[24, 25]],\n",
       "\n",
       "          [[32, 33]],\n",
       "\n",
       "          [[ 0,  0]]]]])\u001b[0m\n",
       "[2025-05-02 14:18:33,693][\u001b[1;36mtensorcraft.mpi.distributions.multi_axis_dist\u001b[0m][\u001b[1;35m_apply_single_axis_allgather\u001b[0m][\u001b[1;32mDEBUG\u001b[0m] - R2/4:\u001b[1;32mReshaped tensor shape: torch.Size([2, 6, 2])\u001b[0m\n",
       "[2025-05-02 14:18:33,697][\u001b[1;36mtensorcraft.mpi.distributions.multi_axis_dist\u001b[0m][\u001b[1;35m_apply_single_axis_allgather\u001b[0m][\u001b[1;32mDEBUG\u001b[0m] - R2/4:\u001b[1;32mSlices: [slice(None, None, None), slice(0, 5, None), slice(None, None, None)]\u001b[0m\n",
       "[2025-05-02 14:18:33,700][\u001b[1;36mtensorcraft.mpi.distributions.multi_axis_dist\u001b[0m][\u001b[1;35m_apply_single_axis_allgather\u001b[0m][\u001b[1;32mDEBUG\u001b[0m] - R2/4:\u001b[1;32mFinal tensor shape: torch.Size([2, 5, 2])\u001b[0m\n",
       "tensor([[[ 0,  1],\n",
       "         [ 4,  5],\n",
       "         [ 8,  9],\n",
       "         [12, 13],\n",
       "         [16, 17]],\n",
       "\n",
       "        [[20, 21],\n",
       "         [24, 25],\n",
       "         [28, 29],\n",
       "         [32, 33],\n",
       "         [36, 37]]])\n"
      ]
     },
     "metadata": {},
     "output_type": "display_data"
    },
    {
     "data": {
      "text/plain": [
       "[stderr:3] /home/juanpedroghm/code/tensorcraft/tensorcraft/util/axis_utils.py:120: UserWarning: To copy construct from a tensor, it is recommended to use sourceTensor.clone().detach() or sourceTensor.clone().detach().requires_grad_(True), rather than torch.tensor(sourceTensor).\n",
       "  index_tensor = torch.tensor(index)\n"
      ]
     },
     "metadata": {},
     "output_type": "display_data"
    },
    {
     "data": {
      "text/plain": [
       "[stderr:1] /home/juanpedroghm/code/tensorcraft/tensorcraft/util/axis_utils.py:120: UserWarning: To copy construct from a tensor, it is recommended to use sourceTensor.clone().detach() or sourceTensor.clone().detach().requires_grad_(True), rather than torch.tensor(sourceTensor).\n",
       "  index_tensor = torch.tensor(index)\n"
      ]
     },
     "metadata": {},
     "output_type": "display_data"
    },
    {
     "data": {
      "text/plain": [
       "[stderr:0] /home/juanpedroghm/code/tensorcraft/tensorcraft/util/axis_utils.py:120: UserWarning: To copy construct from a tensor, it is recommended to use sourceTensor.clone().detach() or sourceTensor.clone().detach().requires_grad_(True), rather than torch.tensor(sourceTensor).\n",
       "  index_tensor = torch.tensor(index)\n"
      ]
     },
     "metadata": {},
     "output_type": "display_data"
    },
    {
     "data": {
      "text/plain": [
       "[stderr:2] /home/juanpedroghm/code/tensorcraft/tensorcraft/util/axis_utils.py:120: UserWarning: To copy construct from a tensor, it is recommended to use sourceTensor.clone().detach() or sourceTensor.clone().detach().requires_grad_(True), rather than torch.tensor(sourceTensor).\n",
       "  index_tensor = torch.tensor(index)\n"
      ]
     },
     "metadata": {},
     "output_type": "display_data"
    }
   ],
   "source": [
    "%%px\n",
    "new_dist, post_gather = dist.apply_allgather(x.shape, x_local, comm, gather_mesh_dim=0)\n",
    "print(post_gather)"
   ]
  },
  {
   "cell_type": "code",
   "execution_count": null,
   "metadata": {},
   "outputs": [
    {
     "data": {
      "text/plain": [
       "\u001b[0;31mOut[2:4]: \u001b[0m\n",
       "tensor([[[ 0,  1],\n",
       "         [ 4,  5],\n",
       "         [ 8,  9],\n",
       "         [12, 13],\n",
       "         [16, 17]],\n",
       "\n",
       "        [[20, 21],\n",
       "         [24, 25],\n",
       "         [28, 29],\n",
       "         [32, 33],\n",
       "         [36, 37]]])"
      ]
     },
     "metadata": {
      "after": null,
      "completed": null,
      "data": {},
      "engine_id": 2,
      "engine_uuid": "1f57be5e-263c2d3698ea3f5522017e5f",
      "error": null,
      "execute_input": "post_gather\n",
      "execute_result": {
       "data": {
        "text/plain": "tensor([[[ 0,  1],\n         [ 4,  5],\n         [ 8,  9],\n         [12, 13],\n         [16, 17]],\n\n        [[20, 21],\n         [24, 25],\n         [28, 29],\n         [32, 33],\n         [36, 37]]])"
       },
       "execution_count": 4,
       "metadata": {}
      },
      "follow": null,
      "msg_id": null,
      "outputs": [],
      "received": null,
      "started": null,
      "status": null,
      "stderr": "",
      "stdout": "",
      "submitted": "2025-05-02T12:19:16.140416Z"
     },
     "output_type": "display_data"
    },
    {
     "data": {
      "text/plain": [
       "\u001b[0;31mOut[0:4]: \u001b[0m\n",
       "tensor([[[ 0,  1],\n",
       "         [ 4,  5],\n",
       "         [ 8,  9],\n",
       "         [12, 13],\n",
       "         [16, 17]],\n",
       "\n",
       "        [[20, 21],\n",
       "         [24, 25],\n",
       "         [28, 29],\n",
       "         [32, 33],\n",
       "         [36, 37]]])"
      ]
     },
     "metadata": {
      "after": null,
      "completed": null,
      "data": {},
      "engine_id": 0,
      "engine_uuid": "543db57a-aa03f3f688255bf1478d11f6",
      "error": null,
      "execute_input": "post_gather\n",
      "execute_result": {
       "data": {
        "text/plain": "tensor([[[ 0,  1],\n         [ 4,  5],\n         [ 8,  9],\n         [12, 13],\n         [16, 17]],\n\n        [[20, 21],\n         [24, 25],\n         [28, 29],\n         [32, 33],\n         [36, 37]]])"
       },
       "execution_count": 4,
       "metadata": {}
      },
      "follow": null,
      "msg_id": null,
      "outputs": [],
      "received": null,
      "started": null,
      "status": null,
      "stderr": "",
      "stdout": "",
      "submitted": "2025-05-02T12:19:16.138488Z"
     },
     "output_type": "display_data"
    },
    {
     "data": {
      "text/plain": [
       "\u001b[0;31mOut[1:4]: \u001b[0m\n",
       "tensor([[[ 2,  3],\n",
       "         [ 6,  7],\n",
       "         [10, 11],\n",
       "         [14, 15],\n",
       "         [18, 19]],\n",
       "\n",
       "        [[22, 23],\n",
       "         [26, 27],\n",
       "         [30, 31],\n",
       "         [34, 35],\n",
       "         [38, 39]]])"
      ]
     },
     "metadata": {
      "after": null,
      "completed": null,
      "data": {},
      "engine_id": 1,
      "engine_uuid": "0d331a0f-aa88197e292a8b599d876c81",
      "error": null,
      "execute_input": "post_gather\n",
      "execute_result": {
       "data": {
        "text/plain": "tensor([[[ 2,  3],\n         [ 6,  7],\n         [10, 11],\n         [14, 15],\n         [18, 19]],\n\n        [[22, 23],\n         [26, 27],\n         [30, 31],\n         [34, 35],\n         [38, 39]]])"
       },
       "execution_count": 4,
       "metadata": {}
      },
      "follow": null,
      "msg_id": null,
      "outputs": [],
      "received": null,
      "started": null,
      "status": null,
      "stderr": "",
      "stdout": "",
      "submitted": "2025-05-02T12:19:16.139454Z"
     },
     "output_type": "display_data"
    },
    {
     "data": {
      "text/plain": [
       "\u001b[0;31mOut[3:4]: \u001b[0m\n",
       "tensor([[[ 2,  3],\n",
       "         [ 6,  7],\n",
       "         [10, 11],\n",
       "         [14, 15],\n",
       "         [18, 19]],\n",
       "\n",
       "        [[22, 23],\n",
       "         [26, 27],\n",
       "         [30, 31],\n",
       "         [34, 35],\n",
       "         [38, 39]]])"
      ]
     },
     "metadata": {
      "after": [],
      "completed": "2025-05-02T12:19:16.162143Z",
      "data": {},
      "engine_id": 3,
      "engine_uuid": "7988defa-219c7142d380c50f323fc46a",
      "error": null,
      "execute_input": "post_gather\n",
      "execute_result": {
       "data": {
        "text/plain": "tensor([[[ 2,  3],\n         [ 6,  7],\n         [10, 11],\n         [14, 15],\n         [18, 19]],\n\n        [[22, 23],\n         [26, 27],\n         [30, 31],\n         [34, 35],\n         [38, 39]]])"
       },
       "execution_count": 4,
       "metadata": {}
      },
      "follow": [],
      "is_broadcast": false,
      "is_coalescing": false,
      "msg_id": "2651df02-373247f1f0a7f3bcc6efb471_136847_16",
      "outputs": [],
      "received": "2025-05-02T12:19:16.165357Z",
      "started": "2025-05-02T12:19:16.148779Z",
      "status": "ok",
      "stderr": "",
      "stdout": "",
      "submitted": "2025-05-02T12:19:16.140486Z"
     },
     "output_type": "display_data"
    }
   ],
   "source": [
    "%%px\n",
    "post_gather"
   ]
  },
  {
   "cell_type": "code",
   "execution_count": null,
   "metadata": {},
   "outputs": [
    {
     "data": {
      "text/plain": [
       "[stdout:0] [2025-05-02 14:19:16,455][\u001b[1;36mtensorcraft.distributions.multi_axis\u001b[0m][\u001b[1;35mallgather\u001b[0m][\u001b[1;32mDEBUG\u001b[0m] - R0/4:\u001b[1;32mTensor axis: 1\u001b[0m\n",
       "[2025-05-02 14:19:16,457][\u001b[1;36mtensorcraft.distributions.multi_axis\u001b[0m][\u001b[1;35mallgather\u001b[0m][\u001b[1;32mDEBUG\u001b[0m] - R0/4:\u001b[1;32mMesh axis: 1\u001b[0m\n",
       "[2025-05-02 14:19:16,458][\u001b[1;36mtensorcraft.distributions.multi_axis\u001b[0m][\u001b[1;35mallgather\u001b[0m][\u001b[1;32mDEBUG\u001b[0m] - R0/4:\u001b[1;32mMappings: (0, 1)\u001b[0m\n",
       "[2025-05-02 14:19:16,461][\u001b[1;36mtensorcraft.distributions.multi_axis\u001b[0m][\u001b[1;35mallgather\u001b[0m][\u001b[1;32mDEBUG\u001b[0m] - R0/4:\u001b[1;32mTensor axis: 1\u001b[0m\n",
       "[2025-05-02 14:19:16,464][\u001b[1;36mtensorcraft.distributions.multi_axis\u001b[0m][\u001b[1;35mallgather\u001b[0m][\u001b[1;32mDEBUG\u001b[0m] - R0/4:\u001b[1;32mMesh axis: 1\u001b[0m\n",
       "[2025-05-02 14:19:16,465][\u001b[1;36mtensorcraft.distributions.multi_axis\u001b[0m][\u001b[1;35mallgather\u001b[0m][\u001b[1;32mDEBUG\u001b[0m] - R0/4:\u001b[1;32mMappings: (0, 1)\u001b[0m\n",
       "[2025-05-02 14:19:16,466][\u001b[1;36mtensorcraft.mpi.distributions.multi_axis_dist\u001b[0m][\u001b[1;35m_apply_single_axis_allgather\u001b[0m][\u001b[1;32mDEBUG\u001b[0m] - R0/4:\u001b[1;32mNew distribution: D_[2,2]⊥{∅,0,∅}(∅,2,∅), new shape: torch.Size([2, 6, 2])\u001b[0m\n",
       "[2025-05-02 14:19:16,467][\u001b[1;36mtensorcraft.mpi.distributions.multi_axis_dist\u001b[0m][\u001b[1;35m_apply_single_axis_allgather\u001b[0m][\u001b[1;32mDEBUG\u001b[0m] - R0/4:\u001b[1;32mLocal tensor shape: torch.Size([2, 3, 2])\u001b[0m\n",
       "[2025-05-02 14:19:16,468][\u001b[1;36mtensorcraft.mpi.distributions.multi_axis_dist\u001b[0m][\u001b[1;35m_apply_single_axis_allgather\u001b[0m][\u001b[1;32mDEBUG\u001b[0m] - R0/4:\u001b[1;32mExpected local shape: torch.Size([2, 3, 2])\u001b[0m\n",
       "[2025-05-02 14:19:16,468][\u001b[1;36mtensorcraft.mpi.distributions.multi_axis_dist\u001b[0m][\u001b[1;35m_apply_single_axis_allgather\u001b[0m][\u001b[1;32mDEBUG\u001b[0m] - R0/4:\u001b[1;32mChanged tensor axis: 1\u001b[0m\n",
       "[2025-05-02 14:19:16,469][\u001b[1;36mtensorcraft.mpi.distributions.multi_axis_dist\u001b[0m][\u001b[1;35m_apply_single_axis_allgather\u001b[0m][\u001b[1;32mDEBUG\u001b[0m] - R0/4:\u001b[1;32mProcessor multi index: torch.Size([0, 0])\u001b[0m\n",
       "[2025-05-02 14:19:16,469][\u001b[1;36mtensorcraft.mpi.distributions.multi_axis_dist\u001b[0m][\u001b[1;35m_apply_single_axis_allgather\u001b[0m][\u001b[1;32mDEBUG\u001b[0m] - R0/4:\u001b[1;32mN procs: 2\u001b[0m\n",
       "[2025-05-02 14:19:16,469][\u001b[1;36mtensorcraft.mpi.distributions.multi_axis_dist\u001b[0m][\u001b[1;35m_apply_single_axis_allgather\u001b[0m][\u001b[1;32mDEBUG\u001b[0m] - R0/4:\u001b[1;32mRank of largest tensor in the subcommunicator: [0, 0] 0\u001b[0m\n",
       "[2025-05-02 14:19:16,471][\u001b[1;36mtensorcraft.mpi.distributions.multi_axis_dist\u001b[0m][\u001b[1;35m_apply_single_axis_allgather\u001b[0m][\u001b[1;32mDEBUG\u001b[0m] - R0/4:\u001b[1;32mN elements: 12\u001b[0m\n",
       "[2025-05-02 14:19:16,472][\u001b[1;36mtensorcraft.mpi.distributions.multi_axis_dist\u001b[0m][\u001b[1;35m_apply_single_axis_allgather\u001b[0m][\u001b[1;32mDEBUG\u001b[0m] - R0/4:\u001b[1;32mMax local shape: torch.Size([2, 3, 2])\u001b[0m\n",
       "[2025-05-02 14:19:16,472][\u001b[1;36mtensorcraft.mpi.distributions.multi_axis_dist\u001b[0m][\u001b[1;35m_apply_single_axis_allgather\u001b[0m][\u001b[1;32mDEBUG\u001b[0m] - R0/4:\u001b[1;32mPadding: 0\u001b[0m\n",
       "[2025-05-02 14:19:16,472][\u001b[1;36mtensorcraft.mpi.mpi_utils\u001b[0m][\u001b[1;35mtensor2mpiBuffer\u001b[0m][\u001b[1;32mDEBUG\u001b[0m] - R0/4:\u001b[1;32mtensor_stride: (22, 8, 1)\u001b[0m\n",
       "[2025-05-02 14:19:16,473][\u001b[1;36mtensorcraft.mpi.mpi_utils\u001b[0m][\u001b[1;35mtensor2mpiBuffer\u001b[0m][\u001b[1;32mDEBUG\u001b[0m] - R0/4:\u001b[1;32mtensor_offset: 0\u001b[0m\n",
       "[2025-05-02 14:19:16,473][\u001b[1;36mtensorcraft.mpi.mpi_utils\u001b[0m][\u001b[1;35mtensor2mpiBuffer\u001b[0m][\u001b[1;32mDEBUG\u001b[0m] - R0/4:\u001b[1;32mtensor_shape: torch.Size([2, 3, 2])\u001b[0m\n",
       "[2025-05-02 14:19:16,473][\u001b[1;36mtensorcraft.mpi.mpi_utils\u001b[0m][\u001b[1;35mtensor2mpiBuffer\u001b[0m][\u001b[1;32mDEBUG\u001b[0m] - R0/4:\u001b[1;32mtensor_dtype: torch.int64\u001b[0m\n",
       "[2025-05-02 14:19:16,473][\u001b[1;36mtensorcraft.mpi.distributions.multi_axis_dist\u001b[0m][\u001b[1;35m_apply_single_axis_allgather\u001b[0m][\u001b[1;32mDEBUG\u001b[0m] - R0/4:\u001b[1;32mSend buffer: (<mpi4py.MPI.buffer object at 0x7a682aee6090>, 1, <mpi4py.MPI.Datatype object at 0x7a682df8f990>)\u001b[0m\n",
       "[2025-05-02 14:19:16,517][\u001b[1;36mtensorcraft.mpi.distributions.multi_axis_dist\u001b[0m][\u001b[1;35m_apply_single_axis_allgather\u001b[0m][\u001b[1;32mDEBUG\u001b[0m] - R0/4:\u001b[1;32mRecv_tensor : tensor([[[[[ 0,  1]],\n",
       "\n",
       "          [[ 8,  9]],\n",
       "\n",
       "          [[16, 17]]],\n",
       "\n",
       "\n",
       "         [[[20, 21]],\n",
       "\n",
       "          [[28, 29]],\n",
       "\n",
       "          [[36, 37]]]],\n",
       "\n",
       "\n",
       "\n",
       "        [[[[ 2,  3]],\n",
       "\n",
       "          [[10, 11]],\n",
       "\n",
       "          [[18, 19]]],\n",
       "\n",
       "\n",
       "         [[[22, 23]],\n",
       "\n",
       "          [[30, 31]],\n",
       "\n",
       "          [[38, 39]]]]])\u001b[0m\n",
       "[2025-05-02 14:19:16,519][\u001b[1;36mtensorcraft.mpi.distributions.multi_axis_dist\u001b[0m][\u001b[1;35m_apply_single_axis_allgather\u001b[0m][\u001b[1;32mDEBUG\u001b[0m] - R0/4:\u001b[1;32mReshaped tensor shape: torch.Size([2, 6, 2])\u001b[0m\n",
       "[2025-05-02 14:19:16,520][\u001b[1;36mtensorcraft.mpi.distributions.multi_axis_dist\u001b[0m][\u001b[1;35m_apply_single_axis_allgather\u001b[0m][\u001b[1;32mDEBUG\u001b[0m] - R0/4:\u001b[1;32mSlices: [slice(None, None, None), slice(0, 6, None), slice(None, None, None)]\u001b[0m\n",
       "[2025-05-02 14:19:16,521][\u001b[1;36mtensorcraft.mpi.distributions.multi_axis_dist\u001b[0m][\u001b[1;35m_apply_single_axis_allgather\u001b[0m][\u001b[1;32mDEBUG\u001b[0m] - R0/4:\u001b[1;32mFinal tensor shape: torch.Size([2, 6, 2])\u001b[0m\n",
       "tensor([[[ 0,  1],\n",
       "         [ 2,  3],\n",
       "         [ 8,  9],\n",
       "         [10, 11],\n",
       "         [16, 17],\n",
       "         [18, 19]],\n",
       "\n",
       "        [[20, 21],\n",
       "         [22, 23],\n",
       "         [28, 29],\n",
       "         [30, 31],\n",
       "         [36, 37],\n",
       "         [38, 39]]])\n"
      ]
     },
     "metadata": {},
     "output_type": "display_data"
    },
    {
     "data": {
      "text/plain": [
       "[stdout:3] [2025-05-02 14:19:16,456][\u001b[1;36mtensorcraft.distributions.multi_axis\u001b[0m][\u001b[1;35mallgather\u001b[0m][\u001b[1;32mDEBUG\u001b[0m] - R3/4:\u001b[1;32mTensor axis: 1\u001b[0m\n",
       "[2025-05-02 14:19:16,458][\u001b[1;36mtensorcraft.distributions.multi_axis\u001b[0m][\u001b[1;35mallgather\u001b[0m][\u001b[1;32mDEBUG\u001b[0m] - R3/4:\u001b[1;32mMesh axis: 1\u001b[0m\n",
       "[2025-05-02 14:19:16,459][\u001b[1;36mtensorcraft.distributions.multi_axis\u001b[0m][\u001b[1;35mallgather\u001b[0m][\u001b[1;32mDEBUG\u001b[0m] - R3/4:\u001b[1;32mMappings: (0, 1)\u001b[0m\n",
       "[2025-05-02 14:19:16,461][\u001b[1;36mtensorcraft.distributions.multi_axis\u001b[0m][\u001b[1;35mallgather\u001b[0m][\u001b[1;32mDEBUG\u001b[0m] - R3/4:\u001b[1;32mTensor axis: 1\u001b[0m\n",
       "[2025-05-02 14:19:16,463][\u001b[1;36mtensorcraft.distributions.multi_axis\u001b[0m][\u001b[1;35mallgather\u001b[0m][\u001b[1;32mDEBUG\u001b[0m] - R3/4:\u001b[1;32mMesh axis: 1\u001b[0m\n",
       "[2025-05-02 14:19:16,464][\u001b[1;36mtensorcraft.distributions.multi_axis\u001b[0m][\u001b[1;35mallgather\u001b[0m][\u001b[1;32mDEBUG\u001b[0m] - R3/4:\u001b[1;32mMappings: (0, 1)\u001b[0m\n",
       "[2025-05-02 14:19:16,465][\u001b[1;36mtensorcraft.mpi.distributions.multi_axis_dist\u001b[0m][\u001b[1;35m_apply_single_axis_allgather\u001b[0m][\u001b[1;32mDEBUG\u001b[0m] - R3/4:\u001b[1;32mNew distribution: D_[2,2]⊥{∅,0,∅}(∅,2,∅), new shape: torch.Size([2, 4, 2])\u001b[0m\n",
       "[2025-05-02 14:19:16,467][\u001b[1;36mtensorcraft.mpi.distributions.multi_axis_dist\u001b[0m][\u001b[1;35m_apply_single_axis_allgather\u001b[0m][\u001b[1;32mDEBUG\u001b[0m] - R3/4:\u001b[1;32mLocal tensor shape: torch.Size([2, 2, 2])\u001b[0m\n",
       "[2025-05-02 14:19:16,468][\u001b[1;36mtensorcraft.mpi.distributions.multi_axis_dist\u001b[0m][\u001b[1;35m_apply_single_axis_allgather\u001b[0m][\u001b[1;32mDEBUG\u001b[0m] - R3/4:\u001b[1;32mExpected local shape: torch.Size([2, 2, 2])\u001b[0m\n",
       "[2025-05-02 14:19:16,468][\u001b[1;36mtensorcraft.mpi.distributions.multi_axis_dist\u001b[0m][\u001b[1;35m_apply_single_axis_allgather\u001b[0m][\u001b[1;32mDEBUG\u001b[0m] - R3/4:\u001b[1;32mChanged tensor axis: 1\u001b[0m\n",
       "[2025-05-02 14:19:16,469][\u001b[1;36mtensorcraft.mpi.distributions.multi_axis_dist\u001b[0m][\u001b[1;35m_apply_single_axis_allgather\u001b[0m][\u001b[1;32mDEBUG\u001b[0m] - R3/4:\u001b[1;32mProcessor multi index: torch.Size([1, 1])\u001b[0m\n",
       "[2025-05-02 14:19:16,469][\u001b[1;36mtensorcraft.mpi.distributions.multi_axis_dist\u001b[0m][\u001b[1;35m_apply_single_axis_allgather\u001b[0m][\u001b[1;32mDEBUG\u001b[0m] - R3/4:\u001b[1;32mN procs: 2\u001b[0m\n",
       "[2025-05-02 14:19:16,472][\u001b[1;36mtensorcraft.mpi.distributions.multi_axis_dist\u001b[0m][\u001b[1;35m_apply_single_axis_allgather\u001b[0m][\u001b[1;32mDEBUG\u001b[0m] - R3/4:\u001b[1;32mRank of largest tensor in the subcommunicator: [1, 0] 2\u001b[0m\n",
       "[2025-05-02 14:19:16,472][\u001b[1;36mtensorcraft.mpi.distributions.multi_axis_dist\u001b[0m][\u001b[1;35m_apply_single_axis_allgather\u001b[0m][\u001b[1;32mDEBUG\u001b[0m] - R3/4:\u001b[1;32mN elements: 8\u001b[0m\n",
       "[2025-05-02 14:19:16,475][\u001b[1;36mtensorcraft.mpi.distributions.multi_axis_dist\u001b[0m][\u001b[1;35m_apply_single_axis_allgather\u001b[0m][\u001b[1;32mDEBUG\u001b[0m] - R3/4:\u001b[1;32mMax local shape: torch.Size([2, 2, 2])\u001b[0m\n",
       "[2025-05-02 14:19:16,476][\u001b[1;36mtensorcraft.mpi.distributions.multi_axis_dist\u001b[0m][\u001b[1;35m_apply_single_axis_allgather\u001b[0m][\u001b[1;32mDEBUG\u001b[0m] - R3/4:\u001b[1;32mPadding: 0\u001b[0m\n",
       "[2025-05-02 14:19:16,476][\u001b[1;36mtensorcraft.mpi.mpi_utils\u001b[0m][\u001b[1;35mtensor2mpiBuffer\u001b[0m][\u001b[1;32mDEBUG\u001b[0m] - R3/4:\u001b[1;32mtensor_stride: (22, 8, 1)\u001b[0m\n",
       "[2025-05-02 14:19:16,478][\u001b[1;36mtensorcraft.mpi.mpi_utils\u001b[0m][\u001b[1;35mtensor2mpiBuffer\u001b[0m][\u001b[1;32mDEBUG\u001b[0m] - R3/4:\u001b[1;32mtensor_offset: 6\u001b[0m\n",
       "[2025-05-02 14:19:16,478][\u001b[1;36mtensorcraft.mpi.mpi_utils\u001b[0m][\u001b[1;35mtensor2mpiBuffer\u001b[0m][\u001b[1;32mDEBUG\u001b[0m] - R3/4:\u001b[1;32mtensor_shape: torch.Size([2, 2, 2])\u001b[0m\n",
       "[2025-05-02 14:19:16,479][\u001b[1;36mtensorcraft.mpi.mpi_utils\u001b[0m][\u001b[1;35mtensor2mpiBuffer\u001b[0m][\u001b[1;32mDEBUG\u001b[0m] - R3/4:\u001b[1;32mtensor_dtype: torch.int64\u001b[0m\n",
       "[2025-05-02 14:19:16,479][\u001b[1;36mtensorcraft.mpi.distributions.multi_axis_dist\u001b[0m][\u001b[1;35m_apply_single_axis_allgather\u001b[0m][\u001b[1;32mDEBUG\u001b[0m] - R3/4:\u001b[1;32mSend buffer: (<mpi4py.MPI.buffer object at 0x7a14854ba090>, 1, <mpi4py.MPI.Datatype object at 0x7a157bf91fb0>)\u001b[0m\n",
       "[2025-05-02 14:19:16,524][\u001b[1;36mtensorcraft.mpi.distributions.multi_axis_dist\u001b[0m][\u001b[1;35m_apply_single_axis_allgather\u001b[0m][\u001b[1;32mDEBUG\u001b[0m] - R3/4:\u001b[1;32mRecv_tensor : tensor([[[[[ 4,  5]],\n",
       "\n",
       "          [[12, 13]]],\n",
       "\n",
       "\n",
       "         [[[24, 25]],\n",
       "\n",
       "          [[32, 33]]]],\n",
       "\n",
       "\n",
       "\n",
       "        [[[[ 6,  7]],\n",
       "\n",
       "          [[14, 15]]],\n",
       "\n",
       "\n",
       "         [[[26, 27]],\n",
       "\n",
       "          [[34, 35]]]]])\u001b[0m\n",
       "[2025-05-02 14:19:16,529][\u001b[1;36mtensorcraft.mpi.distributions.multi_axis_dist\u001b[0m][\u001b[1;35m_apply_single_axis_allgather\u001b[0m][\u001b[1;32mDEBUG\u001b[0m] - R3/4:\u001b[1;32mReshaped tensor shape: torch.Size([2, 4, 2])\u001b[0m\n",
       "[2025-05-02 14:19:16,530][\u001b[1;36mtensorcraft.mpi.distributions.multi_axis_dist\u001b[0m][\u001b[1;35m_apply_single_axis_allgather\u001b[0m][\u001b[1;32mDEBUG\u001b[0m] - R3/4:\u001b[1;32mSlices: [slice(None, None, None), slice(0, 4, None), slice(None, None, None)]\u001b[0m\n",
       "[2025-05-02 14:19:16,534][\u001b[1;36mtensorcraft.mpi.distributions.multi_axis_dist\u001b[0m][\u001b[1;35m_apply_single_axis_allgather\u001b[0m][\u001b[1;32mDEBUG\u001b[0m] - R3/4:\u001b[1;32mFinal tensor shape: torch.Size([2, 4, 2])\u001b[0m\n",
       "tensor([[[ 4,  5],\n",
       "         [ 6,  7],\n",
       "         [12, 13],\n",
       "         [14, 15]],\n",
       "\n",
       "        [[24, 25],\n",
       "         [26, 27],\n",
       "         [32, 33],\n",
       "         [34, 35]]])\n"
      ]
     },
     "metadata": {},
     "output_type": "display_data"
    },
    {
     "data": {
      "text/plain": [
       "[stdout:1] [2025-05-02 14:19:16,457][\u001b[1;36mtensorcraft.distributions.multi_axis\u001b[0m][\u001b[1;35mallgather\u001b[0m][\u001b[1;32mDEBUG\u001b[0m] - R1/4:\u001b[1;32mTensor axis: 1\u001b[0m\n",
       "[2025-05-02 14:19:16,460][\u001b[1;36mtensorcraft.distributions.multi_axis\u001b[0m][\u001b[1;35mallgather\u001b[0m][\u001b[1;32mDEBUG\u001b[0m] - R1/4:\u001b[1;32mMesh axis: 1\u001b[0m\n",
       "[2025-05-02 14:19:16,461][\u001b[1;36mtensorcraft.distributions.multi_axis\u001b[0m][\u001b[1;35mallgather\u001b[0m][\u001b[1;32mDEBUG\u001b[0m] - R1/4:\u001b[1;32mMappings: (0, 1)\u001b[0m\n",
       "[2025-05-02 14:19:16,465][\u001b[1;36mtensorcraft.distributions.multi_axis\u001b[0m][\u001b[1;35mallgather\u001b[0m][\u001b[1;32mDEBUG\u001b[0m] - R1/4:\u001b[1;32mTensor axis: 1\u001b[0m\n",
       "[2025-05-02 14:19:16,465][\u001b[1;36mtensorcraft.distributions.multi_axis\u001b[0m][\u001b[1;35mallgather\u001b[0m][\u001b[1;32mDEBUG\u001b[0m] - R1/4:\u001b[1;32mMesh axis: 1\u001b[0m\n",
       "[2025-05-02 14:19:16,465][\u001b[1;36mtensorcraft.distributions.multi_axis\u001b[0m][\u001b[1;35mallgather\u001b[0m][\u001b[1;32mDEBUG\u001b[0m] - R1/4:\u001b[1;32mMappings: (0, 1)\u001b[0m\n",
       "[2025-05-02 14:19:16,467][\u001b[1;36mtensorcraft.mpi.distributions.multi_axis_dist\u001b[0m][\u001b[1;35m_apply_single_axis_allgather\u001b[0m][\u001b[1;32mDEBUG\u001b[0m] - R1/4:\u001b[1;32mNew distribution: D_[2,2]⊥{∅,0,∅}(∅,2,∅), new shape: torch.Size([2, 6, 2])\u001b[0m\n",
       "[2025-05-02 14:19:16,468][\u001b[1;36mtensorcraft.mpi.distributions.multi_axis_dist\u001b[0m][\u001b[1;35m_apply_single_axis_allgather\u001b[0m][\u001b[1;32mDEBUG\u001b[0m] - R1/4:\u001b[1;32mLocal tensor shape: torch.Size([2, 3, 2])\u001b[0m\n",
       "[2025-05-02 14:19:16,469][\u001b[1;36mtensorcraft.mpi.distributions.multi_axis_dist\u001b[0m][\u001b[1;35m_apply_single_axis_allgather\u001b[0m][\u001b[1;32mDEBUG\u001b[0m] - R1/4:\u001b[1;32mExpected local shape: torch.Size([2, 3, 2])\u001b[0m\n",
       "[2025-05-02 14:19:16,469][\u001b[1;36mtensorcraft.mpi.distributions.multi_axis_dist\u001b[0m][\u001b[1;35m_apply_single_axis_allgather\u001b[0m][\u001b[1;32mDEBUG\u001b[0m] - R1/4:\u001b[1;32mChanged tensor axis: 1\u001b[0m\n",
       "[2025-05-02 14:19:16,469][\u001b[1;36mtensorcraft.mpi.distributions.multi_axis_dist\u001b[0m][\u001b[1;35m_apply_single_axis_allgather\u001b[0m][\u001b[1;32mDEBUG\u001b[0m] - R1/4:\u001b[1;32mProcessor multi index: torch.Size([0, 1])\u001b[0m\n",
       "[2025-05-02 14:19:16,470][\u001b[1;36mtensorcraft.mpi.distributions.multi_axis_dist\u001b[0m][\u001b[1;35m_apply_single_axis_allgather\u001b[0m][\u001b[1;32mDEBUG\u001b[0m] - R1/4:\u001b[1;32mN procs: 2\u001b[0m\n",
       "[2025-05-02 14:19:16,471][\u001b[1;36mtensorcraft.mpi.distributions.multi_axis_dist\u001b[0m][\u001b[1;35m_apply_single_axis_allgather\u001b[0m][\u001b[1;32mDEBUG\u001b[0m] - R1/4:\u001b[1;32mRank of largest tensor in the subcommunicator: [0, 0] 0\u001b[0m\n",
       "[2025-05-02 14:19:16,472][\u001b[1;36mtensorcraft.mpi.distributions.multi_axis_dist\u001b[0m][\u001b[1;35m_apply_single_axis_allgather\u001b[0m][\u001b[1;32mDEBUG\u001b[0m] - R1/4:\u001b[1;32mN elements: 12\u001b[0m\n",
       "[2025-05-02 14:19:16,472][\u001b[1;36mtensorcraft.mpi.distributions.multi_axis_dist\u001b[0m][\u001b[1;35m_apply_single_axis_allgather\u001b[0m][\u001b[1;32mDEBUG\u001b[0m] - R1/4:\u001b[1;32mMax local shape: torch.Size([2, 3, 2])\u001b[0m\n",
       "[2025-05-02 14:19:16,473][\u001b[1;36mtensorcraft.mpi.distributions.multi_axis_dist\u001b[0m][\u001b[1;35m_apply_single_axis_allgather\u001b[0m][\u001b[1;32mDEBUG\u001b[0m] - R1/4:\u001b[1;32mPadding: 0\u001b[0m\n",
       "[2025-05-02 14:19:16,473][\u001b[1;36mtensorcraft.mpi.mpi_utils\u001b[0m][\u001b[1;35mtensor2mpiBuffer\u001b[0m][\u001b[1;32mDEBUG\u001b[0m] - R1/4:\u001b[1;32mtensor_stride: (22, 8, 1)\u001b[0m\n",
       "[2025-05-02 14:19:16,473][\u001b[1;36mtensorcraft.mpi.mpi_utils\u001b[0m][\u001b[1;35mtensor2mpiBuffer\u001b[0m][\u001b[1;32mDEBUG\u001b[0m] - R1/4:\u001b[1;32mtensor_offset: 2\u001b[0m\n",
       "[2025-05-02 14:19:16,474][\u001b[1;36mtensorcraft.mpi.mpi_utils\u001b[0m][\u001b[1;35mtensor2mpiBuffer\u001b[0m][\u001b[1;32mDEBUG\u001b[0m] - R1/4:\u001b[1;32mtensor_shape: torch.Size([2, 3, 2])\u001b[0m\n",
       "[2025-05-02 14:19:16,474][\u001b[1;36mtensorcraft.mpi.mpi_utils\u001b[0m][\u001b[1;35mtensor2mpiBuffer\u001b[0m][\u001b[1;32mDEBUG\u001b[0m] - R1/4:\u001b[1;32mtensor_dtype: torch.int64\u001b[0m\n",
       "[2025-05-02 14:19:16,474][\u001b[1;36mtensorcraft.mpi.distributions.multi_axis_dist\u001b[0m][\u001b[1;35m_apply_single_axis_allgather\u001b[0m][\u001b[1;32mDEBUG\u001b[0m] - R1/4:\u001b[1;32mSend buffer: (<mpi4py.MPI.buffer object at 0x79e0204c6100>, 1, <mpi4py.MPI.Datatype object at 0x79e0235678d0>)\u001b[0m\n",
       "[2025-05-02 14:19:16,516][\u001b[1;36mtensorcraft.mpi.distributions.multi_axis_dist\u001b[0m][\u001b[1;35m_apply_single_axis_allgather\u001b[0m][\u001b[1;32mDEBUG\u001b[0m] - R1/4:\u001b[1;32mRecv_tensor : tensor([[[[[ 0,  1]],\n",
       "\n",
       "          [[ 8,  9]],\n",
       "\n",
       "          [[16, 17]]],\n",
       "\n",
       "\n",
       "         [[[20, 21]],\n",
       "\n",
       "          [[28, 29]],\n",
       "\n",
       "          [[36, 37]]]],\n",
       "\n",
       "\n",
       "\n",
       "        [[[[ 2,  3]],\n",
       "\n",
       "          [[10, 11]],\n",
       "\n",
       "          [[18, 19]]],\n",
       "\n",
       "\n",
       "         [[[22, 23]],\n",
       "\n",
       "          [[30, 31]],\n",
       "\n",
       "          [[38, 39]]]]])\u001b[0m\n",
       "[2025-05-02 14:19:16,519][\u001b[1;36mtensorcraft.mpi.distributions.multi_axis_dist\u001b[0m][\u001b[1;35m_apply_single_axis_allgather\u001b[0m][\u001b[1;32mDEBUG\u001b[0m] - R1/4:\u001b[1;32mReshaped tensor shape: torch.Size([2, 6, 2])\u001b[0m\n",
       "[2025-05-02 14:19:16,520][\u001b[1;36mtensorcraft.mpi.distributions.multi_axis_dist\u001b[0m][\u001b[1;35m_apply_single_axis_allgather\u001b[0m][\u001b[1;32mDEBUG\u001b[0m] - R1/4:\u001b[1;32mSlices: [slice(None, None, None), slice(0, 6, None), slice(None, None, None)]\u001b[0m\n",
       "[2025-05-02 14:19:16,521][\u001b[1;36mtensorcraft.mpi.distributions.multi_axis_dist\u001b[0m][\u001b[1;35m_apply_single_axis_allgather\u001b[0m][\u001b[1;32mDEBUG\u001b[0m] - R1/4:\u001b[1;32mFinal tensor shape: torch.Size([2, 6, 2])\u001b[0m\n",
       "tensor([[[ 0,  1],\n",
       "         [ 2,  3],\n",
       "         [ 8,  9],\n",
       "         [10, 11],\n",
       "         [16, 17],\n",
       "         [18, 19]],\n",
       "\n",
       "        [[20, 21],\n",
       "         [22, 23],\n",
       "         [28, 29],\n",
       "         [30, 31],\n",
       "         [36, 37],\n",
       "         [38, 39]]])\n"
      ]
     },
     "metadata": {},
     "output_type": "display_data"
    },
    {
     "data": {
      "text/plain": [
       "[stdout:2] [2025-05-02 14:19:16,465][\u001b[1;36mtensorcraft.distributions.multi_axis\u001b[0m][\u001b[1;35mallgather\u001b[0m][\u001b[1;32mDEBUG\u001b[0m] - R2/4:\u001b[1;32mTensor axis: 1\u001b[0m\n",
       "[2025-05-02 14:19:16,471][\u001b[1;36mtensorcraft.distributions.multi_axis\u001b[0m][\u001b[1;35mallgather\u001b[0m][\u001b[1;32mDEBUG\u001b[0m] - R2/4:\u001b[1;32mMesh axis: 1\u001b[0m\n",
       "[2025-05-02 14:19:16,472][\u001b[1;36mtensorcraft.distributions.multi_axis\u001b[0m][\u001b[1;35mallgather\u001b[0m][\u001b[1;32mDEBUG\u001b[0m] - R2/4:\u001b[1;32mMappings: (0, 1)\u001b[0m\n",
       "[2025-05-02 14:19:16,473][\u001b[1;36mtensorcraft.distributions.multi_axis\u001b[0m][\u001b[1;35mallgather\u001b[0m][\u001b[1;32mDEBUG\u001b[0m] - R2/4:\u001b[1;32mTensor axis: 1\u001b[0m\n",
       "[2025-05-02 14:19:16,473][\u001b[1;36mtensorcraft.distributions.multi_axis\u001b[0m][\u001b[1;35mallgather\u001b[0m][\u001b[1;32mDEBUG\u001b[0m] - R2/4:\u001b[1;32mMesh axis: 1\u001b[0m\n",
       "[2025-05-02 14:19:16,474][\u001b[1;36mtensorcraft.distributions.multi_axis\u001b[0m][\u001b[1;35mallgather\u001b[0m][\u001b[1;32mDEBUG\u001b[0m] - R2/4:\u001b[1;32mMappings: (0, 1)\u001b[0m\n",
       "[2025-05-02 14:19:16,475][\u001b[1;36mtensorcraft.mpi.distributions.multi_axis_dist\u001b[0m][\u001b[1;35m_apply_single_axis_allgather\u001b[0m][\u001b[1;32mDEBUG\u001b[0m] - R2/4:\u001b[1;32mNew distribution: D_[2,2]⊥{∅,0,∅}(∅,2,∅), new shape: torch.Size([2, 4, 2])\u001b[0m\n",
       "[2025-05-02 14:19:16,478][\u001b[1;36mtensorcraft.mpi.distributions.multi_axis_dist\u001b[0m][\u001b[1;35m_apply_single_axis_allgather\u001b[0m][\u001b[1;32mDEBUG\u001b[0m] - R2/4:\u001b[1;32mLocal tensor shape: torch.Size([2, 2, 2])\u001b[0m\n",
       "[2025-05-02 14:19:16,479][\u001b[1;36mtensorcraft.mpi.distributions.multi_axis_dist\u001b[0m][\u001b[1;35m_apply_single_axis_allgather\u001b[0m][\u001b[1;32mDEBUG\u001b[0m] - R2/4:\u001b[1;32mExpected local shape: torch.Size([2, 2, 2])\u001b[0m\n",
       "[2025-05-02 14:19:16,481][\u001b[1;36mtensorcraft.mpi.distributions.multi_axis_dist\u001b[0m][\u001b[1;35m_apply_single_axis_allgather\u001b[0m][\u001b[1;32mDEBUG\u001b[0m] - R2/4:\u001b[1;32mChanged tensor axis: 1\u001b[0m\n",
       "[2025-05-02 14:19:16,484][\u001b[1;36mtensorcraft.mpi.distributions.multi_axis_dist\u001b[0m][\u001b[1;35m_apply_single_axis_allgather\u001b[0m][\u001b[1;32mDEBUG\u001b[0m] - R2/4:\u001b[1;32mProcessor multi index: torch.Size([1, 0])\u001b[0m\n",
       "[2025-05-02 14:19:16,485][\u001b[1;36mtensorcraft.mpi.distributions.multi_axis_dist\u001b[0m][\u001b[1;35m_apply_single_axis_allgather\u001b[0m][\u001b[1;32mDEBUG\u001b[0m] - R2/4:\u001b[1;32mN procs: 2\u001b[0m\n",
       "[2025-05-02 14:19:16,486][\u001b[1;36mtensorcraft.mpi.distributions.multi_axis_dist\u001b[0m][\u001b[1;35m_apply_single_axis_allgather\u001b[0m][\u001b[1;32mDEBUG\u001b[0m] - R2/4:\u001b[1;32mRank of largest tensor in the subcommunicator: [1, 0] 2\u001b[0m\n",
       "[2025-05-02 14:19:16,489][\u001b[1;36mtensorcraft.mpi.distributions.multi_axis_dist\u001b[0m][\u001b[1;35m_apply_single_axis_allgather\u001b[0m][\u001b[1;32mDEBUG\u001b[0m] - R2/4:\u001b[1;32mN elements: 8\u001b[0m\n",
       "[2025-05-02 14:19:16,494][\u001b[1;36mtensorcraft.mpi.distributions.multi_axis_dist\u001b[0m][\u001b[1;35m_apply_single_axis_allgather\u001b[0m][\u001b[1;32mDEBUG\u001b[0m] - R2/4:\u001b[1;32mMax local shape: torch.Size([2, 2, 2])\u001b[0m\n",
       "[2025-05-02 14:19:16,495][\u001b[1;36mtensorcraft.mpi.distributions.multi_axis_dist\u001b[0m][\u001b[1;35m_apply_single_axis_allgather\u001b[0m][\u001b[1;32mDEBUG\u001b[0m] - R2/4:\u001b[1;32mPadding: 0\u001b[0m\n",
       "[2025-05-02 14:19:16,496][\u001b[1;36mtensorcraft.mpi.mpi_utils\u001b[0m][\u001b[1;35mtensor2mpiBuffer\u001b[0m][\u001b[1;32mDEBUG\u001b[0m] - R2/4:\u001b[1;32mtensor_stride: (22, 8, 1)\u001b[0m\n",
       "[2025-05-02 14:19:16,496][\u001b[1;36mtensorcraft.mpi.mpi_utils\u001b[0m][\u001b[1;35mtensor2mpiBuffer\u001b[0m][\u001b[1;32mDEBUG\u001b[0m] - R2/4:\u001b[1;32mtensor_offset: 4\u001b[0m\n",
       "[2025-05-02 14:19:16,497][\u001b[1;36mtensorcraft.mpi.mpi_utils\u001b[0m][\u001b[1;35mtensor2mpiBuffer\u001b[0m][\u001b[1;32mDEBUG\u001b[0m] - R2/4:\u001b[1;32mtensor_shape: torch.Size([2, 2, 2])\u001b[0m\n",
       "[2025-05-02 14:19:16,497][\u001b[1;36mtensorcraft.mpi.mpi_utils\u001b[0m][\u001b[1;35mtensor2mpiBuffer\u001b[0m][\u001b[1;32mDEBUG\u001b[0m] - R2/4:\u001b[1;32mtensor_dtype: torch.int64\u001b[0m\n",
       "[2025-05-02 14:19:16,499][\u001b[1;36mtensorcraft.mpi.distributions.multi_axis_dist\u001b[0m][\u001b[1;35m_apply_single_axis_allgather\u001b[0m][\u001b[1;32mDEBUG\u001b[0m] - R2/4:\u001b[1;32mSend buffer: (<mpi4py.MPI.buffer object at 0x74da2efddfb0>, 1, <mpi4py.MPI.Datatype object at 0x74db20505470>)\u001b[0m\n",
       "[2025-05-02 14:19:16,517][\u001b[1;36mtensorcraft.mpi.distributions.multi_axis_dist\u001b[0m][\u001b[1;35m_apply_single_axis_allgather\u001b[0m][\u001b[1;32mDEBUG\u001b[0m] - R2/4:\u001b[1;32mRecv_tensor : tensor([[[[[ 4,  5]],\n",
       "\n",
       "          [[12, 13]]],\n",
       "\n",
       "\n",
       "         [[[24, 25]],\n",
       "\n",
       "          [[32, 33]]]],\n",
       "\n",
       "\n",
       "\n",
       "        [[[[ 6,  7]],\n",
       "\n",
       "          [[14, 15]]],\n",
       "\n",
       "\n",
       "         [[[26, 27]],\n",
       "\n",
       "          [[34, 35]]]]])\u001b[0m\n",
       "[2025-05-02 14:19:16,521][\u001b[1;36mtensorcraft.mpi.distributions.multi_axis_dist\u001b[0m][\u001b[1;35m_apply_single_axis_allgather\u001b[0m][\u001b[1;32mDEBUG\u001b[0m] - R2/4:\u001b[1;32mReshaped tensor shape: torch.Size([2, 4, 2])\u001b[0m\n",
       "[2025-05-02 14:19:16,522][\u001b[1;36mtensorcraft.mpi.distributions.multi_axis_dist\u001b[0m][\u001b[1;35m_apply_single_axis_allgather\u001b[0m][\u001b[1;32mDEBUG\u001b[0m] - R2/4:\u001b[1;32mSlices: [slice(None, None, None), slice(0, 4, None), slice(None, None, None)]\u001b[0m\n",
       "[2025-05-02 14:19:16,523][\u001b[1;36mtensorcraft.mpi.distributions.multi_axis_dist\u001b[0m][\u001b[1;35m_apply_single_axis_allgather\u001b[0m][\u001b[1;32mDEBUG\u001b[0m] - R2/4:\u001b[1;32mFinal tensor shape: torch.Size([2, 4, 2])\u001b[0m\n",
       "tensor([[[ 4,  5],\n",
       "         [ 6,  7],\n",
       "         [12, 13],\n",
       "         [14, 15]],\n",
       "\n",
       "        [[24, 25],\n",
       "         [26, 27],\n",
       "         [32, 33],\n",
       "         [34, 35]]])\n"
      ]
     },
     "metadata": {},
     "output_type": "display_data"
    }
   ],
   "source": [
    "%%px\n",
    "new_dist, post_gather = dist.apply_allgather(x.shape, x_local, comm, gather_mesh_dim=1)\n",
    "print(post_gather)"
   ]
  },
  {
   "cell_type": "code",
   "execution_count": null,
   "metadata": {},
   "outputs": [
    {
     "data": {
      "text/plain": [
       "[stdout:2] tensor([[[ 4,  5],\n",
       "         [ 6,  7],\n",
       "         [12, 13],\n",
       "         [14, 15]],\n",
       "\n",
       "        [[24, 25],\n",
       "         [26, 27],\n",
       "         [32, 33],\n",
       "         [34, 35]]])\n"
      ]
     },
     "metadata": {},
     "output_type": "display_data"
    },
    {
     "data": {
      "text/plain": [
       "[stdout:0] tensor([[[ 0,  1],\n",
       "         [ 2,  3],\n",
       "         [ 8,  9],\n",
       "         [10, 11],\n",
       "         [16, 17],\n",
       "         [18, 19]],\n",
       "\n",
       "        [[20, 21],\n",
       "         [22, 23],\n",
       "         [28, 29],\n",
       "         [30, 31],\n",
       "         [36, 37],\n",
       "         [38, 39]]])\n"
      ]
     },
     "metadata": {},
     "output_type": "display_data"
    },
    {
     "data": {
      "text/plain": [
       "[stdout:3] tensor([[[ 4,  5],\n",
       "         [ 6,  7],\n",
       "         [12, 13],\n",
       "         [14, 15]],\n",
       "\n",
       "        [[24, 25],\n",
       "         [26, 27],\n",
       "         [32, 33],\n",
       "         [34, 35]]])\n"
      ]
     },
     "metadata": {},
     "output_type": "display_data"
    },
    {
     "data": {
      "text/plain": [
       "[stdout:1] tensor([[[ 0,  1],\n",
       "         [ 2,  3],\n",
       "         [ 8,  9],\n",
       "         [10, 11],\n",
       "         [16, 17],\n",
       "         [18, 19]],\n",
       "\n",
       "        [[20, 21],\n",
       "         [22, 23],\n",
       "         [28, 29],\n",
       "         [30, 31],\n",
       "         [36, 37],\n",
       "         [38, 39]]])\n"
      ]
     },
     "metadata": {},
     "output_type": "display_data"
    }
   ],
   "source": [
    "%%px\n",
    "print(post_gather)"
   ]
  },
  {
   "cell_type": "markdown",
   "metadata": {},
   "source": [
    "# Permute"
   ]
  },
  {
   "cell_type": "code",
   "execution_count": null,
   "metadata": {},
   "outputs": [
    {
     "name": "stdout",
     "output_type": "stream",
     "text": [
      "100%|██████████| 8/8 [00:00<00:00, 22.07engine/s]\n"
     ]
    },
    {
     "data": {
      "text/plain": [
       "8"
      ]
     },
     "execution_count": null,
     "metadata": {},
     "output_type": "execute_result"
    }
   ],
   "source": [
    "import ipyparallel as ipp\n",
    "rc = ipp.Client(profile='mpi')\n",
    "rc.wait_for_engines(8)\n",
    "len(rc)"
   ]
  },
  {
   "cell_type": "code",
   "execution_count": null,
   "metadata": {},
   "outputs": [
    {
     "name": "stdout",
     "output_type": "stream",
     "text": [
      "%px:   0%|          | 0/8 [00:08<?, ?tasks/s]"
     ]
    },
    {
     "data": {
      "text/plain": [
       "[stdout:6] [2025-06-06 11:53:51,607][\u001b[1;36mtensorcraft.mpi.distributions.multi_axis_dist\u001b[0m][\u001b[1;35mapply\u001b[0m][\u001b[1;32mDEBUG\u001b[0m] - R6/8:\u001b[1;32mProcessor multi index: torch.Size([1, 1, 0])\u001b[0m\n",
       "[2025-06-06 11:53:51,609][\u001b[1;36mtensorcraft.mpi.distributions.multi_axis_dist\u001b[0m][\u001b[1;35mapply\u001b[0m][\u001b[1;32mDEBUG\u001b[0m] - R6/8:\u001b[1;32mMissing elements: [0, 1, 0]\u001b[0m\n",
       "[2025-06-06 11:53:51,610][\u001b[1;36mtensorcraft.mpi.distributions.multi_axis_dist\u001b[0m][\u001b[1;35mapply\u001b[0m][\u001b[1;32mDEBUG\u001b[0m] - R6/8:\u001b[1;32mN blocks per axis: [1, 37, 1]\u001b[0m\n",
       "[2025-06-06 11:53:51,612][\u001b[1;36mtensorcraft.mpi.distributions.multi_axis_dist\u001b[0m][\u001b[1;35mapply\u001b[0m][\u001b[1;32mDEBUG\u001b[0m] - R6/8:\u001b[1;32mPadded tensor shape: torch.Size([2, 38, 2])\u001b[0m\n",
       "[2025-06-06 11:53:51,615][\u001b[1;36mtensorcraft.mpi.distributions.multi_axis_dist\u001b[0m][\u001b[1;35mapply\u001b[0m][\u001b[1;32mDEBUG\u001b[0m] - R6/8:\u001b[1;32mPermute tuple: (0, 2, 4, 1, 3, 5)\u001b[0m\n",
       "[2025-06-06 11:53:51,617][\u001b[1;36mtensorcraft.mpi.distributions.multi_axis_dist\u001b[0m][\u001b[1;35mapply\u001b[0m][\u001b[1;32mDEBUG\u001b[0m] - R6/8:\u001b[1;32mReshape tuple: [1, 2, 38, 1, 1, 2]\u001b[0m\n",
       "[2025-06-06 11:53:51,620][\u001b[1;36mtensorcraft.mpi.distributions.multi_axis_dist\u001b[0m][\u001b[1;35mapply\u001b[0m][\u001b[1;32mDEBUG\u001b[0m] - R6/8:\u001b[1;32mTile Slices: [slice(None, None, None), slice(None, None, None), slice(tensor(5), None, 8), slice(None, None, None), slice(None, None, None), slice(None, None, None)]\u001b[0m\n",
       "[2025-06-06 11:53:51,622][\u001b[1;36mtensorcraft.mpi.distributions.multi_axis_dist\u001b[0m][\u001b[1;35mapply\u001b[0m][\u001b[1;32mDEBUG\u001b[0m] - R6/8:\u001b[1;32mLocal tensor shape: torch.Size([1, 2, 5, 1, 1, 2])\u001b[0m\n",
       "[2025-06-06 11:53:51,624][\u001b[1;36mtensorcraft.mpi.distributions.multi_axis_dist\u001b[0m][\u001b[1;35mapply\u001b[0m][\u001b[1;32mDEBUG\u001b[0m] - R6/8:\u001b[1;32mTarget local tensor shape: [2, 5, 2]\u001b[0m\n",
       "[2025-06-06 11:53:51,625][\u001b[1;36mtensorcraft.mpi.distributions.multi_axis_dist\u001b[0m][\u001b[1;35mapply\u001b[0m][\u001b[1;32mDEBUG\u001b[0m] - R6/8:\u001b[1;32mtensor([[[ 10,  11],\n",
       "         [ 26,  27],\n",
       "         [ 42,  43],\n",
       "         [ 58,  59],\n",
       "         [  0,   0]],\n",
       "\n",
       "        [[ 84,  85],\n",
       "         [100, 101],\n",
       "         [116, 117],\n",
       "         [132, 133],\n",
       "         [  0,   0]]])\u001b[0m\n",
       "[2025-06-06 11:53:51,636][\u001b[1;36mtensorcraft.mpi.distributions.multi_axis_dist\u001b[0m][\u001b[1;35mapply\u001b[0m][\u001b[1;32mDEBUG\u001b[0m] - R6/8:\u001b[1;32mLinear processor index: 5, Residue: 1, Block size: 1, axis: 1, N procs: 8, N full blocks: 37\u001b[0m\n",
       "[2025-06-06 11:53:51,658][\u001b[1;36mtensorcraft.mpi.distributions.multi_axis_dist\u001b[0m][\u001b[1;35mapply\u001b[0m][\u001b[1;32mDEBUG\u001b[0m] - R6/8:\u001b[1;32mShaved slices: [slice(None, None, None), slice(0, -1, None), slice(None, None, None)]\u001b[0m\n",
       "[2025-06-06 11:53:51,669][\u001b[1;36mtensorcraft.mpi.distributions.multi_axis_dist\u001b[0m][\u001b[1;35mapply\u001b[0m][\u001b[1;32mDEBUG\u001b[0m] - R6/8:\u001b[1;32mFinal local tensor shape: torch.Size([2, 4, 2])\u001b[0m\n",
       "tensor([[[ 10,  11],\n",
       "         [ 26,  27],\n",
       "         [ 42,  43],\n",
       "         [ 58,  59]],\n",
       "\n",
       "        [[ 84,  85],\n",
       "         [100, 101],\n",
       "         [116, 117],\n",
       "         [132, 133]]])\n",
       "torch.Size([2, 4, 2])\n",
       "torch.int64\n",
       "False\n"
      ]
     },
     "metadata": {},
     "output_type": "display_data"
    },
    {
     "name": "stdout",
     "output_type": "stream",
     "text": [
      "%px:  12%|█▎        | 1/8 [00:08<00:00,  8.56tasks/s]"
     ]
    },
    {
     "data": {
      "text/plain": [
       "[stdout:3] [2025-06-06 11:53:52,177][\u001b[1;36mtensorcraft.mpi.distributions.multi_axis_dist\u001b[0m][\u001b[1;35mapply\u001b[0m][\u001b[1;32mDEBUG\u001b[0m] - R3/8:\u001b[1;32mProcessor multi index: torch.Size([0, 1, 1])\u001b[0m\n",
       "[2025-06-06 11:53:52,180][\u001b[1;36mtensorcraft.mpi.distributions.multi_axis_dist\u001b[0m][\u001b[1;35mapply\u001b[0m][\u001b[1;32mDEBUG\u001b[0m] - R3/8:\u001b[1;32mMissing elements: [0, 1, 0]\u001b[0m\n",
       "[2025-06-06 11:53:52,181][\u001b[1;36mtensorcraft.mpi.distributions.multi_axis_dist\u001b[0m][\u001b[1;35mapply\u001b[0m][\u001b[1;32mDEBUG\u001b[0m] - R3/8:\u001b[1;32mN blocks per axis: [1, 37, 1]\u001b[0m\n",
       "[2025-06-06 11:53:52,182][\u001b[1;36mtensorcraft.mpi.distributions.multi_axis_dist\u001b[0m][\u001b[1;35mapply\u001b[0m][\u001b[1;32mDEBUG\u001b[0m] - R3/8:\u001b[1;32mPadded tensor shape: torch.Size([2, 38, 2])\u001b[0m\n",
       "[2025-06-06 11:53:52,186][\u001b[1;36mtensorcraft.mpi.distributions.multi_axis_dist\u001b[0m][\u001b[1;35mapply\u001b[0m][\u001b[1;32mDEBUG\u001b[0m] - R3/8:\u001b[1;32mPermute tuple: (0, 2, 4, 1, 3, 5)\u001b[0m\n",
       "[2025-06-06 11:53:52,188][\u001b[1;36mtensorcraft.mpi.distributions.multi_axis_dist\u001b[0m][\u001b[1;35mapply\u001b[0m][\u001b[1;32mDEBUG\u001b[0m] - R3/8:\u001b[1;32mReshape tuple: [1, 2, 38, 1, 1, 2]\u001b[0m\n",
       "[2025-06-06 11:53:52,192][\u001b[1;36mtensorcraft.mpi.distributions.multi_axis_dist\u001b[0m][\u001b[1;35mapply\u001b[0m][\u001b[1;32mDEBUG\u001b[0m] - R3/8:\u001b[1;32mTile Slices: [slice(None, None, None), slice(None, None, None), slice(tensor(3), None, 8), slice(None, None, None), slice(None, None, None), slice(None, None, None)]\u001b[0m\n",
       "[2025-06-06 11:53:52,194][\u001b[1;36mtensorcraft.mpi.distributions.multi_axis_dist\u001b[0m][\u001b[1;35mapply\u001b[0m][\u001b[1;32mDEBUG\u001b[0m] - R3/8:\u001b[1;32mLocal tensor shape: torch.Size([1, 2, 5, 1, 1, 2])\u001b[0m\n",
       "[2025-06-06 11:53:52,195][\u001b[1;36mtensorcraft.mpi.distributions.multi_axis_dist\u001b[0m][\u001b[1;35mapply\u001b[0m][\u001b[1;32mDEBUG\u001b[0m] - R3/8:\u001b[1;32mTarget local tensor shape: [2, 5, 2]\u001b[0m\n",
       "[2025-06-06 11:53:52,196][\u001b[1;36mtensorcraft.mpi.distributions.multi_axis_dist\u001b[0m][\u001b[1;35mapply\u001b[0m][\u001b[1;32mDEBUG\u001b[0m] - R3/8:\u001b[1;32mtensor([[[  6,   7],\n",
       "         [ 22,  23],\n",
       "         [ 38,  39],\n",
       "         [ 54,  55],\n",
       "         [ 70,  71]],\n",
       "\n",
       "        [[ 80,  81],\n",
       "         [ 96,  97],\n",
       "         [112, 113],\n",
       "         [128, 129],\n",
       "         [144, 145]]])\u001b[0m\n",
       "[2025-06-06 11:53:52,201][\u001b[1;36mtensorcraft.mpi.distributions.multi_axis_dist\u001b[0m][\u001b[1;35mapply\u001b[0m][\u001b[1;32mDEBUG\u001b[0m] - R3/8:\u001b[1;32mLinear processor index: 3, Residue: 1, Block size: 1, axis: 1, N procs: 8, N full blocks: 37\u001b[0m\n",
       "[2025-06-06 11:53:52,205][\u001b[1;36mtensorcraft.mpi.distributions.multi_axis_dist\u001b[0m][\u001b[1;35mapply\u001b[0m][\u001b[1;32mDEBUG\u001b[0m] - R3/8:\u001b[1;32mShaved slices: [slice(None, None, None), slice(None, None, None), slice(None, None, None)]\u001b[0m\n",
       "[2025-06-06 11:53:52,208][\u001b[1;36mtensorcraft.mpi.distributions.multi_axis_dist\u001b[0m][\u001b[1;35mapply\u001b[0m][\u001b[1;32mDEBUG\u001b[0m] - R3/8:\u001b[1;32mFinal local tensor shape: torch.Size([2, 5, 2])\u001b[0m\n",
       "tensor([[[  6,   7],\n",
       "         [ 22,  23],\n",
       "         [ 38,  39],\n",
       "         [ 54,  55],\n",
       "         [ 70,  71]],\n",
       "\n",
       "        [[ 80,  81],\n",
       "         [ 96,  97],\n",
       "         [112, 113],\n",
       "         [128, 129],\n",
       "         [144, 145]]])\n",
       "torch.Size([2, 5, 2])\n",
       "torch.int64\n",
       "False\n"
      ]
     },
     "metadata": {},
     "output_type": "display_data"
    },
    {
     "name": "stdout",
     "output_type": "stream",
     "text": [
      "%px:  25%|██▌       | 2/8 [00:08<00:01,  3.39tasks/s]"
     ]
    },
    {
     "data": {
      "text/plain": [
       "[stdout:1] [2025-06-06 11:53:55,351][\u001b[1;36mtensorcraft.mpi.distributions.multi_axis_dist\u001b[0m][\u001b[1;35mapply\u001b[0m][\u001b[1;32mDEBUG\u001b[0m] - R1/8:\u001b[1;32mProcessor multi index: torch.Size([0, 0, 1])\u001b[0m\n",
       "[2025-06-06 11:53:55,353][\u001b[1;36mtensorcraft.mpi.distributions.multi_axis_dist\u001b[0m][\u001b[1;35mapply\u001b[0m][\u001b[1;32mDEBUG\u001b[0m] - R1/8:\u001b[1;32mMissing elements: [0, 1, 0]\u001b[0m\n",
       "[2025-06-06 11:53:55,355][\u001b[1;36mtensorcraft.mpi.distributions.multi_axis_dist\u001b[0m][\u001b[1;35mapply\u001b[0m][\u001b[1;32mDEBUG\u001b[0m] - R1/8:\u001b[1;32mN blocks per axis: [1, 37, 1]\u001b[0m\n",
       "[2025-06-06 11:53:55,357][\u001b[1;36mtensorcraft.mpi.distributions.multi_axis_dist\u001b[0m][\u001b[1;35mapply\u001b[0m][\u001b[1;32mDEBUG\u001b[0m] - R1/8:\u001b[1;32mPadded tensor shape: torch.Size([2, 38, 2])\u001b[0m\n",
       "[2025-06-06 11:53:55,360][\u001b[1;36mtensorcraft.mpi.distributions.multi_axis_dist\u001b[0m][\u001b[1;35mapply\u001b[0m][\u001b[1;32mDEBUG\u001b[0m] - R1/8:\u001b[1;32mPermute tuple: (0, 2, 4, 1, 3, 5)\u001b[0m\n",
       "[2025-06-06 11:53:55,363][\u001b[1;36mtensorcraft.mpi.distributions.multi_axis_dist\u001b[0m][\u001b[1;35mapply\u001b[0m][\u001b[1;32mDEBUG\u001b[0m] - R1/8:\u001b[1;32mReshape tuple: [1, 2, 38, 1, 1, 2]\u001b[0m\n",
       "[2025-06-06 11:53:55,368][\u001b[1;36mtensorcraft.mpi.distributions.multi_axis_dist\u001b[0m][\u001b[1;35mapply\u001b[0m][\u001b[1;32mDEBUG\u001b[0m] - R1/8:\u001b[1;32mTile Slices: [slice(None, None, None), slice(None, None, None), slice(tensor(2), None, 8), slice(None, None, None), slice(None, None, None), slice(None, None, None)]\u001b[0m\n",
       "[2025-06-06 11:53:55,372][\u001b[1;36mtensorcraft.mpi.distributions.multi_axis_dist\u001b[0m][\u001b[1;35mapply\u001b[0m][\u001b[1;32mDEBUG\u001b[0m] - R1/8:\u001b[1;32mLocal tensor shape: torch.Size([1, 2, 5, 1, 1, 2])\u001b[0m\n",
       "[2025-06-06 11:53:55,373][\u001b[1;36mtensorcraft.mpi.distributions.multi_axis_dist\u001b[0m][\u001b[1;35mapply\u001b[0m][\u001b[1;32mDEBUG\u001b[0m] - R1/8:\u001b[1;32mTarget local tensor shape: [2, 5, 2]\u001b[0m\n",
       "[2025-06-06 11:53:55,375][\u001b[1;36mtensorcraft.mpi.distributions.multi_axis_dist\u001b[0m][\u001b[1;35mapply\u001b[0m][\u001b[1;32mDEBUG\u001b[0m] - R1/8:\u001b[1;32mtensor([[[  4,   5],\n",
       "         [ 20,  21],\n",
       "         [ 36,  37],\n",
       "         [ 52,  53],\n",
       "         [ 68,  69]],\n",
       "\n",
       "        [[ 78,  79],\n",
       "         [ 94,  95],\n",
       "         [110, 111],\n",
       "         [126, 127],\n",
       "         [142, 143]]])\u001b[0m\n",
       "[2025-06-06 11:53:55,380][\u001b[1;36mtensorcraft.mpi.distributions.multi_axis_dist\u001b[0m][\u001b[1;35mapply\u001b[0m][\u001b[1;32mDEBUG\u001b[0m] - R1/8:\u001b[1;32mLinear processor index: 2, Residue: 1, Block size: 1, axis: 1, N procs: 8, N full blocks: 37\u001b[0m\n",
       "[2025-06-06 11:53:55,381][\u001b[1;36mtensorcraft.mpi.distributions.multi_axis_dist\u001b[0m][\u001b[1;35mapply\u001b[0m][\u001b[1;32mDEBUG\u001b[0m] - R1/8:\u001b[1;32mShaved slices: [slice(None, None, None), slice(None, None, None), slice(None, None, None)]\u001b[0m\n",
       "[2025-06-06 11:53:55,382][\u001b[1;36mtensorcraft.mpi.distributions.multi_axis_dist\u001b[0m][\u001b[1;35mapply\u001b[0m][\u001b[1;32mDEBUG\u001b[0m] - R1/8:\u001b[1;32mFinal local tensor shape: torch.Size([2, 5, 2])\u001b[0m\n",
       "tensor([[[  4,   5],\n",
       "         [ 20,  21],\n",
       "         [ 36,  37],\n",
       "         [ 52,  53],\n",
       "         [ 68,  69]],\n",
       "\n",
       "        [[ 78,  79],\n",
       "         [ 94,  95],\n",
       "         [110, 111],\n",
       "         [126, 127],\n",
       "         [142, 143]]])\n",
       "torch.Size([2, 5, 2])\n",
       "torch.int64\n",
       "False\n"
      ]
     },
     "metadata": {},
     "output_type": "display_data"
    },
    {
     "name": "stdout",
     "output_type": "stream",
     "text": [
      "%px:  38%|███▊      | 3/8 [00:11<00:07,  1.60s/tasks]"
     ]
    },
    {
     "data": {
      "text/plain": [
       "[stdout:7] [2025-06-06 11:53:55,454][\u001b[1;36mtensorcraft.mpi.distributions.multi_axis_dist\u001b[0m][\u001b[1;35mapply\u001b[0m][\u001b[1;32mDEBUG\u001b[0m] - R7/8:\u001b[1;32mProcessor multi index: torch.Size([1, 1, 1])\u001b[0m\n",
       "[2025-06-06 11:53:55,459][\u001b[1;36mtensorcraft.mpi.distributions.multi_axis_dist\u001b[0m][\u001b[1;35mapply\u001b[0m][\u001b[1;32mDEBUG\u001b[0m] - R7/8:\u001b[1;32mMissing elements: [0, 1, 0]\u001b[0m\n",
       "[2025-06-06 11:53:55,465][\u001b[1;36mtensorcraft.mpi.distributions.multi_axis_dist\u001b[0m][\u001b[1;35mapply\u001b[0m][\u001b[1;32mDEBUG\u001b[0m] - R7/8:\u001b[1;32mN blocks per axis: [1, 37, 1]\u001b[0m\n",
       "[2025-06-06 11:53:55,466][\u001b[1;36mtensorcraft.mpi.distributions.multi_axis_dist\u001b[0m][\u001b[1;35mapply\u001b[0m][\u001b[1;32mDEBUG\u001b[0m] - R7/8:\u001b[1;32mPadded tensor shape: torch.Size([2, 38, 2])\u001b[0m\n",
       "[2025-06-06 11:53:55,475][\u001b[1;36mtensorcraft.mpi.distributions.multi_axis_dist\u001b[0m][\u001b[1;35mapply\u001b[0m][\u001b[1;32mDEBUG\u001b[0m] - R7/8:\u001b[1;32mPermute tuple: (0, 2, 4, 1, 3, 5)\u001b[0m\n",
       "[2025-06-06 11:53:55,478][\u001b[1;36mtensorcraft.mpi.distributions.multi_axis_dist\u001b[0m][\u001b[1;35mapply\u001b[0m][\u001b[1;32mDEBUG\u001b[0m] - R7/8:\u001b[1;32mReshape tuple: [1, 2, 38, 1, 1, 2]\u001b[0m\n",
       "[2025-06-06 11:53:55,485][\u001b[1;36mtensorcraft.mpi.distributions.multi_axis_dist\u001b[0m][\u001b[1;35mapply\u001b[0m][\u001b[1;32mDEBUG\u001b[0m] - R7/8:\u001b[1;32mTile Slices: [slice(None, None, None), slice(None, None, None), slice(tensor(7), None, 8), slice(None, None, None), slice(None, None, None), slice(None, None, None)]\u001b[0m\n",
       "[2025-06-06 11:53:55,488][\u001b[1;36mtensorcraft.mpi.distributions.multi_axis_dist\u001b[0m][\u001b[1;35mapply\u001b[0m][\u001b[1;32mDEBUG\u001b[0m] - R7/8:\u001b[1;32mLocal tensor shape: torch.Size([1, 2, 4, 1, 1, 2])\u001b[0m\n",
       "[2025-06-06 11:53:55,491][\u001b[1;36mtensorcraft.mpi.distributions.multi_axis_dist\u001b[0m][\u001b[1;35mapply\u001b[0m][\u001b[1;32mDEBUG\u001b[0m] - R7/8:\u001b[1;32mTarget local tensor shape: [2, 4, 2]\u001b[0m\n",
       "[2025-06-06 11:53:55,495][\u001b[1;36mtensorcraft.mpi.distributions.multi_axis_dist\u001b[0m][\u001b[1;35mapply\u001b[0m][\u001b[1;32mDEBUG\u001b[0m] - R7/8:\u001b[1;32mtensor([[[ 14,  15],\n",
       "         [ 30,  31],\n",
       "         [ 46,  47],\n",
       "         [ 62,  63]],\n",
       "\n",
       "        [[ 88,  89],\n",
       "         [104, 105],\n",
       "         [120, 121],\n",
       "         [136, 137]]])\u001b[0m\n",
       "[2025-06-06 11:53:55,502][\u001b[1;36mtensorcraft.mpi.distributions.multi_axis_dist\u001b[0m][\u001b[1;35mapply\u001b[0m][\u001b[1;32mDEBUG\u001b[0m] - R7/8:\u001b[1;32mLinear processor index: 7, Residue: 1, Block size: 1, axis: 1, N procs: 8, N full blocks: 37\u001b[0m\n",
       "[2025-06-06 11:53:55,503][\u001b[1;36mtensorcraft.mpi.distributions.multi_axis_dist\u001b[0m][\u001b[1;35mapply\u001b[0m][\u001b[1;32mDEBUG\u001b[0m] - R7/8:\u001b[1;32mShaved slices: [slice(None, None, None), slice(None, None, None), slice(None, None, None)]\u001b[0m\n",
       "[2025-06-06 11:53:55,504][\u001b[1;36mtensorcraft.mpi.distributions.multi_axis_dist\u001b[0m][\u001b[1;35mapply\u001b[0m][\u001b[1;32mDEBUG\u001b[0m] - R7/8:\u001b[1;32mFinal local tensor shape: torch.Size([2, 4, 2])\u001b[0m\n",
       "tensor([[[ 14,  15],\n",
       "         [ 30,  31],\n",
       "         [ 46,  47],\n",
       "         [ 62,  63]],\n",
       "\n",
       "        [[ 88,  89],\n",
       "         [104, 105],\n",
       "         [120, 121],\n",
       "         [136, 137]]])\n",
       "torch.Size([2, 4, 2])\n",
       "torch.int64\n",
       "False\n"
      ]
     },
     "metadata": {},
     "output_type": "display_data"
    },
    {
     "name": "stdout",
     "output_type": "stream",
     "text": [
      "%px:  50%|█████     | 4/8 [00:12<00:04,  1.05s/tasks]"
     ]
    },
    {
     "data": {
      "text/plain": [
       "[stdout:0] [2025-06-06 11:53:56,258][\u001b[1;36mtensorcraft.mpi.distributions.multi_axis_dist\u001b[0m][\u001b[1;35mapply\u001b[0m][\u001b[1;32mDEBUG\u001b[0m] - R0/8:\u001b[1;32mProcessor multi index: torch.Size([0, 0, 0])\u001b[0m\n",
       "[2025-06-06 11:53:56,267][\u001b[1;36mtensorcraft.mpi.distributions.multi_axis_dist\u001b[0m][\u001b[1;35mapply\u001b[0m][\u001b[1;32mDEBUG\u001b[0m] - R0/8:\u001b[1;32mMissing elements: [0, 1, 0]\u001b[0m\n",
       "[2025-06-06 11:53:56,269][\u001b[1;36mtensorcraft.mpi.distributions.multi_axis_dist\u001b[0m][\u001b[1;35mapply\u001b[0m][\u001b[1;32mDEBUG\u001b[0m] - R0/8:\u001b[1;32mN blocks per axis: [1, 37, 1]\u001b[0m\n",
       "[2025-06-06 11:53:56,274][\u001b[1;36mtensorcraft.mpi.distributions.multi_axis_dist\u001b[0m][\u001b[1;35mapply\u001b[0m][\u001b[1;32mDEBUG\u001b[0m] - R0/8:\u001b[1;32mPadded tensor shape: torch.Size([2, 38, 2])\u001b[0m\n",
       "[2025-06-06 11:53:56,281][\u001b[1;36mtensorcraft.mpi.distributions.multi_axis_dist\u001b[0m][\u001b[1;35mapply\u001b[0m][\u001b[1;32mDEBUG\u001b[0m] - R0/8:\u001b[1;32mPermute tuple: (0, 2, 4, 1, 3, 5)\u001b[0m\n",
       "[2025-06-06 11:53:56,285][\u001b[1;36mtensorcraft.mpi.distributions.multi_axis_dist\u001b[0m][\u001b[1;35mapply\u001b[0m][\u001b[1;32mDEBUG\u001b[0m] - R0/8:\u001b[1;32mReshape tuple: [1, 2, 38, 1, 1, 2]\u001b[0m\n",
       "[2025-06-06 11:53:56,289][\u001b[1;36mtensorcraft.mpi.distributions.multi_axis_dist\u001b[0m][\u001b[1;35mapply\u001b[0m][\u001b[1;32mDEBUG\u001b[0m] - R0/8:\u001b[1;32mTile Slices: [slice(None, None, None), slice(None, None, None), slice(tensor(0), None, 8), slice(None, None, None), slice(None, None, None), slice(None, None, None)]\u001b[0m\n",
       "[2025-06-06 11:53:56,291][\u001b[1;36mtensorcraft.mpi.distributions.multi_axis_dist\u001b[0m][\u001b[1;35mapply\u001b[0m][\u001b[1;32mDEBUG\u001b[0m] - R0/8:\u001b[1;32mLocal tensor shape: torch.Size([1, 2, 5, 1, 1, 2])\u001b[0m\n",
       "[2025-06-06 11:53:56,292][\u001b[1;36mtensorcraft.mpi.distributions.multi_axis_dist\u001b[0m][\u001b[1;35mapply\u001b[0m][\u001b[1;32mDEBUG\u001b[0m] - R0/8:\u001b[1;32mTarget local tensor shape: [2, 5, 2]\u001b[0m\n",
       "[2025-06-06 11:53:56,293][\u001b[1;36mtensorcraft.mpi.distributions.multi_axis_dist\u001b[0m][\u001b[1;35mapply\u001b[0m][\u001b[1;32mDEBUG\u001b[0m] - R0/8:\u001b[1;32mtensor([[[  0,   1],\n",
       "         [ 16,  17],\n",
       "         [ 32,  33],\n",
       "         [ 48,  49],\n",
       "         [ 64,  65]],\n",
       "\n",
       "        [[ 74,  75],\n",
       "         [ 90,  91],\n",
       "         [106, 107],\n",
       "         [122, 123],\n",
       "         [138, 139]]])\u001b[0m\n",
       "[2025-06-06 11:53:56,298][\u001b[1;36mtensorcraft.mpi.distributions.multi_axis_dist\u001b[0m][\u001b[1;35mapply\u001b[0m][\u001b[1;32mDEBUG\u001b[0m] - R0/8:\u001b[1;32mLinear processor index: 0, Residue: 1, Block size: 1, axis: 1, N procs: 8, N full blocks: 37\u001b[0m\n",
       "[2025-06-06 11:53:56,299][\u001b[1;36mtensorcraft.mpi.distributions.multi_axis_dist\u001b[0m][\u001b[1;35mapply\u001b[0m][\u001b[1;32mDEBUG\u001b[0m] - R0/8:\u001b[1;32mShaved slices: [slice(None, None, None), slice(None, None, None), slice(None, None, None)]\u001b[0m\n",
       "[2025-06-06 11:53:56,302][\u001b[1;36mtensorcraft.mpi.distributions.multi_axis_dist\u001b[0m][\u001b[1;35mapply\u001b[0m][\u001b[1;32mDEBUG\u001b[0m] - R0/8:\u001b[1;32mFinal local tensor shape: torch.Size([2, 5, 2])\u001b[0m\n",
       "tensor([[[  0,   1],\n",
       "         [ 16,  17],\n",
       "         [ 32,  33],\n",
       "         [ 48,  49],\n",
       "         [ 64,  65]],\n",
       "\n",
       "        [[ 74,  75],\n",
       "         [ 90,  91],\n",
       "         [106, 107],\n",
       "         [122, 123],\n",
       "         [138, 139]]])\n",
       "torch.Size([2, 5, 2])\n",
       "torch.int64\n",
       "False\n"
      ]
     },
     "metadata": {},
     "output_type": "display_data"
    },
    {
     "name": "stdout",
     "output_type": "stream",
     "text": [
      "%px:  62%|██████▎   | 5/8 [00:12<00:02,  1.07tasks/s]"
     ]
    },
    {
     "data": {
      "text/plain": [
       "[stdout:4] [2025-06-06 11:53:56,493][\u001b[1;36mtensorcraft.mpi.distributions.multi_axis_dist\u001b[0m][\u001b[1;35mapply\u001b[0m][\u001b[1;32mDEBUG\u001b[0m] - R4/8:\u001b[1;32mProcessor multi index: torch.Size([1, 0, 0])\u001b[0m\n",
       "[2025-06-06 11:53:56,498][\u001b[1;36mtensorcraft.mpi.distributions.multi_axis_dist\u001b[0m][\u001b[1;35mapply\u001b[0m][\u001b[1;32mDEBUG\u001b[0m] - R4/8:\u001b[1;32mMissing elements: [0, 1, 0]\u001b[0m\n",
       "[2025-06-06 11:53:56,499][\u001b[1;36mtensorcraft.mpi.distributions.multi_axis_dist\u001b[0m][\u001b[1;35mapply\u001b[0m][\u001b[1;32mDEBUG\u001b[0m] - R4/8:\u001b[1;32mN blocks per axis: [1, 37, 1]\u001b[0m\n",
       "[2025-06-06 11:53:56,501][\u001b[1;36mtensorcraft.mpi.distributions.multi_axis_dist\u001b[0m][\u001b[1;35mapply\u001b[0m][\u001b[1;32mDEBUG\u001b[0m] - R4/8:\u001b[1;32mPadded tensor shape: torch.Size([2, 38, 2])\u001b[0m\n",
       "[2025-06-06 11:53:56,506][\u001b[1;36mtensorcraft.mpi.distributions.multi_axis_dist\u001b[0m][\u001b[1;35mapply\u001b[0m][\u001b[1;32mDEBUG\u001b[0m] - R4/8:\u001b[1;32mPermute tuple: (0, 2, 4, 1, 3, 5)\u001b[0m\n",
       "[2025-06-06 11:53:56,510][\u001b[1;36mtensorcraft.mpi.distributions.multi_axis_dist\u001b[0m][\u001b[1;35mapply\u001b[0m][\u001b[1;32mDEBUG\u001b[0m] - R4/8:\u001b[1;32mReshape tuple: [1, 2, 38, 1, 1, 2]\u001b[0m\n",
       "[2025-06-06 11:53:56,518][\u001b[1;36mtensorcraft.mpi.distributions.multi_axis_dist\u001b[0m][\u001b[1;35mapply\u001b[0m][\u001b[1;32mDEBUG\u001b[0m] - R4/8:\u001b[1;32mTile Slices: [slice(None, None, None), slice(None, None, None), slice(tensor(4), None, 8), slice(None, None, None), slice(None, None, None), slice(None, None, None)]\u001b[0m\n",
       "[2025-06-06 11:53:56,520][\u001b[1;36mtensorcraft.mpi.distributions.multi_axis_dist\u001b[0m][\u001b[1;35mapply\u001b[0m][\u001b[1;32mDEBUG\u001b[0m] - R4/8:\u001b[1;32mLocal tensor shape: torch.Size([1, 2, 5, 1, 1, 2])\u001b[0m\n",
       "[2025-06-06 11:53:56,522][\u001b[1;36mtensorcraft.mpi.distributions.multi_axis_dist\u001b[0m][\u001b[1;35mapply\u001b[0m][\u001b[1;32mDEBUG\u001b[0m] - R4/8:\u001b[1;32mTarget local tensor shape: [2, 5, 2]\u001b[0m\n",
       "[2025-06-06 11:53:56,524][\u001b[1;36mtensorcraft.mpi.distributions.multi_axis_dist\u001b[0m][\u001b[1;35mapply\u001b[0m][\u001b[1;32mDEBUG\u001b[0m] - R4/8:\u001b[1;32mtensor([[[  8,   9],\n",
       "         [ 24,  25],\n",
       "         [ 40,  41],\n",
       "         [ 56,  57],\n",
       "         [ 72,  73]],\n",
       "\n",
       "        [[ 82,  83],\n",
       "         [ 98,  99],\n",
       "         [114, 115],\n",
       "         [130, 131],\n",
       "         [146, 147]]])\u001b[0m\n",
       "[2025-06-06 11:53:56,532][\u001b[1;36mtensorcraft.mpi.distributions.multi_axis_dist\u001b[0m][\u001b[1;35mapply\u001b[0m][\u001b[1;32mDEBUG\u001b[0m] - R4/8:\u001b[1;32mLinear processor index: 4, Residue: 1, Block size: 1, axis: 1, N procs: 8, N full blocks: 37\u001b[0m\n",
       "[2025-06-06 11:53:56,535][\u001b[1;36mtensorcraft.mpi.distributions.multi_axis_dist\u001b[0m][\u001b[1;35mapply\u001b[0m][\u001b[1;32mDEBUG\u001b[0m] - R4/8:\u001b[1;32mShaved slices: [slice(None, None, None), slice(None, None, None), slice(None, None, None)]\u001b[0m\n",
       "[2025-06-06 11:53:56,536][\u001b[1;36mtensorcraft.mpi.distributions.multi_axis_dist\u001b[0m][\u001b[1;35mapply\u001b[0m][\u001b[1;32mDEBUG\u001b[0m] - R4/8:\u001b[1;32mFinal local tensor shape: torch.Size([2, 5, 2])\u001b[0m\n",
       "tensor([[[  8,   9],\n",
       "         [ 24,  25],\n",
       "         [ 40,  41],\n",
       "         [ 56,  57],\n",
       "         [ 72,  73]],\n",
       "\n",
       "        [[ 82,  83],\n",
       "         [ 98,  99],\n",
       "         [114, 115],\n",
       "         [130, 131],\n",
       "         [146, 147]]])\n",
       "torch.Size([2, 5, 2])\n",
       "torch.int64\n",
       "False\n"
      ]
     },
     "metadata": {},
     "output_type": "display_data"
    },
    {
     "name": "stdout",
     "output_type": "stream",
     "text": [
      "%px:  75%|███████▌  | 6/8 [00:13<00:01,  1.39tasks/s]"
     ]
    },
    {
     "data": {
      "text/plain": [
       "[stdout:5] [2025-06-06 11:53:56,980][\u001b[1;36mtensorcraft.mpi.distributions.multi_axis_dist\u001b[0m][\u001b[1;35mapply\u001b[0m][\u001b[1;32mDEBUG\u001b[0m] - R5/8:\u001b[1;32mProcessor multi index: torch.Size([1, 0, 1])\u001b[0m\n",
       "[2025-06-06 11:53:56,982][\u001b[1;36mtensorcraft.mpi.distributions.multi_axis_dist\u001b[0m][\u001b[1;35mapply\u001b[0m][\u001b[1;32mDEBUG\u001b[0m] - R5/8:\u001b[1;32mMissing elements: [0, 1, 0]\u001b[0m\n",
       "[2025-06-06 11:53:56,983][\u001b[1;36mtensorcraft.mpi.distributions.multi_axis_dist\u001b[0m][\u001b[1;35mapply\u001b[0m][\u001b[1;32mDEBUG\u001b[0m] - R5/8:\u001b[1;32mN blocks per axis: [1, 37, 1]\u001b[0m\n",
       "[2025-06-06 11:53:56,986][\u001b[1;36mtensorcraft.mpi.distributions.multi_axis_dist\u001b[0m][\u001b[1;35mapply\u001b[0m][\u001b[1;32mDEBUG\u001b[0m] - R5/8:\u001b[1;32mPadded tensor shape: torch.Size([2, 38, 2])\u001b[0m\n",
       "[2025-06-06 11:53:56,993][\u001b[1;36mtensorcraft.mpi.distributions.multi_axis_dist\u001b[0m][\u001b[1;35mapply\u001b[0m][\u001b[1;32mDEBUG\u001b[0m] - R5/8:\u001b[1;32mPermute tuple: (0, 2, 4, 1, 3, 5)\u001b[0m\n",
       "[2025-06-06 11:53:56,995][\u001b[1;36mtensorcraft.mpi.distributions.multi_axis_dist\u001b[0m][\u001b[1;35mapply\u001b[0m][\u001b[1;32mDEBUG\u001b[0m] - R5/8:\u001b[1;32mReshape tuple: [1, 2, 38, 1, 1, 2]\u001b[0m\n",
       "[2025-06-06 11:53:57,003][\u001b[1;36mtensorcraft.mpi.distributions.multi_axis_dist\u001b[0m][\u001b[1;35mapply\u001b[0m][\u001b[1;32mDEBUG\u001b[0m] - R5/8:\u001b[1;32mTile Slices: [slice(None, None, None), slice(None, None, None), slice(tensor(6), None, 8), slice(None, None, None), slice(None, None, None), slice(None, None, None)]\u001b[0m\n",
       "[2025-06-06 11:53:57,005][\u001b[1;36mtensorcraft.mpi.distributions.multi_axis_dist\u001b[0m][\u001b[1;35mapply\u001b[0m][\u001b[1;32mDEBUG\u001b[0m] - R5/8:\u001b[1;32mLocal tensor shape: torch.Size([1, 2, 4, 1, 1, 2])\u001b[0m\n",
       "[2025-06-06 11:53:57,008][\u001b[1;36mtensorcraft.mpi.distributions.multi_axis_dist\u001b[0m][\u001b[1;35mapply\u001b[0m][\u001b[1;32mDEBUG\u001b[0m] - R5/8:\u001b[1;32mTarget local tensor shape: [2, 4, 2]\u001b[0m\n",
       "[2025-06-06 11:53:57,009][\u001b[1;36mtensorcraft.mpi.distributions.multi_axis_dist\u001b[0m][\u001b[1;35mapply\u001b[0m][\u001b[1;32mDEBUG\u001b[0m] - R5/8:\u001b[1;32mtensor([[[ 12,  13],\n",
       "         [ 28,  29],\n",
       "         [ 44,  45],\n",
       "         [ 60,  61]],\n",
       "\n",
       "        [[ 86,  87],\n",
       "         [102, 103],\n",
       "         [118, 119],\n",
       "         [134, 135]]])\u001b[0m\n",
       "[2025-06-06 11:53:57,016][\u001b[1;36mtensorcraft.mpi.distributions.multi_axis_dist\u001b[0m][\u001b[1;35mapply\u001b[0m][\u001b[1;32mDEBUG\u001b[0m] - R5/8:\u001b[1;32mLinear processor index: 6, Residue: 1, Block size: 1, axis: 1, N procs: 8, N full blocks: 37\u001b[0m\n",
       "[2025-06-06 11:53:57,019][\u001b[1;36mtensorcraft.mpi.distributions.multi_axis_dist\u001b[0m][\u001b[1;35mapply\u001b[0m][\u001b[1;32mDEBUG\u001b[0m] - R5/8:\u001b[1;32mShaved slices: [slice(None, None, None), slice(None, None, None), slice(None, None, None)]\u001b[0m\n",
       "[2025-06-06 11:53:57,020][\u001b[1;36mtensorcraft.mpi.distributions.multi_axis_dist\u001b[0m][\u001b[1;35mapply\u001b[0m][\u001b[1;32mDEBUG\u001b[0m] - R5/8:\u001b[1;32mFinal local tensor shape: torch.Size([2, 4, 2])\u001b[0m\n",
       "tensor([[[ 12,  13],\n",
       "         [ 28,  29],\n",
       "         [ 44,  45],\n",
       "         [ 60,  61]],\n",
       "\n",
       "        [[ 86,  87],\n",
       "         [102, 103],\n",
       "         [118, 119],\n",
       "         [134, 135]]])\n",
       "torch.Size([2, 4, 2])\n",
       "torch.int64\n",
       "False\n"
      ]
     },
     "metadata": {},
     "output_type": "display_data"
    },
    {
     "name": "stdout",
     "output_type": "stream",
     "text": [
      "%px:  88%|████████▊ | 7/8 [00:13<00:00,  1.62tasks/s]"
     ]
    },
    {
     "data": {
      "text/plain": [
       "[stdout:2] [2025-06-06 11:53:57,570][\u001b[1;36mtensorcraft.mpi.distributions.multi_axis_dist\u001b[0m][\u001b[1;35mapply\u001b[0m][\u001b[1;32mDEBUG\u001b[0m] - R2/8:\u001b[1;32mProcessor multi index: torch.Size([0, 1, 0])\u001b[0m\n",
       "[2025-06-06 11:53:57,571][\u001b[1;36mtensorcraft.mpi.distributions.multi_axis_dist\u001b[0m][\u001b[1;35mapply\u001b[0m][\u001b[1;32mDEBUG\u001b[0m] - R2/8:\u001b[1;32mMissing elements: [0, 1, 0]\u001b[0m\n",
       "[2025-06-06 11:53:57,572][\u001b[1;36mtensorcraft.mpi.distributions.multi_axis_dist\u001b[0m][\u001b[1;35mapply\u001b[0m][\u001b[1;32mDEBUG\u001b[0m] - R2/8:\u001b[1;32mN blocks per axis: [1, 37, 1]\u001b[0m\n",
       "[2025-06-06 11:53:57,575][\u001b[1;36mtensorcraft.mpi.distributions.multi_axis_dist\u001b[0m][\u001b[1;35mapply\u001b[0m][\u001b[1;32mDEBUG\u001b[0m] - R2/8:\u001b[1;32mPadded tensor shape: torch.Size([2, 38, 2])\u001b[0m\n",
       "[2025-06-06 11:53:57,578][\u001b[1;36mtensorcraft.mpi.distributions.multi_axis_dist\u001b[0m][\u001b[1;35mapply\u001b[0m][\u001b[1;32mDEBUG\u001b[0m] - R2/8:\u001b[1;32mPermute tuple: (0, 2, 4, 1, 3, 5)\u001b[0m\n",
       "[2025-06-06 11:53:57,580][\u001b[1;36mtensorcraft.mpi.distributions.multi_axis_dist\u001b[0m][\u001b[1;35mapply\u001b[0m][\u001b[1;32mDEBUG\u001b[0m] - R2/8:\u001b[1;32mReshape tuple: [1, 2, 38, 1, 1, 2]\u001b[0m\n",
       "[2025-06-06 11:53:57,583][\u001b[1;36mtensorcraft.mpi.distributions.multi_axis_dist\u001b[0m][\u001b[1;35mapply\u001b[0m][\u001b[1;32mDEBUG\u001b[0m] - R2/8:\u001b[1;32mTile Slices: [slice(None, None, None), slice(None, None, None), slice(tensor(1), None, 8), slice(None, None, None), slice(None, None, None), slice(None, None, None)]\u001b[0m\n",
       "[2025-06-06 11:53:57,585][\u001b[1;36mtensorcraft.mpi.distributions.multi_axis_dist\u001b[0m][\u001b[1;35mapply\u001b[0m][\u001b[1;32mDEBUG\u001b[0m] - R2/8:\u001b[1;32mLocal tensor shape: torch.Size([1, 2, 5, 1, 1, 2])\u001b[0m\n",
       "[2025-06-06 11:53:57,586][\u001b[1;36mtensorcraft.mpi.distributions.multi_axis_dist\u001b[0m][\u001b[1;35mapply\u001b[0m][\u001b[1;32mDEBUG\u001b[0m] - R2/8:\u001b[1;32mTarget local tensor shape: [2, 5, 2]\u001b[0m\n",
       "[2025-06-06 11:53:57,589][\u001b[1;36mtensorcraft.mpi.distributions.multi_axis_dist\u001b[0m][\u001b[1;35mapply\u001b[0m][\u001b[1;32mDEBUG\u001b[0m] - R2/8:\u001b[1;32mtensor([[[  2,   3],\n",
       "         [ 18,  19],\n",
       "         [ 34,  35],\n",
       "         [ 50,  51],\n",
       "         [ 66,  67]],\n",
       "\n",
       "        [[ 76,  77],\n",
       "         [ 92,  93],\n",
       "         [108, 109],\n",
       "         [124, 125],\n",
       "         [140, 141]]])\u001b[0m\n",
       "[2025-06-06 11:53:57,592][\u001b[1;36mtensorcraft.mpi.distributions.multi_axis_dist\u001b[0m][\u001b[1;35mapply\u001b[0m][\u001b[1;32mDEBUG\u001b[0m] - R2/8:\u001b[1;32mLinear processor index: 1, Residue: 1, Block size: 1, axis: 1, N procs: 8, N full blocks: 37\u001b[0m\n",
       "[2025-06-06 11:53:57,593][\u001b[1;36mtensorcraft.mpi.distributions.multi_axis_dist\u001b[0m][\u001b[1;35mapply\u001b[0m][\u001b[1;32mDEBUG\u001b[0m] - R2/8:\u001b[1;32mShaved slices: [slice(None, None, None), slice(None, None, None), slice(None, None, None)]\u001b[0m\n",
       "[2025-06-06 11:53:57,595][\u001b[1;36mtensorcraft.mpi.distributions.multi_axis_dist\u001b[0m][\u001b[1;35mapply\u001b[0m][\u001b[1;32mDEBUG\u001b[0m] - R2/8:\u001b[1;32mFinal local tensor shape: torch.Size([2, 5, 2])\u001b[0m\n",
       "tensor([[[  2,   3],\n",
       "         [ 18,  19],\n",
       "         [ 34,  35],\n",
       "         [ 50,  51],\n",
       "         [ 66,  67]],\n",
       "\n",
       "        [[ 76,  77],\n",
       "         [ 92,  93],\n",
       "         [108, 109],\n",
       "         [124, 125],\n",
       "         [140, 141]]])\n",
       "torch.Size([2, 5, 2])\n",
       "torch.int64\n",
       "False\n"
      ]
     },
     "metadata": {},
     "output_type": "display_data"
    },
    {
     "name": "stdout",
     "output_type": "stream",
     "text": [
      "%px: 100%|██████████| 8/8 [00:14<00:00,  1.76s/tasks]\n"
     ]
    }
   ],
   "source": [
    "%%px\n",
    "from mpi4py import MPI\n",
    "comm = MPI.COMM_WORLD\n",
    "rank = comm.Get_rank()\n",
    "w_size = comm.Get_size()\n",
    "\n",
    "import torch\n",
    "import logging\n",
    "import tensorcraft as tc\n",
    "\n",
    "tc.set_logger_config(log_rank=True, level=logging.DEBUG)\n",
    "\n",
    "shape = torch.Size([2, 37, 2])\n",
    "x = torch.arange(shape.numel()).reshape(shape)\n",
    "\n",
    "mesh = torch.Size([2,2,2])\n",
    "dist = tc.mpi.MPIMultiAxisDist(mesh, (None, (0,2,1), None),1)\n",
    "\n",
    "x_local = dist.apply(x, rank)\n",
    "print(x_local)\n",
    "print(x_local.shape)\n",
    "print(x_local.dtype)\n",
    "print(x_local.is_contiguous())"
   ]
  },
  {
   "cell_type": "code",
   "execution_count": null,
   "metadata": {},
   "outputs": [
    {
     "data": {
      "text/plain": [
       "\u001b[0;31mOut[7:2]: \u001b[0mtorch.Size([2, 4, 2])"
      ]
     },
     "metadata": {
      "after": null,
      "completed": null,
      "data": {},
      "engine_id": 7,
      "engine_uuid": "344590ce-409237efd15aa2e8c4011210",
      "error": null,
      "execute_input": "dist.localShape(x.shape, rank)\n",
      "execute_result": {
       "data": {
        "text/plain": "torch.Size([2, 4, 2])"
       },
       "execution_count": 2,
       "metadata": {}
      },
      "follow": null,
      "msg_id": null,
      "outputs": [],
      "received": null,
      "started": null,
      "status": null,
      "stderr": "",
      "stdout": "",
      "submitted": "2025-06-06T09:53:57.691255Z"
     },
     "output_type": "display_data"
    },
    {
     "data": {
      "text/plain": [
       "\u001b[0;31mOut[2:2]: \u001b[0mtorch.Size([2, 5, 2])"
      ]
     },
     "metadata": {
      "after": null,
      "completed": null,
      "data": {},
      "engine_id": 2,
      "engine_uuid": "1a208445-40119a9cc59eb8f38352114b",
      "error": null,
      "execute_input": "dist.localShape(x.shape, rank)\n",
      "execute_result": {
       "data": {
        "text/plain": "torch.Size([2, 5, 2])"
       },
       "execution_count": 2,
       "metadata": {}
      },
      "follow": null,
      "msg_id": null,
      "outputs": [],
      "received": null,
      "started": null,
      "status": null,
      "stderr": "",
      "stdout": "",
      "submitted": "2025-06-06T09:53:57.677296Z"
     },
     "output_type": "display_data"
    },
    {
     "data": {
      "text/plain": [
       "\u001b[0;31mOut[3:2]: \u001b[0mtorch.Size([2, 5, 2])"
      ]
     },
     "metadata": {
      "after": null,
      "completed": null,
      "data": {},
      "engine_id": 3,
      "engine_uuid": "6b4f81de-f6739d26d67f26d6896f5cf2",
      "error": null,
      "execute_input": "dist.localShape(x.shape, rank)\n",
      "execute_result": {
       "data": {
        "text/plain": "torch.Size([2, 5, 2])"
       },
       "execution_count": 2,
       "metadata": {}
      },
      "follow": null,
      "msg_id": null,
      "outputs": [],
      "received": null,
      "started": null,
      "status": null,
      "stderr": "",
      "stdout": "",
      "submitted": "2025-06-06T09:53:57.677463Z"
     },
     "output_type": "display_data"
    },
    {
     "data": {
      "text/plain": [
       "\u001b[0;31mOut[5:2]: \u001b[0mtorch.Size([2, 4, 2])"
      ]
     },
     "metadata": {
      "after": [],
      "completed": "2025-06-06T09:53:57.757258Z",
      "data": {},
      "engine_id": 5,
      "engine_uuid": "f13c0ee5-8b80edc32630649259c05709",
      "error": null,
      "execute_input": "dist.localShape(x.shape, rank)\n",
      "execute_result": {
       "data": {
        "text/plain": "torch.Size([2, 4, 2])"
       },
       "execution_count": 2,
       "metadata": {}
      },
      "follow": [],
      "is_broadcast": false,
      "is_coalescing": false,
      "msg_id": "11040ad5-31fc78109183db914f7861ca_65262_14",
      "outputs": [],
      "received": "2025-06-06T09:53:57.798523Z",
      "started": "2025-06-06T09:53:57.722330Z",
      "status": "ok",
      "stderr": "",
      "stdout": "",
      "submitted": "2025-06-06T09:53:57.686444Z"
     },
     "output_type": "display_data"
    },
    {
     "data": {
      "text/plain": [
       "\u001b[0;31mOut[0:2]: \u001b[0mtorch.Size([2, 5, 2])"
      ]
     },
     "metadata": {
      "after": [],
      "completed": "2025-06-06T09:53:57.781191Z",
      "data": {},
      "engine_id": 0,
      "engine_uuid": "cf0de197-d78702962b11bebb1a581e42",
      "error": null,
      "execute_input": "dist.localShape(x.shape, rank)\n",
      "execute_result": {
       "data": {
        "text/plain": "torch.Size([2, 5, 2])"
       },
       "execution_count": 2,
       "metadata": {}
      },
      "follow": [],
      "is_broadcast": false,
      "is_coalescing": false,
      "msg_id": "11040ad5-31fc78109183db914f7861ca_65262_9",
      "outputs": [],
      "received": "2025-06-06T09:53:57.813948Z",
      "started": "2025-06-06T09:53:57.690313Z",
      "status": "ok",
      "stderr": "",
      "stdout": "",
      "submitted": "2025-06-06T09:53:57.666962Z"
     },
     "output_type": "display_data"
    },
    {
     "data": {
      "text/plain": [
       "\u001b[0;31mOut[1:2]: \u001b[0mtorch.Size([2, 5, 2])"
      ]
     },
     "metadata": {
      "after": [],
      "completed": "2025-06-06T09:53:57.779479Z",
      "data": {},
      "engine_id": 1,
      "engine_uuid": "87907076-3c557fab3fff7b04ce9d861e",
      "error": null,
      "execute_input": "dist.localShape(x.shape, rank)\n",
      "execute_result": {
       "data": {
        "text/plain": "torch.Size([2, 5, 2])"
       },
       "execution_count": 2,
       "metadata": {}
      },
      "follow": [],
      "is_broadcast": false,
      "is_coalescing": false,
      "msg_id": "11040ad5-31fc78109183db914f7861ca_65262_10",
      "outputs": [],
      "received": "2025-06-06T09:53:57.812237Z",
      "started": "2025-06-06T09:53:57.702278Z",
      "status": "ok",
      "stderr": "",
      "stdout": "",
      "submitted": "2025-06-06T09:53:57.676909Z"
     },
     "output_type": "display_data"
    },
    {
     "data": {
      "text/plain": [
       "\u001b[0;31mOut[4:2]: \u001b[0mtorch.Size([2, 5, 2])"
      ]
     },
     "metadata": {
      "after": [],
      "completed": "2025-06-06T09:53:57.802105Z",
      "data": {},
      "engine_id": 4,
      "engine_uuid": "30b640a7-0fa75b73272eee52ef428f03",
      "error": null,
      "execute_input": "dist.localShape(x.shape, rank)\n",
      "execute_result": {
       "data": {
        "text/plain": "torch.Size([2, 5, 2])"
       },
       "execution_count": 2,
       "metadata": {}
      },
      "follow": [],
      "is_broadcast": false,
      "is_coalescing": false,
      "msg_id": "11040ad5-31fc78109183db914f7861ca_65262_13",
      "outputs": [],
      "received": "2025-06-06T09:53:57.827031Z",
      "started": "2025-06-06T09:53:57.718561Z",
      "status": "ok",
      "stderr": "",
      "stdout": "",
      "submitted": "2025-06-06T09:53:57.677514Z"
     },
     "output_type": "display_data"
    },
    {
     "data": {
      "text/plain": [
       "\u001b[0;31mOut[6:2]: \u001b[0mtorch.Size([2, 4, 2])"
      ]
     },
     "metadata": {
      "after": [],
      "completed": "2025-06-06T09:53:57.801446Z",
      "data": {},
      "engine_id": 6,
      "engine_uuid": "1e62f921-75f0b9b0731aee3a9d329649",
      "error": null,
      "execute_input": "dist.localShape(x.shape, rank)\n",
      "execute_result": {
       "data": {
        "text/plain": "torch.Size([2, 4, 2])"
       },
       "execution_count": 2,
       "metadata": {}
      },
      "follow": [],
      "is_broadcast": false,
      "is_coalescing": false,
      "msg_id": "11040ad5-31fc78109183db914f7861ca_65262_15",
      "outputs": [],
      "received": "2025-06-06T09:53:57.819827Z",
      "started": "2025-06-06T09:53:57.733228Z",
      "status": "ok",
      "stderr": "",
      "stdout": "",
      "submitted": "2025-06-06T09:53:57.690811Z"
     },
     "output_type": "display_data"
    }
   ],
   "source": [
    "%%px\n",
    "dist.localShape(x.shape, rank)"
   ]
  },
  {
   "cell_type": "code",
   "execution_count": null,
   "metadata": {},
   "outputs": [
    {
     "data": {
      "text/plain": [
       "\u001b[0;31mOut[0:3]: \u001b[0mtorch.Size([2, 5, 2])"
      ]
     },
     "metadata": {
      "after": [],
      "completed": "2025-06-06T09:53:58.034713Z",
      "data": {},
      "engine_id": 0,
      "engine_uuid": "cf0de197-d78702962b11bebb1a581e42",
      "error": null,
      "execute_input": "expected_dist, _, _ = dist.permute(x.shape, mesh_dims=[0,1])\nexpected_dist.localShape(x.shape, rank)\n",
      "execute_result": {
       "data": {
        "text/plain": "torch.Size([2, 5, 2])"
       },
       "execution_count": 3,
       "metadata": {}
      },
      "follow": [],
      "is_broadcast": false,
      "is_coalescing": false,
      "msg_id": "11040ad5-31fc78109183db914f7861ca_65262_17",
      "outputs": [],
      "received": "2025-06-06T09:53:58.056976Z",
      "started": "2025-06-06T09:53:58.006694Z",
      "status": "ok",
      "stderr": "",
      "stdout": "",
      "submitted": "2025-06-06T09:53:57.991567Z"
     },
     "output_type": "display_data"
    },
    {
     "data": {
      "text/plain": [
       "\u001b[0;31mOut[1:3]: \u001b[0mtorch.Size([2, 5, 2])"
      ]
     },
     "metadata": {
      "after": [],
      "completed": "2025-06-06T09:53:58.033717Z",
      "data": {},
      "engine_id": 1,
      "engine_uuid": "87907076-3c557fab3fff7b04ce9d861e",
      "error": null,
      "execute_input": "expected_dist, _, _ = dist.permute(x.shape, mesh_dims=[0,1])\nexpected_dist.localShape(x.shape, rank)\n",
      "execute_result": {
       "data": {
        "text/plain": "torch.Size([2, 5, 2])"
       },
       "execution_count": 3,
       "metadata": {}
      },
      "follow": [],
      "is_broadcast": false,
      "is_coalescing": false,
      "msg_id": "11040ad5-31fc78109183db914f7861ca_65262_18",
      "outputs": [],
      "received": "2025-06-06T09:53:58.044989Z",
      "started": "2025-06-06T09:53:58.011245Z",
      "status": "ok",
      "stderr": "",
      "stdout": "",
      "submitted": "2025-06-06T09:53:57.994660Z"
     },
     "output_type": "display_data"
    },
    {
     "data": {
      "text/plain": [
       "\u001b[0;31mOut[4:3]: \u001b[0mtorch.Size([2, 5, 2])"
      ]
     },
     "metadata": {
      "after": [],
      "completed": "2025-06-06T09:53:58.042088Z",
      "data": {},
      "engine_id": 4,
      "engine_uuid": "30b640a7-0fa75b73272eee52ef428f03",
      "error": null,
      "execute_input": "expected_dist, _, _ = dist.permute(x.shape, mesh_dims=[0,1])\nexpected_dist.localShape(x.shape, rank)\n",
      "execute_result": {
       "data": {
        "text/plain": "torch.Size([2, 5, 2])"
       },
       "execution_count": 3,
       "metadata": {}
      },
      "follow": [],
      "is_broadcast": false,
      "is_coalescing": false,
      "msg_id": "11040ad5-31fc78109183db914f7861ca_65262_21",
      "outputs": [],
      "received": "2025-06-06T09:53:58.063815Z",
      "started": "2025-06-06T09:53:58.021441Z",
      "status": "ok",
      "stderr": "",
      "stdout": "",
      "submitted": "2025-06-06T09:53:57.995764Z"
     },
     "output_type": "display_data"
    },
    {
     "data": {
      "text/plain": [
       "\u001b[0;31mOut[7:3]: \u001b[0mtorch.Size([2, 4, 2])"
      ]
     },
     "metadata": {
      "after": [],
      "completed": "2025-06-06T09:53:58.056082Z",
      "data": {},
      "engine_id": 7,
      "engine_uuid": "344590ce-409237efd15aa2e8c4011210",
      "error": null,
      "execute_input": "expected_dist, _, _ = dist.permute(x.shape, mesh_dims=[0,1])\nexpected_dist.localShape(x.shape, rank)\n",
      "execute_result": {
       "data": {
        "text/plain": "torch.Size([2, 4, 2])"
       },
       "execution_count": 3,
       "metadata": {}
      },
      "follow": [],
      "is_broadcast": false,
      "is_coalescing": false,
      "msg_id": "11040ad5-31fc78109183db914f7861ca_65262_24",
      "outputs": [],
      "received": "2025-06-06T09:53:58.096681Z",
      "started": "2025-06-06T09:53:58.023114Z",
      "status": "ok",
      "stderr": "",
      "stdout": "",
      "submitted": "2025-06-06T09:53:57.997088Z"
     },
     "output_type": "display_data"
    },
    {
     "data": {
      "text/plain": [
       "\u001b[0;31mOut[3:3]: \u001b[0mtorch.Size([2, 4, 2])"
      ]
     },
     "metadata": {
      "after": [],
      "completed": "2025-06-06T09:53:58.054814Z",
      "data": {},
      "engine_id": 3,
      "engine_uuid": "6b4f81de-f6739d26d67f26d6896f5cf2",
      "error": null,
      "execute_input": "expected_dist, _, _ = dist.permute(x.shape, mesh_dims=[0,1])\nexpected_dist.localShape(x.shape, rank)\n",
      "execute_result": {
       "data": {
        "text/plain": "torch.Size([2, 4, 2])"
       },
       "execution_count": 3,
       "metadata": {}
      },
      "follow": [],
      "is_broadcast": false,
      "is_coalescing": false,
      "msg_id": "11040ad5-31fc78109183db914f7861ca_65262_20",
      "outputs": [],
      "received": "2025-06-06T09:53:58.104742Z",
      "started": "2025-06-06T09:53:58.015407Z",
      "status": "ok",
      "stderr": "",
      "stdout": "",
      "submitted": "2025-06-06T09:53:57.995544Z"
     },
     "output_type": "display_data"
    },
    {
     "data": {
      "text/plain": [
       "\u001b[0;31mOut[2:3]: \u001b[0mtorch.Size([2, 5, 2])"
      ]
     },
     "metadata": {
      "after": [],
      "completed": "2025-06-06T09:53:58.065929Z",
      "data": {},
      "engine_id": 2,
      "engine_uuid": "1a208445-40119a9cc59eb8f38352114b",
      "error": null,
      "execute_input": "expected_dist, _, _ = dist.permute(x.shape, mesh_dims=[0,1])\nexpected_dist.localShape(x.shape, rank)\n",
      "execute_result": {
       "data": {
        "text/plain": "torch.Size([2, 5, 2])"
       },
       "execution_count": 3,
       "metadata": {}
      },
      "follow": [],
      "is_broadcast": false,
      "is_coalescing": false,
      "msg_id": "11040ad5-31fc78109183db914f7861ca_65262_19",
      "outputs": [],
      "received": "2025-06-06T09:53:58.119919Z",
      "started": "2025-06-06T09:53:58.016925Z",
      "status": "ok",
      "stderr": "",
      "stdout": "",
      "submitted": "2025-06-06T09:53:57.995266Z"
     },
     "output_type": "display_data"
    },
    {
     "data": {
      "text/plain": [
       "\u001b[0;31mOut[6:3]: \u001b[0mtorch.Size([2, 4, 2])"
      ]
     },
     "metadata": {
      "after": [],
      "completed": "2025-06-06T09:53:58.079877Z",
      "data": {},
      "engine_id": 6,
      "engine_uuid": "1e62f921-75f0b9b0731aee3a9d329649",
      "error": null,
      "execute_input": "expected_dist, _, _ = dist.permute(x.shape, mesh_dims=[0,1])\nexpected_dist.localShape(x.shape, rank)\n",
      "execute_result": {
       "data": {
        "text/plain": "torch.Size([2, 4, 2])"
       },
       "execution_count": 3,
       "metadata": {}
      },
      "follow": [],
      "is_broadcast": false,
      "is_coalescing": false,
      "msg_id": "11040ad5-31fc78109183db914f7861ca_65262_23",
      "outputs": [],
      "received": "2025-06-06T09:53:58.108399Z",
      "started": "2025-06-06T09:53:58.026022Z",
      "status": "ok",
      "stderr": "",
      "stdout": "",
      "submitted": "2025-06-06T09:53:57.996905Z"
     },
     "output_type": "display_data"
    },
    {
     "data": {
      "text/plain": [
       "\u001b[0;31mOut[5:3]: \u001b[0mtorch.Size([2, 5, 2])"
      ]
     },
     "metadata": {
      "after": [],
      "completed": "2025-06-06T09:53:58.085141Z",
      "data": {},
      "engine_id": 5,
      "engine_uuid": "f13c0ee5-8b80edc32630649259c05709",
      "error": null,
      "execute_input": "expected_dist, _, _ = dist.permute(x.shape, mesh_dims=[0,1])\nexpected_dist.localShape(x.shape, rank)\n",
      "execute_result": {
       "data": {
        "text/plain": "torch.Size([2, 5, 2])"
       },
       "execution_count": 3,
       "metadata": {}
      },
      "follow": [],
      "is_broadcast": false,
      "is_coalescing": false,
      "msg_id": "11040ad5-31fc78109183db914f7861ca_65262_22",
      "outputs": [],
      "received": "2025-06-06T09:53:58.121123Z",
      "started": "2025-06-06T09:53:58.029194Z",
      "status": "ok",
      "stderr": "",
      "stdout": "",
      "submitted": "2025-06-06T09:53:57.995976Z"
     },
     "output_type": "display_data"
    }
   ],
   "source": [
    "%%px\n",
    "expected_dist, _, _ = dist.permute(x.shape, mesh_dims=[0,1])\n",
    "expected_dist.localShape(x.shape, rank)"
   ]
  },
  {
   "cell_type": "code",
   "execution_count": null,
   "metadata": {},
   "outputs": [
    {
     "data": {
      "text/plain": [
       "[stdout:1] [2025-06-06 12:44:35,915][\u001b[1;36mtensorcraft.mpi.distributions.multi_axis_dist\u001b[0m][\u001b[1;35mapply_permute\u001b[0m][\u001b[1;32mDEBUG\u001b[0m] - R1/8:\u001b[1;32mtensor([[[  4,   5],\n",
       "         [ 20,  21],\n",
       "         [ 36,  37],\n",
       "         [ 52,  53],\n",
       "         [ 68,  69]],\n",
       "\n",
       "        [[ 78,  79],\n",
       "         [ 94,  95],\n",
       "         [110, 111],\n",
       "         [126, 127],\n",
       "         [142, 143]]])\u001b[0m\n",
       "[2025-06-06 12:44:35,917][\u001b[1;36mtensorcraft.mpi.distributions.multi_axis_dist\u001b[0m][\u001b[1;35mapply_permute\u001b[0m][\u001b[1;37mINFO\u001b[0m] - R1/8:\u001b[1;37mCreating cart\u001b[0m\n",
       "[2025-06-06 12:44:36,008][\u001b[1;36mtensorcraft.mpi.distributions.multi_axis_dist\u001b[0m][\u001b[1;35mapply_permute\u001b[0m][\u001b[1;37mINFO\u001b[0m] - R1/8:\u001b[1;37mExchanged needed, change in virtual submesh index: 2 != 1\u001b[0m\n",
       "[2025-06-06 12:44:36,009][\u001b[1;36mtensorcraft.mpi.distributions.multi_axis_dist\u001b[0m][\u001b[1;35mapply_permute\u001b[0m][\u001b[1;32mDEBUG\u001b[0m] - R1/8:\u001b[1;32mCurrent real idx and mindx: 1, [0, 0, 1]\u001b[0m\n",
       "[2025-06-06 12:44:36,017][\u001b[1;36mtensorcraft.mpi.distributions.multi_axis_dist\u001b[0m][\u001b[1;35mapply_permute\u001b[0m][\u001b[1;32mDEBUG\u001b[0m] - R1/8:\u001b[1;32mIdx order: tensor([0, 2, 1])\u001b[0m\n",
       "[2025-06-06 12:44:36,020][\u001b[1;36mtensorcraft.mpi.distributions.multi_axis_dist\u001b[0m][\u001b[1;35mapply_permute\u001b[0m][\u001b[1;32mDEBUG\u001b[0m] - R1/8:\u001b[1;32mSub mesh dims: tensor([2, 2, 2])\u001b[0m\n",
       "[2025-06-06 12:44:36,021][\u001b[1;36mtensorcraft.mpi.distributions.multi_axis_dist\u001b[0m][\u001b[1;35mapply_permute\u001b[0m][\u001b[1;32mDEBUG\u001b[0m] - R1/8:\u001b[1;32mTarget_v_midx torch.Size([0, 0, 1])\u001b[0m\n",
       "[2025-06-06 12:44:36,022][\u001b[1;36mtensorcraft.mpi.distributions.multi_axis_dist\u001b[0m][\u001b[1;35mapply_permute\u001b[0m][\u001b[1;32mDEBUG\u001b[0m] - R1/8:\u001b[1;32mTarget_r_midx tensor([0, 1, 0])\u001b[0m\n",
       "[2025-06-06 12:44:36,023][\u001b[1;36mtensorcraft.mpi.distributions.multi_axis_dist\u001b[0m][\u001b[1;35mapply_permute\u001b[0m][\u001b[1;32mDEBUG\u001b[0m] - R1/8:\u001b[1;32mTarget real smi: 2\u001b[0m\n",
       "[2025-06-06 12:44:36,025][\u001b[1;36mtensorcraft.mpi.mpi_utils\u001b[0m][\u001b[1;35mtensor2mpiBuffer\u001b[0m][\u001b[1;32mDEBUG\u001b[0m] - R1/8:\u001b[1;32mtensor_stride: (76, 16, 1)\u001b[0m\n",
       "[2025-06-06 12:44:36,026][\u001b[1;36mtensorcraft.mpi.mpi_utils\u001b[0m][\u001b[1;35mtensor2mpiBuffer\u001b[0m][\u001b[1;32mDEBUG\u001b[0m] - R1/8:\u001b[1;32mtensor_offset: 4\u001b[0m\n",
       "[2025-06-06 12:44:36,027][\u001b[1;36mtensorcraft.mpi.mpi_utils\u001b[0m][\u001b[1;35mtensor2mpiBuffer\u001b[0m][\u001b[1;32mDEBUG\u001b[0m] - R1/8:\u001b[1;32mtensor_shape: torch.Size([2, 5, 2])\u001b[0m\n",
       "[2025-06-06 12:44:36,028][\u001b[1;36mtensorcraft.mpi.mpi_utils\u001b[0m][\u001b[1;35mtensor2mpiBuffer\u001b[0m][\u001b[1;32mDEBUG\u001b[0m] - R1/8:\u001b[1;32mtensor_dtype: torch.int64\u001b[0m\n",
       "[2025-06-06 12:44:36,029][\u001b[1;36mtensorcraft.mpi.distributions.multi_axis_dist\u001b[0m][\u001b[1;35mapply_permute\u001b[0m][\u001b[1;32mDEBUG\u001b[0m] - R1/8:\u001b[1;32m1/1/8 - Different shape, a memory shame to rank 2\u001b[0m\n",
       "[2025-06-06 12:44:36,030][\u001b[1;36mtensorcraft.mpi.distributions.multi_axis_dist\u001b[0m][\u001b[1;35mapply_permute\u001b[0m][\u001b[1;32mDEBUG\u001b[0m] - R1/8:\u001b[1;32mtensor([[[  4,   5],\n",
       "         [ 20,  21],\n",
       "         [ 36,  37],\n",
       "         [ 52,  53],\n",
       "         [ 68,  69]],\n",
       "\n",
       "        [[ 78,  79],\n",
       "         [ 94,  95],\n",
       "         [110, 111],\n",
       "         [126, 127],\n",
       "         [142, 143]]])\u001b[0m\n",
       "[2025-06-06 12:44:36,032][\u001b[1;36mtensorcraft.mpi.mpi_utils\u001b[0m][\u001b[1;35mtensor2mpiBuffer\u001b[0m][\u001b[1;32mDEBUG\u001b[0m] - R1/8:\u001b[1;32mtensor_stride: (10, 2, 1)\u001b[0m\n",
       "[2025-06-06 12:44:36,033][\u001b[1;36mtensorcraft.mpi.mpi_utils\u001b[0m][\u001b[1;35mtensor2mpiBuffer\u001b[0m][\u001b[1;32mDEBUG\u001b[0m] - R1/8:\u001b[1;32mtensor_offset: 0\u001b[0m\n",
       "[2025-06-06 12:44:36,033][\u001b[1;36mtensorcraft.mpi.mpi_utils\u001b[0m][\u001b[1;35mtensor2mpiBuffer\u001b[0m][\u001b[1;32mDEBUG\u001b[0m] - R1/8:\u001b[1;32mtensor_shape: torch.Size([2, 5, 2])\u001b[0m\n",
       "[2025-06-06 12:44:36,034][\u001b[1;36mtensorcraft.mpi.mpi_utils\u001b[0m][\u001b[1;35mtensor2mpiBuffer\u001b[0m][\u001b[1;32mDEBUG\u001b[0m] - R1/8:\u001b[1;32mtensor_dtype: torch.int64\u001b[0m\n",
       "[2025-06-06 12:44:36,034][\u001b[1;36mtensorcraft.mpi.mpi_utils\u001b[0m][\u001b[1;35mtensor2mpiBuffer\u001b[0m][\u001b[1;32mDEBUG\u001b[0m] - R1/8:\u001b[1;32mBest case scenario, it is contiguous!\u001b[0m\n",
       "[2025-06-06 12:44:36,035][\u001b[1;36mtensorcraft.mpi.distributions.multi_axis_dist\u001b[0m][\u001b[1;35mapply_permute\u001b[0m][\u001b[1;32mDEBUG\u001b[0m] - R1/8:\u001b[1;32mtensor([[[  2,   3],\n",
       "         [ 18,  19],\n",
       "         [ 34,  35],\n",
       "         [ 50,  51],\n",
       "         [ 66,  67]],\n",
       "\n",
       "        [[ 76,  77],\n",
       "         [ 92,  93],\n",
       "         [108, 109],\n",
       "         [124, 125],\n",
       "         [140, 141]]])\u001b[0m\n",
       "[2025-06-06 12:44:36,038][\u001b[1;36mtensorcraft.mpi.distributions.multi_axis_dist\u001b[0m][\u001b[1;35mapply_permute\u001b[0m][\u001b[1;32mDEBUG\u001b[0m] - R1/8:\u001b[1;32m1/8 - Barrier wait\u001b[0m\n",
       "[2025-06-06 12:44:36,256][\u001b[1;36mtensorcraft.mpi.distributions.multi_axis_dist\u001b[0m][\u001b[1;35mapply_permute\u001b[0m][\u001b[1;32mDEBUG\u001b[0m] - R1/8:\u001b[1;32m1/8 - Barrier escape\u001b[0m\n"
      ]
     },
     "metadata": {},
     "output_type": "display_data"
    },
    {
     "data": {
      "text/plain": [
       "[stdout:0] [2025-06-06 12:44:35,912][\u001b[1;36mtensorcraft.mpi.distributions.multi_axis_dist\u001b[0m][\u001b[1;35mapply_permute\u001b[0m][\u001b[1;32mDEBUG\u001b[0m] - R0/8:\u001b[1;32mtensor([[[  0,   1],\n",
       "         [ 16,  17],\n",
       "         [ 32,  33],\n",
       "         [ 48,  49],\n",
       "         [ 64,  65]],\n",
       "\n",
       "        [[ 74,  75],\n",
       "         [ 90,  91],\n",
       "         [106, 107],\n",
       "         [122, 123],\n",
       "         [138, 139]]])\u001b[0m\n",
       "[2025-06-06 12:44:35,917][\u001b[1;36mtensorcraft.mpi.distributions.multi_axis_dist\u001b[0m][\u001b[1;35mapply_permute\u001b[0m][\u001b[1;37mINFO\u001b[0m] - R0/8:\u001b[1;37mCreating cart\u001b[0m\n",
       "[2025-06-06 12:44:36,006][\u001b[1;36mtensorcraft.mpi.distributions.multi_axis_dist\u001b[0m][\u001b[1;35mapply_permute\u001b[0m][\u001b[1;32mDEBUG\u001b[0m] - R0/8:\u001b[1;32m0/8 - Barrier wait\u001b[0m\n",
       "[2025-06-06 12:44:36,242][\u001b[1;36mtensorcraft.mpi.distributions.multi_axis_dist\u001b[0m][\u001b[1;35mapply_permute\u001b[0m][\u001b[1;32mDEBUG\u001b[0m] - R0/8:\u001b[1;32m0/8 - Barrier escape\u001b[0m\n"
      ]
     },
     "metadata": {},
     "output_type": "display_data"
    },
    {
     "data": {
      "text/plain": [
       "[stdout:2] [2025-06-06 12:44:35,917][\u001b[1;36mtensorcraft.mpi.distributions.multi_axis_dist\u001b[0m][\u001b[1;35mapply_permute\u001b[0m][\u001b[1;32mDEBUG\u001b[0m] - R2/8:\u001b[1;32mtensor([[[  2,   3],\n",
       "         [ 18,  19],\n",
       "         [ 34,  35],\n",
       "         [ 50,  51],\n",
       "         [ 66,  67]],\n",
       "\n",
       "        [[ 76,  77],\n",
       "         [ 92,  93],\n",
       "         [108, 109],\n",
       "         [124, 125],\n",
       "         [140, 141]]])\u001b[0m\n",
       "[2025-06-06 12:44:35,919][\u001b[1;36mtensorcraft.mpi.distributions.multi_axis_dist\u001b[0m][\u001b[1;35mapply_permute\u001b[0m][\u001b[1;37mINFO\u001b[0m] - R2/8:\u001b[1;37mCreating cart\u001b[0m\n",
       "[2025-06-06 12:44:36,006][\u001b[1;36mtensorcraft.mpi.distributions.multi_axis_dist\u001b[0m][\u001b[1;35mapply_permute\u001b[0m][\u001b[1;37mINFO\u001b[0m] - R2/8:\u001b[1;37mExchanged needed, change in virtual submesh index: 1 != 2\u001b[0m\n",
       "[2025-06-06 12:44:36,007][\u001b[1;36mtensorcraft.mpi.distributions.multi_axis_dist\u001b[0m][\u001b[1;35mapply_permute\u001b[0m][\u001b[1;32mDEBUG\u001b[0m] - R2/8:\u001b[1;32mCurrent real idx and mindx: 2, [0, 1, 0]\u001b[0m\n",
       "[2025-06-06 12:44:36,008][\u001b[1;36mtensorcraft.mpi.distributions.multi_axis_dist\u001b[0m][\u001b[1;35mapply_permute\u001b[0m][\u001b[1;32mDEBUG\u001b[0m] - R2/8:\u001b[1;32mIdx order: tensor([0, 2, 1])\u001b[0m\n",
       "[2025-06-06 12:44:36,012][\u001b[1;36mtensorcraft.mpi.distributions.multi_axis_dist\u001b[0m][\u001b[1;35mapply_permute\u001b[0m][\u001b[1;32mDEBUG\u001b[0m] - R2/8:\u001b[1;32mSub mesh dims: tensor([2, 2, 2])\u001b[0m\n",
       "[2025-06-06 12:44:36,016][\u001b[1;36mtensorcraft.mpi.distributions.multi_axis_dist\u001b[0m][\u001b[1;35mapply_permute\u001b[0m][\u001b[1;32mDEBUG\u001b[0m] - R2/8:\u001b[1;32mTarget_v_midx torch.Size([0, 1, 0])\u001b[0m\n",
       "[2025-06-06 12:44:36,018][\u001b[1;36mtensorcraft.mpi.distributions.multi_axis_dist\u001b[0m][\u001b[1;35mapply_permute\u001b[0m][\u001b[1;32mDEBUG\u001b[0m] - R2/8:\u001b[1;32mTarget_r_midx tensor([0, 0, 1])\u001b[0m\n",
       "[2025-06-06 12:44:36,019][\u001b[1;36mtensorcraft.mpi.distributions.multi_axis_dist\u001b[0m][\u001b[1;35mapply_permute\u001b[0m][\u001b[1;32mDEBUG\u001b[0m] - R2/8:\u001b[1;32mTarget real smi: 1\u001b[0m\n",
       "[2025-06-06 12:44:36,020][\u001b[1;36mtensorcraft.mpi.mpi_utils\u001b[0m][\u001b[1;35mtensor2mpiBuffer\u001b[0m][\u001b[1;32mDEBUG\u001b[0m] - R2/8:\u001b[1;32mtensor_stride: (76, 16, 1)\u001b[0m\n",
       "[2025-06-06 12:44:36,021][\u001b[1;36mtensorcraft.mpi.mpi_utils\u001b[0m][\u001b[1;35mtensor2mpiBuffer\u001b[0m][\u001b[1;32mDEBUG\u001b[0m] - R2/8:\u001b[1;32mtensor_offset: 2\u001b[0m\n",
       "[2025-06-06 12:44:36,022][\u001b[1;36mtensorcraft.mpi.mpi_utils\u001b[0m][\u001b[1;35mtensor2mpiBuffer\u001b[0m][\u001b[1;32mDEBUG\u001b[0m] - R2/8:\u001b[1;32mtensor_shape: torch.Size([2, 5, 2])\u001b[0m\n",
       "[2025-06-06 12:44:36,022][\u001b[1;36mtensorcraft.mpi.mpi_utils\u001b[0m][\u001b[1;35mtensor2mpiBuffer\u001b[0m][\u001b[1;32mDEBUG\u001b[0m] - R2/8:\u001b[1;32mtensor_dtype: torch.int64\u001b[0m\n",
       "[2025-06-06 12:44:36,023][\u001b[1;36mtensorcraft.mpi.distributions.multi_axis_dist\u001b[0m][\u001b[1;35mapply_permute\u001b[0m][\u001b[1;32mDEBUG\u001b[0m] - R2/8:\u001b[1;32m2/2/8 - Different shape, a memory shame to rank 1\u001b[0m\n",
       "[2025-06-06 12:44:36,024][\u001b[1;36mtensorcraft.mpi.distributions.multi_axis_dist\u001b[0m][\u001b[1;35mapply_permute\u001b[0m][\u001b[1;32mDEBUG\u001b[0m] - R2/8:\u001b[1;32mtensor([[[  2,   3],\n",
       "         [ 18,  19],\n",
       "         [ 34,  35],\n",
       "         [ 50,  51],\n",
       "         [ 66,  67]],\n",
       "\n",
       "        [[ 76,  77],\n",
       "         [ 92,  93],\n",
       "         [108, 109],\n",
       "         [124, 125],\n",
       "         [140, 141]]])\u001b[0m\n",
       "[2025-06-06 12:44:36,025][\u001b[1;36mtensorcraft.mpi.mpi_utils\u001b[0m][\u001b[1;35mtensor2mpiBuffer\u001b[0m][\u001b[1;32mDEBUG\u001b[0m] - R2/8:\u001b[1;32mtensor_stride: (10, 2, 1)\u001b[0m\n",
       "[2025-06-06 12:44:36,026][\u001b[1;36mtensorcraft.mpi.mpi_utils\u001b[0m][\u001b[1;35mtensor2mpiBuffer\u001b[0m][\u001b[1;32mDEBUG\u001b[0m] - R2/8:\u001b[1;32mtensor_offset: 0\u001b[0m\n",
       "[2025-06-06 12:44:36,027][\u001b[1;36mtensorcraft.mpi.mpi_utils\u001b[0m][\u001b[1;35mtensor2mpiBuffer\u001b[0m][\u001b[1;32mDEBUG\u001b[0m] - R2/8:\u001b[1;32mtensor_shape: torch.Size([2, 5, 2])\u001b[0m\n",
       "[2025-06-06 12:44:36,028][\u001b[1;36mtensorcraft.mpi.mpi_utils\u001b[0m][\u001b[1;35mtensor2mpiBuffer\u001b[0m][\u001b[1;32mDEBUG\u001b[0m] - R2/8:\u001b[1;32mtensor_dtype: torch.int64\u001b[0m\n",
       "[2025-06-06 12:44:36,028][\u001b[1;36mtensorcraft.mpi.mpi_utils\u001b[0m][\u001b[1;35mtensor2mpiBuffer\u001b[0m][\u001b[1;32mDEBUG\u001b[0m] - R2/8:\u001b[1;32mBest case scenario, it is contiguous!\u001b[0m\n",
       "[2025-06-06 12:44:36,035][\u001b[1;36mtensorcraft.mpi.distributions.multi_axis_dist\u001b[0m][\u001b[1;35mapply_permute\u001b[0m][\u001b[1;32mDEBUG\u001b[0m] - R2/8:\u001b[1;32mtensor([[[  4,   5],\n",
       "         [ 20,  21],\n",
       "         [ 36,  37],\n",
       "         [ 52,  53],\n",
       "         [ 68,  69]],\n",
       "\n",
       "        [[ 78,  79],\n",
       "         [ 94,  95],\n",
       "         [110, 111],\n",
       "         [126, 127],\n",
       "         [142, 143]]])\u001b[0m\n",
       "[2025-06-06 12:44:36,038][\u001b[1;36mtensorcraft.mpi.distributions.multi_axis_dist\u001b[0m][\u001b[1;35mapply_permute\u001b[0m][\u001b[1;32mDEBUG\u001b[0m] - R2/8:\u001b[1;32m2/8 - Barrier wait\u001b[0m\n",
       "[2025-06-06 12:44:36,242][\u001b[1;36mtensorcraft.mpi.distributions.multi_axis_dist\u001b[0m][\u001b[1;35mapply_permute\u001b[0m][\u001b[1;32mDEBUG\u001b[0m] - R2/8:\u001b[1;32m2/8 - Barrier escape\u001b[0m\n"
      ]
     },
     "metadata": {},
     "output_type": "display_data"
    },
    {
     "data": {
      "text/plain": [
       "[stdout:5] [2025-06-06 12:44:35,919][\u001b[1;36mtensorcraft.mpi.distributions.multi_axis_dist\u001b[0m][\u001b[1;35mapply_permute\u001b[0m][\u001b[1;32mDEBUG\u001b[0m] - R5/8:\u001b[1;32mtensor([[[ 12,  13],\n",
       "         [ 28,  29],\n",
       "         [ 44,  45],\n",
       "         [ 60,  61]],\n",
       "\n",
       "        [[ 86,  87],\n",
       "         [102, 103],\n",
       "         [118, 119],\n",
       "         [134, 135]]])\u001b[0m\n",
       "[2025-06-06 12:44:35,921][\u001b[1;36mtensorcraft.mpi.distributions.multi_axis_dist\u001b[0m][\u001b[1;35mapply_permute\u001b[0m][\u001b[1;37mINFO\u001b[0m] - R5/8:\u001b[1;37mCreating cart\u001b[0m\n",
       "[2025-06-06 12:44:36,008][\u001b[1;36mtensorcraft.mpi.distributions.multi_axis_dist\u001b[0m][\u001b[1;35mapply_permute\u001b[0m][\u001b[1;37mINFO\u001b[0m] - R5/8:\u001b[1;37mExchanged needed, change in virtual submesh index: 6 != 5\u001b[0m\n",
       "[2025-06-06 12:44:36,009][\u001b[1;36mtensorcraft.mpi.distributions.multi_axis_dist\u001b[0m][\u001b[1;35mapply_permute\u001b[0m][\u001b[1;32mDEBUG\u001b[0m] - R5/8:\u001b[1;32mCurrent real idx and mindx: 5, [1, 0, 1]\u001b[0m\n",
       "[2025-06-06 12:44:36,012][\u001b[1;36mtensorcraft.mpi.distributions.multi_axis_dist\u001b[0m][\u001b[1;35mapply_permute\u001b[0m][\u001b[1;32mDEBUG\u001b[0m] - R5/8:\u001b[1;32mIdx order: tensor([0, 2, 1])\u001b[0m\n",
       "[2025-06-06 12:44:36,015][\u001b[1;36mtensorcraft.mpi.distributions.multi_axis_dist\u001b[0m][\u001b[1;35mapply_permute\u001b[0m][\u001b[1;32mDEBUG\u001b[0m] - R5/8:\u001b[1;32mSub mesh dims: tensor([2, 2, 2])\u001b[0m\n",
       "[2025-06-06 12:44:36,017][\u001b[1;36mtensorcraft.mpi.distributions.multi_axis_dist\u001b[0m][\u001b[1;35mapply_permute\u001b[0m][\u001b[1;32mDEBUG\u001b[0m] - R5/8:\u001b[1;32mTarget_v_midx torch.Size([1, 0, 1])\u001b[0m\n",
       "[2025-06-06 12:44:36,018][\u001b[1;36mtensorcraft.mpi.distributions.multi_axis_dist\u001b[0m][\u001b[1;35mapply_permute\u001b[0m][\u001b[1;32mDEBUG\u001b[0m] - R5/8:\u001b[1;32mTarget_r_midx tensor([1, 1, 0])\u001b[0m\n",
       "[2025-06-06 12:44:36,020][\u001b[1;36mtensorcraft.mpi.distributions.multi_axis_dist\u001b[0m][\u001b[1;35mapply_permute\u001b[0m][\u001b[1;32mDEBUG\u001b[0m] - R5/8:\u001b[1;32mTarget real smi: 6\u001b[0m\n",
       "[2025-06-06 12:44:36,023][\u001b[1;36mtensorcraft.mpi.mpi_utils\u001b[0m][\u001b[1;35mtensor2mpiBuffer\u001b[0m][\u001b[1;32mDEBUG\u001b[0m] - R5/8:\u001b[1;32mtensor_stride: (76, 16, 1)\u001b[0m\n",
       "[2025-06-06 12:44:36,023][\u001b[1;36mtensorcraft.mpi.mpi_utils\u001b[0m][\u001b[1;35mtensor2mpiBuffer\u001b[0m][\u001b[1;32mDEBUG\u001b[0m] - R5/8:\u001b[1;32mtensor_offset: 12\u001b[0m\n",
       "[2025-06-06 12:44:36,024][\u001b[1;36mtensorcraft.mpi.mpi_utils\u001b[0m][\u001b[1;35mtensor2mpiBuffer\u001b[0m][\u001b[1;32mDEBUG\u001b[0m] - R5/8:\u001b[1;32mtensor_shape: torch.Size([2, 4, 2])\u001b[0m\n",
       "[2025-06-06 12:44:36,025][\u001b[1;36mtensorcraft.mpi.mpi_utils\u001b[0m][\u001b[1;35mtensor2mpiBuffer\u001b[0m][\u001b[1;32mDEBUG\u001b[0m] - R5/8:\u001b[1;32mtensor_dtype: torch.int64\u001b[0m\n",
       "[2025-06-06 12:44:36,027][\u001b[1;36mtensorcraft.mpi.distributions.multi_axis_dist\u001b[0m][\u001b[1;35mapply_permute\u001b[0m][\u001b[1;32mDEBUG\u001b[0m] - R5/8:\u001b[1;32m5/5/8 - Different shape, a memory shame to rank 6\u001b[0m\n",
       "[2025-06-06 12:44:36,029][\u001b[1;36mtensorcraft.mpi.distributions.multi_axis_dist\u001b[0m][\u001b[1;35mapply_permute\u001b[0m][\u001b[1;32mDEBUG\u001b[0m] - R5/8:\u001b[1;32mtensor([[[ 12,  13],\n",
       "         [ 28,  29],\n",
       "         [ 44,  45],\n",
       "         [ 60,  61]],\n",
       "\n",
       "        [[ 86,  87],\n",
       "         [102, 103],\n",
       "         [118, 119],\n",
       "         [134, 135]]])\u001b[0m\n",
       "[2025-06-06 12:44:36,032][\u001b[1;36mtensorcraft.mpi.mpi_utils\u001b[0m][\u001b[1;35mtensor2mpiBuffer\u001b[0m][\u001b[1;32mDEBUG\u001b[0m] - R5/8:\u001b[1;32mtensor_stride: (8, 2, 1)\u001b[0m\n",
       "[2025-06-06 12:44:36,032][\u001b[1;36mtensorcraft.mpi.mpi_utils\u001b[0m][\u001b[1;35mtensor2mpiBuffer\u001b[0m][\u001b[1;32mDEBUG\u001b[0m] - R5/8:\u001b[1;32mtensor_offset: 0\u001b[0m\n",
       "[2025-06-06 12:44:36,033][\u001b[1;36mtensorcraft.mpi.mpi_utils\u001b[0m][\u001b[1;35mtensor2mpiBuffer\u001b[0m][\u001b[1;32mDEBUG\u001b[0m] - R5/8:\u001b[1;32mtensor_shape: torch.Size([2, 4, 2])\u001b[0m\n",
       "[2025-06-06 12:44:36,035][\u001b[1;36mtensorcraft.mpi.mpi_utils\u001b[0m][\u001b[1;35mtensor2mpiBuffer\u001b[0m][\u001b[1;32mDEBUG\u001b[0m] - R5/8:\u001b[1;32mtensor_dtype: torch.int64\u001b[0m\n",
       "[2025-06-06 12:44:36,037][\u001b[1;36mtensorcraft.mpi.mpi_utils\u001b[0m][\u001b[1;35mtensor2mpiBuffer\u001b[0m][\u001b[1;32mDEBUG\u001b[0m] - R5/8:\u001b[1;32mBest case scenario, it is contiguous!\u001b[0m\n",
       "[2025-06-06 12:44:36,218][\u001b[1;36mtensorcraft.mpi.distributions.multi_axis_dist\u001b[0m][\u001b[1;35mapply_permute\u001b[0m][\u001b[1;32mDEBUG\u001b[0m] - R5/8:\u001b[1;32mtensor([[[ 10,  11],\n",
       "         [ 26,  27],\n",
       "         [ 42,  43],\n",
       "         [ 58,  59]],\n",
       "\n",
       "        [[ 84,  85],\n",
       "         [100, 101],\n",
       "         [116, 117],\n",
       "         [132, 133]]])\u001b[0m\n",
       "[2025-06-06 12:44:36,224][\u001b[1;36mtensorcraft.mpi.distributions.multi_axis_dist\u001b[0m][\u001b[1;35mapply_permute\u001b[0m][\u001b[1;32mDEBUG\u001b[0m] - R5/8:\u001b[1;32m5/8 - Barrier wait\u001b[0m\n",
       "[2025-06-06 12:44:36,256][\u001b[1;36mtensorcraft.mpi.distributions.multi_axis_dist\u001b[0m][\u001b[1;35mapply_permute\u001b[0m][\u001b[1;32mDEBUG\u001b[0m] - R5/8:\u001b[1;32m5/8 - Barrier escape\u001b[0m\n"
      ]
     },
     "metadata": {},
     "output_type": "display_data"
    },
    {
     "data": {
      "text/plain": [
       "[stdout:4] [2025-06-06 12:44:35,926][\u001b[1;36mtensorcraft.mpi.distributions.multi_axis_dist\u001b[0m][\u001b[1;35mapply_permute\u001b[0m][\u001b[1;32mDEBUG\u001b[0m] - R4/8:\u001b[1;32mtensor([[[  8,   9],\n",
       "         [ 24,  25],\n",
       "         [ 40,  41],\n",
       "         [ 56,  57],\n",
       "         [ 72,  73]],\n",
       "\n",
       "        [[ 82,  83],\n",
       "         [ 98,  99],\n",
       "         [114, 115],\n",
       "         [130, 131],\n",
       "         [146, 147]]])\u001b[0m\n",
       "[2025-06-06 12:44:35,937][\u001b[1;36mtensorcraft.mpi.distributions.multi_axis_dist\u001b[0m][\u001b[1;35mapply_permute\u001b[0m][\u001b[1;37mINFO\u001b[0m] - R4/8:\u001b[1;37mCreating cart\u001b[0m\n",
       "[2025-06-06 12:44:36,006][\u001b[1;36mtensorcraft.mpi.distributions.multi_axis_dist\u001b[0m][\u001b[1;35mapply_permute\u001b[0m][\u001b[1;32mDEBUG\u001b[0m] - R4/8:\u001b[1;32m4/8 - Barrier wait\u001b[0m\n",
       "[2025-06-06 12:44:36,242][\u001b[1;36mtensorcraft.mpi.distributions.multi_axis_dist\u001b[0m][\u001b[1;35mapply_permute\u001b[0m][\u001b[1;32mDEBUG\u001b[0m] - R4/8:\u001b[1;32m4/8 - Barrier escape\u001b[0m\n"
      ]
     },
     "metadata": {},
     "output_type": "display_data"
    },
    {
     "data": {
      "text/plain": [
       "[stdout:3] [2025-06-06 12:44:35,921][\u001b[1;36mtensorcraft.mpi.distributions.multi_axis_dist\u001b[0m][\u001b[1;35mapply_permute\u001b[0m][\u001b[1;32mDEBUG\u001b[0m] - R3/8:\u001b[1;32mtensor([[[  6,   7],\n",
       "         [ 22,  23],\n",
       "         [ 38,  39],\n",
       "         [ 54,  55],\n",
       "         [ 70,  71]],\n",
       "\n",
       "        [[ 80,  81],\n",
       "         [ 96,  97],\n",
       "         [112, 113],\n",
       "         [128, 129],\n",
       "         [144, 145]]])\u001b[0m\n",
       "[2025-06-06 12:44:35,960][\u001b[1;36mtensorcraft.mpi.distributions.multi_axis_dist\u001b[0m][\u001b[1;35mapply_permute\u001b[0m][\u001b[1;37mINFO\u001b[0m] - R3/8:\u001b[1;37mCreating cart\u001b[0m\n",
       "[2025-06-06 12:44:36,007][\u001b[1;36mtensorcraft.mpi.distributions.multi_axis_dist\u001b[0m][\u001b[1;35mapply_permute\u001b[0m][\u001b[1;32mDEBUG\u001b[0m] - R3/8:\u001b[1;32m3/8 - Barrier wait\u001b[0m\n",
       "[2025-06-06 12:44:36,242][\u001b[1;36mtensorcraft.mpi.distributions.multi_axis_dist\u001b[0m][\u001b[1;35mapply_permute\u001b[0m][\u001b[1;32mDEBUG\u001b[0m] - R3/8:\u001b[1;32m3/8 - Barrier escape\u001b[0m\n"
      ]
     },
     "metadata": {},
     "output_type": "display_data"
    },
    {
     "data": {
      "text/plain": [
       "[stdout:7] [2025-06-06 12:44:35,939][\u001b[1;36mtensorcraft.mpi.distributions.multi_axis_dist\u001b[0m][\u001b[1;35mapply_permute\u001b[0m][\u001b[1;32mDEBUG\u001b[0m] - R7/8:\u001b[1;32mtensor([[[ 14,  15],\n",
       "         [ 30,  31],\n",
       "         [ 46,  47],\n",
       "         [ 62,  63]],\n",
       "\n",
       "        [[ 88,  89],\n",
       "         [104, 105],\n",
       "         [120, 121],\n",
       "         [136, 137]]])\u001b[0m\n",
       "[2025-06-06 12:44:35,971][\u001b[1;36mtensorcraft.mpi.distributions.multi_axis_dist\u001b[0m][\u001b[1;35mapply_permute\u001b[0m][\u001b[1;37mINFO\u001b[0m] - R7/8:\u001b[1;37mCreating cart\u001b[0m\n",
       "[2025-06-06 12:44:36,008][\u001b[1;36mtensorcraft.mpi.distributions.multi_axis_dist\u001b[0m][\u001b[1;35mapply_permute\u001b[0m][\u001b[1;32mDEBUG\u001b[0m] - R7/8:\u001b[1;32m7/8 - Barrier wait\u001b[0m\n",
       "[2025-06-06 12:44:36,242][\u001b[1;36mtensorcraft.mpi.distributions.multi_axis_dist\u001b[0m][\u001b[1;35mapply_permute\u001b[0m][\u001b[1;32mDEBUG\u001b[0m] - R7/8:\u001b[1;32m7/8 - Barrier escape\u001b[0m\n"
      ]
     },
     "metadata": {},
     "output_type": "display_data"
    },
    {
     "data": {
      "text/plain": [
       "[stdout:6] [2025-06-06 12:44:35,962][\u001b[1;36mtensorcraft.mpi.distributions.multi_axis_dist\u001b[0m][\u001b[1;35mapply_permute\u001b[0m][\u001b[1;32mDEBUG\u001b[0m] - R6/8:\u001b[1;32mtensor([[[ 10,  11],\n",
       "         [ 26,  27],\n",
       "         [ 42,  43],\n",
       "         [ 58,  59]],\n",
       "\n",
       "        [[ 84,  85],\n",
       "         [100, 101],\n",
       "         [116, 117],\n",
       "         [132, 133]]])\u001b[0m\n",
       "[2025-06-06 12:44:35,980][\u001b[1;36mtensorcraft.mpi.distributions.multi_axis_dist\u001b[0m][\u001b[1;35mapply_permute\u001b[0m][\u001b[1;37mINFO\u001b[0m] - R6/8:\u001b[1;37mCreating cart\u001b[0m\n",
       "[2025-06-06 12:44:36,006][\u001b[1;36mtensorcraft.mpi.distributions.multi_axis_dist\u001b[0m][\u001b[1;35mapply_permute\u001b[0m][\u001b[1;37mINFO\u001b[0m] - R6/8:\u001b[1;37mExchanged needed, change in virtual submesh index: 5 != 6\u001b[0m\n",
       "[2025-06-06 12:44:36,020][\u001b[1;36mtensorcraft.mpi.distributions.multi_axis_dist\u001b[0m][\u001b[1;35mapply_permute\u001b[0m][\u001b[1;32mDEBUG\u001b[0m] - R6/8:\u001b[1;32mCurrent real idx and mindx: 6, [1, 1, 0]\u001b[0m\n",
       "[2025-06-06 12:44:36,041][\u001b[1;36mtensorcraft.mpi.distributions.multi_axis_dist\u001b[0m][\u001b[1;35mapply_permute\u001b[0m][\u001b[1;32mDEBUG\u001b[0m] - R6/8:\u001b[1;32mIdx order: tensor([0, 2, 1])\u001b[0m\n",
       "[2025-06-06 12:44:36,055][\u001b[1;36mtensorcraft.mpi.distributions.multi_axis_dist\u001b[0m][\u001b[1;35mapply_permute\u001b[0m][\u001b[1;32mDEBUG\u001b[0m] - R6/8:\u001b[1;32mSub mesh dims: tensor([2, 2, 2])\u001b[0m\n",
       "[2025-06-06 12:44:36,058][\u001b[1;36mtensorcraft.mpi.distributions.multi_axis_dist\u001b[0m][\u001b[1;35mapply_permute\u001b[0m][\u001b[1;32mDEBUG\u001b[0m] - R6/8:\u001b[1;32mTarget_v_midx torch.Size([1, 1, 0])\u001b[0m\n",
       "[2025-06-06 12:44:36,082][\u001b[1;36mtensorcraft.mpi.distributions.multi_axis_dist\u001b[0m][\u001b[1;35mapply_permute\u001b[0m][\u001b[1;32mDEBUG\u001b[0m] - R6/8:\u001b[1;32mTarget_r_midx tensor([1, 0, 1])\u001b[0m\n",
       "[2025-06-06 12:44:36,109][\u001b[1;36mtensorcraft.mpi.distributions.multi_axis_dist\u001b[0m][\u001b[1;35mapply_permute\u001b[0m][\u001b[1;32mDEBUG\u001b[0m] - R6/8:\u001b[1;32mTarget real smi: 5\u001b[0m\n",
       "[2025-06-06 12:44:36,152][\u001b[1;36mtensorcraft.mpi.mpi_utils\u001b[0m][\u001b[1;35mtensor2mpiBuffer\u001b[0m][\u001b[1;32mDEBUG\u001b[0m] - R6/8:\u001b[1;32mtensor_stride: (76, 16, 1)\u001b[0m\n",
       "[2025-06-06 12:44:36,156][\u001b[1;36mtensorcraft.mpi.mpi_utils\u001b[0m][\u001b[1;35mtensor2mpiBuffer\u001b[0m][\u001b[1;32mDEBUG\u001b[0m] - R6/8:\u001b[1;32mtensor_offset: 10\u001b[0m\n",
       "[2025-06-06 12:44:36,159][\u001b[1;36mtensorcraft.mpi.mpi_utils\u001b[0m][\u001b[1;35mtensor2mpiBuffer\u001b[0m][\u001b[1;32mDEBUG\u001b[0m] - R6/8:\u001b[1;32mtensor_shape: torch.Size([2, 4, 2])\u001b[0m\n",
       "[2025-06-06 12:44:36,174][\u001b[1;36mtensorcraft.mpi.mpi_utils\u001b[0m][\u001b[1;35mtensor2mpiBuffer\u001b[0m][\u001b[1;32mDEBUG\u001b[0m] - R6/8:\u001b[1;32mtensor_dtype: torch.int64\u001b[0m\n",
       "[2025-06-06 12:44:36,182][\u001b[1;36mtensorcraft.mpi.distributions.multi_axis_dist\u001b[0m][\u001b[1;35mapply_permute\u001b[0m][\u001b[1;32mDEBUG\u001b[0m] - R6/8:\u001b[1;32m6/6/8 - Different shape, a memory shame to rank 5\u001b[0m\n",
       "[2025-06-06 12:44:36,187][\u001b[1;36mtensorcraft.mpi.distributions.multi_axis_dist\u001b[0m][\u001b[1;35mapply_permute\u001b[0m][\u001b[1;32mDEBUG\u001b[0m] - R6/8:\u001b[1;32mtensor([[[ 10,  11],\n",
       "         [ 26,  27],\n",
       "         [ 42,  43],\n",
       "         [ 58,  59]],\n",
       "\n",
       "        [[ 84,  85],\n",
       "         [100, 101],\n",
       "         [116, 117],\n",
       "         [132, 133]]])\u001b[0m\n",
       "[2025-06-06 12:44:36,195][\u001b[1;36mtensorcraft.mpi.mpi_utils\u001b[0m][\u001b[1;35mtensor2mpiBuffer\u001b[0m][\u001b[1;32mDEBUG\u001b[0m] - R6/8:\u001b[1;32mtensor_stride: (8, 2, 1)\u001b[0m\n",
       "[2025-06-06 12:44:36,198][\u001b[1;36mtensorcraft.mpi.mpi_utils\u001b[0m][\u001b[1;35mtensor2mpiBuffer\u001b[0m][\u001b[1;32mDEBUG\u001b[0m] - R6/8:\u001b[1;32mtensor_offset: 0\u001b[0m\n",
       "[2025-06-06 12:44:36,202][\u001b[1;36mtensorcraft.mpi.mpi_utils\u001b[0m][\u001b[1;35mtensor2mpiBuffer\u001b[0m][\u001b[1;32mDEBUG\u001b[0m] - R6/8:\u001b[1;32mtensor_shape: torch.Size([2, 4, 2])\u001b[0m\n",
       "[2025-06-06 12:44:36,214][\u001b[1;36mtensorcraft.mpi.mpi_utils\u001b[0m][\u001b[1;35mtensor2mpiBuffer\u001b[0m][\u001b[1;32mDEBUG\u001b[0m] - R6/8:\u001b[1;32mtensor_dtype: torch.int64\u001b[0m\n",
       "[2025-06-06 12:44:36,215][\u001b[1;36mtensorcraft.mpi.mpi_utils\u001b[0m][\u001b[1;35mtensor2mpiBuffer\u001b[0m][\u001b[1;32mDEBUG\u001b[0m] - R6/8:\u001b[1;32mBest case scenario, it is contiguous!\u001b[0m\n",
       "[2025-06-06 12:44:36,217][\u001b[1;36mtensorcraft.mpi.distributions.multi_axis_dist\u001b[0m][\u001b[1;35mapply_permute\u001b[0m][\u001b[1;32mDEBUG\u001b[0m] - R6/8:\u001b[1;32mtensor([[[ 12,  13],\n",
       "         [ 28,  29],\n",
       "         [ 44,  45],\n",
       "         [ 60,  61]],\n",
       "\n",
       "        [[ 86,  87],\n",
       "         [102, 103],\n",
       "         [118, 119],\n",
       "         [134, 135]]])\u001b[0m\n",
       "[2025-06-06 12:44:36,236][\u001b[1;36mtensorcraft.mpi.distributions.multi_axis_dist\u001b[0m][\u001b[1;35mapply_permute\u001b[0m][\u001b[1;32mDEBUG\u001b[0m] - R6/8:\u001b[1;32m6/8 - Barrier wait\u001b[0m\n",
       "[2025-06-06 12:44:36,242][\u001b[1;36mtensorcraft.mpi.distributions.multi_axis_dist\u001b[0m][\u001b[1;35mapply_permute\u001b[0m][\u001b[1;32mDEBUG\u001b[0m] - R6/8:\u001b[1;32m6/8 - Barrier escape\u001b[0m\n"
      ]
     },
     "metadata": {},
     "output_type": "display_data"
    },
    {
     "data": {
      "text/plain": [
       "\u001b[0;31mOut[0:11]: \u001b[0m\n",
       "tensor([[[  0,   1],\n",
       "         [ 16,  17],\n",
       "         [ 32,  33],\n",
       "         [ 48,  49],\n",
       "         [ 64,  65]],\n",
       "\n",
       "        [[ 74,  75],\n",
       "         [ 90,  91],\n",
       "         [106, 107],\n",
       "         [122, 123],\n",
       "         [138, 139]]])"
      ]
     },
     "metadata": {
      "after": [],
      "completed": "2025-06-06T10:44:36.251575Z",
      "data": {},
      "engine_id": 0,
      "engine_uuid": "cf0de197-d78702962b11bebb1a581e42",
      "error": null,
      "execute_input": "new_dist, new_local = dist.apply_permute(x.shape, x_local, comm, mesh_dims=[1,2])\nnew_local\n",
      "execute_result": {
       "data": {
        "text/plain": "tensor([[[  0,   1],\n         [ 16,  17],\n         [ 32,  33],\n         [ 48,  49],\n         [ 64,  65]],\n\n        [[ 74,  75],\n         [ 90,  91],\n         [106, 107],\n         [122, 123],\n         [138, 139]]])"
       },
       "execution_count": 11,
       "metadata": {}
      },
      "follow": [],
      "is_broadcast": false,
      "is_coalescing": false,
      "msg_id": "11040ad5-31fc78109183db914f7861ca_65262_81",
      "outputs": [],
      "received": "2025-06-06T10:44:36.267209Z",
      "started": "2025-06-06T10:44:35.909799Z",
      "status": "ok",
      "stderr": "",
      "stdout": "[2025-06-06 12:44:35,912][\u001b[1;36mtensorcraft.mpi.distributions.multi_axis_dist\u001b[0m][\u001b[1;35mapply_permute\u001b[0m][\u001b[1;32mDEBUG\u001b[0m] - R0/8:\u001b[1;32mtensor([[[  0,   1],\n         [ 16,  17],\n         [ 32,  33],\n         [ 48,  49],\n         [ 64,  65]],\n\n        [[ 74,  75],\n         [ 90,  91],\n         [106, 107],\n         [122, 123],\n         [138, 139]]])\u001b[0m\n[2025-06-06 12:44:35,917][\u001b[1;36mtensorcraft.mpi.distributions.multi_axis_dist\u001b[0m][\u001b[1;35mapply_permute\u001b[0m][\u001b[1;37mINFO\u001b[0m] - R0/8:\u001b[1;37mCreating cart\u001b[0m\n[2025-06-06 12:44:36,006][\u001b[1;36mtensorcraft.mpi.distributions.multi_axis_dist\u001b[0m][\u001b[1;35mapply_permute\u001b[0m][\u001b[1;32mDEBUG\u001b[0m] - R0/8:\u001b[1;32m0/8 - Barrier wait\u001b[0m\n[2025-06-06 12:44:36,242][\u001b[1;36mtensorcraft.mpi.distributions.multi_axis_dist\u001b[0m][\u001b[1;35mapply_permute\u001b[0m][\u001b[1;32mDEBUG\u001b[0m] - R0/8:\u001b[1;32m0/8 - Barrier escape\u001b[0m\n",
      "submitted": "2025-06-06T10:44:35.906186Z"
     },
     "output_type": "display_data"
    },
    {
     "data": {
      "text/plain": [
       "\u001b[0;31mOut[2:11]: \u001b[0m\n",
       "tensor([[[  4,   5],\n",
       "         [ 20,  21],\n",
       "         [ 36,  37],\n",
       "         [ 52,  53],\n",
       "         [ 68,  69]],\n",
       "\n",
       "        [[ 78,  79],\n",
       "         [ 94,  95],\n",
       "         [110, 111],\n",
       "         [126, 127],\n",
       "         [142, 143]]])"
      ]
     },
     "metadata": {
      "after": [],
      "completed": "2025-06-06T10:44:36.260314Z",
      "data": {},
      "engine_id": 2,
      "engine_uuid": "1a208445-40119a9cc59eb8f38352114b",
      "error": null,
      "execute_input": "new_dist, new_local = dist.apply_permute(x.shape, x_local, comm, mesh_dims=[1,2])\nnew_local\n",
      "execute_result": {
       "data": {
        "text/plain": "tensor([[[  4,   5],\n         [ 20,  21],\n         [ 36,  37],\n         [ 52,  53],\n         [ 68,  69]],\n\n        [[ 78,  79],\n         [ 94,  95],\n         [110, 111],\n         [126, 127],\n         [142, 143]]])"
       },
       "execution_count": 11,
       "metadata": {}
      },
      "follow": [],
      "is_broadcast": false,
      "is_coalescing": false,
      "msg_id": "11040ad5-31fc78109183db914f7861ca_65262_83",
      "outputs": [],
      "received": "2025-06-06T10:44:36.280898Z",
      "started": "2025-06-06T10:44:35.912945Z",
      "status": "ok",
      "stderr": "",
      "stdout": "[2025-06-06 12:44:35,917][\u001b[1;36mtensorcraft.mpi.distributions.multi_axis_dist\u001b[0m][\u001b[1;35mapply_permute\u001b[0m][\u001b[1;32mDEBUG\u001b[0m] - R2/8:\u001b[1;32mtensor([[[  2,   3],\n         [ 18,  19],\n         [ 34,  35],\n         [ 50,  51],\n         [ 66,  67]],\n\n        [[ 76,  77],\n         [ 92,  93],\n         [108, 109],\n         [124, 125],\n         [140, 141]]])\u001b[0m\n[2025-06-06 12:44:35,919][\u001b[1;36mtensorcraft.mpi.distributions.multi_axis_dist\u001b[0m][\u001b[1;35mapply_permute\u001b[0m][\u001b[1;37mINFO\u001b[0m] - R2/8:\u001b[1;37mCreating cart\u001b[0m\n[2025-06-06 12:44:36,006][\u001b[1;36mtensorcraft.mpi.distributions.multi_axis_dist\u001b[0m][\u001b[1;35mapply_permute\u001b[0m][\u001b[1;37mINFO\u001b[0m] - R2/8:\u001b[1;37mExchanged needed, change in virtual submesh index: 1 != 2\u001b[0m\n[2025-06-06 12:44:36,007][\u001b[1;36mtensorcraft.mpi.distributions.multi_axis_dist\u001b[0m][\u001b[1;35mapply_permute\u001b[0m][\u001b[1;32mDEBUG\u001b[0m] - R2/8:\u001b[1;32mCurrent real idx and mindx: 2, [0, 1, 0]\u001b[0m\n[2025-06-06 12:44:36,008][\u001b[1;36mtensorcraft.mpi.distributions.multi_axis_dist\u001b[0m][\u001b[1;35mapply_permute\u001b[0m][\u001b[1;32mDEBUG\u001b[0m] - R2/8:\u001b[1;32mIdx order: tensor([0, 2, 1])\u001b[0m\n[2025-06-06 12:44:36,012][\u001b[1;36mtensorcraft.mpi.distributions.multi_axis_dist\u001b[0m][\u001b[1;35mapply_permute\u001b[0m][\u001b[1;32mDEBUG\u001b[0m] - R2/8:\u001b[1;32mSub mesh dims: tensor([2, 2, 2])\u001b[0m\n[2025-06-06 12:44:36,016][\u001b[1;36mtensorcraft.mpi.distributions.multi_axis_dist\u001b[0m][\u001b[1;35mapply_permute\u001b[0m][\u001b[1;32mDEBUG\u001b[0m] - R2/8:\u001b[1;32mTarget_v_midx torch.Size([0, 1, 0])\u001b[0m\n[2025-06-06 12:44:36,018][\u001b[1;36mtensorcraft.mpi.distributions.multi_axis_dist\u001b[0m][\u001b[1;35mapply_permute\u001b[0m][\u001b[1;32mDEBUG\u001b[0m] - R2/8:\u001b[1;32mTarget_r_midx tensor([0, 0, 1])\u001b[0m\n[2025-06-06 12:44:36,019][\u001b[1;36mtensorcraft.mpi.distributions.multi_axis_dist\u001b[0m][\u001b[1;35mapply_permute\u001b[0m][\u001b[1;32mDEBUG\u001b[0m] - R2/8:\u001b[1;32mTarget real smi: 1\u001b[0m\n[2025-06-06 12:44:36,020][\u001b[1;36mtensorcraft.mpi.mpi_utils\u001b[0m][\u001b[1;35mtensor2mpiBuffer\u001b[0m][\u001b[1;32mDEBUG\u001b[0m] - R2/8:\u001b[1;32mtensor_stride: (76, 16, 1)\u001b[0m\n[2025-06-06 12:44:36,021][\u001b[1;36mtensorcraft.mpi.mpi_utils\u001b[0m][\u001b[1;35mtensor2mpiBuffer\u001b[0m][\u001b[1;32mDEBUG\u001b[0m] - R2/8:\u001b[1;32mtensor_offset: 2\u001b[0m\n[2025-06-06 12:44:36,022][\u001b[1;36mtensorcraft.mpi.mpi_utils\u001b[0m][\u001b[1;35mtensor2mpiBuffer\u001b[0m][\u001b[1;32mDEBUG\u001b[0m] - R2/8:\u001b[1;32mtensor_shape: torch.Size([2, 5, 2])\u001b[0m\n[2025-06-06 12:44:36,022][\u001b[1;36mtensorcraft.mpi.mpi_utils\u001b[0m][\u001b[1;35mtensor2mpiBuffer\u001b[0m][\u001b[1;32mDEBUG\u001b[0m] - R2/8:\u001b[1;32mtensor_dtype: torch.int64\u001b[0m\n[2025-06-06 12:44:36,023][\u001b[1;36mtensorcraft.mpi.distributions.multi_axis_dist\u001b[0m][\u001b[1;35mapply_permute\u001b[0m][\u001b[1;32mDEBUG\u001b[0m] - R2/8:\u001b[1;32m2/2/8 - Different shape, a memory shame to rank 1\u001b[0m\n[2025-06-06 12:44:36,024][\u001b[1;36mtensorcraft.mpi.distributions.multi_axis_dist\u001b[0m][\u001b[1;35mapply_permute\u001b[0m][\u001b[1;32mDEBUG\u001b[0m] - R2/8:\u001b[1;32mtensor([[[  2,   3],\n         [ 18,  19],\n         [ 34,  35],\n         [ 50,  51],\n         [ 66,  67]],\n\n        [[ 76,  77],\n         [ 92,  93],\n         [108, 109],\n         [124, 125],\n         [140, 141]]])\u001b[0m\n[2025-06-06 12:44:36,025][\u001b[1;36mtensorcraft.mpi.mpi_utils\u001b[0m][\u001b[1;35mtensor2mpiBuffer\u001b[0m][\u001b[1;32mDEBUG\u001b[0m] - R2/8:\u001b[1;32mtensor_stride: (10, 2, 1)\u001b[0m\n[2025-06-06 12:44:36,026][\u001b[1;36mtensorcraft.mpi.mpi_utils\u001b[0m][\u001b[1;35mtensor2mpiBuffer\u001b[0m][\u001b[1;32mDEBUG\u001b[0m] - R2/8:\u001b[1;32mtensor_offset: 0\u001b[0m\n[2025-06-06 12:44:36,027][\u001b[1;36mtensorcraft.mpi.mpi_utils\u001b[0m][\u001b[1;35mtensor2mpiBuffer\u001b[0m][\u001b[1;32mDEBUG\u001b[0m] - R2/8:\u001b[1;32mtensor_shape: torch.Size([2, 5, 2])\u001b[0m\n[2025-06-06 12:44:36,028][\u001b[1;36mtensorcraft.mpi.mpi_utils\u001b[0m][\u001b[1;35mtensor2mpiBuffer\u001b[0m][\u001b[1;32mDEBUG\u001b[0m] - R2/8:\u001b[1;32mtensor_dtype: torch.int64\u001b[0m\n[2025-06-06 12:44:36,028][\u001b[1;36mtensorcraft.mpi.mpi_utils\u001b[0m][\u001b[1;35mtensor2mpiBuffer\u001b[0m][\u001b[1;32mDEBUG\u001b[0m] - R2/8:\u001b[1;32mBest case scenario, it is contiguous!\u001b[0m\n[2025-06-06 12:44:36,035][\u001b[1;36mtensorcraft.mpi.distributions.multi_axis_dist\u001b[0m][\u001b[1;35mapply_permute\u001b[0m][\u001b[1;32mDEBUG\u001b[0m] - R2/8:\u001b[1;32mtensor([[[  4,   5],\n         [ 20,  21],\n         [ 36,  37],\n         [ 52,  53],\n         [ 68,  69]],\n\n        [[ 78,  79],\n         [ 94,  95],\n         [110, 111],\n         [126, 127],\n         [142, 143]]])\u001b[0m\n[2025-06-06 12:44:36,038][\u001b[1;36mtensorcraft.mpi.distributions.multi_axis_dist\u001b[0m][\u001b[1;35mapply_permute\u001b[0m][\u001b[1;32mDEBUG\u001b[0m] - R2/8:\u001b[1;32m2/8 - Barrier wait\u001b[0m\n[2025-06-06 12:44:36,242][\u001b[1;36mtensorcraft.mpi.distributions.multi_axis_dist\u001b[0m][\u001b[1;35mapply_permute\u001b[0m][\u001b[1;32mDEBUG\u001b[0m] - R2/8:\u001b[1;32m2/8 - Barrier escape\u001b[0m\n",
      "submitted": "2025-06-06T10:44:35.907707Z"
     },
     "output_type": "display_data"
    },
    {
     "data": {
      "text/plain": [
       "\u001b[0;31mOut[6:11]: \u001b[0m\n",
       "tensor([[[ 12,  13],\n",
       "         [ 28,  29],\n",
       "         [ 44,  45],\n",
       "         [ 60,  61]],\n",
       "\n",
       "        [[ 86,  87],\n",
       "         [102, 103],\n",
       "         [118, 119],\n",
       "         [134, 135]]])"
      ]
     },
     "metadata": {
      "after": [],
      "completed": "2025-06-06T10:44:36.279788Z",
      "data": {},
      "engine_id": 6,
      "engine_uuid": "1e62f921-75f0b9b0731aee3a9d329649",
      "error": null,
      "execute_input": "new_dist, new_local = dist.apply_permute(x.shape, x_local, comm, mesh_dims=[1,2])\nnew_local\n",
      "execute_result": {
       "data": {
        "text/plain": "tensor([[[ 12,  13],\n         [ 28,  29],\n         [ 44,  45],\n         [ 60,  61]],\n\n        [[ 86,  87],\n         [102, 103],\n         [118, 119],\n         [134, 135]]])"
       },
       "execution_count": 11,
       "metadata": {}
      },
      "follow": [],
      "is_broadcast": false,
      "is_coalescing": false,
      "msg_id": "11040ad5-31fc78109183db914f7861ca_65262_87",
      "outputs": [],
      "received": "2025-06-06T10:44:36.306763Z",
      "started": "2025-06-06T10:44:35.924970Z",
      "status": "ok",
      "stderr": "",
      "stdout": "[2025-06-06 12:44:35,962][\u001b[1;36mtensorcraft.mpi.distributions.multi_axis_dist\u001b[0m][\u001b[1;35mapply_permute\u001b[0m][\u001b[1;32mDEBUG\u001b[0m] - R6/8:\u001b[1;32mtensor([[[ 10,  11],\n         [ 26,  27],\n         [ 42,  43],\n         [ 58,  59]],\n\n        [[ 84,  85],\n         [100, 101],\n         [116, 117],\n         [132, 133]]])\u001b[0m\n[2025-06-06 12:44:35,980][\u001b[1;36mtensorcraft.mpi.distributions.multi_axis_dist\u001b[0m][\u001b[1;35mapply_permute\u001b[0m][\u001b[1;37mINFO\u001b[0m] - R6/8:\u001b[1;37mCreating cart\u001b[0m\n[2025-06-06 12:44:36,006][\u001b[1;36mtensorcraft.mpi.distributions.multi_axis_dist\u001b[0m][\u001b[1;35mapply_permute\u001b[0m][\u001b[1;37mINFO\u001b[0m] - R6/8:\u001b[1;37mExchanged needed, change in virtual submesh index: 5 != 6\u001b[0m\n[2025-06-06 12:44:36,020][\u001b[1;36mtensorcraft.mpi.distributions.multi_axis_dist\u001b[0m][\u001b[1;35mapply_permute\u001b[0m][\u001b[1;32mDEBUG\u001b[0m] - R6/8:\u001b[1;32mCurrent real idx and mindx: 6, [1, 1, 0]\u001b[0m\n[2025-06-06 12:44:36,041][\u001b[1;36mtensorcraft.mpi.distributions.multi_axis_dist\u001b[0m][\u001b[1;35mapply_permute\u001b[0m][\u001b[1;32mDEBUG\u001b[0m] - R6/8:\u001b[1;32mIdx order: tensor([0, 2, 1])\u001b[0m\n[2025-06-06 12:44:36,055][\u001b[1;36mtensorcraft.mpi.distributions.multi_axis_dist\u001b[0m][\u001b[1;35mapply_permute\u001b[0m][\u001b[1;32mDEBUG\u001b[0m] - R6/8:\u001b[1;32mSub mesh dims: tensor([2, 2, 2])\u001b[0m\n[2025-06-06 12:44:36,058][\u001b[1;36mtensorcraft.mpi.distributions.multi_axis_dist\u001b[0m][\u001b[1;35mapply_permute\u001b[0m][\u001b[1;32mDEBUG\u001b[0m] - R6/8:\u001b[1;32mTarget_v_midx torch.Size([1, 1, 0])\u001b[0m\n[2025-06-06 12:44:36,082][\u001b[1;36mtensorcraft.mpi.distributions.multi_axis_dist\u001b[0m][\u001b[1;35mapply_permute\u001b[0m][\u001b[1;32mDEBUG\u001b[0m] - R6/8:\u001b[1;32mTarget_r_midx tensor([1, 0, 1])\u001b[0m\n[2025-06-06 12:44:36,109][\u001b[1;36mtensorcraft.mpi.distributions.multi_axis_dist\u001b[0m][\u001b[1;35mapply_permute\u001b[0m][\u001b[1;32mDEBUG\u001b[0m] - R6/8:\u001b[1;32mTarget real smi: 5\u001b[0m\n[2025-06-06 12:44:36,152][\u001b[1;36mtensorcraft.mpi.mpi_utils\u001b[0m][\u001b[1;35mtensor2mpiBuffer\u001b[0m][\u001b[1;32mDEBUG\u001b[0m] - R6/8:\u001b[1;32mtensor_stride: (76, 16, 1)\u001b[0m\n[2025-06-06 12:44:36,156][\u001b[1;36mtensorcraft.mpi.mpi_utils\u001b[0m][\u001b[1;35mtensor2mpiBuffer\u001b[0m][\u001b[1;32mDEBUG\u001b[0m] - R6/8:\u001b[1;32mtensor_offset: 10\u001b[0m\n[2025-06-06 12:44:36,159][\u001b[1;36mtensorcraft.mpi.mpi_utils\u001b[0m][\u001b[1;35mtensor2mpiBuffer\u001b[0m][\u001b[1;32mDEBUG\u001b[0m] - R6/8:\u001b[1;32mtensor_shape: torch.Size([2, 4, 2])\u001b[0m\n[2025-06-06 12:44:36,174][\u001b[1;36mtensorcraft.mpi.mpi_utils\u001b[0m][\u001b[1;35mtensor2mpiBuffer\u001b[0m][\u001b[1;32mDEBUG\u001b[0m] - R6/8:\u001b[1;32mtensor_dtype: torch.int64\u001b[0m\n[2025-06-06 12:44:36,182][\u001b[1;36mtensorcraft.mpi.distributions.multi_axis_dist\u001b[0m][\u001b[1;35mapply_permute\u001b[0m][\u001b[1;32mDEBUG\u001b[0m] - R6/8:\u001b[1;32m6/6/8 - Different shape, a memory shame to rank 5\u001b[0m\n[2025-06-06 12:44:36,187][\u001b[1;36mtensorcraft.mpi.distributions.multi_axis_dist\u001b[0m][\u001b[1;35mapply_permute\u001b[0m][\u001b[1;32mDEBUG\u001b[0m] - R6/8:\u001b[1;32mtensor([[[ 10,  11],\n         [ 26,  27],\n         [ 42,  43],\n         [ 58,  59]],\n\n        [[ 84,  85],\n         [100, 101],\n         [116, 117],\n         [132, 133]]])\u001b[0m\n[2025-06-06 12:44:36,195][\u001b[1;36mtensorcraft.mpi.mpi_utils\u001b[0m][\u001b[1;35mtensor2mpiBuffer\u001b[0m][\u001b[1;32mDEBUG\u001b[0m] - R6/8:\u001b[1;32mtensor_stride: (8, 2, 1)\u001b[0m\n[2025-06-06 12:44:36,198][\u001b[1;36mtensorcraft.mpi.mpi_utils\u001b[0m][\u001b[1;35mtensor2mpiBuffer\u001b[0m][\u001b[1;32mDEBUG\u001b[0m] - R6/8:\u001b[1;32mtensor_offset: 0\u001b[0m\n[2025-06-06 12:44:36,202][\u001b[1;36mtensorcraft.mpi.mpi_utils\u001b[0m][\u001b[1;35mtensor2mpiBuffer\u001b[0m][\u001b[1;32mDEBUG\u001b[0m] - R6/8:\u001b[1;32mtensor_shape: torch.Size([2, 4, 2])\u001b[0m\n[2025-06-06 12:44:36,214][\u001b[1;36mtensorcraft.mpi.mpi_utils\u001b[0m][\u001b[1;35mtensor2mpiBuffer\u001b[0m][\u001b[1;32mDEBUG\u001b[0m] - R6/8:\u001b[1;32mtensor_dtype: torch.int64\u001b[0m\n[2025-06-06 12:44:36,215][\u001b[1;36mtensorcraft.mpi.mpi_utils\u001b[0m][\u001b[1;35mtensor2mpiBuffer\u001b[0m][\u001b[1;32mDEBUG\u001b[0m] - R6/8:\u001b[1;32mBest case scenario, it is contiguous!\u001b[0m\n[2025-06-06 12:44:36,217][\u001b[1;36mtensorcraft.mpi.distributions.multi_axis_dist\u001b[0m][\u001b[1;35mapply_permute\u001b[0m][\u001b[1;32mDEBUG\u001b[0m] - R6/8:\u001b[1;32mtensor([[[ 12,  13],\n         [ 28,  29],\n         [ 44,  45],\n         [ 60,  61]],\n\n        [[ 86,  87],\n         [102, 103],\n         [118, 119],\n         [134, 135]]])\u001b[0m\n[2025-06-06 12:44:36,236][\u001b[1;36mtensorcraft.mpi.distributions.multi_axis_dist\u001b[0m][\u001b[1;35mapply_permute\u001b[0m][\u001b[1;32mDEBUG\u001b[0m] - R6/8:\u001b[1;32m6/8 - Barrier wait\u001b[0m\n[2025-06-06 12:44:36,242][\u001b[1;36mtensorcraft.mpi.distributions.multi_axis_dist\u001b[0m][\u001b[1;35mapply_permute\u001b[0m][\u001b[1;32mDEBUG\u001b[0m] - R6/8:\u001b[1;32m6/8 - Barrier escape\u001b[0m\n",
      "submitted": "2025-06-06T10:44:35.909865Z"
     },
     "output_type": "display_data"
    },
    {
     "data": {
      "text/plain": [
       "\u001b[0;31mOut[1:11]: \u001b[0m\n",
       "tensor([[[  2,   3],\n",
       "         [ 18,  19],\n",
       "         [ 34,  35],\n",
       "         [ 50,  51],\n",
       "         [ 66,  67]],\n",
       "\n",
       "        [[ 76,  77],\n",
       "         [ 92,  93],\n",
       "         [108, 109],\n",
       "         [124, 125],\n",
       "         [140, 141]]])"
      ]
     },
     "metadata": {
      "after": [],
      "completed": "2025-06-06T10:44:36.276375Z",
      "data": {},
      "engine_id": 1,
      "engine_uuid": "87907076-3c557fab3fff7b04ce9d861e",
      "error": null,
      "execute_input": "new_dist, new_local = dist.apply_permute(x.shape, x_local, comm, mesh_dims=[1,2])\nnew_local\n",
      "execute_result": {
       "data": {
        "text/plain": "tensor([[[  2,   3],\n         [ 18,  19],\n         [ 34,  35],\n         [ 50,  51],\n         [ 66,  67]],\n\n        [[ 76,  77],\n         [ 92,  93],\n         [108, 109],\n         [124, 125],\n         [140, 141]]])"
       },
       "execution_count": 11,
       "metadata": {}
      },
      "follow": [],
      "is_broadcast": false,
      "is_coalescing": false,
      "msg_id": "11040ad5-31fc78109183db914f7861ca_65262_82",
      "outputs": [],
      "received": "2025-06-06T10:44:36.290963Z",
      "started": "2025-06-06T10:44:35.911546Z",
      "status": "ok",
      "stderr": "",
      "stdout": "[2025-06-06 12:44:35,915][\u001b[1;36mtensorcraft.mpi.distributions.multi_axis_dist\u001b[0m][\u001b[1;35mapply_permute\u001b[0m][\u001b[1;32mDEBUG\u001b[0m] - R1/8:\u001b[1;32mtensor([[[  4,   5],\n         [ 20,  21],\n         [ 36,  37],\n         [ 52,  53],\n         [ 68,  69]],\n\n        [[ 78,  79],\n         [ 94,  95],\n         [110, 111],\n         [126, 127],\n         [142, 143]]])\u001b[0m\n[2025-06-06 12:44:35,917][\u001b[1;36mtensorcraft.mpi.distributions.multi_axis_dist\u001b[0m][\u001b[1;35mapply_permute\u001b[0m][\u001b[1;37mINFO\u001b[0m] - R1/8:\u001b[1;37mCreating cart\u001b[0m\n[2025-06-06 12:44:36,008][\u001b[1;36mtensorcraft.mpi.distributions.multi_axis_dist\u001b[0m][\u001b[1;35mapply_permute\u001b[0m][\u001b[1;37mINFO\u001b[0m] - R1/8:\u001b[1;37mExchanged needed, change in virtual submesh index: 2 != 1\u001b[0m\n[2025-06-06 12:44:36,009][\u001b[1;36mtensorcraft.mpi.distributions.multi_axis_dist\u001b[0m][\u001b[1;35mapply_permute\u001b[0m][\u001b[1;32mDEBUG\u001b[0m] - R1/8:\u001b[1;32mCurrent real idx and mindx: 1, [0, 0, 1]\u001b[0m\n[2025-06-06 12:44:36,017][\u001b[1;36mtensorcraft.mpi.distributions.multi_axis_dist\u001b[0m][\u001b[1;35mapply_permute\u001b[0m][\u001b[1;32mDEBUG\u001b[0m] - R1/8:\u001b[1;32mIdx order: tensor([0, 2, 1])\u001b[0m\n[2025-06-06 12:44:36,020][\u001b[1;36mtensorcraft.mpi.distributions.multi_axis_dist\u001b[0m][\u001b[1;35mapply_permute\u001b[0m][\u001b[1;32mDEBUG\u001b[0m] - R1/8:\u001b[1;32mSub mesh dims: tensor([2, 2, 2])\u001b[0m\n[2025-06-06 12:44:36,021][\u001b[1;36mtensorcraft.mpi.distributions.multi_axis_dist\u001b[0m][\u001b[1;35mapply_permute\u001b[0m][\u001b[1;32mDEBUG\u001b[0m] - R1/8:\u001b[1;32mTarget_v_midx torch.Size([0, 0, 1])\u001b[0m\n[2025-06-06 12:44:36,022][\u001b[1;36mtensorcraft.mpi.distributions.multi_axis_dist\u001b[0m][\u001b[1;35mapply_permute\u001b[0m][\u001b[1;32mDEBUG\u001b[0m] - R1/8:\u001b[1;32mTarget_r_midx tensor([0, 1, 0])\u001b[0m\n[2025-06-06 12:44:36,023][\u001b[1;36mtensorcraft.mpi.distributions.multi_axis_dist\u001b[0m][\u001b[1;35mapply_permute\u001b[0m][\u001b[1;32mDEBUG\u001b[0m] - R1/8:\u001b[1;32mTarget real smi: 2\u001b[0m\n[2025-06-06 12:44:36,025][\u001b[1;36mtensorcraft.mpi.mpi_utils\u001b[0m][\u001b[1;35mtensor2mpiBuffer\u001b[0m][\u001b[1;32mDEBUG\u001b[0m] - R1/8:\u001b[1;32mtensor_stride: (76, 16, 1)\u001b[0m\n[2025-06-06 12:44:36,026][\u001b[1;36mtensorcraft.mpi.mpi_utils\u001b[0m][\u001b[1;35mtensor2mpiBuffer\u001b[0m][\u001b[1;32mDEBUG\u001b[0m] - R1/8:\u001b[1;32mtensor_offset: 4\u001b[0m\n[2025-06-06 12:44:36,027][\u001b[1;36mtensorcraft.mpi.mpi_utils\u001b[0m][\u001b[1;35mtensor2mpiBuffer\u001b[0m][\u001b[1;32mDEBUG\u001b[0m] - R1/8:\u001b[1;32mtensor_shape: torch.Size([2, 5, 2])\u001b[0m\n[2025-06-06 12:44:36,028][\u001b[1;36mtensorcraft.mpi.mpi_utils\u001b[0m][\u001b[1;35mtensor2mpiBuffer\u001b[0m][\u001b[1;32mDEBUG\u001b[0m] - R1/8:\u001b[1;32mtensor_dtype: torch.int64\u001b[0m\n[2025-06-06 12:44:36,029][\u001b[1;36mtensorcraft.mpi.distributions.multi_axis_dist\u001b[0m][\u001b[1;35mapply_permute\u001b[0m][\u001b[1;32mDEBUG\u001b[0m] - R1/8:\u001b[1;32m1/1/8 - Different shape, a memory shame to rank 2\u001b[0m\n[2025-06-06 12:44:36,030][\u001b[1;36mtensorcraft.mpi.distributions.multi_axis_dist\u001b[0m][\u001b[1;35mapply_permute\u001b[0m][\u001b[1;32mDEBUG\u001b[0m] - R1/8:\u001b[1;32mtensor([[[  4,   5],\n         [ 20,  21],\n         [ 36,  37],\n         [ 52,  53],\n         [ 68,  69]],\n\n        [[ 78,  79],\n         [ 94,  95],\n         [110, 111],\n         [126, 127],\n         [142, 143]]])\u001b[0m\n[2025-06-06 12:44:36,032][\u001b[1;36mtensorcraft.mpi.mpi_utils\u001b[0m][\u001b[1;35mtensor2mpiBuffer\u001b[0m][\u001b[1;32mDEBUG\u001b[0m] - R1/8:\u001b[1;32mtensor_stride: (10, 2, 1)\u001b[0m\n[2025-06-06 12:44:36,033][\u001b[1;36mtensorcraft.mpi.mpi_utils\u001b[0m][\u001b[1;35mtensor2mpiBuffer\u001b[0m][\u001b[1;32mDEBUG\u001b[0m] - R1/8:\u001b[1;32mtensor_offset: 0\u001b[0m\n[2025-06-06 12:44:36,033][\u001b[1;36mtensorcraft.mpi.mpi_utils\u001b[0m][\u001b[1;35mtensor2mpiBuffer\u001b[0m][\u001b[1;32mDEBUG\u001b[0m] - R1/8:\u001b[1;32mtensor_shape: torch.Size([2, 5, 2])\u001b[0m\n[2025-06-06 12:44:36,034][\u001b[1;36mtensorcraft.mpi.mpi_utils\u001b[0m][\u001b[1;35mtensor2mpiBuffer\u001b[0m][\u001b[1;32mDEBUG\u001b[0m] - R1/8:\u001b[1;32mtensor_dtype: torch.int64\u001b[0m\n[2025-06-06 12:44:36,034][\u001b[1;36mtensorcraft.mpi.mpi_utils\u001b[0m][\u001b[1;35mtensor2mpiBuffer\u001b[0m][\u001b[1;32mDEBUG\u001b[0m] - R1/8:\u001b[1;32mBest case scenario, it is contiguous!\u001b[0m\n[2025-06-06 12:44:36,035][\u001b[1;36mtensorcraft.mpi.distributions.multi_axis_dist\u001b[0m][\u001b[1;35mapply_permute\u001b[0m][\u001b[1;32mDEBUG\u001b[0m] - R1/8:\u001b[1;32mtensor([[[  2,   3],\n         [ 18,  19],\n         [ 34,  35],\n         [ 50,  51],\n         [ 66,  67]],\n\n        [[ 76,  77],\n         [ 92,  93],\n         [108, 109],\n         [124, 125],\n         [140, 141]]])\u001b[0m\n[2025-06-06 12:44:36,038][\u001b[1;36mtensorcraft.mpi.distributions.multi_axis_dist\u001b[0m][\u001b[1;35mapply_permute\u001b[0m][\u001b[1;32mDEBUG\u001b[0m] - R1/8:\u001b[1;32m1/8 - Barrier wait\u001b[0m\n[2025-06-06 12:44:36,256][\u001b[1;36mtensorcraft.mpi.distributions.multi_axis_dist\u001b[0m][\u001b[1;35mapply_permute\u001b[0m][\u001b[1;32mDEBUG\u001b[0m] - R1/8:\u001b[1;32m1/8 - Barrier escape\u001b[0m\n",
      "submitted": "2025-06-06T10:44:35.906800Z"
     },
     "output_type": "display_data"
    },
    {
     "data": {
      "text/plain": [
       "\u001b[0;31mOut[3:11]: \u001b[0m\n",
       "tensor([[[  6,   7],\n",
       "         [ 22,  23],\n",
       "         [ 38,  39],\n",
       "         [ 54,  55],\n",
       "         [ 70,  71]],\n",
       "\n",
       "        [[ 80,  81],\n",
       "         [ 96,  97],\n",
       "         [112, 113],\n",
       "         [128, 129],\n",
       "         [144, 145]]])"
      ]
     },
     "metadata": {
      "after": [],
      "completed": "2025-06-06T10:44:36.287522Z",
      "data": {},
      "engine_id": 3,
      "engine_uuid": "6b4f81de-f6739d26d67f26d6896f5cf2",
      "error": null,
      "execute_input": "new_dist, new_local = dist.apply_permute(x.shape, x_local, comm, mesh_dims=[1,2])\nnew_local\n",
      "execute_result": {
       "data": {
        "text/plain": "tensor([[[  6,   7],\n         [ 22,  23],\n         [ 38,  39],\n         [ 54,  55],\n         [ 70,  71]],\n\n        [[ 80,  81],\n         [ 96,  97],\n         [112, 113],\n         [128, 129],\n         [144, 145]]])"
       },
       "execution_count": 11,
       "metadata": {}
      },
      "follow": [],
      "is_broadcast": false,
      "is_coalescing": false,
      "msg_id": "11040ad5-31fc78109183db914f7861ca_65262_84",
      "outputs": [],
      "received": "2025-06-06T10:44:36.317040Z",
      "started": "2025-06-06T10:44:35.913180Z",
      "status": "ok",
      "stderr": "",
      "stdout": "[2025-06-06 12:44:35,921][\u001b[1;36mtensorcraft.mpi.distributions.multi_axis_dist\u001b[0m][\u001b[1;35mapply_permute\u001b[0m][\u001b[1;32mDEBUG\u001b[0m] - R3/8:\u001b[1;32mtensor([[[  6,   7],\n         [ 22,  23],\n         [ 38,  39],\n         [ 54,  55],\n         [ 70,  71]],\n\n        [[ 80,  81],\n         [ 96,  97],\n         [112, 113],\n         [128, 129],\n         [144, 145]]])\u001b[0m\n[2025-06-06 12:44:35,960][\u001b[1;36mtensorcraft.mpi.distributions.multi_axis_dist\u001b[0m][\u001b[1;35mapply_permute\u001b[0m][\u001b[1;37mINFO\u001b[0m] - R3/8:\u001b[1;37mCreating cart\u001b[0m\n[2025-06-06 12:44:36,007][\u001b[1;36mtensorcraft.mpi.distributions.multi_axis_dist\u001b[0m][\u001b[1;35mapply_permute\u001b[0m][\u001b[1;32mDEBUG\u001b[0m] - R3/8:\u001b[1;32m3/8 - Barrier wait\u001b[0m\n[2025-06-06 12:44:36,242][\u001b[1;36mtensorcraft.mpi.distributions.multi_axis_dist\u001b[0m][\u001b[1;35mapply_permute\u001b[0m][\u001b[1;32mDEBUG\u001b[0m] - R3/8:\u001b[1;32m3/8 - Barrier escape\u001b[0m\n",
      "submitted": "2025-06-06T10:44:35.909085Z"
     },
     "output_type": "display_data"
    },
    {
     "data": {
      "text/plain": [
       "\u001b[0;31mOut[7:11]: \u001b[0m\n",
       "tensor([[[ 14,  15],\n",
       "         [ 30,  31],\n",
       "         [ 46,  47],\n",
       "         [ 62,  63]],\n",
       "\n",
       "        [[ 88,  89],\n",
       "         [104, 105],\n",
       "         [120, 121],\n",
       "         [136, 137]]])"
      ]
     },
     "metadata": {
      "after": [],
      "completed": "2025-06-06T10:44:36.289928Z",
      "data": {},
      "engine_id": 7,
      "engine_uuid": "344590ce-409237efd15aa2e8c4011210",
      "error": null,
      "execute_input": "new_dist, new_local = dist.apply_permute(x.shape, x_local, comm, mesh_dims=[1,2])\nnew_local\n",
      "execute_result": {
       "data": {
        "text/plain": "tensor([[[ 14,  15],\n         [ 30,  31],\n         [ 46,  47],\n         [ 62,  63]],\n\n        [[ 88,  89],\n         [104, 105],\n         [120, 121],\n         [136, 137]]])"
       },
       "execution_count": 11,
       "metadata": {}
      },
      "follow": [],
      "is_broadcast": false,
      "is_coalescing": false,
      "msg_id": "11040ad5-31fc78109183db914f7861ca_65262_88",
      "outputs": [],
      "received": "2025-06-06T10:44:36.311991Z",
      "started": "2025-06-06T10:44:35.923260Z",
      "status": "ok",
      "stderr": "",
      "stdout": "[2025-06-06 12:44:35,939][\u001b[1;36mtensorcraft.mpi.distributions.multi_axis_dist\u001b[0m][\u001b[1;35mapply_permute\u001b[0m][\u001b[1;32mDEBUG\u001b[0m] - R7/8:\u001b[1;32mtensor([[[ 14,  15],\n         [ 30,  31],\n         [ 46,  47],\n         [ 62,  63]],\n\n        [[ 88,  89],\n         [104, 105],\n         [120, 121],\n         [136, 137]]])\u001b[0m\n[2025-06-06 12:44:35,971][\u001b[1;36mtensorcraft.mpi.distributions.multi_axis_dist\u001b[0m][\u001b[1;35mapply_permute\u001b[0m][\u001b[1;37mINFO\u001b[0m] - R7/8:\u001b[1;37mCreating cart\u001b[0m\n[2025-06-06 12:44:36,008][\u001b[1;36mtensorcraft.mpi.distributions.multi_axis_dist\u001b[0m][\u001b[1;35mapply_permute\u001b[0m][\u001b[1;32mDEBUG\u001b[0m] - R7/8:\u001b[1;32m7/8 - Barrier wait\u001b[0m\n[2025-06-06 12:44:36,242][\u001b[1;36mtensorcraft.mpi.distributions.multi_axis_dist\u001b[0m][\u001b[1;35mapply_permute\u001b[0m][\u001b[1;32mDEBUG\u001b[0m] - R7/8:\u001b[1;32m7/8 - Barrier escape\u001b[0m\n",
      "submitted": "2025-06-06T10:44:35.909968Z"
     },
     "output_type": "display_data"
    },
    {
     "data": {
      "text/plain": [
       "\u001b[0;31mOut[5:11]: \u001b[0m\n",
       "tensor([[[ 10,  11],\n",
       "         [ 26,  27],\n",
       "         [ 42,  43],\n",
       "         [ 58,  59]],\n",
       "\n",
       "        [[ 84,  85],\n",
       "         [100, 101],\n",
       "         [116, 117],\n",
       "         [132, 133]]])"
      ]
     },
     "metadata": {
      "after": [],
      "completed": "2025-06-06T10:44:36.318765Z",
      "data": {},
      "engine_id": 5,
      "engine_uuid": "f13c0ee5-8b80edc32630649259c05709",
      "error": null,
      "execute_input": "new_dist, new_local = dist.apply_permute(x.shape, x_local, comm, mesh_dims=[1,2])\nnew_local\n",
      "execute_result": {
       "data": {
        "text/plain": "tensor([[[ 10,  11],\n         [ 26,  27],\n         [ 42,  43],\n         [ 58,  59]],\n\n        [[ 84,  85],\n         [100, 101],\n         [116, 117],\n         [132, 133]]])"
       },
       "execution_count": 11,
       "metadata": {}
      },
      "follow": [],
      "is_broadcast": false,
      "is_coalescing": false,
      "msg_id": "11040ad5-31fc78109183db914f7861ca_65262_86",
      "outputs": [],
      "received": "2025-06-06T10:44:36.326988Z",
      "started": "2025-06-06T10:44:35.916874Z",
      "status": "ok",
      "stderr": "",
      "stdout": "[2025-06-06 12:44:35,919][\u001b[1;36mtensorcraft.mpi.distributions.multi_axis_dist\u001b[0m][\u001b[1;35mapply_permute\u001b[0m][\u001b[1;32mDEBUG\u001b[0m] - R5/8:\u001b[1;32mtensor([[[ 12,  13],\n         [ 28,  29],\n         [ 44,  45],\n         [ 60,  61]],\n\n        [[ 86,  87],\n         [102, 103],\n         [118, 119],\n         [134, 135]]])\u001b[0m\n[2025-06-06 12:44:35,921][\u001b[1;36mtensorcraft.mpi.distributions.multi_axis_dist\u001b[0m][\u001b[1;35mapply_permute\u001b[0m][\u001b[1;37mINFO\u001b[0m] - R5/8:\u001b[1;37mCreating cart\u001b[0m\n[2025-06-06 12:44:36,008][\u001b[1;36mtensorcraft.mpi.distributions.multi_axis_dist\u001b[0m][\u001b[1;35mapply_permute\u001b[0m][\u001b[1;37mINFO\u001b[0m] - R5/8:\u001b[1;37mExchanged needed, change in virtual submesh index: 6 != 5\u001b[0m\n[2025-06-06 12:44:36,009][\u001b[1;36mtensorcraft.mpi.distributions.multi_axis_dist\u001b[0m][\u001b[1;35mapply_permute\u001b[0m][\u001b[1;32mDEBUG\u001b[0m] - R5/8:\u001b[1;32mCurrent real idx and mindx: 5, [1, 0, 1]\u001b[0m\n[2025-06-06 12:44:36,012][\u001b[1;36mtensorcraft.mpi.distributions.multi_axis_dist\u001b[0m][\u001b[1;35mapply_permute\u001b[0m][\u001b[1;32mDEBUG\u001b[0m] - R5/8:\u001b[1;32mIdx order: tensor([0, 2, 1])\u001b[0m\n[2025-06-06 12:44:36,015][\u001b[1;36mtensorcraft.mpi.distributions.multi_axis_dist\u001b[0m][\u001b[1;35mapply_permute\u001b[0m][\u001b[1;32mDEBUG\u001b[0m] - R5/8:\u001b[1;32mSub mesh dims: tensor([2, 2, 2])\u001b[0m\n[2025-06-06 12:44:36,017][\u001b[1;36mtensorcraft.mpi.distributions.multi_axis_dist\u001b[0m][\u001b[1;35mapply_permute\u001b[0m][\u001b[1;32mDEBUG\u001b[0m] - R5/8:\u001b[1;32mTarget_v_midx torch.Size([1, 0, 1])\u001b[0m\n[2025-06-06 12:44:36,018][\u001b[1;36mtensorcraft.mpi.distributions.multi_axis_dist\u001b[0m][\u001b[1;35mapply_permute\u001b[0m][\u001b[1;32mDEBUG\u001b[0m] - R5/8:\u001b[1;32mTarget_r_midx tensor([1, 1, 0])\u001b[0m\n[2025-06-06 12:44:36,020][\u001b[1;36mtensorcraft.mpi.distributions.multi_axis_dist\u001b[0m][\u001b[1;35mapply_permute\u001b[0m][\u001b[1;32mDEBUG\u001b[0m] - R5/8:\u001b[1;32mTarget real smi: 6\u001b[0m\n[2025-06-06 12:44:36,023][\u001b[1;36mtensorcraft.mpi.mpi_utils\u001b[0m][\u001b[1;35mtensor2mpiBuffer\u001b[0m][\u001b[1;32mDEBUG\u001b[0m] - R5/8:\u001b[1;32mtensor_stride: (76, 16, 1)\u001b[0m\n[2025-06-06 12:44:36,023][\u001b[1;36mtensorcraft.mpi.mpi_utils\u001b[0m][\u001b[1;35mtensor2mpiBuffer\u001b[0m][\u001b[1;32mDEBUG\u001b[0m] - R5/8:\u001b[1;32mtensor_offset: 12\u001b[0m\n[2025-06-06 12:44:36,024][\u001b[1;36mtensorcraft.mpi.mpi_utils\u001b[0m][\u001b[1;35mtensor2mpiBuffer\u001b[0m][\u001b[1;32mDEBUG\u001b[0m] - R5/8:\u001b[1;32mtensor_shape: torch.Size([2, 4, 2])\u001b[0m\n[2025-06-06 12:44:36,025][\u001b[1;36mtensorcraft.mpi.mpi_utils\u001b[0m][\u001b[1;35mtensor2mpiBuffer\u001b[0m][\u001b[1;32mDEBUG\u001b[0m] - R5/8:\u001b[1;32mtensor_dtype: torch.int64\u001b[0m\n[2025-06-06 12:44:36,027][\u001b[1;36mtensorcraft.mpi.distributions.multi_axis_dist\u001b[0m][\u001b[1;35mapply_permute\u001b[0m][\u001b[1;32mDEBUG\u001b[0m] - R5/8:\u001b[1;32m5/5/8 - Different shape, a memory shame to rank 6\u001b[0m\n[2025-06-06 12:44:36,029][\u001b[1;36mtensorcraft.mpi.distributions.multi_axis_dist\u001b[0m][\u001b[1;35mapply_permute\u001b[0m][\u001b[1;32mDEBUG\u001b[0m] - R5/8:\u001b[1;32mtensor([[[ 12,  13],\n         [ 28,  29],\n         [ 44,  45],\n         [ 60,  61]],\n\n        [[ 86,  87],\n         [102, 103],\n         [118, 119],\n         [134, 135]]])\u001b[0m\n[2025-06-06 12:44:36,032][\u001b[1;36mtensorcraft.mpi.mpi_utils\u001b[0m][\u001b[1;35mtensor2mpiBuffer\u001b[0m][\u001b[1;32mDEBUG\u001b[0m] - R5/8:\u001b[1;32mtensor_stride: (8, 2, 1)\u001b[0m\n[2025-06-06 12:44:36,032][\u001b[1;36mtensorcraft.mpi.mpi_utils\u001b[0m][\u001b[1;35mtensor2mpiBuffer\u001b[0m][\u001b[1;32mDEBUG\u001b[0m] - R5/8:\u001b[1;32mtensor_offset: 0\u001b[0m\n[2025-06-06 12:44:36,033][\u001b[1;36mtensorcraft.mpi.mpi_utils\u001b[0m][\u001b[1;35mtensor2mpiBuffer\u001b[0m][\u001b[1;32mDEBUG\u001b[0m] - R5/8:\u001b[1;32mtensor_shape: torch.Size([2, 4, 2])\u001b[0m\n[2025-06-06 12:44:36,035][\u001b[1;36mtensorcraft.mpi.mpi_utils\u001b[0m][\u001b[1;35mtensor2mpiBuffer\u001b[0m][\u001b[1;32mDEBUG\u001b[0m] - R5/8:\u001b[1;32mtensor_dtype: torch.int64\u001b[0m\n[2025-06-06 12:44:36,037][\u001b[1;36mtensorcraft.mpi.mpi_utils\u001b[0m][\u001b[1;35mtensor2mpiBuffer\u001b[0m][\u001b[1;32mDEBUG\u001b[0m] - R5/8:\u001b[1;32mBest case scenario, it is contiguous!\u001b[0m\n[2025-06-06 12:44:36,218][\u001b[1;36mtensorcraft.mpi.distributions.multi_axis_dist\u001b[0m][\u001b[1;35mapply_permute\u001b[0m][\u001b[1;32mDEBUG\u001b[0m] - R5/8:\u001b[1;32mtensor([[[ 10,  11],\n         [ 26,  27],\n         [ 42,  43],\n         [ 58,  59]],\n\n        [[ 84,  85],\n         [100, 101],\n         [116, 117],\n         [132, 133]]])\u001b[0m\n[2025-06-06 12:44:36,224][\u001b[1;36mtensorcraft.mpi.distributions.multi_axis_dist\u001b[0m][\u001b[1;35mapply_permute\u001b[0m][\u001b[1;32mDEBUG\u001b[0m] - R5/8:\u001b[1;32m5/8 - Barrier wait\u001b[0m\n[2025-06-06 12:44:36,256][\u001b[1;36mtensorcraft.mpi.distributions.multi_axis_dist\u001b[0m][\u001b[1;35mapply_permute\u001b[0m][\u001b[1;32mDEBUG\u001b[0m] - R5/8:\u001b[1;32m5/8 - Barrier escape\u001b[0m\n",
      "submitted": "2025-06-06T10:44:35.909738Z"
     },
     "output_type": "display_data"
    },
    {
     "data": {
      "text/plain": [
       "\u001b[0;31mOut[4:11]: \u001b[0m\n",
       "tensor([[[  8,   9],\n",
       "         [ 24,  25],\n",
       "         [ 40,  41],\n",
       "         [ 56,  57],\n",
       "         [ 72,  73]],\n",
       "\n",
       "        [[ 82,  83],\n",
       "         [ 98,  99],\n",
       "         [114, 115],\n",
       "         [130, 131],\n",
       "         [146, 147]]])"
      ]
     },
     "metadata": {
      "after": [],
      "completed": "2025-06-06T10:44:36.301265Z",
      "data": {},
      "engine_id": 4,
      "engine_uuid": "30b640a7-0fa75b73272eee52ef428f03",
      "error": null,
      "execute_input": "new_dist, new_local = dist.apply_permute(x.shape, x_local, comm, mesh_dims=[1,2])\nnew_local\n",
      "execute_result": {
       "data": {
        "text/plain": "tensor([[[  8,   9],\n         [ 24,  25],\n         [ 40,  41],\n         [ 56,  57],\n         [ 72,  73]],\n\n        [[ 82,  83],\n         [ 98,  99],\n         [114, 115],\n         [130, 131],\n         [146, 147]]])"
       },
       "execution_count": 11,
       "metadata": {}
      },
      "follow": [],
      "is_broadcast": false,
      "is_coalescing": false,
      "msg_id": "11040ad5-31fc78109183db914f7861ca_65262_85",
      "outputs": [],
      "received": "2025-06-06T10:44:36.320375Z",
      "started": "2025-06-06T10:44:35.917937Z",
      "status": "ok",
      "stderr": "",
      "stdout": "[2025-06-06 12:44:35,926][\u001b[1;36mtensorcraft.mpi.distributions.multi_axis_dist\u001b[0m][\u001b[1;35mapply_permute\u001b[0m][\u001b[1;32mDEBUG\u001b[0m] - R4/8:\u001b[1;32mtensor([[[  8,   9],\n         [ 24,  25],\n         [ 40,  41],\n         [ 56,  57],\n         [ 72,  73]],\n\n        [[ 82,  83],\n         [ 98,  99],\n         [114, 115],\n         [130, 131],\n         [146, 147]]])\u001b[0m\n[2025-06-06 12:44:35,937][\u001b[1;36mtensorcraft.mpi.distributions.multi_axis_dist\u001b[0m][\u001b[1;35mapply_permute\u001b[0m][\u001b[1;37mINFO\u001b[0m] - R4/8:\u001b[1;37mCreating cart\u001b[0m\n[2025-06-06 12:44:36,006][\u001b[1;36mtensorcraft.mpi.distributions.multi_axis_dist\u001b[0m][\u001b[1;35mapply_permute\u001b[0m][\u001b[1;32mDEBUG\u001b[0m] - R4/8:\u001b[1;32m4/8 - Barrier wait\u001b[0m\n[2025-06-06 12:44:36,242][\u001b[1;36mtensorcraft.mpi.distributions.multi_axis_dist\u001b[0m][\u001b[1;35mapply_permute\u001b[0m][\u001b[1;32mDEBUG\u001b[0m] - R4/8:\u001b[1;32m4/8 - Barrier escape\u001b[0m\n",
      "submitted": "2025-06-06T10:44:35.909224Z"
     },
     "output_type": "display_data"
    }
   ],
   "source": [
    "%%px\n",
    "new_dist, new_local = dist.apply_permute(x.shape, x_local, comm, mesh_dims=[1,2])\n",
    "new_local"
   ]
  },
  {
   "cell_type": "code",
   "execution_count": null,
   "metadata": {},
   "outputs": [
    {
     "data": {
      "text/plain": [
       "[stdout:0] [2025-06-06 12:44:37,393][\u001b[1;36mtensorcraft.mpi.distributions.multi_axis_dist\u001b[0m][\u001b[1;35mapply\u001b[0m][\u001b[1;32mDEBUG\u001b[0m] - R0/8:\u001b[1;32mProcessor multi index: torch.Size([0, 0, 0])\u001b[0m\n",
       "[2025-06-06 12:44:37,395][\u001b[1;36mtensorcraft.mpi.distributions.multi_axis_dist\u001b[0m][\u001b[1;35mapply\u001b[0m][\u001b[1;32mDEBUG\u001b[0m] - R0/8:\u001b[1;32mMissing elements: [0, 1, 0]\u001b[0m\n",
       "[2025-06-06 12:44:37,397][\u001b[1;36mtensorcraft.mpi.distributions.multi_axis_dist\u001b[0m][\u001b[1;35mapply\u001b[0m][\u001b[1;32mDEBUG\u001b[0m] - R0/8:\u001b[1;32mN blocks per axis: [1, 37, 1]\u001b[0m\n",
       "[2025-06-06 12:44:37,399][\u001b[1;36mtensorcraft.mpi.distributions.multi_axis_dist\u001b[0m][\u001b[1;35mapply\u001b[0m][\u001b[1;32mDEBUG\u001b[0m] - R0/8:\u001b[1;32mPadded tensor shape: torch.Size([2, 38, 2])\u001b[0m\n",
       "[2025-06-06 12:44:37,401][\u001b[1;36mtensorcraft.mpi.distributions.multi_axis_dist\u001b[0m][\u001b[1;35mapply\u001b[0m][\u001b[1;32mDEBUG\u001b[0m] - R0/8:\u001b[1;32mPermute tuple: (0, 2, 4, 1, 3, 5)\u001b[0m\n",
       "[2025-06-06 12:44:37,403][\u001b[1;36mtensorcraft.mpi.distributions.multi_axis_dist\u001b[0m][\u001b[1;35mapply\u001b[0m][\u001b[1;32mDEBUG\u001b[0m] - R0/8:\u001b[1;32mReshape tuple: [1, 2, 38, 1, 1, 2]\u001b[0m\n",
       "[2025-06-06 12:44:37,404][\u001b[1;36mtensorcraft.mpi.distributions.multi_axis_dist\u001b[0m][\u001b[1;35mapply\u001b[0m][\u001b[1;32mDEBUG\u001b[0m] - R0/8:\u001b[1;32mTile Slices: [slice(None, None, None), slice(None, None, None), slice(tensor(0), None, 8), slice(None, None, None), slice(None, None, None), slice(None, None, None)]\u001b[0m\n",
       "[2025-06-06 12:44:37,405][\u001b[1;36mtensorcraft.mpi.distributions.multi_axis_dist\u001b[0m][\u001b[1;35mapply\u001b[0m][\u001b[1;32mDEBUG\u001b[0m] - R0/8:\u001b[1;32mLocal tensor shape: torch.Size([1, 2, 5, 1, 1, 2])\u001b[0m\n",
       "[2025-06-06 12:44:37,406][\u001b[1;36mtensorcraft.mpi.distributions.multi_axis_dist\u001b[0m][\u001b[1;35mapply\u001b[0m][\u001b[1;32mDEBUG\u001b[0m] - R0/8:\u001b[1;32mTarget local tensor shape: [2, 5, 2]\u001b[0m\n",
       "[2025-06-06 12:44:37,406][\u001b[1;36mtensorcraft.mpi.distributions.multi_axis_dist\u001b[0m][\u001b[1;35mapply\u001b[0m][\u001b[1;32mDEBUG\u001b[0m] - R0/8:\u001b[1;32mtensor([[[  0,   1],\n",
       "         [ 16,  17],\n",
       "         [ 32,  33],\n",
       "         [ 48,  49],\n",
       "         [ 64,  65]],\n",
       "\n",
       "        [[ 74,  75],\n",
       "         [ 90,  91],\n",
       "         [106, 107],\n",
       "         [122, 123],\n",
       "         [138, 139]]])\u001b[0m\n",
       "[2025-06-06 12:44:37,410][\u001b[1;36mtensorcraft.mpi.distributions.multi_axis_dist\u001b[0m][\u001b[1;35mapply\u001b[0m][\u001b[1;32mDEBUG\u001b[0m] - R0/8:\u001b[1;32mLinear processor index: 0, Residue: 1, Block size: 1, axis: 1, N procs: 8, N full blocks: 37\u001b[0m\n",
       "[2025-06-06 12:44:37,411][\u001b[1;36mtensorcraft.mpi.distributions.multi_axis_dist\u001b[0m][\u001b[1;35mapply\u001b[0m][\u001b[1;32mDEBUG\u001b[0m] - R0/8:\u001b[1;32mShaved slices: [slice(None, None, None), slice(None, None, None), slice(None, None, None)]\u001b[0m\n",
       "[2025-06-06 12:44:37,411][\u001b[1;36mtensorcraft.mpi.distributions.multi_axis_dist\u001b[0m][\u001b[1;35mapply\u001b[0m][\u001b[1;32mDEBUG\u001b[0m] - R0/8:\u001b[1;32mFinal local tensor shape: torch.Size([2, 5, 2])\u001b[0m\n"
      ]
     },
     "metadata": {},
     "output_type": "display_data"
    },
    {
     "data": {
      "text/plain": [
       "[stdout:1] [2025-06-06 12:44:37,394][\u001b[1;36mtensorcraft.mpi.distributions.multi_axis_dist\u001b[0m][\u001b[1;35mapply\u001b[0m][\u001b[1;32mDEBUG\u001b[0m] - R1/8:\u001b[1;32mProcessor multi index: torch.Size([0, 0, 1])\u001b[0m\n",
       "[2025-06-06 12:44:37,398][\u001b[1;36mtensorcraft.mpi.distributions.multi_axis_dist\u001b[0m][\u001b[1;35mapply\u001b[0m][\u001b[1;32mDEBUG\u001b[0m] - R1/8:\u001b[1;32mMissing elements: [0, 1, 0]\u001b[0m\n",
       "[2025-06-06 12:44:37,402][\u001b[1;36mtensorcraft.mpi.distributions.multi_axis_dist\u001b[0m][\u001b[1;35mapply\u001b[0m][\u001b[1;32mDEBUG\u001b[0m] - R1/8:\u001b[1;32mN blocks per axis: [1, 37, 1]\u001b[0m\n",
       "[2025-06-06 12:44:37,404][\u001b[1;36mtensorcraft.mpi.distributions.multi_axis_dist\u001b[0m][\u001b[1;35mapply\u001b[0m][\u001b[1;32mDEBUG\u001b[0m] - R1/8:\u001b[1;32mPadded tensor shape: torch.Size([2, 38, 2])\u001b[0m\n",
       "[2025-06-06 12:44:37,406][\u001b[1;36mtensorcraft.mpi.distributions.multi_axis_dist\u001b[0m][\u001b[1;35mapply\u001b[0m][\u001b[1;32mDEBUG\u001b[0m] - R1/8:\u001b[1;32mPermute tuple: (0, 2, 4, 1, 3, 5)\u001b[0m\n",
       "[2025-06-06 12:44:37,406][\u001b[1;36mtensorcraft.mpi.distributions.multi_axis_dist\u001b[0m][\u001b[1;35mapply\u001b[0m][\u001b[1;32mDEBUG\u001b[0m] - R1/8:\u001b[1;32mReshape tuple: [1, 2, 38, 1, 1, 2]\u001b[0m\n",
       "[2025-06-06 12:44:37,408][\u001b[1;36mtensorcraft.mpi.distributions.multi_axis_dist\u001b[0m][\u001b[1;35mapply\u001b[0m][\u001b[1;32mDEBUG\u001b[0m] - R1/8:\u001b[1;32mTile Slices: [slice(None, None, None), slice(None, None, None), slice(tensor(1), None, 8), slice(None, None, None), slice(None, None, None), slice(None, None, None)]\u001b[0m\n",
       "[2025-06-06 12:44:37,409][\u001b[1;36mtensorcraft.mpi.distributions.multi_axis_dist\u001b[0m][\u001b[1;35mapply\u001b[0m][\u001b[1;32mDEBUG\u001b[0m] - R1/8:\u001b[1;32mLocal tensor shape: torch.Size([1, 2, 5, 1, 1, 2])\u001b[0m\n",
       "[2025-06-06 12:44:37,410][\u001b[1;36mtensorcraft.mpi.distributions.multi_axis_dist\u001b[0m][\u001b[1;35mapply\u001b[0m][\u001b[1;32mDEBUG\u001b[0m] - R1/8:\u001b[1;32mTarget local tensor shape: [2, 5, 2]\u001b[0m\n",
       "[2025-06-06 12:44:37,411][\u001b[1;36mtensorcraft.mpi.distributions.multi_axis_dist\u001b[0m][\u001b[1;35mapply\u001b[0m][\u001b[1;32mDEBUG\u001b[0m] - R1/8:\u001b[1;32mtensor([[[  2,   3],\n",
       "         [ 18,  19],\n",
       "         [ 34,  35],\n",
       "         [ 50,  51],\n",
       "         [ 66,  67]],\n",
       "\n",
       "        [[ 76,  77],\n",
       "         [ 92,  93],\n",
       "         [108, 109],\n",
       "         [124, 125],\n",
       "         [140, 141]]])\u001b[0m\n",
       "[2025-06-06 12:44:37,415][\u001b[1;36mtensorcraft.mpi.distributions.multi_axis_dist\u001b[0m][\u001b[1;35mapply\u001b[0m][\u001b[1;32mDEBUG\u001b[0m] - R1/8:\u001b[1;32mLinear processor index: 1, Residue: 1, Block size: 1, axis: 1, N procs: 8, N full blocks: 37\u001b[0m\n",
       "[2025-06-06 12:44:37,416][\u001b[1;36mtensorcraft.mpi.distributions.multi_axis_dist\u001b[0m][\u001b[1;35mapply\u001b[0m][\u001b[1;32mDEBUG\u001b[0m] - R1/8:\u001b[1;32mShaved slices: [slice(None, None, None), slice(None, None, None), slice(None, None, None)]\u001b[0m\n",
       "[2025-06-06 12:44:37,417][\u001b[1;36mtensorcraft.mpi.distributions.multi_axis_dist\u001b[0m][\u001b[1;35mapply\u001b[0m][\u001b[1;32mDEBUG\u001b[0m] - R1/8:\u001b[1;32mFinal local tensor shape: torch.Size([2, 5, 2])\u001b[0m\n"
      ]
     },
     "metadata": {},
     "output_type": "display_data"
    },
    {
     "data": {
      "text/plain": [
       "[stdout:2] [2025-06-06 12:44:37,395][\u001b[1;36mtensorcraft.mpi.distributions.multi_axis_dist\u001b[0m][\u001b[1;35mapply\u001b[0m][\u001b[1;32mDEBUG\u001b[0m] - R2/8:\u001b[1;32mProcessor multi index: torch.Size([0, 1, 0])\u001b[0m\n",
       "[2025-06-06 12:44:37,397][\u001b[1;36mtensorcraft.mpi.distributions.multi_axis_dist\u001b[0m][\u001b[1;35mapply\u001b[0m][\u001b[1;32mDEBUG\u001b[0m] - R2/8:\u001b[1;32mMissing elements: [0, 1, 0]\u001b[0m\n",
       "[2025-06-06 12:44:37,398][\u001b[1;36mtensorcraft.mpi.distributions.multi_axis_dist\u001b[0m][\u001b[1;35mapply\u001b[0m][\u001b[1;32mDEBUG\u001b[0m] - R2/8:\u001b[1;32mN blocks per axis: [1, 37, 1]\u001b[0m\n",
       "[2025-06-06 12:44:37,399][\u001b[1;36mtensorcraft.mpi.distributions.multi_axis_dist\u001b[0m][\u001b[1;35mapply\u001b[0m][\u001b[1;32mDEBUG\u001b[0m] - R2/8:\u001b[1;32mPadded tensor shape: torch.Size([2, 38, 2])\u001b[0m\n",
       "[2025-06-06 12:44:37,401][\u001b[1;36mtensorcraft.mpi.distributions.multi_axis_dist\u001b[0m][\u001b[1;35mapply\u001b[0m][\u001b[1;32mDEBUG\u001b[0m] - R2/8:\u001b[1;32mPermute tuple: (0, 2, 4, 1, 3, 5)\u001b[0m\n",
       "[2025-06-06 12:44:37,402][\u001b[1;36mtensorcraft.mpi.distributions.multi_axis_dist\u001b[0m][\u001b[1;35mapply\u001b[0m][\u001b[1;32mDEBUG\u001b[0m] - R2/8:\u001b[1;32mReshape tuple: [1, 2, 38, 1, 1, 2]\u001b[0m\n",
       "[2025-06-06 12:44:37,403][\u001b[1;36mtensorcraft.mpi.distributions.multi_axis_dist\u001b[0m][\u001b[1;35mapply\u001b[0m][\u001b[1;32mDEBUG\u001b[0m] - R2/8:\u001b[1;32mTile Slices: [slice(None, None, None), slice(None, None, None), slice(tensor(2), None, 8), slice(None, None, None), slice(None, None, None), slice(None, None, None)]\u001b[0m\n",
       "[2025-06-06 12:44:37,406][\u001b[1;36mtensorcraft.mpi.distributions.multi_axis_dist\u001b[0m][\u001b[1;35mapply\u001b[0m][\u001b[1;32mDEBUG\u001b[0m] - R2/8:\u001b[1;32mLocal tensor shape: torch.Size([1, 2, 5, 1, 1, 2])\u001b[0m\n",
       "[2025-06-06 12:44:37,412][\u001b[1;36mtensorcraft.mpi.distributions.multi_axis_dist\u001b[0m][\u001b[1;35mapply\u001b[0m][\u001b[1;32mDEBUG\u001b[0m] - R2/8:\u001b[1;32mTarget local tensor shape: [2, 5, 2]\u001b[0m\n",
       "[2025-06-06 12:44:37,414][\u001b[1;36mtensorcraft.mpi.distributions.multi_axis_dist\u001b[0m][\u001b[1;35mapply\u001b[0m][\u001b[1;32mDEBUG\u001b[0m] - R2/8:\u001b[1;32mtensor([[[  4,   5],\n",
       "         [ 20,  21],\n",
       "         [ 36,  37],\n",
       "         [ 52,  53],\n",
       "         [ 68,  69]],\n",
       "\n",
       "        [[ 78,  79],\n",
       "         [ 94,  95],\n",
       "         [110, 111],\n",
       "         [126, 127],\n",
       "         [142, 143]]])\u001b[0m\n",
       "[2025-06-06 12:44:37,419][\u001b[1;36mtensorcraft.mpi.distributions.multi_axis_dist\u001b[0m][\u001b[1;35mapply\u001b[0m][\u001b[1;32mDEBUG\u001b[0m] - R2/8:\u001b[1;32mLinear processor index: 2, Residue: 1, Block size: 1, axis: 1, N procs: 8, N full blocks: 37\u001b[0m\n",
       "[2025-06-06 12:44:37,424][\u001b[1;36mtensorcraft.mpi.distributions.multi_axis_dist\u001b[0m][\u001b[1;35mapply\u001b[0m][\u001b[1;32mDEBUG\u001b[0m] - R2/8:\u001b[1;32mShaved slices: [slice(None, None, None), slice(None, None, None), slice(None, None, None)]\u001b[0m\n",
       "[2025-06-06 12:44:37,429][\u001b[1;36mtensorcraft.mpi.distributions.multi_axis_dist\u001b[0m][\u001b[1;35mapply\u001b[0m][\u001b[1;32mDEBUG\u001b[0m] - R2/8:\u001b[1;32mFinal local tensor shape: torch.Size([2, 5, 2])\u001b[0m\n"
      ]
     },
     "metadata": {},
     "output_type": "display_data"
    },
    {
     "data": {
      "text/plain": [
       "[stdout:3] [2025-06-06 12:44:37,403][\u001b[1;36mtensorcraft.mpi.distributions.multi_axis_dist\u001b[0m][\u001b[1;35mapply\u001b[0m][\u001b[1;32mDEBUG\u001b[0m] - R3/8:\u001b[1;32mProcessor multi index: torch.Size([0, 1, 1])\u001b[0m\n",
       "[2025-06-06 12:44:37,404][\u001b[1;36mtensorcraft.mpi.distributions.multi_axis_dist\u001b[0m][\u001b[1;35mapply\u001b[0m][\u001b[1;32mDEBUG\u001b[0m] - R3/8:\u001b[1;32mMissing elements: [0, 1, 0]\u001b[0m\n",
       "[2025-06-06 12:44:37,405][\u001b[1;36mtensorcraft.mpi.distributions.multi_axis_dist\u001b[0m][\u001b[1;35mapply\u001b[0m][\u001b[1;32mDEBUG\u001b[0m] - R3/8:\u001b[1;32mN blocks per axis: [1, 37, 1]\u001b[0m\n",
       "[2025-06-06 12:44:37,405][\u001b[1;36mtensorcraft.mpi.distributions.multi_axis_dist\u001b[0m][\u001b[1;35mapply\u001b[0m][\u001b[1;32mDEBUG\u001b[0m] - R3/8:\u001b[1;32mPadded tensor shape: torch.Size([2, 38, 2])\u001b[0m\n",
       "[2025-06-06 12:44:37,407][\u001b[1;36mtensorcraft.mpi.distributions.multi_axis_dist\u001b[0m][\u001b[1;35mapply\u001b[0m][\u001b[1;32mDEBUG\u001b[0m] - R3/8:\u001b[1;32mPermute tuple: (0, 2, 4, 1, 3, 5)\u001b[0m\n",
       "[2025-06-06 12:44:37,409][\u001b[1;36mtensorcraft.mpi.distributions.multi_axis_dist\u001b[0m][\u001b[1;35mapply\u001b[0m][\u001b[1;32mDEBUG\u001b[0m] - R3/8:\u001b[1;32mReshape tuple: [1, 2, 38, 1, 1, 2]\u001b[0m\n",
       "[2025-06-06 12:44:37,410][\u001b[1;36mtensorcraft.mpi.distributions.multi_axis_dist\u001b[0m][\u001b[1;35mapply\u001b[0m][\u001b[1;32mDEBUG\u001b[0m] - R3/8:\u001b[1;32mTile Slices: [slice(None, None, None), slice(None, None, None), slice(tensor(3), None, 8), slice(None, None, None), slice(None, None, None), slice(None, None, None)]\u001b[0m\n"
      ]
     },
     "metadata": {},
     "output_type": "display_data"
    },
    {
     "data": {
      "text/plain": [
       "[stdout:4] [2025-06-06 12:44:37,404][\u001b[1;36mtensorcraft.mpi.distributions.multi_axis_dist\u001b[0m][\u001b[1;35mapply\u001b[0m][\u001b[1;32mDEBUG\u001b[0m] - R4/8:\u001b[1;32mProcessor multi index: torch.Size([1, 0, 0])\u001b[0m\n",
       "[2025-06-06 12:44:37,406][\u001b[1;36mtensorcraft.mpi.distributions.multi_axis_dist\u001b[0m][\u001b[1;35mapply\u001b[0m][\u001b[1;32mDEBUG\u001b[0m] - R4/8:\u001b[1;32mMissing elements: [0, 1, 0]\u001b[0m\n",
       "[2025-06-06 12:44:37,407][\u001b[1;36mtensorcraft.mpi.distributions.multi_axis_dist\u001b[0m][\u001b[1;35mapply\u001b[0m][\u001b[1;32mDEBUG\u001b[0m] - R4/8:\u001b[1;32mN blocks per axis: [1, 37, 1]\u001b[0m\n",
       "[2025-06-06 12:44:37,408][\u001b[1;36mtensorcraft.mpi.distributions.multi_axis_dist\u001b[0m][\u001b[1;35mapply\u001b[0m][\u001b[1;32mDEBUG\u001b[0m] - R4/8:\u001b[1;32mPadded tensor shape: torch.Size([2, 38, 2])\u001b[0m\n",
       "[2025-06-06 12:44:37,411][\u001b[1;36mtensorcraft.mpi.distributions.multi_axis_dist\u001b[0m][\u001b[1;35mapply\u001b[0m][\u001b[1;32mDEBUG\u001b[0m] - R4/8:\u001b[1;32mPermute tuple: (0, 2, 4, 1, 3, 5)\u001b[0m\n",
       "[2025-06-06 12:44:37,413][\u001b[1;36mtensorcraft.mpi.distributions.multi_axis_dist\u001b[0m][\u001b[1;35mapply\u001b[0m][\u001b[1;32mDEBUG\u001b[0m] - R4/8:\u001b[1;32mReshape tuple: [1, 2, 38, 1, 1, 2]\u001b[0m\n",
       "[2025-06-06 12:44:37,414][\u001b[1;36mtensorcraft.mpi.distributions.multi_axis_dist\u001b[0m][\u001b[1;35mapply\u001b[0m][\u001b[1;32mDEBUG\u001b[0m] - R4/8:\u001b[1;32mTile Slices: [slice(None, None, None), slice(None, None, None), slice(tensor(4), None, 8), slice(None, None, None), slice(None, None, None), slice(None, None, None)]\u001b[0m\n",
       "[2025-06-06 12:44:37,416][\u001b[1;36mtensorcraft.mpi.distributions.multi_axis_dist\u001b[0m][\u001b[1;35mapply\u001b[0m][\u001b[1;32mDEBUG\u001b[0m] - R4/8:\u001b[1;32mLocal tensor shape: torch.Size([1, 2, 5, 1, 1, 2])\u001b[0m\n",
       "[2025-06-06 12:44:37,416][\u001b[1;36mtensorcraft.mpi.distributions.multi_axis_dist\u001b[0m][\u001b[1;35mapply\u001b[0m][\u001b[1;32mDEBUG\u001b[0m] - R4/8:\u001b[1;32mTarget local tensor shape: [2, 5, 2]\u001b[0m\n",
       "[2025-06-06 12:44:37,417][\u001b[1;36mtensorcraft.mpi.distributions.multi_axis_dist\u001b[0m][\u001b[1;35mapply\u001b[0m][\u001b[1;32mDEBUG\u001b[0m] - R4/8:\u001b[1;32mtensor([[[  8,   9],\n",
       "         [ 24,  25],\n",
       "         [ 40,  41],\n",
       "         [ 56,  57],\n",
       "         [ 72,  73]],\n",
       "\n",
       "        [[ 82,  83],\n",
       "         [ 98,  99],\n",
       "         [114, 115],\n",
       "         [130, 131],\n",
       "         [146, 147]]])\u001b[0m\n",
       "[2025-06-06 12:44:37,429][\u001b[1;36mtensorcraft.mpi.distributions.multi_axis_dist\u001b[0m][\u001b[1;35mapply\u001b[0m][\u001b[1;32mDEBUG\u001b[0m] - R4/8:\u001b[1;32mLinear processor index: 4, Residue: 1, Block size: 1, axis: 1, N procs: 8, N full blocks: 37\u001b[0m\n",
       "[2025-06-06 12:44:37,430][\u001b[1;36mtensorcraft.mpi.distributions.multi_axis_dist\u001b[0m][\u001b[1;35mapply\u001b[0m][\u001b[1;32mDEBUG\u001b[0m] - R4/8:\u001b[1;32mShaved slices: [slice(None, None, None), slice(None, None, None), slice(None, None, None)]\u001b[0m\n",
       "[2025-06-06 12:44:37,431][\u001b[1;36mtensorcraft.mpi.distributions.multi_axis_dist\u001b[0m][\u001b[1;35mapply\u001b[0m][\u001b[1;32mDEBUG\u001b[0m] - R4/8:\u001b[1;32mFinal local tensor shape: torch.Size([2, 5, 2])\u001b[0m\n"
      ]
     },
     "metadata": {},
     "output_type": "display_data"
    },
    {
     "data": {
      "text/plain": [
       "[stdout:7] [2025-06-06 12:44:37,403][\u001b[1;36mtensorcraft.mpi.distributions.multi_axis_dist\u001b[0m][\u001b[1;35mapply\u001b[0m][\u001b[1;32mDEBUG\u001b[0m] - R7/8:\u001b[1;32mProcessor multi index: torch.Size([1, 1, 1])\u001b[0m\n",
       "[2025-06-06 12:44:37,408][\u001b[1;36mtensorcraft.mpi.distributions.multi_axis_dist\u001b[0m][\u001b[1;35mapply\u001b[0m][\u001b[1;32mDEBUG\u001b[0m] - R7/8:\u001b[1;32mMissing elements: [0, 1, 0]\u001b[0m\n",
       "[2025-06-06 12:44:37,409][\u001b[1;36mtensorcraft.mpi.distributions.multi_axis_dist\u001b[0m][\u001b[1;35mapply\u001b[0m][\u001b[1;32mDEBUG\u001b[0m] - R7/8:\u001b[1;32mN blocks per axis: [1, 37, 1]\u001b[0m\n",
       "[2025-06-06 12:44:37,409][\u001b[1;36mtensorcraft.mpi.distributions.multi_axis_dist\u001b[0m][\u001b[1;35mapply\u001b[0m][\u001b[1;32mDEBUG\u001b[0m] - R7/8:\u001b[1;32mPadded tensor shape: torch.Size([2, 38, 2])\u001b[0m\n",
       "[2025-06-06 12:44:37,411][\u001b[1;36mtensorcraft.mpi.distributions.multi_axis_dist\u001b[0m][\u001b[1;35mapply\u001b[0m][\u001b[1;32mDEBUG\u001b[0m] - R7/8:\u001b[1;32mPermute tuple: (0, 2, 4, 1, 3, 5)\u001b[0m\n",
       "[2025-06-06 12:44:37,418][\u001b[1;36mtensorcraft.mpi.distributions.multi_axis_dist\u001b[0m][\u001b[1;35mapply\u001b[0m][\u001b[1;32mDEBUG\u001b[0m] - R7/8:\u001b[1;32mReshape tuple: [1, 2, 38, 1, 1, 2]\u001b[0m\n",
       "[2025-06-06 12:44:37,419][\u001b[1;36mtensorcraft.mpi.distributions.multi_axis_dist\u001b[0m][\u001b[1;35mapply\u001b[0m][\u001b[1;32mDEBUG\u001b[0m] - R7/8:\u001b[1;32mTile Slices: [slice(None, None, None), slice(None, None, None), slice(tensor(7), None, 8), slice(None, None, None), slice(None, None, None), slice(None, None, None)]\u001b[0m\n",
       "[2025-06-06 12:44:37,420][\u001b[1;36mtensorcraft.mpi.distributions.multi_axis_dist\u001b[0m][\u001b[1;35mapply\u001b[0m][\u001b[1;32mDEBUG\u001b[0m] - R7/8:\u001b[1;32mLocal tensor shape: torch.Size([1, 2, 4, 1, 1, 2])\u001b[0m\n",
       "[2025-06-06 12:44:37,421][\u001b[1;36mtensorcraft.mpi.distributions.multi_axis_dist\u001b[0m][\u001b[1;35mapply\u001b[0m][\u001b[1;32mDEBUG\u001b[0m] - R7/8:\u001b[1;32mTarget local tensor shape: [2, 4, 2]\u001b[0m\n",
       "[2025-06-06 12:44:37,422][\u001b[1;36mtensorcraft.mpi.distributions.multi_axis_dist\u001b[0m][\u001b[1;35mapply\u001b[0m][\u001b[1;32mDEBUG\u001b[0m] - R7/8:\u001b[1;32mtensor([[[ 14,  15],\n",
       "         [ 30,  31],\n",
       "         [ 46,  47],\n",
       "         [ 62,  63]],\n",
       "\n",
       "        [[ 88,  89],\n",
       "         [104, 105],\n",
       "         [120, 121],\n",
       "         [136, 137]]])\u001b[0m\n",
       "[2025-06-06 12:44:37,428][\u001b[1;36mtensorcraft.mpi.distributions.multi_axis_dist\u001b[0m][\u001b[1;35mapply\u001b[0m][\u001b[1;32mDEBUG\u001b[0m] - R7/8:\u001b[1;32mLinear processor index: 7, Residue: 1, Block size: 1, axis: 1, N procs: 8, N full blocks: 37\u001b[0m\n",
       "[2025-06-06 12:44:37,433][\u001b[1;36mtensorcraft.mpi.distributions.multi_axis_dist\u001b[0m][\u001b[1;35mapply\u001b[0m][\u001b[1;32mDEBUG\u001b[0m] - R7/8:\u001b[1;32mShaved slices: [slice(None, None, None), slice(None, None, None), slice(None, None, None)]\u001b[0m\n",
       "[2025-06-06 12:44:37,438][\u001b[1;36mtensorcraft.mpi.distributions.multi_axis_dist\u001b[0m][\u001b[1;35mapply\u001b[0m][\u001b[1;32mDEBUG\u001b[0m] - R7/8:\u001b[1;32mFinal local tensor shape: torch.Size([2, 4, 2])\u001b[0m\n"
      ]
     },
     "metadata": {},
     "output_type": "display_data"
    },
    {
     "data": {
      "text/plain": [
       "[stdout:5] [2025-06-06 12:44:37,404][\u001b[1;36mtensorcraft.mpi.distributions.multi_axis_dist\u001b[0m][\u001b[1;35mapply\u001b[0m][\u001b[1;32mDEBUG\u001b[0m] - R5/8:\u001b[1;32mProcessor multi index: torch.Size([1, 0, 1])\u001b[0m\n",
       "[2025-06-06 12:44:37,406][\u001b[1;36mtensorcraft.mpi.distributions.multi_axis_dist\u001b[0m][\u001b[1;35mapply\u001b[0m][\u001b[1;32mDEBUG\u001b[0m] - R5/8:\u001b[1;32mMissing elements: [0, 1, 0]\u001b[0m\n",
       "[2025-06-06 12:44:37,407][\u001b[1;36mtensorcraft.mpi.distributions.multi_axis_dist\u001b[0m][\u001b[1;35mapply\u001b[0m][\u001b[1;32mDEBUG\u001b[0m] - R5/8:\u001b[1;32mN blocks per axis: [1, 37, 1]\u001b[0m\n",
       "[2025-06-06 12:44:37,409][\u001b[1;36mtensorcraft.mpi.distributions.multi_axis_dist\u001b[0m][\u001b[1;35mapply\u001b[0m][\u001b[1;32mDEBUG\u001b[0m] - R5/8:\u001b[1;32mPadded tensor shape: torch.Size([2, 38, 2])\u001b[0m\n",
       "[2025-06-06 12:44:37,411][\u001b[1;36mtensorcraft.mpi.distributions.multi_axis_dist\u001b[0m][\u001b[1;35mapply\u001b[0m][\u001b[1;32mDEBUG\u001b[0m] - R5/8:\u001b[1;32mPermute tuple: (0, 2, 4, 1, 3, 5)\u001b[0m\n",
       "[2025-06-06 12:44:37,415][\u001b[1;36mtensorcraft.mpi.distributions.multi_axis_dist\u001b[0m][\u001b[1;35mapply\u001b[0m][\u001b[1;32mDEBUG\u001b[0m] - R5/8:\u001b[1;32mReshape tuple: [1, 2, 38, 1, 1, 2]\u001b[0m\n",
       "[2025-06-06 12:44:37,417][\u001b[1;36mtensorcraft.mpi.distributions.multi_axis_dist\u001b[0m][\u001b[1;35mapply\u001b[0m][\u001b[1;32mDEBUG\u001b[0m] - R5/8:\u001b[1;32mTile Slices: [slice(None, None, None), slice(None, None, None), slice(tensor(5), None, 8), slice(None, None, None), slice(None, None, None), slice(None, None, None)]\u001b[0m\n",
       "[2025-06-06 12:44:37,418][\u001b[1;36mtensorcraft.mpi.distributions.multi_axis_dist\u001b[0m][\u001b[1;35mapply\u001b[0m][\u001b[1;32mDEBUG\u001b[0m] - R5/8:\u001b[1;32mLocal tensor shape: torch.Size([1, 2, 5, 1, 1, 2])\u001b[0m\n",
       "[2025-06-06 12:44:37,419][\u001b[1;36mtensorcraft.mpi.distributions.multi_axis_dist\u001b[0m][\u001b[1;35mapply\u001b[0m][\u001b[1;32mDEBUG\u001b[0m] - R5/8:\u001b[1;32mTarget local tensor shape: [2, 5, 2]\u001b[0m\n",
       "[2025-06-06 12:44:37,421][\u001b[1;36mtensorcraft.mpi.distributions.multi_axis_dist\u001b[0m][\u001b[1;35mapply\u001b[0m][\u001b[1;32mDEBUG\u001b[0m] - R5/8:\u001b[1;32mtensor([[[ 10,  11],\n",
       "         [ 26,  27],\n",
       "         [ 42,  43],\n",
       "         [ 58,  59],\n",
       "         [  0,   0]],\n",
       "\n",
       "        [[ 84,  85],\n",
       "         [100, 101],\n",
       "         [116, 117],\n",
       "         [132, 133],\n",
       "         [  0,   0]]])\u001b[0m\n",
       "[2025-06-06 12:44:37,432][\u001b[1;36mtensorcraft.mpi.distributions.multi_axis_dist\u001b[0m][\u001b[1;35mapply\u001b[0m][\u001b[1;32mDEBUG\u001b[0m] - R5/8:\u001b[1;32mLinear processor index: 5, Residue: 1, Block size: 1, axis: 1, N procs: 8, N full blocks: 37\u001b[0m\n",
       "[2025-06-06 12:44:37,434][\u001b[1;36mtensorcraft.mpi.distributions.multi_axis_dist\u001b[0m][\u001b[1;35mapply\u001b[0m][\u001b[1;32mDEBUG\u001b[0m] - R5/8:\u001b[1;32mShaved slices: [slice(None, None, None), slice(0, -1, None), slice(None, None, None)]\u001b[0m\n",
       "[2025-06-06 12:44:37,437][\u001b[1;36mtensorcraft.mpi.distributions.multi_axis_dist\u001b[0m][\u001b[1;35mapply\u001b[0m][\u001b[1;32mDEBUG\u001b[0m] - R5/8:\u001b[1;32mFinal local tensor shape: torch.Size([2, 4, 2])\u001b[0m\n"
      ]
     },
     "metadata": {},
     "output_type": "display_data"
    },
    {
     "data": {
      "text/plain": [
       "[stdout:6] [2025-06-06 12:44:37,409][\u001b[1;36mtensorcraft.mpi.distributions.multi_axis_dist\u001b[0m][\u001b[1;35mapply\u001b[0m][\u001b[1;32mDEBUG\u001b[0m] - R6/8:\u001b[1;32mProcessor multi index: torch.Size([1, 1, 0])\u001b[0m\n",
       "[2025-06-06 12:44:37,412][\u001b[1;36mtensorcraft.mpi.distributions.multi_axis_dist\u001b[0m][\u001b[1;35mapply\u001b[0m][\u001b[1;32mDEBUG\u001b[0m] - R6/8:\u001b[1;32mMissing elements: [0, 1, 0]\u001b[0m\n",
       "[2025-06-06 12:44:37,414][\u001b[1;36mtensorcraft.mpi.distributions.multi_axis_dist\u001b[0m][\u001b[1;35mapply\u001b[0m][\u001b[1;32mDEBUG\u001b[0m] - R6/8:\u001b[1;32mN blocks per axis: [1, 37, 1]\u001b[0m\n",
       "[2025-06-06 12:44:37,419][\u001b[1;36mtensorcraft.mpi.distributions.multi_axis_dist\u001b[0m][\u001b[1;35mapply\u001b[0m][\u001b[1;32mDEBUG\u001b[0m] - R6/8:\u001b[1;32mPadded tensor shape: torch.Size([2, 38, 2])\u001b[0m\n",
       "[2025-06-06 12:44:37,422][\u001b[1;36mtensorcraft.mpi.distributions.multi_axis_dist\u001b[0m][\u001b[1;35mapply\u001b[0m][\u001b[1;32mDEBUG\u001b[0m] - R6/8:\u001b[1;32mPermute tuple: (0, 2, 4, 1, 3, 5)\u001b[0m\n",
       "[2025-06-06 12:44:37,424][\u001b[1;36mtensorcraft.mpi.distributions.multi_axis_dist\u001b[0m][\u001b[1;35mapply\u001b[0m][\u001b[1;32mDEBUG\u001b[0m] - R6/8:\u001b[1;32mReshape tuple: [1, 2, 38, 1, 1, 2]\u001b[0m\n",
       "[2025-06-06 12:44:37,428][\u001b[1;36mtensorcraft.mpi.distributions.multi_axis_dist\u001b[0m][\u001b[1;35mapply\u001b[0m][\u001b[1;32mDEBUG\u001b[0m] - R6/8:\u001b[1;32mTile Slices: [slice(None, None, None), slice(None, None, None), slice(tensor(6), None, 8), slice(None, None, None), slice(None, None, None), slice(None, None, None)]\u001b[0m\n",
       "[2025-06-06 12:44:37,435][\u001b[1;36mtensorcraft.mpi.distributions.multi_axis_dist\u001b[0m][\u001b[1;35mapply\u001b[0m][\u001b[1;32mDEBUG\u001b[0m] - R6/8:\u001b[1;32mLocal tensor shape: torch.Size([1, 2, 4, 1, 1, 2])\u001b[0m\n",
       "[2025-06-06 12:44:37,436][\u001b[1;36mtensorcraft.mpi.distributions.multi_axis_dist\u001b[0m][\u001b[1;35mapply\u001b[0m][\u001b[1;32mDEBUG\u001b[0m] - R6/8:\u001b[1;32mTarget local tensor shape: [2, 4, 2]\u001b[0m\n",
       "[2025-06-06 12:44:37,439][\u001b[1;36mtensorcraft.mpi.distributions.multi_axis_dist\u001b[0m][\u001b[1;35mapply\u001b[0m][\u001b[1;32mDEBUG\u001b[0m] - R6/8:\u001b[1;32mtensor([[[ 12,  13],\n",
       "         [ 28,  29],\n",
       "         [ 44,  45],\n",
       "         [ 60,  61]],\n",
       "\n",
       "        [[ 86,  87],\n",
       "         [102, 103],\n",
       "         [118, 119],\n",
       "         [134, 135]]])\u001b[0m\n",
       "[2025-06-06 12:44:37,447][\u001b[1;36mtensorcraft.mpi.distributions.multi_axis_dist\u001b[0m][\u001b[1;35mapply\u001b[0m][\u001b[1;32mDEBUG\u001b[0m] - R6/8:\u001b[1;32mLinear processor index: 6, Residue: 1, Block size: 1, axis: 1, N procs: 8, N full blocks: 37\u001b[0m\n",
       "[2025-06-06 12:44:37,453][\u001b[1;36mtensorcraft.mpi.distributions.multi_axis_dist\u001b[0m][\u001b[1;35mapply\u001b[0m][\u001b[1;32mDEBUG\u001b[0m] - R6/8:\u001b[1;32mShaved slices: [slice(None, None, None), slice(None, None, None), slice(None, None, None)]\u001b[0m\n",
       "[2025-06-06 12:44:37,456][\u001b[1;36mtensorcraft.mpi.distributions.multi_axis_dist\u001b[0m][\u001b[1;35mapply\u001b[0m][\u001b[1;32mDEBUG\u001b[0m] - R6/8:\u001b[1;32mFinal local tensor shape: torch.Size([2, 4, 2])\u001b[0m\n"
      ]
     },
     "metadata": {},
     "output_type": "display_data"
    },
    {
     "data": {
      "text/plain": [
       "\u001b[0;31mOut[0:12]: \u001b[0mtensor(True)"
      ]
     },
     "metadata": {
      "after": [],
      "completed": "2025-06-06T10:44:37.417410Z",
      "data": {},
      "engine_id": 0,
      "engine_uuid": "cf0de197-d78702962b11bebb1a581e42",
      "error": null,
      "execute_input": "expected_local = new_dist.apply(x, rank)\ntorch.all(expected_local ==  new_local)\n# expected_local\n",
      "execute_result": {
       "data": {
        "text/plain": "tensor(True)"
       },
       "execution_count": 12,
       "metadata": {}
      },
      "follow": [],
      "is_broadcast": false,
      "is_coalescing": false,
      "msg_id": "11040ad5-31fc78109183db914f7861ca_65262_89",
      "outputs": [],
      "received": "2025-06-06T10:44:37.428315Z",
      "started": "2025-06-06T10:44:37.386733Z",
      "status": "ok",
      "stderr": "",
      "stdout": "[2025-06-06 12:44:37,393][\u001b[1;36mtensorcraft.mpi.distributions.multi_axis_dist\u001b[0m][\u001b[1;35mapply\u001b[0m][\u001b[1;32mDEBUG\u001b[0m] - R0/8:\u001b[1;32mProcessor multi index: torch.Size([0, 0, 0])\u001b[0m\n[2025-06-06 12:44:37,395][\u001b[1;36mtensorcraft.mpi.distributions.multi_axis_dist\u001b[0m][\u001b[1;35mapply\u001b[0m][\u001b[1;32mDEBUG\u001b[0m] - R0/8:\u001b[1;32mMissing elements: [0, 1, 0]\u001b[0m\n[2025-06-06 12:44:37,397][\u001b[1;36mtensorcraft.mpi.distributions.multi_axis_dist\u001b[0m][\u001b[1;35mapply\u001b[0m][\u001b[1;32mDEBUG\u001b[0m] - R0/8:\u001b[1;32mN blocks per axis: [1, 37, 1]\u001b[0m\n[2025-06-06 12:44:37,399][\u001b[1;36mtensorcraft.mpi.distributions.multi_axis_dist\u001b[0m][\u001b[1;35mapply\u001b[0m][\u001b[1;32mDEBUG\u001b[0m] - R0/8:\u001b[1;32mPadded tensor shape: torch.Size([2, 38, 2])\u001b[0m\n[2025-06-06 12:44:37,401][\u001b[1;36mtensorcraft.mpi.distributions.multi_axis_dist\u001b[0m][\u001b[1;35mapply\u001b[0m][\u001b[1;32mDEBUG\u001b[0m] - R0/8:\u001b[1;32mPermute tuple: (0, 2, 4, 1, 3, 5)\u001b[0m\n[2025-06-06 12:44:37,403][\u001b[1;36mtensorcraft.mpi.distributions.multi_axis_dist\u001b[0m][\u001b[1;35mapply\u001b[0m][\u001b[1;32mDEBUG\u001b[0m] - R0/8:\u001b[1;32mReshape tuple: [1, 2, 38, 1, 1, 2]\u001b[0m\n[2025-06-06 12:44:37,404][\u001b[1;36mtensorcraft.mpi.distributions.multi_axis_dist\u001b[0m][\u001b[1;35mapply\u001b[0m][\u001b[1;32mDEBUG\u001b[0m] - R0/8:\u001b[1;32mTile Slices: [slice(None, None, None), slice(None, None, None), slice(tensor(0), None, 8), slice(None, None, None), slice(None, None, None), slice(None, None, None)]\u001b[0m\n[2025-06-06 12:44:37,405][\u001b[1;36mtensorcraft.mpi.distributions.multi_axis_dist\u001b[0m][\u001b[1;35mapply\u001b[0m][\u001b[1;32mDEBUG\u001b[0m] - R0/8:\u001b[1;32mLocal tensor shape: torch.Size([1, 2, 5, 1, 1, 2])\u001b[0m\n[2025-06-06 12:44:37,406][\u001b[1;36mtensorcraft.mpi.distributions.multi_axis_dist\u001b[0m][\u001b[1;35mapply\u001b[0m][\u001b[1;32mDEBUG\u001b[0m] - R0/8:\u001b[1;32mTarget local tensor shape: [2, 5, 2]\u001b[0m\n[2025-06-06 12:44:37,406][\u001b[1;36mtensorcraft.mpi.distributions.multi_axis_dist\u001b[0m][\u001b[1;35mapply\u001b[0m][\u001b[1;32mDEBUG\u001b[0m] - R0/8:\u001b[1;32mtensor([[[  0,   1],\n         [ 16,  17],\n         [ 32,  33],\n         [ 48,  49],\n         [ 64,  65]],\n\n        [[ 74,  75],\n         [ 90,  91],\n         [106, 107],\n         [122, 123],\n         [138, 139]]])\u001b[0m\n[2025-06-06 12:44:37,410][\u001b[1;36mtensorcraft.mpi.distributions.multi_axis_dist\u001b[0m][\u001b[1;35mapply\u001b[0m][\u001b[1;32mDEBUG\u001b[0m] - R0/8:\u001b[1;32mLinear processor index: 0, Residue: 1, Block size: 1, axis: 1, N procs: 8, N full blocks: 37\u001b[0m\n[2025-06-06 12:44:37,411][\u001b[1;36mtensorcraft.mpi.distributions.multi_axis_dist\u001b[0m][\u001b[1;35mapply\u001b[0m][\u001b[1;32mDEBUG\u001b[0m] - R0/8:\u001b[1;32mShaved slices: [slice(None, None, None), slice(None, None, None), slice(None, None, None)]\u001b[0m\n[2025-06-06 12:44:37,411][\u001b[1;36mtensorcraft.mpi.distributions.multi_axis_dist\u001b[0m][\u001b[1;35mapply\u001b[0m][\u001b[1;32mDEBUG\u001b[0m] - R0/8:\u001b[1;32mFinal local tensor shape: torch.Size([2, 5, 2])\u001b[0m\n",
      "submitted": "2025-06-06T10:44:37.382297Z"
     },
     "output_type": "display_data"
    },
    {
     "data": {
      "text/plain": [
       "\u001b[0;31mOut[3:12]: \u001b[0mtensor(True)"
      ]
     },
     "metadata": {
      "after": [],
      "completed": "2025-06-06T10:44:37.423782Z",
      "data": {},
      "engine_id": 3,
      "engine_uuid": "6b4f81de-f6739d26d67f26d6896f5cf2",
      "error": null,
      "execute_input": "expected_local = new_dist.apply(x, rank)\ntorch.all(expected_local ==  new_local)\n# expected_local\n",
      "execute_result": {
       "data": {
        "text/plain": "tensor(True)"
       },
       "execution_count": 12,
       "metadata": {}
      },
      "follow": [],
      "is_broadcast": false,
      "is_coalescing": false,
      "msg_id": "11040ad5-31fc78109183db914f7861ca_65262_92",
      "outputs": [],
      "received": "2025-06-06T10:44:37.438966Z",
      "started": "2025-06-06T10:44:37.395611Z",
      "status": "ok",
      "stderr": "",
      "stdout": "[2025-06-06 12:44:37,403][\u001b[1;36mtensorcraft.mpi.distributions.multi_axis_dist\u001b[0m][\u001b[1;35mapply\u001b[0m][\u001b[1;32mDEBUG\u001b[0m] - R3/8:\u001b[1;32mProcessor multi index: torch.Size([0, 1, 1])\u001b[0m\n[2025-06-06 12:44:37,404][\u001b[1;36mtensorcraft.mpi.distributions.multi_axis_dist\u001b[0m][\u001b[1;35mapply\u001b[0m][\u001b[1;32mDEBUG\u001b[0m] - R3/8:\u001b[1;32mMissing elements: [0, 1, 0]\u001b[0m\n[2025-06-06 12:44:37,405][\u001b[1;36mtensorcraft.mpi.distributions.multi_axis_dist\u001b[0m][\u001b[1;35mapply\u001b[0m][\u001b[1;32mDEBUG\u001b[0m] - R3/8:\u001b[1;32mN blocks per axis: [1, 37, 1]\u001b[0m\n[2025-06-06 12:44:37,405][\u001b[1;36mtensorcraft.mpi.distributions.multi_axis_dist\u001b[0m][\u001b[1;35mapply\u001b[0m][\u001b[1;32mDEBUG\u001b[0m] - R3/8:\u001b[1;32mPadded tensor shape: torch.Size([2, 38, 2])\u001b[0m\n[2025-06-06 12:44:37,407][\u001b[1;36mtensorcraft.mpi.distributions.multi_axis_dist\u001b[0m][\u001b[1;35mapply\u001b[0m][\u001b[1;32mDEBUG\u001b[0m] - R3/8:\u001b[1;32mPermute tuple: (0, 2, 4, 1, 3, 5)\u001b[0m\n[2025-06-06 12:44:37,409][\u001b[1;36mtensorcraft.mpi.distributions.multi_axis_dist\u001b[0m][\u001b[1;35mapply\u001b[0m][\u001b[1;32mDEBUG\u001b[0m] - R3/8:\u001b[1;32mReshape tuple: [1, 2, 38, 1, 1, 2]\u001b[0m\n[2025-06-06 12:44:37,410][\u001b[1;36mtensorcraft.mpi.distributions.multi_axis_dist\u001b[0m][\u001b[1;35mapply\u001b[0m][\u001b[1;32mDEBUG\u001b[0m] - R3/8:\u001b[1;32mTile Slices: [slice(None, None, None), slice(None, None, None), slice(tensor(3), None, 8), slice(None, None, None), slice(None, None, None), slice(None, None, None)]\u001b[0m\n[2025-06-06 12:44:37,411][\u001b[1;36mtensorcraft.mpi.distributions.multi_axis_dist\u001b[0m][\u001b[1;35mapply\u001b[0m][\u001b[1;32mDEBUG\u001b[0m] - R3/8:\u001b[1;32mLocal tensor shape: torch.Size([1, 2, 5, 1, 1, 2])\u001b[0m\n[2025-06-06 12:44:37,411][\u001b[1;36mtensorcraft.mpi.distributions.multi_axis_dist\u001b[0m][\u001b[1;35mapply\u001b[0m][\u001b[1;32mDEBUG\u001b[0m] - R3/8:\u001b[1;32mTarget local tensor shape: [2, 5, 2]\u001b[0m\n[2025-06-06 12:44:37,412][\u001b[1;36mtensorcraft.mpi.distributions.multi_axis_dist\u001b[0m][\u001b[1;35mapply\u001b[0m][\u001b[1;32mDEBUG\u001b[0m] - R3/8:\u001b[1;32mtensor([[[  6,   7],\n         [ 22,  23],\n         [ 38,  39],\n         [ 54,  55],\n         [ 70,  71]],\n\n        [[ 80,  81],\n         [ 96,  97],\n         [112, 113],\n         [128, 129],\n         [144, 145]]])\u001b[0m\n[2025-06-06 12:44:37,416][\u001b[1;36mtensorcraft.mpi.distributions.multi_axis_dist\u001b[0m][\u001b[1;35mapply\u001b[0m][\u001b[1;32mDEBUG\u001b[0m] - R3/8:\u001b[1;32mLinear processor index: 3, Residue: 1, Block size: 1, axis: 1, N procs: 8, N full blocks: 37\u001b[0m\n[2025-06-06 12:44:37,417][\u001b[1;36mtensorcraft.mpi.distributions.multi_axis_dist\u001b[0m][\u001b[1;35mapply\u001b[0m][\u001b[1;32mDEBUG\u001b[0m] - R3/8:\u001b[1;32mShaved slices: [slice(None, None, None), slice(None, None, None), slice(None, None, None)]\u001b[0m\n[2025-06-06 12:44:37,418][\u001b[1;36mtensorcraft.mpi.distributions.multi_axis_dist\u001b[0m][\u001b[1;35mapply\u001b[0m][\u001b[1;32mDEBUG\u001b[0m] - R3/8:\u001b[1;32mFinal local tensor shape: torch.Size([2, 5, 2])\u001b[0m\n",
      "submitted": "2025-06-06T10:44:37.384136Z"
     },
     "output_type": "display_data"
    },
    {
     "data": {
      "text/plain": [
       "\u001b[0;31mOut[1:12]: \u001b[0mtensor(True)"
      ]
     },
     "metadata": {
      "after": [],
      "completed": "2025-06-06T10:44:37.428464Z",
      "data": {},
      "engine_id": 1,
      "engine_uuid": "87907076-3c557fab3fff7b04ce9d861e",
      "error": null,
      "execute_input": "expected_local = new_dist.apply(x, rank)\ntorch.all(expected_local ==  new_local)\n# expected_local\n",
      "execute_result": {
       "data": {
        "text/plain": "tensor(True)"
       },
       "execution_count": 12,
       "metadata": {}
      },
      "follow": [],
      "is_broadcast": false,
      "is_coalescing": false,
      "msg_id": "11040ad5-31fc78109183db914f7861ca_65262_90",
      "outputs": [],
      "received": "2025-06-06T10:44:37.443792Z",
      "started": "2025-06-06T10:44:37.390507Z",
      "status": "ok",
      "stderr": "",
      "stdout": "[2025-06-06 12:44:37,394][\u001b[1;36mtensorcraft.mpi.distributions.multi_axis_dist\u001b[0m][\u001b[1;35mapply\u001b[0m][\u001b[1;32mDEBUG\u001b[0m] - R1/8:\u001b[1;32mProcessor multi index: torch.Size([0, 0, 1])\u001b[0m\n[2025-06-06 12:44:37,398][\u001b[1;36mtensorcraft.mpi.distributions.multi_axis_dist\u001b[0m][\u001b[1;35mapply\u001b[0m][\u001b[1;32mDEBUG\u001b[0m] - R1/8:\u001b[1;32mMissing elements: [0, 1, 0]\u001b[0m\n[2025-06-06 12:44:37,402][\u001b[1;36mtensorcraft.mpi.distributions.multi_axis_dist\u001b[0m][\u001b[1;35mapply\u001b[0m][\u001b[1;32mDEBUG\u001b[0m] - R1/8:\u001b[1;32mN blocks per axis: [1, 37, 1]\u001b[0m\n[2025-06-06 12:44:37,404][\u001b[1;36mtensorcraft.mpi.distributions.multi_axis_dist\u001b[0m][\u001b[1;35mapply\u001b[0m][\u001b[1;32mDEBUG\u001b[0m] - R1/8:\u001b[1;32mPadded tensor shape: torch.Size([2, 38, 2])\u001b[0m\n[2025-06-06 12:44:37,406][\u001b[1;36mtensorcraft.mpi.distributions.multi_axis_dist\u001b[0m][\u001b[1;35mapply\u001b[0m][\u001b[1;32mDEBUG\u001b[0m] - R1/8:\u001b[1;32mPermute tuple: (0, 2, 4, 1, 3, 5)\u001b[0m\n[2025-06-06 12:44:37,406][\u001b[1;36mtensorcraft.mpi.distributions.multi_axis_dist\u001b[0m][\u001b[1;35mapply\u001b[0m][\u001b[1;32mDEBUG\u001b[0m] - R1/8:\u001b[1;32mReshape tuple: [1, 2, 38, 1, 1, 2]\u001b[0m\n[2025-06-06 12:44:37,408][\u001b[1;36mtensorcraft.mpi.distributions.multi_axis_dist\u001b[0m][\u001b[1;35mapply\u001b[0m][\u001b[1;32mDEBUG\u001b[0m] - R1/8:\u001b[1;32mTile Slices: [slice(None, None, None), slice(None, None, None), slice(tensor(1), None, 8), slice(None, None, None), slice(None, None, None), slice(None, None, None)]\u001b[0m\n[2025-06-06 12:44:37,409][\u001b[1;36mtensorcraft.mpi.distributions.multi_axis_dist\u001b[0m][\u001b[1;35mapply\u001b[0m][\u001b[1;32mDEBUG\u001b[0m] - R1/8:\u001b[1;32mLocal tensor shape: torch.Size([1, 2, 5, 1, 1, 2])\u001b[0m\n[2025-06-06 12:44:37,410][\u001b[1;36mtensorcraft.mpi.distributions.multi_axis_dist\u001b[0m][\u001b[1;35mapply\u001b[0m][\u001b[1;32mDEBUG\u001b[0m] - R1/8:\u001b[1;32mTarget local tensor shape: [2, 5, 2]\u001b[0m\n[2025-06-06 12:44:37,411][\u001b[1;36mtensorcraft.mpi.distributions.multi_axis_dist\u001b[0m][\u001b[1;35mapply\u001b[0m][\u001b[1;32mDEBUG\u001b[0m] - R1/8:\u001b[1;32mtensor([[[  2,   3],\n         [ 18,  19],\n         [ 34,  35],\n         [ 50,  51],\n         [ 66,  67]],\n\n        [[ 76,  77],\n         [ 92,  93],\n         [108, 109],\n         [124, 125],\n         [140, 141]]])\u001b[0m\n[2025-06-06 12:44:37,415][\u001b[1;36mtensorcraft.mpi.distributions.multi_axis_dist\u001b[0m][\u001b[1;35mapply\u001b[0m][\u001b[1;32mDEBUG\u001b[0m] - R1/8:\u001b[1;32mLinear processor index: 1, Residue: 1, Block size: 1, axis: 1, N procs: 8, N full blocks: 37\u001b[0m\n[2025-06-06 12:44:37,416][\u001b[1;36mtensorcraft.mpi.distributions.multi_axis_dist\u001b[0m][\u001b[1;35mapply\u001b[0m][\u001b[1;32mDEBUG\u001b[0m] - R1/8:\u001b[1;32mShaved slices: [slice(None, None, None), slice(None, None, None), slice(None, None, None)]\u001b[0m\n[2025-06-06 12:44:37,417][\u001b[1;36mtensorcraft.mpi.distributions.multi_axis_dist\u001b[0m][\u001b[1;35mapply\u001b[0m][\u001b[1;32mDEBUG\u001b[0m] - R1/8:\u001b[1;32mFinal local tensor shape: torch.Size([2, 5, 2])\u001b[0m\n",
      "submitted": "2025-06-06T10:44:37.383687Z"
     },
     "output_type": "display_data"
    },
    {
     "data": {
      "text/plain": [
       "\u001b[0;31mOut[2:12]: \u001b[0mtensor(True)"
      ]
     },
     "metadata": {
      "after": [],
      "completed": "2025-06-06T10:44:37.438011Z",
      "data": {},
      "engine_id": 2,
      "engine_uuid": "1a208445-40119a9cc59eb8f38352114b",
      "error": null,
      "execute_input": "expected_local = new_dist.apply(x, rank)\ntorch.all(expected_local ==  new_local)\n# expected_local\n",
      "execute_result": {
       "data": {
        "text/plain": "tensor(True)"
       },
       "execution_count": 12,
       "metadata": {}
      },
      "follow": [],
      "is_broadcast": false,
      "is_coalescing": false,
      "msg_id": "11040ad5-31fc78109183db914f7861ca_65262_91",
      "outputs": [],
      "received": "2025-06-06T10:44:37.450318Z",
      "started": "2025-06-06T10:44:37.393166Z",
      "status": "ok",
      "stderr": "",
      "stdout": "[2025-06-06 12:44:37,395][\u001b[1;36mtensorcraft.mpi.distributions.multi_axis_dist\u001b[0m][\u001b[1;35mapply\u001b[0m][\u001b[1;32mDEBUG\u001b[0m] - R2/8:\u001b[1;32mProcessor multi index: torch.Size([0, 1, 0])\u001b[0m\n[2025-06-06 12:44:37,397][\u001b[1;36mtensorcraft.mpi.distributions.multi_axis_dist\u001b[0m][\u001b[1;35mapply\u001b[0m][\u001b[1;32mDEBUG\u001b[0m] - R2/8:\u001b[1;32mMissing elements: [0, 1, 0]\u001b[0m\n[2025-06-06 12:44:37,398][\u001b[1;36mtensorcraft.mpi.distributions.multi_axis_dist\u001b[0m][\u001b[1;35mapply\u001b[0m][\u001b[1;32mDEBUG\u001b[0m] - R2/8:\u001b[1;32mN blocks per axis: [1, 37, 1]\u001b[0m\n[2025-06-06 12:44:37,399][\u001b[1;36mtensorcraft.mpi.distributions.multi_axis_dist\u001b[0m][\u001b[1;35mapply\u001b[0m][\u001b[1;32mDEBUG\u001b[0m] - R2/8:\u001b[1;32mPadded tensor shape: torch.Size([2, 38, 2])\u001b[0m\n[2025-06-06 12:44:37,401][\u001b[1;36mtensorcraft.mpi.distributions.multi_axis_dist\u001b[0m][\u001b[1;35mapply\u001b[0m][\u001b[1;32mDEBUG\u001b[0m] - R2/8:\u001b[1;32mPermute tuple: (0, 2, 4, 1, 3, 5)\u001b[0m\n[2025-06-06 12:44:37,402][\u001b[1;36mtensorcraft.mpi.distributions.multi_axis_dist\u001b[0m][\u001b[1;35mapply\u001b[0m][\u001b[1;32mDEBUG\u001b[0m] - R2/8:\u001b[1;32mReshape tuple: [1, 2, 38, 1, 1, 2]\u001b[0m\n[2025-06-06 12:44:37,403][\u001b[1;36mtensorcraft.mpi.distributions.multi_axis_dist\u001b[0m][\u001b[1;35mapply\u001b[0m][\u001b[1;32mDEBUG\u001b[0m] - R2/8:\u001b[1;32mTile Slices: [slice(None, None, None), slice(None, None, None), slice(tensor(2), None, 8), slice(None, None, None), slice(None, None, None), slice(None, None, None)]\u001b[0m\n[2025-06-06 12:44:37,406][\u001b[1;36mtensorcraft.mpi.distributions.multi_axis_dist\u001b[0m][\u001b[1;35mapply\u001b[0m][\u001b[1;32mDEBUG\u001b[0m] - R2/8:\u001b[1;32mLocal tensor shape: torch.Size([1, 2, 5, 1, 1, 2])\u001b[0m\n[2025-06-06 12:44:37,412][\u001b[1;36mtensorcraft.mpi.distributions.multi_axis_dist\u001b[0m][\u001b[1;35mapply\u001b[0m][\u001b[1;32mDEBUG\u001b[0m] - R2/8:\u001b[1;32mTarget local tensor shape: [2, 5, 2]\u001b[0m\n[2025-06-06 12:44:37,414][\u001b[1;36mtensorcraft.mpi.distributions.multi_axis_dist\u001b[0m][\u001b[1;35mapply\u001b[0m][\u001b[1;32mDEBUG\u001b[0m] - R2/8:\u001b[1;32mtensor([[[  4,   5],\n         [ 20,  21],\n         [ 36,  37],\n         [ 52,  53],\n         [ 68,  69]],\n\n        [[ 78,  79],\n         [ 94,  95],\n         [110, 111],\n         [126, 127],\n         [142, 143]]])\u001b[0m\n[2025-06-06 12:44:37,419][\u001b[1;36mtensorcraft.mpi.distributions.multi_axis_dist\u001b[0m][\u001b[1;35mapply\u001b[0m][\u001b[1;32mDEBUG\u001b[0m] - R2/8:\u001b[1;32mLinear processor index: 2, Residue: 1, Block size: 1, axis: 1, N procs: 8, N full blocks: 37\u001b[0m\n[2025-06-06 12:44:37,424][\u001b[1;36mtensorcraft.mpi.distributions.multi_axis_dist\u001b[0m][\u001b[1;35mapply\u001b[0m][\u001b[1;32mDEBUG\u001b[0m] - R2/8:\u001b[1;32mShaved slices: [slice(None, None, None), slice(None, None, None), slice(None, None, None)]\u001b[0m\n[2025-06-06 12:44:37,429][\u001b[1;36mtensorcraft.mpi.distributions.multi_axis_dist\u001b[0m][\u001b[1;35mapply\u001b[0m][\u001b[1;32mDEBUG\u001b[0m] - R2/8:\u001b[1;32mFinal local tensor shape: torch.Size([2, 5, 2])\u001b[0m\n",
      "submitted": "2025-06-06T10:44:37.383954Z"
     },
     "output_type": "display_data"
    },
    {
     "data": {
      "text/plain": [
       "\u001b[0;31mOut[4:12]: \u001b[0mtensor(True)"
      ]
     },
     "metadata": {
      "after": [],
      "completed": "2025-06-06T10:44:37.447731Z",
      "data": {},
      "engine_id": 4,
      "engine_uuid": "30b640a7-0fa75b73272eee52ef428f03",
      "error": null,
      "execute_input": "expected_local = new_dist.apply(x, rank)\ntorch.all(expected_local ==  new_local)\n# expected_local\n",
      "execute_result": {
       "data": {
        "text/plain": "tensor(True)"
       },
       "execution_count": 12,
       "metadata": {}
      },
      "follow": [],
      "is_broadcast": false,
      "is_coalescing": false,
      "msg_id": "11040ad5-31fc78109183db914f7861ca_65262_93",
      "outputs": [],
      "received": "2025-06-06T10:44:37.461052Z",
      "started": "2025-06-06T10:44:37.400293Z",
      "status": "ok",
      "stderr": "",
      "stdout": "[2025-06-06 12:44:37,404][\u001b[1;36mtensorcraft.mpi.distributions.multi_axis_dist\u001b[0m][\u001b[1;35mapply\u001b[0m][\u001b[1;32mDEBUG\u001b[0m] - R4/8:\u001b[1;32mProcessor multi index: torch.Size([1, 0, 0])\u001b[0m\n[2025-06-06 12:44:37,406][\u001b[1;36mtensorcraft.mpi.distributions.multi_axis_dist\u001b[0m][\u001b[1;35mapply\u001b[0m][\u001b[1;32mDEBUG\u001b[0m] - R4/8:\u001b[1;32mMissing elements: [0, 1, 0]\u001b[0m\n[2025-06-06 12:44:37,407][\u001b[1;36mtensorcraft.mpi.distributions.multi_axis_dist\u001b[0m][\u001b[1;35mapply\u001b[0m][\u001b[1;32mDEBUG\u001b[0m] - R4/8:\u001b[1;32mN blocks per axis: [1, 37, 1]\u001b[0m\n[2025-06-06 12:44:37,408][\u001b[1;36mtensorcraft.mpi.distributions.multi_axis_dist\u001b[0m][\u001b[1;35mapply\u001b[0m][\u001b[1;32mDEBUG\u001b[0m] - R4/8:\u001b[1;32mPadded tensor shape: torch.Size([2, 38, 2])\u001b[0m\n[2025-06-06 12:44:37,411][\u001b[1;36mtensorcraft.mpi.distributions.multi_axis_dist\u001b[0m][\u001b[1;35mapply\u001b[0m][\u001b[1;32mDEBUG\u001b[0m] - R4/8:\u001b[1;32mPermute tuple: (0, 2, 4, 1, 3, 5)\u001b[0m\n[2025-06-06 12:44:37,413][\u001b[1;36mtensorcraft.mpi.distributions.multi_axis_dist\u001b[0m][\u001b[1;35mapply\u001b[0m][\u001b[1;32mDEBUG\u001b[0m] - R4/8:\u001b[1;32mReshape tuple: [1, 2, 38, 1, 1, 2]\u001b[0m\n[2025-06-06 12:44:37,414][\u001b[1;36mtensorcraft.mpi.distributions.multi_axis_dist\u001b[0m][\u001b[1;35mapply\u001b[0m][\u001b[1;32mDEBUG\u001b[0m] - R4/8:\u001b[1;32mTile Slices: [slice(None, None, None), slice(None, None, None), slice(tensor(4), None, 8), slice(None, None, None), slice(None, None, None), slice(None, None, None)]\u001b[0m\n[2025-06-06 12:44:37,416][\u001b[1;36mtensorcraft.mpi.distributions.multi_axis_dist\u001b[0m][\u001b[1;35mapply\u001b[0m][\u001b[1;32mDEBUG\u001b[0m] - R4/8:\u001b[1;32mLocal tensor shape: torch.Size([1, 2, 5, 1, 1, 2])\u001b[0m\n[2025-06-06 12:44:37,416][\u001b[1;36mtensorcraft.mpi.distributions.multi_axis_dist\u001b[0m][\u001b[1;35mapply\u001b[0m][\u001b[1;32mDEBUG\u001b[0m] - R4/8:\u001b[1;32mTarget local tensor shape: [2, 5, 2]\u001b[0m\n[2025-06-06 12:44:37,417][\u001b[1;36mtensorcraft.mpi.distributions.multi_axis_dist\u001b[0m][\u001b[1;35mapply\u001b[0m][\u001b[1;32mDEBUG\u001b[0m] - R4/8:\u001b[1;32mtensor([[[  8,   9],\n         [ 24,  25],\n         [ 40,  41],\n         [ 56,  57],\n         [ 72,  73]],\n\n        [[ 82,  83],\n         [ 98,  99],\n         [114, 115],\n         [130, 131],\n         [146, 147]]])\u001b[0m\n[2025-06-06 12:44:37,429][\u001b[1;36mtensorcraft.mpi.distributions.multi_axis_dist\u001b[0m][\u001b[1;35mapply\u001b[0m][\u001b[1;32mDEBUG\u001b[0m] - R4/8:\u001b[1;32mLinear processor index: 4, Residue: 1, Block size: 1, axis: 1, N procs: 8, N full blocks: 37\u001b[0m\n[2025-06-06 12:44:37,430][\u001b[1;36mtensorcraft.mpi.distributions.multi_axis_dist\u001b[0m][\u001b[1;35mapply\u001b[0m][\u001b[1;32mDEBUG\u001b[0m] - R4/8:\u001b[1;32mShaved slices: [slice(None, None, None), slice(None, None, None), slice(None, None, None)]\u001b[0m\n[2025-06-06 12:44:37,431][\u001b[1;36mtensorcraft.mpi.distributions.multi_axis_dist\u001b[0m][\u001b[1;35mapply\u001b[0m][\u001b[1;32mDEBUG\u001b[0m] - R4/8:\u001b[1;32mFinal local tensor shape: torch.Size([2, 5, 2])\u001b[0m\n",
      "submitted": "2025-06-06T10:44:37.384304Z"
     },
     "output_type": "display_data"
    },
    {
     "data": {
      "text/plain": [
       "\u001b[0;31mOut[7:12]: \u001b[0mtensor(True)"
      ]
     },
     "metadata": {
      "after": [],
      "completed": "2025-06-06T10:44:37.446558Z",
      "data": {},
      "engine_id": 7,
      "engine_uuid": "344590ce-409237efd15aa2e8c4011210",
      "error": null,
      "execute_input": "expected_local = new_dist.apply(x, rank)\ntorch.all(expected_local ==  new_local)\n# expected_local\n",
      "execute_result": {
       "data": {
        "text/plain": "tensor(True)"
       },
       "execution_count": 12,
       "metadata": {}
      },
      "follow": [],
      "is_broadcast": false,
      "is_coalescing": false,
      "msg_id": "11040ad5-31fc78109183db914f7861ca_65262_96",
      "outputs": [],
      "received": "2025-06-06T10:44:37.454116Z",
      "started": "2025-06-06T10:44:37.399440Z",
      "status": "ok",
      "stderr": "",
      "stdout": "[2025-06-06 12:44:37,403][\u001b[1;36mtensorcraft.mpi.distributions.multi_axis_dist\u001b[0m][\u001b[1;35mapply\u001b[0m][\u001b[1;32mDEBUG\u001b[0m] - R7/8:\u001b[1;32mProcessor multi index: torch.Size([1, 1, 1])\u001b[0m\n[2025-06-06 12:44:37,408][\u001b[1;36mtensorcraft.mpi.distributions.multi_axis_dist\u001b[0m][\u001b[1;35mapply\u001b[0m][\u001b[1;32mDEBUG\u001b[0m] - R7/8:\u001b[1;32mMissing elements: [0, 1, 0]\u001b[0m\n[2025-06-06 12:44:37,409][\u001b[1;36mtensorcraft.mpi.distributions.multi_axis_dist\u001b[0m][\u001b[1;35mapply\u001b[0m][\u001b[1;32mDEBUG\u001b[0m] - R7/8:\u001b[1;32mN blocks per axis: [1, 37, 1]\u001b[0m\n[2025-06-06 12:44:37,409][\u001b[1;36mtensorcraft.mpi.distributions.multi_axis_dist\u001b[0m][\u001b[1;35mapply\u001b[0m][\u001b[1;32mDEBUG\u001b[0m] - R7/8:\u001b[1;32mPadded tensor shape: torch.Size([2, 38, 2])\u001b[0m\n[2025-06-06 12:44:37,411][\u001b[1;36mtensorcraft.mpi.distributions.multi_axis_dist\u001b[0m][\u001b[1;35mapply\u001b[0m][\u001b[1;32mDEBUG\u001b[0m] - R7/8:\u001b[1;32mPermute tuple: (0, 2, 4, 1, 3, 5)\u001b[0m\n[2025-06-06 12:44:37,418][\u001b[1;36mtensorcraft.mpi.distributions.multi_axis_dist\u001b[0m][\u001b[1;35mapply\u001b[0m][\u001b[1;32mDEBUG\u001b[0m] - R7/8:\u001b[1;32mReshape tuple: [1, 2, 38, 1, 1, 2]\u001b[0m\n[2025-06-06 12:44:37,419][\u001b[1;36mtensorcraft.mpi.distributions.multi_axis_dist\u001b[0m][\u001b[1;35mapply\u001b[0m][\u001b[1;32mDEBUG\u001b[0m] - R7/8:\u001b[1;32mTile Slices: [slice(None, None, None), slice(None, None, None), slice(tensor(7), None, 8), slice(None, None, None), slice(None, None, None), slice(None, None, None)]\u001b[0m\n[2025-06-06 12:44:37,420][\u001b[1;36mtensorcraft.mpi.distributions.multi_axis_dist\u001b[0m][\u001b[1;35mapply\u001b[0m][\u001b[1;32mDEBUG\u001b[0m] - R7/8:\u001b[1;32mLocal tensor shape: torch.Size([1, 2, 4, 1, 1, 2])\u001b[0m\n[2025-06-06 12:44:37,421][\u001b[1;36mtensorcraft.mpi.distributions.multi_axis_dist\u001b[0m][\u001b[1;35mapply\u001b[0m][\u001b[1;32mDEBUG\u001b[0m] - R7/8:\u001b[1;32mTarget local tensor shape: [2, 4, 2]\u001b[0m\n[2025-06-06 12:44:37,422][\u001b[1;36mtensorcraft.mpi.distributions.multi_axis_dist\u001b[0m][\u001b[1;35mapply\u001b[0m][\u001b[1;32mDEBUG\u001b[0m] - R7/8:\u001b[1;32mtensor([[[ 14,  15],\n         [ 30,  31],\n         [ 46,  47],\n         [ 62,  63]],\n\n        [[ 88,  89],\n         [104, 105],\n         [120, 121],\n         [136, 137]]])\u001b[0m\n[2025-06-06 12:44:37,428][\u001b[1;36mtensorcraft.mpi.distributions.multi_axis_dist\u001b[0m][\u001b[1;35mapply\u001b[0m][\u001b[1;32mDEBUG\u001b[0m] - R7/8:\u001b[1;32mLinear processor index: 7, Residue: 1, Block size: 1, axis: 1, N procs: 8, N full blocks: 37\u001b[0m\n[2025-06-06 12:44:37,433][\u001b[1;36mtensorcraft.mpi.distributions.multi_axis_dist\u001b[0m][\u001b[1;35mapply\u001b[0m][\u001b[1;32mDEBUG\u001b[0m] - R7/8:\u001b[1;32mShaved slices: [slice(None, None, None), slice(None, None, None), slice(None, None, None)]\u001b[0m\n[2025-06-06 12:44:37,438][\u001b[1;36mtensorcraft.mpi.distributions.multi_axis_dist\u001b[0m][\u001b[1;35mapply\u001b[0m][\u001b[1;32mDEBUG\u001b[0m] - R7/8:\u001b[1;32mFinal local tensor shape: torch.Size([2, 4, 2])\u001b[0m\n",
      "submitted": "2025-06-06T10:44:37.387140Z"
     },
     "output_type": "display_data"
    },
    {
     "data": {
      "text/plain": [
       "\u001b[0;31mOut[5:12]: \u001b[0mtensor(True)"
      ]
     },
     "metadata": {
      "after": [],
      "completed": "2025-06-06T10:44:37.452150Z",
      "data": {},
      "engine_id": 5,
      "engine_uuid": "f13c0ee5-8b80edc32630649259c05709",
      "error": null,
      "execute_input": "expected_local = new_dist.apply(x, rank)\ntorch.all(expected_local ==  new_local)\n# expected_local\n",
      "execute_result": {
       "data": {
        "text/plain": "tensor(True)"
       },
       "execution_count": 12,
       "metadata": {}
      },
      "follow": [],
      "is_broadcast": false,
      "is_coalescing": false,
      "msg_id": "11040ad5-31fc78109183db914f7861ca_65262_94",
      "outputs": [],
      "received": "2025-06-06T10:44:37.467870Z",
      "started": "2025-06-06T10:44:37.400412Z",
      "status": "ok",
      "stderr": "",
      "stdout": "[2025-06-06 12:44:37,404][\u001b[1;36mtensorcraft.mpi.distributions.multi_axis_dist\u001b[0m][\u001b[1;35mapply\u001b[0m][\u001b[1;32mDEBUG\u001b[0m] - R5/8:\u001b[1;32mProcessor multi index: torch.Size([1, 0, 1])\u001b[0m\n[2025-06-06 12:44:37,406][\u001b[1;36mtensorcraft.mpi.distributions.multi_axis_dist\u001b[0m][\u001b[1;35mapply\u001b[0m][\u001b[1;32mDEBUG\u001b[0m] - R5/8:\u001b[1;32mMissing elements: [0, 1, 0]\u001b[0m\n[2025-06-06 12:44:37,407][\u001b[1;36mtensorcraft.mpi.distributions.multi_axis_dist\u001b[0m][\u001b[1;35mapply\u001b[0m][\u001b[1;32mDEBUG\u001b[0m] - R5/8:\u001b[1;32mN blocks per axis: [1, 37, 1]\u001b[0m\n[2025-06-06 12:44:37,409][\u001b[1;36mtensorcraft.mpi.distributions.multi_axis_dist\u001b[0m][\u001b[1;35mapply\u001b[0m][\u001b[1;32mDEBUG\u001b[0m] - R5/8:\u001b[1;32mPadded tensor shape: torch.Size([2, 38, 2])\u001b[0m\n[2025-06-06 12:44:37,411][\u001b[1;36mtensorcraft.mpi.distributions.multi_axis_dist\u001b[0m][\u001b[1;35mapply\u001b[0m][\u001b[1;32mDEBUG\u001b[0m] - R5/8:\u001b[1;32mPermute tuple: (0, 2, 4, 1, 3, 5)\u001b[0m\n[2025-06-06 12:44:37,415][\u001b[1;36mtensorcraft.mpi.distributions.multi_axis_dist\u001b[0m][\u001b[1;35mapply\u001b[0m][\u001b[1;32mDEBUG\u001b[0m] - R5/8:\u001b[1;32mReshape tuple: [1, 2, 38, 1, 1, 2]\u001b[0m\n[2025-06-06 12:44:37,417][\u001b[1;36mtensorcraft.mpi.distributions.multi_axis_dist\u001b[0m][\u001b[1;35mapply\u001b[0m][\u001b[1;32mDEBUG\u001b[0m] - R5/8:\u001b[1;32mTile Slices: [slice(None, None, None), slice(None, None, None), slice(tensor(5), None, 8), slice(None, None, None), slice(None, None, None), slice(None, None, None)]\u001b[0m\n[2025-06-06 12:44:37,418][\u001b[1;36mtensorcraft.mpi.distributions.multi_axis_dist\u001b[0m][\u001b[1;35mapply\u001b[0m][\u001b[1;32mDEBUG\u001b[0m] - R5/8:\u001b[1;32mLocal tensor shape: torch.Size([1, 2, 5, 1, 1, 2])\u001b[0m\n[2025-06-06 12:44:37,419][\u001b[1;36mtensorcraft.mpi.distributions.multi_axis_dist\u001b[0m][\u001b[1;35mapply\u001b[0m][\u001b[1;32mDEBUG\u001b[0m] - R5/8:\u001b[1;32mTarget local tensor shape: [2, 5, 2]\u001b[0m\n[2025-06-06 12:44:37,421][\u001b[1;36mtensorcraft.mpi.distributions.multi_axis_dist\u001b[0m][\u001b[1;35mapply\u001b[0m][\u001b[1;32mDEBUG\u001b[0m] - R5/8:\u001b[1;32mtensor([[[ 10,  11],\n         [ 26,  27],\n         [ 42,  43],\n         [ 58,  59],\n         [  0,   0]],\n\n        [[ 84,  85],\n         [100, 101],\n         [116, 117],\n         [132, 133],\n         [  0,   0]]])\u001b[0m\n[2025-06-06 12:44:37,432][\u001b[1;36mtensorcraft.mpi.distributions.multi_axis_dist\u001b[0m][\u001b[1;35mapply\u001b[0m][\u001b[1;32mDEBUG\u001b[0m] - R5/8:\u001b[1;32mLinear processor index: 5, Residue: 1, Block size: 1, axis: 1, N procs: 8, N full blocks: 37\u001b[0m\n[2025-06-06 12:44:37,434][\u001b[1;36mtensorcraft.mpi.distributions.multi_axis_dist\u001b[0m][\u001b[1;35mapply\u001b[0m][\u001b[1;32mDEBUG\u001b[0m] - R5/8:\u001b[1;32mShaved slices: [slice(None, None, None), slice(0, -1, None), slice(None, None, None)]\u001b[0m\n[2025-06-06 12:44:37,437][\u001b[1;36mtensorcraft.mpi.distributions.multi_axis_dist\u001b[0m][\u001b[1;35mapply\u001b[0m][\u001b[1;32mDEBUG\u001b[0m] - R5/8:\u001b[1;32mFinal local tensor shape: torch.Size([2, 4, 2])\u001b[0m\n",
      "submitted": "2025-06-06T10:44:37.384800Z"
     },
     "output_type": "display_data"
    },
    {
     "data": {
      "text/plain": [
       "\u001b[0;31mOut[6:12]: \u001b[0mtensor(True)"
      ]
     },
     "metadata": {
      "after": [],
      "completed": "2025-06-06T10:44:37.464513Z",
      "data": {},
      "engine_id": 6,
      "engine_uuid": "1e62f921-75f0b9b0731aee3a9d329649",
      "error": null,
      "execute_input": "expected_local = new_dist.apply(x, rank)\ntorch.all(expected_local ==  new_local)\n# expected_local\n",
      "execute_result": {
       "data": {
        "text/plain": "tensor(True)"
       },
       "execution_count": 12,
       "metadata": {}
      },
      "follow": [],
      "is_broadcast": false,
      "is_coalescing": false,
      "msg_id": "11040ad5-31fc78109183db914f7861ca_65262_95",
      "outputs": [],
      "received": "2025-06-06T10:44:37.468990Z",
      "started": "2025-06-06T10:44:37.407000Z",
      "status": "ok",
      "stderr": "",
      "stdout": "[2025-06-06 12:44:37,409][\u001b[1;36mtensorcraft.mpi.distributions.multi_axis_dist\u001b[0m][\u001b[1;35mapply\u001b[0m][\u001b[1;32mDEBUG\u001b[0m] - R6/8:\u001b[1;32mProcessor multi index: torch.Size([1, 1, 0])\u001b[0m\n[2025-06-06 12:44:37,412][\u001b[1;36mtensorcraft.mpi.distributions.multi_axis_dist\u001b[0m][\u001b[1;35mapply\u001b[0m][\u001b[1;32mDEBUG\u001b[0m] - R6/8:\u001b[1;32mMissing elements: [0, 1, 0]\u001b[0m\n[2025-06-06 12:44:37,414][\u001b[1;36mtensorcraft.mpi.distributions.multi_axis_dist\u001b[0m][\u001b[1;35mapply\u001b[0m][\u001b[1;32mDEBUG\u001b[0m] - R6/8:\u001b[1;32mN blocks per axis: [1, 37, 1]\u001b[0m\n[2025-06-06 12:44:37,419][\u001b[1;36mtensorcraft.mpi.distributions.multi_axis_dist\u001b[0m][\u001b[1;35mapply\u001b[0m][\u001b[1;32mDEBUG\u001b[0m] - R6/8:\u001b[1;32mPadded tensor shape: torch.Size([2, 38, 2])\u001b[0m\n[2025-06-06 12:44:37,422][\u001b[1;36mtensorcraft.mpi.distributions.multi_axis_dist\u001b[0m][\u001b[1;35mapply\u001b[0m][\u001b[1;32mDEBUG\u001b[0m] - R6/8:\u001b[1;32mPermute tuple: (0, 2, 4, 1, 3, 5)\u001b[0m\n[2025-06-06 12:44:37,424][\u001b[1;36mtensorcraft.mpi.distributions.multi_axis_dist\u001b[0m][\u001b[1;35mapply\u001b[0m][\u001b[1;32mDEBUG\u001b[0m] - R6/8:\u001b[1;32mReshape tuple: [1, 2, 38, 1, 1, 2]\u001b[0m\n[2025-06-06 12:44:37,428][\u001b[1;36mtensorcraft.mpi.distributions.multi_axis_dist\u001b[0m][\u001b[1;35mapply\u001b[0m][\u001b[1;32mDEBUG\u001b[0m] - R6/8:\u001b[1;32mTile Slices: [slice(None, None, None), slice(None, None, None), slice(tensor(6), None, 8), slice(None, None, None), slice(None, None, None), slice(None, None, None)]\u001b[0m\n[2025-06-06 12:44:37,435][\u001b[1;36mtensorcraft.mpi.distributions.multi_axis_dist\u001b[0m][\u001b[1;35mapply\u001b[0m][\u001b[1;32mDEBUG\u001b[0m] - R6/8:\u001b[1;32mLocal tensor shape: torch.Size([1, 2, 4, 1, 1, 2])\u001b[0m\n[2025-06-06 12:44:37,436][\u001b[1;36mtensorcraft.mpi.distributions.multi_axis_dist\u001b[0m][\u001b[1;35mapply\u001b[0m][\u001b[1;32mDEBUG\u001b[0m] - R6/8:\u001b[1;32mTarget local tensor shape: [2, 4, 2]\u001b[0m\n[2025-06-06 12:44:37,439][\u001b[1;36mtensorcraft.mpi.distributions.multi_axis_dist\u001b[0m][\u001b[1;35mapply\u001b[0m][\u001b[1;32mDEBUG\u001b[0m] - R6/8:\u001b[1;32mtensor([[[ 12,  13],\n         [ 28,  29],\n         [ 44,  45],\n         [ 60,  61]],\n\n        [[ 86,  87],\n         [102, 103],\n         [118, 119],\n         [134, 135]]])\u001b[0m\n[2025-06-06 12:44:37,447][\u001b[1;36mtensorcraft.mpi.distributions.multi_axis_dist\u001b[0m][\u001b[1;35mapply\u001b[0m][\u001b[1;32mDEBUG\u001b[0m] - R6/8:\u001b[1;32mLinear processor index: 6, Residue: 1, Block size: 1, axis: 1, N procs: 8, N full blocks: 37\u001b[0m\n[2025-06-06 12:44:37,453][\u001b[1;36mtensorcraft.mpi.distributions.multi_axis_dist\u001b[0m][\u001b[1;35mapply\u001b[0m][\u001b[1;32mDEBUG\u001b[0m] - R6/8:\u001b[1;32mShaved slices: [slice(None, None, None), slice(None, None, None), slice(None, None, None)]\u001b[0m\n[2025-06-06 12:44:37,456][\u001b[1;36mtensorcraft.mpi.distributions.multi_axis_dist\u001b[0m][\u001b[1;35mapply\u001b[0m][\u001b[1;32mDEBUG\u001b[0m] - R6/8:\u001b[1;32mFinal local tensor shape: torch.Size([2, 4, 2])\u001b[0m\n",
      "submitted": "2025-06-06T10:44:37.384992Z"
     },
     "output_type": "display_data"
    }
   ],
   "source": [
    "%%px\n",
    "expected_local = new_dist.apply(x, rank)\n",
    "torch.all(expected_local ==  new_local)\n",
    "# expected_local"
   ]
  },
  {
   "cell_type": "markdown",
   "metadata": {},
   "source": [
    "# Alltoall"
   ]
  },
  {
   "cell_type": "code",
   "execution_count": null,
   "metadata": {},
   "outputs": [],
   "source": [
    "import torch\n",
    "import tensorcraft as tc\n",
    "import logging\n",
    "import matplotlib\n",
    "import matplotlib.pyplot as plt\n",
    "import logging\n",
    "import shutil\n",
    "\n",
    "tc.set_logger_config(level = logging.WARNING)\n",
    "\n",
    "# LATEX_WIDTH = 517.935  # Doc\n",
    "# LATEX_WIDTH = 444.14774 # Doc\n",
    "LATEX_WIDTH = 370.28274 # Doc\n",
    "\n",
    "\n",
    "default_figSize = tc.viz.latex2figSize(LATEX_WIDTH, fraction=1, ratio=16/9)\n",
    "fontsize = 8\n",
    "fontsize_small = 8\n",
    "\n",
    "matplotlib.rcParams.update(\n",
    "    {\n",
    "        \"figure.figsize\": default_figSize,\n",
    "        \"figure.dpi\": 200,\n",
    "        \"figure.autolayout\": True,\n",
    "        \"font.family\": \"serif\",\n",
    "        \"font.size\": fontsize,\n",
    "        \"axes.labelsize\": fontsize_small,\n",
    "        \"legend.fontsize\": fontsize_small,\n",
    "        \"xtick.labelsize\": fontsize_small,\n",
    "        \"ytick.labelsize\": fontsize_small,\n",
    "    }\n",
    ")\n",
    "matplotlib.rcParams['text.usetex']= True if shutil.which('latex') else False"
   ]
  },
  {
   "cell_type": "markdown",
   "metadata": {},
   "source": [
    "## 4 Ranks, 2 Mesh dims\n",
    "### To empty"
   ]
  },
  {
   "cell_type": "code",
   "execution_count": null,
   "metadata": {},
   "outputs": [
    {
     "name": "stdout",
     "output_type": "stream",
     "text": [
      "D_[2,2]⊥{(0,1),∅}(2,∅)\n"
     ]
    },
    {
     "data": {
      "image/png": "[encoded data removed]",
      "text/plain": [
       "<Figure size 512.36x512.36 with 2 Axes>"
      ]
     },
     "metadata": {},
     "output_type": "display_data"
    }
   ],
   "source": [
    "tensor_shape = torch.Size([8,8])\n",
    "mesh = torch.Size([2,2])\n",
    "dist = tc.dist.MultiAxisDist(mesh, ((0,1), ()), 2)\n",
    "print(dist)\n",
    "figSize = tc.viz.latex2figSize(LATEX_WIDTH, fraction=0.5, ratio=1)\n",
    "fig = plt.figure(figsize=figSize,layout='constrained')\n",
    "axs = fig.add_subplot(111)\n",
    "fig.suptitle(dist.latexStr())\n",
    "tc.viz.draw_2d_tensor(axs, tensor_shape, dist, cbar=True)\n",
    "# plt.savefig(\"plots/alltoall_example_start.pdf\")"
   ]
  },
  {
   "cell_type": "code",
   "execution_count": null,
   "metadata": {},
   "outputs": [
    {
     "name": "stdout",
     "output_type": "stream",
     "text": [
      "D_[2,2]⊥{∅,(0,1)}(∅,2)\n",
      "D_[2,2]⊥{0,1}(4,2)\n"
     ]
    },
    {
     "data": {
      "image/png": "[encoded data removed]",
      "text/plain": [
       "<Figure size 1024.72x512.36 with 3 Axes>"
      ]
     },
     "metadata": {},
     "output_type": "display_data"
    }
   ],
   "source": [
    "figSize = tc.viz.latex2figSize(LATEX_WIDTH, fraction=1, ratio=2)\n",
    "fig = plt.figure(figsize=figSize,layout='constrained')\n",
    "grid = fig.add_gridspec(1, 2)\n",
    "axs = grid.subplots(\n",
    "    sharey=True,\n",
    ")\n",
    "\n",
    "new_dist, comm_vol, n_procs = dist.alltoall(tensor_shape, 0, 1,)\n",
    "print(new_dist)\n",
    "tc.viz.draw_2d_tensor(axs[0], tensor_shape, new_dist, )\n",
    "axs[0].set_title(new_dist.latexStr())\n",
    "\n",
    "new_dist, comm_vol, n_procs = dist.alltoall(tensor_shape, 0, 1, from_minor=True)\n",
    "print(new_dist)\n",
    "tc.viz.draw_2d_tensor(axs[1], tensor_shape, new_dist, )\n",
    "axs[1].set_title(new_dist.latexStr())\n",
    "\n",
    "tc.viz.draw_color_bar(fig, axs, tc.viz.get_n_colors(dist.numProcessors), orientation=\"horizontal\", shrink=0.5)"
   ]
  },
  {
   "cell_type": "code",
   "execution_count": null,
   "metadata": {},
   "outputs": [
    {
     "data": {
      "text/plain": [
       "4"
      ]
     },
     "execution_count": null,
     "metadata": {},
     "output_type": "execute_result"
    }
   ],
   "source": [
    "import ipyparallel as ipp\n",
    "rc = ipp.Client(profile='mpi')\n",
    "rc.wait_for_engines(4)\n",
    "len(rc)"
   ]
  },
  {
   "cell_type": "code",
   "execution_count": null,
   "metadata": {},
   "outputs": [
    {
     "data": {
      "text/plain": [
       "[stdout:0] R0/4 Local tensor: tensor([[ 0,  1,  2,  3,  4,  5,  6,  7],\n",
       "        [32, 33, 34, 35, 36, 37, 38, 39]])\n"
      ]
     },
     "metadata": {},
     "output_type": "display_data"
    },
    {
     "data": {
      "text/plain": [
       "[stdout:2] R2/4 Local tensor: tensor([[16, 17, 18, 19, 20, 21, 22, 23]])\n"
      ]
     },
     "metadata": {},
     "output_type": "display_data"
    },
    {
     "data": {
      "text/plain": [
       "[stdout:3] R3/4 Local tensor: tensor([[24, 25, 26, 27, 28, 29, 30, 31]])\n"
      ]
     },
     "metadata": {},
     "output_type": "display_data"
    },
    {
     "data": {
      "text/plain": [
       "[stdout:1] R1/4 Local tensor: tensor([[ 8,  9, 10, 11, 12, 13, 14, 15],\n",
       "        [40, 41, 42, 43, 44, 45, 46, 47]])\n"
      ]
     },
     "metadata": {},
     "output_type": "display_data"
    }
   ],
   "source": [
    "%%px\n",
    "from mpi4py import MPI\n",
    "import torch\n",
    "import tensorcraft as tc\n",
    "import logging\n",
    "\n",
    "tc.set_logger_config(level = logging.INFO)\n",
    "\n",
    "comm = MPI.COMM_WORLD\n",
    "rank = comm.Get_rank()\n",
    "world_size = comm.Get_size()\n",
    "\n",
    "\n",
    "global_shape = torch.Size([6,8])\n",
    "global_tensor = torch.arange(global_shape.numel()).reshape(global_shape)\n",
    "\n",
    "mesh = torch.Size([2,2])\n",
    "\n",
    "dist = tc.mpi.MPIMultiAxisDist(mesh, ((0,1), ()), 1)\n",
    "local_tensor = dist.apply(global_tensor, rank)\n",
    "print(f\"R{rank}/{world_size} Local tensor: {local_tensor}\")\n"
   ]
  },
  {
   "cell_type": "code",
   "execution_count": null,
   "metadata": {},
   "outputs": [
    {
     "data": {
      "text/plain": [
       "[stdout:2] R2/4 Local tensor: tensor([[16, 18, 20, 22],\n",
       "        [24, 26, 28, 30]])\n"
      ]
     },
     "metadata": {},
     "output_type": "display_data"
    },
    {
     "data": {
      "text/plain": [
       "[stdout:3] R3/4 Local tensor: tensor([[17, 19, 21, 23],\n",
       "        [25, 27, 29, 31]])\n"
      ]
     },
     "metadata": {},
     "output_type": "display_data"
    },
    {
     "data": {
      "text/plain": [
       "[stdout:0] R0/4 Local tensor: tensor([[ 0,  2,  4,  6],\n",
       "        [ 8, 10, 12, 14],\n",
       "        [32, 34, 36, 38],\n",
       "        [40, 42, 44, 46]])\n"
      ]
     },
     "metadata": {},
     "output_type": "display_data"
    },
    {
     "data": {
      "text/plain": [
       "[stdout:1] R1/4 Local tensor: tensor([[ 1,  3,  5,  7],\n",
       "        [ 9, 11, 13, 15],\n",
       "        [33, 35, 37, 39],\n",
       "        [41, 43, 45, 47]])\n"
      ]
     },
     "metadata": {},
     "output_type": "display_data"
    }
   ],
   "source": [
    "%%px\n",
    "new_dist, new_l_tensor = dist.apply_alltoall(global_shape, local_tensor, comm, from_tensor_axis=0, to_tensor_axis=1, from_minor=False)\n",
    "print(f\"R{rank}/{world_size} Local tensor: {new_l_tensor}\")"
   ]
  },
  {
   "cell_type": "code",
   "execution_count": null,
   "metadata": {},
   "outputs": [],
   "source": []
  }
 ],
 "metadata": {
  "kernelspec": {
   "display_name": "tensorcraft-dev312",
   "language": "python",
   "name": "python3"
  },
  "language_info": {
   "codemirror_mode": {
    "name": "ipython",
    "version": 3
   },
   "file_extension": ".py",
   "mimetype": "text/x-python",
   "name": "python",
   "nbconvert_exporter": "python",
   "pygments_lexer": "ipython3",
   "version": "3.12.11"
  }
 },
 "nbformat": 4,
 "nbformat_minor": 2
}
