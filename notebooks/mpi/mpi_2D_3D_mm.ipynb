{
 "cells": [
  {
   "cell_type": "markdown",
   "metadata": {},
   "source": [
    "# 2D and 3D Matrix Multiplication\n",
    "## Setup\n",
    "### Installation\n",
    "```pip install ipyparallel```\n",
    "\n",
    "or \n",
    "\n",
    "```pip install -e .[notebook]```\n",
    "\n",
    "### Start cluster\n",
    "\n",
    "```ipcluster start -n 4 --engines=MPI --profile mpi```"
   ]
  },
  {
   "cell_type": "code",
   "execution_count": null,
   "metadata": {},
   "outputs": [],
   "source": [
    "import ipyparallel as ipp\n",
    "rc = ipp.Client(profile='mpi')\n",
    "rc.wait_for_engines(4)\n",
    "len(rc)"
   ]
  },
  {
   "cell_type": "code",
   "execution_count": null,
   "metadata": {},
   "outputs": [],
   "source": [
    "%%px\n",
    "import torch\n",
    "from mpi4py import MPI\n",
    "\n",
    "comm = MPI.COMM_WORLD\n",
    "rank = comm.Get_rank()\n",
    "print(f'Hello from rank {rank}!')"
   ]
  },
  {
   "cell_type": "code",
   "execution_count": null,
   "metadata": {},
   "outputs": [],
   "source": [
    "%%px\n",
    "cart_comm = comm.Create_cart(dims=[2, 2], periods=[True, True], reorder=True)\n",
    "print(f'Hello from rank {rank}! My coordinates are {cart_comm.Get_coords(rank)}')\n"
   ]
  },
  {
   "cell_type": "code",
   "execution_count": null,
   "metadata": {},
   "outputs": [],
   "source": [
    "%%px\n",
    "print(f\"Topo: {cart_comm.Get_topo()}\")"
   ]
  },
  {
   "cell_type": "code",
   "execution_count": null,
   "metadata": {},
   "outputs": [],
   "source": [
    "%%px\n",
    "row_comm = cart_comm.Sub([0,1])\n",
    "row_global_ranks = row_comm.allgather(rank)\n",
    "print(f'Hello from rank {rank}! In my row, the ranks are {row_global_ranks}')\n",
    "\n",
    "col_comm = cart_comm.Sub([1,0])\n",
    "col_global_ranks = col_comm.allgather(rank)\n",
    "print(f'Hello from rank {rank}! In my col, the ranks are {col_global_ranks}')\n"
   ]
  },
  {
   "cell_type": "code",
   "execution_count": null,
   "metadata": {},
   "outputs": [],
   "source": [
    "%%px\n",
    "def as_buffer(x: torch.Tensor):\n",
    "    return MPI.buffer.fromaddress(x.untyped_storage().data_ptr(), 0)"
   ]
  },
  {
   "cell_type": "markdown",
   "metadata": {},
   "source": [
    "## Matrix Vector\n",
    "\n",
    "### y:= Ax"
   ]
  },
  {
   "cell_type": "code",
   "execution_count": null,
   "metadata": {},
   "outputs": [],
   "source": [
    "%%px\n",
    "A_g = torch.arange(64).reshape(8, 8)\n",
    "A_l = A_g[col_comm.Get_rank()::2, row_comm.Get_rank()::2].contiguous()\n",
    "print(\"A_local:\", A_l)\n",
    "\n",
    "x_g = torch.arange(8).reshape(8, 1)\n",
    "x_l = x_g[comm.Get_rank()::comm.Get_size(), :].contiguous()\n",
    "print(\"x_local:\", x_l)\n",
    "\n",
    "\n",
    "# x_col = torch.zeros(4,1, dtype=torch.long)\n",
    "# col_comm.Allgather((as_buffer(x_l), 2, MPI.LONG), (as_buffer(x_col), 2, MPI.LONG))\n",
    "# x_col = x_col.reshape(2,2).T.reshape(4,1).contiguous()\n",
    "# print(\"x_gather_col:\", x_col)\n",
    "\n",
    "x_col = torch.zeros(4,1, dtype=torch.long)\n",
    "data_type = MPI.LONG.Create_vector(2, 1, 2).Create_resized(MPI.LONG.Get_extent()[0], MPI.LONG.Get_extent()[1]).Commit()\n",
    "col_comm.Allgather((as_buffer(x_l), 2, MPI.LONG), (as_buffer(x_col), 1, data_type))\n",
    "print(\"x_gather_col:\", x_col)\n",
    "\n",
    "y_l = A_l @ x_col\n",
    "print(\"y_local:\", y_l)\n",
    "\n",
    "y_l = y_l.reshape(2,2).T.reshape(4,1).contiguous()\n",
    "y_scatter = torch.zeros(2, 1, dtype=torch.long)\n",
    "row_comm.Reduce_scatter((as_buffer(y_l), 4, MPI.LONG), (as_buffer(y_scatter), 2, MPI.LONG), [2,2], MPI.SUM)\n",
    "print(\"y_scatter:\", y_scatter)\n",
    "\n",
    "y_end = torch.zeros(2,2,2, dtype=torch.long)\n",
    "comm.Allgather((as_buffer(y_scatter), 2, MPI.LONG), (as_buffer(y_end), 2, MPI.LONG))\n",
    "y_end = y_end.permute(2,1,0).reshape(8,1).contiguous()\n",
    "print(\"y_end:\", y_end)\n",
    "\n"
   ]
  },
  {
   "cell_type": "code",
   "execution_count": null,
   "metadata": {},
   "outputs": [],
   "source": [
    "%%px\n",
    "print(\"Expected:\", A_g @ x_g)\n",
    "print(\"Actual:\", y_end)\n",
    "torch.allclose(y_end, A_g @ x_g)"
   ]
  },
  {
   "cell_type": "markdown",
   "metadata": {},
   "source": [
    "### x = A.T * y"
   ]
  },
  {
   "cell_type": "code",
   "execution_count": null,
   "metadata": {},
   "outputs": [],
   "source": [
    "%%px\n",
    "A_g = torch.arange(64).reshape(8, 8)\n",
    "A_l = A_g[col_comm.Get_rank()::2, row_comm.Get_rank()::2].contiguous()\n",
    "print(\"A_local:\", A_l)\n",
    "\n",
    "y_g = torch.arange(8).reshape(8, 1)\n",
    "i = col_comm.Get_rank() + col_comm.Get_size() * row_comm.Get_rank()\n",
    "y_l = y_g[i::comm.Get_size(), :].contiguous()\n",
    "print(\"y_local:\", y_l)\n",
    "\n",
    "y_col = torch.zeros(4,1, dtype=torch.long)\n",
    "row_comm.Allgather((as_buffer(y_l), 2, MPI.LONG), (as_buffer(y_col), 2, MPI.LONG))\n",
    "y_col = y_col.reshape(2,2).T.reshape(4,1).contiguous()\n",
    "print(\"y_gather_col:\", y_col)\n",
    "\n",
    "x_l = A_l.T @ y_col\n",
    "print(\"x_local:\", x_l)\n",
    "\n",
    "x_l = x_l.reshape(2,2).T.reshape(4,1).contiguous()\n",
    "x_scatter = torch.zeros(2, 1, dtype=torch.long)\n",
    "col_comm.Reduce_scatter((as_buffer(x_l), 4, MPI.LONG), (as_buffer(x_scatter), 2, MPI.LONG), [2,2], MPI.SUM)\n",
    "print(\"x_scatter:\", x_scatter)\n"
   ]
  },
  {
   "cell_type": "code",
   "execution_count": null,
   "metadata": {},
   "outputs": [],
   "source": [
    "%%px\n",
    "print(\"expected:\", A_g.T @ y_g)"
   ]
  },
  {
   "cell_type": "markdown",
   "metadata": {},
   "source": [
    "### A := y * x.T + A"
   ]
  },
  {
   "cell_type": "code",
   "execution_count": null,
   "metadata": {},
   "outputs": [],
   "source": [
    "%%px\n",
    "A_g = torch.arange(64).reshape(8, 8)\n",
    "A_l = A_g[col_comm.Get_rank()::2, row_comm.Get_rank()::2].contiguous()\n",
    "print(\"A_local:\", A_l)\n",
    "\n",
    "x_g = torch.arange(8).reshape(8, 1)\n",
    "x_l = x_g[comm.Get_rank()::comm.Get_size(), :].contiguous()\n",
    "print(\"x_local:\", x_l)\n",
    "\n",
    "y_g = torch.arange(8).reshape(8, 1)\n",
    "i = col_comm.Get_rank() + col_comm.Get_size() * row_comm.Get_rank()\n",
    "y_l = y_g[i::comm.Get_size(), :].contiguous()\n",
    "print(\"y_local:\", y_l)\n",
    "\n",
    "x_col = torch.zeros(4,1, dtype=torch.long)\n",
    "col_comm.Allgather((as_buffer(x_l), 2, MPI.LONG), (as_buffer(x_col), 2, MPI.LONG))\n",
    "x_col = x_col.reshape(2,2).T.reshape(4,1).contiguous()\n",
    "print(\"x_gather_col:\", x_col)\n",
    "\n",
    "y_col = torch.zeros(4,1, dtype=torch.long)\n",
    "row_comm.Allgather((as_buffer(y_l), 2, MPI.LONG), (as_buffer(y_col), 2, MPI.LONG))\n",
    "y_col = y_col.reshape(2,2).T.reshape(4,1).contiguous()\n",
    "print(\"y_gather_col:\", y_col)\n",
    "\n",
    "Z_l = y_col @ x_col.T + A_l\n",
    "print(\"Z_local:\", Z_l)\n",
    "\n",
    "\n"
   ]
  },
  {
   "cell_type": "code",
   "execution_count": null,
   "metadata": {},
   "outputs": [],
   "source": [
    "%%px\n",
    "print(f\"Expected: {y_g @ x_g.T + A_g}\")"
   ]
  },
  {
   "cell_type": "markdown",
   "metadata": {},
   "source": [
    "## Create_darray"
   ]
  },
  {
   "cell_type": "code",
   "execution_count": null,
   "metadata": {},
   "outputs": [],
   "source": [
    "%%px\n",
    "if comm.Get_rank() == 0:\n",
    "    A = torch.arange(64).reshape(8, 8)\n",
    "    print(A)\n",
    "    print(A.dtype)\n",
    "\n",
    "    darray_type = MPI.LONG.Create_darray(\n",
    "        4,                    # Size\n",
    "        1,                      # Rank\n",
    "        # 2,                      # number of array dimensions (as well as process grid dimensions)\n",
    "        [64,1],                 # size of the global array\n",
    "        [MPI.DISTRIBUTE_CYCLIC, MPI.DISTRIBUTE_NONE], # distribution type\n",
    "        [1, 1], # distribution argument\n",
    "        [4, 1],                 # size of the process grid\n",
    "        MPI.ORDER_C,            # array storage order\n",
    "    ).Commit()\n",
    "\n",
    "    # comm.Send(buf=[as_buffer(A), 8, MPI.LONG], dest=1)\n",
    "    comm.Send([as_buffer(A), 1, darray_type], dest=1, tag=55)\n",
    "\n",
    "    darray_type.Free() \n",
    "\n",
    "elif comm.Get_rank() == 1:\n",
    "    A = torch.zeros(4, 4, dtype=torch.int64)\n",
    "\n",
    "    # comm.Recv(buf=[as_buffer(A), 8, MPI.LONG], source=0)\n",
    "    comm.Recv([as_buffer(A), 16, MPI.LONG], source=0, tag=55)\n",
    "    print(A)\n",
    "\n"
   ]
  },
  {
   "cell_type": "markdown",
   "metadata": {},
   "source": [
    "## Large Item Count"
   ]
  },
  {
   "cell_type": "code",
   "execution_count": null,
   "metadata": {},
   "outputs": [],
   "source": [
    "%%px\n",
    "import tensorcraft as tc\n",
    "comm = MPI.COMM_WORLD\n",
    "## Let's find the maximum element count on my mpi implementation\n",
    "options = [torch.iinfo(torch.int32).max]\n",
    "\n",
    "for possible_max in options:\n",
    "    print(f\"Trying {possible_max}\")\n",
    "    if comm.Get_rank() == 0:\n",
    "        A = torch.ones(possible_max, dtype=torch.bool)\n",
    "        print(A.dtype)\n",
    "        print(A[:10])\n",
    "\n",
    "        print(f\"Sending {possible_max} elements, {possible_max / 10**9} Gb\")\n",
    "\n",
    "    else:\n",
    "        A = torch.zeros(possible_max, dtype=torch.bool)\n",
    "\n",
    "    comm.Bcast(buf=[tc.mpi4torch.as_buffer(A), possible_max, MPI.BOOL], root=0)\n",
    "\n",
    "    if comm.Get_rank() == 0:\n",
    "        print(\"Sent!\")\n",
    "    else:\n",
    "        print(\"Received!\")\n",
    "        print(A[:10])"
   ]
  },
  {
   "cell_type": "markdown",
   "metadata": {},
   "source": [
    "# Interweave allgather"
   ]
  },
  {
   "cell_type": "code",
   "execution_count": null,
   "metadata": {},
   "outputs": [
    {
     "data": {
      "text/plain": [
       "4"
      ]
     },
     "execution_count": null,
     "metadata": {},
     "output_type": "execute_result"
    }
   ],
   "source": [
    "import ipyparallel as ipp\n",
    "rc = ipp.Client(profile='mpi')\n",
    "rc.wait_for_engines(4)\n",
    "len(rc)"
   ]
  },
  {
   "cell_type": "code",
   "execution_count": null,
   "metadata": {},
   "outputs": [
    {
     "name": "stdout",
     "output_type": "stream",
     "text": [
      "%px:   0%|          | 0/4 [00:03<?, ?tasks/s]"
     ]
    },
    {
     "data": {
      "text/plain": [
       "[stdout:3] Hello from rank 3!\n"
      ]
     },
     "metadata": {},
     "output_type": "display_data"
    },
    {
     "name": "stdout",
     "output_type": "stream",
     "text": [
      "%px:  25%|██▌       | 1/4 [00:03<00:00,  9.53tasks/s]"
     ]
    },
    {
     "data": {
      "text/plain": [
       "[stdout:1] Hello from rank 1!\n"
      ]
     },
     "metadata": {},
     "output_type": "display_data"
    },
    {
     "name": "stdout",
     "output_type": "stream",
     "text": [
      "%px:  50%|█████     | 2/4 [00:03<00:00,  6.11tasks/s]"
     ]
    },
    {
     "data": {
      "text/plain": [
       "[stdout:0] Hello from rank 0!\n"
      ]
     },
     "metadata": {},
     "output_type": "display_data"
    },
    {
     "data": {
      "text/plain": [
       "[stdout:2] Hello from rank 2!\n"
      ]
     },
     "metadata": {},
     "output_type": "display_data"
    },
    {
     "name": "stdout",
     "output_type": "stream",
     "text": [
      "%px: 100%|██████████| 4/4 [00:03<00:00,  1.08tasks/s]\n"
     ]
    }
   ],
   "source": [
    "%%px\n",
    "import torch\n",
    "from mpi4py import MPI\n",
    "\n",
    "comm = MPI.COMM_WORLD\n",
    "rank = comm.Get_rank()\n",
    "print(f'Hello from rank {rank}!')"
   ]
  },
  {
   "cell_type": "code",
   "execution_count": null,
   "metadata": {},
   "outputs": [
    {
     "name": "stdout",
     "output_type": "stream",
     "text": [
      "%px:   0%|          | 0/4 [00:01<?, ?tasks/s]"
     ]
    },
    {
     "data": {
      "text/plain": [
       "[stdout:1] [2025-05-02 14:18:33,045][\u001b[1;36mtensorcraft.mpi.distributions.multi_axis_dist\u001b[0m][\u001b[1;35mapply\u001b[0m][\u001b[1;32mDEBUG\u001b[0m] - R1/4:\u001b[1;32mProcessor multi index: torch.Size([0, 1])\u001b[0m\n",
       "[2025-05-02 14:18:33,047][\u001b[1;36mtensorcraft.mpi.distributions.multi_axis_dist\u001b[0m][\u001b[1;35mapply\u001b[0m][\u001b[1;32mDEBUG\u001b[0m] - R1/4:\u001b[1;32mMissing elements: [0, 1, 0]\u001b[0m\n",
       "[2025-05-02 14:18:33,048][\u001b[1;36mtensorcraft.mpi.distributions.multi_axis_dist\u001b[0m][\u001b[1;35mapply\u001b[0m][\u001b[1;32mDEBUG\u001b[0m] - R1/4:\u001b[1;32mN blocks per axis: [1, 10, 1]\u001b[0m\n",
       "[2025-05-02 14:18:33,050][\u001b[1;36mtensorcraft.mpi.distributions.multi_axis_dist\u001b[0m][\u001b[1;35mapply\u001b[0m][\u001b[1;32mDEBUG\u001b[0m] - R1/4:\u001b[1;32mPadded tensor shape: torch.Size([2, 11, 2])\u001b[0m\n",
       "[2025-05-02 14:18:33,054][\u001b[1;36mtensorcraft.mpi.distributions.multi_axis_dist\u001b[0m][\u001b[1;35mapply\u001b[0m][\u001b[1;32mDEBUG\u001b[0m] - R1/4:\u001b[1;32mPermute tuple: (0, 2, 4, 1, 3, 5)\u001b[0m\n",
       "[2025-05-02 14:18:33,056][\u001b[1;36mtensorcraft.mpi.distributions.multi_axis_dist\u001b[0m][\u001b[1;35mapply\u001b[0m][\u001b[1;32mDEBUG\u001b[0m] - R1/4:\u001b[1;32mReshape tuple: [1, 2, 11, 1, 1, 2]\u001b[0m\n",
       "[2025-05-02 14:18:33,062][\u001b[1;36mtensorcraft.mpi.distributions.multi_axis_dist\u001b[0m][\u001b[1;35mapply\u001b[0m][\u001b[1;32mDEBUG\u001b[0m] - R1/4:\u001b[1;32mTile Slices: [slice(None, None, None), slice(None, None, None), slice(tensor(1), None, 4), slice(None, None, None), slice(None, None, None), slice(None, None, None)]\u001b[0m\n",
       "[2025-05-02 14:18:33,064][\u001b[1;36mtensorcraft.mpi.distributions.multi_axis_dist\u001b[0m][\u001b[1;35mapply\u001b[0m][\u001b[1;32mDEBUG\u001b[0m] - R1/4:\u001b[1;32mLocal tensor shape: torch.Size([1, 2, 3, 1, 1, 2])\u001b[0m\n",
       "[2025-05-02 14:18:33,066][\u001b[1;36mtensorcraft.mpi.distributions.multi_axis_dist\u001b[0m][\u001b[1;35mapply\u001b[0m][\u001b[1;32mDEBUG\u001b[0m] - R1/4:\u001b[1;32mTarget local tensor shape: [2, 3, 2]\u001b[0m\n",
       "[2025-05-02 14:18:33,069][\u001b[1;36mtensorcraft.mpi.distributions.multi_axis_dist\u001b[0m][\u001b[1;35mapply\u001b[0m][\u001b[1;32mDEBUG\u001b[0m] - R1/4:\u001b[1;32mtensor([[[ 2,  3],\n",
       "         [10, 11],\n",
       "         [18, 19]],\n",
       "\n",
       "        [[22, 23],\n",
       "         [30, 31],\n",
       "         [38, 39]]])\u001b[0m\n",
       "[2025-05-02 14:18:33,077][\u001b[1;36mtensorcraft.mpi.distributions.multi_axis_dist\u001b[0m][\u001b[1;35mapply\u001b[0m][\u001b[1;32mDEBUG\u001b[0m] - R1/4:\u001b[1;32mLinear processor index: 1, Residue: 1, Block size: 1, axis: 1, N procs: 4, N full blocks: 10\u001b[0m\n",
       "[2025-05-02 14:18:33,083][\u001b[1;36mtensorcraft.mpi.distributions.multi_axis_dist\u001b[0m][\u001b[1;35mapply\u001b[0m][\u001b[1;32mDEBUG\u001b[0m] - R1/4:\u001b[1;32mShaved slices: [slice(None, None, None), slice(None, None, None), slice(None, None, None)]\u001b[0m\n",
       "[2025-05-02 14:18:33,086][\u001b[1;36mtensorcraft.mpi.distributions.multi_axis_dist\u001b[0m][\u001b[1;35mapply\u001b[0m][\u001b[1;32mDEBUG\u001b[0m] - R1/4:\u001b[1;32mFinal local tensor shape: torch.Size([2, 3, 2])\u001b[0m\n",
       "tensor([[[ 2,  3],\n",
       "         [10, 11],\n",
       "         [18, 19]],\n",
       "\n",
       "        [[22, 23],\n",
       "         [30, 31],\n",
       "         [38, 39]]])\n",
       "torch.Size([2, 3, 2])\n",
       "torch.int64\n",
       "False\n"
      ]
     },
     "metadata": {},
     "output_type": "display_data"
    },
    {
     "data": {
      "text/plain": [
       "[stdout:3] [2025-05-02 14:18:33,106][\u001b[1;36mtensorcraft.mpi.distributions.multi_axis_dist\u001b[0m][\u001b[1;35mapply\u001b[0m][\u001b[1;32mDEBUG\u001b[0m] - R3/4:\u001b[1;32mProcessor multi index: torch.Size([1, 1])\u001b[0m\n",
       "[2025-05-02 14:18:33,108][\u001b[1;36mtensorcraft.mpi.distributions.multi_axis_dist\u001b[0m][\u001b[1;35mapply\u001b[0m][\u001b[1;32mDEBUG\u001b[0m] - R3/4:\u001b[1;32mMissing elements: [0, 1, 0]\u001b[0m\n",
       "[2025-05-02 14:18:33,111][\u001b[1;36mtensorcraft.mpi.distributions.multi_axis_dist\u001b[0m][\u001b[1;35mapply\u001b[0m][\u001b[1;32mDEBUG\u001b[0m] - R3/4:\u001b[1;32mN blocks per axis: [1, 10, 1]\u001b[0m\n",
       "[2025-05-02 14:18:33,116][\u001b[1;36mtensorcraft.mpi.distributions.multi_axis_dist\u001b[0m][\u001b[1;35mapply\u001b[0m][\u001b[1;32mDEBUG\u001b[0m] - R3/4:\u001b[1;32mPadded tensor shape: torch.Size([2, 11, 2])\u001b[0m\n",
       "[2025-05-02 14:18:33,122][\u001b[1;36mtensorcraft.mpi.distributions.multi_axis_dist\u001b[0m][\u001b[1;35mapply\u001b[0m][\u001b[1;32mDEBUG\u001b[0m] - R3/4:\u001b[1;32mPermute tuple: (0, 2, 4, 1, 3, 5)\u001b[0m\n",
       "[2025-05-02 14:18:33,125][\u001b[1;36mtensorcraft.mpi.distributions.multi_axis_dist\u001b[0m][\u001b[1;35mapply\u001b[0m][\u001b[1;32mDEBUG\u001b[0m] - R3/4:\u001b[1;32mReshape tuple: [1, 2, 11, 1, 1, 2]\u001b[0m\n",
       "[2025-05-02 14:18:33,129][\u001b[1;36mtensorcraft.mpi.distributions.multi_axis_dist\u001b[0m][\u001b[1;35mapply\u001b[0m][\u001b[1;32mDEBUG\u001b[0m] - R3/4:\u001b[1;32mTile Slices: [slice(None, None, None), slice(None, None, None), slice(tensor(3), None, 4), slice(None, None, None), slice(None, None, None), slice(None, None, None)]\u001b[0m\n",
       "[2025-05-02 14:18:33,132][\u001b[1;36mtensorcraft.mpi.distributions.multi_axis_dist\u001b[0m][\u001b[1;35mapply\u001b[0m][\u001b[1;32mDEBUG\u001b[0m] - R3/4:\u001b[1;32mLocal tensor shape: torch.Size([1, 2, 2, 1, 1, 2])\u001b[0m\n",
       "[2025-05-02 14:18:33,133][\u001b[1;36mtensorcraft.mpi.distributions.multi_axis_dist\u001b[0m][\u001b[1;35mapply\u001b[0m][\u001b[1;32mDEBUG\u001b[0m] - R3/4:\u001b[1;32mTarget local tensor shape: [2, 2, 2]\u001b[0m\n",
       "[2025-05-02 14:18:33,134][\u001b[1;36mtensorcraft.mpi.distributions.multi_axis_dist\u001b[0m][\u001b[1;35mapply\u001b[0m][\u001b[1;32mDEBUG\u001b[0m] - R3/4:\u001b[1;32mtensor([[[ 6,  7],\n",
       "         [14, 15]],\n",
       "\n",
       "        [[26, 27],\n",
       "         [34, 35]]])\u001b[0m\n",
       "[2025-05-02 14:18:33,139][\u001b[1;36mtensorcraft.mpi.distributions.multi_axis_dist\u001b[0m][\u001b[1;35mapply\u001b[0m][\u001b[1;32mDEBUG\u001b[0m] - R3/4:\u001b[1;32mLinear processor index: 3, Residue: 1, Block size: 1, axis: 1, N procs: 4, N full blocks: 10\u001b[0m\n",
       "[2025-05-02 14:18:33,141][\u001b[1;36mtensorcraft.mpi.distributions.multi_axis_dist\u001b[0m][\u001b[1;35mapply\u001b[0m][\u001b[1;32mDEBUG\u001b[0m] - R3/4:\u001b[1;32mShaved slices: [slice(None, None, None), slice(None, None, None), slice(None, None, None)]\u001b[0m\n",
       "[2025-05-02 14:18:33,142][\u001b[1;36mtensorcraft.mpi.distributions.multi_axis_dist\u001b[0m][\u001b[1;35mapply\u001b[0m][\u001b[1;32mDEBUG\u001b[0m] - R3/4:\u001b[1;32mFinal local tensor shape: torch.Size([2, 2, 2])\u001b[0m\n",
       "tensor([[[ 6,  7],\n",
       "         [14, 15]],\n",
       "\n",
       "        [[26, 27],\n",
       "         [34, 35]]])\n",
       "torch.Size([2, 2, 2])\n",
       "torch.int64\n",
       "False\n"
      ]
     },
     "metadata": {},
     "output_type": "display_data"
    },
    {
     "name": "stdout",
     "output_type": "stream",
     "text": [
      "%px:  25%|██▌       | 1/4 [00:01<00:00,  9.61tasks/s]"
     ]
    },
    {
     "data": {
      "text/plain": [
       "[stdout:0] [2025-05-02 14:18:33,146][\u001b[1;36mtensorcraft.mpi.distributions.multi_axis_dist\u001b[0m][\u001b[1;35mapply\u001b[0m][\u001b[1;32mDEBUG\u001b[0m] - R0/4:\u001b[1;32mProcessor multi index: torch.Size([0, 0])\u001b[0m\n",
       "[2025-05-02 14:18:33,148][\u001b[1;36mtensorcraft.mpi.distributions.multi_axis_dist\u001b[0m][\u001b[1;35mapply\u001b[0m][\u001b[1;32mDEBUG\u001b[0m] - R0/4:\u001b[1;32mMissing elements: [0, 1, 0]\u001b[0m\n",
       "[2025-05-02 14:18:33,150][\u001b[1;36mtensorcraft.mpi.distributions.multi_axis_dist\u001b[0m][\u001b[1;35mapply\u001b[0m][\u001b[1;32mDEBUG\u001b[0m] - R0/4:\u001b[1;32mN blocks per axis: [1, 10, 1]\u001b[0m\n",
       "[2025-05-02 14:18:33,152][\u001b[1;36mtensorcraft.mpi.distributions.multi_axis_dist\u001b[0m][\u001b[1;35mapply\u001b[0m][\u001b[1;32mDEBUG\u001b[0m] - R0/4:\u001b[1;32mPadded tensor shape: torch.Size([2, 11, 2])\u001b[0m\n",
       "[2025-05-02 14:18:33,156][\u001b[1;36mtensorcraft.mpi.distributions.multi_axis_dist\u001b[0m][\u001b[1;35mapply\u001b[0m][\u001b[1;32mDEBUG\u001b[0m] - R0/4:\u001b[1;32mPermute tuple: (0, 2, 4, 1, 3, 5)\u001b[0m\n",
       "[2025-05-02 14:18:33,158][\u001b[1;36mtensorcraft.mpi.distributions.multi_axis_dist\u001b[0m][\u001b[1;35mapply\u001b[0m][\u001b[1;32mDEBUG\u001b[0m] - R0/4:\u001b[1;32mReshape tuple: [1, 2, 11, 1, 1, 2]\u001b[0m\n",
       "[2025-05-02 14:18:33,162][\u001b[1;36mtensorcraft.mpi.distributions.multi_axis_dist\u001b[0m][\u001b[1;35mapply\u001b[0m][\u001b[1;32mDEBUG\u001b[0m] - R0/4:\u001b[1;32mTile Slices: [slice(None, None, None), slice(None, None, None), slice(tensor(0), None, 4), slice(None, None, None), slice(None, None, None), slice(None, None, None)]\u001b[0m\n",
       "[2025-05-02 14:18:33,166][\u001b[1;36mtensorcraft.mpi.distributions.multi_axis_dist\u001b[0m][\u001b[1;35mapply\u001b[0m][\u001b[1;32mDEBUG\u001b[0m] - R0/4:\u001b[1;32mLocal tensor shape: torch.Size([1, 2, 3, 1, 1, 2])\u001b[0m\n",
       "[2025-05-02 14:18:33,171][\u001b[1;36mtensorcraft.mpi.distributions.multi_axis_dist\u001b[0m][\u001b[1;35mapply\u001b[0m][\u001b[1;32mDEBUG\u001b[0m] - R0/4:\u001b[1;32mTarget local tensor shape: [2, 3, 2]\u001b[0m\n",
       "[2025-05-02 14:18:33,173][\u001b[1;36mtensorcraft.mpi.distributions.multi_axis_dist\u001b[0m][\u001b[1;35mapply\u001b[0m][\u001b[1;32mDEBUG\u001b[0m] - R0/4:\u001b[1;32mtensor([[[ 0,  1],\n",
       "         [ 8,  9],\n",
       "         [16, 17]],\n",
       "\n",
       "        [[20, 21],\n",
       "         [28, 29],\n",
       "         [36, 37]]])\u001b[0m\n",
       "[2025-05-02 14:18:33,181][\u001b[1;36mtensorcraft.mpi.distributions.multi_axis_dist\u001b[0m][\u001b[1;35mapply\u001b[0m][\u001b[1;32mDEBUG\u001b[0m] - R0/4:\u001b[1;32mLinear processor index: 0, Residue: 1, Block size: 1, axis: 1, N procs: 4, N full blocks: 10\u001b[0m\n",
       "[2025-05-02 14:18:33,184][\u001b[1;36mtensorcraft.mpi.distributions.multi_axis_dist\u001b[0m][\u001b[1;35mapply\u001b[0m][\u001b[1;32mDEBUG\u001b[0m] - R0/4:\u001b[1;32mShaved slices: [slice(None, None, None), slice(None, None, None), slice(None, None, None)]\u001b[0m\n",
       "[2025-05-02 14:18:33,187][\u001b[1;36mtensorcraft.mpi.distributions.multi_axis_dist\u001b[0m][\u001b[1;35mapply\u001b[0m][\u001b[1;32mDEBUG\u001b[0m] - R0/4:\u001b[1;32mFinal local tensor shape: torch.Size([2, 3, 2])\u001b[0m\n",
       "tensor([[[ 0,  1],\n",
       "         [ 8,  9],\n",
       "         [16, 17]],\n",
       "\n",
       "        [[20, 21],\n",
       "         [28, 29],\n",
       "         [36, 37]]])\n",
       "torch.Size([2, 3, 2])\n",
       "torch.int64\n",
       "False\n"
      ]
     },
     "metadata": {},
     "output_type": "display_data"
    },
    {
     "name": "stdout",
     "output_type": "stream",
     "text": [
      "%px:  75%|███████▌  | 3/4 [00:01<00:00, 15.24tasks/s]"
     ]
    },
    {
     "data": {
      "text/plain": [
       "[stdout:2] [2025-05-02 14:18:33,254][\u001b[1;36mtensorcraft.mpi.distributions.multi_axis_dist\u001b[0m][\u001b[1;35mapply\u001b[0m][\u001b[1;32mDEBUG\u001b[0m] - R2/4:\u001b[1;32mProcessor multi index: torch.Size([1, 0])\u001b[0m\n",
       "[2025-05-02 14:18:33,259][\u001b[1;36mtensorcraft.mpi.distributions.multi_axis_dist\u001b[0m][\u001b[1;35mapply\u001b[0m][\u001b[1;32mDEBUG\u001b[0m] - R2/4:\u001b[1;32mMissing elements: [0, 1, 0]\u001b[0m\n",
       "[2025-05-02 14:18:33,262][\u001b[1;36mtensorcraft.mpi.distributions.multi_axis_dist\u001b[0m][\u001b[1;35mapply\u001b[0m][\u001b[1;32mDEBUG\u001b[0m] - R2/4:\u001b[1;32mN blocks per axis: [1, 10, 1]\u001b[0m\n",
       "[2025-05-02 14:18:33,263][\u001b[1;36mtensorcraft.mpi.distributions.multi_axis_dist\u001b[0m][\u001b[1;35mapply\u001b[0m][\u001b[1;32mDEBUG\u001b[0m] - R2/4:\u001b[1;32mPadded tensor shape: torch.Size([2, 11, 2])\u001b[0m\n",
       "[2025-05-02 14:18:33,268][\u001b[1;36mtensorcraft.mpi.distributions.multi_axis_dist\u001b[0m][\u001b[1;35mapply\u001b[0m][\u001b[1;32mDEBUG\u001b[0m] - R2/4:\u001b[1;32mPermute tuple: (0, 2, 4, 1, 3, 5)\u001b[0m\n",
       "[2025-05-02 14:18:33,270][\u001b[1;36mtensorcraft.mpi.distributions.multi_axis_dist\u001b[0m][\u001b[1;35mapply\u001b[0m][\u001b[1;32mDEBUG\u001b[0m] - R2/4:\u001b[1;32mReshape tuple: [1, 2, 11, 1, 1, 2]\u001b[0m\n",
       "[2025-05-02 14:18:33,279][\u001b[1;36mtensorcraft.mpi.distributions.multi_axis_dist\u001b[0m][\u001b[1;35mapply\u001b[0m][\u001b[1;32mDEBUG\u001b[0m] - R2/4:\u001b[1;32mTile Slices: [slice(None, None, None), slice(None, None, None), slice(tensor(2), None, 4), slice(None, None, None), slice(None, None, None), slice(None, None, None)]\u001b[0m\n",
       "[2025-05-02 14:18:33,282][\u001b[1;36mtensorcraft.mpi.distributions.multi_axis_dist\u001b[0m][\u001b[1;35mapply\u001b[0m][\u001b[1;32mDEBUG\u001b[0m] - R2/4:\u001b[1;32mLocal tensor shape: torch.Size([1, 2, 3, 1, 1, 2])\u001b[0m\n",
       "[2025-05-02 14:18:33,284][\u001b[1;36mtensorcraft.mpi.distributions.multi_axis_dist\u001b[0m][\u001b[1;35mapply\u001b[0m][\u001b[1;32mDEBUG\u001b[0m] - R2/4:\u001b[1;32mTarget local tensor shape: [2, 3, 2]\u001b[0m\n",
       "[2025-05-02 14:18:33,286][\u001b[1;36mtensorcraft.mpi.distributions.multi_axis_dist\u001b[0m][\u001b[1;35mapply\u001b[0m][\u001b[1;32mDEBUG\u001b[0m] - R2/4:\u001b[1;32mtensor([[[ 4,  5],\n",
       "         [12, 13],\n",
       "         [ 0,  0]],\n",
       "\n",
       "        [[24, 25],\n",
       "         [32, 33],\n",
       "         [ 0,  0]]])\u001b[0m\n",
       "[2025-05-02 14:18:33,292][\u001b[1;36mtensorcraft.mpi.distributions.multi_axis_dist\u001b[0m][\u001b[1;35mapply\u001b[0m][\u001b[1;32mDEBUG\u001b[0m] - R2/4:\u001b[1;32mLinear processor index: 2, Residue: 1, Block size: 1, axis: 1, N procs: 4, N full blocks: 10\u001b[0m\n",
       "[2025-05-02 14:18:33,296][\u001b[1;36mtensorcraft.mpi.distributions.multi_axis_dist\u001b[0m][\u001b[1;35mapply\u001b[0m][\u001b[1;32mDEBUG\u001b[0m] - R2/4:\u001b[1;32mShaved slices: [slice(None, None, None), slice(0, -1, None), slice(None, None, None)]\u001b[0m\n",
       "[2025-05-02 14:18:33,299][\u001b[1;36mtensorcraft.mpi.distributions.multi_axis_dist\u001b[0m][\u001b[1;35mapply\u001b[0m][\u001b[1;32mDEBUG\u001b[0m] - R2/4:\u001b[1;32mFinal local tensor shape: torch.Size([2, 2, 2])\u001b[0m\n",
       "tensor([[[ 4,  5],\n",
       "         [12, 13]],\n",
       "\n",
       "        [[24, 25],\n",
       "         [32, 33]]])\n",
       "torch.Size([2, 2, 2])\n",
       "torch.int64\n",
       "False\n"
      ]
     },
     "metadata": {},
     "output_type": "display_data"
    },
    {
     "name": "stdout",
     "output_type": "stream",
     "text": [
      "%px: 100%|██████████| 4/4 [00:01<00:00,  2.48tasks/s]\n"
     ]
    }
   ],
   "source": [
    "%%px\n",
    "import logging\n",
    "import tensorcraft as tc\n",
    "\n",
    "tc.set_logger_config(log_rank=True, level=logging.DEBUG)\n",
    "\n",
    "x = torch.arange(40).reshape(2, 10, 2)\n",
    "mesh = torch.Size([2,2])\n",
    "dist = tc.mpi.MPIMultiAxisDist(mesh, (None, (0,1), None), 1)\n",
    "\n",
    "x_local = dist.apply(x, rank)\n",
    "print(x_local)\n",
    "print(x_local.shape)\n",
    "print(x_local.dtype)\n",
    "print(x_local.is_contiguous())"
   ]
  },
  {
   "cell_type": "code",
   "execution_count": null,
   "metadata": {},
   "outputs": [
    {
     "data": {
      "text/plain": [
       "[stdout:3] [2025-05-02 14:18:33,506][\u001b[1;36mtensorcraft.distributions.multi_axis\u001b[0m][\u001b[1;35mallgather\u001b[0m][\u001b[1;32mDEBUG\u001b[0m] - R3/4:\u001b[1;32mTensor axis: 1\u001b[0m\n",
       "[2025-05-02 14:18:33,508][\u001b[1;36mtensorcraft.distributions.multi_axis\u001b[0m][\u001b[1;35mallgather\u001b[0m][\u001b[1;32mDEBUG\u001b[0m] - R3/4:\u001b[1;32mMesh axis: 0\u001b[0m\n",
       "[2025-05-02 14:18:33,509][\u001b[1;36mtensorcraft.distributions.multi_axis\u001b[0m][\u001b[1;35mallgather\u001b[0m][\u001b[1;32mDEBUG\u001b[0m] - R3/4:\u001b[1;32mMappings: (0, 1)\u001b[0m\n",
       "[2025-05-02 14:18:33,512][\u001b[1;36mtensorcraft.distributions.multi_axis\u001b[0m][\u001b[1;35mallgather\u001b[0m][\u001b[1;32mDEBUG\u001b[0m] - R3/4:\u001b[1;32mTensor axis: 1\u001b[0m\n",
       "[2025-05-02 14:18:33,514][\u001b[1;36mtensorcraft.distributions.multi_axis\u001b[0m][\u001b[1;35mallgather\u001b[0m][\u001b[1;32mDEBUG\u001b[0m] - R3/4:\u001b[1;32mMesh axis: 0\u001b[0m\n",
       "[2025-05-02 14:18:33,515][\u001b[1;36mtensorcraft.distributions.multi_axis\u001b[0m][\u001b[1;35mallgather\u001b[0m][\u001b[1;32mDEBUG\u001b[0m] - R3/4:\u001b[1;32mMappings: (0, 1)\u001b[0m\n",
       "[2025-05-02 14:18:33,522][\u001b[1;36mtensorcraft.mpi.distributions.multi_axis_dist\u001b[0m][\u001b[1;35m_apply_single_axis_allgather\u001b[0m][\u001b[1;32mDEBUG\u001b[0m] - R3/4:\u001b[1;32mNew distribution: D_[2,2]⊥{∅,1,∅}(∅,1,∅), new shape: torch.Size([2, 5, 2])\u001b[0m\n",
       "[2025-05-02 14:18:33,525][\u001b[1;36mtensorcraft.mpi.distributions.multi_axis_dist\u001b[0m][\u001b[1;35m_apply_single_axis_allgather\u001b[0m][\u001b[1;32mDEBUG\u001b[0m] - R3/4:\u001b[1;32mLocal tensor shape: torch.Size([2, 2, 2])\u001b[0m\n",
       "[2025-05-02 14:18:33,527][\u001b[1;36mtensorcraft.mpi.distributions.multi_axis_dist\u001b[0m][\u001b[1;35m_apply_single_axis_allgather\u001b[0m][\u001b[1;32mDEBUG\u001b[0m] - R3/4:\u001b[1;32mExpected local shape: torch.Size([2, 2, 2])\u001b[0m\n",
       "[2025-05-02 14:18:33,528][\u001b[1;36mtensorcraft.mpi.distributions.multi_axis_dist\u001b[0m][\u001b[1;35m_apply_single_axis_allgather\u001b[0m][\u001b[1;32mDEBUG\u001b[0m] - R3/4:\u001b[1;32mChanged tensor axis: 1\u001b[0m\n",
       "[2025-05-02 14:18:33,530][\u001b[1;36mtensorcraft.mpi.distributions.multi_axis_dist\u001b[0m][\u001b[1;35m_apply_single_axis_allgather\u001b[0m][\u001b[1;32mDEBUG\u001b[0m] - R3/4:\u001b[1;32mProcessor multi index: torch.Size([1, 1])\u001b[0m\n",
       "[2025-05-02 14:18:33,530][\u001b[1;36mtensorcraft.mpi.distributions.multi_axis_dist\u001b[0m][\u001b[1;35m_apply_single_axis_allgather\u001b[0m][\u001b[1;32mDEBUG\u001b[0m] - R3/4:\u001b[1;32mN procs: 2\u001b[0m\n",
       "[2025-05-02 14:18:33,532][\u001b[1;36mtensorcraft.mpi.distributions.multi_axis_dist\u001b[0m][\u001b[1;35m_apply_single_axis_allgather\u001b[0m][\u001b[1;32mDEBUG\u001b[0m] - R3/4:\u001b[1;32mRank of largest tensor in the subcommunicator: [0, 1] 1\u001b[0m\n",
       "[2025-05-02 14:18:33,536][\u001b[1;36mtensorcraft.mpi.distributions.multi_axis_dist\u001b[0m][\u001b[1;35m_apply_single_axis_allgather\u001b[0m][\u001b[1;32mDEBUG\u001b[0m] - R3/4:\u001b[1;32mN elements: 12\u001b[0m\n",
       "[2025-05-02 14:18:33,538][\u001b[1;36mtensorcraft.mpi.distributions.multi_axis_dist\u001b[0m][\u001b[1;35m_apply_single_axis_allgather\u001b[0m][\u001b[1;32mDEBUG\u001b[0m] - R3/4:\u001b[1;32mMax local shape: torch.Size([2, 3, 2])\u001b[0m\n",
       "[2025-05-02 14:18:33,539][\u001b[1;36mtensorcraft.mpi.distributions.multi_axis_dist\u001b[0m][\u001b[1;35m_apply_single_axis_allgather\u001b[0m][\u001b[1;32mDEBUG\u001b[0m] - R3/4:\u001b[1;32mPadding: 1\u001b[0m\n",
       "[2025-05-02 14:18:33,540][\u001b[1;36mtensorcraft.mpi.distributions.multi_axis_dist\u001b[0m][\u001b[1;35m_apply_single_axis_allgather\u001b[0m][\u001b[1;32mDEBUG\u001b[0m] - R3/4:\u001b[1;32mPadding tuple: [0, 0, 1, 0, 0, 0]\u001b[0m\n",
       "[2025-05-02 14:18:33,544][\u001b[1;36mtensorcraft.mpi.distributions.multi_axis_dist\u001b[0m][\u001b[1;35m_apply_single_axis_allgather\u001b[0m][\u001b[1;32mDEBUG\u001b[0m] - R3/4:\u001b[1;32mPadded local tensor shape: torch.Size([2, 3, 2])\u001b[0m\n",
       "[2025-05-02 14:18:33,547][\u001b[1;36mtensorcraft.mpi.distributions.multi_axis_dist\u001b[0m][\u001b[1;35m_apply_single_axis_allgather\u001b[0m][\u001b[1;32mDEBUG\u001b[0m] - R3/4:\u001b[1;32mPadded local tensor: tensor([[[ 6,  7],\n",
       "         [14, 15],\n",
       "         [ 0,  0]],\n",
       "\n",
       "        [[26, 27],\n",
       "         [34, 35],\n",
       "         [ 0,  0]]])\u001b[0m\n",
       "[2025-05-02 14:18:33,549][\u001b[1;36mtensorcraft.mpi.mpi_utils\u001b[0m][\u001b[1;35mtensor2mpiBuffer\u001b[0m][\u001b[1;32mDEBUG\u001b[0m] - R3/4:\u001b[1;32mtensor_stride: (6, 2, 1)\u001b[0m\n",
       "[2025-05-02 14:18:33,550][\u001b[1;36mtensorcraft.mpi.mpi_utils\u001b[0m][\u001b[1;35mtensor2mpiBuffer\u001b[0m][\u001b[1;32mDEBUG\u001b[0m] - R3/4:\u001b[1;32mtensor_offset: 0\u001b[0m\n",
       "[2025-05-02 14:18:33,551][\u001b[1;36mtensorcraft.mpi.mpi_utils\u001b[0m][\u001b[1;35mtensor2mpiBuffer\u001b[0m][\u001b[1;32mDEBUG\u001b[0m] - R3/4:\u001b[1;32mtensor_shape: torch.Size([2, 3, 2])\u001b[0m\n",
       "[2025-05-02 14:18:33,552][\u001b[1;36mtensorcraft.mpi.mpi_utils\u001b[0m][\u001b[1;35mtensor2mpiBuffer\u001b[0m][\u001b[1;32mDEBUG\u001b[0m] - R3/4:\u001b[1;32mtensor_dtype: torch.int64\u001b[0m\n",
       "[2025-05-02 14:18:33,554][\u001b[1;36mtensorcraft.mpi.mpi_utils\u001b[0m][\u001b[1;35mtensor2mpiBuffer\u001b[0m][\u001b[1;32mDEBUG\u001b[0m] - R3/4:\u001b[1;32mBest case scenario, it is contiguous!\u001b[0m\n",
       "[2025-05-02 14:18:33,555][\u001b[1;36mtensorcraft.mpi.distributions.multi_axis_dist\u001b[0m][\u001b[1;35m_apply_single_axis_allgather\u001b[0m][\u001b[1;32mDEBUG\u001b[0m] - R3/4:\u001b[1;32mSend buffer: (<mpi4py.MPI.buffer object at 0x7a14854ba410>, 12, <mpi4py.MPI.Datatype object at 0x7a15826ac6f0>)\u001b[0m\n",
       "[2025-05-02 14:18:33,678][\u001b[1;36mtensorcraft.mpi.distributions.multi_axis_dist\u001b[0m][\u001b[1;35m_apply_single_axis_allgather\u001b[0m][\u001b[1;32mDEBUG\u001b[0m] - R3/4:\u001b[1;32mRecv_tensor : tensor([[[[[ 2,  3]],\n",
       "\n",
       "          [[10, 11]],\n",
       "\n",
       "          [[18, 19]]],\n",
       "\n",
       "\n",
       "         [[[22, 23]],\n",
       "\n",
       "          [[30, 31]],\n",
       "\n",
       "          [[38, 39]]]],\n",
       "\n",
       "\n",
       "\n",
       "        [[[[ 6,  7]],\n",
       "\n",
       "          [[14, 15]],\n",
       "\n",
       "          [[ 0,  0]]],\n",
       "\n",
       "\n",
       "         [[[26, 27]],\n",
       "\n",
       "          [[34, 35]],\n",
       "\n",
       "          [[ 0,  0]]]]])\u001b[0m\n",
       "[2025-05-02 14:18:33,680][\u001b[1;36mtensorcraft.mpi.distributions.multi_axis_dist\u001b[0m][\u001b[1;35m_apply_single_axis_allgather\u001b[0m][\u001b[1;32mDEBUG\u001b[0m] - R3/4:\u001b[1;32mReshaped tensor shape: torch.Size([2, 6, 2])\u001b[0m\n",
       "[2025-05-02 14:18:33,681][\u001b[1;36mtensorcraft.mpi.distributions.multi_axis_dist\u001b[0m][\u001b[1;35m_apply_single_axis_allgather\u001b[0m][\u001b[1;32mDEBUG\u001b[0m] - R3/4:\u001b[1;32mSlices: [slice(None, None, None), slice(0, 5, None), slice(None, None, None)]\u001b[0m\n",
       "[2025-05-02 14:18:33,682][\u001b[1;36mtensorcraft.mpi.distributions.multi_axis_dist\u001b[0m][\u001b[1;35m_apply_single_axis_allgather\u001b[0m][\u001b[1;32mDEBUG\u001b[0m] - R3/4:\u001b[1;32mFinal tensor shape: torch.Size([2, 5, 2])\u001b[0m\n",
       "tensor([[[ 2,  3],\n",
       "         [ 6,  7],\n",
       "         [10, 11],\n",
       "         [14, 15],\n",
       "         [18, 19]],\n",
       "\n",
       "        [[22, 23],\n",
       "         [26, 27],\n",
       "         [30, 31],\n",
       "         [34, 35],\n",
       "         [38, 39]]])\n"
      ]
     },
     "metadata": {},
     "output_type": "display_data"
    },
    {
     "data": {
      "text/plain": [
       "[stdout:0] [2025-05-02 14:18:33,505][\u001b[1;36mtensorcraft.distributions.multi_axis\u001b[0m][\u001b[1;35mallgather\u001b[0m][\u001b[1;32mDEBUG\u001b[0m] - R0/4:\u001b[1;32mTensor axis: 1\u001b[0m\n",
       "[2025-05-02 14:18:33,509][\u001b[1;36mtensorcraft.distributions.multi_axis\u001b[0m][\u001b[1;35mallgather\u001b[0m][\u001b[1;32mDEBUG\u001b[0m] - R0/4:\u001b[1;32mMesh axis: 0\u001b[0m\n",
       "[2025-05-02 14:18:33,510][\u001b[1;36mtensorcraft.distributions.multi_axis\u001b[0m][\u001b[1;35mallgather\u001b[0m][\u001b[1;32mDEBUG\u001b[0m] - R0/4:\u001b[1;32mMappings: (0, 1)\u001b[0m\n",
       "[2025-05-02 14:18:33,515][\u001b[1;36mtensorcraft.distributions.multi_axis\u001b[0m][\u001b[1;35mallgather\u001b[0m][\u001b[1;32mDEBUG\u001b[0m] - R0/4:\u001b[1;32mTensor axis: 1\u001b[0m\n",
       "[2025-05-02 14:18:33,518][\u001b[1;36mtensorcraft.distributions.multi_axis\u001b[0m][\u001b[1;35mallgather\u001b[0m][\u001b[1;32mDEBUG\u001b[0m] - R0/4:\u001b[1;32mMesh axis: 0\u001b[0m\n",
       "[2025-05-02 14:18:33,522][\u001b[1;36mtensorcraft.distributions.multi_axis\u001b[0m][\u001b[1;35mallgather\u001b[0m][\u001b[1;32mDEBUG\u001b[0m] - R0/4:\u001b[1;32mMappings: (0, 1)\u001b[0m\n",
       "[2025-05-02 14:18:33,528][\u001b[1;36mtensorcraft.mpi.distributions.multi_axis_dist\u001b[0m][\u001b[1;35m_apply_single_axis_allgather\u001b[0m][\u001b[1;32mDEBUG\u001b[0m] - R0/4:\u001b[1;32mNew distribution: D_[2,2]⊥{∅,1,∅}(∅,1,∅), new shape: torch.Size([2, 5, 2])\u001b[0m\n",
       "[2025-05-02 14:18:33,535][\u001b[1;36mtensorcraft.mpi.distributions.multi_axis_dist\u001b[0m][\u001b[1;35m_apply_single_axis_allgather\u001b[0m][\u001b[1;32mDEBUG\u001b[0m] - R0/4:\u001b[1;32mLocal tensor shape: torch.Size([2, 3, 2])\u001b[0m\n",
       "[2025-05-02 14:18:33,537][\u001b[1;36mtensorcraft.mpi.distributions.multi_axis_dist\u001b[0m][\u001b[1;35m_apply_single_axis_allgather\u001b[0m][\u001b[1;32mDEBUG\u001b[0m] - R0/4:\u001b[1;32mExpected local shape: torch.Size([2, 3, 2])\u001b[0m\n",
       "[2025-05-02 14:18:33,540][\u001b[1;36mtensorcraft.mpi.distributions.multi_axis_dist\u001b[0m][\u001b[1;35m_apply_single_axis_allgather\u001b[0m][\u001b[1;32mDEBUG\u001b[0m] - R0/4:\u001b[1;32mChanged tensor axis: 1\u001b[0m\n",
       "[2025-05-02 14:18:33,549][\u001b[1;36mtensorcraft.mpi.distributions.multi_axis_dist\u001b[0m][\u001b[1;35m_apply_single_axis_allgather\u001b[0m][\u001b[1;32mDEBUG\u001b[0m] - R0/4:\u001b[1;32mProcessor multi index: torch.Size([0, 0])\u001b[0m\n",
       "[2025-05-02 14:18:33,551][\u001b[1;36mtensorcraft.mpi.distributions.multi_axis_dist\u001b[0m][\u001b[1;35m_apply_single_axis_allgather\u001b[0m][\u001b[1;32mDEBUG\u001b[0m] - R0/4:\u001b[1;32mN procs: 2\u001b[0m\n",
       "[2025-05-02 14:18:33,553][\u001b[1;36mtensorcraft.mpi.distributions.multi_axis_dist\u001b[0m][\u001b[1;35m_apply_single_axis_allgather\u001b[0m][\u001b[1;32mDEBUG\u001b[0m] - R0/4:\u001b[1;32mRank of largest tensor in the subcommunicator: [0, 0] 0\u001b[0m\n",
       "[2025-05-02 14:18:33,556][\u001b[1;36mtensorcraft.mpi.distributions.multi_axis_dist\u001b[0m][\u001b[1;35m_apply_single_axis_allgather\u001b[0m][\u001b[1;32mDEBUG\u001b[0m] - R0/4:\u001b[1;32mN elements: 12\u001b[0m\n",
       "[2025-05-02 14:18:33,562][\u001b[1;36mtensorcraft.mpi.distributions.multi_axis_dist\u001b[0m][\u001b[1;35m_apply_single_axis_allgather\u001b[0m][\u001b[1;32mDEBUG\u001b[0m] - R0/4:\u001b[1;32mMax local shape: torch.Size([2, 3, 2])\u001b[0m\n",
       "[2025-05-02 14:18:33,564][\u001b[1;36mtensorcraft.mpi.distributions.multi_axis_dist\u001b[0m][\u001b[1;35m_apply_single_axis_allgather\u001b[0m][\u001b[1;32mDEBUG\u001b[0m] - R0/4:\u001b[1;32mPadding: 0\u001b[0m\n",
       "[2025-05-02 14:18:33,565][\u001b[1;36mtensorcraft.mpi.mpi_utils\u001b[0m][\u001b[1;35mtensor2mpiBuffer\u001b[0m][\u001b[1;32mDEBUG\u001b[0m] - R0/4:\u001b[1;32mtensor_stride: (22, 8, 1)\u001b[0m\n",
       "[2025-05-02 14:18:33,566][\u001b[1;36mtensorcraft.mpi.mpi_utils\u001b[0m][\u001b[1;35mtensor2mpiBuffer\u001b[0m][\u001b[1;32mDEBUG\u001b[0m] - R0/4:\u001b[1;32mtensor_offset: 0\u001b[0m\n",
       "[2025-05-02 14:18:33,567][\u001b[1;36mtensorcraft.mpi.mpi_utils\u001b[0m][\u001b[1;35mtensor2mpiBuffer\u001b[0m][\u001b[1;32mDEBUG\u001b[0m] - R0/4:\u001b[1;32mtensor_shape: torch.Size([2, 3, 2])\u001b[0m\n",
       "[2025-05-02 14:18:33,571][\u001b[1;36mtensorcraft.mpi.mpi_utils\u001b[0m][\u001b[1;35mtensor2mpiBuffer\u001b[0m][\u001b[1;32mDEBUG\u001b[0m] - R0/4:\u001b[1;32mtensor_dtype: torch.int64\u001b[0m\n",
       "[2025-05-02 14:18:33,573][\u001b[1;36mtensorcraft.mpi.distributions.multi_axis_dist\u001b[0m][\u001b[1;35m_apply_single_axis_allgather\u001b[0m][\u001b[1;32mDEBUG\u001b[0m] - R0/4:\u001b[1;32mSend buffer: (<mpi4py.MPI.buffer object at 0x7a682aee5fb0>, 1, <mpi4py.MPI.Datatype object at 0x7a6924265290>)\u001b[0m\n",
       "[2025-05-02 14:18:33,682][\u001b[1;36mtensorcraft.mpi.distributions.multi_axis_dist\u001b[0m][\u001b[1;35m_apply_single_axis_allgather\u001b[0m][\u001b[1;32mDEBUG\u001b[0m] - R0/4:\u001b[1;32mRecv_tensor : tensor([[[[[ 0,  1]],\n",
       "\n",
       "          [[ 8,  9]],\n",
       "\n",
       "          [[16, 17]]],\n",
       "\n",
       "\n",
       "         [[[20, 21]],\n",
       "\n",
       "          [[28, 29]],\n",
       "\n",
       "          [[36, 37]]]],\n",
       "\n",
       "\n",
       "\n",
       "        [[[[ 4,  5]],\n",
       "\n",
       "          [[12, 13]],\n",
       "\n",
       "          [[ 0,  0]]],\n",
       "\n",
       "\n",
       "         [[[24, 25]],\n",
       "\n",
       "          [[32, 33]],\n",
       "\n",
       "          [[ 0,  0]]]]])\u001b[0m\n",
       "[2025-05-02 14:18:33,692][\u001b[1;36mtensorcraft.mpi.distributions.multi_axis_dist\u001b[0m][\u001b[1;35m_apply_single_axis_allgather\u001b[0m][\u001b[1;32mDEBUG\u001b[0m] - R0/4:\u001b[1;32mReshaped tensor shape: torch.Size([2, 6, 2])\u001b[0m\n",
       "[2025-05-02 14:18:33,698][\u001b[1;36mtensorcraft.mpi.distributions.multi_axis_dist\u001b[0m][\u001b[1;35m_apply_single_axis_allgather\u001b[0m][\u001b[1;32mDEBUG\u001b[0m] - R0/4:\u001b[1;32mSlices: [slice(None, None, None), slice(0, 5, None), slice(None, None, None)]\u001b[0m\n",
       "[2025-05-02 14:18:33,700][\u001b[1;36mtensorcraft.mpi.distributions.multi_axis_dist\u001b[0m][\u001b[1;35m_apply_single_axis_allgather\u001b[0m][\u001b[1;32mDEBUG\u001b[0m] - R0/4:\u001b[1;32mFinal tensor shape: torch.Size([2, 5, 2])\u001b[0m\n",
       "tensor([[[ 0,  1],\n",
       "         [ 4,  5],\n",
       "         [ 8,  9],\n",
       "         [12, 13],\n",
       "         [16, 17]],\n",
       "\n",
       "        [[20, 21],\n",
       "         [24, 25],\n",
       "         [28, 29],\n",
       "         [32, 33],\n",
       "         [36, 37]]])\n"
      ]
     },
     "metadata": {},
     "output_type": "display_data"
    },
    {
     "data": {
      "text/plain": [
       "[stdout:1] [2025-05-02 14:18:33,512][\u001b[1;36mtensorcraft.distributions.multi_axis\u001b[0m][\u001b[1;35mallgather\u001b[0m][\u001b[1;32mDEBUG\u001b[0m] - R1/4:\u001b[1;32mTensor axis: 1\u001b[0m\n",
       "[2025-05-02 14:18:33,516][\u001b[1;36mtensorcraft.distributions.multi_axis\u001b[0m][\u001b[1;35mallgather\u001b[0m][\u001b[1;32mDEBUG\u001b[0m] - R1/4:\u001b[1;32mMesh axis: 0\u001b[0m\n",
       "[2025-05-02 14:18:33,522][\u001b[1;36mtensorcraft.distributions.multi_axis\u001b[0m][\u001b[1;35mallgather\u001b[0m][\u001b[1;32mDEBUG\u001b[0m] - R1/4:\u001b[1;32mMappings: (0, 1)\u001b[0m\n",
       "[2025-05-02 14:18:33,536][\u001b[1;36mtensorcraft.distributions.multi_axis\u001b[0m][\u001b[1;35mallgather\u001b[0m][\u001b[1;32mDEBUG\u001b[0m] - R1/4:\u001b[1;32mTensor axis: 1\u001b[0m\n",
       "[2025-05-02 14:18:33,544][\u001b[1;36mtensorcraft.distributions.multi_axis\u001b[0m][\u001b[1;35mallgather\u001b[0m][\u001b[1;32mDEBUG\u001b[0m] - R1/4:\u001b[1;32mMesh axis: 0\u001b[0m\n",
       "[2025-05-02 14:18:33,553][\u001b[1;36mtensorcraft.distributions.multi_axis\u001b[0m][\u001b[1;35mallgather\u001b[0m][\u001b[1;32mDEBUG\u001b[0m] - R1/4:\u001b[1;32mMappings: (0, 1)\u001b[0m\n",
       "[2025-05-02 14:18:33,565][\u001b[1;36mtensorcraft.mpi.distributions.multi_axis_dist\u001b[0m][\u001b[1;35m_apply_single_axis_allgather\u001b[0m][\u001b[1;32mDEBUG\u001b[0m] - R1/4:\u001b[1;32mNew distribution: D_[2,2]⊥{∅,1,∅}(∅,1,∅), new shape: torch.Size([2, 5, 2])\u001b[0m\n",
       "[2025-05-02 14:18:33,579][\u001b[1;36mtensorcraft.mpi.distributions.multi_axis_dist\u001b[0m][\u001b[1;35m_apply_single_axis_allgather\u001b[0m][\u001b[1;32mDEBUG\u001b[0m] - R1/4:\u001b[1;32mLocal tensor shape: torch.Size([2, 3, 2])\u001b[0m\n",
       "[2025-05-02 14:18:33,587][\u001b[1;36mtensorcraft.mpi.distributions.multi_axis_dist\u001b[0m][\u001b[1;35m_apply_single_axis_allgather\u001b[0m][\u001b[1;32mDEBUG\u001b[0m] - R1/4:\u001b[1;32mExpected local shape: torch.Size([2, 3, 2])\u001b[0m\n",
       "[2025-05-02 14:18:33,593][\u001b[1;36mtensorcraft.mpi.distributions.multi_axis_dist\u001b[0m][\u001b[1;35m_apply_single_axis_allgather\u001b[0m][\u001b[1;32mDEBUG\u001b[0m] - R1/4:\u001b[1;32mChanged tensor axis: 1\u001b[0m\n",
       "[2025-05-02 14:18:33,599][\u001b[1;36mtensorcraft.mpi.distributions.multi_axis_dist\u001b[0m][\u001b[1;35m_apply_single_axis_allgather\u001b[0m][\u001b[1;32mDEBUG\u001b[0m] - R1/4:\u001b[1;32mProcessor multi index: torch.Size([0, 1])\u001b[0m\n",
       "[2025-05-02 14:18:33,603][\u001b[1;36mtensorcraft.mpi.distributions.multi_axis_dist\u001b[0m][\u001b[1;35m_apply_single_axis_allgather\u001b[0m][\u001b[1;32mDEBUG\u001b[0m] - R1/4:\u001b[1;32mN procs: 2\u001b[0m\n",
       "[2025-05-02 14:18:33,609][\u001b[1;36mtensorcraft.mpi.distributions.multi_axis_dist\u001b[0m][\u001b[1;35m_apply_single_axis_allgather\u001b[0m][\u001b[1;32mDEBUG\u001b[0m] - R1/4:\u001b[1;32mRank of largest tensor in the subcommunicator: [0, 1] 1\u001b[0m\n",
       "[2025-05-02 14:18:33,617][\u001b[1;36mtensorcraft.mpi.distributions.multi_axis_dist\u001b[0m][\u001b[1;35m_apply_single_axis_allgather\u001b[0m][\u001b[1;32mDEBUG\u001b[0m] - R1/4:\u001b[1;32mN elements: 12\u001b[0m\n",
       "[2025-05-02 14:18:33,619][\u001b[1;36mtensorcraft.mpi.distributions.multi_axis_dist\u001b[0m][\u001b[1;35m_apply_single_axis_allgather\u001b[0m][\u001b[1;32mDEBUG\u001b[0m] - R1/4:\u001b[1;32mMax local shape: torch.Size([2, 3, 2])\u001b[0m\n",
       "[2025-05-02 14:18:33,620][\u001b[1;36mtensorcraft.mpi.distributions.multi_axis_dist\u001b[0m][\u001b[1;35m_apply_single_axis_allgather\u001b[0m][\u001b[1;32mDEBUG\u001b[0m] - R1/4:\u001b[1;32mPadding: 0\u001b[0m\n",
       "[2025-05-02 14:18:33,621][\u001b[1;36mtensorcraft.mpi.mpi_utils\u001b[0m][\u001b[1;35mtensor2mpiBuffer\u001b[0m][\u001b[1;32mDEBUG\u001b[0m] - R1/4:\u001b[1;32mtensor_stride: (22, 8, 1)\u001b[0m\n",
       "[2025-05-02 14:18:33,622][\u001b[1;36mtensorcraft.mpi.mpi_utils\u001b[0m][\u001b[1;35mtensor2mpiBuffer\u001b[0m][\u001b[1;32mDEBUG\u001b[0m] - R1/4:\u001b[1;32mtensor_offset: 2\u001b[0m\n",
       "[2025-05-02 14:18:33,623][\u001b[1;36mtensorcraft.mpi.mpi_utils\u001b[0m][\u001b[1;35mtensor2mpiBuffer\u001b[0m][\u001b[1;32mDEBUG\u001b[0m] - R1/4:\u001b[1;32mtensor_shape: torch.Size([2, 3, 2])\u001b[0m\n",
       "[2025-05-02 14:18:33,625][\u001b[1;36mtensorcraft.mpi.mpi_utils\u001b[0m][\u001b[1;35mtensor2mpiBuffer\u001b[0m][\u001b[1;32mDEBUG\u001b[0m] - R1/4:\u001b[1;32mtensor_dtype: torch.int64\u001b[0m\n",
       "[2025-05-02 14:18:33,626][\u001b[1;36mtensorcraft.mpi.distributions.multi_axis_dist\u001b[0m][\u001b[1;35m_apply_single_axis_allgather\u001b[0m][\u001b[1;32mDEBUG\u001b[0m] - R1/4:\u001b[1;32mSend buffer: (<mpi4py.MPI.buffer object at 0x79e0204c6090>, 1, <mpi4py.MPI.Datatype object at 0x79e1180eccc0>)\u001b[0m\n",
       "[2025-05-02 14:18:33,678][\u001b[1;36mtensorcraft.mpi.distributions.multi_axis_dist\u001b[0m][\u001b[1;35m_apply_single_axis_allgather\u001b[0m][\u001b[1;32mDEBUG\u001b[0m] - R1/4:\u001b[1;32mRecv_tensor : tensor([[[[[ 2,  3]],\n",
       "\n",
       "          [[10, 11]],\n",
       "\n",
       "          [[18, 19]]],\n",
       "\n",
       "\n",
       "         [[[22, 23]],\n",
       "\n",
       "          [[30, 31]],\n",
       "\n",
       "          [[38, 39]]]],\n",
       "\n",
       "\n",
       "\n",
       "        [[[[ 6,  7]],\n",
       "\n",
       "          [[14, 15]],\n",
       "\n",
       "          [[ 0,  0]]],\n",
       "\n",
       "\n",
       "         [[[26, 27]],\n",
       "\n",
       "          [[34, 35]],\n",
       "\n",
       "          [[ 0,  0]]]]])\u001b[0m\n",
       "[2025-05-02 14:18:33,680][\u001b[1;36mtensorcraft.mpi.distributions.multi_axis_dist\u001b[0m][\u001b[1;35m_apply_single_axis_allgather\u001b[0m][\u001b[1;32mDEBUG\u001b[0m] - R1/4:\u001b[1;32mReshaped tensor shape: torch.Size([2, 6, 2])\u001b[0m\n",
       "[2025-05-02 14:18:33,682][\u001b[1;36mtensorcraft.mpi.distributions.multi_axis_dist\u001b[0m][\u001b[1;35m_apply_single_axis_allgather\u001b[0m][\u001b[1;32mDEBUG\u001b[0m] - R1/4:\u001b[1;32mSlices: [slice(None, None, None), slice(0, 5, None), slice(None, None, None)]\u001b[0m\n",
       "[2025-05-02 14:18:33,683][\u001b[1;36mtensorcraft.mpi.distributions.multi_axis_dist\u001b[0m][\u001b[1;35m_apply_single_axis_allgather\u001b[0m][\u001b[1;32mDEBUG\u001b[0m] - R1/4:\u001b[1;32mFinal tensor shape: torch.Size([2, 5, 2])\u001b[0m\n",
       "tensor([[[ 2,  3],\n",
       "         [ 6,  7],\n",
       "         [10, 11],\n",
       "         [14, 15],\n",
       "         [18, 19]],\n",
       "\n",
       "        [[22, 23],\n",
       "         [26, 27],\n",
       "         [30, 31],\n",
       "         [34, 35],\n",
       "         [38, 39]]])\n"
      ]
     },
     "metadata": {},
     "output_type": "display_data"
    },
    {
     "data": {
      "text/plain": [
       "[stdout:2] [2025-05-02 14:18:33,526][\u001b[1;36mtensorcraft.distributions.multi_axis\u001b[0m][\u001b[1;35mallgather\u001b[0m][\u001b[1;32mDEBUG\u001b[0m] - R2/4:\u001b[1;32mTensor axis: 1\u001b[0m\n",
       "[2025-05-02 14:18:33,530][\u001b[1;36mtensorcraft.distributions.multi_axis\u001b[0m][\u001b[1;35mallgather\u001b[0m][\u001b[1;32mDEBUG\u001b[0m] - R2/4:\u001b[1;32mMesh axis: 0\u001b[0m\n",
       "[2025-05-02 14:18:33,531][\u001b[1;36mtensorcraft.distributions.multi_axis\u001b[0m][\u001b[1;35mallgather\u001b[0m][\u001b[1;32mDEBUG\u001b[0m] - R2/4:\u001b[1;32mMappings: (0, 1)\u001b[0m\n",
       "[2025-05-02 14:18:33,536][\u001b[1;36mtensorcraft.distributions.multi_axis\u001b[0m][\u001b[1;35mallgather\u001b[0m][\u001b[1;32mDEBUG\u001b[0m] - R2/4:\u001b[1;32mTensor axis: 1\u001b[0m\n",
       "[2025-05-02 14:18:33,544][\u001b[1;36mtensorcraft.distributions.multi_axis\u001b[0m][\u001b[1;35mallgather\u001b[0m][\u001b[1;32mDEBUG\u001b[0m] - R2/4:\u001b[1;32mMesh axis: 0\u001b[0m\n",
       "[2025-05-02 14:18:33,548][\u001b[1;36mtensorcraft.distributions.multi_axis\u001b[0m][\u001b[1;35mallgather\u001b[0m][\u001b[1;32mDEBUG\u001b[0m] - R2/4:\u001b[1;32mMappings: (0, 1)\u001b[0m\n",
       "[2025-05-02 14:18:33,553][\u001b[1;36mtensorcraft.mpi.distributions.multi_axis_dist\u001b[0m][\u001b[1;35m_apply_single_axis_allgather\u001b[0m][\u001b[1;32mDEBUG\u001b[0m] - R2/4:\u001b[1;32mNew distribution: D_[2,2]⊥{∅,1,∅}(∅,1,∅), new shape: torch.Size([2, 5, 2])\u001b[0m\n",
       "[2025-05-02 14:18:33,558][\u001b[1;36mtensorcraft.mpi.distributions.multi_axis_dist\u001b[0m][\u001b[1;35m_apply_single_axis_allgather\u001b[0m][\u001b[1;32mDEBUG\u001b[0m] - R2/4:\u001b[1;32mLocal tensor shape: torch.Size([2, 2, 2])\u001b[0m\n",
       "[2025-05-02 14:18:33,559][\u001b[1;36mtensorcraft.mpi.distributions.multi_axis_dist\u001b[0m][\u001b[1;35m_apply_single_axis_allgather\u001b[0m][\u001b[1;32mDEBUG\u001b[0m] - R2/4:\u001b[1;32mExpected local shape: torch.Size([2, 2, 2])\u001b[0m\n",
       "[2025-05-02 14:18:33,562][\u001b[1;36mtensorcraft.mpi.distributions.multi_axis_dist\u001b[0m][\u001b[1;35m_apply_single_axis_allgather\u001b[0m][\u001b[1;32mDEBUG\u001b[0m] - R2/4:\u001b[1;32mChanged tensor axis: 1\u001b[0m\n",
       "[2025-05-02 14:18:33,564][\u001b[1;36mtensorcraft.mpi.distributions.multi_axis_dist\u001b[0m][\u001b[1;35m_apply_single_axis_allgather\u001b[0m][\u001b[1;32mDEBUG\u001b[0m] - R2/4:\u001b[1;32mProcessor multi index: torch.Size([1, 0])\u001b[0m\n",
       "[2025-05-02 14:18:33,566][\u001b[1;36mtensorcraft.mpi.distributions.multi_axis_dist\u001b[0m][\u001b[1;35m_apply_single_axis_allgather\u001b[0m][\u001b[1;32mDEBUG\u001b[0m] - R2/4:\u001b[1;32mN procs: 2\u001b[0m\n",
       "[2025-05-02 14:18:33,568][\u001b[1;36mtensorcraft.mpi.distributions.multi_axis_dist\u001b[0m][\u001b[1;35m_apply_single_axis_allgather\u001b[0m][\u001b[1;32mDEBUG\u001b[0m] - R2/4:\u001b[1;32mRank of largest tensor in the subcommunicator: [0, 0] 0\u001b[0m\n",
       "[2025-05-02 14:18:33,577][\u001b[1;36mtensorcraft.mpi.distributions.multi_axis_dist\u001b[0m][\u001b[1;35m_apply_single_axis_allgather\u001b[0m][\u001b[1;32mDEBUG\u001b[0m] - R2/4:\u001b[1;32mN elements: 12\u001b[0m\n",
       "[2025-05-02 14:18:33,579][\u001b[1;36mtensorcraft.mpi.distributions.multi_axis_dist\u001b[0m][\u001b[1;35m_apply_single_axis_allgather\u001b[0m][\u001b[1;32mDEBUG\u001b[0m] - R2/4:\u001b[1;32mMax local shape: torch.Size([2, 3, 2])\u001b[0m\n",
       "[2025-05-02 14:18:33,581][\u001b[1;36mtensorcraft.mpi.distributions.multi_axis_dist\u001b[0m][\u001b[1;35m_apply_single_axis_allgather\u001b[0m][\u001b[1;32mDEBUG\u001b[0m] - R2/4:\u001b[1;32mPadding: 1\u001b[0m\n",
       "[2025-05-02 14:18:33,583][\u001b[1;36mtensorcraft.mpi.distributions.multi_axis_dist\u001b[0m][\u001b[1;35m_apply_single_axis_allgather\u001b[0m][\u001b[1;32mDEBUG\u001b[0m] - R2/4:\u001b[1;32mPadding tuple: [0, 0, 1, 0, 0, 0]\u001b[0m\n",
       "[2025-05-02 14:18:33,585][\u001b[1;36mtensorcraft.mpi.distributions.multi_axis_dist\u001b[0m][\u001b[1;35m_apply_single_axis_allgather\u001b[0m][\u001b[1;32mDEBUG\u001b[0m] - R2/4:\u001b[1;32mPadded local tensor shape: torch.Size([2, 3, 2])\u001b[0m\n",
       "[2025-05-02 14:18:33,592][\u001b[1;36mtensorcraft.mpi.distributions.multi_axis_dist\u001b[0m][\u001b[1;35m_apply_single_axis_allgather\u001b[0m][\u001b[1;32mDEBUG\u001b[0m] - R2/4:\u001b[1;32mPadded local tensor: tensor([[[ 4,  5],\n",
       "         [12, 13],\n",
       "         [ 0,  0]],\n",
       "\n",
       "        [[24, 25],\n",
       "         [32, 33],\n",
       "         [ 0,  0]]])\u001b[0m\n",
       "[2025-05-02 14:18:33,596][\u001b[1;36mtensorcraft.mpi.mpi_utils\u001b[0m][\u001b[1;35mtensor2mpiBuffer\u001b[0m][\u001b[1;32mDEBUG\u001b[0m] - R2/4:\u001b[1;32mtensor_stride: (6, 2, 1)\u001b[0m\n",
       "[2025-05-02 14:18:33,597][\u001b[1;36mtensorcraft.mpi.mpi_utils\u001b[0m][\u001b[1;35mtensor2mpiBuffer\u001b[0m][\u001b[1;32mDEBUG\u001b[0m] - R2/4:\u001b[1;32mtensor_offset: 0\u001b[0m\n",
       "[2025-05-02 14:18:33,598][\u001b[1;36mtensorcraft.mpi.mpi_utils\u001b[0m][\u001b[1;35mtensor2mpiBuffer\u001b[0m][\u001b[1;32mDEBUG\u001b[0m] - R2/4:\u001b[1;32mtensor_shape: torch.Size([2, 3, 2])\u001b[0m\n",
       "[2025-05-02 14:18:33,600][\u001b[1;36mtensorcraft.mpi.mpi_utils\u001b[0m][\u001b[1;35mtensor2mpiBuffer\u001b[0m][\u001b[1;32mDEBUG\u001b[0m] - R2/4:\u001b[1;32mtensor_dtype: torch.int64\u001b[0m\n",
       "[2025-05-02 14:18:33,605][\u001b[1;36mtensorcraft.mpi.mpi_utils\u001b[0m][\u001b[1;35mtensor2mpiBuffer\u001b[0m][\u001b[1;32mDEBUG\u001b[0m] - R2/4:\u001b[1;32mBest case scenario, it is contiguous!\u001b[0m\n",
       "[2025-05-02 14:18:33,609][\u001b[1;36mtensorcraft.mpi.distributions.multi_axis_dist\u001b[0m][\u001b[1;35m_apply_single_axis_allgather\u001b[0m][\u001b[1;32mDEBUG\u001b[0m] - R2/4:\u001b[1;32mSend buffer: (<mpi4py.MPI.buffer object at 0x74da2efde090>, 12, <mpi4py.MPI.Datatype object at 0x74db2c32c6f0>)\u001b[0m\n",
       "[2025-05-02 14:18:33,686][\u001b[1;36mtensorcraft.mpi.distributions.multi_axis_dist\u001b[0m][\u001b[1;35m_apply_single_axis_allgather\u001b[0m][\u001b[1;32mDEBUG\u001b[0m] - R2/4:\u001b[1;32mRecv_tensor : tensor([[[[[ 0,  1]],\n",
       "\n",
       "          [[ 8,  9]],\n",
       "\n",
       "          [[16, 17]]],\n",
       "\n",
       "\n",
       "         [[[20, 21]],\n",
       "\n",
       "          [[28, 29]],\n",
       "\n",
       "          [[36, 37]]]],\n",
       "\n",
       "\n",
       "\n",
       "        [[[[ 4,  5]],\n",
       "\n",
       "          [[12, 13]],\n",
       "\n",
       "          [[ 0,  0]]],\n",
       "\n",
       "\n",
       "         [[[24, 25]],\n",
       "\n",
       "          [[32, 33]],\n",
       "\n",
       "          [[ 0,  0]]]]])\u001b[0m\n",
       "[2025-05-02 14:18:33,693][\u001b[1;36mtensorcraft.mpi.distributions.multi_axis_dist\u001b[0m][\u001b[1;35m_apply_single_axis_allgather\u001b[0m][\u001b[1;32mDEBUG\u001b[0m] - R2/4:\u001b[1;32mReshaped tensor shape: torch.Size([2, 6, 2])\u001b[0m\n",
       "[2025-05-02 14:18:33,697][\u001b[1;36mtensorcraft.mpi.distributions.multi_axis_dist\u001b[0m][\u001b[1;35m_apply_single_axis_allgather\u001b[0m][\u001b[1;32mDEBUG\u001b[0m] - R2/4:\u001b[1;32mSlices: [slice(None, None, None), slice(0, 5, None), slice(None, None, None)]\u001b[0m\n",
       "[2025-05-02 14:18:33,700][\u001b[1;36mtensorcraft.mpi.distributions.multi_axis_dist\u001b[0m][\u001b[1;35m_apply_single_axis_allgather\u001b[0m][\u001b[1;32mDEBUG\u001b[0m] - R2/4:\u001b[1;32mFinal tensor shape: torch.Size([2, 5, 2])\u001b[0m\n",
       "tensor([[[ 0,  1],\n",
       "         [ 4,  5],\n",
       "         [ 8,  9],\n",
       "         [12, 13],\n",
       "         [16, 17]],\n",
       "\n",
       "        [[20, 21],\n",
       "         [24, 25],\n",
       "         [28, 29],\n",
       "         [32, 33],\n",
       "         [36, 37]]])\n"
      ]
     },
     "metadata": {},
     "output_type": "display_data"
    },
    {
     "data": {
      "text/plain": [
       "[stderr:3] /home/juanpedroghm/code/tensorcraft/tensorcraft/util/axis_utils.py:120: UserWarning: To copy construct from a tensor, it is recommended to use sourceTensor.clone().detach() or sourceTensor.clone().detach().requires_grad_(True), rather than torch.tensor(sourceTensor).\n",
       "  index_tensor = torch.tensor(index)\n"
      ]
     },
     "metadata": {},
     "output_type": "display_data"
    },
    {
     "data": {
      "text/plain": [
       "[stderr:1] /home/juanpedroghm/code/tensorcraft/tensorcraft/util/axis_utils.py:120: UserWarning: To copy construct from a tensor, it is recommended to use sourceTensor.clone().detach() or sourceTensor.clone().detach().requires_grad_(True), rather than torch.tensor(sourceTensor).\n",
       "  index_tensor = torch.tensor(index)\n"
      ]
     },
     "metadata": {},
     "output_type": "display_data"
    },
    {
     "data": {
      "text/plain": [
       "[stderr:0] /home/juanpedroghm/code/tensorcraft/tensorcraft/util/axis_utils.py:120: UserWarning: To copy construct from a tensor, it is recommended to use sourceTensor.clone().detach() or sourceTensor.clone().detach().requires_grad_(True), rather than torch.tensor(sourceTensor).\n",
       "  index_tensor = torch.tensor(index)\n"
      ]
     },
     "metadata": {},
     "output_type": "display_data"
    },
    {
     "data": {
      "text/plain": [
       "[stderr:2] /home/juanpedroghm/code/tensorcraft/tensorcraft/util/axis_utils.py:120: UserWarning: To copy construct from a tensor, it is recommended to use sourceTensor.clone().detach() or sourceTensor.clone().detach().requires_grad_(True), rather than torch.tensor(sourceTensor).\n",
       "  index_tensor = torch.tensor(index)\n"
      ]
     },
     "metadata": {},
     "output_type": "display_data"
    }
   ],
   "source": [
    "%%px\n",
    "new_dist, post_gather = dist.apply_allgather(x.shape, x_local, comm, gather_mesh_dim=0)\n",
    "print(post_gather)"
   ]
  },
  {
   "cell_type": "code",
   "execution_count": null,
   "metadata": {},
   "outputs": [
    {
     "data": {
      "text/plain": [
       "\u001b[0;31mOut[2:4]: \u001b[0m\n",
       "tensor([[[ 0,  1],\n",
       "         [ 4,  5],\n",
       "         [ 8,  9],\n",
       "         [12, 13],\n",
       "         [16, 17]],\n",
       "\n",
       "        [[20, 21],\n",
       "         [24, 25],\n",
       "         [28, 29],\n",
       "         [32, 33],\n",
       "         [36, 37]]])"
      ]
     },
     "metadata": {
      "after": null,
      "completed": null,
      "data": {},
      "engine_id": 2,
      "engine_uuid": "1f57be5e-263c2d3698ea3f5522017e5f",
      "error": null,
      "execute_input": "post_gather\n",
      "execute_result": {
       "data": {
        "text/plain": "tensor([[[ 0,  1],\n         [ 4,  5],\n         [ 8,  9],\n         [12, 13],\n         [16, 17]],\n\n        [[20, 21],\n         [24, 25],\n         [28, 29],\n         [32, 33],\n         [36, 37]]])"
       },
       "execution_count": 4,
       "metadata": {}
      },
      "follow": null,
      "msg_id": null,
      "outputs": [],
      "received": null,
      "started": null,
      "status": null,
      "stderr": "",
      "stdout": "",
      "submitted": "2025-05-02T12:19:16.140416Z"
     },
     "output_type": "display_data"
    },
    {
     "data": {
      "text/plain": [
       "\u001b[0;31mOut[0:4]: \u001b[0m\n",
       "tensor([[[ 0,  1],\n",
       "         [ 4,  5],\n",
       "         [ 8,  9],\n",
       "         [12, 13],\n",
       "         [16, 17]],\n",
       "\n",
       "        [[20, 21],\n",
       "         [24, 25],\n",
       "         [28, 29],\n",
       "         [32, 33],\n",
       "         [36, 37]]])"
      ]
     },
     "metadata": {
      "after": null,
      "completed": null,
      "data": {},
      "engine_id": 0,
      "engine_uuid": "543db57a-aa03f3f688255bf1478d11f6",
      "error": null,
      "execute_input": "post_gather\n",
      "execute_result": {
       "data": {
        "text/plain": "tensor([[[ 0,  1],\n         [ 4,  5],\n         [ 8,  9],\n         [12, 13],\n         [16, 17]],\n\n        [[20, 21],\n         [24, 25],\n         [28, 29],\n         [32, 33],\n         [36, 37]]])"
       },
       "execution_count": 4,
       "metadata": {}
      },
      "follow": null,
      "msg_id": null,
      "outputs": [],
      "received": null,
      "started": null,
      "status": null,
      "stderr": "",
      "stdout": "",
      "submitted": "2025-05-02T12:19:16.138488Z"
     },
     "output_type": "display_data"
    },
    {
     "data": {
      "text/plain": [
       "\u001b[0;31mOut[1:4]: \u001b[0m\n",
       "tensor([[[ 2,  3],\n",
       "         [ 6,  7],\n",
       "         [10, 11],\n",
       "         [14, 15],\n",
       "         [18, 19]],\n",
       "\n",
       "        [[22, 23],\n",
       "         [26, 27],\n",
       "         [30, 31],\n",
       "         [34, 35],\n",
       "         [38, 39]]])"
      ]
     },
     "metadata": {
      "after": null,
      "completed": null,
      "data": {},
      "engine_id": 1,
      "engine_uuid": "0d331a0f-aa88197e292a8b599d876c81",
      "error": null,
      "execute_input": "post_gather\n",
      "execute_result": {
       "data": {
        "text/plain": "tensor([[[ 2,  3],\n         [ 6,  7],\n         [10, 11],\n         [14, 15],\n         [18, 19]],\n\n        [[22, 23],\n         [26, 27],\n         [30, 31],\n         [34, 35],\n         [38, 39]]])"
       },
       "execution_count": 4,
       "metadata": {}
      },
      "follow": null,
      "msg_id": null,
      "outputs": [],
      "received": null,
      "started": null,
      "status": null,
      "stderr": "",
      "stdout": "",
      "submitted": "2025-05-02T12:19:16.139454Z"
     },
     "output_type": "display_data"
    },
    {
     "data": {
      "text/plain": [
       "\u001b[0;31mOut[3:4]: \u001b[0m\n",
       "tensor([[[ 2,  3],\n",
       "         [ 6,  7],\n",
       "         [10, 11],\n",
       "         [14, 15],\n",
       "         [18, 19]],\n",
       "\n",
       "        [[22, 23],\n",
       "         [26, 27],\n",
       "         [30, 31],\n",
       "         [34, 35],\n",
       "         [38, 39]]])"
      ]
     },
     "metadata": {
      "after": [],
      "completed": "2025-05-02T12:19:16.162143Z",
      "data": {},
      "engine_id": 3,
      "engine_uuid": "7988defa-219c7142d380c50f323fc46a",
      "error": null,
      "execute_input": "post_gather\n",
      "execute_result": {
       "data": {
        "text/plain": "tensor([[[ 2,  3],\n         [ 6,  7],\n         [10, 11],\n         [14, 15],\n         [18, 19]],\n\n        [[22, 23],\n         [26, 27],\n         [30, 31],\n         [34, 35],\n         [38, 39]]])"
       },
       "execution_count": 4,
       "metadata": {}
      },
      "follow": [],
      "is_broadcast": false,
      "is_coalescing": false,
      "msg_id": "2651df02-373247f1f0a7f3bcc6efb471_136847_16",
      "outputs": [],
      "received": "2025-05-02T12:19:16.165357Z",
      "started": "2025-05-02T12:19:16.148779Z",
      "status": "ok",
      "stderr": "",
      "stdout": "",
      "submitted": "2025-05-02T12:19:16.140486Z"
     },
     "output_type": "display_data"
    }
   ],
   "source": [
    "%%px\n",
    "post_gather"
   ]
  },
  {
   "cell_type": "code",
   "execution_count": null,
   "metadata": {},
   "outputs": [
    {
     "data": {
      "text/plain": [
       "[stdout:0] [2025-05-02 14:19:16,455][\u001b[1;36mtensorcraft.distributions.multi_axis\u001b[0m][\u001b[1;35mallgather\u001b[0m][\u001b[1;32mDEBUG\u001b[0m] - R0/4:\u001b[1;32mTensor axis: 1\u001b[0m\n",
       "[2025-05-02 14:19:16,457][\u001b[1;36mtensorcraft.distributions.multi_axis\u001b[0m][\u001b[1;35mallgather\u001b[0m][\u001b[1;32mDEBUG\u001b[0m] - R0/4:\u001b[1;32mMesh axis: 1\u001b[0m\n",
       "[2025-05-02 14:19:16,458][\u001b[1;36mtensorcraft.distributions.multi_axis\u001b[0m][\u001b[1;35mallgather\u001b[0m][\u001b[1;32mDEBUG\u001b[0m] - R0/4:\u001b[1;32mMappings: (0, 1)\u001b[0m\n",
       "[2025-05-02 14:19:16,461][\u001b[1;36mtensorcraft.distributions.multi_axis\u001b[0m][\u001b[1;35mallgather\u001b[0m][\u001b[1;32mDEBUG\u001b[0m] - R0/4:\u001b[1;32mTensor axis: 1\u001b[0m\n",
       "[2025-05-02 14:19:16,464][\u001b[1;36mtensorcraft.distributions.multi_axis\u001b[0m][\u001b[1;35mallgather\u001b[0m][\u001b[1;32mDEBUG\u001b[0m] - R0/4:\u001b[1;32mMesh axis: 1\u001b[0m\n",
       "[2025-05-02 14:19:16,465][\u001b[1;36mtensorcraft.distributions.multi_axis\u001b[0m][\u001b[1;35mallgather\u001b[0m][\u001b[1;32mDEBUG\u001b[0m] - R0/4:\u001b[1;32mMappings: (0, 1)\u001b[0m\n",
       "[2025-05-02 14:19:16,466][\u001b[1;36mtensorcraft.mpi.distributions.multi_axis_dist\u001b[0m][\u001b[1;35m_apply_single_axis_allgather\u001b[0m][\u001b[1;32mDEBUG\u001b[0m] - R0/4:\u001b[1;32mNew distribution: D_[2,2]⊥{∅,0,∅}(∅,2,∅), new shape: torch.Size([2, 6, 2])\u001b[0m\n",
       "[2025-05-02 14:19:16,467][\u001b[1;36mtensorcraft.mpi.distributions.multi_axis_dist\u001b[0m][\u001b[1;35m_apply_single_axis_allgather\u001b[0m][\u001b[1;32mDEBUG\u001b[0m] - R0/4:\u001b[1;32mLocal tensor shape: torch.Size([2, 3, 2])\u001b[0m\n",
       "[2025-05-02 14:19:16,468][\u001b[1;36mtensorcraft.mpi.distributions.multi_axis_dist\u001b[0m][\u001b[1;35m_apply_single_axis_allgather\u001b[0m][\u001b[1;32mDEBUG\u001b[0m] - R0/4:\u001b[1;32mExpected local shape: torch.Size([2, 3, 2])\u001b[0m\n",
       "[2025-05-02 14:19:16,468][\u001b[1;36mtensorcraft.mpi.distributions.multi_axis_dist\u001b[0m][\u001b[1;35m_apply_single_axis_allgather\u001b[0m][\u001b[1;32mDEBUG\u001b[0m] - R0/4:\u001b[1;32mChanged tensor axis: 1\u001b[0m\n",
       "[2025-05-02 14:19:16,469][\u001b[1;36mtensorcraft.mpi.distributions.multi_axis_dist\u001b[0m][\u001b[1;35m_apply_single_axis_allgather\u001b[0m][\u001b[1;32mDEBUG\u001b[0m] - R0/4:\u001b[1;32mProcessor multi index: torch.Size([0, 0])\u001b[0m\n",
       "[2025-05-02 14:19:16,469][\u001b[1;36mtensorcraft.mpi.distributions.multi_axis_dist\u001b[0m][\u001b[1;35m_apply_single_axis_allgather\u001b[0m][\u001b[1;32mDEBUG\u001b[0m] - R0/4:\u001b[1;32mN procs: 2\u001b[0m\n",
       "[2025-05-02 14:19:16,469][\u001b[1;36mtensorcraft.mpi.distributions.multi_axis_dist\u001b[0m][\u001b[1;35m_apply_single_axis_allgather\u001b[0m][\u001b[1;32mDEBUG\u001b[0m] - R0/4:\u001b[1;32mRank of largest tensor in the subcommunicator: [0, 0] 0\u001b[0m\n",
       "[2025-05-02 14:19:16,471][\u001b[1;36mtensorcraft.mpi.distributions.multi_axis_dist\u001b[0m][\u001b[1;35m_apply_single_axis_allgather\u001b[0m][\u001b[1;32mDEBUG\u001b[0m] - R0/4:\u001b[1;32mN elements: 12\u001b[0m\n",
       "[2025-05-02 14:19:16,472][\u001b[1;36mtensorcraft.mpi.distributions.multi_axis_dist\u001b[0m][\u001b[1;35m_apply_single_axis_allgather\u001b[0m][\u001b[1;32mDEBUG\u001b[0m] - R0/4:\u001b[1;32mMax local shape: torch.Size([2, 3, 2])\u001b[0m\n",
       "[2025-05-02 14:19:16,472][\u001b[1;36mtensorcraft.mpi.distributions.multi_axis_dist\u001b[0m][\u001b[1;35m_apply_single_axis_allgather\u001b[0m][\u001b[1;32mDEBUG\u001b[0m] - R0/4:\u001b[1;32mPadding: 0\u001b[0m\n",
       "[2025-05-02 14:19:16,472][\u001b[1;36mtensorcraft.mpi.mpi_utils\u001b[0m][\u001b[1;35mtensor2mpiBuffer\u001b[0m][\u001b[1;32mDEBUG\u001b[0m] - R0/4:\u001b[1;32mtensor_stride: (22, 8, 1)\u001b[0m\n",
       "[2025-05-02 14:19:16,473][\u001b[1;36mtensorcraft.mpi.mpi_utils\u001b[0m][\u001b[1;35mtensor2mpiBuffer\u001b[0m][\u001b[1;32mDEBUG\u001b[0m] - R0/4:\u001b[1;32mtensor_offset: 0\u001b[0m\n",
       "[2025-05-02 14:19:16,473][\u001b[1;36mtensorcraft.mpi.mpi_utils\u001b[0m][\u001b[1;35mtensor2mpiBuffer\u001b[0m][\u001b[1;32mDEBUG\u001b[0m] - R0/4:\u001b[1;32mtensor_shape: torch.Size([2, 3, 2])\u001b[0m\n",
       "[2025-05-02 14:19:16,473][\u001b[1;36mtensorcraft.mpi.mpi_utils\u001b[0m][\u001b[1;35mtensor2mpiBuffer\u001b[0m][\u001b[1;32mDEBUG\u001b[0m] - R0/4:\u001b[1;32mtensor_dtype: torch.int64\u001b[0m\n",
       "[2025-05-02 14:19:16,473][\u001b[1;36mtensorcraft.mpi.distributions.multi_axis_dist\u001b[0m][\u001b[1;35m_apply_single_axis_allgather\u001b[0m][\u001b[1;32mDEBUG\u001b[0m] - R0/4:\u001b[1;32mSend buffer: (<mpi4py.MPI.buffer object at 0x7a682aee6090>, 1, <mpi4py.MPI.Datatype object at 0x7a682df8f990>)\u001b[0m\n",
       "[2025-05-02 14:19:16,517][\u001b[1;36mtensorcraft.mpi.distributions.multi_axis_dist\u001b[0m][\u001b[1;35m_apply_single_axis_allgather\u001b[0m][\u001b[1;32mDEBUG\u001b[0m] - R0/4:\u001b[1;32mRecv_tensor : tensor([[[[[ 0,  1]],\n",
       "\n",
       "          [[ 8,  9]],\n",
       "\n",
       "          [[16, 17]]],\n",
       "\n",
       "\n",
       "         [[[20, 21]],\n",
       "\n",
       "          [[28, 29]],\n",
       "\n",
       "          [[36, 37]]]],\n",
       "\n",
       "\n",
       "\n",
       "        [[[[ 2,  3]],\n",
       "\n",
       "          [[10, 11]],\n",
       "\n",
       "          [[18, 19]]],\n",
       "\n",
       "\n",
       "         [[[22, 23]],\n",
       "\n",
       "          [[30, 31]],\n",
       "\n",
       "          [[38, 39]]]]])\u001b[0m\n",
       "[2025-05-02 14:19:16,519][\u001b[1;36mtensorcraft.mpi.distributions.multi_axis_dist\u001b[0m][\u001b[1;35m_apply_single_axis_allgather\u001b[0m][\u001b[1;32mDEBUG\u001b[0m] - R0/4:\u001b[1;32mReshaped tensor shape: torch.Size([2, 6, 2])\u001b[0m\n",
       "[2025-05-02 14:19:16,520][\u001b[1;36mtensorcraft.mpi.distributions.multi_axis_dist\u001b[0m][\u001b[1;35m_apply_single_axis_allgather\u001b[0m][\u001b[1;32mDEBUG\u001b[0m] - R0/4:\u001b[1;32mSlices: [slice(None, None, None), slice(0, 6, None), slice(None, None, None)]\u001b[0m\n",
       "[2025-05-02 14:19:16,521][\u001b[1;36mtensorcraft.mpi.distributions.multi_axis_dist\u001b[0m][\u001b[1;35m_apply_single_axis_allgather\u001b[0m][\u001b[1;32mDEBUG\u001b[0m] - R0/4:\u001b[1;32mFinal tensor shape: torch.Size([2, 6, 2])\u001b[0m\n",
       "tensor([[[ 0,  1],\n",
       "         [ 2,  3],\n",
       "         [ 8,  9],\n",
       "         [10, 11],\n",
       "         [16, 17],\n",
       "         [18, 19]],\n",
       "\n",
       "        [[20, 21],\n",
       "         [22, 23],\n",
       "         [28, 29],\n",
       "         [30, 31],\n",
       "         [36, 37],\n",
       "         [38, 39]]])\n"
      ]
     },
     "metadata": {},
     "output_type": "display_data"
    },
    {
     "data": {
      "text/plain": [
       "[stdout:3] [2025-05-02 14:19:16,456][\u001b[1;36mtensorcraft.distributions.multi_axis\u001b[0m][\u001b[1;35mallgather\u001b[0m][\u001b[1;32mDEBUG\u001b[0m] - R3/4:\u001b[1;32mTensor axis: 1\u001b[0m\n",
       "[2025-05-02 14:19:16,458][\u001b[1;36mtensorcraft.distributions.multi_axis\u001b[0m][\u001b[1;35mallgather\u001b[0m][\u001b[1;32mDEBUG\u001b[0m] - R3/4:\u001b[1;32mMesh axis: 1\u001b[0m\n",
       "[2025-05-02 14:19:16,459][\u001b[1;36mtensorcraft.distributions.multi_axis\u001b[0m][\u001b[1;35mallgather\u001b[0m][\u001b[1;32mDEBUG\u001b[0m] - R3/4:\u001b[1;32mMappings: (0, 1)\u001b[0m\n",
       "[2025-05-02 14:19:16,461][\u001b[1;36mtensorcraft.distributions.multi_axis\u001b[0m][\u001b[1;35mallgather\u001b[0m][\u001b[1;32mDEBUG\u001b[0m] - R3/4:\u001b[1;32mTensor axis: 1\u001b[0m\n",
       "[2025-05-02 14:19:16,463][\u001b[1;36mtensorcraft.distributions.multi_axis\u001b[0m][\u001b[1;35mallgather\u001b[0m][\u001b[1;32mDEBUG\u001b[0m] - R3/4:\u001b[1;32mMesh axis: 1\u001b[0m\n",
       "[2025-05-02 14:19:16,464][\u001b[1;36mtensorcraft.distributions.multi_axis\u001b[0m][\u001b[1;35mallgather\u001b[0m][\u001b[1;32mDEBUG\u001b[0m] - R3/4:\u001b[1;32mMappings: (0, 1)\u001b[0m\n",
       "[2025-05-02 14:19:16,465][\u001b[1;36mtensorcraft.mpi.distributions.multi_axis_dist\u001b[0m][\u001b[1;35m_apply_single_axis_allgather\u001b[0m][\u001b[1;32mDEBUG\u001b[0m] - R3/4:\u001b[1;32mNew distribution: D_[2,2]⊥{∅,0,∅}(∅,2,∅), new shape: torch.Size([2, 4, 2])\u001b[0m\n",
       "[2025-05-02 14:19:16,467][\u001b[1;36mtensorcraft.mpi.distributions.multi_axis_dist\u001b[0m][\u001b[1;35m_apply_single_axis_allgather\u001b[0m][\u001b[1;32mDEBUG\u001b[0m] - R3/4:\u001b[1;32mLocal tensor shape: torch.Size([2, 2, 2])\u001b[0m\n",
       "[2025-05-02 14:19:16,468][\u001b[1;36mtensorcraft.mpi.distributions.multi_axis_dist\u001b[0m][\u001b[1;35m_apply_single_axis_allgather\u001b[0m][\u001b[1;32mDEBUG\u001b[0m] - R3/4:\u001b[1;32mExpected local shape: torch.Size([2, 2, 2])\u001b[0m\n",
       "[2025-05-02 14:19:16,468][\u001b[1;36mtensorcraft.mpi.distributions.multi_axis_dist\u001b[0m][\u001b[1;35m_apply_single_axis_allgather\u001b[0m][\u001b[1;32mDEBUG\u001b[0m] - R3/4:\u001b[1;32mChanged tensor axis: 1\u001b[0m\n",
       "[2025-05-02 14:19:16,469][\u001b[1;36mtensorcraft.mpi.distributions.multi_axis_dist\u001b[0m][\u001b[1;35m_apply_single_axis_allgather\u001b[0m][\u001b[1;32mDEBUG\u001b[0m] - R3/4:\u001b[1;32mProcessor multi index: torch.Size([1, 1])\u001b[0m\n",
       "[2025-05-02 14:19:16,469][\u001b[1;36mtensorcraft.mpi.distributions.multi_axis_dist\u001b[0m][\u001b[1;35m_apply_single_axis_allgather\u001b[0m][\u001b[1;32mDEBUG\u001b[0m] - R3/4:\u001b[1;32mN procs: 2\u001b[0m\n",
       "[2025-05-02 14:19:16,472][\u001b[1;36mtensorcraft.mpi.distributions.multi_axis_dist\u001b[0m][\u001b[1;35m_apply_single_axis_allgather\u001b[0m][\u001b[1;32mDEBUG\u001b[0m] - R3/4:\u001b[1;32mRank of largest tensor in the subcommunicator: [1, 0] 2\u001b[0m\n",
       "[2025-05-02 14:19:16,472][\u001b[1;36mtensorcraft.mpi.distributions.multi_axis_dist\u001b[0m][\u001b[1;35m_apply_single_axis_allgather\u001b[0m][\u001b[1;32mDEBUG\u001b[0m] - R3/4:\u001b[1;32mN elements: 8\u001b[0m\n",
       "[2025-05-02 14:19:16,475][\u001b[1;36mtensorcraft.mpi.distributions.multi_axis_dist\u001b[0m][\u001b[1;35m_apply_single_axis_allgather\u001b[0m][\u001b[1;32mDEBUG\u001b[0m] - R3/4:\u001b[1;32mMax local shape: torch.Size([2, 2, 2])\u001b[0m\n",
       "[2025-05-02 14:19:16,476][\u001b[1;36mtensorcraft.mpi.distributions.multi_axis_dist\u001b[0m][\u001b[1;35m_apply_single_axis_allgather\u001b[0m][\u001b[1;32mDEBUG\u001b[0m] - R3/4:\u001b[1;32mPadding: 0\u001b[0m\n",
       "[2025-05-02 14:19:16,476][\u001b[1;36mtensorcraft.mpi.mpi_utils\u001b[0m][\u001b[1;35mtensor2mpiBuffer\u001b[0m][\u001b[1;32mDEBUG\u001b[0m] - R3/4:\u001b[1;32mtensor_stride: (22, 8, 1)\u001b[0m\n",
       "[2025-05-02 14:19:16,478][\u001b[1;36mtensorcraft.mpi.mpi_utils\u001b[0m][\u001b[1;35mtensor2mpiBuffer\u001b[0m][\u001b[1;32mDEBUG\u001b[0m] - R3/4:\u001b[1;32mtensor_offset: 6\u001b[0m\n",
       "[2025-05-02 14:19:16,478][\u001b[1;36mtensorcraft.mpi.mpi_utils\u001b[0m][\u001b[1;35mtensor2mpiBuffer\u001b[0m][\u001b[1;32mDEBUG\u001b[0m] - R3/4:\u001b[1;32mtensor_shape: torch.Size([2, 2, 2])\u001b[0m\n",
       "[2025-05-02 14:19:16,479][\u001b[1;36mtensorcraft.mpi.mpi_utils\u001b[0m][\u001b[1;35mtensor2mpiBuffer\u001b[0m][\u001b[1;32mDEBUG\u001b[0m] - R3/4:\u001b[1;32mtensor_dtype: torch.int64\u001b[0m\n",
       "[2025-05-02 14:19:16,479][\u001b[1;36mtensorcraft.mpi.distributions.multi_axis_dist\u001b[0m][\u001b[1;35m_apply_single_axis_allgather\u001b[0m][\u001b[1;32mDEBUG\u001b[0m] - R3/4:\u001b[1;32mSend buffer: (<mpi4py.MPI.buffer object at 0x7a14854ba090>, 1, <mpi4py.MPI.Datatype object at 0x7a157bf91fb0>)\u001b[0m\n",
       "[2025-05-02 14:19:16,524][\u001b[1;36mtensorcraft.mpi.distributions.multi_axis_dist\u001b[0m][\u001b[1;35m_apply_single_axis_allgather\u001b[0m][\u001b[1;32mDEBUG\u001b[0m] - R3/4:\u001b[1;32mRecv_tensor : tensor([[[[[ 4,  5]],\n",
       "\n",
       "          [[12, 13]]],\n",
       "\n",
       "\n",
       "         [[[24, 25]],\n",
       "\n",
       "          [[32, 33]]]],\n",
       "\n",
       "\n",
       "\n",
       "        [[[[ 6,  7]],\n",
       "\n",
       "          [[14, 15]]],\n",
       "\n",
       "\n",
       "         [[[26, 27]],\n",
       "\n",
       "          [[34, 35]]]]])\u001b[0m\n",
       "[2025-05-02 14:19:16,529][\u001b[1;36mtensorcraft.mpi.distributions.multi_axis_dist\u001b[0m][\u001b[1;35m_apply_single_axis_allgather\u001b[0m][\u001b[1;32mDEBUG\u001b[0m] - R3/4:\u001b[1;32mReshaped tensor shape: torch.Size([2, 4, 2])\u001b[0m\n",
       "[2025-05-02 14:19:16,530][\u001b[1;36mtensorcraft.mpi.distributions.multi_axis_dist\u001b[0m][\u001b[1;35m_apply_single_axis_allgather\u001b[0m][\u001b[1;32mDEBUG\u001b[0m] - R3/4:\u001b[1;32mSlices: [slice(None, None, None), slice(0, 4, None), slice(None, None, None)]\u001b[0m\n",
       "[2025-05-02 14:19:16,534][\u001b[1;36mtensorcraft.mpi.distributions.multi_axis_dist\u001b[0m][\u001b[1;35m_apply_single_axis_allgather\u001b[0m][\u001b[1;32mDEBUG\u001b[0m] - R3/4:\u001b[1;32mFinal tensor shape: torch.Size([2, 4, 2])\u001b[0m\n",
       "tensor([[[ 4,  5],\n",
       "         [ 6,  7],\n",
       "         [12, 13],\n",
       "         [14, 15]],\n",
       "\n",
       "        [[24, 25],\n",
       "         [26, 27],\n",
       "         [32, 33],\n",
       "         [34, 35]]])\n"
      ]
     },
     "metadata": {},
     "output_type": "display_data"
    },
    {
     "data": {
      "text/plain": [
       "[stdout:1] [2025-05-02 14:19:16,457][\u001b[1;36mtensorcraft.distributions.multi_axis\u001b[0m][\u001b[1;35mallgather\u001b[0m][\u001b[1;32mDEBUG\u001b[0m] - R1/4:\u001b[1;32mTensor axis: 1\u001b[0m\n",
       "[2025-05-02 14:19:16,460][\u001b[1;36mtensorcraft.distributions.multi_axis\u001b[0m][\u001b[1;35mallgather\u001b[0m][\u001b[1;32mDEBUG\u001b[0m] - R1/4:\u001b[1;32mMesh axis: 1\u001b[0m\n",
       "[2025-05-02 14:19:16,461][\u001b[1;36mtensorcraft.distributions.multi_axis\u001b[0m][\u001b[1;35mallgather\u001b[0m][\u001b[1;32mDEBUG\u001b[0m] - R1/4:\u001b[1;32mMappings: (0, 1)\u001b[0m\n",
       "[2025-05-02 14:19:16,465][\u001b[1;36mtensorcraft.distributions.multi_axis\u001b[0m][\u001b[1;35mallgather\u001b[0m][\u001b[1;32mDEBUG\u001b[0m] - R1/4:\u001b[1;32mTensor axis: 1\u001b[0m\n",
       "[2025-05-02 14:19:16,465][\u001b[1;36mtensorcraft.distributions.multi_axis\u001b[0m][\u001b[1;35mallgather\u001b[0m][\u001b[1;32mDEBUG\u001b[0m] - R1/4:\u001b[1;32mMesh axis: 1\u001b[0m\n",
       "[2025-05-02 14:19:16,465][\u001b[1;36mtensorcraft.distributions.multi_axis\u001b[0m][\u001b[1;35mallgather\u001b[0m][\u001b[1;32mDEBUG\u001b[0m] - R1/4:\u001b[1;32mMappings: (0, 1)\u001b[0m\n",
       "[2025-05-02 14:19:16,467][\u001b[1;36mtensorcraft.mpi.distributions.multi_axis_dist\u001b[0m][\u001b[1;35m_apply_single_axis_allgather\u001b[0m][\u001b[1;32mDEBUG\u001b[0m] - R1/4:\u001b[1;32mNew distribution: D_[2,2]⊥{∅,0,∅}(∅,2,∅), new shape: torch.Size([2, 6, 2])\u001b[0m\n",
       "[2025-05-02 14:19:16,468][\u001b[1;36mtensorcraft.mpi.distributions.multi_axis_dist\u001b[0m][\u001b[1;35m_apply_single_axis_allgather\u001b[0m][\u001b[1;32mDEBUG\u001b[0m] - R1/4:\u001b[1;32mLocal tensor shape: torch.Size([2, 3, 2])\u001b[0m\n",
       "[2025-05-02 14:19:16,469][\u001b[1;36mtensorcraft.mpi.distributions.multi_axis_dist\u001b[0m][\u001b[1;35m_apply_single_axis_allgather\u001b[0m][\u001b[1;32mDEBUG\u001b[0m] - R1/4:\u001b[1;32mExpected local shape: torch.Size([2, 3, 2])\u001b[0m\n",
       "[2025-05-02 14:19:16,469][\u001b[1;36mtensorcraft.mpi.distributions.multi_axis_dist\u001b[0m][\u001b[1;35m_apply_single_axis_allgather\u001b[0m][\u001b[1;32mDEBUG\u001b[0m] - R1/4:\u001b[1;32mChanged tensor axis: 1\u001b[0m\n",
       "[2025-05-02 14:19:16,469][\u001b[1;36mtensorcraft.mpi.distributions.multi_axis_dist\u001b[0m][\u001b[1;35m_apply_single_axis_allgather\u001b[0m][\u001b[1;32mDEBUG\u001b[0m] - R1/4:\u001b[1;32mProcessor multi index: torch.Size([0, 1])\u001b[0m\n",
       "[2025-05-02 14:19:16,470][\u001b[1;36mtensorcraft.mpi.distributions.multi_axis_dist\u001b[0m][\u001b[1;35m_apply_single_axis_allgather\u001b[0m][\u001b[1;32mDEBUG\u001b[0m] - R1/4:\u001b[1;32mN procs: 2\u001b[0m\n",
       "[2025-05-02 14:19:16,471][\u001b[1;36mtensorcraft.mpi.distributions.multi_axis_dist\u001b[0m][\u001b[1;35m_apply_single_axis_allgather\u001b[0m][\u001b[1;32mDEBUG\u001b[0m] - R1/4:\u001b[1;32mRank of largest tensor in the subcommunicator: [0, 0] 0\u001b[0m\n",
       "[2025-05-02 14:19:16,472][\u001b[1;36mtensorcraft.mpi.distributions.multi_axis_dist\u001b[0m][\u001b[1;35m_apply_single_axis_allgather\u001b[0m][\u001b[1;32mDEBUG\u001b[0m] - R1/4:\u001b[1;32mN elements: 12\u001b[0m\n",
       "[2025-05-02 14:19:16,472][\u001b[1;36mtensorcraft.mpi.distributions.multi_axis_dist\u001b[0m][\u001b[1;35m_apply_single_axis_allgather\u001b[0m][\u001b[1;32mDEBUG\u001b[0m] - R1/4:\u001b[1;32mMax local shape: torch.Size([2, 3, 2])\u001b[0m\n",
       "[2025-05-02 14:19:16,473][\u001b[1;36mtensorcraft.mpi.distributions.multi_axis_dist\u001b[0m][\u001b[1;35m_apply_single_axis_allgather\u001b[0m][\u001b[1;32mDEBUG\u001b[0m] - R1/4:\u001b[1;32mPadding: 0\u001b[0m\n",
       "[2025-05-02 14:19:16,473][\u001b[1;36mtensorcraft.mpi.mpi_utils\u001b[0m][\u001b[1;35mtensor2mpiBuffer\u001b[0m][\u001b[1;32mDEBUG\u001b[0m] - R1/4:\u001b[1;32mtensor_stride: (22, 8, 1)\u001b[0m\n",
       "[2025-05-02 14:19:16,473][\u001b[1;36mtensorcraft.mpi.mpi_utils\u001b[0m][\u001b[1;35mtensor2mpiBuffer\u001b[0m][\u001b[1;32mDEBUG\u001b[0m] - R1/4:\u001b[1;32mtensor_offset: 2\u001b[0m\n",
       "[2025-05-02 14:19:16,474][\u001b[1;36mtensorcraft.mpi.mpi_utils\u001b[0m][\u001b[1;35mtensor2mpiBuffer\u001b[0m][\u001b[1;32mDEBUG\u001b[0m] - R1/4:\u001b[1;32mtensor_shape: torch.Size([2, 3, 2])\u001b[0m\n",
       "[2025-05-02 14:19:16,474][\u001b[1;36mtensorcraft.mpi.mpi_utils\u001b[0m][\u001b[1;35mtensor2mpiBuffer\u001b[0m][\u001b[1;32mDEBUG\u001b[0m] - R1/4:\u001b[1;32mtensor_dtype: torch.int64\u001b[0m\n",
       "[2025-05-02 14:19:16,474][\u001b[1;36mtensorcraft.mpi.distributions.multi_axis_dist\u001b[0m][\u001b[1;35m_apply_single_axis_allgather\u001b[0m][\u001b[1;32mDEBUG\u001b[0m] - R1/4:\u001b[1;32mSend buffer: (<mpi4py.MPI.buffer object at 0x79e0204c6100>, 1, <mpi4py.MPI.Datatype object at 0x79e0235678d0>)\u001b[0m\n",
       "[2025-05-02 14:19:16,516][\u001b[1;36mtensorcraft.mpi.distributions.multi_axis_dist\u001b[0m][\u001b[1;35m_apply_single_axis_allgather\u001b[0m][\u001b[1;32mDEBUG\u001b[0m] - R1/4:\u001b[1;32mRecv_tensor : tensor([[[[[ 0,  1]],\n",
       "\n",
       "          [[ 8,  9]],\n",
       "\n",
       "          [[16, 17]]],\n",
       "\n",
       "\n",
       "         [[[20, 21]],\n",
       "\n",
       "          [[28, 29]],\n",
       "\n",
       "          [[36, 37]]]],\n",
       "\n",
       "\n",
       "\n",
       "        [[[[ 2,  3]],\n",
       "\n",
       "          [[10, 11]],\n",
       "\n",
       "          [[18, 19]]],\n",
       "\n",
       "\n",
       "         [[[22, 23]],\n",
       "\n",
       "          [[30, 31]],\n",
       "\n",
       "          [[38, 39]]]]])\u001b[0m\n",
       "[2025-05-02 14:19:16,519][\u001b[1;36mtensorcraft.mpi.distributions.multi_axis_dist\u001b[0m][\u001b[1;35m_apply_single_axis_allgather\u001b[0m][\u001b[1;32mDEBUG\u001b[0m] - R1/4:\u001b[1;32mReshaped tensor shape: torch.Size([2, 6, 2])\u001b[0m\n",
       "[2025-05-02 14:19:16,520][\u001b[1;36mtensorcraft.mpi.distributions.multi_axis_dist\u001b[0m][\u001b[1;35m_apply_single_axis_allgather\u001b[0m][\u001b[1;32mDEBUG\u001b[0m] - R1/4:\u001b[1;32mSlices: [slice(None, None, None), slice(0, 6, None), slice(None, None, None)]\u001b[0m\n",
       "[2025-05-02 14:19:16,521][\u001b[1;36mtensorcraft.mpi.distributions.multi_axis_dist\u001b[0m][\u001b[1;35m_apply_single_axis_allgather\u001b[0m][\u001b[1;32mDEBUG\u001b[0m] - R1/4:\u001b[1;32mFinal tensor shape: torch.Size([2, 6, 2])\u001b[0m\n",
       "tensor([[[ 0,  1],\n",
       "         [ 2,  3],\n",
       "         [ 8,  9],\n",
       "         [10, 11],\n",
       "         [16, 17],\n",
       "         [18, 19]],\n",
       "\n",
       "        [[20, 21],\n",
       "         [22, 23],\n",
       "         [28, 29],\n",
       "         [30, 31],\n",
       "         [36, 37],\n",
       "         [38, 39]]])\n"
      ]
     },
     "metadata": {},
     "output_type": "display_data"
    },
    {
     "data": {
      "text/plain": [
       "[stdout:2] [2025-05-02 14:19:16,465][\u001b[1;36mtensorcraft.distributions.multi_axis\u001b[0m][\u001b[1;35mallgather\u001b[0m][\u001b[1;32mDEBUG\u001b[0m] - R2/4:\u001b[1;32mTensor axis: 1\u001b[0m\n",
       "[2025-05-02 14:19:16,471][\u001b[1;36mtensorcraft.distributions.multi_axis\u001b[0m][\u001b[1;35mallgather\u001b[0m][\u001b[1;32mDEBUG\u001b[0m] - R2/4:\u001b[1;32mMesh axis: 1\u001b[0m\n",
       "[2025-05-02 14:19:16,472][\u001b[1;36mtensorcraft.distributions.multi_axis\u001b[0m][\u001b[1;35mallgather\u001b[0m][\u001b[1;32mDEBUG\u001b[0m] - R2/4:\u001b[1;32mMappings: (0, 1)\u001b[0m\n",
       "[2025-05-02 14:19:16,473][\u001b[1;36mtensorcraft.distributions.multi_axis\u001b[0m][\u001b[1;35mallgather\u001b[0m][\u001b[1;32mDEBUG\u001b[0m] - R2/4:\u001b[1;32mTensor axis: 1\u001b[0m\n",
       "[2025-05-02 14:19:16,473][\u001b[1;36mtensorcraft.distributions.multi_axis\u001b[0m][\u001b[1;35mallgather\u001b[0m][\u001b[1;32mDEBUG\u001b[0m] - R2/4:\u001b[1;32mMesh axis: 1\u001b[0m\n",
       "[2025-05-02 14:19:16,474][\u001b[1;36mtensorcraft.distributions.multi_axis\u001b[0m][\u001b[1;35mallgather\u001b[0m][\u001b[1;32mDEBUG\u001b[0m] - R2/4:\u001b[1;32mMappings: (0, 1)\u001b[0m\n",
       "[2025-05-02 14:19:16,475][\u001b[1;36mtensorcraft.mpi.distributions.multi_axis_dist\u001b[0m][\u001b[1;35m_apply_single_axis_allgather\u001b[0m][\u001b[1;32mDEBUG\u001b[0m] - R2/4:\u001b[1;32mNew distribution: D_[2,2]⊥{∅,0,∅}(∅,2,∅), new shape: torch.Size([2, 4, 2])\u001b[0m\n",
       "[2025-05-02 14:19:16,478][\u001b[1;36mtensorcraft.mpi.distributions.multi_axis_dist\u001b[0m][\u001b[1;35m_apply_single_axis_allgather\u001b[0m][\u001b[1;32mDEBUG\u001b[0m] - R2/4:\u001b[1;32mLocal tensor shape: torch.Size([2, 2, 2])\u001b[0m\n",
       "[2025-05-02 14:19:16,479][\u001b[1;36mtensorcraft.mpi.distributions.multi_axis_dist\u001b[0m][\u001b[1;35m_apply_single_axis_allgather\u001b[0m][\u001b[1;32mDEBUG\u001b[0m] - R2/4:\u001b[1;32mExpected local shape: torch.Size([2, 2, 2])\u001b[0m\n",
       "[2025-05-02 14:19:16,481][\u001b[1;36mtensorcraft.mpi.distributions.multi_axis_dist\u001b[0m][\u001b[1;35m_apply_single_axis_allgather\u001b[0m][\u001b[1;32mDEBUG\u001b[0m] - R2/4:\u001b[1;32mChanged tensor axis: 1\u001b[0m\n",
       "[2025-05-02 14:19:16,484][\u001b[1;36mtensorcraft.mpi.distributions.multi_axis_dist\u001b[0m][\u001b[1;35m_apply_single_axis_allgather\u001b[0m][\u001b[1;32mDEBUG\u001b[0m] - R2/4:\u001b[1;32mProcessor multi index: torch.Size([1, 0])\u001b[0m\n",
       "[2025-05-02 14:19:16,485][\u001b[1;36mtensorcraft.mpi.distributions.multi_axis_dist\u001b[0m][\u001b[1;35m_apply_single_axis_allgather\u001b[0m][\u001b[1;32mDEBUG\u001b[0m] - R2/4:\u001b[1;32mN procs: 2\u001b[0m\n",
       "[2025-05-02 14:19:16,486][\u001b[1;36mtensorcraft.mpi.distributions.multi_axis_dist\u001b[0m][\u001b[1;35m_apply_single_axis_allgather\u001b[0m][\u001b[1;32mDEBUG\u001b[0m] - R2/4:\u001b[1;32mRank of largest tensor in the subcommunicator: [1, 0] 2\u001b[0m\n",
       "[2025-05-02 14:19:16,489][\u001b[1;36mtensorcraft.mpi.distributions.multi_axis_dist\u001b[0m][\u001b[1;35m_apply_single_axis_allgather\u001b[0m][\u001b[1;32mDEBUG\u001b[0m] - R2/4:\u001b[1;32mN elements: 8\u001b[0m\n",
       "[2025-05-02 14:19:16,494][\u001b[1;36mtensorcraft.mpi.distributions.multi_axis_dist\u001b[0m][\u001b[1;35m_apply_single_axis_allgather\u001b[0m][\u001b[1;32mDEBUG\u001b[0m] - R2/4:\u001b[1;32mMax local shape: torch.Size([2, 2, 2])\u001b[0m\n",
       "[2025-05-02 14:19:16,495][\u001b[1;36mtensorcraft.mpi.distributions.multi_axis_dist\u001b[0m][\u001b[1;35m_apply_single_axis_allgather\u001b[0m][\u001b[1;32mDEBUG\u001b[0m] - R2/4:\u001b[1;32mPadding: 0\u001b[0m\n",
       "[2025-05-02 14:19:16,496][\u001b[1;36mtensorcraft.mpi.mpi_utils\u001b[0m][\u001b[1;35mtensor2mpiBuffer\u001b[0m][\u001b[1;32mDEBUG\u001b[0m] - R2/4:\u001b[1;32mtensor_stride: (22, 8, 1)\u001b[0m\n",
       "[2025-05-02 14:19:16,496][\u001b[1;36mtensorcraft.mpi.mpi_utils\u001b[0m][\u001b[1;35mtensor2mpiBuffer\u001b[0m][\u001b[1;32mDEBUG\u001b[0m] - R2/4:\u001b[1;32mtensor_offset: 4\u001b[0m\n",
       "[2025-05-02 14:19:16,497][\u001b[1;36mtensorcraft.mpi.mpi_utils\u001b[0m][\u001b[1;35mtensor2mpiBuffer\u001b[0m][\u001b[1;32mDEBUG\u001b[0m] - R2/4:\u001b[1;32mtensor_shape: torch.Size([2, 2, 2])\u001b[0m\n",
       "[2025-05-02 14:19:16,497][\u001b[1;36mtensorcraft.mpi.mpi_utils\u001b[0m][\u001b[1;35mtensor2mpiBuffer\u001b[0m][\u001b[1;32mDEBUG\u001b[0m] - R2/4:\u001b[1;32mtensor_dtype: torch.int64\u001b[0m\n",
       "[2025-05-02 14:19:16,499][\u001b[1;36mtensorcraft.mpi.distributions.multi_axis_dist\u001b[0m][\u001b[1;35m_apply_single_axis_allgather\u001b[0m][\u001b[1;32mDEBUG\u001b[0m] - R2/4:\u001b[1;32mSend buffer: (<mpi4py.MPI.buffer object at 0x74da2efddfb0>, 1, <mpi4py.MPI.Datatype object at 0x74db20505470>)\u001b[0m\n",
       "[2025-05-02 14:19:16,517][\u001b[1;36mtensorcraft.mpi.distributions.multi_axis_dist\u001b[0m][\u001b[1;35m_apply_single_axis_allgather\u001b[0m][\u001b[1;32mDEBUG\u001b[0m] - R2/4:\u001b[1;32mRecv_tensor : tensor([[[[[ 4,  5]],\n",
       "\n",
       "          [[12, 13]]],\n",
       "\n",
       "\n",
       "         [[[24, 25]],\n",
       "\n",
       "          [[32, 33]]]],\n",
       "\n",
       "\n",
       "\n",
       "        [[[[ 6,  7]],\n",
       "\n",
       "          [[14, 15]]],\n",
       "\n",
       "\n",
       "         [[[26, 27]],\n",
       "\n",
       "          [[34, 35]]]]])\u001b[0m\n",
       "[2025-05-02 14:19:16,521][\u001b[1;36mtensorcraft.mpi.distributions.multi_axis_dist\u001b[0m][\u001b[1;35m_apply_single_axis_allgather\u001b[0m][\u001b[1;32mDEBUG\u001b[0m] - R2/4:\u001b[1;32mReshaped tensor shape: torch.Size([2, 4, 2])\u001b[0m\n",
       "[2025-05-02 14:19:16,522][\u001b[1;36mtensorcraft.mpi.distributions.multi_axis_dist\u001b[0m][\u001b[1;35m_apply_single_axis_allgather\u001b[0m][\u001b[1;32mDEBUG\u001b[0m] - R2/4:\u001b[1;32mSlices: [slice(None, None, None), slice(0, 4, None), slice(None, None, None)]\u001b[0m\n",
       "[2025-05-02 14:19:16,523][\u001b[1;36mtensorcraft.mpi.distributions.multi_axis_dist\u001b[0m][\u001b[1;35m_apply_single_axis_allgather\u001b[0m][\u001b[1;32mDEBUG\u001b[0m] - R2/4:\u001b[1;32mFinal tensor shape: torch.Size([2, 4, 2])\u001b[0m\n",
       "tensor([[[ 4,  5],\n",
       "         [ 6,  7],\n",
       "         [12, 13],\n",
       "         [14, 15]],\n",
       "\n",
       "        [[24, 25],\n",
       "         [26, 27],\n",
       "         [32, 33],\n",
       "         [34, 35]]])\n"
      ]
     },
     "metadata": {},
     "output_type": "display_data"
    }
   ],
   "source": [
    "%%px\n",
    "new_dist, post_gather = dist.apply_allgather(x.shape, x_local, comm, gather_mesh_dim=1)\n",
    "print(post_gather)"
   ]
  },
  {
   "cell_type": "code",
   "execution_count": null,
   "metadata": {},
   "outputs": [
    {
     "data": {
      "text/plain": [
       "[stdout:2] tensor([[[ 4,  5],\n",
       "         [ 6,  7],\n",
       "         [12, 13],\n",
       "         [14, 15]],\n",
       "\n",
       "        [[24, 25],\n",
       "         [26, 27],\n",
       "         [32, 33],\n",
       "         [34, 35]]])\n"
      ]
     },
     "metadata": {},
     "output_type": "display_data"
    },
    {
     "data": {
      "text/plain": [
       "[stdout:0] tensor([[[ 0,  1],\n",
       "         [ 2,  3],\n",
       "         [ 8,  9],\n",
       "         [10, 11],\n",
       "         [16, 17],\n",
       "         [18, 19]],\n",
       "\n",
       "        [[20, 21],\n",
       "         [22, 23],\n",
       "         [28, 29],\n",
       "         [30, 31],\n",
       "         [36, 37],\n",
       "         [38, 39]]])\n"
      ]
     },
     "metadata": {},
     "output_type": "display_data"
    },
    {
     "data": {
      "text/plain": [
       "[stdout:3] tensor([[[ 4,  5],\n",
       "         [ 6,  7],\n",
       "         [12, 13],\n",
       "         [14, 15]],\n",
       "\n",
       "        [[24, 25],\n",
       "         [26, 27],\n",
       "         [32, 33],\n",
       "         [34, 35]]])\n"
      ]
     },
     "metadata": {},
     "output_type": "display_data"
    },
    {
     "data": {
      "text/plain": [
       "[stdout:1] tensor([[[ 0,  1],\n",
       "         [ 2,  3],\n",
       "         [ 8,  9],\n",
       "         [10, 11],\n",
       "         [16, 17],\n",
       "         [18, 19]],\n",
       "\n",
       "        [[20, 21],\n",
       "         [22, 23],\n",
       "         [28, 29],\n",
       "         [30, 31],\n",
       "         [36, 37],\n",
       "         [38, 39]]])\n"
      ]
     },
     "metadata": {},
     "output_type": "display_data"
    }
   ],
   "source": [
    "%%px\n",
    "print(post_gather)"
   ]
  },
  {
   "cell_type": "code",
   "execution_count": null,
   "metadata": {},
   "outputs": [],
   "source": []
  }
 ],
 "metadata": {
  "kernelspec": {
   "display_name": "tensorcraft-dev-3.12",
   "language": "python",
   "name": "python3"
  },
  "language_info": {
   "codemirror_mode": {
    "name": "ipython",
    "version": 3
   },
   "file_extension": ".py",
   "mimetype": "text/x-python",
   "name": "python",
   "nbconvert_exporter": "python",
   "pygments_lexer": "ipython3",
   "version": "3.12.4"
  }
 },
 "nbformat": 4,
 "nbformat_minor": 2
}
