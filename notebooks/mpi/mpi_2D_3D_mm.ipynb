{
 "cells": [
  {
   "cell_type": "markdown",
   "metadata": {},
   "source": [
    "# 2D and 3D Matrix Multiplication\n",
    "## Setup\n",
    "### Installation\n",
    "```pip install ipyparallel```\n",
    "\n",
    "or \n",
    "\n",
    "```pip install -e .[notebook]```\n",
    "\n",
    "### Start cluster\n",
    "\n",
    "```ipcluster start -n 4 --engines=MPI --profile mpi```"
   ]
  },
  {
   "cell_type": "code",
   "execution_count": null,
   "metadata": {},
   "outputs": [],
   "source": [
    "import ipyparallel as ipp\n",
    "rc = ipp.Client(profile='mpi')\n",
    "rc.wait_for_engines(4)\n",
    "len(rc)"
   ]
  },
  {
   "cell_type": "code",
   "execution_count": null,
   "metadata": {},
   "outputs": [],
   "source": [
    "%%px\n",
    "import torch\n",
    "from mpi4py import MPI\n",
    "\n",
    "comm = MPI.COMM_WORLD\n",
    "rank = comm.Get_rank()\n",
    "print(f'Hello from rank {rank}!')"
   ]
  },
  {
   "cell_type": "code",
   "execution_count": null,
   "metadata": {},
   "outputs": [],
   "source": [
    "%%px\n",
    "cart_comm = comm.Create_cart(dims=[2, 2], periods=[True, True], reorder=True)\n",
    "print(f'Hello from rank {rank}! My coordinates are {cart_comm.Get_coords(rank)}')\n"
   ]
  },
  {
   "cell_type": "code",
   "execution_count": null,
   "metadata": {},
   "outputs": [],
   "source": [
    "%%px\n",
    "print(f\"Topo: {cart_comm.Get_topo()}\")"
   ]
  },
  {
   "cell_type": "code",
   "execution_count": null,
   "metadata": {},
   "outputs": [],
   "source": [
    "%%px\n",
    "row_comm = cart_comm.Sub([0,1])\n",
    "row_global_ranks = row_comm.allgather(rank)\n",
    "print(f'Hello from rank {rank}! In my row, the ranks are {row_global_ranks}')\n",
    "\n",
    "col_comm = cart_comm.Sub([1,0])\n",
    "col_global_ranks = col_comm.allgather(rank)\n",
    "print(f'Hello from rank {rank}! In my col, the ranks are {col_global_ranks}')\n"
   ]
  },
  {
   "cell_type": "code",
   "execution_count": null,
   "metadata": {},
   "outputs": [],
   "source": [
    "%%px\n",
    "def as_buffer(x: torch.Tensor):\n",
    "    return MPI.buffer.fromaddress(x.untyped_storage().data_ptr(), 0)"
   ]
  },
  {
   "cell_type": "markdown",
   "metadata": {},
   "source": [
    "## Matrix Vector\n",
    "\n",
    "### y:= Ax"
   ]
  },
  {
   "cell_type": "code",
   "execution_count": null,
   "metadata": {},
   "outputs": [],
   "source": [
    "%%px\n",
    "A_g = torch.arange(64).reshape(8, 8)\n",
    "A_l = A_g[col_comm.Get_rank()::2, row_comm.Get_rank()::2].contiguous()\n",
    "print(\"A_local:\", A_l)\n",
    "\n",
    "x_g = torch.arange(8).reshape(8, 1)\n",
    "x_l = x_g[comm.Get_rank()::comm.Get_size(), :].contiguous()\n",
    "print(\"x_local:\", x_l)\n",
    "\n",
    "\n",
    "# x_col = torch.zeros(4,1, dtype=torch.long)\n",
    "# col_comm.Allgather((as_buffer(x_l), 2, MPI.LONG), (as_buffer(x_col), 2, MPI.LONG))\n",
    "# x_col = x_col.reshape(2,2).T.reshape(4,1).contiguous()\n",
    "# print(\"x_gather_col:\", x_col)\n",
    "\n",
    "x_col = torch.zeros(4,1, dtype=torch.long)\n",
    "data_type = MPI.LONG.Create_vector(2, 1, 2).Create_resized(MPI.LONG.Get_extent()[0], MPI.LONG.Get_extent()[1]).Commit()\n",
    "col_comm.Allgather((as_buffer(x_l), 2, MPI.LONG), (as_buffer(x_col), 1, data_type))\n",
    "print(\"x_gather_col:\", x_col)\n",
    "\n",
    "y_l = A_l @ x_col\n",
    "print(\"y_local:\", y_l)\n",
    "\n",
    "y_l = y_l.reshape(2,2).T.reshape(4,1).contiguous()\n",
    "y_scatter = torch.zeros(2, 1, dtype=torch.long)\n",
    "row_comm.Reduce_scatter((as_buffer(y_l), 4, MPI.LONG), (as_buffer(y_scatter), 2, MPI.LONG), [2,2], MPI.SUM)\n",
    "print(\"y_scatter:\", y_scatter)\n",
    "\n",
    "y_end = torch.zeros(2,2,2, dtype=torch.long)\n",
    "comm.Allgather((as_buffer(y_scatter), 2, MPI.LONG), (as_buffer(y_end), 2, MPI.LONG))\n",
    "y_end = y_end.permute(2,1,0).reshape(8,1).contiguous()\n",
    "print(\"y_end:\", y_end)\n",
    "\n"
   ]
  },
  {
   "cell_type": "code",
   "execution_count": null,
   "metadata": {},
   "outputs": [],
   "source": [
    "%%px\n",
    "print(\"Expected:\", A_g @ x_g)\n",
    "print(\"Actual:\", y_end)\n",
    "torch.allclose(y_end, A_g @ x_g)"
   ]
  },
  {
   "cell_type": "markdown",
   "metadata": {},
   "source": [
    "### x = A.T * y"
   ]
  },
  {
   "cell_type": "code",
   "execution_count": null,
   "metadata": {},
   "outputs": [],
   "source": [
    "%%px\n",
    "A_g = torch.arange(64).reshape(8, 8)\n",
    "A_l = A_g[col_comm.Get_rank()::2, row_comm.Get_rank()::2].contiguous()\n",
    "print(\"A_local:\", A_l)\n",
    "\n",
    "y_g = torch.arange(8).reshape(8, 1)\n",
    "i = col_comm.Get_rank() + col_comm.Get_size() * row_comm.Get_rank()\n",
    "y_l = y_g[i::comm.Get_size(), :].contiguous()\n",
    "print(\"y_local:\", y_l)\n",
    "\n",
    "y_col = torch.zeros(4,1, dtype=torch.long)\n",
    "row_comm.Allgather((as_buffer(y_l), 2, MPI.LONG), (as_buffer(y_col), 2, MPI.LONG))\n",
    "y_col = y_col.reshape(2,2).T.reshape(4,1).contiguous()\n",
    "print(\"y_gather_col:\", y_col)\n",
    "\n",
    "x_l = A_l.T @ y_col\n",
    "print(\"x_local:\", x_l)\n",
    "\n",
    "x_l = x_l.reshape(2,2).T.reshape(4,1).contiguous()\n",
    "x_scatter = torch.zeros(2, 1, dtype=torch.long)\n",
    "col_comm.Reduce_scatter((as_buffer(x_l), 4, MPI.LONG), (as_buffer(x_scatter), 2, MPI.LONG), [2,2], MPI.SUM)\n",
    "print(\"x_scatter:\", x_scatter)\n"
   ]
  },
  {
   "cell_type": "code",
   "execution_count": null,
   "metadata": {},
   "outputs": [],
   "source": [
    "%%px\n",
    "print(\"expected:\", A_g.T @ y_g)"
   ]
  },
  {
   "cell_type": "markdown",
   "metadata": {},
   "source": [
    "### A := y * x.T + A"
   ]
  },
  {
   "cell_type": "code",
   "execution_count": null,
   "metadata": {},
   "outputs": [],
   "source": [
    "%%px\n",
    "A_g = torch.arange(64).reshape(8, 8)\n",
    "A_l = A_g[col_comm.Get_rank()::2, row_comm.Get_rank()::2].contiguous()\n",
    "print(\"A_local:\", A_l)\n",
    "\n",
    "x_g = torch.arange(8).reshape(8, 1)\n",
    "x_l = x_g[comm.Get_rank()::comm.Get_size(), :].contiguous()\n",
    "print(\"x_local:\", x_l)\n",
    "\n",
    "y_g = torch.arange(8).reshape(8, 1)\n",
    "i = col_comm.Get_rank() + col_comm.Get_size() * row_comm.Get_rank()\n",
    "y_l = y_g[i::comm.Get_size(), :].contiguous()\n",
    "print(\"y_local:\", y_l)\n",
    "\n",
    "x_col = torch.zeros(4,1, dtype=torch.long)\n",
    "col_comm.Allgather((as_buffer(x_l), 2, MPI.LONG), (as_buffer(x_col), 2, MPI.LONG))\n",
    "x_col = x_col.reshape(2,2).T.reshape(4,1).contiguous()\n",
    "print(\"x_gather_col:\", x_col)\n",
    "\n",
    "y_col = torch.zeros(4,1, dtype=torch.long)\n",
    "row_comm.Allgather((as_buffer(y_l), 2, MPI.LONG), (as_buffer(y_col), 2, MPI.LONG))\n",
    "y_col = y_col.reshape(2,2).T.reshape(4,1).contiguous()\n",
    "print(\"y_gather_col:\", y_col)\n",
    "\n",
    "Z_l = y_col @ x_col.T + A_l\n",
    "print(\"Z_local:\", Z_l)\n",
    "\n",
    "\n"
   ]
  },
  {
   "cell_type": "code",
   "execution_count": null,
   "metadata": {},
   "outputs": [],
   "source": [
    "%%px\n",
    "print(f\"Expected: {y_g @ x_g.T + A_g}\")"
   ]
  },
  {
   "cell_type": "markdown",
   "metadata": {},
   "source": [
    "## Create_darray"
   ]
  },
  {
   "cell_type": "code",
   "execution_count": null,
   "metadata": {},
   "outputs": [],
   "source": [
    "%%px\n",
    "if comm.Get_rank() == 0:\n",
    "    A = torch.arange(64).reshape(8, 8)\n",
    "    print(A)\n",
    "    print(A.dtype)\n",
    "\n",
    "    darray_type = MPI.LONG.Create_darray(\n",
    "        4,                    # Size\n",
    "        1,                      # Rank\n",
    "        # 2,                      # number of array dimensions (as well as process grid dimensions)\n",
    "        [64,1],                 # size of the global array\n",
    "        [MPI.DISTRIBUTE_CYCLIC, MPI.DISTRIBUTE_NONE], # distribution type\n",
    "        [1, 1], # distribution argument\n",
    "        [4, 1],                 # size of the process grid\n",
    "        MPI.ORDER_C,            # array storage order\n",
    "    ).Commit()\n",
    "\n",
    "    # comm.Send(buf=[as_buffer(A), 8, MPI.LONG], dest=1)\n",
    "    comm.Send([as_buffer(A), 1, darray_type], dest=1, tag=55)\n",
    "\n",
    "    darray_type.Free() \n",
    "\n",
    "elif comm.Get_rank() == 1:\n",
    "    A = torch.zeros(4, 4, dtype=torch.int64)\n",
    "\n",
    "    # comm.Recv(buf=[as_buffer(A), 8, MPI.LONG], source=0)\n",
    "    comm.Recv([as_buffer(A), 16, MPI.LONG], source=0, tag=55)\n",
    "    print(A)\n",
    "\n"
   ]
  },
  {
   "cell_type": "markdown",
   "metadata": {},
   "source": [
    "## Large Item Count"
   ]
  },
  {
   "cell_type": "code",
   "execution_count": null,
   "metadata": {},
   "outputs": [],
   "source": [
    "%%px\n",
    "import tensorcraft as tc\n",
    "comm = MPI.COMM_WORLD\n",
    "## Let's find the maximum element count on my mpi implementation\n",
    "options = [torch.iinfo(torch.int32).max]\n",
    "\n",
    "for possible_max in options:\n",
    "    print(f\"Trying {possible_max}\")\n",
    "    if comm.Get_rank() == 0:\n",
    "        A = torch.ones(possible_max, dtype=torch.bool)\n",
    "        print(A.dtype)\n",
    "        print(A[:10])\n",
    "\n",
    "        print(f\"Sending {possible_max} elements, {possible_max / 10**9} Gb\")\n",
    "\n",
    "    else:\n",
    "        A = torch.zeros(possible_max, dtype=torch.bool)\n",
    "\n",
    "    comm.Bcast(buf=[tc.mpi4torch.as_buffer(A), possible_max, MPI.BOOL], root=0)\n",
    "\n",
    "    if comm.Get_rank() == 0:\n",
    "        print(\"Sent!\")\n",
    "    else:\n",
    "        print(\"Received!\")\n",
    "        print(A[:10])"
   ]
  },
  {
   "cell_type": "markdown",
   "metadata": {},
   "source": [
    "# Interweave allgather"
   ]
  },
  {
   "cell_type": "code",
   "execution_count": null,
   "metadata": {},
   "outputs": [
    {
     "data": {
      "text/plain": [
       "4"
      ]
     },
     "execution_count": null,
     "metadata": {},
     "output_type": "execute_result"
    }
   ],
   "source": [
    "import ipyparallel as ipp\n",
    "rc = ipp.Client(profile='mpi')\n",
    "rc.wait_for_engines(4)\n",
    "len(rc)"
   ]
  },
  {
   "cell_type": "code",
   "execution_count": null,
   "metadata": {},
   "outputs": [
    {
     "name": "stdout",
     "output_type": "stream",
     "text": [
      "%px:   0%|          | 0/4 [00:03<?, ?tasks/s]"
     ]
    },
    {
     "data": {
      "text/plain": [
       "[stdout:3] Hello from rank 3!\n"
      ]
     },
     "metadata": {},
     "output_type": "display_data"
    },
    {
     "name": "stdout",
     "output_type": "stream",
     "text": [
      "%px:  25%|██▌       | 1/4 [00:03<00:00,  9.53tasks/s]"
     ]
    },
    {
     "data": {
      "text/plain": [
       "[stdout:1] Hello from rank 1!\n"
      ]
     },
     "metadata": {},
     "output_type": "display_data"
    },
    {
     "name": "stdout",
     "output_type": "stream",
     "text": [
      "%px:  50%|█████     | 2/4 [00:03<00:00,  6.11tasks/s]"
     ]
    },
    {
     "data": {
      "text/plain": [
       "[stdout:0] Hello from rank 0!\n"
      ]
     },
     "metadata": {},
     "output_type": "display_data"
    },
    {
     "data": {
      "text/plain": [
       "[stdout:2] Hello from rank 2!\n"
      ]
     },
     "metadata": {},
     "output_type": "display_data"
    },
    {
     "name": "stdout",
     "output_type": "stream",
     "text": [
      "%px: 100%|██████████| 4/4 [00:03<00:00,  1.08tasks/s]\n"
     ]
    }
   ],
   "source": [
    "%%px\n",
    "import torch\n",
    "from mpi4py import MPI\n",
    "\n",
    "comm = MPI.COMM_WORLD\n",
    "rank = comm.Get_rank()\n",
    "print(f'Hello from rank {rank}!')"
   ]
  },
  {
   "cell_type": "code",
   "execution_count": null,
   "metadata": {},
   "outputs": [
    {
     "name": "stdout",
     "output_type": "stream",
     "text": [
      "%px:   0%|          | 0/4 [00:01<?, ?tasks/s]"
     ]
    },
    {
     "data": {
      "text/plain": [
       "[stdout:1] [2025-05-02 14:18:33,045][\u001b[1;36mtensorcraft.mpi.distributions.multi_axis_dist\u001b[0m][\u001b[1;35mapply\u001b[0m][\u001b[1;32mDEBUG\u001b[0m] - R1/4:\u001b[1;32mProcessor multi index: torch.Size([0, 1])\u001b[0m\n",
       "[2025-05-02 14:18:33,047][\u001b[1;36mtensorcraft.mpi.distributions.multi_axis_dist\u001b[0m][\u001b[1;35mapply\u001b[0m][\u001b[1;32mDEBUG\u001b[0m] - R1/4:\u001b[1;32mMissing elements: [0, 1, 0]\u001b[0m\n",
       "[2025-05-02 14:18:33,048][\u001b[1;36mtensorcraft.mpi.distributions.multi_axis_dist\u001b[0m][\u001b[1;35mapply\u001b[0m][\u001b[1;32mDEBUG\u001b[0m] - R1/4:\u001b[1;32mN blocks per axis: [1, 10, 1]\u001b[0m\n",
       "[2025-05-02 14:18:33,050][\u001b[1;36mtensorcraft.mpi.distributions.multi_axis_dist\u001b[0m][\u001b[1;35mapply\u001b[0m][\u001b[1;32mDEBUG\u001b[0m] - R1/4:\u001b[1;32mPadded tensor shape: torch.Size([2, 11, 2])\u001b[0m\n",
       "[2025-05-02 14:18:33,054][\u001b[1;36mtensorcraft.mpi.distributions.multi_axis_dist\u001b[0m][\u001b[1;35mapply\u001b[0m][\u001b[1;32mDEBUG\u001b[0m] - R1/4:\u001b[1;32mPermute tuple: (0, 2, 4, 1, 3, 5)\u001b[0m\n",
       "[2025-05-02 14:18:33,056][\u001b[1;36mtensorcraft.mpi.distributions.multi_axis_dist\u001b[0m][\u001b[1;35mapply\u001b[0m][\u001b[1;32mDEBUG\u001b[0m] - R1/4:\u001b[1;32mReshape tuple: [1, 2, 11, 1, 1, 2]\u001b[0m\n",
       "[2025-05-02 14:18:33,062][\u001b[1;36mtensorcraft.mpi.distributions.multi_axis_dist\u001b[0m][\u001b[1;35mapply\u001b[0m][\u001b[1;32mDEBUG\u001b[0m] - R1/4:\u001b[1;32mTile Slices: [slice(None, None, None), slice(None, None, None), slice(tensor(1), None, 4), slice(None, None, None), slice(None, None, None), slice(None, None, None)]\u001b[0m\n",
       "[2025-05-02 14:18:33,064][\u001b[1;36mtensorcraft.mpi.distributions.multi_axis_dist\u001b[0m][\u001b[1;35mapply\u001b[0m][\u001b[1;32mDEBUG\u001b[0m] - R1/4:\u001b[1;32mLocal tensor shape: torch.Size([1, 2, 3, 1, 1, 2])\u001b[0m\n",
       "[2025-05-02 14:18:33,066][\u001b[1;36mtensorcraft.mpi.distributions.multi_axis_dist\u001b[0m][\u001b[1;35mapply\u001b[0m][\u001b[1;32mDEBUG\u001b[0m] - R1/4:\u001b[1;32mTarget local tensor shape: [2, 3, 2]\u001b[0m\n",
       "[2025-05-02 14:18:33,069][\u001b[1;36mtensorcraft.mpi.distributions.multi_axis_dist\u001b[0m][\u001b[1;35mapply\u001b[0m][\u001b[1;32mDEBUG\u001b[0m] - R1/4:\u001b[1;32mtensor([[[ 2,  3],\n",
       "         [10, 11],\n",
       "         [18, 19]],\n",
       "\n",
       "        [[22, 23],\n",
       "         [30, 31],\n",
       "         [38, 39]]])\u001b[0m\n",
       "[2025-05-02 14:18:33,077][\u001b[1;36mtensorcraft.mpi.distributions.multi_axis_dist\u001b[0m][\u001b[1;35mapply\u001b[0m][\u001b[1;32mDEBUG\u001b[0m] - R1/4:\u001b[1;32mLinear processor index: 1, Residue: 1, Block size: 1, axis: 1, N procs: 4, N full blocks: 10\u001b[0m\n",
       "[2025-05-02 14:18:33,083][\u001b[1;36mtensorcraft.mpi.distributions.multi_axis_dist\u001b[0m][\u001b[1;35mapply\u001b[0m][\u001b[1;32mDEBUG\u001b[0m] - R1/4:\u001b[1;32mShaved slices: [slice(None, None, None), slice(None, None, None), slice(None, None, None)]\u001b[0m\n",
       "[2025-05-02 14:18:33,086][\u001b[1;36mtensorcraft.mpi.distributions.multi_axis_dist\u001b[0m][\u001b[1;35mapply\u001b[0m][\u001b[1;32mDEBUG\u001b[0m] - R1/4:\u001b[1;32mFinal local tensor shape: torch.Size([2, 3, 2])\u001b[0m\n",
       "tensor([[[ 2,  3],\n",
       "         [10, 11],\n",
       "         [18, 19]],\n",
       "\n",
       "        [[22, 23],\n",
       "         [30, 31],\n",
       "         [38, 39]]])\n",
       "torch.Size([2, 3, 2])\n",
       "torch.int64\n",
       "False\n"
      ]
     },
     "metadata": {},
     "output_type": "display_data"
    },
    {
     "data": {
      "text/plain": [
       "[stdout:3] [2025-05-02 14:18:33,106][\u001b[1;36mtensorcraft.mpi.distributions.multi_axis_dist\u001b[0m][\u001b[1;35mapply\u001b[0m][\u001b[1;32mDEBUG\u001b[0m] - R3/4:\u001b[1;32mProcessor multi index: torch.Size([1, 1])\u001b[0m\n",
       "[2025-05-02 14:18:33,108][\u001b[1;36mtensorcraft.mpi.distributions.multi_axis_dist\u001b[0m][\u001b[1;35mapply\u001b[0m][\u001b[1;32mDEBUG\u001b[0m] - R3/4:\u001b[1;32mMissing elements: [0, 1, 0]\u001b[0m\n",
       "[2025-05-02 14:18:33,111][\u001b[1;36mtensorcraft.mpi.distributions.multi_axis_dist\u001b[0m][\u001b[1;35mapply\u001b[0m][\u001b[1;32mDEBUG\u001b[0m] - R3/4:\u001b[1;32mN blocks per axis: [1, 10, 1]\u001b[0m\n",
       "[2025-05-02 14:18:33,116][\u001b[1;36mtensorcraft.mpi.distributions.multi_axis_dist\u001b[0m][\u001b[1;35mapply\u001b[0m][\u001b[1;32mDEBUG\u001b[0m] - R3/4:\u001b[1;32mPadded tensor shape: torch.Size([2, 11, 2])\u001b[0m\n",
       "[2025-05-02 14:18:33,122][\u001b[1;36mtensorcraft.mpi.distributions.multi_axis_dist\u001b[0m][\u001b[1;35mapply\u001b[0m][\u001b[1;32mDEBUG\u001b[0m] - R3/4:\u001b[1;32mPermute tuple: (0, 2, 4, 1, 3, 5)\u001b[0m\n",
       "[2025-05-02 14:18:33,125][\u001b[1;36mtensorcraft.mpi.distributions.multi_axis_dist\u001b[0m][\u001b[1;35mapply\u001b[0m][\u001b[1;32mDEBUG\u001b[0m] - R3/4:\u001b[1;32mReshape tuple: [1, 2, 11, 1, 1, 2]\u001b[0m\n",
       "[2025-05-02 14:18:33,129][\u001b[1;36mtensorcraft.mpi.distributions.multi_axis_dist\u001b[0m][\u001b[1;35mapply\u001b[0m][\u001b[1;32mDEBUG\u001b[0m] - R3/4:\u001b[1;32mTile Slices: [slice(None, None, None), slice(None, None, None), slice(tensor(3), None, 4), slice(None, None, None), slice(None, None, None), slice(None, None, None)]\u001b[0m\n",
       "[2025-05-02 14:18:33,132][\u001b[1;36mtensorcraft.mpi.distributions.multi_axis_dist\u001b[0m][\u001b[1;35mapply\u001b[0m][\u001b[1;32mDEBUG\u001b[0m] - R3/4:\u001b[1;32mLocal tensor shape: torch.Size([1, 2, 2, 1, 1, 2])\u001b[0m\n",
       "[2025-05-02 14:18:33,133][\u001b[1;36mtensorcraft.mpi.distributions.multi_axis_dist\u001b[0m][\u001b[1;35mapply\u001b[0m][\u001b[1;32mDEBUG\u001b[0m] - R3/4:\u001b[1;32mTarget local tensor shape: [2, 2, 2]\u001b[0m\n",
       "[2025-05-02 14:18:33,134][\u001b[1;36mtensorcraft.mpi.distributions.multi_axis_dist\u001b[0m][\u001b[1;35mapply\u001b[0m][\u001b[1;32mDEBUG\u001b[0m] - R3/4:\u001b[1;32mtensor([[[ 6,  7],\n",
       "         [14, 15]],\n",
       "\n",
       "        [[26, 27],\n",
       "         [34, 35]]])\u001b[0m\n",
       "[2025-05-02 14:18:33,139][\u001b[1;36mtensorcraft.mpi.distributions.multi_axis_dist\u001b[0m][\u001b[1;35mapply\u001b[0m][\u001b[1;32mDEBUG\u001b[0m] - R3/4:\u001b[1;32mLinear processor index: 3, Residue: 1, Block size: 1, axis: 1, N procs: 4, N full blocks: 10\u001b[0m\n",
       "[2025-05-02 14:18:33,141][\u001b[1;36mtensorcraft.mpi.distributions.multi_axis_dist\u001b[0m][\u001b[1;35mapply\u001b[0m][\u001b[1;32mDEBUG\u001b[0m] - R3/4:\u001b[1;32mShaved slices: [slice(None, None, None), slice(None, None, None), slice(None, None, None)]\u001b[0m\n",
       "[2025-05-02 14:18:33,142][\u001b[1;36mtensorcraft.mpi.distributions.multi_axis_dist\u001b[0m][\u001b[1;35mapply\u001b[0m][\u001b[1;32mDEBUG\u001b[0m] - R3/4:\u001b[1;32mFinal local tensor shape: torch.Size([2, 2, 2])\u001b[0m\n",
       "tensor([[[ 6,  7],\n",
       "         [14, 15]],\n",
       "\n",
       "        [[26, 27],\n",
       "         [34, 35]]])\n",
       "torch.Size([2, 2, 2])\n",
       "torch.int64\n",
       "False\n"
      ]
     },
     "metadata": {},
     "output_type": "display_data"
    },
    {
     "name": "stdout",
     "output_type": "stream",
     "text": [
      "%px:  25%|██▌       | 1/4 [00:01<00:00,  9.61tasks/s]"
     ]
    },
    {
     "data": {
      "text/plain": [
       "[stdout:0] [2025-05-02 14:18:33,146][\u001b[1;36mtensorcraft.mpi.distributions.multi_axis_dist\u001b[0m][\u001b[1;35mapply\u001b[0m][\u001b[1;32mDEBUG\u001b[0m] - R0/4:\u001b[1;32mProcessor multi index: torch.Size([0, 0])\u001b[0m\n",
       "[2025-05-02 14:18:33,148][\u001b[1;36mtensorcraft.mpi.distributions.multi_axis_dist\u001b[0m][\u001b[1;35mapply\u001b[0m][\u001b[1;32mDEBUG\u001b[0m] - R0/4:\u001b[1;32mMissing elements: [0, 1, 0]\u001b[0m\n",
       "[2025-05-02 14:18:33,150][\u001b[1;36mtensorcraft.mpi.distributions.multi_axis_dist\u001b[0m][\u001b[1;35mapply\u001b[0m][\u001b[1;32mDEBUG\u001b[0m] - R0/4:\u001b[1;32mN blocks per axis: [1, 10, 1]\u001b[0m\n",
       "[2025-05-02 14:18:33,152][\u001b[1;36mtensorcraft.mpi.distributions.multi_axis_dist\u001b[0m][\u001b[1;35mapply\u001b[0m][\u001b[1;32mDEBUG\u001b[0m] - R0/4:\u001b[1;32mPadded tensor shape: torch.Size([2, 11, 2])\u001b[0m\n",
       "[2025-05-02 14:18:33,156][\u001b[1;36mtensorcraft.mpi.distributions.multi_axis_dist\u001b[0m][\u001b[1;35mapply\u001b[0m][\u001b[1;32mDEBUG\u001b[0m] - R0/4:\u001b[1;32mPermute tuple: (0, 2, 4, 1, 3, 5)\u001b[0m\n",
       "[2025-05-02 14:18:33,158][\u001b[1;36mtensorcraft.mpi.distributions.multi_axis_dist\u001b[0m][\u001b[1;35mapply\u001b[0m][\u001b[1;32mDEBUG\u001b[0m] - R0/4:\u001b[1;32mReshape tuple: [1, 2, 11, 1, 1, 2]\u001b[0m\n",
       "[2025-05-02 14:18:33,162][\u001b[1;36mtensorcraft.mpi.distributions.multi_axis_dist\u001b[0m][\u001b[1;35mapply\u001b[0m][\u001b[1;32mDEBUG\u001b[0m] - R0/4:\u001b[1;32mTile Slices: [slice(None, None, None), slice(None, None, None), slice(tensor(0), None, 4), slice(None, None, None), slice(None, None, None), slice(None, None, None)]\u001b[0m\n",
       "[2025-05-02 14:18:33,166][\u001b[1;36mtensorcraft.mpi.distributions.multi_axis_dist\u001b[0m][\u001b[1;35mapply\u001b[0m][\u001b[1;32mDEBUG\u001b[0m] - R0/4:\u001b[1;32mLocal tensor shape: torch.Size([1, 2, 3, 1, 1, 2])\u001b[0m\n",
       "[2025-05-02 14:18:33,171][\u001b[1;36mtensorcraft.mpi.distributions.multi_axis_dist\u001b[0m][\u001b[1;35mapply\u001b[0m][\u001b[1;32mDEBUG\u001b[0m] - R0/4:\u001b[1;32mTarget local tensor shape: [2, 3, 2]\u001b[0m\n",
       "[2025-05-02 14:18:33,173][\u001b[1;36mtensorcraft.mpi.distributions.multi_axis_dist\u001b[0m][\u001b[1;35mapply\u001b[0m][\u001b[1;32mDEBUG\u001b[0m] - R0/4:\u001b[1;32mtensor([[[ 0,  1],\n",
       "         [ 8,  9],\n",
       "         [16, 17]],\n",
       "\n",
       "        [[20, 21],\n",
       "         [28, 29],\n",
       "         [36, 37]]])\u001b[0m\n",
       "[2025-05-02 14:18:33,181][\u001b[1;36mtensorcraft.mpi.distributions.multi_axis_dist\u001b[0m][\u001b[1;35mapply\u001b[0m][\u001b[1;32mDEBUG\u001b[0m] - R0/4:\u001b[1;32mLinear processor index: 0, Residue: 1, Block size: 1, axis: 1, N procs: 4, N full blocks: 10\u001b[0m\n",
       "[2025-05-02 14:18:33,184][\u001b[1;36mtensorcraft.mpi.distributions.multi_axis_dist\u001b[0m][\u001b[1;35mapply\u001b[0m][\u001b[1;32mDEBUG\u001b[0m] - R0/4:\u001b[1;32mShaved slices: [slice(None, None, None), slice(None, None, None), slice(None, None, None)]\u001b[0m\n",
       "[2025-05-02 14:18:33,187][\u001b[1;36mtensorcraft.mpi.distributions.multi_axis_dist\u001b[0m][\u001b[1;35mapply\u001b[0m][\u001b[1;32mDEBUG\u001b[0m] - R0/4:\u001b[1;32mFinal local tensor shape: torch.Size([2, 3, 2])\u001b[0m\n",
       "tensor([[[ 0,  1],\n",
       "         [ 8,  9],\n",
       "         [16, 17]],\n",
       "\n",
       "        [[20, 21],\n",
       "         [28, 29],\n",
       "         [36, 37]]])\n",
       "torch.Size([2, 3, 2])\n",
       "torch.int64\n",
       "False\n"
      ]
     },
     "metadata": {},
     "output_type": "display_data"
    },
    {
     "name": "stdout",
     "output_type": "stream",
     "text": [
      "%px:  75%|███████▌  | 3/4 [00:01<00:00, 15.24tasks/s]"
     ]
    },
    {
     "data": {
      "text/plain": [
       "[stdout:2] [2025-05-02 14:18:33,254][\u001b[1;36mtensorcraft.mpi.distributions.multi_axis_dist\u001b[0m][\u001b[1;35mapply\u001b[0m][\u001b[1;32mDEBUG\u001b[0m] - R2/4:\u001b[1;32mProcessor multi index: torch.Size([1, 0])\u001b[0m\n",
       "[2025-05-02 14:18:33,259][\u001b[1;36mtensorcraft.mpi.distributions.multi_axis_dist\u001b[0m][\u001b[1;35mapply\u001b[0m][\u001b[1;32mDEBUG\u001b[0m] - R2/4:\u001b[1;32mMissing elements: [0, 1, 0]\u001b[0m\n",
       "[2025-05-02 14:18:33,262][\u001b[1;36mtensorcraft.mpi.distributions.multi_axis_dist\u001b[0m][\u001b[1;35mapply\u001b[0m][\u001b[1;32mDEBUG\u001b[0m] - R2/4:\u001b[1;32mN blocks per axis: [1, 10, 1]\u001b[0m\n",
       "[2025-05-02 14:18:33,263][\u001b[1;36mtensorcraft.mpi.distributions.multi_axis_dist\u001b[0m][\u001b[1;35mapply\u001b[0m][\u001b[1;32mDEBUG\u001b[0m] - R2/4:\u001b[1;32mPadded tensor shape: torch.Size([2, 11, 2])\u001b[0m\n",
       "[2025-05-02 14:18:33,268][\u001b[1;36mtensorcraft.mpi.distributions.multi_axis_dist\u001b[0m][\u001b[1;35mapply\u001b[0m][\u001b[1;32mDEBUG\u001b[0m] - R2/4:\u001b[1;32mPermute tuple: (0, 2, 4, 1, 3, 5)\u001b[0m\n",
       "[2025-05-02 14:18:33,270][\u001b[1;36mtensorcraft.mpi.distributions.multi_axis_dist\u001b[0m][\u001b[1;35mapply\u001b[0m][\u001b[1;32mDEBUG\u001b[0m] - R2/4:\u001b[1;32mReshape tuple: [1, 2, 11, 1, 1, 2]\u001b[0m\n",
       "[2025-05-02 14:18:33,279][\u001b[1;36mtensorcraft.mpi.distributions.multi_axis_dist\u001b[0m][\u001b[1;35mapply\u001b[0m][\u001b[1;32mDEBUG\u001b[0m] - R2/4:\u001b[1;32mTile Slices: [slice(None, None, None), slice(None, None, None), slice(tensor(2), None, 4), slice(None, None, None), slice(None, None, None), slice(None, None, None)]\u001b[0m\n",
       "[2025-05-02 14:18:33,282][\u001b[1;36mtensorcraft.mpi.distributions.multi_axis_dist\u001b[0m][\u001b[1;35mapply\u001b[0m][\u001b[1;32mDEBUG\u001b[0m] - R2/4:\u001b[1;32mLocal tensor shape: torch.Size([1, 2, 3, 1, 1, 2])\u001b[0m\n",
       "[2025-05-02 14:18:33,284][\u001b[1;36mtensorcraft.mpi.distributions.multi_axis_dist\u001b[0m][\u001b[1;35mapply\u001b[0m][\u001b[1;32mDEBUG\u001b[0m] - R2/4:\u001b[1;32mTarget local tensor shape: [2, 3, 2]\u001b[0m\n",
       "[2025-05-02 14:18:33,286][\u001b[1;36mtensorcraft.mpi.distributions.multi_axis_dist\u001b[0m][\u001b[1;35mapply\u001b[0m][\u001b[1;32mDEBUG\u001b[0m] - R2/4:\u001b[1;32mtensor([[[ 4,  5],\n",
       "         [12, 13],\n",
       "         [ 0,  0]],\n",
       "\n",
       "        [[24, 25],\n",
       "         [32, 33],\n",
       "         [ 0,  0]]])\u001b[0m\n",
       "[2025-05-02 14:18:33,292][\u001b[1;36mtensorcraft.mpi.distributions.multi_axis_dist\u001b[0m][\u001b[1;35mapply\u001b[0m][\u001b[1;32mDEBUG\u001b[0m] - R2/4:\u001b[1;32mLinear processor index: 2, Residue: 1, Block size: 1, axis: 1, N procs: 4, N full blocks: 10\u001b[0m\n",
       "[2025-05-02 14:18:33,296][\u001b[1;36mtensorcraft.mpi.distributions.multi_axis_dist\u001b[0m][\u001b[1;35mapply\u001b[0m][\u001b[1;32mDEBUG\u001b[0m] - R2/4:\u001b[1;32mShaved slices: [slice(None, None, None), slice(0, -1, None), slice(None, None, None)]\u001b[0m\n",
       "[2025-05-02 14:18:33,299][\u001b[1;36mtensorcraft.mpi.distributions.multi_axis_dist\u001b[0m][\u001b[1;35mapply\u001b[0m][\u001b[1;32mDEBUG\u001b[0m] - R2/4:\u001b[1;32mFinal local tensor shape: torch.Size([2, 2, 2])\u001b[0m\n",
       "tensor([[[ 4,  5],\n",
       "         [12, 13]],\n",
       "\n",
       "        [[24, 25],\n",
       "         [32, 33]]])\n",
       "torch.Size([2, 2, 2])\n",
       "torch.int64\n",
       "False\n"
      ]
     },
     "metadata": {},
     "output_type": "display_data"
    },
    {
     "name": "stdout",
     "output_type": "stream",
     "text": [
      "%px: 100%|██████████| 4/4 [00:01<00:00,  2.48tasks/s]\n"
     ]
    }
   ],
   "source": [
    "%%px\n",
    "import logging\n",
    "import tensorcraft as tc\n",
    "\n",
    "tc.set_logger_config(log_rank=True, level=logging.DEBUG)\n",
    "\n",
    "x = torch.arange(40).reshape(2, 10, 2)\n",
    "mesh = torch.Size([2,2])\n",
    "dist = tc.mpi.MPIMultiAxisDist(mesh, (None, (0,1), None), 1)\n",
    "\n",
    "x_local = dist.apply(x, rank)\n",
    "print(x_local)\n",
    "print(x_local.shape)\n",
    "print(x_local.dtype)\n",
    "print(x_local.is_contiguous())"
   ]
  },
  {
   "cell_type": "code",
   "execution_count": null,
   "metadata": {},
   "outputs": [
    {
     "data": {
      "text/plain": [
       "[stdout:3] [2025-05-02 14:18:33,506][\u001b[1;36mtensorcraft.distributions.multi_axis\u001b[0m][\u001b[1;35mallgather\u001b[0m][\u001b[1;32mDEBUG\u001b[0m] - R3/4:\u001b[1;32mTensor axis: 1\u001b[0m\n",
       "[2025-05-02 14:18:33,508][\u001b[1;36mtensorcraft.distributions.multi_axis\u001b[0m][\u001b[1;35mallgather\u001b[0m][\u001b[1;32mDEBUG\u001b[0m] - R3/4:\u001b[1;32mMesh axis: 0\u001b[0m\n",
       "[2025-05-02 14:18:33,509][\u001b[1;36mtensorcraft.distributions.multi_axis\u001b[0m][\u001b[1;35mallgather\u001b[0m][\u001b[1;32mDEBUG\u001b[0m] - R3/4:\u001b[1;32mMappings: (0, 1)\u001b[0m\n",
       "[2025-05-02 14:18:33,512][\u001b[1;36mtensorcraft.distributions.multi_axis\u001b[0m][\u001b[1;35mallgather\u001b[0m][\u001b[1;32mDEBUG\u001b[0m] - R3/4:\u001b[1;32mTensor axis: 1\u001b[0m\n",
       "[2025-05-02 14:18:33,514][\u001b[1;36mtensorcraft.distributions.multi_axis\u001b[0m][\u001b[1;35mallgather\u001b[0m][\u001b[1;32mDEBUG\u001b[0m] - R3/4:\u001b[1;32mMesh axis: 0\u001b[0m\n",
       "[2025-05-02 14:18:33,515][\u001b[1;36mtensorcraft.distributions.multi_axis\u001b[0m][\u001b[1;35mallgather\u001b[0m][\u001b[1;32mDEBUG\u001b[0m] - R3/4:\u001b[1;32mMappings: (0, 1)\u001b[0m\n",
       "[2025-05-02 14:18:33,522][\u001b[1;36mtensorcraft.mpi.distributions.multi_axis_dist\u001b[0m][\u001b[1;35m_apply_single_axis_allgather\u001b[0m][\u001b[1;32mDEBUG\u001b[0m] - R3/4:\u001b[1;32mNew distribution: D_[2,2]⊥{∅,1,∅}(∅,1,∅), new shape: torch.Size([2, 5, 2])\u001b[0m\n",
       "[2025-05-02 14:18:33,525][\u001b[1;36mtensorcraft.mpi.distributions.multi_axis_dist\u001b[0m][\u001b[1;35m_apply_single_axis_allgather\u001b[0m][\u001b[1;32mDEBUG\u001b[0m] - R3/4:\u001b[1;32mLocal tensor shape: torch.Size([2, 2, 2])\u001b[0m\n",
       "[2025-05-02 14:18:33,527][\u001b[1;36mtensorcraft.mpi.distributions.multi_axis_dist\u001b[0m][\u001b[1;35m_apply_single_axis_allgather\u001b[0m][\u001b[1;32mDEBUG\u001b[0m] - R3/4:\u001b[1;32mExpected local shape: torch.Size([2, 2, 2])\u001b[0m\n",
       "[2025-05-02 14:18:33,528][\u001b[1;36mtensorcraft.mpi.distributions.multi_axis_dist\u001b[0m][\u001b[1;35m_apply_single_axis_allgather\u001b[0m][\u001b[1;32mDEBUG\u001b[0m] - R3/4:\u001b[1;32mChanged tensor axis: 1\u001b[0m\n",
       "[2025-05-02 14:18:33,530][\u001b[1;36mtensorcraft.mpi.distributions.multi_axis_dist\u001b[0m][\u001b[1;35m_apply_single_axis_allgather\u001b[0m][\u001b[1;32mDEBUG\u001b[0m] - R3/4:\u001b[1;32mProcessor multi index: torch.Size([1, 1])\u001b[0m\n",
       "[2025-05-02 14:18:33,530][\u001b[1;36mtensorcraft.mpi.distributions.multi_axis_dist\u001b[0m][\u001b[1;35m_apply_single_axis_allgather\u001b[0m][\u001b[1;32mDEBUG\u001b[0m] - R3/4:\u001b[1;32mN procs: 2\u001b[0m\n",
       "[2025-05-02 14:18:33,532][\u001b[1;36mtensorcraft.mpi.distributions.multi_axis_dist\u001b[0m][\u001b[1;35m_apply_single_axis_allgather\u001b[0m][\u001b[1;32mDEBUG\u001b[0m] - R3/4:\u001b[1;32mRank of largest tensor in the subcommunicator: [0, 1] 1\u001b[0m\n",
       "[2025-05-02 14:18:33,536][\u001b[1;36mtensorcraft.mpi.distributions.multi_axis_dist\u001b[0m][\u001b[1;35m_apply_single_axis_allgather\u001b[0m][\u001b[1;32mDEBUG\u001b[0m] - R3/4:\u001b[1;32mN elements: 12\u001b[0m\n",
       "[2025-05-02 14:18:33,538][\u001b[1;36mtensorcraft.mpi.distributions.multi_axis_dist\u001b[0m][\u001b[1;35m_apply_single_axis_allgather\u001b[0m][\u001b[1;32mDEBUG\u001b[0m] - R3/4:\u001b[1;32mMax local shape: torch.Size([2, 3, 2])\u001b[0m\n",
       "[2025-05-02 14:18:33,539][\u001b[1;36mtensorcraft.mpi.distributions.multi_axis_dist\u001b[0m][\u001b[1;35m_apply_single_axis_allgather\u001b[0m][\u001b[1;32mDEBUG\u001b[0m] - R3/4:\u001b[1;32mPadding: 1\u001b[0m\n",
       "[2025-05-02 14:18:33,540][\u001b[1;36mtensorcraft.mpi.distributions.multi_axis_dist\u001b[0m][\u001b[1;35m_apply_single_axis_allgather\u001b[0m][\u001b[1;32mDEBUG\u001b[0m] - R3/4:\u001b[1;32mPadding tuple: [0, 0, 1, 0, 0, 0]\u001b[0m\n",
       "[2025-05-02 14:18:33,544][\u001b[1;36mtensorcraft.mpi.distributions.multi_axis_dist\u001b[0m][\u001b[1;35m_apply_single_axis_allgather\u001b[0m][\u001b[1;32mDEBUG\u001b[0m] - R3/4:\u001b[1;32mPadded local tensor shape: torch.Size([2, 3, 2])\u001b[0m\n",
       "[2025-05-02 14:18:33,547][\u001b[1;36mtensorcraft.mpi.distributions.multi_axis_dist\u001b[0m][\u001b[1;35m_apply_single_axis_allgather\u001b[0m][\u001b[1;32mDEBUG\u001b[0m] - R3/4:\u001b[1;32mPadded local tensor: tensor([[[ 6,  7],\n",
       "         [14, 15],\n",
       "         [ 0,  0]],\n",
       "\n",
       "        [[26, 27],\n",
       "         [34, 35],\n",
       "         [ 0,  0]]])\u001b[0m\n",
       "[2025-05-02 14:18:33,549][\u001b[1;36mtensorcraft.mpi.mpi_utils\u001b[0m][\u001b[1;35mtensor2mpiBuffer\u001b[0m][\u001b[1;32mDEBUG\u001b[0m] - R3/4:\u001b[1;32mtensor_stride: (6, 2, 1)\u001b[0m\n",
       "[2025-05-02 14:18:33,550][\u001b[1;36mtensorcraft.mpi.mpi_utils\u001b[0m][\u001b[1;35mtensor2mpiBuffer\u001b[0m][\u001b[1;32mDEBUG\u001b[0m] - R3/4:\u001b[1;32mtensor_offset: 0\u001b[0m\n",
       "[2025-05-02 14:18:33,551][\u001b[1;36mtensorcraft.mpi.mpi_utils\u001b[0m][\u001b[1;35mtensor2mpiBuffer\u001b[0m][\u001b[1;32mDEBUG\u001b[0m] - R3/4:\u001b[1;32mtensor_shape: torch.Size([2, 3, 2])\u001b[0m\n",
       "[2025-05-02 14:18:33,552][\u001b[1;36mtensorcraft.mpi.mpi_utils\u001b[0m][\u001b[1;35mtensor2mpiBuffer\u001b[0m][\u001b[1;32mDEBUG\u001b[0m] - R3/4:\u001b[1;32mtensor_dtype: torch.int64\u001b[0m\n",
       "[2025-05-02 14:18:33,554][\u001b[1;36mtensorcraft.mpi.mpi_utils\u001b[0m][\u001b[1;35mtensor2mpiBuffer\u001b[0m][\u001b[1;32mDEBUG\u001b[0m] - R3/4:\u001b[1;32mBest case scenario, it is contiguous!\u001b[0m\n",
       "[2025-05-02 14:18:33,555][\u001b[1;36mtensorcraft.mpi.distributions.multi_axis_dist\u001b[0m][\u001b[1;35m_apply_single_axis_allgather\u001b[0m][\u001b[1;32mDEBUG\u001b[0m] - R3/4:\u001b[1;32mSend buffer: (<mpi4py.MPI.buffer object at 0x7a14854ba410>, 12, <mpi4py.MPI.Datatype object at 0x7a15826ac6f0>)\u001b[0m\n",
       "[2025-05-02 14:18:33,678][\u001b[1;36mtensorcraft.mpi.distributions.multi_axis_dist\u001b[0m][\u001b[1;35m_apply_single_axis_allgather\u001b[0m][\u001b[1;32mDEBUG\u001b[0m] - R3/4:\u001b[1;32mRecv_tensor : tensor([[[[[ 2,  3]],\n",
       "\n",
       "          [[10, 11]],\n",
       "\n",
       "          [[18, 19]]],\n",
       "\n",
       "\n",
       "         [[[22, 23]],\n",
       "\n",
       "          [[30, 31]],\n",
       "\n",
       "          [[38, 39]]]],\n",
       "\n",
       "\n",
       "\n",
       "        [[[[ 6,  7]],\n",
       "\n",
       "          [[14, 15]],\n",
       "\n",
       "          [[ 0,  0]]],\n",
       "\n",
       "\n",
       "         [[[26, 27]],\n",
       "\n",
       "          [[34, 35]],\n",
       "\n",
       "          [[ 0,  0]]]]])\u001b[0m\n",
       "[2025-05-02 14:18:33,680][\u001b[1;36mtensorcraft.mpi.distributions.multi_axis_dist\u001b[0m][\u001b[1;35m_apply_single_axis_allgather\u001b[0m][\u001b[1;32mDEBUG\u001b[0m] - R3/4:\u001b[1;32mReshaped tensor shape: torch.Size([2, 6, 2])\u001b[0m\n",
       "[2025-05-02 14:18:33,681][\u001b[1;36mtensorcraft.mpi.distributions.multi_axis_dist\u001b[0m][\u001b[1;35m_apply_single_axis_allgather\u001b[0m][\u001b[1;32mDEBUG\u001b[0m] - R3/4:\u001b[1;32mSlices: [slice(None, None, None), slice(0, 5, None), slice(None, None, None)]\u001b[0m\n",
       "[2025-05-02 14:18:33,682][\u001b[1;36mtensorcraft.mpi.distributions.multi_axis_dist\u001b[0m][\u001b[1;35m_apply_single_axis_allgather\u001b[0m][\u001b[1;32mDEBUG\u001b[0m] - R3/4:\u001b[1;32mFinal tensor shape: torch.Size([2, 5, 2])\u001b[0m\n",
       "tensor([[[ 2,  3],\n",
       "         [ 6,  7],\n",
       "         [10, 11],\n",
       "         [14, 15],\n",
       "         [18, 19]],\n",
       "\n",
       "        [[22, 23],\n",
       "         [26, 27],\n",
       "         [30, 31],\n",
       "         [34, 35],\n",
       "         [38, 39]]])\n"
      ]
     },
     "metadata": {},
     "output_type": "display_data"
    },
    {
     "data": {
      "text/plain": [
       "[stdout:0] [2025-05-02 14:18:33,505][\u001b[1;36mtensorcraft.distributions.multi_axis\u001b[0m][\u001b[1;35mallgather\u001b[0m][\u001b[1;32mDEBUG\u001b[0m] - R0/4:\u001b[1;32mTensor axis: 1\u001b[0m\n",
       "[2025-05-02 14:18:33,509][\u001b[1;36mtensorcraft.distributions.multi_axis\u001b[0m][\u001b[1;35mallgather\u001b[0m][\u001b[1;32mDEBUG\u001b[0m] - R0/4:\u001b[1;32mMesh axis: 0\u001b[0m\n",
       "[2025-05-02 14:18:33,510][\u001b[1;36mtensorcraft.distributions.multi_axis\u001b[0m][\u001b[1;35mallgather\u001b[0m][\u001b[1;32mDEBUG\u001b[0m] - R0/4:\u001b[1;32mMappings: (0, 1)\u001b[0m\n",
       "[2025-05-02 14:18:33,515][\u001b[1;36mtensorcraft.distributions.multi_axis\u001b[0m][\u001b[1;35mallgather\u001b[0m][\u001b[1;32mDEBUG\u001b[0m] - R0/4:\u001b[1;32mTensor axis: 1\u001b[0m\n",
       "[2025-05-02 14:18:33,518][\u001b[1;36mtensorcraft.distributions.multi_axis\u001b[0m][\u001b[1;35mallgather\u001b[0m][\u001b[1;32mDEBUG\u001b[0m] - R0/4:\u001b[1;32mMesh axis: 0\u001b[0m\n",
       "[2025-05-02 14:18:33,522][\u001b[1;36mtensorcraft.distributions.multi_axis\u001b[0m][\u001b[1;35mallgather\u001b[0m][\u001b[1;32mDEBUG\u001b[0m] - R0/4:\u001b[1;32mMappings: (0, 1)\u001b[0m\n",
       "[2025-05-02 14:18:33,528][\u001b[1;36mtensorcraft.mpi.distributions.multi_axis_dist\u001b[0m][\u001b[1;35m_apply_single_axis_allgather\u001b[0m][\u001b[1;32mDEBUG\u001b[0m] - R0/4:\u001b[1;32mNew distribution: D_[2,2]⊥{∅,1,∅}(∅,1,∅), new shape: torch.Size([2, 5, 2])\u001b[0m\n",
       "[2025-05-02 14:18:33,535][\u001b[1;36mtensorcraft.mpi.distributions.multi_axis_dist\u001b[0m][\u001b[1;35m_apply_single_axis_allgather\u001b[0m][\u001b[1;32mDEBUG\u001b[0m] - R0/4:\u001b[1;32mLocal tensor shape: torch.Size([2, 3, 2])\u001b[0m\n",
       "[2025-05-02 14:18:33,537][\u001b[1;36mtensorcraft.mpi.distributions.multi_axis_dist\u001b[0m][\u001b[1;35m_apply_single_axis_allgather\u001b[0m][\u001b[1;32mDEBUG\u001b[0m] - R0/4:\u001b[1;32mExpected local shape: torch.Size([2, 3, 2])\u001b[0m\n",
       "[2025-05-02 14:18:33,540][\u001b[1;36mtensorcraft.mpi.distributions.multi_axis_dist\u001b[0m][\u001b[1;35m_apply_single_axis_allgather\u001b[0m][\u001b[1;32mDEBUG\u001b[0m] - R0/4:\u001b[1;32mChanged tensor axis: 1\u001b[0m\n",
       "[2025-05-02 14:18:33,549][\u001b[1;36mtensorcraft.mpi.distributions.multi_axis_dist\u001b[0m][\u001b[1;35m_apply_single_axis_allgather\u001b[0m][\u001b[1;32mDEBUG\u001b[0m] - R0/4:\u001b[1;32mProcessor multi index: torch.Size([0, 0])\u001b[0m\n",
       "[2025-05-02 14:18:33,551][\u001b[1;36mtensorcraft.mpi.distributions.multi_axis_dist\u001b[0m][\u001b[1;35m_apply_single_axis_allgather\u001b[0m][\u001b[1;32mDEBUG\u001b[0m] - R0/4:\u001b[1;32mN procs: 2\u001b[0m\n",
       "[2025-05-02 14:18:33,553][\u001b[1;36mtensorcraft.mpi.distributions.multi_axis_dist\u001b[0m][\u001b[1;35m_apply_single_axis_allgather\u001b[0m][\u001b[1;32mDEBUG\u001b[0m] - R0/4:\u001b[1;32mRank of largest tensor in the subcommunicator: [0, 0] 0\u001b[0m\n",
       "[2025-05-02 14:18:33,556][\u001b[1;36mtensorcraft.mpi.distributions.multi_axis_dist\u001b[0m][\u001b[1;35m_apply_single_axis_allgather\u001b[0m][\u001b[1;32mDEBUG\u001b[0m] - R0/4:\u001b[1;32mN elements: 12\u001b[0m\n",
       "[2025-05-02 14:18:33,562][\u001b[1;36mtensorcraft.mpi.distributions.multi_axis_dist\u001b[0m][\u001b[1;35m_apply_single_axis_allgather\u001b[0m][\u001b[1;32mDEBUG\u001b[0m] - R0/4:\u001b[1;32mMax local shape: torch.Size([2, 3, 2])\u001b[0m\n",
       "[2025-05-02 14:18:33,564][\u001b[1;36mtensorcraft.mpi.distributions.multi_axis_dist\u001b[0m][\u001b[1;35m_apply_single_axis_allgather\u001b[0m][\u001b[1;32mDEBUG\u001b[0m] - R0/4:\u001b[1;32mPadding: 0\u001b[0m\n",
       "[2025-05-02 14:18:33,565][\u001b[1;36mtensorcraft.mpi.mpi_utils\u001b[0m][\u001b[1;35mtensor2mpiBuffer\u001b[0m][\u001b[1;32mDEBUG\u001b[0m] - R0/4:\u001b[1;32mtensor_stride: (22, 8, 1)\u001b[0m\n",
       "[2025-05-02 14:18:33,566][\u001b[1;36mtensorcraft.mpi.mpi_utils\u001b[0m][\u001b[1;35mtensor2mpiBuffer\u001b[0m][\u001b[1;32mDEBUG\u001b[0m] - R0/4:\u001b[1;32mtensor_offset: 0\u001b[0m\n",
       "[2025-05-02 14:18:33,567][\u001b[1;36mtensorcraft.mpi.mpi_utils\u001b[0m][\u001b[1;35mtensor2mpiBuffer\u001b[0m][\u001b[1;32mDEBUG\u001b[0m] - R0/4:\u001b[1;32mtensor_shape: torch.Size([2, 3, 2])\u001b[0m\n",
       "[2025-05-02 14:18:33,571][\u001b[1;36mtensorcraft.mpi.mpi_utils\u001b[0m][\u001b[1;35mtensor2mpiBuffer\u001b[0m][\u001b[1;32mDEBUG\u001b[0m] - R0/4:\u001b[1;32mtensor_dtype: torch.int64\u001b[0m\n",
       "[2025-05-02 14:18:33,573][\u001b[1;36mtensorcraft.mpi.distributions.multi_axis_dist\u001b[0m][\u001b[1;35m_apply_single_axis_allgather\u001b[0m][\u001b[1;32mDEBUG\u001b[0m] - R0/4:\u001b[1;32mSend buffer: (<mpi4py.MPI.buffer object at 0x7a682aee5fb0>, 1, <mpi4py.MPI.Datatype object at 0x7a6924265290>)\u001b[0m\n",
       "[2025-05-02 14:18:33,682][\u001b[1;36mtensorcraft.mpi.distributions.multi_axis_dist\u001b[0m][\u001b[1;35m_apply_single_axis_allgather\u001b[0m][\u001b[1;32mDEBUG\u001b[0m] - R0/4:\u001b[1;32mRecv_tensor : tensor([[[[[ 0,  1]],\n",
       "\n",
       "          [[ 8,  9]],\n",
       "\n",
       "          [[16, 17]]],\n",
       "\n",
       "\n",
       "         [[[20, 21]],\n",
       "\n",
       "          [[28, 29]],\n",
       "\n",
       "          [[36, 37]]]],\n",
       "\n",
       "\n",
       "\n",
       "        [[[[ 4,  5]],\n",
       "\n",
       "          [[12, 13]],\n",
       "\n",
       "          [[ 0,  0]]],\n",
       "\n",
       "\n",
       "         [[[24, 25]],\n",
       "\n",
       "          [[32, 33]],\n",
       "\n",
       "          [[ 0,  0]]]]])\u001b[0m\n",
       "[2025-05-02 14:18:33,692][\u001b[1;36mtensorcraft.mpi.distributions.multi_axis_dist\u001b[0m][\u001b[1;35m_apply_single_axis_allgather\u001b[0m][\u001b[1;32mDEBUG\u001b[0m] - R0/4:\u001b[1;32mReshaped tensor shape: torch.Size([2, 6, 2])\u001b[0m\n",
       "[2025-05-02 14:18:33,698][\u001b[1;36mtensorcraft.mpi.distributions.multi_axis_dist\u001b[0m][\u001b[1;35m_apply_single_axis_allgather\u001b[0m][\u001b[1;32mDEBUG\u001b[0m] - R0/4:\u001b[1;32mSlices: [slice(None, None, None), slice(0, 5, None), slice(None, None, None)]\u001b[0m\n",
       "[2025-05-02 14:18:33,700][\u001b[1;36mtensorcraft.mpi.distributions.multi_axis_dist\u001b[0m][\u001b[1;35m_apply_single_axis_allgather\u001b[0m][\u001b[1;32mDEBUG\u001b[0m] - R0/4:\u001b[1;32mFinal tensor shape: torch.Size([2, 5, 2])\u001b[0m\n",
       "tensor([[[ 0,  1],\n",
       "         [ 4,  5],\n",
       "         [ 8,  9],\n",
       "         [12, 13],\n",
       "         [16, 17]],\n",
       "\n",
       "        [[20, 21],\n",
       "         [24, 25],\n",
       "         [28, 29],\n",
       "         [32, 33],\n",
       "         [36, 37]]])\n"
      ]
     },
     "metadata": {},
     "output_type": "display_data"
    },
    {
     "data": {
      "text/plain": [
       "[stdout:1] [2025-05-02 14:18:33,512][\u001b[1;36mtensorcraft.distributions.multi_axis\u001b[0m][\u001b[1;35mallgather\u001b[0m][\u001b[1;32mDEBUG\u001b[0m] - R1/4:\u001b[1;32mTensor axis: 1\u001b[0m\n",
       "[2025-05-02 14:18:33,516][\u001b[1;36mtensorcraft.distributions.multi_axis\u001b[0m][\u001b[1;35mallgather\u001b[0m][\u001b[1;32mDEBUG\u001b[0m] - R1/4:\u001b[1;32mMesh axis: 0\u001b[0m\n",
       "[2025-05-02 14:18:33,522][\u001b[1;36mtensorcraft.distributions.multi_axis\u001b[0m][\u001b[1;35mallgather\u001b[0m][\u001b[1;32mDEBUG\u001b[0m] - R1/4:\u001b[1;32mMappings: (0, 1)\u001b[0m\n",
       "[2025-05-02 14:18:33,536][\u001b[1;36mtensorcraft.distributions.multi_axis\u001b[0m][\u001b[1;35mallgather\u001b[0m][\u001b[1;32mDEBUG\u001b[0m] - R1/4:\u001b[1;32mTensor axis: 1\u001b[0m\n",
       "[2025-05-02 14:18:33,544][\u001b[1;36mtensorcraft.distributions.multi_axis\u001b[0m][\u001b[1;35mallgather\u001b[0m][\u001b[1;32mDEBUG\u001b[0m] - R1/4:\u001b[1;32mMesh axis: 0\u001b[0m\n",
       "[2025-05-02 14:18:33,553][\u001b[1;36mtensorcraft.distributions.multi_axis\u001b[0m][\u001b[1;35mallgather\u001b[0m][\u001b[1;32mDEBUG\u001b[0m] - R1/4:\u001b[1;32mMappings: (0, 1)\u001b[0m\n",
       "[2025-05-02 14:18:33,565][\u001b[1;36mtensorcraft.mpi.distributions.multi_axis_dist\u001b[0m][\u001b[1;35m_apply_single_axis_allgather\u001b[0m][\u001b[1;32mDEBUG\u001b[0m] - R1/4:\u001b[1;32mNew distribution: D_[2,2]⊥{∅,1,∅}(∅,1,∅), new shape: torch.Size([2, 5, 2])\u001b[0m\n",
       "[2025-05-02 14:18:33,579][\u001b[1;36mtensorcraft.mpi.distributions.multi_axis_dist\u001b[0m][\u001b[1;35m_apply_single_axis_allgather\u001b[0m][\u001b[1;32mDEBUG\u001b[0m] - R1/4:\u001b[1;32mLocal tensor shape: torch.Size([2, 3, 2])\u001b[0m\n",
       "[2025-05-02 14:18:33,587][\u001b[1;36mtensorcraft.mpi.distributions.multi_axis_dist\u001b[0m][\u001b[1;35m_apply_single_axis_allgather\u001b[0m][\u001b[1;32mDEBUG\u001b[0m] - R1/4:\u001b[1;32mExpected local shape: torch.Size([2, 3, 2])\u001b[0m\n",
       "[2025-05-02 14:18:33,593][\u001b[1;36mtensorcraft.mpi.distributions.multi_axis_dist\u001b[0m][\u001b[1;35m_apply_single_axis_allgather\u001b[0m][\u001b[1;32mDEBUG\u001b[0m] - R1/4:\u001b[1;32mChanged tensor axis: 1\u001b[0m\n",
       "[2025-05-02 14:18:33,599][\u001b[1;36mtensorcraft.mpi.distributions.multi_axis_dist\u001b[0m][\u001b[1;35m_apply_single_axis_allgather\u001b[0m][\u001b[1;32mDEBUG\u001b[0m] - R1/4:\u001b[1;32mProcessor multi index: torch.Size([0, 1])\u001b[0m\n",
       "[2025-05-02 14:18:33,603][\u001b[1;36mtensorcraft.mpi.distributions.multi_axis_dist\u001b[0m][\u001b[1;35m_apply_single_axis_allgather\u001b[0m][\u001b[1;32mDEBUG\u001b[0m] - R1/4:\u001b[1;32mN procs: 2\u001b[0m\n",
       "[2025-05-02 14:18:33,609][\u001b[1;36mtensorcraft.mpi.distributions.multi_axis_dist\u001b[0m][\u001b[1;35m_apply_single_axis_allgather\u001b[0m][\u001b[1;32mDEBUG\u001b[0m] - R1/4:\u001b[1;32mRank of largest tensor in the subcommunicator: [0, 1] 1\u001b[0m\n",
       "[2025-05-02 14:18:33,617][\u001b[1;36mtensorcraft.mpi.distributions.multi_axis_dist\u001b[0m][\u001b[1;35m_apply_single_axis_allgather\u001b[0m][\u001b[1;32mDEBUG\u001b[0m] - R1/4:\u001b[1;32mN elements: 12\u001b[0m\n",
       "[2025-05-02 14:18:33,619][\u001b[1;36mtensorcraft.mpi.distributions.multi_axis_dist\u001b[0m][\u001b[1;35m_apply_single_axis_allgather\u001b[0m][\u001b[1;32mDEBUG\u001b[0m] - R1/4:\u001b[1;32mMax local shape: torch.Size([2, 3, 2])\u001b[0m\n",
       "[2025-05-02 14:18:33,620][\u001b[1;36mtensorcraft.mpi.distributions.multi_axis_dist\u001b[0m][\u001b[1;35m_apply_single_axis_allgather\u001b[0m][\u001b[1;32mDEBUG\u001b[0m] - R1/4:\u001b[1;32mPadding: 0\u001b[0m\n",
       "[2025-05-02 14:18:33,621][\u001b[1;36mtensorcraft.mpi.mpi_utils\u001b[0m][\u001b[1;35mtensor2mpiBuffer\u001b[0m][\u001b[1;32mDEBUG\u001b[0m] - R1/4:\u001b[1;32mtensor_stride: (22, 8, 1)\u001b[0m\n",
       "[2025-05-02 14:18:33,622][\u001b[1;36mtensorcraft.mpi.mpi_utils\u001b[0m][\u001b[1;35mtensor2mpiBuffer\u001b[0m][\u001b[1;32mDEBUG\u001b[0m] - R1/4:\u001b[1;32mtensor_offset: 2\u001b[0m\n",
       "[2025-05-02 14:18:33,623][\u001b[1;36mtensorcraft.mpi.mpi_utils\u001b[0m][\u001b[1;35mtensor2mpiBuffer\u001b[0m][\u001b[1;32mDEBUG\u001b[0m] - R1/4:\u001b[1;32mtensor_shape: torch.Size([2, 3, 2])\u001b[0m\n",
       "[2025-05-02 14:18:33,625][\u001b[1;36mtensorcraft.mpi.mpi_utils\u001b[0m][\u001b[1;35mtensor2mpiBuffer\u001b[0m][\u001b[1;32mDEBUG\u001b[0m] - R1/4:\u001b[1;32mtensor_dtype: torch.int64\u001b[0m\n",
       "[2025-05-02 14:18:33,626][\u001b[1;36mtensorcraft.mpi.distributions.multi_axis_dist\u001b[0m][\u001b[1;35m_apply_single_axis_allgather\u001b[0m][\u001b[1;32mDEBUG\u001b[0m] - R1/4:\u001b[1;32mSend buffer: (<mpi4py.MPI.buffer object at 0x79e0204c6090>, 1, <mpi4py.MPI.Datatype object at 0x79e1180eccc0>)\u001b[0m\n",
       "[2025-05-02 14:18:33,678][\u001b[1;36mtensorcraft.mpi.distributions.multi_axis_dist\u001b[0m][\u001b[1;35m_apply_single_axis_allgather\u001b[0m][\u001b[1;32mDEBUG\u001b[0m] - R1/4:\u001b[1;32mRecv_tensor : tensor([[[[[ 2,  3]],\n",
       "\n",
       "          [[10, 11]],\n",
       "\n",
       "          [[18, 19]]],\n",
       "\n",
       "\n",
       "         [[[22, 23]],\n",
       "\n",
       "          [[30, 31]],\n",
       "\n",
       "          [[38, 39]]]],\n",
       "\n",
       "\n",
       "\n",
       "        [[[[ 6,  7]],\n",
       "\n",
       "          [[14, 15]],\n",
       "\n",
       "          [[ 0,  0]]],\n",
       "\n",
       "\n",
       "         [[[26, 27]],\n",
       "\n",
       "          [[34, 35]],\n",
       "\n",
       "          [[ 0,  0]]]]])\u001b[0m\n",
       "[2025-05-02 14:18:33,680][\u001b[1;36mtensorcraft.mpi.distributions.multi_axis_dist\u001b[0m][\u001b[1;35m_apply_single_axis_allgather\u001b[0m][\u001b[1;32mDEBUG\u001b[0m] - R1/4:\u001b[1;32mReshaped tensor shape: torch.Size([2, 6, 2])\u001b[0m\n",
       "[2025-05-02 14:18:33,682][\u001b[1;36mtensorcraft.mpi.distributions.multi_axis_dist\u001b[0m][\u001b[1;35m_apply_single_axis_allgather\u001b[0m][\u001b[1;32mDEBUG\u001b[0m] - R1/4:\u001b[1;32mSlices: [slice(None, None, None), slice(0, 5, None), slice(None, None, None)]\u001b[0m\n",
       "[2025-05-02 14:18:33,683][\u001b[1;36mtensorcraft.mpi.distributions.multi_axis_dist\u001b[0m][\u001b[1;35m_apply_single_axis_allgather\u001b[0m][\u001b[1;32mDEBUG\u001b[0m] - R1/4:\u001b[1;32mFinal tensor shape: torch.Size([2, 5, 2])\u001b[0m\n",
       "tensor([[[ 2,  3],\n",
       "         [ 6,  7],\n",
       "         [10, 11],\n",
       "         [14, 15],\n",
       "         [18, 19]],\n",
       "\n",
       "        [[22, 23],\n",
       "         [26, 27],\n",
       "         [30, 31],\n",
       "         [34, 35],\n",
       "         [38, 39]]])\n"
      ]
     },
     "metadata": {},
     "output_type": "display_data"
    },
    {
     "data": {
      "text/plain": [
       "[stdout:2] [2025-05-02 14:18:33,526][\u001b[1;36mtensorcraft.distributions.multi_axis\u001b[0m][\u001b[1;35mallgather\u001b[0m][\u001b[1;32mDEBUG\u001b[0m] - R2/4:\u001b[1;32mTensor axis: 1\u001b[0m\n",
       "[2025-05-02 14:18:33,530][\u001b[1;36mtensorcraft.distributions.multi_axis\u001b[0m][\u001b[1;35mallgather\u001b[0m][\u001b[1;32mDEBUG\u001b[0m] - R2/4:\u001b[1;32mMesh axis: 0\u001b[0m\n",
       "[2025-05-02 14:18:33,531][\u001b[1;36mtensorcraft.distributions.multi_axis\u001b[0m][\u001b[1;35mallgather\u001b[0m][\u001b[1;32mDEBUG\u001b[0m] - R2/4:\u001b[1;32mMappings: (0, 1)\u001b[0m\n",
       "[2025-05-02 14:18:33,536][\u001b[1;36mtensorcraft.distributions.multi_axis\u001b[0m][\u001b[1;35mallgather\u001b[0m][\u001b[1;32mDEBUG\u001b[0m] - R2/4:\u001b[1;32mTensor axis: 1\u001b[0m\n",
       "[2025-05-02 14:18:33,544][\u001b[1;36mtensorcraft.distributions.multi_axis\u001b[0m][\u001b[1;35mallgather\u001b[0m][\u001b[1;32mDEBUG\u001b[0m] - R2/4:\u001b[1;32mMesh axis: 0\u001b[0m\n",
       "[2025-05-02 14:18:33,548][\u001b[1;36mtensorcraft.distributions.multi_axis\u001b[0m][\u001b[1;35mallgather\u001b[0m][\u001b[1;32mDEBUG\u001b[0m] - R2/4:\u001b[1;32mMappings: (0, 1)\u001b[0m\n",
       "[2025-05-02 14:18:33,553][\u001b[1;36mtensorcraft.mpi.distributions.multi_axis_dist\u001b[0m][\u001b[1;35m_apply_single_axis_allgather\u001b[0m][\u001b[1;32mDEBUG\u001b[0m] - R2/4:\u001b[1;32mNew distribution: D_[2,2]⊥{∅,1,∅}(∅,1,∅), new shape: torch.Size([2, 5, 2])\u001b[0m\n",
       "[2025-05-02 14:18:33,558][\u001b[1;36mtensorcraft.mpi.distributions.multi_axis_dist\u001b[0m][\u001b[1;35m_apply_single_axis_allgather\u001b[0m][\u001b[1;32mDEBUG\u001b[0m] - R2/4:\u001b[1;32mLocal tensor shape: torch.Size([2, 2, 2])\u001b[0m\n",
       "[2025-05-02 14:18:33,559][\u001b[1;36mtensorcraft.mpi.distributions.multi_axis_dist\u001b[0m][\u001b[1;35m_apply_single_axis_allgather\u001b[0m][\u001b[1;32mDEBUG\u001b[0m] - R2/4:\u001b[1;32mExpected local shape: torch.Size([2, 2, 2])\u001b[0m\n",
       "[2025-05-02 14:18:33,562][\u001b[1;36mtensorcraft.mpi.distributions.multi_axis_dist\u001b[0m][\u001b[1;35m_apply_single_axis_allgather\u001b[0m][\u001b[1;32mDEBUG\u001b[0m] - R2/4:\u001b[1;32mChanged tensor axis: 1\u001b[0m\n",
       "[2025-05-02 14:18:33,564][\u001b[1;36mtensorcraft.mpi.distributions.multi_axis_dist\u001b[0m][\u001b[1;35m_apply_single_axis_allgather\u001b[0m][\u001b[1;32mDEBUG\u001b[0m] - R2/4:\u001b[1;32mProcessor multi index: torch.Size([1, 0])\u001b[0m\n",
       "[2025-05-02 14:18:33,566][\u001b[1;36mtensorcraft.mpi.distributions.multi_axis_dist\u001b[0m][\u001b[1;35m_apply_single_axis_allgather\u001b[0m][\u001b[1;32mDEBUG\u001b[0m] - R2/4:\u001b[1;32mN procs: 2\u001b[0m\n",
       "[2025-05-02 14:18:33,568][\u001b[1;36mtensorcraft.mpi.distributions.multi_axis_dist\u001b[0m][\u001b[1;35m_apply_single_axis_allgather\u001b[0m][\u001b[1;32mDEBUG\u001b[0m] - R2/4:\u001b[1;32mRank of largest tensor in the subcommunicator: [0, 0] 0\u001b[0m\n",
       "[2025-05-02 14:18:33,577][\u001b[1;36mtensorcraft.mpi.distributions.multi_axis_dist\u001b[0m][\u001b[1;35m_apply_single_axis_allgather\u001b[0m][\u001b[1;32mDEBUG\u001b[0m] - R2/4:\u001b[1;32mN elements: 12\u001b[0m\n",
       "[2025-05-02 14:18:33,579][\u001b[1;36mtensorcraft.mpi.distributions.multi_axis_dist\u001b[0m][\u001b[1;35m_apply_single_axis_allgather\u001b[0m][\u001b[1;32mDEBUG\u001b[0m] - R2/4:\u001b[1;32mMax local shape: torch.Size([2, 3, 2])\u001b[0m\n",
       "[2025-05-02 14:18:33,581][\u001b[1;36mtensorcraft.mpi.distributions.multi_axis_dist\u001b[0m][\u001b[1;35m_apply_single_axis_allgather\u001b[0m][\u001b[1;32mDEBUG\u001b[0m] - R2/4:\u001b[1;32mPadding: 1\u001b[0m\n",
       "[2025-05-02 14:18:33,583][\u001b[1;36mtensorcraft.mpi.distributions.multi_axis_dist\u001b[0m][\u001b[1;35m_apply_single_axis_allgather\u001b[0m][\u001b[1;32mDEBUG\u001b[0m] - R2/4:\u001b[1;32mPadding tuple: [0, 0, 1, 0, 0, 0]\u001b[0m\n",
       "[2025-05-02 14:18:33,585][\u001b[1;36mtensorcraft.mpi.distributions.multi_axis_dist\u001b[0m][\u001b[1;35m_apply_single_axis_allgather\u001b[0m][\u001b[1;32mDEBUG\u001b[0m] - R2/4:\u001b[1;32mPadded local tensor shape: torch.Size([2, 3, 2])\u001b[0m\n",
       "[2025-05-02 14:18:33,592][\u001b[1;36mtensorcraft.mpi.distributions.multi_axis_dist\u001b[0m][\u001b[1;35m_apply_single_axis_allgather\u001b[0m][\u001b[1;32mDEBUG\u001b[0m] - R2/4:\u001b[1;32mPadded local tensor: tensor([[[ 4,  5],\n",
       "         [12, 13],\n",
       "         [ 0,  0]],\n",
       "\n",
       "        [[24, 25],\n",
       "         [32, 33],\n",
       "         [ 0,  0]]])\u001b[0m\n",
       "[2025-05-02 14:18:33,596][\u001b[1;36mtensorcraft.mpi.mpi_utils\u001b[0m][\u001b[1;35mtensor2mpiBuffer\u001b[0m][\u001b[1;32mDEBUG\u001b[0m] - R2/4:\u001b[1;32mtensor_stride: (6, 2, 1)\u001b[0m\n",
       "[2025-05-02 14:18:33,597][\u001b[1;36mtensorcraft.mpi.mpi_utils\u001b[0m][\u001b[1;35mtensor2mpiBuffer\u001b[0m][\u001b[1;32mDEBUG\u001b[0m] - R2/4:\u001b[1;32mtensor_offset: 0\u001b[0m\n",
       "[2025-05-02 14:18:33,598][\u001b[1;36mtensorcraft.mpi.mpi_utils\u001b[0m][\u001b[1;35mtensor2mpiBuffer\u001b[0m][\u001b[1;32mDEBUG\u001b[0m] - R2/4:\u001b[1;32mtensor_shape: torch.Size([2, 3, 2])\u001b[0m\n",
       "[2025-05-02 14:18:33,600][\u001b[1;36mtensorcraft.mpi.mpi_utils\u001b[0m][\u001b[1;35mtensor2mpiBuffer\u001b[0m][\u001b[1;32mDEBUG\u001b[0m] - R2/4:\u001b[1;32mtensor_dtype: torch.int64\u001b[0m\n",
       "[2025-05-02 14:18:33,605][\u001b[1;36mtensorcraft.mpi.mpi_utils\u001b[0m][\u001b[1;35mtensor2mpiBuffer\u001b[0m][\u001b[1;32mDEBUG\u001b[0m] - R2/4:\u001b[1;32mBest case scenario, it is contiguous!\u001b[0m\n",
       "[2025-05-02 14:18:33,609][\u001b[1;36mtensorcraft.mpi.distributions.multi_axis_dist\u001b[0m][\u001b[1;35m_apply_single_axis_allgather\u001b[0m][\u001b[1;32mDEBUG\u001b[0m] - R2/4:\u001b[1;32mSend buffer: (<mpi4py.MPI.buffer object at 0x74da2efde090>, 12, <mpi4py.MPI.Datatype object at 0x74db2c32c6f0>)\u001b[0m\n",
       "[2025-05-02 14:18:33,686][\u001b[1;36mtensorcraft.mpi.distributions.multi_axis_dist\u001b[0m][\u001b[1;35m_apply_single_axis_allgather\u001b[0m][\u001b[1;32mDEBUG\u001b[0m] - R2/4:\u001b[1;32mRecv_tensor : tensor([[[[[ 0,  1]],\n",
       "\n",
       "          [[ 8,  9]],\n",
       "\n",
       "          [[16, 17]]],\n",
       "\n",
       "\n",
       "         [[[20, 21]],\n",
       "\n",
       "          [[28, 29]],\n",
       "\n",
       "          [[36, 37]]]],\n",
       "\n",
       "\n",
       "\n",
       "        [[[[ 4,  5]],\n",
       "\n",
       "          [[12, 13]],\n",
       "\n",
       "          [[ 0,  0]]],\n",
       "\n",
       "\n",
       "         [[[24, 25]],\n",
       "\n",
       "          [[32, 33]],\n",
       "\n",
       "          [[ 0,  0]]]]])\u001b[0m\n",
       "[2025-05-02 14:18:33,693][\u001b[1;36mtensorcraft.mpi.distributions.multi_axis_dist\u001b[0m][\u001b[1;35m_apply_single_axis_allgather\u001b[0m][\u001b[1;32mDEBUG\u001b[0m] - R2/4:\u001b[1;32mReshaped tensor shape: torch.Size([2, 6, 2])\u001b[0m\n",
       "[2025-05-02 14:18:33,697][\u001b[1;36mtensorcraft.mpi.distributions.multi_axis_dist\u001b[0m][\u001b[1;35m_apply_single_axis_allgather\u001b[0m][\u001b[1;32mDEBUG\u001b[0m] - R2/4:\u001b[1;32mSlices: [slice(None, None, None), slice(0, 5, None), slice(None, None, None)]\u001b[0m\n",
       "[2025-05-02 14:18:33,700][\u001b[1;36mtensorcraft.mpi.distributions.multi_axis_dist\u001b[0m][\u001b[1;35m_apply_single_axis_allgather\u001b[0m][\u001b[1;32mDEBUG\u001b[0m] - R2/4:\u001b[1;32mFinal tensor shape: torch.Size([2, 5, 2])\u001b[0m\n",
       "tensor([[[ 0,  1],\n",
       "         [ 4,  5],\n",
       "         [ 8,  9],\n",
       "         [12, 13],\n",
       "         [16, 17]],\n",
       "\n",
       "        [[20, 21],\n",
       "         [24, 25],\n",
       "         [28, 29],\n",
       "         [32, 33],\n",
       "         [36, 37]]])\n"
      ]
     },
     "metadata": {},
     "output_type": "display_data"
    },
    {
     "data": {
      "text/plain": [
       "[stderr:3] /home/juanpedroghm/code/tensorcraft/tensorcraft/util/axis_utils.py:120: UserWarning: To copy construct from a tensor, it is recommended to use sourceTensor.clone().detach() or sourceTensor.clone().detach().requires_grad_(True), rather than torch.tensor(sourceTensor).\n",
       "  index_tensor = torch.tensor(index)\n"
      ]
     },
     "metadata": {},
     "output_type": "display_data"
    },
    {
     "data": {
      "text/plain": [
       "[stderr:1] /home/juanpedroghm/code/tensorcraft/tensorcraft/util/axis_utils.py:120: UserWarning: To copy construct from a tensor, it is recommended to use sourceTensor.clone().detach() or sourceTensor.clone().detach().requires_grad_(True), rather than torch.tensor(sourceTensor).\n",
       "  index_tensor = torch.tensor(index)\n"
      ]
     },
     "metadata": {},
     "output_type": "display_data"
    },
    {
     "data": {
      "text/plain": [
       "[stderr:0] /home/juanpedroghm/code/tensorcraft/tensorcraft/util/axis_utils.py:120: UserWarning: To copy construct from a tensor, it is recommended to use sourceTensor.clone().detach() or sourceTensor.clone().detach().requires_grad_(True), rather than torch.tensor(sourceTensor).\n",
       "  index_tensor = torch.tensor(index)\n"
      ]
     },
     "metadata": {},
     "output_type": "display_data"
    },
    {
     "data": {
      "text/plain": [
       "[stderr:2] /home/juanpedroghm/code/tensorcraft/tensorcraft/util/axis_utils.py:120: UserWarning: To copy construct from a tensor, it is recommended to use sourceTensor.clone().detach() or sourceTensor.clone().detach().requires_grad_(True), rather than torch.tensor(sourceTensor).\n",
       "  index_tensor = torch.tensor(index)\n"
      ]
     },
     "metadata": {},
     "output_type": "display_data"
    }
   ],
   "source": [
    "%%px\n",
    "new_dist, post_gather = dist.apply_allgather(x.shape, x_local, comm, gather_mesh_dim=0)\n",
    "print(post_gather)"
   ]
  },
  {
   "cell_type": "code",
   "execution_count": null,
   "metadata": {},
   "outputs": [
    {
     "data": {
      "text/plain": [
       "\u001b[0;31mOut[2:4]: \u001b[0m\n",
       "tensor([[[ 0,  1],\n",
       "         [ 4,  5],\n",
       "         [ 8,  9],\n",
       "         [12, 13],\n",
       "         [16, 17]],\n",
       "\n",
       "        [[20, 21],\n",
       "         [24, 25],\n",
       "         [28, 29],\n",
       "         [32, 33],\n",
       "         [36, 37]]])"
      ]
     },
     "metadata": {
      "after": null,
      "completed": null,
      "data": {},
      "engine_id": 2,
      "engine_uuid": "1f57be5e-263c2d3698ea3f5522017e5f",
      "error": null,
      "execute_input": "post_gather\n",
      "execute_result": {
       "data": {
        "text/plain": "tensor([[[ 0,  1],\n         [ 4,  5],\n         [ 8,  9],\n         [12, 13],\n         [16, 17]],\n\n        [[20, 21],\n         [24, 25],\n         [28, 29],\n         [32, 33],\n         [36, 37]]])"
       },
       "execution_count": 4,
       "metadata": {}
      },
      "follow": null,
      "msg_id": null,
      "outputs": [],
      "received": null,
      "started": null,
      "status": null,
      "stderr": "",
      "stdout": "",
      "submitted": "2025-05-02T12:19:16.140416Z"
     },
     "output_type": "display_data"
    },
    {
     "data": {
      "text/plain": [
       "\u001b[0;31mOut[0:4]: \u001b[0m\n",
       "tensor([[[ 0,  1],\n",
       "         [ 4,  5],\n",
       "         [ 8,  9],\n",
       "         [12, 13],\n",
       "         [16, 17]],\n",
       "\n",
       "        [[20, 21],\n",
       "         [24, 25],\n",
       "         [28, 29],\n",
       "         [32, 33],\n",
       "         [36, 37]]])"
      ]
     },
     "metadata": {
      "after": null,
      "completed": null,
      "data": {},
      "engine_id": 0,
      "engine_uuid": "543db57a-aa03f3f688255bf1478d11f6",
      "error": null,
      "execute_input": "post_gather\n",
      "execute_result": {
       "data": {
        "text/plain": "tensor([[[ 0,  1],\n         [ 4,  5],\n         [ 8,  9],\n         [12, 13],\n         [16, 17]],\n\n        [[20, 21],\n         [24, 25],\n         [28, 29],\n         [32, 33],\n         [36, 37]]])"
       },
       "execution_count": 4,
       "metadata": {}
      },
      "follow": null,
      "msg_id": null,
      "outputs": [],
      "received": null,
      "started": null,
      "status": null,
      "stderr": "",
      "stdout": "",
      "submitted": "2025-05-02T12:19:16.138488Z"
     },
     "output_type": "display_data"
    },
    {
     "data": {
      "text/plain": [
       "\u001b[0;31mOut[1:4]: \u001b[0m\n",
       "tensor([[[ 2,  3],\n",
       "         [ 6,  7],\n",
       "         [10, 11],\n",
       "         [14, 15],\n",
       "         [18, 19]],\n",
       "\n",
       "        [[22, 23],\n",
       "         [26, 27],\n",
       "         [30, 31],\n",
       "         [34, 35],\n",
       "         [38, 39]]])"
      ]
     },
     "metadata": {
      "after": null,
      "completed": null,
      "data": {},
      "engine_id": 1,
      "engine_uuid": "0d331a0f-aa88197e292a8b599d876c81",
      "error": null,
      "execute_input": "post_gather\n",
      "execute_result": {
       "data": {
        "text/plain": "tensor([[[ 2,  3],\n         [ 6,  7],\n         [10, 11],\n         [14, 15],\n         [18, 19]],\n\n        [[22, 23],\n         [26, 27],\n         [30, 31],\n         [34, 35],\n         [38, 39]]])"
       },
       "execution_count": 4,
       "metadata": {}
      },
      "follow": null,
      "msg_id": null,
      "outputs": [],
      "received": null,
      "started": null,
      "status": null,
      "stderr": "",
      "stdout": "",
      "submitted": "2025-05-02T12:19:16.139454Z"
     },
     "output_type": "display_data"
    },
    {
     "data": {
      "text/plain": [
       "\u001b[0;31mOut[3:4]: \u001b[0m\n",
       "tensor([[[ 2,  3],\n",
       "         [ 6,  7],\n",
       "         [10, 11],\n",
       "         [14, 15],\n",
       "         [18, 19]],\n",
       "\n",
       "        [[22, 23],\n",
       "         [26, 27],\n",
       "         [30, 31],\n",
       "         [34, 35],\n",
       "         [38, 39]]])"
      ]
     },
     "metadata": {
      "after": [],
      "completed": "2025-05-02T12:19:16.162143Z",
      "data": {},
      "engine_id": 3,
      "engine_uuid": "7988defa-219c7142d380c50f323fc46a",
      "error": null,
      "execute_input": "post_gather\n",
      "execute_result": {
       "data": {
        "text/plain": "tensor([[[ 2,  3],\n         [ 6,  7],\n         [10, 11],\n         [14, 15],\n         [18, 19]],\n\n        [[22, 23],\n         [26, 27],\n         [30, 31],\n         [34, 35],\n         [38, 39]]])"
       },
       "execution_count": 4,
       "metadata": {}
      },
      "follow": [],
      "is_broadcast": false,
      "is_coalescing": false,
      "msg_id": "2651df02-373247f1f0a7f3bcc6efb471_136847_16",
      "outputs": [],
      "received": "2025-05-02T12:19:16.165357Z",
      "started": "2025-05-02T12:19:16.148779Z",
      "status": "ok",
      "stderr": "",
      "stdout": "",
      "submitted": "2025-05-02T12:19:16.140486Z"
     },
     "output_type": "display_data"
    }
   ],
   "source": [
    "%%px\n",
    "post_gather"
   ]
  },
  {
   "cell_type": "code",
   "execution_count": null,
   "metadata": {},
   "outputs": [
    {
     "data": {
      "text/plain": [
       "[stdout:0] [2025-05-02 14:19:16,455][\u001b[1;36mtensorcraft.distributions.multi_axis\u001b[0m][\u001b[1;35mallgather\u001b[0m][\u001b[1;32mDEBUG\u001b[0m] - R0/4:\u001b[1;32mTensor axis: 1\u001b[0m\n",
       "[2025-05-02 14:19:16,457][\u001b[1;36mtensorcraft.distributions.multi_axis\u001b[0m][\u001b[1;35mallgather\u001b[0m][\u001b[1;32mDEBUG\u001b[0m] - R0/4:\u001b[1;32mMesh axis: 1\u001b[0m\n",
       "[2025-05-02 14:19:16,458][\u001b[1;36mtensorcraft.distributions.multi_axis\u001b[0m][\u001b[1;35mallgather\u001b[0m][\u001b[1;32mDEBUG\u001b[0m] - R0/4:\u001b[1;32mMappings: (0, 1)\u001b[0m\n",
       "[2025-05-02 14:19:16,461][\u001b[1;36mtensorcraft.distributions.multi_axis\u001b[0m][\u001b[1;35mallgather\u001b[0m][\u001b[1;32mDEBUG\u001b[0m] - R0/4:\u001b[1;32mTensor axis: 1\u001b[0m\n",
       "[2025-05-02 14:19:16,464][\u001b[1;36mtensorcraft.distributions.multi_axis\u001b[0m][\u001b[1;35mallgather\u001b[0m][\u001b[1;32mDEBUG\u001b[0m] - R0/4:\u001b[1;32mMesh axis: 1\u001b[0m\n",
       "[2025-05-02 14:19:16,465][\u001b[1;36mtensorcraft.distributions.multi_axis\u001b[0m][\u001b[1;35mallgather\u001b[0m][\u001b[1;32mDEBUG\u001b[0m] - R0/4:\u001b[1;32mMappings: (0, 1)\u001b[0m\n",
       "[2025-05-02 14:19:16,466][\u001b[1;36mtensorcraft.mpi.distributions.multi_axis_dist\u001b[0m][\u001b[1;35m_apply_single_axis_allgather\u001b[0m][\u001b[1;32mDEBUG\u001b[0m] - R0/4:\u001b[1;32mNew distribution: D_[2,2]⊥{∅,0,∅}(∅,2,∅), new shape: torch.Size([2, 6, 2])\u001b[0m\n",
       "[2025-05-02 14:19:16,467][\u001b[1;36mtensorcraft.mpi.distributions.multi_axis_dist\u001b[0m][\u001b[1;35m_apply_single_axis_allgather\u001b[0m][\u001b[1;32mDEBUG\u001b[0m] - R0/4:\u001b[1;32mLocal tensor shape: torch.Size([2, 3, 2])\u001b[0m\n",
       "[2025-05-02 14:19:16,468][\u001b[1;36mtensorcraft.mpi.distributions.multi_axis_dist\u001b[0m][\u001b[1;35m_apply_single_axis_allgather\u001b[0m][\u001b[1;32mDEBUG\u001b[0m] - R0/4:\u001b[1;32mExpected local shape: torch.Size([2, 3, 2])\u001b[0m\n",
       "[2025-05-02 14:19:16,468][\u001b[1;36mtensorcraft.mpi.distributions.multi_axis_dist\u001b[0m][\u001b[1;35m_apply_single_axis_allgather\u001b[0m][\u001b[1;32mDEBUG\u001b[0m] - R0/4:\u001b[1;32mChanged tensor axis: 1\u001b[0m\n",
       "[2025-05-02 14:19:16,469][\u001b[1;36mtensorcraft.mpi.distributions.multi_axis_dist\u001b[0m][\u001b[1;35m_apply_single_axis_allgather\u001b[0m][\u001b[1;32mDEBUG\u001b[0m] - R0/4:\u001b[1;32mProcessor multi index: torch.Size([0, 0])\u001b[0m\n",
       "[2025-05-02 14:19:16,469][\u001b[1;36mtensorcraft.mpi.distributions.multi_axis_dist\u001b[0m][\u001b[1;35m_apply_single_axis_allgather\u001b[0m][\u001b[1;32mDEBUG\u001b[0m] - R0/4:\u001b[1;32mN procs: 2\u001b[0m\n",
       "[2025-05-02 14:19:16,469][\u001b[1;36mtensorcraft.mpi.distributions.multi_axis_dist\u001b[0m][\u001b[1;35m_apply_single_axis_allgather\u001b[0m][\u001b[1;32mDEBUG\u001b[0m] - R0/4:\u001b[1;32mRank of largest tensor in the subcommunicator: [0, 0] 0\u001b[0m\n",
       "[2025-05-02 14:19:16,471][\u001b[1;36mtensorcraft.mpi.distributions.multi_axis_dist\u001b[0m][\u001b[1;35m_apply_single_axis_allgather\u001b[0m][\u001b[1;32mDEBUG\u001b[0m] - R0/4:\u001b[1;32mN elements: 12\u001b[0m\n",
       "[2025-05-02 14:19:16,472][\u001b[1;36mtensorcraft.mpi.distributions.multi_axis_dist\u001b[0m][\u001b[1;35m_apply_single_axis_allgather\u001b[0m][\u001b[1;32mDEBUG\u001b[0m] - R0/4:\u001b[1;32mMax local shape: torch.Size([2, 3, 2])\u001b[0m\n",
       "[2025-05-02 14:19:16,472][\u001b[1;36mtensorcraft.mpi.distributions.multi_axis_dist\u001b[0m][\u001b[1;35m_apply_single_axis_allgather\u001b[0m][\u001b[1;32mDEBUG\u001b[0m] - R0/4:\u001b[1;32mPadding: 0\u001b[0m\n",
       "[2025-05-02 14:19:16,472][\u001b[1;36mtensorcraft.mpi.mpi_utils\u001b[0m][\u001b[1;35mtensor2mpiBuffer\u001b[0m][\u001b[1;32mDEBUG\u001b[0m] - R0/4:\u001b[1;32mtensor_stride: (22, 8, 1)\u001b[0m\n",
       "[2025-05-02 14:19:16,473][\u001b[1;36mtensorcraft.mpi.mpi_utils\u001b[0m][\u001b[1;35mtensor2mpiBuffer\u001b[0m][\u001b[1;32mDEBUG\u001b[0m] - R0/4:\u001b[1;32mtensor_offset: 0\u001b[0m\n",
       "[2025-05-02 14:19:16,473][\u001b[1;36mtensorcraft.mpi.mpi_utils\u001b[0m][\u001b[1;35mtensor2mpiBuffer\u001b[0m][\u001b[1;32mDEBUG\u001b[0m] - R0/4:\u001b[1;32mtensor_shape: torch.Size([2, 3, 2])\u001b[0m\n",
       "[2025-05-02 14:19:16,473][\u001b[1;36mtensorcraft.mpi.mpi_utils\u001b[0m][\u001b[1;35mtensor2mpiBuffer\u001b[0m][\u001b[1;32mDEBUG\u001b[0m] - R0/4:\u001b[1;32mtensor_dtype: torch.int64\u001b[0m\n",
       "[2025-05-02 14:19:16,473][\u001b[1;36mtensorcraft.mpi.distributions.multi_axis_dist\u001b[0m][\u001b[1;35m_apply_single_axis_allgather\u001b[0m][\u001b[1;32mDEBUG\u001b[0m] - R0/4:\u001b[1;32mSend buffer: (<mpi4py.MPI.buffer object at 0x7a682aee6090>, 1, <mpi4py.MPI.Datatype object at 0x7a682df8f990>)\u001b[0m\n",
       "[2025-05-02 14:19:16,517][\u001b[1;36mtensorcraft.mpi.distributions.multi_axis_dist\u001b[0m][\u001b[1;35m_apply_single_axis_allgather\u001b[0m][\u001b[1;32mDEBUG\u001b[0m] - R0/4:\u001b[1;32mRecv_tensor : tensor([[[[[ 0,  1]],\n",
       "\n",
       "          [[ 8,  9]],\n",
       "\n",
       "          [[16, 17]]],\n",
       "\n",
       "\n",
       "         [[[20, 21]],\n",
       "\n",
       "          [[28, 29]],\n",
       "\n",
       "          [[36, 37]]]],\n",
       "\n",
       "\n",
       "\n",
       "        [[[[ 2,  3]],\n",
       "\n",
       "          [[10, 11]],\n",
       "\n",
       "          [[18, 19]]],\n",
       "\n",
       "\n",
       "         [[[22, 23]],\n",
       "\n",
       "          [[30, 31]],\n",
       "\n",
       "          [[38, 39]]]]])\u001b[0m\n",
       "[2025-05-02 14:19:16,519][\u001b[1;36mtensorcraft.mpi.distributions.multi_axis_dist\u001b[0m][\u001b[1;35m_apply_single_axis_allgather\u001b[0m][\u001b[1;32mDEBUG\u001b[0m] - R0/4:\u001b[1;32mReshaped tensor shape: torch.Size([2, 6, 2])\u001b[0m\n",
       "[2025-05-02 14:19:16,520][\u001b[1;36mtensorcraft.mpi.distributions.multi_axis_dist\u001b[0m][\u001b[1;35m_apply_single_axis_allgather\u001b[0m][\u001b[1;32mDEBUG\u001b[0m] - R0/4:\u001b[1;32mSlices: [slice(None, None, None), slice(0, 6, None), slice(None, None, None)]\u001b[0m\n",
       "[2025-05-02 14:19:16,521][\u001b[1;36mtensorcraft.mpi.distributions.multi_axis_dist\u001b[0m][\u001b[1;35m_apply_single_axis_allgather\u001b[0m][\u001b[1;32mDEBUG\u001b[0m] - R0/4:\u001b[1;32mFinal tensor shape: torch.Size([2, 6, 2])\u001b[0m\n",
       "tensor([[[ 0,  1],\n",
       "         [ 2,  3],\n",
       "         [ 8,  9],\n",
       "         [10, 11],\n",
       "         [16, 17],\n",
       "         [18, 19]],\n",
       "\n",
       "        [[20, 21],\n",
       "         [22, 23],\n",
       "         [28, 29],\n",
       "         [30, 31],\n",
       "         [36, 37],\n",
       "         [38, 39]]])\n"
      ]
     },
     "metadata": {},
     "output_type": "display_data"
    },
    {
     "data": {
      "text/plain": [
       "[stdout:3] [2025-05-02 14:19:16,456][\u001b[1;36mtensorcraft.distributions.multi_axis\u001b[0m][\u001b[1;35mallgather\u001b[0m][\u001b[1;32mDEBUG\u001b[0m] - R3/4:\u001b[1;32mTensor axis: 1\u001b[0m\n",
       "[2025-05-02 14:19:16,458][\u001b[1;36mtensorcraft.distributions.multi_axis\u001b[0m][\u001b[1;35mallgather\u001b[0m][\u001b[1;32mDEBUG\u001b[0m] - R3/4:\u001b[1;32mMesh axis: 1\u001b[0m\n",
       "[2025-05-02 14:19:16,459][\u001b[1;36mtensorcraft.distributions.multi_axis\u001b[0m][\u001b[1;35mallgather\u001b[0m][\u001b[1;32mDEBUG\u001b[0m] - R3/4:\u001b[1;32mMappings: (0, 1)\u001b[0m\n",
       "[2025-05-02 14:19:16,461][\u001b[1;36mtensorcraft.distributions.multi_axis\u001b[0m][\u001b[1;35mallgather\u001b[0m][\u001b[1;32mDEBUG\u001b[0m] - R3/4:\u001b[1;32mTensor axis: 1\u001b[0m\n",
       "[2025-05-02 14:19:16,463][\u001b[1;36mtensorcraft.distributions.multi_axis\u001b[0m][\u001b[1;35mallgather\u001b[0m][\u001b[1;32mDEBUG\u001b[0m] - R3/4:\u001b[1;32mMesh axis: 1\u001b[0m\n",
       "[2025-05-02 14:19:16,464][\u001b[1;36mtensorcraft.distributions.multi_axis\u001b[0m][\u001b[1;35mallgather\u001b[0m][\u001b[1;32mDEBUG\u001b[0m] - R3/4:\u001b[1;32mMappings: (0, 1)\u001b[0m\n",
       "[2025-05-02 14:19:16,465][\u001b[1;36mtensorcraft.mpi.distributions.multi_axis_dist\u001b[0m][\u001b[1;35m_apply_single_axis_allgather\u001b[0m][\u001b[1;32mDEBUG\u001b[0m] - R3/4:\u001b[1;32mNew distribution: D_[2,2]⊥{∅,0,∅}(∅,2,∅), new shape: torch.Size([2, 4, 2])\u001b[0m\n",
       "[2025-05-02 14:19:16,467][\u001b[1;36mtensorcraft.mpi.distributions.multi_axis_dist\u001b[0m][\u001b[1;35m_apply_single_axis_allgather\u001b[0m][\u001b[1;32mDEBUG\u001b[0m] - R3/4:\u001b[1;32mLocal tensor shape: torch.Size([2, 2, 2])\u001b[0m\n",
       "[2025-05-02 14:19:16,468][\u001b[1;36mtensorcraft.mpi.distributions.multi_axis_dist\u001b[0m][\u001b[1;35m_apply_single_axis_allgather\u001b[0m][\u001b[1;32mDEBUG\u001b[0m] - R3/4:\u001b[1;32mExpected local shape: torch.Size([2, 2, 2])\u001b[0m\n",
       "[2025-05-02 14:19:16,468][\u001b[1;36mtensorcraft.mpi.distributions.multi_axis_dist\u001b[0m][\u001b[1;35m_apply_single_axis_allgather\u001b[0m][\u001b[1;32mDEBUG\u001b[0m] - R3/4:\u001b[1;32mChanged tensor axis: 1\u001b[0m\n",
       "[2025-05-02 14:19:16,469][\u001b[1;36mtensorcraft.mpi.distributions.multi_axis_dist\u001b[0m][\u001b[1;35m_apply_single_axis_allgather\u001b[0m][\u001b[1;32mDEBUG\u001b[0m] - R3/4:\u001b[1;32mProcessor multi index: torch.Size([1, 1])\u001b[0m\n",
       "[2025-05-02 14:19:16,469][\u001b[1;36mtensorcraft.mpi.distributions.multi_axis_dist\u001b[0m][\u001b[1;35m_apply_single_axis_allgather\u001b[0m][\u001b[1;32mDEBUG\u001b[0m] - R3/4:\u001b[1;32mN procs: 2\u001b[0m\n",
       "[2025-05-02 14:19:16,472][\u001b[1;36mtensorcraft.mpi.distributions.multi_axis_dist\u001b[0m][\u001b[1;35m_apply_single_axis_allgather\u001b[0m][\u001b[1;32mDEBUG\u001b[0m] - R3/4:\u001b[1;32mRank of largest tensor in the subcommunicator: [1, 0] 2\u001b[0m\n",
       "[2025-05-02 14:19:16,472][\u001b[1;36mtensorcraft.mpi.distributions.multi_axis_dist\u001b[0m][\u001b[1;35m_apply_single_axis_allgather\u001b[0m][\u001b[1;32mDEBUG\u001b[0m] - R3/4:\u001b[1;32mN elements: 8\u001b[0m\n",
       "[2025-05-02 14:19:16,475][\u001b[1;36mtensorcraft.mpi.distributions.multi_axis_dist\u001b[0m][\u001b[1;35m_apply_single_axis_allgather\u001b[0m][\u001b[1;32mDEBUG\u001b[0m] - R3/4:\u001b[1;32mMax local shape: torch.Size([2, 2, 2])\u001b[0m\n",
       "[2025-05-02 14:19:16,476][\u001b[1;36mtensorcraft.mpi.distributions.multi_axis_dist\u001b[0m][\u001b[1;35m_apply_single_axis_allgather\u001b[0m][\u001b[1;32mDEBUG\u001b[0m] - R3/4:\u001b[1;32mPadding: 0\u001b[0m\n",
       "[2025-05-02 14:19:16,476][\u001b[1;36mtensorcraft.mpi.mpi_utils\u001b[0m][\u001b[1;35mtensor2mpiBuffer\u001b[0m][\u001b[1;32mDEBUG\u001b[0m] - R3/4:\u001b[1;32mtensor_stride: (22, 8, 1)\u001b[0m\n",
       "[2025-05-02 14:19:16,478][\u001b[1;36mtensorcraft.mpi.mpi_utils\u001b[0m][\u001b[1;35mtensor2mpiBuffer\u001b[0m][\u001b[1;32mDEBUG\u001b[0m] - R3/4:\u001b[1;32mtensor_offset: 6\u001b[0m\n",
       "[2025-05-02 14:19:16,478][\u001b[1;36mtensorcraft.mpi.mpi_utils\u001b[0m][\u001b[1;35mtensor2mpiBuffer\u001b[0m][\u001b[1;32mDEBUG\u001b[0m] - R3/4:\u001b[1;32mtensor_shape: torch.Size([2, 2, 2])\u001b[0m\n",
       "[2025-05-02 14:19:16,479][\u001b[1;36mtensorcraft.mpi.mpi_utils\u001b[0m][\u001b[1;35mtensor2mpiBuffer\u001b[0m][\u001b[1;32mDEBUG\u001b[0m] - R3/4:\u001b[1;32mtensor_dtype: torch.int64\u001b[0m\n",
       "[2025-05-02 14:19:16,479][\u001b[1;36mtensorcraft.mpi.distributions.multi_axis_dist\u001b[0m][\u001b[1;35m_apply_single_axis_allgather\u001b[0m][\u001b[1;32mDEBUG\u001b[0m] - R3/4:\u001b[1;32mSend buffer: (<mpi4py.MPI.buffer object at 0x7a14854ba090>, 1, <mpi4py.MPI.Datatype object at 0x7a157bf91fb0>)\u001b[0m\n",
       "[2025-05-02 14:19:16,524][\u001b[1;36mtensorcraft.mpi.distributions.multi_axis_dist\u001b[0m][\u001b[1;35m_apply_single_axis_allgather\u001b[0m][\u001b[1;32mDEBUG\u001b[0m] - R3/4:\u001b[1;32mRecv_tensor : tensor([[[[[ 4,  5]],\n",
       "\n",
       "          [[12, 13]]],\n",
       "\n",
       "\n",
       "         [[[24, 25]],\n",
       "\n",
       "          [[32, 33]]]],\n",
       "\n",
       "\n",
       "\n",
       "        [[[[ 6,  7]],\n",
       "\n",
       "          [[14, 15]]],\n",
       "\n",
       "\n",
       "         [[[26, 27]],\n",
       "\n",
       "          [[34, 35]]]]])\u001b[0m\n",
       "[2025-05-02 14:19:16,529][\u001b[1;36mtensorcraft.mpi.distributions.multi_axis_dist\u001b[0m][\u001b[1;35m_apply_single_axis_allgather\u001b[0m][\u001b[1;32mDEBUG\u001b[0m] - R3/4:\u001b[1;32mReshaped tensor shape: torch.Size([2, 4, 2])\u001b[0m\n",
       "[2025-05-02 14:19:16,530][\u001b[1;36mtensorcraft.mpi.distributions.multi_axis_dist\u001b[0m][\u001b[1;35m_apply_single_axis_allgather\u001b[0m][\u001b[1;32mDEBUG\u001b[0m] - R3/4:\u001b[1;32mSlices: [slice(None, None, None), slice(0, 4, None), slice(None, None, None)]\u001b[0m\n",
       "[2025-05-02 14:19:16,534][\u001b[1;36mtensorcraft.mpi.distributions.multi_axis_dist\u001b[0m][\u001b[1;35m_apply_single_axis_allgather\u001b[0m][\u001b[1;32mDEBUG\u001b[0m] - R3/4:\u001b[1;32mFinal tensor shape: torch.Size([2, 4, 2])\u001b[0m\n",
       "tensor([[[ 4,  5],\n",
       "         [ 6,  7],\n",
       "         [12, 13],\n",
       "         [14, 15]],\n",
       "\n",
       "        [[24, 25],\n",
       "         [26, 27],\n",
       "         [32, 33],\n",
       "         [34, 35]]])\n"
      ]
     },
     "metadata": {},
     "output_type": "display_data"
    },
    {
     "data": {
      "text/plain": [
       "[stdout:1] [2025-05-02 14:19:16,457][\u001b[1;36mtensorcraft.distributions.multi_axis\u001b[0m][\u001b[1;35mallgather\u001b[0m][\u001b[1;32mDEBUG\u001b[0m] - R1/4:\u001b[1;32mTensor axis: 1\u001b[0m\n",
       "[2025-05-02 14:19:16,460][\u001b[1;36mtensorcraft.distributions.multi_axis\u001b[0m][\u001b[1;35mallgather\u001b[0m][\u001b[1;32mDEBUG\u001b[0m] - R1/4:\u001b[1;32mMesh axis: 1\u001b[0m\n",
       "[2025-05-02 14:19:16,461][\u001b[1;36mtensorcraft.distributions.multi_axis\u001b[0m][\u001b[1;35mallgather\u001b[0m][\u001b[1;32mDEBUG\u001b[0m] - R1/4:\u001b[1;32mMappings: (0, 1)\u001b[0m\n",
       "[2025-05-02 14:19:16,465][\u001b[1;36mtensorcraft.distributions.multi_axis\u001b[0m][\u001b[1;35mallgather\u001b[0m][\u001b[1;32mDEBUG\u001b[0m] - R1/4:\u001b[1;32mTensor axis: 1\u001b[0m\n",
       "[2025-05-02 14:19:16,465][\u001b[1;36mtensorcraft.distributions.multi_axis\u001b[0m][\u001b[1;35mallgather\u001b[0m][\u001b[1;32mDEBUG\u001b[0m] - R1/4:\u001b[1;32mMesh axis: 1\u001b[0m\n",
       "[2025-05-02 14:19:16,465][\u001b[1;36mtensorcraft.distributions.multi_axis\u001b[0m][\u001b[1;35mallgather\u001b[0m][\u001b[1;32mDEBUG\u001b[0m] - R1/4:\u001b[1;32mMappings: (0, 1)\u001b[0m\n",
       "[2025-05-02 14:19:16,467][\u001b[1;36mtensorcraft.mpi.distributions.multi_axis_dist\u001b[0m][\u001b[1;35m_apply_single_axis_allgather\u001b[0m][\u001b[1;32mDEBUG\u001b[0m] - R1/4:\u001b[1;32mNew distribution: D_[2,2]⊥{∅,0,∅}(∅,2,∅), new shape: torch.Size([2, 6, 2])\u001b[0m\n",
       "[2025-05-02 14:19:16,468][\u001b[1;36mtensorcraft.mpi.distributions.multi_axis_dist\u001b[0m][\u001b[1;35m_apply_single_axis_allgather\u001b[0m][\u001b[1;32mDEBUG\u001b[0m] - R1/4:\u001b[1;32mLocal tensor shape: torch.Size([2, 3, 2])\u001b[0m\n",
       "[2025-05-02 14:19:16,469][\u001b[1;36mtensorcraft.mpi.distributions.multi_axis_dist\u001b[0m][\u001b[1;35m_apply_single_axis_allgather\u001b[0m][\u001b[1;32mDEBUG\u001b[0m] - R1/4:\u001b[1;32mExpected local shape: torch.Size([2, 3, 2])\u001b[0m\n",
       "[2025-05-02 14:19:16,469][\u001b[1;36mtensorcraft.mpi.distributions.multi_axis_dist\u001b[0m][\u001b[1;35m_apply_single_axis_allgather\u001b[0m][\u001b[1;32mDEBUG\u001b[0m] - R1/4:\u001b[1;32mChanged tensor axis: 1\u001b[0m\n",
       "[2025-05-02 14:19:16,469][\u001b[1;36mtensorcraft.mpi.distributions.multi_axis_dist\u001b[0m][\u001b[1;35m_apply_single_axis_allgather\u001b[0m][\u001b[1;32mDEBUG\u001b[0m] - R1/4:\u001b[1;32mProcessor multi index: torch.Size([0, 1])\u001b[0m\n",
       "[2025-05-02 14:19:16,470][\u001b[1;36mtensorcraft.mpi.distributions.multi_axis_dist\u001b[0m][\u001b[1;35m_apply_single_axis_allgather\u001b[0m][\u001b[1;32mDEBUG\u001b[0m] - R1/4:\u001b[1;32mN procs: 2\u001b[0m\n",
       "[2025-05-02 14:19:16,471][\u001b[1;36mtensorcraft.mpi.distributions.multi_axis_dist\u001b[0m][\u001b[1;35m_apply_single_axis_allgather\u001b[0m][\u001b[1;32mDEBUG\u001b[0m] - R1/4:\u001b[1;32mRank of largest tensor in the subcommunicator: [0, 0] 0\u001b[0m\n",
       "[2025-05-02 14:19:16,472][\u001b[1;36mtensorcraft.mpi.distributions.multi_axis_dist\u001b[0m][\u001b[1;35m_apply_single_axis_allgather\u001b[0m][\u001b[1;32mDEBUG\u001b[0m] - R1/4:\u001b[1;32mN elements: 12\u001b[0m\n",
       "[2025-05-02 14:19:16,472][\u001b[1;36mtensorcraft.mpi.distributions.multi_axis_dist\u001b[0m][\u001b[1;35m_apply_single_axis_allgather\u001b[0m][\u001b[1;32mDEBUG\u001b[0m] - R1/4:\u001b[1;32mMax local shape: torch.Size([2, 3, 2])\u001b[0m\n",
       "[2025-05-02 14:19:16,473][\u001b[1;36mtensorcraft.mpi.distributions.multi_axis_dist\u001b[0m][\u001b[1;35m_apply_single_axis_allgather\u001b[0m][\u001b[1;32mDEBUG\u001b[0m] - R1/4:\u001b[1;32mPadding: 0\u001b[0m\n",
       "[2025-05-02 14:19:16,473][\u001b[1;36mtensorcraft.mpi.mpi_utils\u001b[0m][\u001b[1;35mtensor2mpiBuffer\u001b[0m][\u001b[1;32mDEBUG\u001b[0m] - R1/4:\u001b[1;32mtensor_stride: (22, 8, 1)\u001b[0m\n",
       "[2025-05-02 14:19:16,473][\u001b[1;36mtensorcraft.mpi.mpi_utils\u001b[0m][\u001b[1;35mtensor2mpiBuffer\u001b[0m][\u001b[1;32mDEBUG\u001b[0m] - R1/4:\u001b[1;32mtensor_offset: 2\u001b[0m\n",
       "[2025-05-02 14:19:16,474][\u001b[1;36mtensorcraft.mpi.mpi_utils\u001b[0m][\u001b[1;35mtensor2mpiBuffer\u001b[0m][\u001b[1;32mDEBUG\u001b[0m] - R1/4:\u001b[1;32mtensor_shape: torch.Size([2, 3, 2])\u001b[0m\n",
       "[2025-05-02 14:19:16,474][\u001b[1;36mtensorcraft.mpi.mpi_utils\u001b[0m][\u001b[1;35mtensor2mpiBuffer\u001b[0m][\u001b[1;32mDEBUG\u001b[0m] - R1/4:\u001b[1;32mtensor_dtype: torch.int64\u001b[0m\n",
       "[2025-05-02 14:19:16,474][\u001b[1;36mtensorcraft.mpi.distributions.multi_axis_dist\u001b[0m][\u001b[1;35m_apply_single_axis_allgather\u001b[0m][\u001b[1;32mDEBUG\u001b[0m] - R1/4:\u001b[1;32mSend buffer: (<mpi4py.MPI.buffer object at 0x79e0204c6100>, 1, <mpi4py.MPI.Datatype object at 0x79e0235678d0>)\u001b[0m\n",
       "[2025-05-02 14:19:16,516][\u001b[1;36mtensorcraft.mpi.distributions.multi_axis_dist\u001b[0m][\u001b[1;35m_apply_single_axis_allgather\u001b[0m][\u001b[1;32mDEBUG\u001b[0m] - R1/4:\u001b[1;32mRecv_tensor : tensor([[[[[ 0,  1]],\n",
       "\n",
       "          [[ 8,  9]],\n",
       "\n",
       "          [[16, 17]]],\n",
       "\n",
       "\n",
       "         [[[20, 21]],\n",
       "\n",
       "          [[28, 29]],\n",
       "\n",
       "          [[36, 37]]]],\n",
       "\n",
       "\n",
       "\n",
       "        [[[[ 2,  3]],\n",
       "\n",
       "          [[10, 11]],\n",
       "\n",
       "          [[18, 19]]],\n",
       "\n",
       "\n",
       "         [[[22, 23]],\n",
       "\n",
       "          [[30, 31]],\n",
       "\n",
       "          [[38, 39]]]]])\u001b[0m\n",
       "[2025-05-02 14:19:16,519][\u001b[1;36mtensorcraft.mpi.distributions.multi_axis_dist\u001b[0m][\u001b[1;35m_apply_single_axis_allgather\u001b[0m][\u001b[1;32mDEBUG\u001b[0m] - R1/4:\u001b[1;32mReshaped tensor shape: torch.Size([2, 6, 2])\u001b[0m\n",
       "[2025-05-02 14:19:16,520][\u001b[1;36mtensorcraft.mpi.distributions.multi_axis_dist\u001b[0m][\u001b[1;35m_apply_single_axis_allgather\u001b[0m][\u001b[1;32mDEBUG\u001b[0m] - R1/4:\u001b[1;32mSlices: [slice(None, None, None), slice(0, 6, None), slice(None, None, None)]\u001b[0m\n",
       "[2025-05-02 14:19:16,521][\u001b[1;36mtensorcraft.mpi.distributions.multi_axis_dist\u001b[0m][\u001b[1;35m_apply_single_axis_allgather\u001b[0m][\u001b[1;32mDEBUG\u001b[0m] - R1/4:\u001b[1;32mFinal tensor shape: torch.Size([2, 6, 2])\u001b[0m\n",
       "tensor([[[ 0,  1],\n",
       "         [ 2,  3],\n",
       "         [ 8,  9],\n",
       "         [10, 11],\n",
       "         [16, 17],\n",
       "         [18, 19]],\n",
       "\n",
       "        [[20, 21],\n",
       "         [22, 23],\n",
       "         [28, 29],\n",
       "         [30, 31],\n",
       "         [36, 37],\n",
       "         [38, 39]]])\n"
      ]
     },
     "metadata": {},
     "output_type": "display_data"
    },
    {
     "data": {
      "text/plain": [
       "[stdout:2] [2025-05-02 14:19:16,465][\u001b[1;36mtensorcraft.distributions.multi_axis\u001b[0m][\u001b[1;35mallgather\u001b[0m][\u001b[1;32mDEBUG\u001b[0m] - R2/4:\u001b[1;32mTensor axis: 1\u001b[0m\n",
       "[2025-05-02 14:19:16,471][\u001b[1;36mtensorcraft.distributions.multi_axis\u001b[0m][\u001b[1;35mallgather\u001b[0m][\u001b[1;32mDEBUG\u001b[0m] - R2/4:\u001b[1;32mMesh axis: 1\u001b[0m\n",
       "[2025-05-02 14:19:16,472][\u001b[1;36mtensorcraft.distributions.multi_axis\u001b[0m][\u001b[1;35mallgather\u001b[0m][\u001b[1;32mDEBUG\u001b[0m] - R2/4:\u001b[1;32mMappings: (0, 1)\u001b[0m\n",
       "[2025-05-02 14:19:16,473][\u001b[1;36mtensorcraft.distributions.multi_axis\u001b[0m][\u001b[1;35mallgather\u001b[0m][\u001b[1;32mDEBUG\u001b[0m] - R2/4:\u001b[1;32mTensor axis: 1\u001b[0m\n",
       "[2025-05-02 14:19:16,473][\u001b[1;36mtensorcraft.distributions.multi_axis\u001b[0m][\u001b[1;35mallgather\u001b[0m][\u001b[1;32mDEBUG\u001b[0m] - R2/4:\u001b[1;32mMesh axis: 1\u001b[0m\n",
       "[2025-05-02 14:19:16,474][\u001b[1;36mtensorcraft.distributions.multi_axis\u001b[0m][\u001b[1;35mallgather\u001b[0m][\u001b[1;32mDEBUG\u001b[0m] - R2/4:\u001b[1;32mMappings: (0, 1)\u001b[0m\n",
       "[2025-05-02 14:19:16,475][\u001b[1;36mtensorcraft.mpi.distributions.multi_axis_dist\u001b[0m][\u001b[1;35m_apply_single_axis_allgather\u001b[0m][\u001b[1;32mDEBUG\u001b[0m] - R2/4:\u001b[1;32mNew distribution: D_[2,2]⊥{∅,0,∅}(∅,2,∅), new shape: torch.Size([2, 4, 2])\u001b[0m\n",
       "[2025-05-02 14:19:16,478][\u001b[1;36mtensorcraft.mpi.distributions.multi_axis_dist\u001b[0m][\u001b[1;35m_apply_single_axis_allgather\u001b[0m][\u001b[1;32mDEBUG\u001b[0m] - R2/4:\u001b[1;32mLocal tensor shape: torch.Size([2, 2, 2])\u001b[0m\n",
       "[2025-05-02 14:19:16,479][\u001b[1;36mtensorcraft.mpi.distributions.multi_axis_dist\u001b[0m][\u001b[1;35m_apply_single_axis_allgather\u001b[0m][\u001b[1;32mDEBUG\u001b[0m] - R2/4:\u001b[1;32mExpected local shape: torch.Size([2, 2, 2])\u001b[0m\n",
       "[2025-05-02 14:19:16,481][\u001b[1;36mtensorcraft.mpi.distributions.multi_axis_dist\u001b[0m][\u001b[1;35m_apply_single_axis_allgather\u001b[0m][\u001b[1;32mDEBUG\u001b[0m] - R2/4:\u001b[1;32mChanged tensor axis: 1\u001b[0m\n",
       "[2025-05-02 14:19:16,484][\u001b[1;36mtensorcraft.mpi.distributions.multi_axis_dist\u001b[0m][\u001b[1;35m_apply_single_axis_allgather\u001b[0m][\u001b[1;32mDEBUG\u001b[0m] - R2/4:\u001b[1;32mProcessor multi index: torch.Size([1, 0])\u001b[0m\n",
       "[2025-05-02 14:19:16,485][\u001b[1;36mtensorcraft.mpi.distributions.multi_axis_dist\u001b[0m][\u001b[1;35m_apply_single_axis_allgather\u001b[0m][\u001b[1;32mDEBUG\u001b[0m] - R2/4:\u001b[1;32mN procs: 2\u001b[0m\n",
       "[2025-05-02 14:19:16,486][\u001b[1;36mtensorcraft.mpi.distributions.multi_axis_dist\u001b[0m][\u001b[1;35m_apply_single_axis_allgather\u001b[0m][\u001b[1;32mDEBUG\u001b[0m] - R2/4:\u001b[1;32mRank of largest tensor in the subcommunicator: [1, 0] 2\u001b[0m\n",
       "[2025-05-02 14:19:16,489][\u001b[1;36mtensorcraft.mpi.distributions.multi_axis_dist\u001b[0m][\u001b[1;35m_apply_single_axis_allgather\u001b[0m][\u001b[1;32mDEBUG\u001b[0m] - R2/4:\u001b[1;32mN elements: 8\u001b[0m\n",
       "[2025-05-02 14:19:16,494][\u001b[1;36mtensorcraft.mpi.distributions.multi_axis_dist\u001b[0m][\u001b[1;35m_apply_single_axis_allgather\u001b[0m][\u001b[1;32mDEBUG\u001b[0m] - R2/4:\u001b[1;32mMax local shape: torch.Size([2, 2, 2])\u001b[0m\n",
       "[2025-05-02 14:19:16,495][\u001b[1;36mtensorcraft.mpi.distributions.multi_axis_dist\u001b[0m][\u001b[1;35m_apply_single_axis_allgather\u001b[0m][\u001b[1;32mDEBUG\u001b[0m] - R2/4:\u001b[1;32mPadding: 0\u001b[0m\n",
       "[2025-05-02 14:19:16,496][\u001b[1;36mtensorcraft.mpi.mpi_utils\u001b[0m][\u001b[1;35mtensor2mpiBuffer\u001b[0m][\u001b[1;32mDEBUG\u001b[0m] - R2/4:\u001b[1;32mtensor_stride: (22, 8, 1)\u001b[0m\n",
       "[2025-05-02 14:19:16,496][\u001b[1;36mtensorcraft.mpi.mpi_utils\u001b[0m][\u001b[1;35mtensor2mpiBuffer\u001b[0m][\u001b[1;32mDEBUG\u001b[0m] - R2/4:\u001b[1;32mtensor_offset: 4\u001b[0m\n",
       "[2025-05-02 14:19:16,497][\u001b[1;36mtensorcraft.mpi.mpi_utils\u001b[0m][\u001b[1;35mtensor2mpiBuffer\u001b[0m][\u001b[1;32mDEBUG\u001b[0m] - R2/4:\u001b[1;32mtensor_shape: torch.Size([2, 2, 2])\u001b[0m\n",
       "[2025-05-02 14:19:16,497][\u001b[1;36mtensorcraft.mpi.mpi_utils\u001b[0m][\u001b[1;35mtensor2mpiBuffer\u001b[0m][\u001b[1;32mDEBUG\u001b[0m] - R2/4:\u001b[1;32mtensor_dtype: torch.int64\u001b[0m\n",
       "[2025-05-02 14:19:16,499][\u001b[1;36mtensorcraft.mpi.distributions.multi_axis_dist\u001b[0m][\u001b[1;35m_apply_single_axis_allgather\u001b[0m][\u001b[1;32mDEBUG\u001b[0m] - R2/4:\u001b[1;32mSend buffer: (<mpi4py.MPI.buffer object at 0x74da2efddfb0>, 1, <mpi4py.MPI.Datatype object at 0x74db20505470>)\u001b[0m\n",
       "[2025-05-02 14:19:16,517][\u001b[1;36mtensorcraft.mpi.distributions.multi_axis_dist\u001b[0m][\u001b[1;35m_apply_single_axis_allgather\u001b[0m][\u001b[1;32mDEBUG\u001b[0m] - R2/4:\u001b[1;32mRecv_tensor : tensor([[[[[ 4,  5]],\n",
       "\n",
       "          [[12, 13]]],\n",
       "\n",
       "\n",
       "         [[[24, 25]],\n",
       "\n",
       "          [[32, 33]]]],\n",
       "\n",
       "\n",
       "\n",
       "        [[[[ 6,  7]],\n",
       "\n",
       "          [[14, 15]]],\n",
       "\n",
       "\n",
       "         [[[26, 27]],\n",
       "\n",
       "          [[34, 35]]]]])\u001b[0m\n",
       "[2025-05-02 14:19:16,521][\u001b[1;36mtensorcraft.mpi.distributions.multi_axis_dist\u001b[0m][\u001b[1;35m_apply_single_axis_allgather\u001b[0m][\u001b[1;32mDEBUG\u001b[0m] - R2/4:\u001b[1;32mReshaped tensor shape: torch.Size([2, 4, 2])\u001b[0m\n",
       "[2025-05-02 14:19:16,522][\u001b[1;36mtensorcraft.mpi.distributions.multi_axis_dist\u001b[0m][\u001b[1;35m_apply_single_axis_allgather\u001b[0m][\u001b[1;32mDEBUG\u001b[0m] - R2/4:\u001b[1;32mSlices: [slice(None, None, None), slice(0, 4, None), slice(None, None, None)]\u001b[0m\n",
       "[2025-05-02 14:19:16,523][\u001b[1;36mtensorcraft.mpi.distributions.multi_axis_dist\u001b[0m][\u001b[1;35m_apply_single_axis_allgather\u001b[0m][\u001b[1;32mDEBUG\u001b[0m] - R2/4:\u001b[1;32mFinal tensor shape: torch.Size([2, 4, 2])\u001b[0m\n",
       "tensor([[[ 4,  5],\n",
       "         [ 6,  7],\n",
       "         [12, 13],\n",
       "         [14, 15]],\n",
       "\n",
       "        [[24, 25],\n",
       "         [26, 27],\n",
       "         [32, 33],\n",
       "         [34, 35]]])\n"
      ]
     },
     "metadata": {},
     "output_type": "display_data"
    }
   ],
   "source": [
    "%%px\n",
    "new_dist, post_gather = dist.apply_allgather(x.shape, x_local, comm, gather_mesh_dim=1)\n",
    "print(post_gather)"
   ]
  },
  {
   "cell_type": "code",
   "execution_count": null,
   "metadata": {},
   "outputs": [
    {
     "data": {
      "text/plain": [
       "[stdout:2] tensor([[[ 4,  5],\n",
       "         [ 6,  7],\n",
       "         [12, 13],\n",
       "         [14, 15]],\n",
       "\n",
       "        [[24, 25],\n",
       "         [26, 27],\n",
       "         [32, 33],\n",
       "         [34, 35]]])\n"
      ]
     },
     "metadata": {},
     "output_type": "display_data"
    },
    {
     "data": {
      "text/plain": [
       "[stdout:0] tensor([[[ 0,  1],\n",
       "         [ 2,  3],\n",
       "         [ 8,  9],\n",
       "         [10, 11],\n",
       "         [16, 17],\n",
       "         [18, 19]],\n",
       "\n",
       "        [[20, 21],\n",
       "         [22, 23],\n",
       "         [28, 29],\n",
       "         [30, 31],\n",
       "         [36, 37],\n",
       "         [38, 39]]])\n"
      ]
     },
     "metadata": {},
     "output_type": "display_data"
    },
    {
     "data": {
      "text/plain": [
       "[stdout:3] tensor([[[ 4,  5],\n",
       "         [ 6,  7],\n",
       "         [12, 13],\n",
       "         [14, 15]],\n",
       "\n",
       "        [[24, 25],\n",
       "         [26, 27],\n",
       "         [32, 33],\n",
       "         [34, 35]]])\n"
      ]
     },
     "metadata": {},
     "output_type": "display_data"
    },
    {
     "data": {
      "text/plain": [
       "[stdout:1] tensor([[[ 0,  1],\n",
       "         [ 2,  3],\n",
       "         [ 8,  9],\n",
       "         [10, 11],\n",
       "         [16, 17],\n",
       "         [18, 19]],\n",
       "\n",
       "        [[20, 21],\n",
       "         [22, 23],\n",
       "         [28, 29],\n",
       "         [30, 31],\n",
       "         [36, 37],\n",
       "         [38, 39]]])\n"
      ]
     },
     "metadata": {},
     "output_type": "display_data"
    }
   ],
   "source": [
    "%%px\n",
    "print(post_gather)"
   ]
  },
  {
   "cell_type": "markdown",
   "metadata": {},
   "source": [
    "# Permute"
   ]
  },
  {
   "cell_type": "code",
   "execution_count": 1,
   "metadata": {},
   "outputs": [
    {
     "data": {
      "text/plain": [
       "8"
      ]
     },
     "execution_count": 1,
     "metadata": {},
     "output_type": "execute_result"
    }
   ],
   "source": [
    "import ipyparallel as ipp\n",
    "rc = ipp.Client(profile='mpi')\n",
    "rc.wait_for_engines(8)\n",
    "len(rc)"
   ]
  },
  {
   "cell_type": "code",
   "execution_count": 2,
   "metadata": {},
   "outputs": [
    {
     "data": {
      "application/vnd.jupyter.widget-view+json": {
       "model_id": "9feb4d7387144d68b5d4db2310c61fa8",
       "version_major": 2,
       "version_minor": 0
      },
      "text/plain": [
       "%px:   0%|          | 0/8 [00:00<?, ?tasks/s]"
      ]
     },
     "metadata": {},
     "output_type": "display_data"
    },
    {
     "data": {
      "text/plain": [
       "[stdout:2] [2025-05-30 20:57:14,505][\u001b[1;36mtensorcraft.mpi.distributions.multi_axis_dist\u001b[0m][\u001b[1;35mapply\u001b[0m][\u001b[1;32mDEBUG\u001b[0m] - R2/8:\u001b[1;32mProcessor multi index: torch.Size([0, 1, 0])\u001b[0m\n",
       "[2025-05-30 20:57:14,506][\u001b[1;36mtensorcraft.mpi.distributions.multi_axis_dist\u001b[0m][\u001b[1;35mapply\u001b[0m][\u001b[1;32mDEBUG\u001b[0m] - R2/8:\u001b[1;32mMissing elements: [0, 1, 0]\u001b[0m\n",
       "[2025-05-30 20:57:14,506][\u001b[1;36mtensorcraft.mpi.distributions.multi_axis_dist\u001b[0m][\u001b[1;35mapply\u001b[0m][\u001b[1;32mDEBUG\u001b[0m] - R2/8:\u001b[1;32mN blocks per axis: [1, 37, 1]\u001b[0m\n",
       "[2025-05-30 20:57:14,507][\u001b[1;36mtensorcraft.mpi.distributions.multi_axis_dist\u001b[0m][\u001b[1;35mapply\u001b[0m][\u001b[1;32mDEBUG\u001b[0m] - R2/8:\u001b[1;32mPadded tensor shape: torch.Size([2, 38, 2])\u001b[0m\n",
       "[2025-05-30 20:57:14,509][\u001b[1;36mtensorcraft.mpi.distributions.multi_axis_dist\u001b[0m][\u001b[1;35mapply\u001b[0m][\u001b[1;32mDEBUG\u001b[0m] - R2/8:\u001b[1;32mPermute tuple: (0, 2, 4, 1, 3, 5)\u001b[0m\n",
       "[2025-05-30 20:57:14,510][\u001b[1;36mtensorcraft.mpi.distributions.multi_axis_dist\u001b[0m][\u001b[1;35mapply\u001b[0m][\u001b[1;32mDEBUG\u001b[0m] - R2/8:\u001b[1;32mReshape tuple: [1, 2, 38, 1, 1, 2]\u001b[0m\n",
       "[2025-05-30 20:57:14,511][\u001b[1;36mtensorcraft.mpi.distributions.multi_axis_dist\u001b[0m][\u001b[1;35mapply\u001b[0m][\u001b[1;32mDEBUG\u001b[0m] - R2/8:\u001b[1;32mTile Slices: [slice(None, None, None), slice(None, None, None), slice(tensor(1), None, 8), slice(None, None, None), slice(None, None, None), slice(None, None, None)]\u001b[0m\n",
       "[2025-05-30 20:57:14,513][\u001b[1;36mtensorcraft.mpi.distributions.multi_axis_dist\u001b[0m][\u001b[1;35mapply\u001b[0m][\u001b[1;32mDEBUG\u001b[0m] - R2/8:\u001b[1;32mLocal tensor shape: torch.Size([1, 2, 5, 1, 1, 2])\u001b[0m\n",
       "[2025-05-30 20:57:14,514][\u001b[1;36mtensorcraft.mpi.distributions.multi_axis_dist\u001b[0m][\u001b[1;35mapply\u001b[0m][\u001b[1;32mDEBUG\u001b[0m] - R2/8:\u001b[1;32mTarget local tensor shape: [2, 5, 2]\u001b[0m\n",
       "[2025-05-30 20:57:14,515][\u001b[1;36mtensorcraft.mpi.distributions.multi_axis_dist\u001b[0m][\u001b[1;35mapply\u001b[0m][\u001b[1;32mDEBUG\u001b[0m] - R2/8:\u001b[1;32mtensor([[[  2,   3],\n",
       "         [ 18,  19],\n",
       "         [ 34,  35],\n",
       "         [ 50,  51],\n",
       "         [ 66,  67]],\n",
       "\n",
       "        [[ 76,  77],\n",
       "         [ 92,  93],\n",
       "         [108, 109],\n",
       "         [124, 125],\n",
       "         [140, 141]]])\u001b[0m\n",
       "[2025-05-30 20:57:14,518][\u001b[1;36mtensorcraft.mpi.distributions.multi_axis_dist\u001b[0m][\u001b[1;35mapply\u001b[0m][\u001b[1;32mDEBUG\u001b[0m] - R2/8:\u001b[1;32mLinear processor index: 1, Residue: 1, Block size: 1, axis: 1, N procs: 8, N full blocks: 37\u001b[0m\n",
       "[2025-05-30 20:57:14,520][\u001b[1;36mtensorcraft.mpi.distributions.multi_axis_dist\u001b[0m][\u001b[1;35mapply\u001b[0m][\u001b[1;32mDEBUG\u001b[0m] - R2/8:\u001b[1;32mShaved slices: [slice(None, None, None), slice(None, None, None), slice(None, None, None)]\u001b[0m\n",
       "[2025-05-30 20:57:14,522][\u001b[1;36mtensorcraft.mpi.distributions.multi_axis_dist\u001b[0m][\u001b[1;35mapply\u001b[0m][\u001b[1;32mDEBUG\u001b[0m] - R2/8:\u001b[1;32mFinal local tensor shape: torch.Size([2, 5, 2])\u001b[0m\n",
       "tensor([[[  2,   3],\n",
       "         [ 18,  19],\n",
       "         [ 34,  35],\n",
       "         [ 50,  51],\n",
       "         [ 66,  67]],\n",
       "\n",
       "        [[ 76,  77],\n",
       "         [ 92,  93],\n",
       "         [108, 109],\n",
       "         [124, 125],\n",
       "         [140, 141]]])\n",
       "torch.Size([2, 5, 2])\n",
       "torch.int64\n",
       "False\n"
      ]
     },
     "metadata": {},
     "output_type": "display_data"
    },
    {
     "data": {
      "text/plain": [
       "[stdout:5] [2025-05-30 20:57:14,684][\u001b[1;36mtensorcraft.mpi.distributions.multi_axis_dist\u001b[0m][\u001b[1;35mapply\u001b[0m][\u001b[1;32mDEBUG\u001b[0m] - R5/8:\u001b[1;32mProcessor multi index: torch.Size([1, 0, 1])\u001b[0m\n",
       "[2025-05-30 20:57:14,685][\u001b[1;36mtensorcraft.mpi.distributions.multi_axis_dist\u001b[0m][\u001b[1;35mapply\u001b[0m][\u001b[1;32mDEBUG\u001b[0m] - R5/8:\u001b[1;32mMissing elements: [0, 1, 0]\u001b[0m\n",
       "[2025-05-30 20:57:14,686][\u001b[1;36mtensorcraft.mpi.distributions.multi_axis_dist\u001b[0m][\u001b[1;35mapply\u001b[0m][\u001b[1;32mDEBUG\u001b[0m] - R5/8:\u001b[1;32mN blocks per axis: [1, 37, 1]\u001b[0m\n",
       "[2025-05-30 20:57:14,687][\u001b[1;36mtensorcraft.mpi.distributions.multi_axis_dist\u001b[0m][\u001b[1;35mapply\u001b[0m][\u001b[1;32mDEBUG\u001b[0m] - R5/8:\u001b[1;32mPadded tensor shape: torch.Size([2, 38, 2])\u001b[0m\n",
       "[2025-05-30 20:57:14,689][\u001b[1;36mtensorcraft.mpi.distributions.multi_axis_dist\u001b[0m][\u001b[1;35mapply\u001b[0m][\u001b[1;32mDEBUG\u001b[0m] - R5/8:\u001b[1;32mPermute tuple: (0, 2, 4, 1, 3, 5)\u001b[0m\n",
       "[2025-05-30 20:57:14,691][\u001b[1;36mtensorcraft.mpi.distributions.multi_axis_dist\u001b[0m][\u001b[1;35mapply\u001b[0m][\u001b[1;32mDEBUG\u001b[0m] - R5/8:\u001b[1;32mReshape tuple: [1, 2, 38, 1, 1, 2]\u001b[0m\n",
       "[2025-05-30 20:57:14,693][\u001b[1;36mtensorcraft.mpi.distributions.multi_axis_dist\u001b[0m][\u001b[1;35mapply\u001b[0m][\u001b[1;32mDEBUG\u001b[0m] - R5/8:\u001b[1;32mTile Slices: [slice(None, None, None), slice(None, None, None), slice(tensor(6), None, 8), slice(None, None, None), slice(None, None, None), slice(None, None, None)]\u001b[0m\n",
       "[2025-05-30 20:57:14,694][\u001b[1;36mtensorcraft.mpi.distributions.multi_axis_dist\u001b[0m][\u001b[1;35mapply\u001b[0m][\u001b[1;32mDEBUG\u001b[0m] - R5/8:\u001b[1;32mLocal tensor shape: torch.Size([1, 2, 4, 1, 1, 2])\u001b[0m\n",
       "[2025-05-30 20:57:14,695][\u001b[1;36mtensorcraft.mpi.distributions.multi_axis_dist\u001b[0m][\u001b[1;35mapply\u001b[0m][\u001b[1;32mDEBUG\u001b[0m] - R5/8:\u001b[1;32mTarget local tensor shape: [2, 4, 2]\u001b[0m\n",
       "[2025-05-30 20:57:14,696][\u001b[1;36mtensorcraft.mpi.distributions.multi_axis_dist\u001b[0m][\u001b[1;35mapply\u001b[0m][\u001b[1;32mDEBUG\u001b[0m] - R5/8:\u001b[1;32mtensor([[[ 12,  13],\n",
       "         [ 28,  29],\n",
       "         [ 44,  45],\n",
       "         [ 60,  61]],\n",
       "\n",
       "        [[ 86,  87],\n",
       "         [102, 103],\n",
       "         [118, 119],\n",
       "         [134, 135]]])\u001b[0m\n",
       "[2025-05-30 20:57:14,698][\u001b[1;36mtensorcraft.mpi.distributions.multi_axis_dist\u001b[0m][\u001b[1;35mapply\u001b[0m][\u001b[1;32mDEBUG\u001b[0m] - R5/8:\u001b[1;32mLinear processor index: 6, Residue: 1, Block size: 1, axis: 1, N procs: 8, N full blocks: 37\u001b[0m\n",
       "[2025-05-30 20:57:14,700][\u001b[1;36mtensorcraft.mpi.distributions.multi_axis_dist\u001b[0m][\u001b[1;35mapply\u001b[0m][\u001b[1;32mDEBUG\u001b[0m] - R5/8:\u001b[1;32mShaved slices: [slice(None, None, None), slice(None, None, None), slice(None, None, None)]\u001b[0m\n",
       "[2025-05-30 20:57:14,700][\u001b[1;36mtensorcraft.mpi.distributions.multi_axis_dist\u001b[0m][\u001b[1;35mapply\u001b[0m][\u001b[1;32mDEBUG\u001b[0m] - R5/8:\u001b[1;32mFinal local tensor shape: torch.Size([2, 4, 2])\u001b[0m\n",
       "tensor([[[ 12,  13],\n",
       "         [ 28,  29],\n",
       "         [ 44,  45],\n",
       "         [ 60,  61]],\n",
       "\n",
       "        [[ 86,  87],\n",
       "         [102, 103],\n",
       "         [118, 119],\n",
       "         [134, 135]]])\n",
       "torch.Size([2, 4, 2])\n",
       "torch.int64\n",
       "False\n"
      ]
     },
     "metadata": {},
     "output_type": "display_data"
    },
    {
     "data": {
      "text/plain": [
       "[stdout:7] [2025-05-30 20:57:14,691][\u001b[1;36mtensorcraft.mpi.distributions.multi_axis_dist\u001b[0m][\u001b[1;35mapply\u001b[0m][\u001b[1;32mDEBUG\u001b[0m] - R7/8:\u001b[1;32mProcessor multi index: torch.Size([1, 1, 1])\u001b[0m\n",
       "[2025-05-30 20:57:14,693][\u001b[1;36mtensorcraft.mpi.distributions.multi_axis_dist\u001b[0m][\u001b[1;35mapply\u001b[0m][\u001b[1;32mDEBUG\u001b[0m] - R7/8:\u001b[1;32mMissing elements: [0, 1, 0]\u001b[0m\n",
       "[2025-05-30 20:57:14,694][\u001b[1;36mtensorcraft.mpi.distributions.multi_axis_dist\u001b[0m][\u001b[1;35mapply\u001b[0m][\u001b[1;32mDEBUG\u001b[0m] - R7/8:\u001b[1;32mN blocks per axis: [1, 37, 1]\u001b[0m\n",
       "[2025-05-30 20:57:14,695][\u001b[1;36mtensorcraft.mpi.distributions.multi_axis_dist\u001b[0m][\u001b[1;35mapply\u001b[0m][\u001b[1;32mDEBUG\u001b[0m] - R7/8:\u001b[1;32mPadded tensor shape: torch.Size([2, 38, 2])\u001b[0m\n",
       "[2025-05-30 20:57:14,698][\u001b[1;36mtensorcraft.mpi.distributions.multi_axis_dist\u001b[0m][\u001b[1;35mapply\u001b[0m][\u001b[1;32mDEBUG\u001b[0m] - R7/8:\u001b[1;32mPermute tuple: (0, 2, 4, 1, 3, 5)\u001b[0m\n",
       "[2025-05-30 20:57:14,699][\u001b[1;36mtensorcraft.mpi.distributions.multi_axis_dist\u001b[0m][\u001b[1;35mapply\u001b[0m][\u001b[1;32mDEBUG\u001b[0m] - R7/8:\u001b[1;32mReshape tuple: [1, 2, 38, 1, 1, 2]\u001b[0m\n",
       "[2025-05-30 20:57:14,703][\u001b[1;36mtensorcraft.mpi.distributions.multi_axis_dist\u001b[0m][\u001b[1;35mapply\u001b[0m][\u001b[1;32mDEBUG\u001b[0m] - R7/8:\u001b[1;32mTile Slices: [slice(None, None, None), slice(None, None, None), slice(tensor(7), None, 8), slice(None, None, None), slice(None, None, None), slice(None, None, None)]\u001b[0m\n",
       "[2025-05-30 20:57:14,704][\u001b[1;36mtensorcraft.mpi.distributions.multi_axis_dist\u001b[0m][\u001b[1;35mapply\u001b[0m][\u001b[1;32mDEBUG\u001b[0m] - R7/8:\u001b[1;32mLocal tensor shape: torch.Size([1, 2, 4, 1, 1, 2])\u001b[0m\n",
       "[2025-05-30 20:57:14,704][\u001b[1;36mtensorcraft.mpi.distributions.multi_axis_dist\u001b[0m][\u001b[1;35mapply\u001b[0m][\u001b[1;32mDEBUG\u001b[0m] - R7/8:\u001b[1;32mTarget local tensor shape: [2, 4, 2]\u001b[0m\n",
       "[2025-05-30 20:57:14,705][\u001b[1;36mtensorcraft.mpi.distributions.multi_axis_dist\u001b[0m][\u001b[1;35mapply\u001b[0m][\u001b[1;32mDEBUG\u001b[0m] - R7/8:\u001b[1;32mtensor([[[ 14,  15],\n",
       "         [ 30,  31],\n",
       "         [ 46,  47],\n",
       "         [ 62,  63]],\n",
       "\n",
       "        [[ 88,  89],\n",
       "         [104, 105],\n",
       "         [120, 121],\n",
       "         [136, 137]]])\u001b[0m\n",
       "[2025-05-30 20:57:14,707][\u001b[1;36mtensorcraft.mpi.distributions.multi_axis_dist\u001b[0m][\u001b[1;35mapply\u001b[0m][\u001b[1;32mDEBUG\u001b[0m] - R7/8:\u001b[1;32mLinear processor index: 7, Residue: 1, Block size: 1, axis: 1, N procs: 8, N full blocks: 37\u001b[0m\n",
       "[2025-05-30 20:57:14,709][\u001b[1;36mtensorcraft.mpi.distributions.multi_axis_dist\u001b[0m][\u001b[1;35mapply\u001b[0m][\u001b[1;32mDEBUG\u001b[0m] - R7/8:\u001b[1;32mShaved slices: [slice(None, None, None), slice(None, None, None), slice(None, None, None)]\u001b[0m\n",
       "[2025-05-30 20:57:14,710][\u001b[1;36mtensorcraft.mpi.distributions.multi_axis_dist\u001b[0m][\u001b[1;35mapply\u001b[0m][\u001b[1;32mDEBUG\u001b[0m] - R7/8:\u001b[1;32mFinal local tensor shape: torch.Size([2, 4, 2])\u001b[0m\n",
       "tensor([[[ 14,  15],\n",
       "         [ 30,  31],\n",
       "         [ 46,  47],\n",
       "         [ 62,  63]],\n",
       "\n",
       "        [[ 88,  89],\n",
       "         [104, 105],\n",
       "         [120, 121],\n",
       "         [136, 137]]])\n",
       "torch.Size([2, 4, 2])\n",
       "torch.int64\n",
       "False\n"
      ]
     },
     "metadata": {},
     "output_type": "display_data"
    },
    {
     "data": {
      "text/plain": [
       "[stdout:6] [2025-05-30 20:57:14,769][\u001b[1;36mtensorcraft.mpi.distributions.multi_axis_dist\u001b[0m][\u001b[1;35mapply\u001b[0m][\u001b[1;32mDEBUG\u001b[0m] - R6/8:\u001b[1;32mProcessor multi index: torch.Size([1, 1, 0])\u001b[0m\n",
       "[2025-05-30 20:57:14,770][\u001b[1;36mtensorcraft.mpi.distributions.multi_axis_dist\u001b[0m][\u001b[1;35mapply\u001b[0m][\u001b[1;32mDEBUG\u001b[0m] - R6/8:\u001b[1;32mMissing elements: [0, 1, 0]\u001b[0m\n",
       "[2025-05-30 20:57:14,771][\u001b[1;36mtensorcraft.mpi.distributions.multi_axis_dist\u001b[0m][\u001b[1;35mapply\u001b[0m][\u001b[1;32mDEBUG\u001b[0m] - R6/8:\u001b[1;32mN blocks per axis: [1, 37, 1]\u001b[0m\n",
       "[2025-05-30 20:57:14,771][\u001b[1;36mtensorcraft.mpi.distributions.multi_axis_dist\u001b[0m][\u001b[1;35mapply\u001b[0m][\u001b[1;32mDEBUG\u001b[0m] - R6/8:\u001b[1;32mPadded tensor shape: torch.Size([2, 38, 2])\u001b[0m\n",
       "[2025-05-30 20:57:14,773][\u001b[1;36mtensorcraft.mpi.distributions.multi_axis_dist\u001b[0m][\u001b[1;35mapply\u001b[0m][\u001b[1;32mDEBUG\u001b[0m] - R6/8:\u001b[1;32mPermute tuple: (0, 2, 4, 1, 3, 5)\u001b[0m\n",
       "[2025-05-30 20:57:14,773][\u001b[1;36mtensorcraft.mpi.distributions.multi_axis_dist\u001b[0m][\u001b[1;35mapply\u001b[0m][\u001b[1;32mDEBUG\u001b[0m] - R6/8:\u001b[1;32mReshape tuple: [1, 2, 38, 1, 1, 2]\u001b[0m\n",
       "[2025-05-30 20:57:14,775][\u001b[1;36mtensorcraft.mpi.distributions.multi_axis_dist\u001b[0m][\u001b[1;35mapply\u001b[0m][\u001b[1;32mDEBUG\u001b[0m] - R6/8:\u001b[1;32mTile Slices: [slice(None, None, None), slice(None, None, None), slice(tensor(5), None, 8), slice(None, None, None), slice(None, None, None), slice(None, None, None)]\u001b[0m\n",
       "[2025-05-30 20:57:14,776][\u001b[1;36mtensorcraft.mpi.distributions.multi_axis_dist\u001b[0m][\u001b[1;35mapply\u001b[0m][\u001b[1;32mDEBUG\u001b[0m] - R6/8:\u001b[1;32mLocal tensor shape: torch.Size([1, 2, 5, 1, 1, 2])\u001b[0m\n",
       "[2025-05-30 20:57:14,777][\u001b[1;36mtensorcraft.mpi.distributions.multi_axis_dist\u001b[0m][\u001b[1;35mapply\u001b[0m][\u001b[1;32mDEBUG\u001b[0m] - R6/8:\u001b[1;32mTarget local tensor shape: [2, 5, 2]\u001b[0m\n",
       "[2025-05-30 20:57:14,778][\u001b[1;36mtensorcraft.mpi.distributions.multi_axis_dist\u001b[0m][\u001b[1;35mapply\u001b[0m][\u001b[1;32mDEBUG\u001b[0m] - R6/8:\u001b[1;32mtensor([[[ 10,  11],\n",
       "         [ 26,  27],\n",
       "         [ 42,  43],\n",
       "         [ 58,  59],\n",
       "         [  0,   0]],\n",
       "\n",
       "        [[ 84,  85],\n",
       "         [100, 101],\n",
       "         [116, 117],\n",
       "         [132, 133],\n",
       "         [  0,   0]]])\u001b[0m\n",
       "[2025-05-30 20:57:14,779][\u001b[1;36mtensorcraft.mpi.distributions.multi_axis_dist\u001b[0m][\u001b[1;35mapply\u001b[0m][\u001b[1;32mDEBUG\u001b[0m] - R6/8:\u001b[1;32mLinear processor index: 5, Residue: 1, Block size: 1, axis: 1, N procs: 8, N full blocks: 37\u001b[0m\n",
       "[2025-05-30 20:57:14,780][\u001b[1;36mtensorcraft.mpi.distributions.multi_axis_dist\u001b[0m][\u001b[1;35mapply\u001b[0m][\u001b[1;32mDEBUG\u001b[0m] - R6/8:\u001b[1;32mShaved slices: [slice(None, None, None), slice(0, -1, None), slice(None, None, None)]\u001b[0m\n",
       "[2025-05-30 20:57:14,781][\u001b[1;36mtensorcraft.mpi.distributions.multi_axis_dist\u001b[0m][\u001b[1;35mapply\u001b[0m][\u001b[1;32mDEBUG\u001b[0m] - R6/8:\u001b[1;32mFinal local tensor shape: torch.Size([2, 4, 2])\u001b[0m\n",
       "tensor([[[ 10,  11],\n",
       "         [ 26,  27],\n",
       "         [ 42,  43],\n",
       "         [ 58,  59]],\n",
       "\n",
       "        [[ 84,  85],\n",
       "         [100, 101],\n",
       "         [116, 117],\n",
       "         [132, 133]]])\n",
       "torch.Size([2, 4, 2])\n",
       "torch.int64\n",
       "False\n"
      ]
     },
     "metadata": {},
     "output_type": "display_data"
    },
    {
     "data": {
      "text/plain": [
       "[stdout:4] [2025-05-30 20:57:14,800][\u001b[1;36mtensorcraft.mpi.distributions.multi_axis_dist\u001b[0m][\u001b[1;35mapply\u001b[0m][\u001b[1;32mDEBUG\u001b[0m] - R4/8:\u001b[1;32mProcessor multi index: torch.Size([1, 0, 0])\u001b[0m\n",
       "[2025-05-30 20:57:14,800][\u001b[1;36mtensorcraft.mpi.distributions.multi_axis_dist\u001b[0m][\u001b[1;35mapply\u001b[0m][\u001b[1;32mDEBUG\u001b[0m] - R4/8:\u001b[1;32mMissing elements: [0, 1, 0]\u001b[0m\n",
       "[2025-05-30 20:57:14,801][\u001b[1;36mtensorcraft.mpi.distributions.multi_axis_dist\u001b[0m][\u001b[1;35mapply\u001b[0m][\u001b[1;32mDEBUG\u001b[0m] - R4/8:\u001b[1;32mN blocks per axis: [1, 37, 1]\u001b[0m\n",
       "[2025-05-30 20:57:14,802][\u001b[1;36mtensorcraft.mpi.distributions.multi_axis_dist\u001b[0m][\u001b[1;35mapply\u001b[0m][\u001b[1;32mDEBUG\u001b[0m] - R4/8:\u001b[1;32mPadded tensor shape: torch.Size([2, 38, 2])\u001b[0m\n",
       "[2025-05-30 20:57:14,803][\u001b[1;36mtensorcraft.mpi.distributions.multi_axis_dist\u001b[0m][\u001b[1;35mapply\u001b[0m][\u001b[1;32mDEBUG\u001b[0m] - R4/8:\u001b[1;32mPermute tuple: (0, 2, 4, 1, 3, 5)\u001b[0m\n",
       "[2025-05-30 20:57:14,805][\u001b[1;36mtensorcraft.mpi.distributions.multi_axis_dist\u001b[0m][\u001b[1;35mapply\u001b[0m][\u001b[1;32mDEBUG\u001b[0m] - R4/8:\u001b[1;32mReshape tuple: [1, 2, 38, 1, 1, 2]\u001b[0m\n",
       "[2025-05-30 20:57:14,808][\u001b[1;36mtensorcraft.mpi.distributions.multi_axis_dist\u001b[0m][\u001b[1;35mapply\u001b[0m][\u001b[1;32mDEBUG\u001b[0m] - R4/8:\u001b[1;32mTile Slices: [slice(None, None, None), slice(None, None, None), slice(tensor(4), None, 8), slice(None, None, None), slice(None, None, None), slice(None, None, None)]\u001b[0m\n",
       "[2025-05-30 20:57:14,808][\u001b[1;36mtensorcraft.mpi.distributions.multi_axis_dist\u001b[0m][\u001b[1;35mapply\u001b[0m][\u001b[1;32mDEBUG\u001b[0m] - R4/8:\u001b[1;32mLocal tensor shape: torch.Size([1, 2, 5, 1, 1, 2])\u001b[0m\n",
       "[2025-05-30 20:57:14,810][\u001b[1;36mtensorcraft.mpi.distributions.multi_axis_dist\u001b[0m][\u001b[1;35mapply\u001b[0m][\u001b[1;32mDEBUG\u001b[0m] - R4/8:\u001b[1;32mTarget local tensor shape: [2, 5, 2]\u001b[0m\n",
       "[2025-05-30 20:57:14,811][\u001b[1;36mtensorcraft.mpi.distributions.multi_axis_dist\u001b[0m][\u001b[1;35mapply\u001b[0m][\u001b[1;32mDEBUG\u001b[0m] - R4/8:\u001b[1;32mtensor([[[  8,   9],\n",
       "         [ 24,  25],\n",
       "         [ 40,  41],\n",
       "         [ 56,  57],\n",
       "         [ 72,  73]],\n",
       "\n",
       "        [[ 82,  83],\n",
       "         [ 98,  99],\n",
       "         [114, 115],\n",
       "         [130, 131],\n",
       "         [146, 147]]])\u001b[0m\n",
       "[2025-05-30 20:57:14,813][\u001b[1;36mtensorcraft.mpi.distributions.multi_axis_dist\u001b[0m][\u001b[1;35mapply\u001b[0m][\u001b[1;32mDEBUG\u001b[0m] - R4/8:\u001b[1;32mLinear processor index: 4, Residue: 1, Block size: 1, axis: 1, N procs: 8, N full blocks: 37\u001b[0m\n",
       "[2025-05-30 20:57:14,815][\u001b[1;36mtensorcraft.mpi.distributions.multi_axis_dist\u001b[0m][\u001b[1;35mapply\u001b[0m][\u001b[1;32mDEBUG\u001b[0m] - R4/8:\u001b[1;32mShaved slices: [slice(None, None, None), slice(None, None, None), slice(None, None, None)]\u001b[0m\n",
       "[2025-05-30 20:57:14,816][\u001b[1;36mtensorcraft.mpi.distributions.multi_axis_dist\u001b[0m][\u001b[1;35mapply\u001b[0m][\u001b[1;32mDEBUG\u001b[0m] - R4/8:\u001b[1;32mFinal local tensor shape: torch.Size([2, 5, 2])\u001b[0m\n",
       "tensor([[[  8,   9],\n",
       "         [ 24,  25],\n",
       "         [ 40,  41],\n",
       "         [ 56,  57],\n",
       "         [ 72,  73]],\n",
       "\n",
       "        [[ 82,  83],\n",
       "         [ 98,  99],\n",
       "         [114, 115],\n",
       "         [130, 131],\n",
       "         [146, 147]]])\n",
       "torch.Size([2, 5, 2])\n",
       "torch.int64\n",
       "False\n"
      ]
     },
     "metadata": {},
     "output_type": "display_data"
    },
    {
     "data": {
      "text/plain": [
       "[stdout:1] [2025-05-30 20:57:14,808][\u001b[1;36mtensorcraft.mpi.distributions.multi_axis_dist\u001b[0m][\u001b[1;35mapply\u001b[0m][\u001b[1;32mDEBUG\u001b[0m] - R1/8:\u001b[1;32mProcessor multi index: torch.Size([0, 0, 1])\u001b[0m\n",
       "[2025-05-30 20:57:14,808][\u001b[1;36mtensorcraft.mpi.distributions.multi_axis_dist\u001b[0m][\u001b[1;35mapply\u001b[0m][\u001b[1;32mDEBUG\u001b[0m] - R1/8:\u001b[1;32mMissing elements: [0, 1, 0]\u001b[0m\n",
       "[2025-05-30 20:57:14,809][\u001b[1;36mtensorcraft.mpi.distributions.multi_axis_dist\u001b[0m][\u001b[1;35mapply\u001b[0m][\u001b[1;32mDEBUG\u001b[0m] - R1/8:\u001b[1;32mN blocks per axis: [1, 37, 1]\u001b[0m\n",
       "[2025-05-30 20:57:14,810][\u001b[1;36mtensorcraft.mpi.distributions.multi_axis_dist\u001b[0m][\u001b[1;35mapply\u001b[0m][\u001b[1;32mDEBUG\u001b[0m] - R1/8:\u001b[1;32mPadded tensor shape: torch.Size([2, 38, 2])\u001b[0m\n",
       "[2025-05-30 20:57:14,811][\u001b[1;36mtensorcraft.mpi.distributions.multi_axis_dist\u001b[0m][\u001b[1;35mapply\u001b[0m][\u001b[1;32mDEBUG\u001b[0m] - R1/8:\u001b[1;32mPermute tuple: (0, 2, 4, 1, 3, 5)\u001b[0m\n",
       "[2025-05-30 20:57:14,813][\u001b[1;36mtensorcraft.mpi.distributions.multi_axis_dist\u001b[0m][\u001b[1;35mapply\u001b[0m][\u001b[1;32mDEBUG\u001b[0m] - R1/8:\u001b[1;32mReshape tuple: [1, 2, 38, 1, 1, 2]\u001b[0m\n",
       "[2025-05-30 20:57:14,815][\u001b[1;36mtensorcraft.mpi.distributions.multi_axis_dist\u001b[0m][\u001b[1;35mapply\u001b[0m][\u001b[1;32mDEBUG\u001b[0m] - R1/8:\u001b[1;32mTile Slices: [slice(None, None, None), slice(None, None, None), slice(tensor(2), None, 8), slice(None, None, None), slice(None, None, None), slice(None, None, None)]\u001b[0m\n",
       "[2025-05-30 20:57:14,815][\u001b[1;36mtensorcraft.mpi.distributions.multi_axis_dist\u001b[0m][\u001b[1;35mapply\u001b[0m][\u001b[1;32mDEBUG\u001b[0m] - R1/8:\u001b[1;32mLocal tensor shape: torch.Size([1, 2, 5, 1, 1, 2])\u001b[0m\n",
       "[2025-05-30 20:57:14,817][\u001b[1;36mtensorcraft.mpi.distributions.multi_axis_dist\u001b[0m][\u001b[1;35mapply\u001b[0m][\u001b[1;32mDEBUG\u001b[0m] - R1/8:\u001b[1;32mTarget local tensor shape: [2, 5, 2]\u001b[0m\n",
       "[2025-05-30 20:57:14,817][\u001b[1;36mtensorcraft.mpi.distributions.multi_axis_dist\u001b[0m][\u001b[1;35mapply\u001b[0m][\u001b[1;32mDEBUG\u001b[0m] - R1/8:\u001b[1;32mtensor([[[  4,   5],\n",
       "         [ 20,  21],\n",
       "         [ 36,  37],\n",
       "         [ 52,  53],\n",
       "         [ 68,  69]],\n",
       "\n",
       "        [[ 78,  79],\n",
       "         [ 94,  95],\n",
       "         [110, 111],\n",
       "         [126, 127],\n",
       "         [142, 143]]])\u001b[0m\n",
       "[2025-05-30 20:57:14,820][\u001b[1;36mtensorcraft.mpi.distributions.multi_axis_dist\u001b[0m][\u001b[1;35mapply\u001b[0m][\u001b[1;32mDEBUG\u001b[0m] - R1/8:\u001b[1;32mLinear processor index: 2, Residue: 1, Block size: 1, axis: 1, N procs: 8, N full blocks: 37\u001b[0m\n",
       "[2025-05-30 20:57:14,821][\u001b[1;36mtensorcraft.mpi.distributions.multi_axis_dist\u001b[0m][\u001b[1;35mapply\u001b[0m][\u001b[1;32mDEBUG\u001b[0m] - R1/8:\u001b[1;32mShaved slices: [slice(None, None, None), slice(None, None, None), slice(None, None, None)]\u001b[0m\n",
       "[2025-05-30 20:57:14,821][\u001b[1;36mtensorcraft.mpi.distributions.multi_axis_dist\u001b[0m][\u001b[1;35mapply\u001b[0m][\u001b[1;32mDEBUG\u001b[0m] - R1/8:\u001b[1;32mFinal local tensor shape: torch.Size([2, 5, 2])\u001b[0m\n",
       "tensor([[[  4,   5],\n",
       "         [ 20,  21],\n",
       "         [ 36,  37],\n",
       "         [ 52,  53],\n",
       "         [ 68,  69]],\n",
       "\n",
       "        [[ 78,  79],\n",
       "         [ 94,  95],\n",
       "         [110, 111],\n",
       "         [126, 127],\n",
       "         [142, 143]]])\n",
       "torch.Size([2, 5, 2])\n",
       "torch.int64\n",
       "False\n"
      ]
     },
     "metadata": {},
     "output_type": "display_data"
    },
    {
     "data": {
      "text/plain": [
       "[stdout:3] [2025-05-30 20:57:14,880][\u001b[1;36mtensorcraft.mpi.distributions.multi_axis_dist\u001b[0m][\u001b[1;35mapply\u001b[0m][\u001b[1;32mDEBUG\u001b[0m] - R3/8:\u001b[1;32mProcessor multi index: torch.Size([0, 1, 1])\u001b[0m\n",
       "[2025-05-30 20:57:14,881][\u001b[1;36mtensorcraft.mpi.distributions.multi_axis_dist\u001b[0m][\u001b[1;35mapply\u001b[0m][\u001b[1;32mDEBUG\u001b[0m] - R3/8:\u001b[1;32mMissing elements: [0, 1, 0]\u001b[0m\n",
       "[2025-05-30 20:57:14,881][\u001b[1;36mtensorcraft.mpi.distributions.multi_axis_dist\u001b[0m][\u001b[1;35mapply\u001b[0m][\u001b[1;32mDEBUG\u001b[0m] - R3/8:\u001b[1;32mN blocks per axis: [1, 37, 1]\u001b[0m\n",
       "[2025-05-30 20:57:14,882][\u001b[1;36mtensorcraft.mpi.distributions.multi_axis_dist\u001b[0m][\u001b[1;35mapply\u001b[0m][\u001b[1;32mDEBUG\u001b[0m] - R3/8:\u001b[1;32mPadded tensor shape: torch.Size([2, 38, 2])\u001b[0m\n",
       "[2025-05-30 20:57:14,883][\u001b[1;36mtensorcraft.mpi.distributions.multi_axis_dist\u001b[0m][\u001b[1;35mapply\u001b[0m][\u001b[1;32mDEBUG\u001b[0m] - R3/8:\u001b[1;32mPermute tuple: (0, 2, 4, 1, 3, 5)\u001b[0m\n",
       "[2025-05-30 20:57:14,884][\u001b[1;36mtensorcraft.mpi.distributions.multi_axis_dist\u001b[0m][\u001b[1;35mapply\u001b[0m][\u001b[1;32mDEBUG\u001b[0m] - R3/8:\u001b[1;32mReshape tuple: [1, 2, 38, 1, 1, 2]\u001b[0m\n",
       "[2025-05-30 20:57:14,886][\u001b[1;36mtensorcraft.mpi.distributions.multi_axis_dist\u001b[0m][\u001b[1;35mapply\u001b[0m][\u001b[1;32mDEBUG\u001b[0m] - R3/8:\u001b[1;32mTile Slices: [slice(None, None, None), slice(None, None, None), slice(tensor(3), None, 8), slice(None, None, None), slice(None, None, None), slice(None, None, None)]\u001b[0m\n",
       "[2025-05-30 20:57:14,887][\u001b[1;36mtensorcraft.mpi.distributions.multi_axis_dist\u001b[0m][\u001b[1;35mapply\u001b[0m][\u001b[1;32mDEBUG\u001b[0m] - R3/8:\u001b[1;32mLocal tensor shape: torch.Size([1, 2, 5, 1, 1, 2])\u001b[0m\n",
       "[2025-05-30 20:57:14,888][\u001b[1;36mtensorcraft.mpi.distributions.multi_axis_dist\u001b[0m][\u001b[1;35mapply\u001b[0m][\u001b[1;32mDEBUG\u001b[0m] - R3/8:\u001b[1;32mTarget local tensor shape: [2, 5, 2]\u001b[0m\n",
       "[2025-05-30 20:57:14,889][\u001b[1;36mtensorcraft.mpi.distributions.multi_axis_dist\u001b[0m][\u001b[1;35mapply\u001b[0m][\u001b[1;32mDEBUG\u001b[0m] - R3/8:\u001b[1;32mtensor([[[  6,   7],\n",
       "         [ 22,  23],\n",
       "         [ 38,  39],\n",
       "         [ 54,  55],\n",
       "         [ 70,  71]],\n",
       "\n",
       "        [[ 80,  81],\n",
       "         [ 96,  97],\n",
       "         [112, 113],\n",
       "         [128, 129],\n",
       "         [144, 145]]])\u001b[0m\n",
       "[2025-05-30 20:57:14,890][\u001b[1;36mtensorcraft.mpi.distributions.multi_axis_dist\u001b[0m][\u001b[1;35mapply\u001b[0m][\u001b[1;32mDEBUG\u001b[0m] - R3/8:\u001b[1;32mLinear processor index: 3, Residue: 1, Block size: 1, axis: 1, N procs: 8, N full blocks: 37\u001b[0m\n",
       "[2025-05-30 20:57:14,891][\u001b[1;36mtensorcraft.mpi.distributions.multi_axis_dist\u001b[0m][\u001b[1;35mapply\u001b[0m][\u001b[1;32mDEBUG\u001b[0m] - R3/8:\u001b[1;32mShaved slices: [slice(None, None, None), slice(None, None, None), slice(None, None, None)]\u001b[0m\n",
       "[2025-05-30 20:57:14,892][\u001b[1;36mtensorcraft.mpi.distributions.multi_axis_dist\u001b[0m][\u001b[1;35mapply\u001b[0m][\u001b[1;32mDEBUG\u001b[0m] - R3/8:\u001b[1;32mFinal local tensor shape: torch.Size([2, 5, 2])\u001b[0m\n",
       "tensor([[[  6,   7],\n",
       "         [ 22,  23],\n",
       "         [ 38,  39],\n",
       "         [ 54,  55],\n",
       "         [ 70,  71]],\n",
       "\n",
       "        [[ 80,  81],\n",
       "         [ 96,  97],\n",
       "         [112, 113],\n",
       "         [128, 129],\n",
       "         [144, 145]]])\n",
       "torch.Size([2, 5, 2])\n",
       "torch.int64\n",
       "False\n"
      ]
     },
     "metadata": {},
     "output_type": "display_data"
    },
    {
     "data": {
      "text/plain": [
       "[stdout:0] [2025-05-30 20:57:14,913][\u001b[1;36mtensorcraft.mpi.distributions.multi_axis_dist\u001b[0m][\u001b[1;35mapply\u001b[0m][\u001b[1;32mDEBUG\u001b[0m] - R0/8:\u001b[1;32mProcessor multi index: torch.Size([0, 0, 0])\u001b[0m\n",
       "[2025-05-30 20:57:14,918][\u001b[1;36mtensorcraft.mpi.distributions.multi_axis_dist\u001b[0m][\u001b[1;35mapply\u001b[0m][\u001b[1;32mDEBUG\u001b[0m] - R0/8:\u001b[1;32mMissing elements: [0, 1, 0]\u001b[0m\n",
       "[2025-05-30 20:57:14,923][\u001b[1;36mtensorcraft.mpi.distributions.multi_axis_dist\u001b[0m][\u001b[1;35mapply\u001b[0m][\u001b[1;32mDEBUG\u001b[0m] - R0/8:\u001b[1;32mN blocks per axis: [1, 37, 1]\u001b[0m\n",
       "[2025-05-30 20:57:14,924][\u001b[1;36mtensorcraft.mpi.distributions.multi_axis_dist\u001b[0m][\u001b[1;35mapply\u001b[0m][\u001b[1;32mDEBUG\u001b[0m] - R0/8:\u001b[1;32mPadded tensor shape: torch.Size([2, 38, 2])\u001b[0m\n",
       "[2025-05-30 20:57:14,926][\u001b[1;36mtensorcraft.mpi.distributions.multi_axis_dist\u001b[0m][\u001b[1;35mapply\u001b[0m][\u001b[1;32mDEBUG\u001b[0m] - R0/8:\u001b[1;32mPermute tuple: (0, 2, 4, 1, 3, 5)\u001b[0m\n",
       "[2025-05-30 20:57:14,926][\u001b[1;36mtensorcraft.mpi.distributions.multi_axis_dist\u001b[0m][\u001b[1;35mapply\u001b[0m][\u001b[1;32mDEBUG\u001b[0m] - R0/8:\u001b[1;32mReshape tuple: [1, 2, 38, 1, 1, 2]\u001b[0m\n",
       "[2025-05-30 20:57:14,928][\u001b[1;36mtensorcraft.mpi.distributions.multi_axis_dist\u001b[0m][\u001b[1;35mapply\u001b[0m][\u001b[1;32mDEBUG\u001b[0m] - R0/8:\u001b[1;32mTile Slices: [slice(None, None, None), slice(None, None, None), slice(tensor(0), None, 8), slice(None, None, None), slice(None, None, None), slice(None, None, None)]\u001b[0m\n",
       "[2025-05-30 20:57:14,930][\u001b[1;36mtensorcraft.mpi.distributions.multi_axis_dist\u001b[0m][\u001b[1;35mapply\u001b[0m][\u001b[1;32mDEBUG\u001b[0m] - R0/8:\u001b[1;32mLocal tensor shape: torch.Size([1, 2, 5, 1, 1, 2])\u001b[0m\n",
       "[2025-05-30 20:57:14,931][\u001b[1;36mtensorcraft.mpi.distributions.multi_axis_dist\u001b[0m][\u001b[1;35mapply\u001b[0m][\u001b[1;32mDEBUG\u001b[0m] - R0/8:\u001b[1;32mTarget local tensor shape: [2, 5, 2]\u001b[0m\n",
       "[2025-05-30 20:57:14,931][\u001b[1;36mtensorcraft.mpi.distributions.multi_axis_dist\u001b[0m][\u001b[1;35mapply\u001b[0m][\u001b[1;32mDEBUG\u001b[0m] - R0/8:\u001b[1;32mtensor([[[  0,   1],\n",
       "         [ 16,  17],\n",
       "         [ 32,  33],\n",
       "         [ 48,  49],\n",
       "         [ 64,  65]],\n",
       "\n",
       "        [[ 74,  75],\n",
       "         [ 90,  91],\n",
       "         [106, 107],\n",
       "         [122, 123],\n",
       "         [138, 139]]])\u001b[0m\n",
       "[2025-05-30 20:57:14,934][\u001b[1;36mtensorcraft.mpi.distributions.multi_axis_dist\u001b[0m][\u001b[1;35mapply\u001b[0m][\u001b[1;32mDEBUG\u001b[0m] - R0/8:\u001b[1;32mLinear processor index: 0, Residue: 1, Block size: 1, axis: 1, N procs: 8, N full blocks: 37\u001b[0m\n",
       "[2025-05-30 20:57:14,934][\u001b[1;36mtensorcraft.mpi.distributions.multi_axis_dist\u001b[0m][\u001b[1;35mapply\u001b[0m][\u001b[1;32mDEBUG\u001b[0m] - R0/8:\u001b[1;32mShaved slices: [slice(None, None, None), slice(None, None, None), slice(None, None, None)]\u001b[0m\n",
       "[2025-05-30 20:57:14,935][\u001b[1;36mtensorcraft.mpi.distributions.multi_axis_dist\u001b[0m][\u001b[1;35mapply\u001b[0m][\u001b[1;32mDEBUG\u001b[0m] - R0/8:\u001b[1;32mFinal local tensor shape: torch.Size([2, 5, 2])\u001b[0m\n",
       "tensor([[[  0,   1],\n",
       "         [ 16,  17],\n",
       "         [ 32,  33],\n",
       "         [ 48,  49],\n",
       "         [ 64,  65]],\n",
       "\n",
       "        [[ 74,  75],\n",
       "         [ 90,  91],\n",
       "         [106, 107],\n",
       "         [122, 123],\n",
       "         [138, 139]]])\n",
       "torch.Size([2, 5, 2])\n",
       "torch.int64\n",
       "False\n"
      ]
     },
     "metadata": {},
     "output_type": "display_data"
    }
   ],
   "source": [
    "%%px\n",
    "from mpi4py import MPI\n",
    "comm = MPI.COMM_WORLD\n",
    "rank = comm.Get_rank()\n",
    "w_size = comm.Get_size()\n",
    "\n",
    "import torch\n",
    "import logging\n",
    "import tensorcraft as tc\n",
    "\n",
    "tc.set_logger_config(log_rank=True, level=logging.DEBUG)\n",
    "\n",
    "shape = torch.Size([2, 37, 2])\n",
    "x = torch.arange(shape.numel()).reshape(shape)\n",
    "\n",
    "mesh = torch.Size([2,2,2])\n",
    "dist = tc.mpi.MPIMultiAxisDist(mesh, (None, (0,2,1), None),1)\n",
    "\n",
    "x_local = dist.apply(x, rank)\n",
    "print(x_local)\n",
    "print(x_local.shape)\n",
    "print(x_local.dtype)\n",
    "print(x_local.is_contiguous())"
   ]
  },
  {
   "cell_type": "code",
   "execution_count": 4,
   "metadata": {},
   "outputs": [
    {
     "data": {
      "text/plain": [
       "\u001b[0;31mOut[0:3]: \u001b[0mtorch.Size([2, 5, 2])"
      ]
     },
     "metadata": {
      "after": null,
      "completed": null,
      "data": {},
      "engine_id": 0,
      "engine_uuid": "b69fae02-33e9378346b020b6265c456c",
      "error": null,
      "execute_input": "dist.localShape(x.shape, rank)\n",
      "execute_result": {
       "data": {
        "text/plain": "torch.Size([2, 5, 2])"
       },
       "execution_count": 3,
       "metadata": {}
      },
      "follow": null,
      "msg_id": null,
      "outputs": [],
      "received": null,
      "started": null,
      "status": null,
      "stderr": "",
      "stdout": "",
      "submitted": "2025-05-30T19:02:05.916281Z"
     },
     "output_type": "display_data"
    },
    {
     "data": {
      "text/plain": [
       "\u001b[0;31mOut[6:3]: \u001b[0mtorch.Size([2, 4, 2])"
      ]
     },
     "metadata": {
      "after": null,
      "completed": null,
      "data": {},
      "engine_id": 6,
      "engine_uuid": "20e5fcce-44e5b93c04664b1d76c4f559",
      "error": null,
      "execute_input": "dist.localShape(x.shape, rank)\n",
      "execute_result": {
       "data": {
        "text/plain": "torch.Size([2, 4, 2])"
       },
       "execution_count": 3,
       "metadata": {}
      },
      "follow": null,
      "msg_id": null,
      "outputs": [],
      "received": null,
      "started": null,
      "status": null,
      "stderr": "",
      "stdout": "",
      "submitted": "2025-05-30T19:02:05.917266Z"
     },
     "output_type": "display_data"
    },
    {
     "data": {
      "text/plain": [
       "\u001b[0;31mOut[3:3]: \u001b[0mtorch.Size([2, 5, 2])"
      ]
     },
     "metadata": {
      "after": [],
      "completed": "2025-05-30T19:02:05.926359Z",
      "data": {},
      "engine_id": 3,
      "engine_uuid": "493ac79b-6ba390fd83b1b0ecb6b7e39f",
      "error": null,
      "execute_input": "dist.localShape(x.shape, rank)\n",
      "execute_result": {
       "data": {
        "text/plain": "torch.Size([2, 5, 2])"
       },
       "execution_count": 3,
       "metadata": {}
      },
      "follow": [],
      "is_broadcast": false,
      "is_coalescing": false,
      "msg_id": "c9c5833c-5453b1c7de77cc1b1fd26d9d_190522_20",
      "outputs": [],
      "received": "2025-05-30T19:02:05.932173Z",
      "started": "2025-05-30T19:02:05.920757Z",
      "status": "ok",
      "stderr": "",
      "stdout": "",
      "submitted": "2025-05-30T19:02:05.916988Z"
     },
     "output_type": "display_data"
    },
    {
     "data": {
      "text/plain": [
       "\u001b[0;31mOut[1:3]: \u001b[0mtorch.Size([2, 5, 2])"
      ]
     },
     "metadata": {
      "after": [],
      "completed": "2025-05-30T19:02:05.925792Z",
      "data": {},
      "engine_id": 1,
      "engine_uuid": "54ad5d8d-987329d4c55d421a56cf8e01",
      "error": null,
      "execute_input": "dist.localShape(x.shape, rank)\n",
      "execute_result": {
       "data": {
        "text/plain": "torch.Size([2, 5, 2])"
       },
       "execution_count": 3,
       "metadata": {}
      },
      "follow": [],
      "is_broadcast": false,
      "is_coalescing": false,
      "msg_id": "c9c5833c-5453b1c7de77cc1b1fd26d9d_190522_18",
      "outputs": [],
      "received": "2025-05-30T19:02:05.932843Z",
      "started": "2025-05-30T19:02:05.919783Z",
      "status": "ok",
      "stderr": "",
      "stdout": "",
      "submitted": "2025-05-30T19:02:05.916327Z"
     },
     "output_type": "display_data"
    },
    {
     "data": {
      "text/plain": [
       "\u001b[0;31mOut[4:3]: \u001b[0mtorch.Size([2, 5, 2])"
      ]
     },
     "metadata": {
      "after": [],
      "completed": "2025-05-30T19:02:05.929689Z",
      "data": {},
      "engine_id": 4,
      "engine_uuid": "88e057bb-d8b8423c7b7ec783d14e1510",
      "error": null,
      "execute_input": "dist.localShape(x.shape, rank)\n",
      "execute_result": {
       "data": {
        "text/plain": "torch.Size([2, 5, 2])"
       },
       "execution_count": 3,
       "metadata": {}
      },
      "follow": [],
      "is_broadcast": false,
      "is_coalescing": false,
      "msg_id": "c9c5833c-5453b1c7de77cc1b1fd26d9d_190522_21",
      "outputs": [],
      "received": "2025-05-30T19:02:05.937425Z",
      "started": "2025-05-30T19:02:05.921492Z",
      "status": "ok",
      "stderr": "",
      "stdout": "",
      "submitted": "2025-05-30T19:02:05.917093Z"
     },
     "output_type": "display_data"
    },
    {
     "data": {
      "text/plain": [
       "\u001b[0;31mOut[7:3]: \u001b[0mtorch.Size([2, 4, 2])"
      ]
     },
     "metadata": {
      "after": [],
      "completed": "2025-05-30T19:02:05.928077Z",
      "data": {},
      "engine_id": 7,
      "engine_uuid": "8ab86d10-94716527a67b1c4a2f89381d",
      "error": null,
      "execute_input": "dist.localShape(x.shape, rank)\n",
      "execute_result": {
       "data": {
        "text/plain": "torch.Size([2, 4, 2])"
       },
       "execution_count": 3,
       "metadata": {}
      },
      "follow": [],
      "is_broadcast": false,
      "is_coalescing": false,
      "msg_id": "c9c5833c-5453b1c7de77cc1b1fd26d9d_190522_24",
      "outputs": [],
      "received": "2025-05-30T19:02:05.933519Z",
      "started": "2025-05-30T19:02:05.923787Z",
      "status": "ok",
      "stderr": "",
      "stdout": "",
      "submitted": "2025-05-30T19:02:05.917286Z"
     },
     "output_type": "display_data"
    },
    {
     "data": {
      "text/plain": [
       "\u001b[0;31mOut[5:3]: \u001b[0mtorch.Size([2, 4, 2])"
      ]
     },
     "metadata": {
      "after": [],
      "completed": "2025-05-30T19:02:05.928636Z",
      "data": {},
      "engine_id": 5,
      "engine_uuid": "1be4cae0-dabccf16e71fc9ffa0952d83",
      "error": null,
      "execute_input": "dist.localShape(x.shape, rank)\n",
      "execute_result": {
       "data": {
        "text/plain": "torch.Size([2, 4, 2])"
       },
       "execution_count": 3,
       "metadata": {}
      },
      "follow": [],
      "is_broadcast": false,
      "is_coalescing": false,
      "msg_id": "c9c5833c-5453b1c7de77cc1b1fd26d9d_190522_22",
      "outputs": [],
      "received": "2025-05-30T19:02:05.934249Z",
      "started": "2025-05-30T19:02:05.923054Z",
      "status": "ok",
      "stderr": "",
      "stdout": "",
      "submitted": "2025-05-30T19:02:05.917168Z"
     },
     "output_type": "display_data"
    },
    {
     "data": {
      "text/plain": [
       "\u001b[0;31mOut[2:3]: \u001b[0mtorch.Size([2, 5, 2])"
      ]
     },
     "metadata": {
      "after": [],
      "completed": "2025-05-30T19:02:05.929529Z",
      "data": {},
      "engine_id": 2,
      "engine_uuid": "ba763576-722f8e754ea4382bf7d61622",
      "error": null,
      "execute_input": "dist.localShape(x.shape, rank)\n",
      "execute_result": {
       "data": {
        "text/plain": "torch.Size([2, 5, 2])"
       },
       "execution_count": 3,
       "metadata": {}
      },
      "follow": [],
      "is_broadcast": false,
      "is_coalescing": false,
      "msg_id": "c9c5833c-5453b1c7de77cc1b1fd26d9d_190522_19",
      "outputs": [],
      "received": "2025-05-30T19:02:05.936071Z",
      "started": "2025-05-30T19:02:05.920582Z",
      "status": "ok",
      "stderr": "",
      "stdout": "",
      "submitted": "2025-05-30T19:02:05.916440Z"
     },
     "output_type": "display_data"
    }
   ],
   "source": [
    "%%px\n",
    "dist.localShape(x.shape, rank)"
   ]
  },
  {
   "cell_type": "code",
   "execution_count": 3,
   "metadata": {},
   "outputs": [
    {
     "data": {
      "text/plain": [
       "\u001b[0;31mOut[2:2]: \u001b[0mtorch.Size([2, 5, 2])"
      ]
     },
     "metadata": {
      "after": [],
      "completed": "2025-05-30T18:57:16.062507Z",
      "data": {},
      "engine_id": 2,
      "engine_uuid": "ba763576-722f8e754ea4382bf7d61622",
      "error": null,
      "execute_input": "expected_dist, _, _ = dist.permute(x.shape, mesh_dims=[0,1])\nexpected_dist.localShape(x.shape, rank)\n",
      "execute_result": {
       "data": {
        "text/plain": "torch.Size([2, 5, 2])"
       },
       "execution_count": 2,
       "metadata": {}
      },
      "follow": [],
      "is_broadcast": false,
      "is_coalescing": false,
      "msg_id": "c9c5833c-5453b1c7de77cc1b1fd26d9d_190522_11",
      "outputs": [],
      "received": "2025-05-30T18:57:16.064252Z",
      "started": "2025-05-30T18:57:16.053296Z",
      "status": "ok",
      "stderr": "",
      "stdout": "",
      "submitted": "2025-05-30T18:57:16.049900Z"
     },
     "output_type": "display_data"
    },
    {
     "data": {
      "text/plain": [
       "\u001b[0;31mOut[1:2]: \u001b[0mtorch.Size([2, 5, 2])"
      ]
     },
     "metadata": {
      "after": [],
      "completed": "2025-05-30T18:57:16.065573Z",
      "data": {},
      "engine_id": 1,
      "engine_uuid": "54ad5d8d-987329d4c55d421a56cf8e01",
      "error": null,
      "execute_input": "expected_dist, _, _ = dist.permute(x.shape, mesh_dims=[0,1])\nexpected_dist.localShape(x.shape, rank)\n",
      "execute_result": {
       "data": {
        "text/plain": "torch.Size([2, 5, 2])"
       },
       "execution_count": 2,
       "metadata": {}
      },
      "follow": [],
      "is_broadcast": false,
      "is_coalescing": false,
      "msg_id": "c9c5833c-5453b1c7de77cc1b1fd26d9d_190522_10",
      "outputs": [],
      "received": "2025-05-30T18:57:16.069244Z",
      "started": "2025-05-30T18:57:16.054068Z",
      "status": "ok",
      "stderr": "",
      "stdout": "",
      "submitted": "2025-05-30T18:57:16.049835Z"
     },
     "output_type": "display_data"
    },
    {
     "data": {
      "text/plain": [
       "\u001b[0;31mOut[0:2]: \u001b[0mtorch.Size([2, 5, 2])"
      ]
     },
     "metadata": {
      "after": [],
      "completed": "2025-05-30T18:57:16.066431Z",
      "data": {},
      "engine_id": 0,
      "engine_uuid": "b69fae02-33e9378346b020b6265c456c",
      "error": null,
      "execute_input": "expected_dist, _, _ = dist.permute(x.shape, mesh_dims=[0,1])\nexpected_dist.localShape(x.shape, rank)\n",
      "execute_result": {
       "data": {
        "text/plain": "torch.Size([2, 5, 2])"
       },
       "execution_count": 2,
       "metadata": {}
      },
      "follow": [],
      "is_broadcast": false,
      "is_coalescing": false,
      "msg_id": "c9c5833c-5453b1c7de77cc1b1fd26d9d_190522_9",
      "outputs": [],
      "received": "2025-05-30T18:57:16.070000Z",
      "started": "2025-05-30T18:57:16.052974Z",
      "status": "ok",
      "stderr": "",
      "stdout": "",
      "submitted": "2025-05-30T18:57:16.049699Z"
     },
     "output_type": "display_data"
    },
    {
     "data": {
      "text/plain": [
       "\u001b[0;31mOut[3:2]: \u001b[0mtorch.Size([2, 4, 2])"
      ]
     },
     "metadata": {
      "after": [],
      "completed": "2025-05-30T18:57:16.067013Z",
      "data": {},
      "engine_id": 3,
      "engine_uuid": "493ac79b-6ba390fd83b1b0ecb6b7e39f",
      "error": null,
      "execute_input": "expected_dist, _, _ = dist.permute(x.shape, mesh_dims=[0,1])\nexpected_dist.localShape(x.shape, rank)\n",
      "execute_result": {
       "data": {
        "text/plain": "torch.Size([2, 4, 2])"
       },
       "execution_count": 2,
       "metadata": {}
      },
      "follow": [],
      "is_broadcast": false,
      "is_coalescing": false,
      "msg_id": "c9c5833c-5453b1c7de77cc1b1fd26d9d_190522_12",
      "outputs": [],
      "received": "2025-05-30T18:57:16.070844Z",
      "started": "2025-05-30T18:57:16.054886Z",
      "status": "ok",
      "stderr": "",
      "stdout": "",
      "submitted": "2025-05-30T18:57:16.049953Z"
     },
     "output_type": "display_data"
    },
    {
     "data": {
      "text/plain": [
       "\u001b[0;31mOut[5:2]: \u001b[0mtorch.Size([2, 5, 2])"
      ]
     },
     "metadata": {
      "after": [],
      "completed": "2025-05-30T18:57:16.068005Z",
      "data": {},
      "engine_id": 5,
      "engine_uuid": "1be4cae0-dabccf16e71fc9ffa0952d83",
      "error": null,
      "execute_input": "expected_dist, _, _ = dist.permute(x.shape, mesh_dims=[0,1])\nexpected_dist.localShape(x.shape, rank)\n",
      "execute_result": {
       "data": {
        "text/plain": "torch.Size([2, 5, 2])"
       },
       "execution_count": 2,
       "metadata": {}
      },
      "follow": [],
      "is_broadcast": false,
      "is_coalescing": false,
      "msg_id": "c9c5833c-5453b1c7de77cc1b1fd26d9d_190522_14",
      "outputs": [],
      "received": "2025-05-30T18:57:16.072873Z",
      "started": "2025-05-30T18:57:16.055254Z",
      "status": "ok",
      "stderr": "",
      "stdout": "",
      "submitted": "2025-05-30T18:57:16.050067Z"
     },
     "output_type": "display_data"
    },
    {
     "data": {
      "text/plain": [
       "\u001b[0;31mOut[4:2]: \u001b[0mtorch.Size([2, 5, 2])"
      ]
     },
     "metadata": {
      "after": [],
      "completed": "2025-05-30T18:57:16.069938Z",
      "data": {},
      "engine_id": 4,
      "engine_uuid": "88e057bb-d8b8423c7b7ec783d14e1510",
      "error": null,
      "execute_input": "expected_dist, _, _ = dist.permute(x.shape, mesh_dims=[0,1])\nexpected_dist.localShape(x.shape, rank)\n",
      "execute_result": {
       "data": {
        "text/plain": "torch.Size([2, 5, 2])"
       },
       "execution_count": 2,
       "metadata": {}
      },
      "follow": [],
      "is_broadcast": false,
      "is_coalescing": false,
      "msg_id": "c9c5833c-5453b1c7de77cc1b1fd26d9d_190522_13",
      "outputs": [],
      "received": "2025-05-30T18:57:16.074565Z",
      "started": "2025-05-30T18:57:16.055274Z",
      "status": "ok",
      "stderr": "",
      "stdout": "",
      "submitted": "2025-05-30T18:57:16.050013Z"
     },
     "output_type": "display_data"
    },
    {
     "data": {
      "text/plain": [
       "\u001b[0;31mOut[7:2]: \u001b[0mtorch.Size([2, 4, 2])"
      ]
     },
     "metadata": {
      "after": [],
      "completed": "2025-05-30T18:57:16.070919Z",
      "data": {},
      "engine_id": 7,
      "engine_uuid": "8ab86d10-94716527a67b1c4a2f89381d",
      "error": null,
      "execute_input": "expected_dist, _, _ = dist.permute(x.shape, mesh_dims=[0,1])\nexpected_dist.localShape(x.shape, rank)\n",
      "execute_result": {
       "data": {
        "text/plain": "torch.Size([2, 4, 2])"
       },
       "execution_count": 2,
       "metadata": {}
      },
      "follow": [],
      "is_broadcast": false,
      "is_coalescing": false,
      "msg_id": "c9c5833c-5453b1c7de77cc1b1fd26d9d_190522_16",
      "outputs": [],
      "received": "2025-05-30T18:57:16.076288Z",
      "started": "2025-05-30T18:57:16.059132Z",
      "status": "ok",
      "stderr": "",
      "stdout": "",
      "submitted": "2025-05-30T18:57:16.050268Z"
     },
     "output_type": "display_data"
    },
    {
     "data": {
      "text/plain": [
       "\u001b[0;31mOut[6:2]: \u001b[0mtorch.Size([2, 4, 2])"
      ]
     },
     "metadata": {
      "after": [],
      "completed": "2025-05-30T18:57:16.072246Z",
      "data": {},
      "engine_id": 6,
      "engine_uuid": "20e5fcce-44e5b93c04664b1d76c4f559",
      "error": null,
      "execute_input": "expected_dist, _, _ = dist.permute(x.shape, mesh_dims=[0,1])\nexpected_dist.localShape(x.shape, rank)\n",
      "execute_result": {
       "data": {
        "text/plain": "torch.Size([2, 4, 2])"
       },
       "execution_count": 2,
       "metadata": {}
      },
      "follow": [],
      "is_broadcast": false,
      "is_coalescing": false,
      "msg_id": "c9c5833c-5453b1c7de77cc1b1fd26d9d_190522_15",
      "outputs": [],
      "received": "2025-05-30T18:57:16.076796Z",
      "started": "2025-05-30T18:57:16.058023Z",
      "status": "ok",
      "stderr": "",
      "stdout": "",
      "submitted": "2025-05-30T18:57:16.050117Z"
     },
     "output_type": "display_data"
    }
   ],
   "source": [
    "%%px\n",
    "expected_dist, _, _ = dist.permute(x.shape, mesh_dims=[0,1])\n",
    "expected_dist.localShape(x.shape, rank)"
   ]
  },
  {
   "cell_type": "code",
   "execution_count": 5,
   "metadata": {},
   "outputs": [
    {
     "data": {
      "text/plain": [
       "[stdout:2] [2025-05-30 21:03:12,130][\u001b[1;36mtensorcraft.mpi.distributions.multi_axis_dist\u001b[0m][\u001b[1;35mapply_permute\u001b[0m][\u001b[1;32mDEBUG\u001b[0m] - R2/8:\u001b[1;32mtensor([[[  2,   3],\n",
       "         [ 18,  19],\n",
       "         [ 34,  35],\n",
       "         [ 50,  51],\n",
       "         [ 66,  67]],\n",
       "\n",
       "        [[ 76,  77],\n",
       "         [ 92,  93],\n",
       "         [108, 109],\n",
       "         [124, 125],\n",
       "         [140, 141]]])\u001b[0m\n"
      ]
     },
     "metadata": {},
     "output_type": "display_data"
    },
    {
     "data": {
      "text/plain": [
       "[stdout:1] [2025-05-30 21:03:12,130][\u001b[1;36mtensorcraft.mpi.distributions.multi_axis_dist\u001b[0m][\u001b[1;35mapply_permute\u001b[0m][\u001b[1;32mDEBUG\u001b[0m] - R1/8:\u001b[1;32mtensor([[[  4,   5],\n",
       "         [ 20,  21],\n",
       "         [ 36,  37],\n",
       "         [ 52,  53],\n",
       "         [ 68,  69]],\n",
       "\n",
       "        [[ 78,  79],\n",
       "         [ 94,  95],\n",
       "         [110, 111],\n",
       "         [126, 127],\n",
       "         [142, 143]]])\u001b[0m\n",
       "[2025-05-30 21:03:12,134][\u001b[1;36mtensorcraft.mpi.distributions.multi_axis_dist\u001b[0m][\u001b[1;35mapply_permute\u001b[0m][\u001b[1;32mDEBUG\u001b[0m] - R1/8:\u001b[1;32m1/8 - Creating cart\u001b[0m\n",
       "[2025-05-30 21:03:12,157][\u001b[1;36mtensorcraft.mpi.distributions.multi_axis_dist\u001b[0m][\u001b[1;35mapply_permute\u001b[0m][\u001b[1;32mDEBUG\u001b[0m] - R1/8:\u001b[1;32m1/1/8 - What's the target?\u001b[0m\n",
       "[2025-05-30 21:03:12,158][\u001b[1;36mtensorcraft.mpi.distributions.multi_axis_dist\u001b[0m][\u001b[1;35mapply_permute\u001b[0m][\u001b[1;32mDEBUG\u001b[0m] - R1/8:\u001b[1;32m1/1/8 - Current sub_midx [0, 0, 1]\u001b[0m\n",
       "[2025-05-30 21:03:12,158][\u001b[1;36mtensorcraft.mpi.distributions.multi_axis_dist\u001b[0m][\u001b[1;35mapply_permute\u001b[0m][\u001b[1;32mDEBUG\u001b[0m] - R1/8:\u001b[1;32m1/1/8 - Target sub_midx tensor([1, 0, 0])\u001b[0m\n",
       "[2025-05-30 21:03:12,160][\u001b[1;36mtensorcraft.mpi.distributions.multi_axis_dist\u001b[0m][\u001b[1;35mapply_permute\u001b[0m][\u001b[1;32mDEBUG\u001b[0m] - R1/8:\u001b[1;32m1/1/8 - Target sub_rank 4\u001b[0m\n",
       "[2025-05-30 21:03:12,169][\u001b[1;36mtensorcraft.mpi.mpi_utils\u001b[0m][\u001b[1;35mtensor2mpiBuffer\u001b[0m][\u001b[1;32mDEBUG\u001b[0m] - R1/8:\u001b[1;32mtensor_stride: (76, 16, 1)\u001b[0m\n",
       "[2025-05-30 21:03:12,171][\u001b[1;36mtensorcraft.mpi.mpi_utils\u001b[0m][\u001b[1;35mtensor2mpiBuffer\u001b[0m][\u001b[1;32mDEBUG\u001b[0m] - R1/8:\u001b[1;32mtensor_offset: 4\u001b[0m\n",
       "[2025-05-30 21:03:12,172][\u001b[1;36mtensorcraft.mpi.mpi_utils\u001b[0m][\u001b[1;35mtensor2mpiBuffer\u001b[0m][\u001b[1;32mDEBUG\u001b[0m] - R1/8:\u001b[1;32mtensor_shape: torch.Size([2, 5, 2])\u001b[0m\n",
       "[2025-05-30 21:03:12,173][\u001b[1;36mtensorcraft.mpi.mpi_utils\u001b[0m][\u001b[1;35mtensor2mpiBuffer\u001b[0m][\u001b[1;32mDEBUG\u001b[0m] - R1/8:\u001b[1;32mtensor_dtype: torch.int64\u001b[0m\n",
       "[2025-05-30 21:03:12,174][\u001b[1;36mtensorcraft.mpi.distributions.multi_axis_dist\u001b[0m][\u001b[1;35mapply_permute\u001b[0m][\u001b[1;32mDEBUG\u001b[0m] - R1/8:\u001b[1;32m1/1/8 - Different shape, a memory shame to rank 4\u001b[0m\n",
       "[2025-05-30 21:03:12,175][\u001b[1;36mtensorcraft.mpi.distributions.multi_axis_dist\u001b[0m][\u001b[1;35mapply_permute\u001b[0m][\u001b[1;32mDEBUG\u001b[0m] - R1/8:\u001b[1;32mtensor([[[  4,   5],\n",
       "         [ 20,  21],\n",
       "         [ 36,  37],\n",
       "         [ 52,  53],\n",
       "         [ 68,  69]],\n",
       "\n",
       "        [[ 78,  79],\n",
       "         [ 94,  95],\n",
       "         [110, 111],\n",
       "         [126, 127],\n",
       "         [142, 143]]])\u001b[0m\n",
       "[2025-05-30 21:03:12,178][\u001b[1;36mtensorcraft.mpi.mpi_utils\u001b[0m][\u001b[1;35mtensor2mpiBuffer\u001b[0m][\u001b[1;32mDEBUG\u001b[0m] - R1/8:\u001b[1;32mtensor_stride: (10, 2, 1)\u001b[0m\n",
       "[2025-05-30 21:03:12,179][\u001b[1;36mtensorcraft.mpi.mpi_utils\u001b[0m][\u001b[1;35mtensor2mpiBuffer\u001b[0m][\u001b[1;32mDEBUG\u001b[0m] - R1/8:\u001b[1;32mtensor_offset: 0\u001b[0m\n",
       "[2025-05-30 21:03:12,179][\u001b[1;36mtensorcraft.mpi.mpi_utils\u001b[0m][\u001b[1;35mtensor2mpiBuffer\u001b[0m][\u001b[1;32mDEBUG\u001b[0m] - R1/8:\u001b[1;32mtensor_shape: torch.Size([2, 5, 2])\u001b[0m\n",
       "[2025-05-30 21:03:12,180][\u001b[1;36mtensorcraft.mpi.mpi_utils\u001b[0m][\u001b[1;35mtensor2mpiBuffer\u001b[0m][\u001b[1;32mDEBUG\u001b[0m] - R1/8:\u001b[1;32mtensor_dtype: torch.int64\u001b[0m\n",
       "[2025-05-30 21:03:12,181][\u001b[1;36mtensorcraft.mpi.mpi_utils\u001b[0m][\u001b[1;35mtensor2mpiBuffer\u001b[0m][\u001b[1;32mDEBUG\u001b[0m] - R1/8:\u001b[1;32mBest case scenario, it is contiguous!\u001b[0m\n",
       "[2025-05-30 21:03:12,184][\u001b[1;36mtensorcraft.mpi.distributions.multi_axis_dist\u001b[0m][\u001b[1;35mapply_permute\u001b[0m][\u001b[1;32mDEBUG\u001b[0m] - R1/8:\u001b[1;32mtensor([[[  8,   9],\n",
       "         [ 24,  25],\n",
       "         [ 40,  41],\n",
       "         [ 56,  57],\n",
       "         [ 72,  73]],\n",
       "\n",
       "        [[ 82,  83],\n",
       "         [ 98,  99],\n",
       "         [114, 115],\n",
       "         [130, 131],\n",
       "         [146, 147]]])\u001b[0m\n",
       "[2025-05-30 21:03:12,187][\u001b[1;36mtensorcraft.mpi.distributions.multi_axis_dist\u001b[0m][\u001b[1;35mapply_permute\u001b[0m][\u001b[1;32mDEBUG\u001b[0m] - R1/8:\u001b[1;32m1/8 - Barrier wait\u001b[0m\n"
      ]
     },
     "metadata": {},
     "output_type": "display_data"
    },
    {
     "data": {
      "text/plain": [
       "[stdout:6] [2025-05-30 21:03:12,131][\u001b[1;36mtensorcraft.mpi.distributions.multi_axis_dist\u001b[0m][\u001b[1;35mapply_permute\u001b[0m][\u001b[1;32mDEBUG\u001b[0m] - R6/8:\u001b[1;32mtensor([[[ 10,  11],\n",
       "         [ 26,  27],\n",
       "         [ 42,  43],\n",
       "         [ 58,  59]],\n",
       "\n",
       "        [[ 84,  85],\n",
       "         [100, 101],\n",
       "         [116, 117],\n",
       "         [132, 133]]])\u001b[0m\n",
       "[2025-05-30 21:03:12,132][\u001b[1;36mtensorcraft.mpi.distributions.multi_axis_dist\u001b[0m][\u001b[1;35mapply_permute\u001b[0m][\u001b[1;32mDEBUG\u001b[0m] - R6/8:\u001b[1;32m6/8 - Creating cart\u001b[0m\n",
       "[2025-05-30 21:03:12,157][\u001b[1;36mtensorcraft.mpi.distributions.multi_axis_dist\u001b[0m][\u001b[1;35mapply_permute\u001b[0m][\u001b[1;32mDEBUG\u001b[0m] - R6/8:\u001b[1;32m6/6/8 - What's the target?\u001b[0m\n",
       "[2025-05-30 21:03:12,158][\u001b[1;36mtensorcraft.mpi.distributions.multi_axis_dist\u001b[0m][\u001b[1;35mapply_permute\u001b[0m][\u001b[1;32mDEBUG\u001b[0m] - R6/8:\u001b[1;32m6/6/8 - Current sub_midx [1, 1, 0]\u001b[0m\n",
       "[2025-05-30 21:03:12,158][\u001b[1;36mtensorcraft.mpi.distributions.multi_axis_dist\u001b[0m][\u001b[1;35mapply_permute\u001b[0m][\u001b[1;32mDEBUG\u001b[0m] - R6/8:\u001b[1;32m6/6/8 - Target sub_midx tensor([0, 1, 1])\u001b[0m\n",
       "[2025-05-30 21:03:12,159][\u001b[1;36mtensorcraft.mpi.distributions.multi_axis_dist\u001b[0m][\u001b[1;35mapply_permute\u001b[0m][\u001b[1;32mDEBUG\u001b[0m] - R6/8:\u001b[1;32m6/6/8 - Target sub_rank 3\u001b[0m\n",
       "[2025-05-30 21:03:12,169][\u001b[1;36mtensorcraft.mpi.mpi_utils\u001b[0m][\u001b[1;35mtensor2mpiBuffer\u001b[0m][\u001b[1;32mDEBUG\u001b[0m] - R6/8:\u001b[1;32mtensor_stride: (76, 16, 1)\u001b[0m\n",
       "[2025-05-30 21:03:12,169][\u001b[1;36mtensorcraft.mpi.mpi_utils\u001b[0m][\u001b[1;35mtensor2mpiBuffer\u001b[0m][\u001b[1;32mDEBUG\u001b[0m] - R6/8:\u001b[1;32mtensor_offset: 10\u001b[0m\n",
       "[2025-05-30 21:03:12,170][\u001b[1;36mtensorcraft.mpi.mpi_utils\u001b[0m][\u001b[1;35mtensor2mpiBuffer\u001b[0m][\u001b[1;32mDEBUG\u001b[0m] - R6/8:\u001b[1;32mtensor_shape: torch.Size([2, 4, 2])\u001b[0m\n",
       "[2025-05-30 21:03:12,170][\u001b[1;36mtensorcraft.mpi.mpi_utils\u001b[0m][\u001b[1;35mtensor2mpiBuffer\u001b[0m][\u001b[1;32mDEBUG\u001b[0m] - R6/8:\u001b[1;32mtensor_dtype: torch.int64\u001b[0m\n",
       "[2025-05-30 21:03:12,171][\u001b[1;36mtensorcraft.mpi.distributions.multi_axis_dist\u001b[0m][\u001b[1;35mapply_permute\u001b[0m][\u001b[1;32mDEBUG\u001b[0m] - R6/8:\u001b[1;32m6/6/8 - Different shape, a memory shame to rank 3\u001b[0m\n",
       "[2025-05-30 21:03:12,172][\u001b[1;36mtensorcraft.mpi.distributions.multi_axis_dist\u001b[0m][\u001b[1;35mapply_permute\u001b[0m][\u001b[1;32mDEBUG\u001b[0m] - R6/8:\u001b[1;32mtensor([[[ 10,  11],\n",
       "         [ 26,  27],\n",
       "         [ 42,  43],\n",
       "         [ 58,  59]],\n",
       "\n",
       "        [[ 84,  85],\n",
       "         [100, 101],\n",
       "         [116, 117],\n",
       "         [132, 133]]])\u001b[0m\n",
       "[2025-05-30 21:03:12,174][\u001b[1;36mtensorcraft.mpi.mpi_utils\u001b[0m][\u001b[1;35mtensor2mpiBuffer\u001b[0m][\u001b[1;32mDEBUG\u001b[0m] - R6/8:\u001b[1;32mtensor_stride: (8, 2, 1)\u001b[0m\n",
       "[2025-05-30 21:03:12,174][\u001b[1;36mtensorcraft.mpi.mpi_utils\u001b[0m][\u001b[1;35mtensor2mpiBuffer\u001b[0m][\u001b[1;32mDEBUG\u001b[0m] - R6/8:\u001b[1;32mtensor_offset: 0\u001b[0m\n",
       "[2025-05-30 21:03:12,175][\u001b[1;36mtensorcraft.mpi.mpi_utils\u001b[0m][\u001b[1;35mtensor2mpiBuffer\u001b[0m][\u001b[1;32mDEBUG\u001b[0m] - R6/8:\u001b[1;32mtensor_shape: torch.Size([2, 4, 2])\u001b[0m\n",
       "[2025-05-30 21:03:12,175][\u001b[1;36mtensorcraft.mpi.mpi_utils\u001b[0m][\u001b[1;35mtensor2mpiBuffer\u001b[0m][\u001b[1;32mDEBUG\u001b[0m] - R6/8:\u001b[1;32mtensor_dtype: torch.int64\u001b[0m\n",
       "[2025-05-30 21:03:12,176][\u001b[1;36mtensorcraft.mpi.mpi_utils\u001b[0m][\u001b[1;35mtensor2mpiBuffer\u001b[0m][\u001b[1;32mDEBUG\u001b[0m] - R6/8:\u001b[1;32mBest case scenario, it is contiguous!\u001b[0m\n"
      ]
     },
     "metadata": {},
     "output_type": "display_data"
    },
    {
     "data": {
      "text/plain": [
       "[stdout:7] [2025-05-30 21:03:12,133][\u001b[1;36mtensorcraft.mpi.distributions.multi_axis_dist\u001b[0m][\u001b[1;35mapply_permute\u001b[0m][\u001b[1;32mDEBUG\u001b[0m] - R7/8:\u001b[1;32mtensor([[[ 14,  15],\n",
       "         [ 30,  31],\n",
       "         [ 46,  47],\n",
       "         [ 62,  63]],\n",
       "\n",
       "        [[ 88,  89],\n",
       "         [104, 105],\n",
       "         [120, 121],\n",
       "         [136, 137]]])\u001b[0m\n",
       "[2025-05-30 21:03:12,135][\u001b[1;36mtensorcraft.mpi.distributions.multi_axis_dist\u001b[0m][\u001b[1;35mapply_permute\u001b[0m][\u001b[1;32mDEBUG\u001b[0m] - R7/8:\u001b[1;32m7/8 - Creating cart\u001b[0m\n",
       "[2025-05-30 21:03:12,157][\u001b[1;36mtensorcraft.mpi.distributions.multi_axis_dist\u001b[0m][\u001b[1;35mapply_permute\u001b[0m][\u001b[1;32mDEBUG\u001b[0m] - R7/8:\u001b[1;32m7/7/8 - What's the target?\u001b[0m\n",
       "[2025-05-30 21:03:12,158][\u001b[1;36mtensorcraft.mpi.distributions.multi_axis_dist\u001b[0m][\u001b[1;35mapply_permute\u001b[0m][\u001b[1;32mDEBUG\u001b[0m] - R7/8:\u001b[1;32m7/7/8 - Current sub_midx [1, 1, 1]\u001b[0m\n",
       "[2025-05-30 21:03:12,159][\u001b[1;36mtensorcraft.mpi.distributions.multi_axis_dist\u001b[0m][\u001b[1;35mapply_permute\u001b[0m][\u001b[1;32mDEBUG\u001b[0m] - R7/8:\u001b[1;32m7/7/8 - Target sub_midx tensor([1, 1, 1])\u001b[0m\n",
       "[2025-05-30 21:03:12,160][\u001b[1;36mtensorcraft.mpi.distributions.multi_axis_dist\u001b[0m][\u001b[1;35mapply_permute\u001b[0m][\u001b[1;32mDEBUG\u001b[0m] - R7/8:\u001b[1;32m7/7/8 - Target sub_rank 7\u001b[0m\n",
       "[2025-05-30 21:03:12,169][\u001b[1;36mtensorcraft.mpi.distributions.multi_axis_dist\u001b[0m][\u001b[1;35mapply_permute\u001b[0m][\u001b[1;32mDEBUG\u001b[0m] - R7/8:\u001b[1;32m7/8 - Barrier wait\u001b[0m\n"
      ]
     },
     "metadata": {},
     "output_type": "display_data"
    },
    {
     "data": {
      "text/plain": [
       "[stdout:5] [2025-05-30 21:03:12,134][\u001b[1;36mtensorcraft.mpi.distributions.multi_axis_dist\u001b[0m][\u001b[1;35mapply_permute\u001b[0m][\u001b[1;32mDEBUG\u001b[0m] - R5/8:\u001b[1;32mtensor([[[ 12,  13],\n",
       "         [ 28,  29],\n",
       "         [ 44,  45],\n",
       "         [ 60,  61]],\n",
       "\n",
       "        [[ 86,  87],\n",
       "         [102, 103],\n",
       "         [118, 119],\n",
       "         [134, 135]]])\u001b[0m\n",
       "[2025-05-30 21:03:12,138][\u001b[1;36mtensorcraft.mpi.distributions.multi_axis_dist\u001b[0m][\u001b[1;35mapply_permute\u001b[0m][\u001b[1;32mDEBUG\u001b[0m] - R5/8:\u001b[1;32m5/8 - Creating cart\u001b[0m\n",
       "[2025-05-30 21:03:12,161][\u001b[1;36mtensorcraft.mpi.distributions.multi_axis_dist\u001b[0m][\u001b[1;35mapply_permute\u001b[0m][\u001b[1;32mDEBUG\u001b[0m] - R5/8:\u001b[1;32m5/5/8 - What's the target?\u001b[0m\n",
       "[2025-05-30 21:03:12,163][\u001b[1;36mtensorcraft.mpi.distributions.multi_axis_dist\u001b[0m][\u001b[1;35mapply_permute\u001b[0m][\u001b[1;32mDEBUG\u001b[0m] - R5/8:\u001b[1;32m5/5/8 - Current sub_midx [1, 0, 1]\u001b[0m\n",
       "[2025-05-30 21:03:12,164][\u001b[1;36mtensorcraft.mpi.distributions.multi_axis_dist\u001b[0m][\u001b[1;35mapply_permute\u001b[0m][\u001b[1;32mDEBUG\u001b[0m] - R5/8:\u001b[1;32m5/5/8 - Target sub_midx tensor([1, 0, 1])\u001b[0m\n",
       "[2025-05-30 21:03:12,165][\u001b[1;36mtensorcraft.mpi.distributions.multi_axis_dist\u001b[0m][\u001b[1;35mapply_permute\u001b[0m][\u001b[1;32mDEBUG\u001b[0m] - R5/8:\u001b[1;32m5/5/8 - Target sub_rank 5\u001b[0m\n",
       "[2025-05-30 21:03:12,168][\u001b[1;36mtensorcraft.mpi.distributions.multi_axis_dist\u001b[0m][\u001b[1;35mapply_permute\u001b[0m][\u001b[1;32mDEBUG\u001b[0m] - R5/8:\u001b[1;32m5/8 - Barrier wait\u001b[0m\n"
      ]
     },
     "metadata": {},
     "output_type": "display_data"
    },
    {
     "data": {
      "text/plain": [
       "[stdout:0] [2025-05-30 21:03:12,130][\u001b[1;36mtensorcraft.mpi.distributions.multi_axis_dist\u001b[0m][\u001b[1;35mapply_permute\u001b[0m][\u001b[1;32mDEBUG\u001b[0m] - R0/8:\u001b[1;32mtensor([[[  0,   1],\n",
       "         [ 16,  17],\n",
       "         [ 32,  33],\n",
       "         [ 48,  49],\n",
       "         [ 64,  65]],\n",
       "\n",
       "        [[ 74,  75],\n",
       "         [ 90,  91],\n",
       "         [106, 107],\n",
       "         [122, 123],\n",
       "         [138, 139]]])\u001b[0m\n",
       "[2025-05-30 21:03:12,135][\u001b[1;36mtensorcraft.mpi.distributions.multi_axis_dist\u001b[0m][\u001b[1;35mapply_permute\u001b[0m][\u001b[1;32mDEBUG\u001b[0m] - R0/8:\u001b[1;32m0/8 - Creating cart\u001b[0m\n",
       "[2025-05-30 21:03:12,157][\u001b[1;36mtensorcraft.mpi.distributions.multi_axis_dist\u001b[0m][\u001b[1;35mapply_permute\u001b[0m][\u001b[1;32mDEBUG\u001b[0m] - R0/8:\u001b[1;32m0/0/8 - What's the target?\u001b[0m\n",
       "[2025-05-30 21:03:12,157][\u001b[1;36mtensorcraft.mpi.distributions.multi_axis_dist\u001b[0m][\u001b[1;35mapply_permute\u001b[0m][\u001b[1;32mDEBUG\u001b[0m] - R0/8:\u001b[1;32m0/0/8 - Current sub_midx [0, 0, 0]\u001b[0m\n",
       "[2025-05-30 21:03:12,159][\u001b[1;36mtensorcraft.mpi.distributions.multi_axis_dist\u001b[0m][\u001b[1;35mapply_permute\u001b[0m][\u001b[1;32mDEBUG\u001b[0m] - R0/8:\u001b[1;32m0/0/8 - Target sub_midx tensor([0, 0, 0])\u001b[0m\n",
       "[2025-05-30 21:03:12,160][\u001b[1;36mtensorcraft.mpi.distributions.multi_axis_dist\u001b[0m][\u001b[1;35mapply_permute\u001b[0m][\u001b[1;32mDEBUG\u001b[0m] - R0/8:\u001b[1;32m0/0/8 - Target sub_rank 0\u001b[0m\n",
       "[2025-05-30 21:03:12,168][\u001b[1;36mtensorcraft.mpi.distributions.multi_axis_dist\u001b[0m][\u001b[1;35mapply_permute\u001b[0m][\u001b[1;32mDEBUG\u001b[0m] - R0/8:\u001b[1;32m0/8 - Barrier wait\u001b[0m\n"
      ]
     },
     "metadata": {},
     "output_type": "display_data"
    },
    {
     "data": {
      "text/plain": [
       "[stdout:4] [2025-05-30 21:03:12,133][\u001b[1;36mtensorcraft.mpi.distributions.multi_axis_dist\u001b[0m][\u001b[1;35mapply_permute\u001b[0m][\u001b[1;32mDEBUG\u001b[0m] - R4/8:\u001b[1;32mtensor([[[  8,   9],\n",
       "         [ 24,  25],\n",
       "         [ 40,  41],\n",
       "         [ 56,  57],\n",
       "         [ 72,  73]],\n",
       "\n",
       "        [[ 82,  83],\n",
       "         [ 98,  99],\n",
       "         [114, 115],\n",
       "         [130, 131],\n",
       "         [146, 147]]])\u001b[0m\n",
       "[2025-05-30 21:03:12,134][\u001b[1;36mtensorcraft.mpi.distributions.multi_axis_dist\u001b[0m][\u001b[1;35mapply_permute\u001b[0m][\u001b[1;32mDEBUG\u001b[0m] - R4/8:\u001b[1;32m4/8 - Creating cart\u001b[0m\n",
       "[2025-05-30 21:03:12,157][\u001b[1;36mtensorcraft.mpi.distributions.multi_axis_dist\u001b[0m][\u001b[1;35mapply_permute\u001b[0m][\u001b[1;32mDEBUG\u001b[0m] - R4/8:\u001b[1;32m4/4/8 - What's the target?\u001b[0m\n",
       "[2025-05-30 21:03:12,158][\u001b[1;36mtensorcraft.mpi.distributions.multi_axis_dist\u001b[0m][\u001b[1;35mapply_permute\u001b[0m][\u001b[1;32mDEBUG\u001b[0m] - R4/8:\u001b[1;32m4/4/8 - Current sub_midx [1, 0, 0]\u001b[0m\n",
       "[2025-05-30 21:03:12,159][\u001b[1;36mtensorcraft.mpi.distributions.multi_axis_dist\u001b[0m][\u001b[1;35mapply_permute\u001b[0m][\u001b[1;32mDEBUG\u001b[0m] - R4/8:\u001b[1;32m4/4/8 - Target sub_midx tensor([0, 0, 1])\u001b[0m\n",
       "[2025-05-30 21:03:12,160][\u001b[1;36mtensorcraft.mpi.distributions.multi_axis_dist\u001b[0m][\u001b[1;35mapply_permute\u001b[0m][\u001b[1;32mDEBUG\u001b[0m] - R4/8:\u001b[1;32m4/4/8 - Target sub_rank 1\u001b[0m\n",
       "[2025-05-30 21:03:12,169][\u001b[1;36mtensorcraft.mpi.mpi_utils\u001b[0m][\u001b[1;35mtensor2mpiBuffer\u001b[0m][\u001b[1;32mDEBUG\u001b[0m] - R4/8:\u001b[1;32mtensor_stride: (76, 16, 1)\u001b[0m\n",
       "[2025-05-30 21:03:12,176][\u001b[1;36mtensorcraft.mpi.mpi_utils\u001b[0m][\u001b[1;35mtensor2mpiBuffer\u001b[0m][\u001b[1;32mDEBUG\u001b[0m] - R4/8:\u001b[1;32mtensor_offset: 8\u001b[0m\n",
       "[2025-05-30 21:03:12,177][\u001b[1;36mtensorcraft.mpi.mpi_utils\u001b[0m][\u001b[1;35mtensor2mpiBuffer\u001b[0m][\u001b[1;32mDEBUG\u001b[0m] - R4/8:\u001b[1;32mtensor_shape: torch.Size([2, 5, 2])\u001b[0m\n",
       "[2025-05-30 21:03:12,177][\u001b[1;36mtensorcraft.mpi.mpi_utils\u001b[0m][\u001b[1;35mtensor2mpiBuffer\u001b[0m][\u001b[1;32mDEBUG\u001b[0m] - R4/8:\u001b[1;32mtensor_dtype: torch.int64\u001b[0m\n",
       "[2025-05-30 21:03:12,178][\u001b[1;36mtensorcraft.mpi.distributions.multi_axis_dist\u001b[0m][\u001b[1;35mapply_permute\u001b[0m][\u001b[1;32mDEBUG\u001b[0m] - R4/8:\u001b[1;32m4/4/8 - Different shape, a memory shame to rank 1\u001b[0m\n",
       "[2025-05-30 21:03:12,178][\u001b[1;36mtensorcraft.mpi.distributions.multi_axis_dist\u001b[0m][\u001b[1;35mapply_permute\u001b[0m][\u001b[1;32mDEBUG\u001b[0m] - R4/8:\u001b[1;32mtensor([[[  8,   9],\n",
       "         [ 24,  25],\n",
       "         [ 40,  41],\n",
       "         [ 56,  57],\n",
       "         [ 72,  73]],\n",
       "\n",
       "        [[ 82,  83],\n",
       "         [ 98,  99],\n",
       "         [114, 115],\n",
       "         [130, 131],\n",
       "         [146, 147]]])\u001b[0m\n",
       "[2025-05-30 21:03:12,181][\u001b[1;36mtensorcraft.mpi.mpi_utils\u001b[0m][\u001b[1;35mtensor2mpiBuffer\u001b[0m][\u001b[1;32mDEBUG\u001b[0m] - R4/8:\u001b[1;32mtensor_stride: (10, 2, 1)\u001b[0m\n",
       "[2025-05-30 21:03:12,182][\u001b[1;36mtensorcraft.mpi.mpi_utils\u001b[0m][\u001b[1;35mtensor2mpiBuffer\u001b[0m][\u001b[1;32mDEBUG\u001b[0m] - R4/8:\u001b[1;32mtensor_offset: 0\u001b[0m\n",
       "[2025-05-30 21:03:12,183][\u001b[1;36mtensorcraft.mpi.mpi_utils\u001b[0m][\u001b[1;35mtensor2mpiBuffer\u001b[0m][\u001b[1;32mDEBUG\u001b[0m] - R4/8:\u001b[1;32mtensor_shape: torch.Size([2, 5, 2])\u001b[0m\n",
       "[2025-05-30 21:03:12,183][\u001b[1;36mtensorcraft.mpi.mpi_utils\u001b[0m][\u001b[1;35mtensor2mpiBuffer\u001b[0m][\u001b[1;32mDEBUG\u001b[0m] - R4/8:\u001b[1;32mtensor_dtype: torch.int64\u001b[0m\n",
       "[2025-05-30 21:03:12,183][\u001b[1;36mtensorcraft.mpi.mpi_utils\u001b[0m][\u001b[1;35mtensor2mpiBuffer\u001b[0m][\u001b[1;32mDEBUG\u001b[0m] - R4/8:\u001b[1;32mBest case scenario, it is contiguous!\u001b[0m\n",
       "[2025-05-30 21:03:12,184][\u001b[1;36mtensorcraft.mpi.distributions.multi_axis_dist\u001b[0m][\u001b[1;35mapply_permute\u001b[0m][\u001b[1;32mDEBUG\u001b[0m] - R4/8:\u001b[1;32mtensor([[[  4,   5],\n",
       "         [ 20,  21],\n",
       "         [ 36,  37],\n",
       "         [ 52,  53],\n",
       "         [ 68,  69]],\n",
       "\n",
       "        [[ 78,  79],\n",
       "         [ 94,  95],\n",
       "         [110, 111],\n",
       "         [126, 127],\n",
       "         [142, 143]]])\u001b[0m\n",
       "[2025-05-30 21:03:12,187][\u001b[1;36mtensorcraft.mpi.distributions.multi_axis_dist\u001b[0m][\u001b[1;35mapply_permute\u001b[0m][\u001b[1;32mDEBUG\u001b[0m] - R4/8:\u001b[1;32m4/8 - Barrier wait\u001b[0m\n"
      ]
     },
     "metadata": {},
     "output_type": "display_data"
    },
    {
     "data": {
      "text/plain": [
       "[stdout:3] [2025-05-30 21:03:12,136][\u001b[1;36mtensorcraft.mpi.distributions.multi_axis_dist\u001b[0m][\u001b[1;35mapply_permute\u001b[0m][\u001b[1;32mDEBUG\u001b[0m] - R3/8:\u001b[1;32mtensor([[[  6,   7],\n",
       "         [ 22,  23],\n",
       "         [ 38,  39],\n",
       "         [ 54,  55],\n",
       "         [ 70,  71]],\n",
       "\n",
       "        [[ 80,  81],\n",
       "         [ 96,  97],\n",
       "         [112, 113],\n",
       "         [128, 129],\n",
       "         [144, 145]]])\u001b[0m\n",
       "[2025-05-30 21:03:12,138][\u001b[1;36mtensorcraft.mpi.distributions.multi_axis_dist\u001b[0m][\u001b[1;35mapply_permute\u001b[0m][\u001b[1;32mDEBUG\u001b[0m] - R3/8:\u001b[1;32m3/8 - Creating cart\u001b[0m\n",
       "[2025-05-30 21:03:12,157][\u001b[1;36mtensorcraft.mpi.distributions.multi_axis_dist\u001b[0m][\u001b[1;35mapply_permute\u001b[0m][\u001b[1;32mDEBUG\u001b[0m] - R3/8:\u001b[1;32m3/3/8 - What's the target?\u001b[0m\n",
       "[2025-05-30 21:03:12,163][\u001b[1;36mtensorcraft.mpi.distributions.multi_axis_dist\u001b[0m][\u001b[1;35mapply_permute\u001b[0m][\u001b[1;32mDEBUG\u001b[0m] - R3/8:\u001b[1;32m3/3/8 - Current sub_midx [0, 1, 1]\u001b[0m\n",
       "[2025-05-30 21:03:12,164][\u001b[1;36mtensorcraft.mpi.distributions.multi_axis_dist\u001b[0m][\u001b[1;35mapply_permute\u001b[0m][\u001b[1;32mDEBUG\u001b[0m] - R3/8:\u001b[1;32m3/3/8 - Target sub_midx tensor([1, 1, 0])\u001b[0m\n",
       "[2025-05-30 21:03:12,166][\u001b[1;36mtensorcraft.mpi.distributions.multi_axis_dist\u001b[0m][\u001b[1;35mapply_permute\u001b[0m][\u001b[1;32mDEBUG\u001b[0m] - R3/8:\u001b[1;32m3/3/8 - Target sub_rank 6\u001b[0m\n",
       "[2025-05-30 21:03:12,169][\u001b[1;36mtensorcraft.mpi.mpi_utils\u001b[0m][\u001b[1;35mtensor2mpiBuffer\u001b[0m][\u001b[1;32mDEBUG\u001b[0m] - R3/8:\u001b[1;32mtensor_stride: (76, 16, 1)\u001b[0m\n",
       "[2025-05-30 21:03:12,171][\u001b[1;36mtensorcraft.mpi.mpi_utils\u001b[0m][\u001b[1;35mtensor2mpiBuffer\u001b[0m][\u001b[1;32mDEBUG\u001b[0m] - R3/8:\u001b[1;32mtensor_offset: 6\u001b[0m\n",
       "[2025-05-30 21:03:12,172][\u001b[1;36mtensorcraft.mpi.mpi_utils\u001b[0m][\u001b[1;35mtensor2mpiBuffer\u001b[0m][\u001b[1;32mDEBUG\u001b[0m] - R3/8:\u001b[1;32mtensor_shape: torch.Size([2, 5, 2])\u001b[0m\n",
       "[2025-05-30 21:03:12,174][\u001b[1;36mtensorcraft.mpi.mpi_utils\u001b[0m][\u001b[1;35mtensor2mpiBuffer\u001b[0m][\u001b[1;32mDEBUG\u001b[0m] - R3/8:\u001b[1;32mtensor_dtype: torch.int64\u001b[0m\n",
       "[2025-05-30 21:03:12,176][\u001b[1;36mtensorcraft.mpi.distributions.multi_axis_dist\u001b[0m][\u001b[1;35mapply_permute\u001b[0m][\u001b[1;32mDEBUG\u001b[0m] - R3/8:\u001b[1;32m3/3/8 - Different shape, a memory shame to rank 6\u001b[0m\n",
       "[2025-05-30 21:03:12,177][\u001b[1;36mtensorcraft.mpi.distributions.multi_axis_dist\u001b[0m][\u001b[1;35mapply_permute\u001b[0m][\u001b[1;32mDEBUG\u001b[0m] - R3/8:\u001b[1;32mtensor([[[  6,   7],\n",
       "         [ 22,  23],\n",
       "         [ 38,  39],\n",
       "         [ 54,  55],\n",
       "         [ 70,  71]],\n",
       "\n",
       "        [[ 80,  81],\n",
       "         [ 96,  97],\n",
       "         [112, 113],\n",
       "         [128, 129],\n",
       "         [144, 145]]])\u001b[0m\n",
       "[2025-05-30 21:03:12,181][\u001b[1;36mtensorcraft.mpi.mpi_utils\u001b[0m][\u001b[1;35mtensor2mpiBuffer\u001b[0m][\u001b[1;32mDEBUG\u001b[0m] - R3/8:\u001b[1;32mtensor_stride: (8, 2, 1)\u001b[0m\n",
       "[2025-05-30 21:03:12,183][\u001b[1;36mtensorcraft.mpi.mpi_utils\u001b[0m][\u001b[1;35mtensor2mpiBuffer\u001b[0m][\u001b[1;32mDEBUG\u001b[0m] - R3/8:\u001b[1;32mtensor_offset: 0\u001b[0m\n",
       "[2025-05-30 21:03:12,185][\u001b[1;36mtensorcraft.mpi.mpi_utils\u001b[0m][\u001b[1;35mtensor2mpiBuffer\u001b[0m][\u001b[1;32mDEBUG\u001b[0m] - R3/8:\u001b[1;32mtensor_shape: torch.Size([2, 4, 2])\u001b[0m\n",
       "[2025-05-30 21:03:12,187][\u001b[1;36mtensorcraft.mpi.mpi_utils\u001b[0m][\u001b[1;35mtensor2mpiBuffer\u001b[0m][\u001b[1;32mDEBUG\u001b[0m] - R3/8:\u001b[1;32mtensor_dtype: torch.int64\u001b[0m\n",
       "[2025-05-30 21:03:12,189][\u001b[1;36mtensorcraft.mpi.mpi_utils\u001b[0m][\u001b[1;35mtensor2mpiBuffer\u001b[0m][\u001b[1;32mDEBUG\u001b[0m] - R3/8:\u001b[1;32mBest case scenario, it is contiguous!\u001b[0m\n",
       "[2025-05-30 21:03:12,191][\u001b[1;36mtensorcraft.mpi.distributions.multi_axis_dist\u001b[0m][\u001b[1;35mapply_permute\u001b[0m][\u001b[1;32mDEBUG\u001b[0m] - R3/8:\u001b[1;32mtensor([[[ 10,  11],\n",
       "         [ 26,  27],\n",
       "         [ 42,  43],\n",
       "         [ 58,  59]],\n",
       "\n",
       "        [[ 84,  85],\n",
       "         [100, 101],\n",
       "         [116, 117],\n",
       "         [132, 133]]])\u001b[0m\n",
       "[2025-05-30 21:03:12,194][\u001b[1;36mtensorcraft.mpi.distributions.multi_axis_dist\u001b[0m][\u001b[1;35mapply_permute\u001b[0m][\u001b[1;32mDEBUG\u001b[0m] - R3/8:\u001b[1;32m3/8 - Barrier wait\u001b[0m\n"
      ]
     },
     "metadata": {},
     "output_type": "display_data"
    },
    {
     "name": "stderr",
     "output_type": "stream",
     "text": [
      "[6:execute]\n",
      "\u001b[0;31m---------------------------------------------------------------------------\u001b[0m\n",
      "\u001b[0;31mException\u001b[0m                                 Traceback (most recent call last)\n",
      "Cell \u001b[0;32mIn[4], line 1\u001b[0m\n",
      "\u001b[0;32m----> 1\u001b[0m new_dist, new_local \u001b[38;5;241m=\u001b[39m \u001b[43mdist\u001b[49m\u001b[38;5;241;43m.\u001b[39;49m\u001b[43mapply_permute\u001b[49m\u001b[43m(\u001b[49m\u001b[43mx\u001b[49m\u001b[38;5;241;43m.\u001b[39;49m\u001b[43mshape\u001b[49m\u001b[43m,\u001b[49m\u001b[43m \u001b[49m\u001b[43mx_local\u001b[49m\u001b[43m,\u001b[49m\u001b[43m \u001b[49m\u001b[43mcomm\u001b[49m\u001b[43m,\u001b[49m\u001b[43m \u001b[49m\u001b[43mmesh_dims\u001b[49m\u001b[38;5;241;43m=\u001b[39;49m\u001b[43m[\u001b[49m\u001b[38;5;241;43m0\u001b[39;49m\u001b[43m,\u001b[49m\u001b[38;5;241;43m1\u001b[39;49m\u001b[43m]\u001b[49m\u001b[43m)\u001b[49m\n",
      "\u001b[1;32m      2\u001b[0m new_local\n",
      "\n",
      "File \u001b[0;32m~/code/tensorcraft/tensorcraft/mpi/distributions/multi_axis_dist.py:569\u001b[0m, in \u001b[0;36mMPIMultiAxisDist.apply_permute\u001b[0;34m(self, global_shape, local_tensor, comm, mesh_dims)\u001b[0m\n",
      "\u001b[1;32m    566\u001b[0m target_tensor \u001b[38;5;241m=\u001b[39m torch\u001b[38;5;241m.\u001b[39mempty(expected_shape, dtype\u001b[38;5;241m=\u001b[39mlocal_tensor\u001b[38;5;241m.\u001b[39mdtype)\n",
      "\u001b[1;32m    567\u001b[0m target_buffer \u001b[38;5;241m=\u001b[39m tensor2mpiBuffer(target_tensor)\n",
      "\u001b[0;32m--> 569\u001b[0m \u001b[43msub_comm\u001b[49m\u001b[38;5;241;43m.\u001b[39;49m\u001b[43mSendrecv\u001b[49m\u001b[43m(\u001b[49m\u001b[43mbuffer_tuple\u001b[49m\u001b[43m,\u001b[49m\u001b[43m \u001b[49m\u001b[43mdest\u001b[49m\u001b[38;5;241;43m=\u001b[39;49m\u001b[43mtarget_sub_rank\u001b[49m\u001b[43m,\u001b[49m\u001b[43m \u001b[49m\u001b[43mrecvbuf\u001b[49m\u001b[38;5;241;43m=\u001b[39;49m\u001b[43mtarget_tensor\u001b[49m\u001b[43m)\u001b[49m\n",
      "\u001b[1;32m    570\u001b[0m log\u001b[38;5;241m.\u001b[39mdebug(target_tensor)\n",
      "\u001b[1;32m    572\u001b[0m local_tensor \u001b[38;5;241m=\u001b[39m target_tensor\n",
      "\n",
      "File \u001b[0;32msrc/mpi4py/MPI.src/Comm.pyx:470\u001b[0m, in \u001b[0;36mmpi4py.MPI.Comm.Sendrecv\u001b[0;34m()\u001b[0m\n",
      "\n",
      "\u001b[0;31mException\u001b[0m: MPI_ERR_TRUNCATE: message truncated\n"
     ]
    },
    {
     "data": {
      "application/vnd.jupyter.widget-view+json": {
       "model_id": "28cab35f25f8427a821b76ef77e03e6d",
       "version_major": 2,
       "version_minor": 0
      },
      "text/plain": [
       "%px:   0%|          | 0/8 [00:00<?, ?tasks/s]"
      ]
     },
     "metadata": {},
     "output_type": "display_data"
    },
    {
     "name": "stderr",
     "output_type": "stream",
     "text": [
      "Received Keyboard Interrupt. Sending signal SIGINT to engines...\n"
     ]
    },
    {
     "ename": "",
     "evalue": "",
     "output_type": "error",
     "traceback": [
      "\u001b[1;31mCannot execute code, session has been disposed. Please try restarting the Kernel."
     ]
    },
    {
     "ename": "",
     "evalue": "",
     "output_type": "error",
     "traceback": [
      "\u001b[1;31mCannot execute code, session has been disposed. Please try restarting the Kernel. \n",
      "\u001b[1;31mView Jupyter <a href='command:jupyter.viewOutput'>log</a> for further details."
     ]
    }
   ],
   "source": [
    "%%px\n",
    "new_dist, new_local = dist.apply_permute(x.shape, x_local, comm, mesh_dims=[0,1])\n",
    "new_local"
   ]
  },
  {
   "cell_type": "code",
   "execution_count": null,
   "metadata": {},
   "outputs": [
    {
     "data": {
      "text/plain": [
       "[stdout:2] [2025-05-30 20:33:50,980][\u001b[1;36mtensorcraft.mpi.distributions.multi_axis_dist\u001b[0m][\u001b[1;35mapply\u001b[0m][\u001b[1;32mDEBUG\u001b[0m] - R2/8:\u001b[1;32mProcessor multi index: torch.Size([0, 1, 0])\u001b[0m\n",
       "[2025-05-30 20:33:50,980][\u001b[1;36m\u001b[1;36mtensorcraft.mpi.distributions.multi_axis_dist\u001b[0m\u001b[0m][\u001b[1;35m\u001b[1;35mapply\u001b[0m\u001b[0m][\u001b[1;30m\u001b[1;32mDEBUG\u001b[0m\u001b[0m] - R2/8:\u001b[1;30m\u001b[1;32mProcessor multi index: torch.Size([0, 1, 0])\u001b[0m\u001b[0m\n",
       "[2025-05-30 20:33:50,980][\u001b[1;36m\u001b[1;36m\u001b[1;36mtensorcraft.mpi.distributions.multi_axis_dist\u001b[0m\u001b[0m\u001b[0m][\u001b[1;35m\u001b[1;35m\u001b[1;35mapply\u001b[0m\u001b[0m\u001b[0m][\u001b[1;30m\u001b[1;30m\u001b[1;32mDEBUG\u001b[0m\u001b[0m\u001b[0m] - R2/8:\u001b[1;30m\u001b[1;30m\u001b[1;32mProcessor multi index: torch.Size([0, 1, 0])\u001b[0m\u001b[0m\u001b[0m\n",
       "[2025-05-30 20:33:50,990][\u001b[1;36mtensorcraft.mpi.distributions.multi_axis_dist\u001b[0m][\u001b[1;35mapply\u001b[0m][\u001b[1;32mDEBUG\u001b[0m] - R2/8:\u001b[1;32mMissing elements: [1, 2]\u001b[0m\n",
       "[2025-05-30 20:33:50,990][\u001b[1;36m\u001b[1;36mtensorcraft.mpi.distributions.multi_axis_dist\u001b[0m\u001b[0m][\u001b[1;35m\u001b[1;35mapply\u001b[0m\u001b[0m][\u001b[1;30m\u001b[1;32mDEBUG\u001b[0m\u001b[0m] - R2/8:\u001b[1;30m\u001b[1;32mMissing elements: [1, 2]\u001b[0m\u001b[0m\n",
       "[2025-05-30 20:33:50,990][\u001b[1;36m\u001b[1;36m\u001b[1;36mtensorcraft.mpi.distributions.multi_axis_dist\u001b[0m\u001b[0m\u001b[0m][\u001b[1;35m\u001b[1;35m\u001b[1;35mapply\u001b[0m\u001b[0m\u001b[0m][\u001b[1;30m\u001b[1;30m\u001b[1;32mDEBUG\u001b[0m\u001b[0m\u001b[0m] - R2/8:\u001b[1;30m\u001b[1;30m\u001b[1;32mMissing elements: [1, 2]\u001b[0m\u001b[0m\u001b[0m\n",
       "[2025-05-30 20:33:50,995][\u001b[1;36mtensorcraft.mpi.distributions.multi_axis_dist\u001b[0m][\u001b[1;35mapply\u001b[0m][\u001b[1;32mDEBUG\u001b[0m] - R2/8:\u001b[1;32mN blocks per axis: [2, 10]\u001b[0m\n",
       "[2025-05-30 20:33:50,995][\u001b[1;36m\u001b[1;36mtensorcraft.mpi.distributions.multi_axis_dist\u001b[0m\u001b[0m][\u001b[1;35m\u001b[1;35mapply\u001b[0m\u001b[0m][\u001b[1;30m\u001b[1;32mDEBUG\u001b[0m\u001b[0m] - R2/8:\u001b[1;30m\u001b[1;32mN blocks per axis: [2, 10]\u001b[0m\u001b[0m\n",
       "[2025-05-30 20:33:50,995][\u001b[1;36m\u001b[1;36m\u001b[1;36mtensorcraft.mpi.distributions.multi_axis_dist\u001b[0m\u001b[0m\u001b[0m][\u001b[1;35m\u001b[1;35m\u001b[1;35mapply\u001b[0m\u001b[0m\u001b[0m][\u001b[1;30m\u001b[1;30m\u001b[1;32mDEBUG\u001b[0m\u001b[0m\u001b[0m] - R2/8:\u001b[1;30m\u001b[1;30m\u001b[1;32mN blocks per axis: [2, 10]\u001b[0m\u001b[0m\u001b[0m\n",
       "[2025-05-30 20:33:50,997][\u001b[1;36mtensorcraft.mpi.distributions.multi_axis_dist\u001b[0m][\u001b[1;35mapply\u001b[0m][\u001b[1;32mDEBUG\u001b[0m] - R2/8:\u001b[1;32mPadded tensor shape: torch.Size([3, 22])\u001b[0m\n",
       "[2025-05-30 20:33:50,997][\u001b[1;36m\u001b[1;36mtensorcraft.mpi.distributions.multi_axis_dist\u001b[0m\u001b[0m][\u001b[1;35m\u001b[1;35mapply\u001b[0m\u001b[0m][\u001b[1;30m\u001b[1;32mDEBUG\u001b[0m\u001b[0m] - R2/8:\u001b[1;30m\u001b[1;32mPadded tensor shape: torch.Size([3, 22])\u001b[0m\u001b[0m\n",
       "[2025-05-30 20:33:50,997][\u001b[1;36m\u001b[1;36m\u001b[1;36mtensorcraft.mpi.distributions.multi_axis_dist\u001b[0m\u001b[0m\u001b[0m][\u001b[1;35m\u001b[1;35m\u001b[1;35mapply\u001b[0m\u001b[0m\u001b[0m][\u001b[1;30m\u001b[1;30m\u001b[1;32mDEBUG\u001b[0m\u001b[0m\u001b[0m] - R2/8:\u001b[1;30m\u001b[1;30m\u001b[1;32mPadded tensor shape: torch.Size([3, 22])\u001b[0m\u001b[0m\u001b[0m\n",
       "[2025-05-30 20:33:51,002][\u001b[1;36mtensorcraft.mpi.distributions.multi_axis_dist\u001b[0m][\u001b[1;35mapply\u001b[0m][\u001b[1;32mDEBUG\u001b[0m] - R2/8:\u001b[1;32mPermute tuple: (0, 2, 1, 3)\u001b[0m\n",
       "[2025-05-30 20:33:51,002][\u001b[1;36m\u001b[1;36mtensorcraft.mpi.distributions.multi_axis_dist\u001b[0m\u001b[0m][\u001b[1;35m\u001b[1;35mapply\u001b[0m\u001b[0m][\u001b[1;30m\u001b[1;32mDEBUG\u001b[0m\u001b[0m] - R2/8:\u001b[1;30m\u001b[1;32mPermute tuple: (0, 2, 1, 3)\u001b[0m\u001b[0m\n",
       "[2025-05-30 20:33:51,002][\u001b[1;36m\u001b[1;36m\u001b[1;36mtensorcraft.mpi.distributions.multi_axis_dist\u001b[0m\u001b[0m\u001b[0m][\u001b[1;35m\u001b[1;35m\u001b[1;35mapply\u001b[0m\u001b[0m\u001b[0m][\u001b[1;30m\u001b[1;30m\u001b[1;32mDEBUG\u001b[0m\u001b[0m\u001b[0m] - R2/8:\u001b[1;30m\u001b[1;30m\u001b[1;32mPermute tuple: (0, 2, 1, 3)\u001b[0m\u001b[0m\u001b[0m\n",
       "[2025-05-30 20:33:51,004][\u001b[1;36mtensorcraft.mpi.distributions.multi_axis_dist\u001b[0m][\u001b[1;35mapply\u001b[0m][\u001b[1;32mDEBUG\u001b[0m] - R2/8:\u001b[1;32mReshape tuple: [3, 1, 11, 2]\u001b[0m\n",
       "[2025-05-30 20:33:51,004][\u001b[1;36m\u001b[1;36mtensorcraft.mpi.distributions.multi_axis_dist\u001b[0m\u001b[0m][\u001b[1;35m\u001b[1;35mapply\u001b[0m\u001b[0m][\u001b[1;30m\u001b[1;32mDEBUG\u001b[0m\u001b[0m] - R2/8:\u001b[1;30m\u001b[1;32mReshape tuple: [3, 1, 11, 2]\u001b[0m\u001b[0m\n",
       "[2025-05-30 20:33:51,004][\u001b[1;36m\u001b[1;36m\u001b[1;36mtensorcraft.mpi.distributions.multi_axis_dist\u001b[0m\u001b[0m\u001b[0m][\u001b[1;35m\u001b[1;35m\u001b[1;35mapply\u001b[0m\u001b[0m\u001b[0m][\u001b[1;30m\u001b[1;30m\u001b[1;32mDEBUG\u001b[0m\u001b[0m\u001b[0m] - R2/8:\u001b[1;30m\u001b[1;30m\u001b[1;32mReshape tuple: [3, 1, 11, 2]\u001b[0m\u001b[0m\u001b[0m\n",
       "[2025-05-30 20:33:51,009][\u001b[1;36mtensorcraft.mpi.distributions.multi_axis_dist\u001b[0m][\u001b[1;35mapply\u001b[0m][\u001b[1;32mDEBUG\u001b[0m] - R2/8:\u001b[1;32mTile Slices: [slice(tensor(1), None, 2), slice(None, None, None), slice(tensor(0), None, 4), slice(None, None, None)]\u001b[0m\n",
       "[2025-05-30 20:33:51,009][\u001b[1;36m\u001b[1;36mtensorcraft.mpi.distributions.multi_axis_dist\u001b[0m\u001b[0m][\u001b[1;35m\u001b[1;35mapply\u001b[0m\u001b[0m][\u001b[1;30m\u001b[1;32mDEBUG\u001b[0m\u001b[0m] - R2/8:\u001b[1;30m\u001b[1;32mTile Slices: [slice(tensor(1), None, 2), slice(None, None, None), slice(tensor(0), None, 4), slice(None, None, None)]\u001b[0m\u001b[0m\n",
       "[2025-05-30 20:33:51,009][\u001b[1;36m\u001b[1;36m\u001b[1;36mtensorcraft.mpi.distributions.multi_axis_dist\u001b[0m\u001b[0m\u001b[0m][\u001b[1;35m\u001b[1;35m\u001b[1;35mapply\u001b[0m\u001b[0m\u001b[0m][\u001b[1;30m\u001b[1;30m\u001b[1;32mDEBUG\u001b[0m\u001b[0m\u001b[0m] - R2/8:\u001b[1;30m\u001b[1;30m\u001b[1;32mTile Slices: [slice(tensor(1), None, 2), slice(None, None, None), slice(tensor(0), None, 4), slice(None, None, None)]\u001b[0m\u001b[0m\u001b[0m\n",
       "[2025-05-30 20:33:51,015][\u001b[1;36mtensorcraft.mpi.distributions.multi_axis_dist\u001b[0m][\u001b[1;35mapply\u001b[0m][\u001b[1;32mDEBUG\u001b[0m] - R2/8:\u001b[1;32mLocal tensor shape: torch.Size([1, 1, 3, 2])\u001b[0m\n",
       "[2025-05-30 20:33:51,015][\u001b[1;36m\u001b[1;36mtensorcraft.mpi.distributions.multi_axis_dist\u001b[0m\u001b[0m][\u001b[1;35m\u001b[1;35mapply\u001b[0m\u001b[0m][\u001b[1;30m\u001b[1;32mDEBUG\u001b[0m\u001b[0m] - R2/8:\u001b[1;30m\u001b[1;32mLocal tensor shape: torch.Size([1, 1, 3, 2])\u001b[0m\u001b[0m\n",
       "[2025-05-30 20:33:51,015][\u001b[1;36m\u001b[1;36m\u001b[1;36mtensorcraft.mpi.distributions.multi_axis_dist\u001b[0m\u001b[0m\u001b[0m][\u001b[1;35m\u001b[1;35m\u001b[1;35mapply\u001b[0m\u001b[0m\u001b[0m][\u001b[1;30m\u001b[1;30m\u001b[1;32mDEBUG\u001b[0m\u001b[0m\u001b[0m] - R2/8:\u001b[1;30m\u001b[1;30m\u001b[1;32mLocal tensor shape: torch.Size([1, 1, 3, 2])\u001b[0m\u001b[0m\u001b[0m\n",
       "[2025-05-30 20:33:51,017][\u001b[1;36mtensorcraft.mpi.distributions.multi_axis_dist\u001b[0m][\u001b[1;35mapply\u001b[0m][\u001b[1;32mDEBUG\u001b[0m] - R2/8:\u001b[1;32mTarget local tensor shape: [1, 6]\u001b[0m\n",
       "[2025-05-30 20:33:51,017][\u001b[1;36m\u001b[1;36mtensorcraft.mpi.distributions.multi_axis_dist\u001b[0m\u001b[0m][\u001b[1;35m\u001b[1;35mapply\u001b[0m\u001b[0m][\u001b[1;30m\u001b[1;32mDEBUG\u001b[0m\u001b[0m] - R2/8:\u001b[1;30m\u001b[1;32mTarget local tensor shape: [1, 6]\u001b[0m\u001b[0m\n",
       "[2025-05-30 20:33:51,017][\u001b[1;36m\u001b[1;36m\u001b[1;36mtensorcraft.mpi.distributions.multi_axis_dist\u001b[0m\u001b[0m\u001b[0m][\u001b[1;35m\u001b[1;35m\u001b[1;35mapply\u001b[0m\u001b[0m\u001b[0m][\u001b[1;30m\u001b[1;30m\u001b[1;32mDEBUG\u001b[0m\u001b[0m\u001b[0m] - R2/8:\u001b[1;30m\u001b[1;30m\u001b[1;32mTarget local tensor shape: [1, 6]\u001b[0m\u001b[0m\u001b[0m\n",
       "[2025-05-30 20:33:51,019][\u001b[1;36mtensorcraft.mpi.distributions.multi_axis_dist\u001b[0m][\u001b[1;35mapply\u001b[0m][\u001b[1;32mDEBUG\u001b[0m] - R2/8:\u001b[1;32mtensor([[20, 21, 28, 29, 36, 37]])\u001b[0m\n",
       "[2025-05-30 20:33:51,019][\u001b[1;36m\u001b[1;36mtensorcraft.mpi.distributions.multi_axis_dist\u001b[0m\u001b[0m][\u001b[1;35m\u001b[1;35mapply\u001b[0m\u001b[0m][\u001b[1;30m\u001b[1;32mDEBUG\u001b[0m\u001b[0m] - R2/8:\u001b[1;30m\u001b[1;32mtensor([[20, 21, 28, 29, 36, 37]])\u001b[0m\u001b[0m\n",
       "[2025-05-30 20:33:51,019][\u001b[1;36m\u001b[1;36m\u001b[1;36mtensorcraft.mpi.distributions.multi_axis_dist\u001b[0m\u001b[0m\u001b[0m][\u001b[1;35m\u001b[1;35m\u001b[1;35mapply\u001b[0m\u001b[0m\u001b[0m][\u001b[1;30m\u001b[1;30m\u001b[1;32mDEBUG\u001b[0m\u001b[0m\u001b[0m] - R2/8:\u001b[1;30m\u001b[1;30m\u001b[1;32mtensor([[20, 21, 28, 29, 36, 37]])\u001b[0m\u001b[0m\u001b[0m\n",
       "[2025-05-30 20:33:51,023][\u001b[1;36mtensorcraft.mpi.distributions.multi_axis_dist\u001b[0m][\u001b[1;35mapply\u001b[0m][\u001b[1;32mDEBUG\u001b[0m] - R2/8:\u001b[1;32mLinear processor index: 1, Residue: 1, Block size: 1, axis: 0, N procs: 2, N full blocks: 2\u001b[0m\n",
       "[2025-05-30 20:33:51,023][\u001b[1;36m\u001b[1;36mtensorcraft.mpi.distributions.multi_axis_dist\u001b[0m\u001b[0m][\u001b[1;35m\u001b[1;35mapply\u001b[0m\u001b[0m][\u001b[1;30m\u001b[1;32mDEBUG\u001b[0m\u001b[0m] - R2/8:\u001b[1;30m\u001b[1;32mLinear processor index: 1, Residue: 1, Block size: 1, axis: 0, N procs: 2, N full blocks: 2\u001b[0m\u001b[0m\n",
       "[2025-05-30 20:33:51,023][\u001b[1;36m\u001b[1;36m\u001b[1;36mtensorcraft.mpi.distributions.multi_axis_dist\u001b[0m\u001b[0m\u001b[0m][\u001b[1;35m\u001b[1;35m\u001b[1;35mapply\u001b[0m\u001b[0m\u001b[0m][\u001b[1;30m\u001b[1;30m\u001b[1;32mDEBUG\u001b[0m\u001b[0m\u001b[0m] - R2/8:\u001b[1;30m\u001b[1;30m\u001b[1;32mLinear processor index: 1, Residue: 1, Block size: 1, axis: 0, N procs: 2, N full blocks: 2\u001b[0m\u001b[0m\u001b[0m\n",
       "[2025-05-30 20:33:51,025][\u001b[1;36mtensorcraft.mpi.distributions.multi_axis_dist\u001b[0m][\u001b[1;35mapply\u001b[0m][\u001b[1;32mDEBUG\u001b[0m] - R2/8:\u001b[1;32mLinear processor index: 0, Residue: 2, Block size: 2, axis: 1, N procs: 4, N full blocks: 10\u001b[0m\n",
       "[2025-05-30 20:33:51,025][\u001b[1;36m\u001b[1;36mtensorcraft.mpi.distributions.multi_axis_dist\u001b[0m\u001b[0m][\u001b[1;35m\u001b[1;35mapply\u001b[0m\u001b[0m][\u001b[1;30m\u001b[1;32mDEBUG\u001b[0m\u001b[0m] - R2/8:\u001b[1;30m\u001b[1;32mLinear processor index: 0, Residue: 2, Block size: 2, axis: 1, N procs: 4, N full blocks: 10\u001b[0m\u001b[0m\n",
       "[2025-05-30 20:33:51,025][\u001b[1;36m\u001b[1;36m\u001b[1;36mtensorcraft.mpi.distributions.multi_axis_dist\u001b[0m\u001b[0m\u001b[0m][\u001b[1;35m\u001b[1;35m\u001b[1;35mapply\u001b[0m\u001b[0m\u001b[0m][\u001b[1;30m\u001b[1;30m\u001b[1;32mDEBUG\u001b[0m\u001b[0m\u001b[0m] - R2/8:\u001b[1;30m\u001b[1;30m\u001b[1;32mLinear processor index: 0, Residue: 2, Block size: 2, axis: 1, N procs: 4, N full blocks: 10\u001b[0m\u001b[0m\u001b[0m\n",
       "[2025-05-30 20:33:51,028][\u001b[1;36mtensorcraft.mpi.distributions.multi_axis_dist\u001b[0m][\u001b[1;35mapply\u001b[0m][\u001b[1;32mDEBUG\u001b[0m] - R2/8:\u001b[1;32mShaved slices: [slice(None, None, None), slice(None, None, None)]\u001b[0m\n",
       "[2025-05-30 20:33:51,028][\u001b[1;36m\u001b[1;36mtensorcraft.mpi.distributions.multi_axis_dist\u001b[0m\u001b[0m][\u001b[1;35m\u001b[1;35mapply\u001b[0m\u001b[0m][\u001b[1;30m\u001b[1;32mDEBUG\u001b[0m\u001b[0m] - R2/8:\u001b[1;30m\u001b[1;32mShaved slices: [slice(None, None, None), slice(None, None, None)]\u001b[0m\u001b[0m\n",
       "[2025-05-30 20:33:51,028][\u001b[1;36m\u001b[1;36m\u001b[1;36mtensorcraft.mpi.distributions.multi_axis_dist\u001b[0m\u001b[0m\u001b[0m][\u001b[1;35m\u001b[1;35m\u001b[1;35mapply\u001b[0m\u001b[0m\u001b[0m][\u001b[1;30m\u001b[1;30m\u001b[1;32mDEBUG\u001b[0m\u001b[0m\u001b[0m] - R2/8:\u001b[1;30m\u001b[1;30m\u001b[1;32mShaved slices: [slice(None, None, None), slice(None, None, None)]\u001b[0m\u001b[0m\u001b[0m\n",
       "[2025-05-30 20:33:51,030][\u001b[1;36mtensorcraft.mpi.distributions.multi_axis_dist\u001b[0m][\u001b[1;35mapply\u001b[0m][\u001b[1;32mDEBUG\u001b[0m] - R2/8:\u001b[1;32mFinal local tensor shape: torch.Size([1, 6])\u001b[0m\n",
       "[2025-05-30 20:33:51,030][\u001b[1;36m\u001b[1;36mtensorcraft.mpi.distributions.multi_axis_dist\u001b[0m\u001b[0m][\u001b[1;35m\u001b[1;35mapply\u001b[0m\u001b[0m][\u001b[1;30m\u001b[1;32mDEBUG\u001b[0m\u001b[0m] - R2/8:\u001b[1;30m\u001b[1;32mFinal local tensor shape: torch.Size([1, 6])\u001b[0m\u001b[0m\n",
       "[2025-05-30 20:33:51,030][\u001b[1;36m\u001b[1;36m\u001b[1;36mtensorcraft.mpi.distributions.multi_axis_dist\u001b[0m\u001b[0m\u001b[0m][\u001b[1;35m\u001b[1;35m\u001b[1;35mapply\u001b[0m\u001b[0m\u001b[0m][\u001b[1;30m\u001b[1;30m\u001b[1;32mDEBUG\u001b[0m\u001b[0m\u001b[0m] - R2/8:\u001b[1;30m\u001b[1;30m\u001b[1;32mFinal local tensor shape: torch.Size([1, 6])\u001b[0m\u001b[0m\u001b[0m\n"
      ]
     },
     "metadata": {},
     "output_type": "display_data"
    },
    {
     "data": {
      "text/plain": [
       "[stdout:0] [2025-05-30 20:33:50,982][\u001b[1;36mtensorcraft.mpi.distributions.multi_axis_dist\u001b[0m][\u001b[1;35mapply\u001b[0m][\u001b[1;32mDEBUG\u001b[0m] - R0/8:\u001b[1;32mProcessor multi index: torch.Size([0, 0, 0])\u001b[0m\n",
       "[2025-05-30 20:33:50,982][\u001b[1;36m\u001b[1;36mtensorcraft.mpi.distributions.multi_axis_dist\u001b[0m\u001b[0m][\u001b[1;35m\u001b[1;35mapply\u001b[0m\u001b[0m][\u001b[1;30m\u001b[1;32mDEBUG\u001b[0m\u001b[0m] - R0/8:\u001b[1;30m\u001b[1;32mProcessor multi index: torch.Size([0, 0, 0])\u001b[0m\u001b[0m\n",
       "[2025-05-30 20:33:50,982][\u001b[1;36m\u001b[1;36m\u001b[1;36mtensorcraft.mpi.distributions.multi_axis_dist\u001b[0m\u001b[0m\u001b[0m][\u001b[1;35m\u001b[1;35m\u001b[1;35mapply\u001b[0m\u001b[0m\u001b[0m][\u001b[1;30m\u001b[1;30m\u001b[1;32mDEBUG\u001b[0m\u001b[0m\u001b[0m] - R0/8:\u001b[1;30m\u001b[1;30m\u001b[1;32mProcessor multi index: torch.Size([0, 0, 0])\u001b[0m\u001b[0m\u001b[0m\n",
       "[2025-05-30 20:33:50,985][\u001b[1;36mtensorcraft.mpi.distributions.multi_axis_dist\u001b[0m][\u001b[1;35mapply\u001b[0m][\u001b[1;32mDEBUG\u001b[0m] - R0/8:\u001b[1;32mMissing elements: [1, 2]\u001b[0m\n",
       "[2025-05-30 20:33:50,985][\u001b[1;36m\u001b[1;36mtensorcraft.mpi.distributions.multi_axis_dist\u001b[0m\u001b[0m][\u001b[1;35m\u001b[1;35mapply\u001b[0m\u001b[0m][\u001b[1;30m\u001b[1;32mDEBUG\u001b[0m\u001b[0m] - R0/8:\u001b[1;30m\u001b[1;32mMissing elements: [1, 2]\u001b[0m\u001b[0m\n",
       "[2025-05-30 20:33:50,985][\u001b[1;36m\u001b[1;36m\u001b[1;36mtensorcraft.mpi.distributions.multi_axis_dist\u001b[0m\u001b[0m\u001b[0m][\u001b[1;35m\u001b[1;35m\u001b[1;35mapply\u001b[0m\u001b[0m\u001b[0m][\u001b[1;30m\u001b[1;30m\u001b[1;32mDEBUG\u001b[0m\u001b[0m\u001b[0m] - R0/8:\u001b[1;30m\u001b[1;30m\u001b[1;32mMissing elements: [1, 2]\u001b[0m\u001b[0m\u001b[0m\n",
       "[2025-05-30 20:33:50,990][\u001b[1;36mtensorcraft.mpi.distributions.multi_axis_dist\u001b[0m][\u001b[1;35mapply\u001b[0m][\u001b[1;32mDEBUG\u001b[0m] - R0/8:\u001b[1;32mN blocks per axis: [2, 10]\u001b[0m\n",
       "[2025-05-30 20:33:50,990][\u001b[1;36m\u001b[1;36mtensorcraft.mpi.distributions.multi_axis_dist\u001b[0m\u001b[0m][\u001b[1;35m\u001b[1;35mapply\u001b[0m\u001b[0m][\u001b[1;30m\u001b[1;32mDEBUG\u001b[0m\u001b[0m] - R0/8:\u001b[1;30m\u001b[1;32mN blocks per axis: [2, 10]\u001b[0m\u001b[0m\n",
       "[2025-05-30 20:33:50,990][\u001b[1;36m\u001b[1;36m\u001b[1;36mtensorcraft.mpi.distributions.multi_axis_dist\u001b[0m\u001b[0m\u001b[0m][\u001b[1;35m\u001b[1;35m\u001b[1;35mapply\u001b[0m\u001b[0m\u001b[0m][\u001b[1;30m\u001b[1;30m\u001b[1;32mDEBUG\u001b[0m\u001b[0m\u001b[0m] - R0/8:\u001b[1;30m\u001b[1;30m\u001b[1;32mN blocks per axis: [2, 10]\u001b[0m\u001b[0m\u001b[0m\n",
       "[2025-05-30 20:33:50,995][\u001b[1;36mtensorcraft.mpi.distributions.multi_axis_dist\u001b[0m][\u001b[1;35mapply\u001b[0m][\u001b[1;32mDEBUG\u001b[0m] - R0/8:\u001b[1;32mPadded tensor shape: torch.Size([3, 22])\u001b[0m\n",
       "[2025-05-30 20:33:50,995][\u001b[1;36m\u001b[1;36mtensorcraft.mpi.distributions.multi_axis_dist\u001b[0m\u001b[0m][\u001b[1;35m\u001b[1;35mapply\u001b[0m\u001b[0m][\u001b[1;30m\u001b[1;32mDEBUG\u001b[0m\u001b[0m] - R0/8:\u001b[1;30m\u001b[1;32mPadded tensor shape: torch.Size([3, 22])\u001b[0m\u001b[0m\n",
       "[2025-05-30 20:33:50,995][\u001b[1;36m\u001b[1;36m\u001b[1;36mtensorcraft.mpi.distributions.multi_axis_dist\u001b[0m\u001b[0m\u001b[0m][\u001b[1;35m\u001b[1;35m\u001b[1;35mapply\u001b[0m\u001b[0m\u001b[0m][\u001b[1;30m\u001b[1;30m\u001b[1;32mDEBUG\u001b[0m\u001b[0m\u001b[0m] - R0/8:\u001b[1;30m\u001b[1;30m\u001b[1;32mPadded tensor shape: torch.Size([3, 22])\u001b[0m\u001b[0m\u001b[0m\n",
       "[2025-05-30 20:33:51,001][\u001b[1;36mtensorcraft.mpi.distributions.multi_axis_dist\u001b[0m][\u001b[1;35mapply\u001b[0m][\u001b[1;32mDEBUG\u001b[0m] - R0/8:\u001b[1;32mPermute tuple: (0, 2, 1, 3)\u001b[0m\n",
       "[2025-05-30 20:33:51,001][\u001b[1;36m\u001b[1;36mtensorcraft.mpi.distributions.multi_axis_dist\u001b[0m\u001b[0m][\u001b[1;35m\u001b[1;35mapply\u001b[0m\u001b[0m][\u001b[1;30m\u001b[1;32mDEBUG\u001b[0m\u001b[0m] - R0/8:\u001b[1;30m\u001b[1;32mPermute tuple: (0, 2, 1, 3)\u001b[0m\u001b[0m\n",
       "[2025-05-30 20:33:51,001][\u001b[1;36m\u001b[1;36m\u001b[1;36mtensorcraft.mpi.distributions.multi_axis_dist\u001b[0m\u001b[0m\u001b[0m][\u001b[1;35m\u001b[1;35m\u001b[1;35mapply\u001b[0m\u001b[0m\u001b[0m][\u001b[1;30m\u001b[1;30m\u001b[1;32mDEBUG\u001b[0m\u001b[0m\u001b[0m] - R0/8:\u001b[1;30m\u001b[1;30m\u001b[1;32mPermute tuple: (0, 2, 1, 3)\u001b[0m\u001b[0m\u001b[0m\n",
       "[2025-05-30 20:33:51,005][\u001b[1;36mtensorcraft.mpi.distributions.multi_axis_dist\u001b[0m][\u001b[1;35mapply\u001b[0m][\u001b[1;32mDEBUG\u001b[0m] - R0/8:\u001b[1;32mReshape tuple: [3, 1, 11, 2]\u001b[0m\n",
       "[2025-05-30 20:33:51,005][\u001b[1;36m\u001b[1;36mtensorcraft.mpi.distributions.multi_axis_dist\u001b[0m\u001b[0m][\u001b[1;35m\u001b[1;35mapply\u001b[0m\u001b[0m][\u001b[1;30m\u001b[1;32mDEBUG\u001b[0m\u001b[0m] - R0/8:\u001b[1;30m\u001b[1;32mReshape tuple: [3, 1, 11, 2]\u001b[0m\u001b[0m\n",
       "[2025-05-30 20:33:51,005][\u001b[1;36m\u001b[1;36m\u001b[1;36mtensorcraft.mpi.distributions.multi_axis_dist\u001b[0m\u001b[0m\u001b[0m][\u001b[1;35m\u001b[1;35m\u001b[1;35mapply\u001b[0m\u001b[0m\u001b[0m][\u001b[1;30m\u001b[1;30m\u001b[1;32mDEBUG\u001b[0m\u001b[0m\u001b[0m] - R0/8:\u001b[1;30m\u001b[1;30m\u001b[1;32mReshape tuple: [3, 1, 11, 2]\u001b[0m\u001b[0m\u001b[0m\n",
       "[2025-05-30 20:33:51,013][\u001b[1;36mtensorcraft.mpi.distributions.multi_axis_dist\u001b[0m][\u001b[1;35mapply\u001b[0m][\u001b[1;32mDEBUG\u001b[0m] - R0/8:\u001b[1;32mTile Slices: [slice(tensor(0), None, 2), slice(None, None, None), slice(tensor(0), None, 4), slice(None, None, None)]\u001b[0m\n",
       "[2025-05-30 20:33:51,013][\u001b[1;36m\u001b[1;36mtensorcraft.mpi.distributions.multi_axis_dist\u001b[0m\u001b[0m][\u001b[1;35m\u001b[1;35mapply\u001b[0m\u001b[0m][\u001b[1;30m\u001b[1;32mDEBUG\u001b[0m\u001b[0m] - R0/8:\u001b[1;30m\u001b[1;32mTile Slices: [slice(tensor(0), None, 2), slice(None, None, None), slice(tensor(0), None, 4), slice(None, None, None)]\u001b[0m\u001b[0m\n",
       "[2025-05-30 20:33:51,013][\u001b[1;36m\u001b[1;36m\u001b[1;36mtensorcraft.mpi.distributions.multi_axis_dist\u001b[0m\u001b[0m\u001b[0m][\u001b[1;35m\u001b[1;35m\u001b[1;35mapply\u001b[0m\u001b[0m\u001b[0m][\u001b[1;30m\u001b[1;30m\u001b[1;32mDEBUG\u001b[0m\u001b[0m\u001b[0m] - R0/8:\u001b[1;30m\u001b[1;30m\u001b[1;32mTile Slices: [slice(tensor(0), None, 2), slice(None, None, None), slice(tensor(0), None, 4), slice(None, None, None)]\u001b[0m\u001b[0m\u001b[0m\n",
       "[2025-05-30 20:33:51,020][\u001b[1;36mtensorcraft.mpi.distributions.multi_axis_dist\u001b[0m][\u001b[1;35mapply\u001b[0m][\u001b[1;32mDEBUG\u001b[0m] - R0/8:\u001b[1;32mLocal tensor shape: torch.Size([2, 1, 3, 2])\u001b[0m\n",
       "[2025-05-30 20:33:51,020][\u001b[1;36m\u001b[1;36mtensorcraft.mpi.distributions.multi_axis_dist\u001b[0m\u001b[0m][\u001b[1;35m\u001b[1;35mapply\u001b[0m\u001b[0m][\u001b[1;30m\u001b[1;32mDEBUG\u001b[0m\u001b[0m] - R0/8:\u001b[1;30m\u001b[1;32mLocal tensor shape: torch.Size([2, 1, 3, 2])\u001b[0m\u001b[0m\n",
       "[2025-05-30 20:33:51,020][\u001b[1;36m\u001b[1;36m\u001b[1;36mtensorcraft.mpi.distributions.multi_axis_dist\u001b[0m\u001b[0m\u001b[0m][\u001b[1;35m\u001b[1;35m\u001b[1;35mapply\u001b[0m\u001b[0m\u001b[0m][\u001b[1;30m\u001b[1;30m\u001b[1;32mDEBUG\u001b[0m\u001b[0m\u001b[0m] - R0/8:\u001b[1;30m\u001b[1;30m\u001b[1;32mLocal tensor shape: torch.Size([2, 1, 3, 2])\u001b[0m\u001b[0m\u001b[0m\n",
       "[2025-05-30 20:33:51,026][\u001b[1;36mtensorcraft.mpi.distributions.multi_axis_dist\u001b[0m][\u001b[1;35mapply\u001b[0m][\u001b[1;32mDEBUG\u001b[0m] - R0/8:\u001b[1;32mTarget local tensor shape: [2, 6]\u001b[0m\n",
       "[2025-05-30 20:33:51,026][\u001b[1;36m\u001b[1;36mtensorcraft.mpi.distributions.multi_axis_dist\u001b[0m\u001b[0m][\u001b[1;35m\u001b[1;35mapply\u001b[0m\u001b[0m][\u001b[1;30m\u001b[1;32mDEBUG\u001b[0m\u001b[0m] - R0/8:\u001b[1;30m\u001b[1;32mTarget local tensor shape: [2, 6]\u001b[0m\u001b[0m\n",
       "[2025-05-30 20:33:51,026][\u001b[1;36m\u001b[1;36m\u001b[1;36mtensorcraft.mpi.distributions.multi_axis_dist\u001b[0m\u001b[0m\u001b[0m][\u001b[1;35m\u001b[1;35m\u001b[1;35mapply\u001b[0m\u001b[0m\u001b[0m][\u001b[1;30m\u001b[1;30m\u001b[1;32mDEBUG\u001b[0m\u001b[0m\u001b[0m] - R0/8:\u001b[1;30m\u001b[1;30m\u001b[1;32mTarget local tensor shape: [2, 6]\u001b[0m\u001b[0m\u001b[0m\n",
       "[2025-05-30 20:33:51,030][\u001b[1;36mtensorcraft.mpi.distributions.multi_axis_dist\u001b[0m][\u001b[1;35mapply\u001b[0m][\u001b[1;32mDEBUG\u001b[0m] - R0/8:\u001b[1;32mtensor([[ 0,  1,  8,  9, 16, 17],\n",
       "        [ 0,  0,  0,  0,  0,  0]])\u001b[0m\n",
       "[2025-05-30 20:33:51,030][\u001b[1;36m\u001b[1;36mtensorcraft.mpi.distributions.multi_axis_dist\u001b[0m\u001b[0m][\u001b[1;35m\u001b[1;35mapply\u001b[0m\u001b[0m][\u001b[1;30m\u001b[1;32mDEBUG\u001b[0m\u001b[0m] - R0/8:\u001b[1;30m\u001b[1;32mtensor([[ 0,  1,  8,  9, 16, 17],\n",
       "        [ 0,  0,  0,  0,  0,  0]])\u001b[0m\u001b[0m\n",
       "[2025-05-30 20:33:51,030][\u001b[1;36m\u001b[1;36m\u001b[1;36mtensorcraft.mpi.distributions.multi_axis_dist\u001b[0m\u001b[0m\u001b[0m][\u001b[1;35m\u001b[1;35m\u001b[1;35mapply\u001b[0m\u001b[0m\u001b[0m][\u001b[1;30m\u001b[1;30m\u001b[1;32mDEBUG\u001b[0m\u001b[0m\u001b[0m] - R0/8:\u001b[1;30m\u001b[1;30m\u001b[1;32mtensor([[ 0,  1,  8,  9, 16, 17],\n",
       "        [ 0,  0,  0,  0,  0,  0]])\u001b[0m\u001b[0m\u001b[0m\n",
       "[2025-05-30 20:33:51,036][\u001b[1;36mtensorcraft.mpi.distributions.multi_axis_dist\u001b[0m][\u001b[1;35mapply\u001b[0m][\u001b[1;32mDEBUG\u001b[0m] - R0/8:\u001b[1;32mLinear processor index: 0, Residue: 1, Block size: 1, axis: 0, N procs: 2, N full blocks: 2\u001b[0m\n",
       "[2025-05-30 20:33:51,036][\u001b[1;36m\u001b[1;36mtensorcraft.mpi.distributions.multi_axis_dist\u001b[0m\u001b[0m][\u001b[1;35m\u001b[1;35mapply\u001b[0m\u001b[0m][\u001b[1;30m\u001b[1;32mDEBUG\u001b[0m\u001b[0m] - R0/8:\u001b[1;30m\u001b[1;32mLinear processor index: 0, Residue: 1, Block size: 1, axis: 0, N procs: 2, N full blocks: 2\u001b[0m\u001b[0m\n",
       "[2025-05-30 20:33:51,036][\u001b[1;36m\u001b[1;36m\u001b[1;36mtensorcraft.mpi.distributions.multi_axis_dist\u001b[0m\u001b[0m\u001b[0m][\u001b[1;35m\u001b[1;35m\u001b[1;35mapply\u001b[0m\u001b[0m\u001b[0m][\u001b[1;30m\u001b[1;30m\u001b[1;32mDEBUG\u001b[0m\u001b[0m\u001b[0m] - R0/8:\u001b[1;30m\u001b[1;30m\u001b[1;32mLinear processor index: 0, Residue: 1, Block size: 1, axis: 0, N procs: 2, N full blocks: 2\u001b[0m\u001b[0m\u001b[0m\n",
       "[2025-05-30 20:33:51,041][\u001b[1;36mtensorcraft.mpi.distributions.multi_axis_dist\u001b[0m][\u001b[1;35mapply\u001b[0m][\u001b[1;32mDEBUG\u001b[0m] - R0/8:\u001b[1;32mLinear processor index: 0, Residue: 2, Block size: 2, axis: 1, N procs: 4, N full blocks: 10\u001b[0m\n",
       "[2025-05-30 20:33:51,041][\u001b[1;36m\u001b[1;36mtensorcraft.mpi.distributions.multi_axis_dist\u001b[0m\u001b[0m][\u001b[1;35m\u001b[1;35mapply\u001b[0m\u001b[0m][\u001b[1;30m\u001b[1;32mDEBUG\u001b[0m\u001b[0m] - R0/8:\u001b[1;30m\u001b[1;32mLinear processor index: 0, Residue: 2, Block size: 2, axis: 1, N procs: 4, N full blocks: 10\u001b[0m\u001b[0m\n",
       "[2025-05-30 20:33:51,041][\u001b[1;36m\u001b[1;36m\u001b[1;36mtensorcraft.mpi.distributions.multi_axis_dist\u001b[0m\u001b[0m\u001b[0m][\u001b[1;35m\u001b[1;35m\u001b[1;35mapply\u001b[0m\u001b[0m\u001b[0m][\u001b[1;30m\u001b[1;30m\u001b[1;32mDEBUG\u001b[0m\u001b[0m\u001b[0m] - R0/8:\u001b[1;30m\u001b[1;30m\u001b[1;32mLinear processor index: 0, Residue: 2, Block size: 2, axis: 1, N procs: 4, N full blocks: 10\u001b[0m\u001b[0m\u001b[0m\n",
       "[2025-05-30 20:33:51,045][\u001b[1;36mtensorcraft.mpi.distributions.multi_axis_dist\u001b[0m][\u001b[1;35mapply\u001b[0m][\u001b[1;32mDEBUG\u001b[0m] - R0/8:\u001b[1;32mShaved slices: [slice(0, -1, None), slice(None, None, None)]\u001b[0m\n",
       "[2025-05-30 20:33:51,045][\u001b[1;36m\u001b[1;36mtensorcraft.mpi.distributions.multi_axis_dist\u001b[0m\u001b[0m][\u001b[1;35m\u001b[1;35mapply\u001b[0m\u001b[0m][\u001b[1;30m\u001b[1;32mDEBUG\u001b[0m\u001b[0m] - R0/8:\u001b[1;30m\u001b[1;32mShaved slices: [slice(0, -1, None), slice(None, None, None)]\u001b[0m\u001b[0m\n",
       "[2025-05-30 20:33:51,045][\u001b[1;36m\u001b[1;36m\u001b[1;36mtensorcraft.mpi.distributions.multi_axis_dist\u001b[0m\u001b[0m\u001b[0m][\u001b[1;35m\u001b[1;35m\u001b[1;35mapply\u001b[0m\u001b[0m\u001b[0m][\u001b[1;30m\u001b[1;30m\u001b[1;32mDEBUG\u001b[0m\u001b[0m\u001b[0m] - R0/8:\u001b[1;30m\u001b[1;30m\u001b[1;32mShaved slices: [slice(0, -1, None), slice(None, None, None)]\u001b[0m\u001b[0m\u001b[0m\n",
       "[2025-05-30 20:33:51,053][\u001b[1;36mtensorcraft.mpi.distributions.multi_axis_dist\u001b[0m][\u001b[1;35mapply\u001b[0m][\u001b[1;32mDEBUG\u001b[0m] - R0/8:\u001b[1;32mFinal local tensor shape: torch.Size([1, 6])\u001b[0m\n",
       "[2025-05-30 20:33:51,053][\u001b[1;36m\u001b[1;36mtensorcraft.mpi.distributions.multi_axis_dist\u001b[0m\u001b[0m][\u001b[1;35m\u001b[1;35mapply\u001b[0m\u001b[0m][\u001b[1;30m\u001b[1;32mDEBUG\u001b[0m\u001b[0m] - R0/8:\u001b[1;30m\u001b[1;32mFinal local tensor shape: torch.Size([1, 6])\u001b[0m\u001b[0m\n",
       "[2025-05-30 20:33:51,053][\u001b[1;36m\u001b[1;36m\u001b[1;36mtensorcraft.mpi.distributions.multi_axis_dist\u001b[0m\u001b[0m\u001b[0m][\u001b[1;35m\u001b[1;35m\u001b[1;35mapply\u001b[0m\u001b[0m\u001b[0m][\u001b[1;30m\u001b[1;30m\u001b[1;32mDEBUG\u001b[0m\u001b[0m\u001b[0m] - R0/8:\u001b[1;30m\u001b[1;30m\u001b[1;32mFinal local tensor shape: torch.Size([1, 6])\u001b[0m\u001b[0m\u001b[0m\n"
      ]
     },
     "metadata": {},
     "output_type": "display_data"
    },
    {
     "data": {
      "text/plain": [
       "[stdout:4] [2025-05-30 20:33:50,982][\u001b[1;36mtensorcraft.mpi.distributions.multi_axis_dist\u001b[0m][\u001b[1;35mapply\u001b[0m][\u001b[1;32mDEBUG\u001b[0m] - R4/8:\u001b[1;32mProcessor multi index: torch.Size([1, 0, 0])\u001b[0m\n",
       "[2025-05-30 20:33:50,982][\u001b[1;36m\u001b[1;36mtensorcraft.mpi.distributions.multi_axis_dist\u001b[0m\u001b[0m][\u001b[1;35m\u001b[1;35mapply\u001b[0m\u001b[0m][\u001b[1;30m\u001b[1;32mDEBUG\u001b[0m\u001b[0m] - R4/8:\u001b[1;30m\u001b[1;32mProcessor multi index: torch.Size([1, 0, 0])\u001b[0m\u001b[0m\n",
       "[2025-05-30 20:33:50,982][\u001b[1;36m\u001b[1;36m\u001b[1;36mtensorcraft.mpi.distributions.multi_axis_dist\u001b[0m\u001b[0m\u001b[0m][\u001b[1;35m\u001b[1;35m\u001b[1;35mapply\u001b[0m\u001b[0m\u001b[0m][\u001b[1;30m\u001b[1;30m\u001b[1;32mDEBUG\u001b[0m\u001b[0m\u001b[0m] - R4/8:\u001b[1;30m\u001b[1;30m\u001b[1;32mProcessor multi index: torch.Size([1, 0, 0])\u001b[0m\u001b[0m\u001b[0m\n",
       "[2025-05-30 20:33:50,989][\u001b[1;36mtensorcraft.mpi.distributions.multi_axis_dist\u001b[0m][\u001b[1;35mapply\u001b[0m][\u001b[1;32mDEBUG\u001b[0m] - R4/8:\u001b[1;32mMissing elements: [1, 2]\u001b[0m\n",
       "[2025-05-30 20:33:50,989][\u001b[1;36m\u001b[1;36mtensorcraft.mpi.distributions.multi_axis_dist\u001b[0m\u001b[0m][\u001b[1;35m\u001b[1;35mapply\u001b[0m\u001b[0m][\u001b[1;30m\u001b[1;32mDEBUG\u001b[0m\u001b[0m] - R4/8:\u001b[1;30m\u001b[1;32mMissing elements: [1, 2]\u001b[0m\u001b[0m\n",
       "[2025-05-30 20:33:50,989][\u001b[1;36m\u001b[1;36m\u001b[1;36mtensorcraft.mpi.distributions.multi_axis_dist\u001b[0m\u001b[0m\u001b[0m][\u001b[1;35m\u001b[1;35m\u001b[1;35mapply\u001b[0m\u001b[0m\u001b[0m][\u001b[1;30m\u001b[1;30m\u001b[1;32mDEBUG\u001b[0m\u001b[0m\u001b[0m] - R4/8:\u001b[1;30m\u001b[1;30m\u001b[1;32mMissing elements: [1, 2]\u001b[0m\u001b[0m\u001b[0m\n",
       "[2025-05-30 20:33:50,993][\u001b[1;36mtensorcraft.mpi.distributions.multi_axis_dist\u001b[0m][\u001b[1;35mapply\u001b[0m][\u001b[1;32mDEBUG\u001b[0m] - R4/8:\u001b[1;32mN blocks per axis: [2, 10]\u001b[0m\n",
       "[2025-05-30 20:33:50,993][\u001b[1;36m\u001b[1;36mtensorcraft.mpi.distributions.multi_axis_dist\u001b[0m\u001b[0m][\u001b[1;35m\u001b[1;35mapply\u001b[0m\u001b[0m][\u001b[1;30m\u001b[1;32mDEBUG\u001b[0m\u001b[0m] - R4/8:\u001b[1;30m\u001b[1;32mN blocks per axis: [2, 10]\u001b[0m\u001b[0m\n",
       "[2025-05-30 20:33:50,993][\u001b[1;36m\u001b[1;36m\u001b[1;36mtensorcraft.mpi.distributions.multi_axis_dist\u001b[0m\u001b[0m\u001b[0m][\u001b[1;35m\u001b[1;35m\u001b[1;35mapply\u001b[0m\u001b[0m\u001b[0m][\u001b[1;30m\u001b[1;30m\u001b[1;32mDEBUG\u001b[0m\u001b[0m\u001b[0m] - R4/8:\u001b[1;30m\u001b[1;30m\u001b[1;32mN blocks per axis: [2, 10]\u001b[0m\u001b[0m\u001b[0m\n",
       "[2025-05-30 20:33:50,997][\u001b[1;36mtensorcraft.mpi.distributions.multi_axis_dist\u001b[0m][\u001b[1;35mapply\u001b[0m][\u001b[1;32mDEBUG\u001b[0m] - R4/8:\u001b[1;32mPadded tensor shape: torch.Size([3, 22])\u001b[0m\n",
       "[2025-05-30 20:33:50,997][\u001b[1;36m\u001b[1;36mtensorcraft.mpi.distributions.multi_axis_dist\u001b[0m\u001b[0m][\u001b[1;35m\u001b[1;35mapply\u001b[0m\u001b[0m][\u001b[1;30m\u001b[1;32mDEBUG\u001b[0m\u001b[0m] - R4/8:\u001b[1;30m\u001b[1;32mPadded tensor shape: torch.Size([3, 22])\u001b[0m\u001b[0m\n",
       "[2025-05-30 20:33:50,997][\u001b[1;36m\u001b[1;36m\u001b[1;36mtensorcraft.mpi.distributions.multi_axis_dist\u001b[0m\u001b[0m\u001b[0m][\u001b[1;35m\u001b[1;35m\u001b[1;35mapply\u001b[0m\u001b[0m\u001b[0m][\u001b[1;30m\u001b[1;30m\u001b[1;32mDEBUG\u001b[0m\u001b[0m\u001b[0m] - R4/8:\u001b[1;30m\u001b[1;30m\u001b[1;32mPadded tensor shape: torch.Size([3, 22])\u001b[0m\u001b[0m\u001b[0m\n",
       "[2025-05-30 20:33:51,006][\u001b[1;36mtensorcraft.mpi.distributions.multi_axis_dist\u001b[0m][\u001b[1;35mapply\u001b[0m][\u001b[1;32mDEBUG\u001b[0m] - R4/8:\u001b[1;32mPermute tuple: (0, 2, 1, 3)\u001b[0m\n",
       "[2025-05-30 20:33:51,006][\u001b[1;36m\u001b[1;36mtensorcraft.mpi.distributions.multi_axis_dist\u001b[0m\u001b[0m][\u001b[1;35m\u001b[1;35mapply\u001b[0m\u001b[0m][\u001b[1;30m\u001b[1;32mDEBUG\u001b[0m\u001b[0m] - R4/8:\u001b[1;30m\u001b[1;32mPermute tuple: (0, 2, 1, 3)\u001b[0m\u001b[0m\n",
       "[2025-05-30 20:33:51,006][\u001b[1;36m\u001b[1;36m\u001b[1;36mtensorcraft.mpi.distributions.multi_axis_dist\u001b[0m\u001b[0m\u001b[0m][\u001b[1;35m\u001b[1;35m\u001b[1;35mapply\u001b[0m\u001b[0m\u001b[0m][\u001b[1;30m\u001b[1;30m\u001b[1;32mDEBUG\u001b[0m\u001b[0m\u001b[0m] - R4/8:\u001b[1;30m\u001b[1;30m\u001b[1;32mPermute tuple: (0, 2, 1, 3)\u001b[0m\u001b[0m\u001b[0m\n",
       "[2025-05-30 20:33:51,011][\u001b[1;36mtensorcraft.mpi.distributions.multi_axis_dist\u001b[0m][\u001b[1;35mapply\u001b[0m][\u001b[1;32mDEBUG\u001b[0m] - R4/8:\u001b[1;32mReshape tuple: [3, 1, 11, 2]\u001b[0m\n",
       "[2025-05-30 20:33:51,011][\u001b[1;36m\u001b[1;36mtensorcraft.mpi.distributions.multi_axis_dist\u001b[0m\u001b[0m][\u001b[1;35m\u001b[1;35mapply\u001b[0m\u001b[0m][\u001b[1;30m\u001b[1;32mDEBUG\u001b[0m\u001b[0m] - R4/8:\u001b[1;30m\u001b[1;32mReshape tuple: [3, 1, 11, 2]\u001b[0m\u001b[0m\n",
       "[2025-05-30 20:33:51,011][\u001b[1;36m\u001b[1;36m\u001b[1;36mtensorcraft.mpi.distributions.multi_axis_dist\u001b[0m\u001b[0m\u001b[0m][\u001b[1;35m\u001b[1;35m\u001b[1;35mapply\u001b[0m\u001b[0m\u001b[0m][\u001b[1;30m\u001b[1;30m\u001b[1;32mDEBUG\u001b[0m\u001b[0m\u001b[0m] - R4/8:\u001b[1;30m\u001b[1;30m\u001b[1;32mReshape tuple: [3, 1, 11, 2]\u001b[0m\u001b[0m\u001b[0m\n",
       "[2025-05-30 20:33:51,023][\u001b[1;36mtensorcraft.mpi.distributions.multi_axis_dist\u001b[0m][\u001b[1;35mapply\u001b[0m][\u001b[1;32mDEBUG\u001b[0m] - R4/8:\u001b[1;32mTile Slices: [slice(tensor(0), None, 2), slice(None, None, None), slice(tensor(1), None, 4), slice(None, None, None)]\u001b[0m\n",
       "[2025-05-30 20:33:51,023][\u001b[1;36m\u001b[1;36mtensorcraft.mpi.distributions.multi_axis_dist\u001b[0m\u001b[0m][\u001b[1;35m\u001b[1;35mapply\u001b[0m\u001b[0m][\u001b[1;30m\u001b[1;32mDEBUG\u001b[0m\u001b[0m] - R4/8:\u001b[1;30m\u001b[1;32mTile Slices: [slice(tensor(0), None, 2), slice(None, None, None), slice(tensor(1), None, 4), slice(None, None, None)]\u001b[0m\u001b[0m\n",
       "[2025-05-30 20:33:51,023][\u001b[1;36m\u001b[1;36m\u001b[1;36mtensorcraft.mpi.distributions.multi_axis_dist\u001b[0m\u001b[0m\u001b[0m][\u001b[1;35m\u001b[1;35m\u001b[1;35mapply\u001b[0m\u001b[0m\u001b[0m][\u001b[1;30m\u001b[1;30m\u001b[1;32mDEBUG\u001b[0m\u001b[0m\u001b[0m] - R4/8:\u001b[1;30m\u001b[1;30m\u001b[1;32mTile Slices: [slice(tensor(0), None, 2), slice(None, None, None), slice(tensor(1), None, 4), slice(None, None, None)]\u001b[0m\u001b[0m\u001b[0m\n",
       "[2025-05-30 20:33:51,030][\u001b[1;36mtensorcraft.mpi.distributions.multi_axis_dist\u001b[0m][\u001b[1;35mapply\u001b[0m][\u001b[1;32mDEBUG\u001b[0m] - R4/8:\u001b[1;32mLocal tensor shape: torch.Size([2, 1, 3, 2])\u001b[0m\n",
       "[2025-05-30 20:33:51,030][\u001b[1;36m\u001b[1;36mtensorcraft.mpi.distributions.multi_axis_dist\u001b[0m\u001b[0m][\u001b[1;35m\u001b[1;35mapply\u001b[0m\u001b[0m][\u001b[1;30m\u001b[1;32mDEBUG\u001b[0m\u001b[0m] - R4/8:\u001b[1;30m\u001b[1;32mLocal tensor shape: torch.Size([2, 1, 3, 2])\u001b[0m\u001b[0m\n",
       "[2025-05-30 20:33:51,030][\u001b[1;36m\u001b[1;36m\u001b[1;36mtensorcraft.mpi.distributions.multi_axis_dist\u001b[0m\u001b[0m\u001b[0m][\u001b[1;35m\u001b[1;35m\u001b[1;35mapply\u001b[0m\u001b[0m\u001b[0m][\u001b[1;30m\u001b[1;30m\u001b[1;32mDEBUG\u001b[0m\u001b[0m\u001b[0m] - R4/8:\u001b[1;30m\u001b[1;30m\u001b[1;32mLocal tensor shape: torch.Size([2, 1, 3, 2])\u001b[0m\u001b[0m\u001b[0m\n",
       "[2025-05-30 20:33:51,034][\u001b[1;36mtensorcraft.mpi.distributions.multi_axis_dist\u001b[0m][\u001b[1;35mapply\u001b[0m][\u001b[1;32mDEBUG\u001b[0m] - R4/8:\u001b[1;32mTarget local tensor shape: [2, 6]\u001b[0m\n",
       "[2025-05-30 20:33:51,034][\u001b[1;36m\u001b[1;36mtensorcraft.mpi.distributions.multi_axis_dist\u001b[0m\u001b[0m][\u001b[1;35m\u001b[1;35mapply\u001b[0m\u001b[0m][\u001b[1;30m\u001b[1;32mDEBUG\u001b[0m\u001b[0m] - R4/8:\u001b[1;30m\u001b[1;32mTarget local tensor shape: [2, 6]\u001b[0m\u001b[0m\n",
       "[2025-05-30 20:33:51,034][\u001b[1;36m\u001b[1;36m\u001b[1;36mtensorcraft.mpi.distributions.multi_axis_dist\u001b[0m\u001b[0m\u001b[0m][\u001b[1;35m\u001b[1;35m\u001b[1;35mapply\u001b[0m\u001b[0m\u001b[0m][\u001b[1;30m\u001b[1;30m\u001b[1;32mDEBUG\u001b[0m\u001b[0m\u001b[0m] - R4/8:\u001b[1;30m\u001b[1;30m\u001b[1;32mTarget local tensor shape: [2, 6]\u001b[0m\u001b[0m\u001b[0m\n",
       "[2025-05-30 20:33:51,041][\u001b[1;36mtensorcraft.mpi.distributions.multi_axis_dist\u001b[0m][\u001b[1;35mapply\u001b[0m][\u001b[1;32mDEBUG\u001b[0m] - R4/8:\u001b[1;32mtensor([[ 2,  3, 10, 11, 18, 19],\n",
       "        [ 0,  0,  0,  0,  0,  0]])\u001b[0m\n",
       "[2025-05-30 20:33:51,041][\u001b[1;36m\u001b[1;36mtensorcraft.mpi.distributions.multi_axis_dist\u001b[0m\u001b[0m][\u001b[1;35m\u001b[1;35mapply\u001b[0m\u001b[0m][\u001b[1;30m\u001b[1;32mDEBUG\u001b[0m\u001b[0m] - R4/8:\u001b[1;30m\u001b[1;32mtensor([[ 2,  3, 10, 11, 18, 19],\n",
       "        [ 0,  0,  0,  0,  0,  0]])\u001b[0m\u001b[0m\n",
       "[2025-05-30 20:33:51,041][\u001b[1;36m\u001b[1;36m\u001b[1;36mtensorcraft.mpi.distributions.multi_axis_dist\u001b[0m\u001b[0m\u001b[0m][\u001b[1;35m\u001b[1;35m\u001b[1;35mapply\u001b[0m\u001b[0m\u001b[0m][\u001b[1;30m\u001b[1;30m\u001b[1;32mDEBUG\u001b[0m\u001b[0m\u001b[0m] - R4/8:\u001b[1;30m\u001b[1;30m\u001b[1;32mtensor([[ 2,  3, 10, 11, 18, 19],\n",
       "        [ 0,  0,  0,  0,  0,  0]])\u001b[0m\u001b[0m\u001b[0m\n",
       "[2025-05-30 20:33:51,046][\u001b[1;36mtensorcraft.mpi.distributions.multi_axis_dist\u001b[0m][\u001b[1;35mapply\u001b[0m][\u001b[1;32mDEBUG\u001b[0m] - R4/8:\u001b[1;32mLinear processor index: 0, Residue: 1, Block size: 1, axis: 0, N procs: 2, N full blocks: 2\u001b[0m\n",
       "[2025-05-30 20:33:51,046][\u001b[1;36m\u001b[1;36mtensorcraft.mpi.distributions.multi_axis_dist\u001b[0m\u001b[0m][\u001b[1;35m\u001b[1;35mapply\u001b[0m\u001b[0m][\u001b[1;30m\u001b[1;32mDEBUG\u001b[0m\u001b[0m] - R4/8:\u001b[1;30m\u001b[1;32mLinear processor index: 0, Residue: 1, Block size: 1, axis: 0, N procs: 2, N full blocks: 2\u001b[0m\u001b[0m\n",
       "[2025-05-30 20:33:51,046][\u001b[1;36m\u001b[1;36m\u001b[1;36mtensorcraft.mpi.distributions.multi_axis_dist\u001b[0m\u001b[0m\u001b[0m][\u001b[1;35m\u001b[1;35m\u001b[1;35mapply\u001b[0m\u001b[0m\u001b[0m][\u001b[1;30m\u001b[1;30m\u001b[1;32mDEBUG\u001b[0m\u001b[0m\u001b[0m] - R4/8:\u001b[1;30m\u001b[1;30m\u001b[1;32mLinear processor index: 0, Residue: 1, Block size: 1, axis: 0, N procs: 2, N full blocks: 2\u001b[0m\u001b[0m\u001b[0m\n",
       "[2025-05-30 20:33:51,056][\u001b[1;36mtensorcraft.mpi.distributions.multi_axis_dist\u001b[0m][\u001b[1;35mapply\u001b[0m][\u001b[1;32mDEBUG\u001b[0m] - R4/8:\u001b[1;32mLinear processor index: 1, Residue: 2, Block size: 2, axis: 1, N procs: 4, N full blocks: 10\u001b[0m\n",
       "[2025-05-30 20:33:51,056][\u001b[1;36m\u001b[1;36mtensorcraft.mpi.distributions.multi_axis_dist\u001b[0m\u001b[0m][\u001b[1;35m\u001b[1;35mapply\u001b[0m\u001b[0m][\u001b[1;30m\u001b[1;32mDEBUG\u001b[0m\u001b[0m] - R4/8:\u001b[1;30m\u001b[1;32mLinear processor index: 1, Residue: 2, Block size: 2, axis: 1, N procs: 4, N full blocks: 10\u001b[0m\u001b[0m\n",
       "[2025-05-30 20:33:51,056][\u001b[1;36m\u001b[1;36m\u001b[1;36mtensorcraft.mpi.distributions.multi_axis_dist\u001b[0m\u001b[0m\u001b[0m][\u001b[1;35m\u001b[1;35m\u001b[1;35mapply\u001b[0m\u001b[0m\u001b[0m][\u001b[1;30m\u001b[1;30m\u001b[1;32mDEBUG\u001b[0m\u001b[0m\u001b[0m] - R4/8:\u001b[1;30m\u001b[1;30m\u001b[1;32mLinear processor index: 1, Residue: 2, Block size: 2, axis: 1, N procs: 4, N full blocks: 10\u001b[0m\u001b[0m\u001b[0m\n",
       "[2025-05-30 20:33:51,063][\u001b[1;36mtensorcraft.mpi.distributions.multi_axis_dist\u001b[0m][\u001b[1;35mapply\u001b[0m][\u001b[1;32mDEBUG\u001b[0m] - R4/8:\u001b[1;32mShaved slices: [slice(0, -1, None), slice(None, None, None)]\u001b[0m\n",
       "[2025-05-30 20:33:51,063][\u001b[1;36m\u001b[1;36mtensorcraft.mpi.distributions.multi_axis_dist\u001b[0m\u001b[0m][\u001b[1;35m\u001b[1;35mapply\u001b[0m\u001b[0m][\u001b[1;30m\u001b[1;32mDEBUG\u001b[0m\u001b[0m] - R4/8:\u001b[1;30m\u001b[1;32mShaved slices: [slice(0, -1, None), slice(None, None, None)]\u001b[0m\u001b[0m\n",
       "[2025-05-30 20:33:51,063][\u001b[1;36m\u001b[1;36m\u001b[1;36mtensorcraft.mpi.distributions.multi_axis_dist\u001b[0m\u001b[0m\u001b[0m][\u001b[1;35m\u001b[1;35m\u001b[1;35mapply\u001b[0m\u001b[0m\u001b[0m][\u001b[1;30m\u001b[1;30m\u001b[1;32mDEBUG\u001b[0m\u001b[0m\u001b[0m] - R4/8:\u001b[1;30m\u001b[1;30m\u001b[1;32mShaved slices: [slice(0, -1, None), slice(None, None, None)]\u001b[0m\u001b[0m\u001b[0m\n",
       "[2025-05-30 20:33:51,065][\u001b[1;36mtensorcraft.mpi.distributions.multi_axis_dist\u001b[0m][\u001b[1;35mapply\u001b[0m][\u001b[1;32mDEBUG\u001b[0m] - R4/8:\u001b[1;32mFinal local tensor shape: torch.Size([1, 6])\u001b[0m\n",
       "[2025-05-30 20:33:51,065][\u001b[1;36m\u001b[1;36mtensorcraft.mpi.distributions.multi_axis_dist\u001b[0m\u001b[0m][\u001b[1;35m\u001b[1;35mapply\u001b[0m\u001b[0m][\u001b[1;30m\u001b[1;32mDEBUG\u001b[0m\u001b[0m] - R4/8:\u001b[1;30m\u001b[1;32mFinal local tensor shape: torch.Size([1, 6])\u001b[0m\u001b[0m\n",
       "[2025-05-30 20:33:51,065][\u001b[1;36m\u001b[1;36m\u001b[1;36mtensorcraft.mpi.distributions.multi_axis_dist\u001b[0m\u001b[0m\u001b[0m][\u001b[1;35m\u001b[1;35m\u001b[1;35mapply\u001b[0m\u001b[0m\u001b[0m][\u001b[1;30m\u001b[1;30m\u001b[1;32mDEBUG\u001b[0m\u001b[0m\u001b[0m] - R4/8:\u001b[1;30m\u001b[1;30m\u001b[1;32mFinal local tensor shape: torch.Size([1, 6])\u001b[0m\u001b[0m\u001b[0m\n"
      ]
     },
     "metadata": {},
     "output_type": "display_data"
    },
    {
     "data": {
      "text/plain": [
       "[stdout:3] [2025-05-30 20:33:50,981][\u001b[1;36mtensorcraft.mpi.distributions.multi_axis_dist\u001b[0m][\u001b[1;35mapply\u001b[0m][\u001b[1;32mDEBUG\u001b[0m] - R3/8:\u001b[1;32mProcessor multi index: torch.Size([0, 1, 1])\u001b[0m\n",
       "[2025-05-30 20:33:50,981][\u001b[1;36m\u001b[1;36mtensorcraft.mpi.distributions.multi_axis_dist\u001b[0m\u001b[0m][\u001b[1;35m\u001b[1;35mapply\u001b[0m\u001b[0m][\u001b[1;30m\u001b[1;32mDEBUG\u001b[0m\u001b[0m] - R3/8:\u001b[1;30m\u001b[1;32mProcessor multi index: torch.Size([0, 1, 1])\u001b[0m\u001b[0m\n",
       "[2025-05-30 20:33:50,981][\u001b[1;36m\u001b[1;36m\u001b[1;36mtensorcraft.mpi.distributions.multi_axis_dist\u001b[0m\u001b[0m\u001b[0m][\u001b[1;35m\u001b[1;35m\u001b[1;35mapply\u001b[0m\u001b[0m\u001b[0m][\u001b[1;30m\u001b[1;30m\u001b[1;32mDEBUG\u001b[0m\u001b[0m\u001b[0m] - R3/8:\u001b[1;30m\u001b[1;30m\u001b[1;32mProcessor multi index: torch.Size([0, 1, 1])\u001b[0m\u001b[0m\u001b[0m\n",
       "[2025-05-30 20:33:50,992][\u001b[1;36mtensorcraft.mpi.distributions.multi_axis_dist\u001b[0m][\u001b[1;35mapply\u001b[0m][\u001b[1;32mDEBUG\u001b[0m] - R3/8:\u001b[1;32mMissing elements: [1, 2]\u001b[0m\n",
       "[2025-05-30 20:33:50,992][\u001b[1;36m\u001b[1;36mtensorcraft.mpi.distributions.multi_axis_dist\u001b[0m\u001b[0m][\u001b[1;35m\u001b[1;35mapply\u001b[0m\u001b[0m][\u001b[1;30m\u001b[1;32mDEBUG\u001b[0m\u001b[0m] - R3/8:\u001b[1;30m\u001b[1;32mMissing elements: [1, 2]\u001b[0m\u001b[0m\n",
       "[2025-05-30 20:33:50,992][\u001b[1;36m\u001b[1;36m\u001b[1;36mtensorcraft.mpi.distributions.multi_axis_dist\u001b[0m\u001b[0m\u001b[0m][\u001b[1;35m\u001b[1;35m\u001b[1;35mapply\u001b[0m\u001b[0m\u001b[0m][\u001b[1;30m\u001b[1;30m\u001b[1;32mDEBUG\u001b[0m\u001b[0m\u001b[0m] - R3/8:\u001b[1;30m\u001b[1;30m\u001b[1;32mMissing elements: [1, 2]\u001b[0m\u001b[0m\u001b[0m\n",
       "[2025-05-30 20:33:50,999][\u001b[1;36mtensorcraft.mpi.distributions.multi_axis_dist\u001b[0m][\u001b[1;35mapply\u001b[0m][\u001b[1;32mDEBUG\u001b[0m] - R3/8:\u001b[1;32mN blocks per axis: [2, 10]\u001b[0m\n",
       "[2025-05-30 20:33:50,999][\u001b[1;36m\u001b[1;36mtensorcraft.mpi.distributions.multi_axis_dist\u001b[0m\u001b[0m][\u001b[1;35m\u001b[1;35mapply\u001b[0m\u001b[0m][\u001b[1;30m\u001b[1;32mDEBUG\u001b[0m\u001b[0m] - R3/8:\u001b[1;30m\u001b[1;32mN blocks per axis: [2, 10]\u001b[0m\u001b[0m\n",
       "[2025-05-30 20:33:50,999][\u001b[1;36m\u001b[1;36m\u001b[1;36mtensorcraft.mpi.distributions.multi_axis_dist\u001b[0m\u001b[0m\u001b[0m][\u001b[1;35m\u001b[1;35m\u001b[1;35mapply\u001b[0m\u001b[0m\u001b[0m][\u001b[1;30m\u001b[1;30m\u001b[1;32mDEBUG\u001b[0m\u001b[0m\u001b[0m] - R3/8:\u001b[1;30m\u001b[1;30m\u001b[1;32mN blocks per axis: [2, 10]\u001b[0m\u001b[0m\u001b[0m\n",
       "[2025-05-30 20:33:51,012][\u001b[1;36mtensorcraft.mpi.distributions.multi_axis_dist\u001b[0m][\u001b[1;35mapply\u001b[0m][\u001b[1;32mDEBUG\u001b[0m] - R3/8:\u001b[1;32mPadded tensor shape: torch.Size([3, 22])\u001b[0m\n",
       "[2025-05-30 20:33:51,012][\u001b[1;36m\u001b[1;36mtensorcraft.mpi.distributions.multi_axis_dist\u001b[0m\u001b[0m][\u001b[1;35m\u001b[1;35mapply\u001b[0m\u001b[0m][\u001b[1;30m\u001b[1;32mDEBUG\u001b[0m\u001b[0m] - R3/8:\u001b[1;30m\u001b[1;32mPadded tensor shape: torch.Size([3, 22])\u001b[0m\u001b[0m\n",
       "[2025-05-30 20:33:51,012][\u001b[1;36m\u001b[1;36m\u001b[1;36mtensorcraft.mpi.distributions.multi_axis_dist\u001b[0m\u001b[0m\u001b[0m][\u001b[1;35m\u001b[1;35m\u001b[1;35mapply\u001b[0m\u001b[0m\u001b[0m][\u001b[1;30m\u001b[1;30m\u001b[1;32mDEBUG\u001b[0m\u001b[0m\u001b[0m] - R3/8:\u001b[1;30m\u001b[1;30m\u001b[1;32mPadded tensor shape: torch.Size([3, 22])\u001b[0m\u001b[0m\u001b[0m\n",
       "[2025-05-30 20:33:51,019][\u001b[1;36mtensorcraft.mpi.distributions.multi_axis_dist\u001b[0m][\u001b[1;35mapply\u001b[0m][\u001b[1;32mDEBUG\u001b[0m] - R3/8:\u001b[1;32mPermute tuple: (0, 2, 1, 3)\u001b[0m\n",
       "[2025-05-30 20:33:51,019][\u001b[1;36m\u001b[1;36mtensorcraft.mpi.distributions.multi_axis_dist\u001b[0m\u001b[0m][\u001b[1;35m\u001b[1;35mapply\u001b[0m\u001b[0m][\u001b[1;30m\u001b[1;32mDEBUG\u001b[0m\u001b[0m] - R3/8:\u001b[1;30m\u001b[1;32mPermute tuple: (0, 2, 1, 3)\u001b[0m\u001b[0m\n",
       "[2025-05-30 20:33:51,019][\u001b[1;36m\u001b[1;36m\u001b[1;36mtensorcraft.mpi.distributions.multi_axis_dist\u001b[0m\u001b[0m\u001b[0m][\u001b[1;35m\u001b[1;35m\u001b[1;35mapply\u001b[0m\u001b[0m\u001b[0m][\u001b[1;30m\u001b[1;30m\u001b[1;32mDEBUG\u001b[0m\u001b[0m\u001b[0m] - R3/8:\u001b[1;30m\u001b[1;30m\u001b[1;32mPermute tuple: (0, 2, 1, 3)\u001b[0m\u001b[0m\u001b[0m\n",
       "[2025-05-30 20:33:51,030][\u001b[1;36mtensorcraft.mpi.distributions.multi_axis_dist\u001b[0m][\u001b[1;35mapply\u001b[0m][\u001b[1;32mDEBUG\u001b[0m] - R3/8:\u001b[1;32mReshape tuple: [3, 1, 11, 2]\u001b[0m\n",
       "[2025-05-30 20:33:51,030][\u001b[1;36m\u001b[1;36mtensorcraft.mpi.distributions.multi_axis_dist\u001b[0m\u001b[0m][\u001b[1;35m\u001b[1;35mapply\u001b[0m\u001b[0m][\u001b[1;30m\u001b[1;32mDEBUG\u001b[0m\u001b[0m] - R3/8:\u001b[1;30m\u001b[1;32mReshape tuple: [3, 1, 11, 2]\u001b[0m\u001b[0m\n",
       "[2025-05-30 20:33:51,030][\u001b[1;36m\u001b[1;36m\u001b[1;36mtensorcraft.mpi.distributions.multi_axis_dist\u001b[0m\u001b[0m\u001b[0m][\u001b[1;35m\u001b[1;35m\u001b[1;35mapply\u001b[0m\u001b[0m\u001b[0m][\u001b[1;30m\u001b[1;30m\u001b[1;32mDEBUG\u001b[0m\u001b[0m\u001b[0m] - R3/8:\u001b[1;30m\u001b[1;30m\u001b[1;32mReshape tuple: [3, 1, 11, 2]\u001b[0m\u001b[0m\u001b[0m\n",
       "[2025-05-30 20:33:51,035][\u001b[1;36mtensorcraft.mpi.distributions.multi_axis_dist\u001b[0m][\u001b[1;35mapply\u001b[0m][\u001b[1;32mDEBUG\u001b[0m] - R3/8:\u001b[1;32mTile Slices: [slice(tensor(1), None, 2), slice(None, None, None), slice(tensor(2), None, 4), slice(None, None, None)]\u001b[0m\n",
       "[2025-05-30 20:33:51,035][\u001b[1;36m\u001b[1;36mtensorcraft.mpi.distributions.multi_axis_dist\u001b[0m\u001b[0m][\u001b[1;35m\u001b[1;35mapply\u001b[0m\u001b[0m][\u001b[1;30m\u001b[1;32mDEBUG\u001b[0m\u001b[0m] - R3/8:\u001b[1;30m\u001b[1;32mTile Slices: [slice(tensor(1), None, 2), slice(None, None, None), slice(tensor(2), None, 4), slice(None, None, None)]\u001b[0m\u001b[0m\n",
       "[2025-05-30 20:33:51,035][\u001b[1;36m\u001b[1;36m\u001b[1;36mtensorcraft.mpi.distributions.multi_axis_dist\u001b[0m\u001b[0m\u001b[0m][\u001b[1;35m\u001b[1;35m\u001b[1;35mapply\u001b[0m\u001b[0m\u001b[0m][\u001b[1;30m\u001b[1;30m\u001b[1;32mDEBUG\u001b[0m\u001b[0m\u001b[0m] - R3/8:\u001b[1;30m\u001b[1;30m\u001b[1;32mTile Slices: [slice(tensor(1), None, 2), slice(None, None, None), slice(tensor(2), None, 4), slice(None, None, None)]\u001b[0m\u001b[0m\u001b[0m\n",
       "[2025-05-30 20:33:51,045][\u001b[1;36mtensorcraft.mpi.distributions.multi_axis_dist\u001b[0m][\u001b[1;35mapply\u001b[0m][\u001b[1;32mDEBUG\u001b[0m] - R3/8:\u001b[1;32mLocal tensor shape: torch.Size([1, 1, 3, 2])\u001b[0m\n",
       "[2025-05-30 20:33:51,045][\u001b[1;36m\u001b[1;36mtensorcraft.mpi.distributions.multi_axis_dist\u001b[0m\u001b[0m][\u001b[1;35m\u001b[1;35mapply\u001b[0m\u001b[0m][\u001b[1;30m\u001b[1;32mDEBUG\u001b[0m\u001b[0m] - R3/8:\u001b[1;30m\u001b[1;32mLocal tensor shape: torch.Size([1, 1, 3, 2])\u001b[0m\u001b[0m\n",
       "[2025-05-30 20:33:51,045][\u001b[1;36m\u001b[1;36m\u001b[1;36mtensorcraft.mpi.distributions.multi_axis_dist\u001b[0m\u001b[0m\u001b[0m][\u001b[1;35m\u001b[1;35m\u001b[1;35mapply\u001b[0m\u001b[0m\u001b[0m][\u001b[1;30m\u001b[1;30m\u001b[1;32mDEBUG\u001b[0m\u001b[0m\u001b[0m] - R3/8:\u001b[1;30m\u001b[1;30m\u001b[1;32mLocal tensor shape: torch.Size([1, 1, 3, 2])\u001b[0m\u001b[0m\u001b[0m\n",
       "[2025-05-30 20:33:51,049][\u001b[1;36mtensorcraft.mpi.distributions.multi_axis_dist\u001b[0m][\u001b[1;35mapply\u001b[0m][\u001b[1;32mDEBUG\u001b[0m] - R3/8:\u001b[1;32mTarget local tensor shape: [1, 6]\u001b[0m\n",
       "[2025-05-30 20:33:51,049][\u001b[1;36m\u001b[1;36mtensorcraft.mpi.distributions.multi_axis_dist\u001b[0m\u001b[0m][\u001b[1;35m\u001b[1;35mapply\u001b[0m\u001b[0m][\u001b[1;30m\u001b[1;32mDEBUG\u001b[0m\u001b[0m] - R3/8:\u001b[1;30m\u001b[1;32mTarget local tensor shape: [1, 6]\u001b[0m\u001b[0m\n",
       "[2025-05-30 20:33:51,049][\u001b[1;36m\u001b[1;36m\u001b[1;36mtensorcraft.mpi.distributions.multi_axis_dist\u001b[0m\u001b[0m\u001b[0m][\u001b[1;35m\u001b[1;35m\u001b[1;35mapply\u001b[0m\u001b[0m\u001b[0m][\u001b[1;30m\u001b[1;30m\u001b[1;32mDEBUG\u001b[0m\u001b[0m\u001b[0m] - R3/8:\u001b[1;30m\u001b[1;30m\u001b[1;32mTarget local tensor shape: [1, 6]\u001b[0m\u001b[0m\u001b[0m\n",
       "[2025-05-30 20:33:51,060][\u001b[1;36mtensorcraft.mpi.distributions.multi_axis_dist\u001b[0m][\u001b[1;35mapply\u001b[0m][\u001b[1;32mDEBUG\u001b[0m] - R3/8:\u001b[1;32mtensor([[24, 25, 32, 33,  0,  0]])\u001b[0m\n",
       "[2025-05-30 20:33:51,060][\u001b[1;36m\u001b[1;36mtensorcraft.mpi.distributions.multi_axis_dist\u001b[0m\u001b[0m][\u001b[1;35m\u001b[1;35mapply\u001b[0m\u001b[0m][\u001b[1;30m\u001b[1;32mDEBUG\u001b[0m\u001b[0m] - R3/8:\u001b[1;30m\u001b[1;32mtensor([[24, 25, 32, 33,  0,  0]])\u001b[0m\u001b[0m\n",
       "[2025-05-30 20:33:51,060][\u001b[1;36m\u001b[1;36m\u001b[1;36mtensorcraft.mpi.distributions.multi_axis_dist\u001b[0m\u001b[0m\u001b[0m][\u001b[1;35m\u001b[1;35m\u001b[1;35mapply\u001b[0m\u001b[0m\u001b[0m][\u001b[1;30m\u001b[1;30m\u001b[1;32mDEBUG\u001b[0m\u001b[0m\u001b[0m] - R3/8:\u001b[1;30m\u001b[1;30m\u001b[1;32mtensor([[24, 25, 32, 33,  0,  0]])\u001b[0m\u001b[0m\u001b[0m\n",
       "[2025-05-30 20:33:51,065][\u001b[1;36mtensorcraft.mpi.distributions.multi_axis_dist\u001b[0m][\u001b[1;35mapply\u001b[0m][\u001b[1;32mDEBUG\u001b[0m] - R3/8:\u001b[1;32mLinear processor index: 1, Residue: 1, Block size: 1, axis: 0, N procs: 2, N full blocks: 2\u001b[0m\n",
       "[2025-05-30 20:33:51,065][\u001b[1;36m\u001b[1;36mtensorcraft.mpi.distributions.multi_axis_dist\u001b[0m\u001b[0m][\u001b[1;35m\u001b[1;35mapply\u001b[0m\u001b[0m][\u001b[1;30m\u001b[1;32mDEBUG\u001b[0m\u001b[0m] - R3/8:\u001b[1;30m\u001b[1;32mLinear processor index: 1, Residue: 1, Block size: 1, axis: 0, N procs: 2, N full blocks: 2\u001b[0m\u001b[0m\n",
       "[2025-05-30 20:33:51,065][\u001b[1;36m\u001b[1;36m\u001b[1;36mtensorcraft.mpi.distributions.multi_axis_dist\u001b[0m\u001b[0m\u001b[0m][\u001b[1;35m\u001b[1;35m\u001b[1;35mapply\u001b[0m\u001b[0m\u001b[0m][\u001b[1;30m\u001b[1;30m\u001b[1;32mDEBUG\u001b[0m\u001b[0m\u001b[0m] - R3/8:\u001b[1;30m\u001b[1;30m\u001b[1;32mLinear processor index: 1, Residue: 1, Block size: 1, axis: 0, N procs: 2, N full blocks: 2\u001b[0m\u001b[0m\u001b[0m\n",
       "[2025-05-30 20:33:51,070][\u001b[1;36mtensorcraft.mpi.distributions.multi_axis_dist\u001b[0m][\u001b[1;35mapply\u001b[0m][\u001b[1;32mDEBUG\u001b[0m] - R3/8:\u001b[1;32mLinear processor index: 2, Residue: 2, Block size: 2, axis: 1, N procs: 4, N full blocks: 10\u001b[0m\n",
       "[2025-05-30 20:33:51,070][\u001b[1;36m\u001b[1;36mtensorcraft.mpi.distributions.multi_axis_dist\u001b[0m\u001b[0m][\u001b[1;35m\u001b[1;35mapply\u001b[0m\u001b[0m][\u001b[1;30m\u001b[1;32mDEBUG\u001b[0m\u001b[0m] - R3/8:\u001b[1;30m\u001b[1;32mLinear processor index: 2, Residue: 2, Block size: 2, axis: 1, N procs: 4, N full blocks: 10\u001b[0m\u001b[0m\n",
       "[2025-05-30 20:33:51,070][\u001b[1;36m\u001b[1;36m\u001b[1;36mtensorcraft.mpi.distributions.multi_axis_dist\u001b[0m\u001b[0m\u001b[0m][\u001b[1;35m\u001b[1;35m\u001b[1;35mapply\u001b[0m\u001b[0m\u001b[0m][\u001b[1;30m\u001b[1;30m\u001b[1;32mDEBUG\u001b[0m\u001b[0m\u001b[0m] - R3/8:\u001b[1;30m\u001b[1;30m\u001b[1;32mLinear processor index: 2, Residue: 2, Block size: 2, axis: 1, N procs: 4, N full blocks: 10\u001b[0m\u001b[0m\u001b[0m\n",
       "[2025-05-30 20:33:51,074][\u001b[1;36mtensorcraft.mpi.distributions.multi_axis_dist\u001b[0m][\u001b[1;35mapply\u001b[0m][\u001b[1;32mDEBUG\u001b[0m] - R3/8:\u001b[1;32mShaved slices: [slice(None, None, None), slice(0, -2, None)]\u001b[0m\n",
       "[2025-05-30 20:33:51,074][\u001b[1;36m\u001b[1;36mtensorcraft.mpi.distributions.multi_axis_dist\u001b[0m\u001b[0m][\u001b[1;35m\u001b[1;35mapply\u001b[0m\u001b[0m][\u001b[1;30m\u001b[1;32mDEBUG\u001b[0m\u001b[0m] - R3/8:\u001b[1;30m\u001b[1;32mShaved slices: [slice(None, None, None), slice(0, -2, None)]\u001b[0m\u001b[0m\n",
       "[2025-05-30 20:33:51,074][\u001b[1;36m\u001b[1;36m\u001b[1;36mtensorcraft.mpi.distributions.multi_axis_dist\u001b[0m\u001b[0m\u001b[0m][\u001b[1;35m\u001b[1;35m\u001b[1;35mapply\u001b[0m\u001b[0m\u001b[0m][\u001b[1;30m\u001b[1;30m\u001b[1;32mDEBUG\u001b[0m\u001b[0m\u001b[0m] - R3/8:\u001b[1;30m\u001b[1;30m\u001b[1;32mShaved slices: [slice(None, None, None), slice(0, -2, None)]\u001b[0m\u001b[0m\u001b[0m\n",
       "[2025-05-30 20:33:51,077][\u001b[1;36mtensorcraft.mpi.distributions.multi_axis_dist\u001b[0m][\u001b[1;35mapply\u001b[0m][\u001b[1;32mDEBUG\u001b[0m] - R3/8:\u001b[1;32mFinal local tensor shape: torch.Size([1, 4])\u001b[0m\n",
       "[2025-05-30 20:33:51,077][\u001b[1;36m\u001b[1;36mtensorcraft.mpi.distributions.multi_axis_dist\u001b[0m\u001b[0m][\u001b[1;35m\u001b[1;35mapply\u001b[0m\u001b[0m][\u001b[1;30m\u001b[1;32mDEBUG\u001b[0m\u001b[0m] - R3/8:\u001b[1;30m\u001b[1;32mFinal local tensor shape: torch.Size([1, 4])\u001b[0m\u001b[0m\n",
       "[2025-05-30 20:33:51,077][\u001b[1;36m\u001b[1;36m\u001b[1;36mtensorcraft.mpi.distributions.multi_axis_dist\u001b[0m\u001b[0m\u001b[0m][\u001b[1;35m\u001b[1;35m\u001b[1;35mapply\u001b[0m\u001b[0m\u001b[0m][\u001b[1;30m\u001b[1;30m\u001b[1;32mDEBUG\u001b[0m\u001b[0m\u001b[0m] - R3/8:\u001b[1;30m\u001b[1;30m\u001b[1;32mFinal local tensor shape: torch.Size([1, 4])\u001b[0m\u001b[0m\u001b[0m\n"
      ]
     },
     "metadata": {},
     "output_type": "display_data"
    },
    {
     "data": {
      "text/plain": [
       "[stdout:1] [2025-05-30 20:33:50,982][\u001b[1;36mtensorcraft.mpi.distributions.multi_axis_dist\u001b[0m][\u001b[1;35mapply\u001b[0m][\u001b[1;32mDEBUG\u001b[0m] - R1/8:\u001b[1;32mProcessor multi index: torch.Size([0, 0, 1])\u001b[0m\n",
       "[2025-05-30 20:33:50,982][\u001b[1;36m\u001b[1;36mtensorcraft.mpi.distributions.multi_axis_dist\u001b[0m\u001b[0m][\u001b[1;35m\u001b[1;35mapply\u001b[0m\u001b[0m][\u001b[1;30m\u001b[1;32mDEBUG\u001b[0m\u001b[0m] - R1/8:\u001b[1;30m\u001b[1;32mProcessor multi index: torch.Size([0, 0, 1])\u001b[0m\u001b[0m\n",
       "[2025-05-30 20:33:50,982][\u001b[1;36m\u001b[1;36m\u001b[1;36mtensorcraft.mpi.distributions.multi_axis_dist\u001b[0m\u001b[0m\u001b[0m][\u001b[1;35m\u001b[1;35m\u001b[1;35mapply\u001b[0m\u001b[0m\u001b[0m][\u001b[1;30m\u001b[1;30m\u001b[1;32mDEBUG\u001b[0m\u001b[0m\u001b[0m] - R1/8:\u001b[1;30m\u001b[1;30m\u001b[1;32mProcessor multi index: torch.Size([0, 0, 1])\u001b[0m\u001b[0m\u001b[0m\n",
       "[2025-05-30 20:33:50,987][\u001b[1;36mtensorcraft.mpi.distributions.multi_axis_dist\u001b[0m][\u001b[1;35mapply\u001b[0m][\u001b[1;32mDEBUG\u001b[0m] - R1/8:\u001b[1;32mMissing elements: [1, 2]\u001b[0m\n",
       "[2025-05-30 20:33:50,987][\u001b[1;36m\u001b[1;36mtensorcraft.mpi.distributions.multi_axis_dist\u001b[0m\u001b[0m][\u001b[1;35m\u001b[1;35mapply\u001b[0m\u001b[0m][\u001b[1;30m\u001b[1;32mDEBUG\u001b[0m\u001b[0m] - R1/8:\u001b[1;30m\u001b[1;32mMissing elements: [1, 2]\u001b[0m\u001b[0m\n",
       "[2025-05-30 20:33:50,987][\u001b[1;36m\u001b[1;36m\u001b[1;36mtensorcraft.mpi.distributions.multi_axis_dist\u001b[0m\u001b[0m\u001b[0m][\u001b[1;35m\u001b[1;35m\u001b[1;35mapply\u001b[0m\u001b[0m\u001b[0m][\u001b[1;30m\u001b[1;30m\u001b[1;32mDEBUG\u001b[0m\u001b[0m\u001b[0m] - R1/8:\u001b[1;30m\u001b[1;30m\u001b[1;32mMissing elements: [1, 2]\u001b[0m\u001b[0m\u001b[0m\n",
       "[2025-05-30 20:33:50,991][\u001b[1;36mtensorcraft.mpi.distributions.multi_axis_dist\u001b[0m][\u001b[1;35mapply\u001b[0m][\u001b[1;32mDEBUG\u001b[0m] - R1/8:\u001b[1;32mN blocks per axis: [2, 10]\u001b[0m\n",
       "[2025-05-30 20:33:50,991][\u001b[1;36m\u001b[1;36mtensorcraft.mpi.distributions.multi_axis_dist\u001b[0m\u001b[0m][\u001b[1;35m\u001b[1;35mapply\u001b[0m\u001b[0m][\u001b[1;30m\u001b[1;32mDEBUG\u001b[0m\u001b[0m] - R1/8:\u001b[1;30m\u001b[1;32mN blocks per axis: [2, 10]\u001b[0m\u001b[0m\n",
       "[2025-05-30 20:33:50,991][\u001b[1;36m\u001b[1;36m\u001b[1;36mtensorcraft.mpi.distributions.multi_axis_dist\u001b[0m\u001b[0m\u001b[0m][\u001b[1;35m\u001b[1;35m\u001b[1;35mapply\u001b[0m\u001b[0m\u001b[0m][\u001b[1;30m\u001b[1;30m\u001b[1;32mDEBUG\u001b[0m\u001b[0m\u001b[0m] - R1/8:\u001b[1;30m\u001b[1;30m\u001b[1;32mN blocks per axis: [2, 10]\u001b[0m\u001b[0m\u001b[0m\n",
       "[2025-05-30 20:33:50,997][\u001b[1;36mtensorcraft.mpi.distributions.multi_axis_dist\u001b[0m][\u001b[1;35mapply\u001b[0m][\u001b[1;32mDEBUG\u001b[0m] - R1/8:\u001b[1;32mPadded tensor shape: torch.Size([3, 22])\u001b[0m\n",
       "[2025-05-30 20:33:50,997][\u001b[1;36m\u001b[1;36mtensorcraft.mpi.distributions.multi_axis_dist\u001b[0m\u001b[0m][\u001b[1;35m\u001b[1;35mapply\u001b[0m\u001b[0m][\u001b[1;30m\u001b[1;32mDEBUG\u001b[0m\u001b[0m] - R1/8:\u001b[1;30m\u001b[1;32mPadded tensor shape: torch.Size([3, 22])\u001b[0m\u001b[0m\n",
       "[2025-05-30 20:33:50,997][\u001b[1;36m\u001b[1;36m\u001b[1;36mtensorcraft.mpi.distributions.multi_axis_dist\u001b[0m\u001b[0m\u001b[0m][\u001b[1;35m\u001b[1;35m\u001b[1;35mapply\u001b[0m\u001b[0m\u001b[0m][\u001b[1;30m\u001b[1;30m\u001b[1;32mDEBUG\u001b[0m\u001b[0m\u001b[0m] - R1/8:\u001b[1;30m\u001b[1;30m\u001b[1;32mPadded tensor shape: torch.Size([3, 22])\u001b[0m\u001b[0m\u001b[0m\n",
       "[2025-05-30 20:33:51,001][\u001b[1;36mtensorcraft.mpi.distributions.multi_axis_dist\u001b[0m][\u001b[1;35mapply\u001b[0m][\u001b[1;32mDEBUG\u001b[0m] - R1/8:\u001b[1;32mPermute tuple: (0, 2, 1, 3)\u001b[0m\n",
       "[2025-05-30 20:33:51,001][\u001b[1;36m\u001b[1;36mtensorcraft.mpi.distributions.multi_axis_dist\u001b[0m\u001b[0m][\u001b[1;35m\u001b[1;35mapply\u001b[0m\u001b[0m][\u001b[1;30m\u001b[1;32mDEBUG\u001b[0m\u001b[0m] - R1/8:\u001b[1;30m\u001b[1;32mPermute tuple: (0, 2, 1, 3)\u001b[0m\u001b[0m\n",
       "[2025-05-30 20:33:51,001][\u001b[1;36m\u001b[1;36m\u001b[1;36mtensorcraft.mpi.distributions.multi_axis_dist\u001b[0m\u001b[0m\u001b[0m][\u001b[1;35m\u001b[1;35m\u001b[1;35mapply\u001b[0m\u001b[0m\u001b[0m][\u001b[1;30m\u001b[1;30m\u001b[1;32mDEBUG\u001b[0m\u001b[0m\u001b[0m] - R1/8:\u001b[1;30m\u001b[1;30m\u001b[1;32mPermute tuple: (0, 2, 1, 3)\u001b[0m\u001b[0m\u001b[0m\n",
       "[2025-05-30 20:33:51,007][\u001b[1;36mtensorcraft.mpi.distributions.multi_axis_dist\u001b[0m][\u001b[1;35mapply\u001b[0m][\u001b[1;32mDEBUG\u001b[0m] - R1/8:\u001b[1;32mReshape tuple: [3, 1, 11, 2]\u001b[0m\n",
       "[2025-05-30 20:33:51,007][\u001b[1;36m\u001b[1;36mtensorcraft.mpi.distributions.multi_axis_dist\u001b[0m\u001b[0m][\u001b[1;35m\u001b[1;35mapply\u001b[0m\u001b[0m][\u001b[1;30m\u001b[1;32mDEBUG\u001b[0m\u001b[0m] - R1/8:\u001b[1;30m\u001b[1;32mReshape tuple: [3, 1, 11, 2]\u001b[0m\u001b[0m\n",
       "[2025-05-30 20:33:51,007][\u001b[1;36m\u001b[1;36m\u001b[1;36mtensorcraft.mpi.distributions.multi_axis_dist\u001b[0m\u001b[0m\u001b[0m][\u001b[1;35m\u001b[1;35m\u001b[1;35mapply\u001b[0m\u001b[0m\u001b[0m][\u001b[1;30m\u001b[1;30m\u001b[1;32mDEBUG\u001b[0m\u001b[0m\u001b[0m] - R1/8:\u001b[1;30m\u001b[1;30m\u001b[1;32mReshape tuple: [3, 1, 11, 2]\u001b[0m\u001b[0m\u001b[0m\n",
       "[2025-05-30 20:33:51,013][\u001b[1;36mtensorcraft.mpi.distributions.multi_axis_dist\u001b[0m][\u001b[1;35mapply\u001b[0m][\u001b[1;32mDEBUG\u001b[0m] - R1/8:\u001b[1;32mTile Slices: [slice(tensor(0), None, 2), slice(None, None, None), slice(tensor(2), None, 4), slice(None, None, None)]\u001b[0m\n",
       "[2025-05-30 20:33:51,013][\u001b[1;36m\u001b[1;36mtensorcraft.mpi.distributions.multi_axis_dist\u001b[0m\u001b[0m][\u001b[1;35m\u001b[1;35mapply\u001b[0m\u001b[0m][\u001b[1;30m\u001b[1;32mDEBUG\u001b[0m\u001b[0m] - R1/8:\u001b[1;30m\u001b[1;32mTile Slices: [slice(tensor(0), None, 2), slice(None, None, None), slice(tensor(2), None, 4), slice(None, None, None)]\u001b[0m\u001b[0m\n",
       "[2025-05-30 20:33:51,013][\u001b[1;36m\u001b[1;36m\u001b[1;36mtensorcraft.mpi.distributions.multi_axis_dist\u001b[0m\u001b[0m\u001b[0m][\u001b[1;35m\u001b[1;35m\u001b[1;35mapply\u001b[0m\u001b[0m\u001b[0m][\u001b[1;30m\u001b[1;30m\u001b[1;32mDEBUG\u001b[0m\u001b[0m\u001b[0m] - R1/8:\u001b[1;30m\u001b[1;30m\u001b[1;32mTile Slices: [slice(tensor(0), None, 2), slice(None, None, None), slice(tensor(2), None, 4), slice(None, None, None)]\u001b[0m\u001b[0m\u001b[0m\n",
       "[2025-05-30 20:33:51,017][\u001b[1;36mtensorcraft.mpi.distributions.multi_axis_dist\u001b[0m][\u001b[1;35mapply\u001b[0m][\u001b[1;32mDEBUG\u001b[0m] - R1/8:\u001b[1;32mLocal tensor shape: torch.Size([2, 1, 3, 2])\u001b[0m\n",
       "[2025-05-30 20:33:51,017][\u001b[1;36m\u001b[1;36mtensorcraft.mpi.distributions.multi_axis_dist\u001b[0m\u001b[0m][\u001b[1;35m\u001b[1;35mapply\u001b[0m\u001b[0m][\u001b[1;30m\u001b[1;32mDEBUG\u001b[0m\u001b[0m] - R1/8:\u001b[1;30m\u001b[1;32mLocal tensor shape: torch.Size([2, 1, 3, 2])\u001b[0m\u001b[0m\n",
       "[2025-05-30 20:33:51,017][\u001b[1;36m\u001b[1;36m\u001b[1;36mtensorcraft.mpi.distributions.multi_axis_dist\u001b[0m\u001b[0m\u001b[0m][\u001b[1;35m\u001b[1;35m\u001b[1;35mapply\u001b[0m\u001b[0m\u001b[0m][\u001b[1;30m\u001b[1;30m\u001b[1;32mDEBUG\u001b[0m\u001b[0m\u001b[0m] - R1/8:\u001b[1;30m\u001b[1;30m\u001b[1;32mLocal tensor shape: torch.Size([2, 1, 3, 2])\u001b[0m\u001b[0m\u001b[0m\n",
       "[2025-05-30 20:33:51,021][\u001b[1;36mtensorcraft.mpi.distributions.multi_axis_dist\u001b[0m][\u001b[1;35mapply\u001b[0m][\u001b[1;32mDEBUG\u001b[0m] - R1/8:\u001b[1;32mTarget local tensor shape: [2, 6]\u001b[0m\n",
       "[2025-05-30 20:33:51,021][\u001b[1;36m\u001b[1;36mtensorcraft.mpi.distributions.multi_axis_dist\u001b[0m\u001b[0m][\u001b[1;35m\u001b[1;35mapply\u001b[0m\u001b[0m][\u001b[1;30m\u001b[1;32mDEBUG\u001b[0m\u001b[0m] - R1/8:\u001b[1;30m\u001b[1;32mTarget local tensor shape: [2, 6]\u001b[0m\u001b[0m\n",
       "[2025-05-30 20:33:51,021][\u001b[1;36m\u001b[1;36m\u001b[1;36mtensorcraft.mpi.distributions.multi_axis_dist\u001b[0m\u001b[0m\u001b[0m][\u001b[1;35m\u001b[1;35m\u001b[1;35mapply\u001b[0m\u001b[0m\u001b[0m][\u001b[1;30m\u001b[1;30m\u001b[1;32mDEBUG\u001b[0m\u001b[0m\u001b[0m] - R1/8:\u001b[1;30m\u001b[1;30m\u001b[1;32mTarget local tensor shape: [2, 6]\u001b[0m\u001b[0m\u001b[0m\n",
       "[2025-05-30 20:33:51,031][\u001b[1;36mtensorcraft.mpi.distributions.multi_axis_dist\u001b[0m][\u001b[1;35mapply\u001b[0m][\u001b[1;32mDEBUG\u001b[0m] - R1/8:\u001b[1;32mtensor([[ 4,  5, 12, 13,  0,  0],\n",
       "        [ 0,  0,  0,  0,  0,  0]])\u001b[0m\n",
       "[2025-05-30 20:33:51,031][\u001b[1;36m\u001b[1;36mtensorcraft.mpi.distributions.multi_axis_dist\u001b[0m\u001b[0m][\u001b[1;35m\u001b[1;35mapply\u001b[0m\u001b[0m][\u001b[1;30m\u001b[1;32mDEBUG\u001b[0m\u001b[0m] - R1/8:\u001b[1;30m\u001b[1;32mtensor([[ 4,  5, 12, 13,  0,  0],\n",
       "        [ 0,  0,  0,  0,  0,  0]])\u001b[0m\u001b[0m\n",
       "[2025-05-30 20:33:51,031][\u001b[1;36m\u001b[1;36m\u001b[1;36mtensorcraft.mpi.distributions.multi_axis_dist\u001b[0m\u001b[0m\u001b[0m][\u001b[1;35m\u001b[1;35m\u001b[1;35mapply\u001b[0m\u001b[0m\u001b[0m][\u001b[1;30m\u001b[1;30m\u001b[1;32mDEBUG\u001b[0m\u001b[0m\u001b[0m] - R1/8:\u001b[1;30m\u001b[1;30m\u001b[1;32mtensor([[ 4,  5, 12, 13,  0,  0],\n",
       "        [ 0,  0,  0,  0,  0,  0]])\u001b[0m\u001b[0m\u001b[0m\n",
       "[2025-05-30 20:33:51,036][\u001b[1;36mtensorcraft.mpi.distributions.multi_axis_dist\u001b[0m][\u001b[1;35mapply\u001b[0m][\u001b[1;32mDEBUG\u001b[0m] - R1/8:\u001b[1;32mLinear processor index: 0, Residue: 1, Block size: 1, axis: 0, N procs: 2, N full blocks: 2\u001b[0m\n",
       "[2025-05-30 20:33:51,036][\u001b[1;36m\u001b[1;36mtensorcraft.mpi.distributions.multi_axis_dist\u001b[0m\u001b[0m][\u001b[1;35m\u001b[1;35mapply\u001b[0m\u001b[0m][\u001b[1;30m\u001b[1;32mDEBUG\u001b[0m\u001b[0m] - R1/8:\u001b[1;30m\u001b[1;32mLinear processor index: 0, Residue: 1, Block size: 1, axis: 0, N procs: 2, N full blocks: 2\u001b[0m\u001b[0m\n",
       "[2025-05-30 20:33:51,036][\u001b[1;36m\u001b[1;36m\u001b[1;36mtensorcraft.mpi.distributions.multi_axis_dist\u001b[0m\u001b[0m\u001b[0m][\u001b[1;35m\u001b[1;35m\u001b[1;35mapply\u001b[0m\u001b[0m\u001b[0m][\u001b[1;30m\u001b[1;30m\u001b[1;32mDEBUG\u001b[0m\u001b[0m\u001b[0m] - R1/8:\u001b[1;30m\u001b[1;30m\u001b[1;32mLinear processor index: 0, Residue: 1, Block size: 1, axis: 0, N procs: 2, N full blocks: 2\u001b[0m\u001b[0m\u001b[0m\n",
       "[2025-05-30 20:33:51,039][\u001b[1;36mtensorcraft.mpi.distributions.multi_axis_dist\u001b[0m][\u001b[1;35mapply\u001b[0m][\u001b[1;32mDEBUG\u001b[0m] - R1/8:\u001b[1;32mLinear processor index: 2, Residue: 2, Block size: 2, axis: 1, N procs: 4, N full blocks: 10\u001b[0m\n",
       "[2025-05-30 20:33:51,039][\u001b[1;36m\u001b[1;36mtensorcraft.mpi.distributions.multi_axis_dist\u001b[0m\u001b[0m][\u001b[1;35m\u001b[1;35mapply\u001b[0m\u001b[0m][\u001b[1;30m\u001b[1;32mDEBUG\u001b[0m\u001b[0m] - R1/8:\u001b[1;30m\u001b[1;32mLinear processor index: 2, Residue: 2, Block size: 2, axis: 1, N procs: 4, N full blocks: 10\u001b[0m\u001b[0m\n",
       "[2025-05-30 20:33:51,039][\u001b[1;36m\u001b[1;36m\u001b[1;36mtensorcraft.mpi.distributions.multi_axis_dist\u001b[0m\u001b[0m\u001b[0m][\u001b[1;35m\u001b[1;35m\u001b[1;35mapply\u001b[0m\u001b[0m\u001b[0m][\u001b[1;30m\u001b[1;30m\u001b[1;32mDEBUG\u001b[0m\u001b[0m\u001b[0m] - R1/8:\u001b[1;30m\u001b[1;30m\u001b[1;32mLinear processor index: 2, Residue: 2, Block size: 2, axis: 1, N procs: 4, N full blocks: 10\u001b[0m\u001b[0m\u001b[0m\n",
       "[2025-05-30 20:33:51,042][\u001b[1;36mtensorcraft.mpi.distributions.multi_axis_dist\u001b[0m][\u001b[1;35mapply\u001b[0m][\u001b[1;32mDEBUG\u001b[0m] - R1/8:\u001b[1;32mShaved slices: [slice(0, -1, None), slice(0, -2, None)]\u001b[0m\n",
       "[2025-05-30 20:33:51,042][\u001b[1;36m\u001b[1;36mtensorcraft.mpi.distributions.multi_axis_dist\u001b[0m\u001b[0m][\u001b[1;35m\u001b[1;35mapply\u001b[0m\u001b[0m][\u001b[1;30m\u001b[1;32mDEBUG\u001b[0m\u001b[0m] - R1/8:\u001b[1;30m\u001b[1;32mShaved slices: [slice(0, -1, None), slice(0, -2, None)]\u001b[0m\u001b[0m\n",
       "[2025-05-30 20:33:51,042][\u001b[1;36m\u001b[1;36m\u001b[1;36mtensorcraft.mpi.distributions.multi_axis_dist\u001b[0m\u001b[0m\u001b[0m][\u001b[1;35m\u001b[1;35m\u001b[1;35mapply\u001b[0m\u001b[0m\u001b[0m][\u001b[1;30m\u001b[1;30m\u001b[1;32mDEBUG\u001b[0m\u001b[0m\u001b[0m] - R1/8:\u001b[1;30m\u001b[1;30m\u001b[1;32mShaved slices: [slice(0, -1, None), slice(0, -2, None)]\u001b[0m\u001b[0m\u001b[0m\n",
       "[2025-05-30 20:33:51,053][\u001b[1;36mtensorcraft.mpi.distributions.multi_axis_dist\u001b[0m][\u001b[1;35mapply\u001b[0m][\u001b[1;32mDEBUG\u001b[0m] - R1/8:\u001b[1;32mFinal local tensor shape: torch.Size([1, 4])\u001b[0m\n",
       "[2025-05-30 20:33:51,053][\u001b[1;36m\u001b[1;36mtensorcraft.mpi.distributions.multi_axis_dist\u001b[0m\u001b[0m][\u001b[1;35m\u001b[1;35mapply\u001b[0m\u001b[0m][\u001b[1;30m\u001b[1;32mDEBUG\u001b[0m\u001b[0m] - R1/8:\u001b[1;30m\u001b[1;32mFinal local tensor shape: torch.Size([1, 4])\u001b[0m\u001b[0m\n",
       "[2025-05-30 20:33:51,053][\u001b[1;36m\u001b[1;36m\u001b[1;36mtensorcraft.mpi.distributions.multi_axis_dist\u001b[0m\u001b[0m\u001b[0m][\u001b[1;35m\u001b[1;35m\u001b[1;35mapply\u001b[0m\u001b[0m\u001b[0m][\u001b[1;30m\u001b[1;30m\u001b[1;32mDEBUG\u001b[0m\u001b[0m\u001b[0m] - R1/8:\u001b[1;30m\u001b[1;30m\u001b[1;32mFinal local tensor shape: torch.Size([1, 4])\u001b[0m\u001b[0m\u001b[0m\n"
      ]
     },
     "metadata": {},
     "output_type": "display_data"
    },
    {
     "data": {
      "text/plain": [
       "[stdout:5] [2025-05-30 20:33:50,984][\u001b[1;36mtensorcraft.mpi.distributions.multi_axis_dist\u001b[0m][\u001b[1;35mapply\u001b[0m][\u001b[1;32mDEBUG\u001b[0m] - R5/8:\u001b[1;32mProcessor multi index: torch.Size([1, 0, 1])\u001b[0m\n",
       "[2025-05-30 20:33:50,984][\u001b[1;36m\u001b[1;36mtensorcraft.mpi.distributions.multi_axis_dist\u001b[0m\u001b[0m][\u001b[1;35m\u001b[1;35mapply\u001b[0m\u001b[0m][\u001b[1;30m\u001b[1;32mDEBUG\u001b[0m\u001b[0m] - R5/8:\u001b[1;30m\u001b[1;32mProcessor multi index: torch.Size([1, 0, 1])\u001b[0m\u001b[0m\n",
       "[2025-05-30 20:33:50,984][\u001b[1;36m\u001b[1;36m\u001b[1;36mtensorcraft.mpi.distributions.multi_axis_dist\u001b[0m\u001b[0m\u001b[0m][\u001b[1;35m\u001b[1;35m\u001b[1;35mapply\u001b[0m\u001b[0m\u001b[0m][\u001b[1;30m\u001b[1;30m\u001b[1;32mDEBUG\u001b[0m\u001b[0m\u001b[0m] - R5/8:\u001b[1;30m\u001b[1;30m\u001b[1;32mProcessor multi index: torch.Size([1, 0, 1])\u001b[0m\u001b[0m\u001b[0m\n",
       "[2025-05-30 20:33:50,988][\u001b[1;36mtensorcraft.mpi.distributions.multi_axis_dist\u001b[0m][\u001b[1;35mapply\u001b[0m][\u001b[1;32mDEBUG\u001b[0m] - R5/8:\u001b[1;32mMissing elements: [1, 2]\u001b[0m\n",
       "[2025-05-30 20:33:50,988][\u001b[1;36m\u001b[1;36mtensorcraft.mpi.distributions.multi_axis_dist\u001b[0m\u001b[0m][\u001b[1;35m\u001b[1;35mapply\u001b[0m\u001b[0m][\u001b[1;30m\u001b[1;32mDEBUG\u001b[0m\u001b[0m] - R5/8:\u001b[1;30m\u001b[1;32mMissing elements: [1, 2]\u001b[0m\u001b[0m\n",
       "[2025-05-30 20:33:50,988][\u001b[1;36m\u001b[1;36m\u001b[1;36mtensorcraft.mpi.distributions.multi_axis_dist\u001b[0m\u001b[0m\u001b[0m][\u001b[1;35m\u001b[1;35m\u001b[1;35mapply\u001b[0m\u001b[0m\u001b[0m][\u001b[1;30m\u001b[1;30m\u001b[1;32mDEBUG\u001b[0m\u001b[0m\u001b[0m] - R5/8:\u001b[1;30m\u001b[1;30m\u001b[1;32mMissing elements: [1, 2]\u001b[0m\u001b[0m\u001b[0m\n",
       "[2025-05-30 20:33:50,990][\u001b[1;36mtensorcraft.mpi.distributions.multi_axis_dist\u001b[0m][\u001b[1;35mapply\u001b[0m][\u001b[1;32mDEBUG\u001b[0m] - R5/8:\u001b[1;32mN blocks per axis: [2, 10]\u001b[0m\n",
       "[2025-05-30 20:33:50,990][\u001b[1;36m\u001b[1;36mtensorcraft.mpi.distributions.multi_axis_dist\u001b[0m\u001b[0m][\u001b[1;35m\u001b[1;35mapply\u001b[0m\u001b[0m][\u001b[1;30m\u001b[1;32mDEBUG\u001b[0m\u001b[0m] - R5/8:\u001b[1;30m\u001b[1;32mN blocks per axis: [2, 10]\u001b[0m\u001b[0m\n",
       "[2025-05-30 20:33:50,990][\u001b[1;36m\u001b[1;36m\u001b[1;36mtensorcraft.mpi.distributions.multi_axis_dist\u001b[0m\u001b[0m\u001b[0m][\u001b[1;35m\u001b[1;35m\u001b[1;35mapply\u001b[0m\u001b[0m\u001b[0m][\u001b[1;30m\u001b[1;30m\u001b[1;32mDEBUG\u001b[0m\u001b[0m\u001b[0m] - R5/8:\u001b[1;30m\u001b[1;30m\u001b[1;32mN blocks per axis: [2, 10]\u001b[0m\u001b[0m\u001b[0m\n",
       "[2025-05-30 20:33:50,992][\u001b[1;36mtensorcraft.mpi.distributions.multi_axis_dist\u001b[0m][\u001b[1;35mapply\u001b[0m][\u001b[1;32mDEBUG\u001b[0m] - R5/8:\u001b[1;32mPadded tensor shape: torch.Size([3, 22])\u001b[0m\n",
       "[2025-05-30 20:33:50,992][\u001b[1;36m\u001b[1;36mtensorcraft.mpi.distributions.multi_axis_dist\u001b[0m\u001b[0m][\u001b[1;35m\u001b[1;35mapply\u001b[0m\u001b[0m][\u001b[1;30m\u001b[1;32mDEBUG\u001b[0m\u001b[0m] - R5/8:\u001b[1;30m\u001b[1;32mPadded tensor shape: torch.Size([3, 22])\u001b[0m\u001b[0m\n",
       "[2025-05-30 20:33:50,992][\u001b[1;36m\u001b[1;36m\u001b[1;36mtensorcraft.mpi.distributions.multi_axis_dist\u001b[0m\u001b[0m\u001b[0m][\u001b[1;35m\u001b[1;35m\u001b[1;35mapply\u001b[0m\u001b[0m\u001b[0m][\u001b[1;30m\u001b[1;30m\u001b[1;32mDEBUG\u001b[0m\u001b[0m\u001b[0m] - R5/8:\u001b[1;30m\u001b[1;30m\u001b[1;32mPadded tensor shape: torch.Size([3, 22])\u001b[0m\u001b[0m\u001b[0m\n",
       "[2025-05-30 20:33:50,994][\u001b[1;36mtensorcraft.mpi.distributions.multi_axis_dist\u001b[0m][\u001b[1;35mapply\u001b[0m][\u001b[1;32mDEBUG\u001b[0m] - R5/8:\u001b[1;32mPermute tuple: (0, 2, 1, 3)\u001b[0m\n",
       "[2025-05-30 20:33:50,994][\u001b[1;36m\u001b[1;36mtensorcraft.mpi.distributions.multi_axis_dist\u001b[0m\u001b[0m][\u001b[1;35m\u001b[1;35mapply\u001b[0m\u001b[0m][\u001b[1;30m\u001b[1;32mDEBUG\u001b[0m\u001b[0m] - R5/8:\u001b[1;30m\u001b[1;32mPermute tuple: (0, 2, 1, 3)\u001b[0m\u001b[0m\n",
       "[2025-05-30 20:33:50,994][\u001b[1;36m\u001b[1;36m\u001b[1;36mtensorcraft.mpi.distributions.multi_axis_dist\u001b[0m\u001b[0m\u001b[0m][\u001b[1;35m\u001b[1;35m\u001b[1;35mapply\u001b[0m\u001b[0m\u001b[0m][\u001b[1;30m\u001b[1;30m\u001b[1;32mDEBUG\u001b[0m\u001b[0m\u001b[0m] - R5/8:\u001b[1;30m\u001b[1;30m\u001b[1;32mPermute tuple: (0, 2, 1, 3)\u001b[0m\u001b[0m\u001b[0m\n",
       "[2025-05-30 20:33:50,998][\u001b[1;36mtensorcraft.mpi.distributions.multi_axis_dist\u001b[0m][\u001b[1;35mapply\u001b[0m][\u001b[1;32mDEBUG\u001b[0m] - R5/8:\u001b[1;32mReshape tuple: [3, 1, 11, 2]\u001b[0m\n",
       "[2025-05-30 20:33:50,998][\u001b[1;36m\u001b[1;36mtensorcraft.mpi.distributions.multi_axis_dist\u001b[0m\u001b[0m][\u001b[1;35m\u001b[1;35mapply\u001b[0m\u001b[0m][\u001b[1;30m\u001b[1;32mDEBUG\u001b[0m\u001b[0m] - R5/8:\u001b[1;30m\u001b[1;32mReshape tuple: [3, 1, 11, 2]\u001b[0m\u001b[0m\n",
       "[2025-05-30 20:33:50,998][\u001b[1;36m\u001b[1;36m\u001b[1;36mtensorcraft.mpi.distributions.multi_axis_dist\u001b[0m\u001b[0m\u001b[0m][\u001b[1;35m\u001b[1;35m\u001b[1;35mapply\u001b[0m\u001b[0m\u001b[0m][\u001b[1;30m\u001b[1;30m\u001b[1;32mDEBUG\u001b[0m\u001b[0m\u001b[0m] - R5/8:\u001b[1;30m\u001b[1;30m\u001b[1;32mReshape tuple: [3, 1, 11, 2]\u001b[0m\u001b[0m\u001b[0m\n",
       "[2025-05-30 20:33:51,001][\u001b[1;36mtensorcraft.mpi.distributions.multi_axis_dist\u001b[0m][\u001b[1;35mapply\u001b[0m][\u001b[1;32mDEBUG\u001b[0m] - R5/8:\u001b[1;32mTile Slices: [slice(tensor(0), None, 2), slice(None, None, None), slice(tensor(3), None, 4), slice(None, None, None)]\u001b[0m\n",
       "[2025-05-30 20:33:51,001][\u001b[1;36m\u001b[1;36mtensorcraft.mpi.distributions.multi_axis_dist\u001b[0m\u001b[0m][\u001b[1;35m\u001b[1;35mapply\u001b[0m\u001b[0m][\u001b[1;30m\u001b[1;32mDEBUG\u001b[0m\u001b[0m] - R5/8:\u001b[1;30m\u001b[1;32mTile Slices: [slice(tensor(0), None, 2), slice(None, None, None), slice(tensor(3), None, 4), slice(None, None, None)]\u001b[0m\u001b[0m\n",
       "[2025-05-30 20:33:51,001][\u001b[1;36m\u001b[1;36m\u001b[1;36mtensorcraft.mpi.distributions.multi_axis_dist\u001b[0m\u001b[0m\u001b[0m][\u001b[1;35m\u001b[1;35m\u001b[1;35mapply\u001b[0m\u001b[0m\u001b[0m][\u001b[1;30m\u001b[1;30m\u001b[1;32mDEBUG\u001b[0m\u001b[0m\u001b[0m] - R5/8:\u001b[1;30m\u001b[1;30m\u001b[1;32mTile Slices: [slice(tensor(0), None, 2), slice(None, None, None), slice(tensor(3), None, 4), slice(None, None, None)]\u001b[0m\u001b[0m\u001b[0m\n",
       "[2025-05-30 20:33:51,003][\u001b[1;36mtensorcraft.mpi.distributions.multi_axis_dist\u001b[0m][\u001b[1;35mapply\u001b[0m][\u001b[1;32mDEBUG\u001b[0m] - R5/8:\u001b[1;32mLocal tensor shape: torch.Size([2, 1, 2, 2])\u001b[0m\n",
       "[2025-05-30 20:33:51,003][\u001b[1;36m\u001b[1;36mtensorcraft.mpi.distributions.multi_axis_dist\u001b[0m\u001b[0m][\u001b[1;35m\u001b[1;35mapply\u001b[0m\u001b[0m][\u001b[1;30m\u001b[1;32mDEBUG\u001b[0m\u001b[0m] - R5/8:\u001b[1;30m\u001b[1;32mLocal tensor shape: torch.Size([2, 1, 2, 2])\u001b[0m\u001b[0m\n",
       "[2025-05-30 20:33:51,003][\u001b[1;36m\u001b[1;36m\u001b[1;36mtensorcraft.mpi.distributions.multi_axis_dist\u001b[0m\u001b[0m\u001b[0m][\u001b[1;35m\u001b[1;35m\u001b[1;35mapply\u001b[0m\u001b[0m\u001b[0m][\u001b[1;30m\u001b[1;30m\u001b[1;32mDEBUG\u001b[0m\u001b[0m\u001b[0m] - R5/8:\u001b[1;30m\u001b[1;30m\u001b[1;32mLocal tensor shape: torch.Size([2, 1, 2, 2])\u001b[0m\u001b[0m\u001b[0m\n",
       "[2025-05-30 20:33:51,006][\u001b[1;36mtensorcraft.mpi.distributions.multi_axis_dist\u001b[0m][\u001b[1;35mapply\u001b[0m][\u001b[1;32mDEBUG\u001b[0m] - R5/8:\u001b[1;32mTarget local tensor shape: [2, 4]\u001b[0m\n",
       "[2025-05-30 20:33:51,006][\u001b[1;36m\u001b[1;36mtensorcraft.mpi.distributions.multi_axis_dist\u001b[0m\u001b[0m][\u001b[1;35m\u001b[1;35mapply\u001b[0m\u001b[0m][\u001b[1;30m\u001b[1;32mDEBUG\u001b[0m\u001b[0m] - R5/8:\u001b[1;30m\u001b[1;32mTarget local tensor shape: [2, 4]\u001b[0m\u001b[0m\n",
       "[2025-05-30 20:33:51,006][\u001b[1;36m\u001b[1;36m\u001b[1;36mtensorcraft.mpi.distributions.multi_axis_dist\u001b[0m\u001b[0m\u001b[0m][\u001b[1;35m\u001b[1;35m\u001b[1;35mapply\u001b[0m\u001b[0m\u001b[0m][\u001b[1;30m\u001b[1;30m\u001b[1;32mDEBUG\u001b[0m\u001b[0m\u001b[0m] - R5/8:\u001b[1;30m\u001b[1;30m\u001b[1;32mTarget local tensor shape: [2, 4]\u001b[0m\u001b[0m\u001b[0m\n",
       "[2025-05-30 20:33:51,008][\u001b[1;36mtensorcraft.mpi.distributions.multi_axis_dist\u001b[0m][\u001b[1;35mapply\u001b[0m][\u001b[1;32mDEBUG\u001b[0m] - R5/8:\u001b[1;32mtensor([[ 6,  7, 14, 15],\n",
       "        [ 0,  0,  0,  0]])\u001b[0m\n",
       "[2025-05-30 20:33:51,008][\u001b[1;36m\u001b[1;36mtensorcraft.mpi.distributions.multi_axis_dist\u001b[0m\u001b[0m][\u001b[1;35m\u001b[1;35mapply\u001b[0m\u001b[0m][\u001b[1;30m\u001b[1;32mDEBUG\u001b[0m\u001b[0m] - R5/8:\u001b[1;30m\u001b[1;32mtensor([[ 6,  7, 14, 15],\n",
       "        [ 0,  0,  0,  0]])\u001b[0m\u001b[0m\n",
       "[2025-05-30 20:33:51,008][\u001b[1;36m\u001b[1;36m\u001b[1;36mtensorcraft.mpi.distributions.multi_axis_dist\u001b[0m\u001b[0m\u001b[0m][\u001b[1;35m\u001b[1;35m\u001b[1;35mapply\u001b[0m\u001b[0m\u001b[0m][\u001b[1;30m\u001b[1;30m\u001b[1;32mDEBUG\u001b[0m\u001b[0m\u001b[0m] - R5/8:\u001b[1;30m\u001b[1;30m\u001b[1;32mtensor([[ 6,  7, 14, 15],\n",
       "        [ 0,  0,  0,  0]])\u001b[0m\u001b[0m\u001b[0m\n",
       "[2025-05-30 20:33:51,012][\u001b[1;36mtensorcraft.mpi.distributions.multi_axis_dist\u001b[0m][\u001b[1;35mapply\u001b[0m][\u001b[1;32mDEBUG\u001b[0m] - R5/8:\u001b[1;32mLinear processor index: 0, Residue: 1, Block size: 1, axis: 0, N procs: 2, N full blocks: 2\u001b[0m\n",
       "[2025-05-30 20:33:51,012][\u001b[1;36m\u001b[1;36mtensorcraft.mpi.distributions.multi_axis_dist\u001b[0m\u001b[0m][\u001b[1;35m\u001b[1;35mapply\u001b[0m\u001b[0m][\u001b[1;30m\u001b[1;32mDEBUG\u001b[0m\u001b[0m] - R5/8:\u001b[1;30m\u001b[1;32mLinear processor index: 0, Residue: 1, Block size: 1, axis: 0, N procs: 2, N full blocks: 2\u001b[0m\u001b[0m\n",
       "[2025-05-30 20:33:51,012][\u001b[1;36m\u001b[1;36m\u001b[1;36mtensorcraft.mpi.distributions.multi_axis_dist\u001b[0m\u001b[0m\u001b[0m][\u001b[1;35m\u001b[1;35m\u001b[1;35mapply\u001b[0m\u001b[0m\u001b[0m][\u001b[1;30m\u001b[1;30m\u001b[1;32mDEBUG\u001b[0m\u001b[0m\u001b[0m] - R5/8:\u001b[1;30m\u001b[1;30m\u001b[1;32mLinear processor index: 0, Residue: 1, Block size: 1, axis: 0, N procs: 2, N full blocks: 2\u001b[0m\u001b[0m\u001b[0m\n",
       "[2025-05-30 20:33:51,015][\u001b[1;36mtensorcraft.mpi.distributions.multi_axis_dist\u001b[0m][\u001b[1;35mapply\u001b[0m][\u001b[1;32mDEBUG\u001b[0m] - R5/8:\u001b[1;32mLinear processor index: 3, Residue: 2, Block size: 2, axis: 1, N procs: 4, N full blocks: 10\u001b[0m\n",
       "[2025-05-30 20:33:51,015][\u001b[1;36m\u001b[1;36mtensorcraft.mpi.distributions.multi_axis_dist\u001b[0m\u001b[0m][\u001b[1;35m\u001b[1;35mapply\u001b[0m\u001b[0m][\u001b[1;30m\u001b[1;32mDEBUG\u001b[0m\u001b[0m] - R5/8:\u001b[1;30m\u001b[1;32mLinear processor index: 3, Residue: 2, Block size: 2, axis: 1, N procs: 4, N full blocks: 10\u001b[0m\u001b[0m\n",
       "[2025-05-30 20:33:51,015][\u001b[1;36m\u001b[1;36m\u001b[1;36mtensorcraft.mpi.distributions.multi_axis_dist\u001b[0m\u001b[0m\u001b[0m][\u001b[1;35m\u001b[1;35m\u001b[1;35mapply\u001b[0m\u001b[0m\u001b[0m][\u001b[1;30m\u001b[1;30m\u001b[1;32mDEBUG\u001b[0m\u001b[0m\u001b[0m] - R5/8:\u001b[1;30m\u001b[1;30m\u001b[1;32mLinear processor index: 3, Residue: 2, Block size: 2, axis: 1, N procs: 4, N full blocks: 10\u001b[0m\u001b[0m\u001b[0m\n",
       "[2025-05-30 20:33:51,018][\u001b[1;36mtensorcraft.mpi.distributions.multi_axis_dist\u001b[0m][\u001b[1;35mapply\u001b[0m][\u001b[1;32mDEBUG\u001b[0m] - R5/8:\u001b[1;32mShaved slices: [slice(0, -1, None), slice(None, None, None)]\u001b[0m\n",
       "[2025-05-30 20:33:51,018][\u001b[1;36m\u001b[1;36mtensorcraft.mpi.distributions.multi_axis_dist\u001b[0m\u001b[0m][\u001b[1;35m\u001b[1;35mapply\u001b[0m\u001b[0m][\u001b[1;30m\u001b[1;32mDEBUG\u001b[0m\u001b[0m] - R5/8:\u001b[1;30m\u001b[1;32mShaved slices: [slice(0, -1, None), slice(None, None, None)]\u001b[0m\u001b[0m\n",
       "[2025-05-30 20:33:51,018][\u001b[1;36m\u001b[1;36m\u001b[1;36mtensorcraft.mpi.distributions.multi_axis_dist\u001b[0m\u001b[0m\u001b[0m][\u001b[1;35m\u001b[1;35m\u001b[1;35mapply\u001b[0m\u001b[0m\u001b[0m][\u001b[1;30m\u001b[1;30m\u001b[1;32mDEBUG\u001b[0m\u001b[0m\u001b[0m] - R5/8:\u001b[1;30m\u001b[1;30m\u001b[1;32mShaved slices: [slice(0, -1, None), slice(None, None, None)]\u001b[0m\u001b[0m\u001b[0m\n",
       "[2025-05-30 20:33:51,021][\u001b[1;36mtensorcraft.mpi.distributions.multi_axis_dist\u001b[0m][\u001b[1;35mapply\u001b[0m][\u001b[1;32mDEBUG\u001b[0m] - R5/8:\u001b[1;32mFinal local tensor shape: torch.Size([1, 4])\u001b[0m\n",
       "[2025-05-30 20:33:51,021][\u001b[1;36m\u001b[1;36mtensorcraft.mpi.distributions.multi_axis_dist\u001b[0m\u001b[0m][\u001b[1;35m\u001b[1;35mapply\u001b[0m\u001b[0m][\u001b[1;30m\u001b[1;32mDEBUG\u001b[0m\u001b[0m] - R5/8:\u001b[1;30m\u001b[1;32mFinal local tensor shape: torch.Size([1, 4])\u001b[0m\u001b[0m\n",
       "[2025-05-30 20:33:51,021][\u001b[1;36m\u001b[1;36m\u001b[1;36mtensorcraft.mpi.distributions.multi_axis_dist\u001b[0m\u001b[0m\u001b[0m][\u001b[1;35m\u001b[1;35m\u001b[1;35mapply\u001b[0m\u001b[0m\u001b[0m][\u001b[1;30m\u001b[1;30m\u001b[1;32mDEBUG\u001b[0m\u001b[0m\u001b[0m] - R5/8:\u001b[1;30m\u001b[1;30m\u001b[1;32mFinal local tensor shape: torch.Size([1, 4])\u001b[0m\u001b[0m\u001b[0m\n"
      ]
     },
     "metadata": {},
     "output_type": "display_data"
    },
    {
     "data": {
      "text/plain": [
       "[stdout:6] [2025-05-30 20:33:50,985][\u001b[1;36mtensorcraft.mpi.distributions.multi_axis_dist\u001b[0m][\u001b[1;35mapply\u001b[0m][\u001b[1;32mDEBUG\u001b[0m] - R6/8:\u001b[1;32mProcessor multi index: torch.Size([1, 1, 0])\u001b[0m\n",
       "[2025-05-30 20:33:50,985][\u001b[1;36m\u001b[1;36mtensorcraft.mpi.distributions.multi_axis_dist\u001b[0m\u001b[0m][\u001b[1;35m\u001b[1;35mapply\u001b[0m\u001b[0m][\u001b[1;30m\u001b[1;32mDEBUG\u001b[0m\u001b[0m] - R6/8:\u001b[1;30m\u001b[1;32mProcessor multi index: torch.Size([1, 1, 0])\u001b[0m\u001b[0m\n",
       "[2025-05-30 20:33:50,985][\u001b[1;36m\u001b[1;36m\u001b[1;36mtensorcraft.mpi.distributions.multi_axis_dist\u001b[0m\u001b[0m\u001b[0m][\u001b[1;35m\u001b[1;35m\u001b[1;35mapply\u001b[0m\u001b[0m\u001b[0m][\u001b[1;30m\u001b[1;30m\u001b[1;32mDEBUG\u001b[0m\u001b[0m\u001b[0m] - R6/8:\u001b[1;30m\u001b[1;30m\u001b[1;32mProcessor multi index: torch.Size([1, 1, 0])\u001b[0m\u001b[0m\u001b[0m\n",
       "[2025-05-30 20:33:50,995][\u001b[1;36mtensorcraft.mpi.distributions.multi_axis_dist\u001b[0m][\u001b[1;35mapply\u001b[0m][\u001b[1;32mDEBUG\u001b[0m] - R6/8:\u001b[1;32mMissing elements: [1, 2]\u001b[0m\n",
       "[2025-05-30 20:33:50,995][\u001b[1;36m\u001b[1;36mtensorcraft.mpi.distributions.multi_axis_dist\u001b[0m\u001b[0m][\u001b[1;35m\u001b[1;35mapply\u001b[0m\u001b[0m][\u001b[1;30m\u001b[1;32mDEBUG\u001b[0m\u001b[0m] - R6/8:\u001b[1;30m\u001b[1;32mMissing elements: [1, 2]\u001b[0m\u001b[0m\n",
       "[2025-05-30 20:33:50,995][\u001b[1;36m\u001b[1;36m\u001b[1;36mtensorcraft.mpi.distributions.multi_axis_dist\u001b[0m\u001b[0m\u001b[0m][\u001b[1;35m\u001b[1;35m\u001b[1;35mapply\u001b[0m\u001b[0m\u001b[0m][\u001b[1;30m\u001b[1;30m\u001b[1;32mDEBUG\u001b[0m\u001b[0m\u001b[0m] - R6/8:\u001b[1;30m\u001b[1;30m\u001b[1;32mMissing elements: [1, 2]\u001b[0m\u001b[0m\u001b[0m\n",
       "[2025-05-30 20:33:51,002][\u001b[1;36mtensorcraft.mpi.distributions.multi_axis_dist\u001b[0m][\u001b[1;35mapply\u001b[0m][\u001b[1;32mDEBUG\u001b[0m] - R6/8:\u001b[1;32mN blocks per axis: [2, 10]\u001b[0m\n",
       "[2025-05-30 20:33:51,002][\u001b[1;36m\u001b[1;36mtensorcraft.mpi.distributions.multi_axis_dist\u001b[0m\u001b[0m][\u001b[1;35m\u001b[1;35mapply\u001b[0m\u001b[0m][\u001b[1;30m\u001b[1;32mDEBUG\u001b[0m\u001b[0m] - R6/8:\u001b[1;30m\u001b[1;32mN blocks per axis: [2, 10]\u001b[0m\u001b[0m\n",
       "[2025-05-30 20:33:51,002][\u001b[1;36m\u001b[1;36m\u001b[1;36mtensorcraft.mpi.distributions.multi_axis_dist\u001b[0m\u001b[0m\u001b[0m][\u001b[1;35m\u001b[1;35m\u001b[1;35mapply\u001b[0m\u001b[0m\u001b[0m][\u001b[1;30m\u001b[1;30m\u001b[1;32mDEBUG\u001b[0m\u001b[0m\u001b[0m] - R6/8:\u001b[1;30m\u001b[1;30m\u001b[1;32mN blocks per axis: [2, 10]\u001b[0m\u001b[0m\u001b[0m\n",
       "[2025-05-30 20:33:51,015][\u001b[1;36mtensorcraft.mpi.distributions.multi_axis_dist\u001b[0m][\u001b[1;35mapply\u001b[0m][\u001b[1;32mDEBUG\u001b[0m] - R6/8:\u001b[1;32mPadded tensor shape: torch.Size([3, 22])\u001b[0m\n",
       "[2025-05-30 20:33:51,015][\u001b[1;36m\u001b[1;36mtensorcraft.mpi.distributions.multi_axis_dist\u001b[0m\u001b[0m][\u001b[1;35m\u001b[1;35mapply\u001b[0m\u001b[0m][\u001b[1;30m\u001b[1;32mDEBUG\u001b[0m\u001b[0m] - R6/8:\u001b[1;30m\u001b[1;32mPadded tensor shape: torch.Size([3, 22])\u001b[0m\u001b[0m\n",
       "[2025-05-30 20:33:51,015][\u001b[1;36m\u001b[1;36m\u001b[1;36mtensorcraft.mpi.distributions.multi_axis_dist\u001b[0m\u001b[0m\u001b[0m][\u001b[1;35m\u001b[1;35m\u001b[1;35mapply\u001b[0m\u001b[0m\u001b[0m][\u001b[1;30m\u001b[1;30m\u001b[1;32mDEBUG\u001b[0m\u001b[0m\u001b[0m] - R6/8:\u001b[1;30m\u001b[1;30m\u001b[1;32mPadded tensor shape: torch.Size([3, 22])\u001b[0m\u001b[0m\u001b[0m\n",
       "[2025-05-30 20:33:51,018][\u001b[1;36mtensorcraft.mpi.distributions.multi_axis_dist\u001b[0m][\u001b[1;35mapply\u001b[0m][\u001b[1;32mDEBUG\u001b[0m] - R6/8:\u001b[1;32mPermute tuple: (0, 2, 1, 3)\u001b[0m\n",
       "[2025-05-30 20:33:51,018][\u001b[1;36m\u001b[1;36mtensorcraft.mpi.distributions.multi_axis_dist\u001b[0m\u001b[0m][\u001b[1;35m\u001b[1;35mapply\u001b[0m\u001b[0m][\u001b[1;30m\u001b[1;32mDEBUG\u001b[0m\u001b[0m] - R6/8:\u001b[1;30m\u001b[1;32mPermute tuple: (0, 2, 1, 3)\u001b[0m\u001b[0m\n",
       "[2025-05-30 20:33:51,018][\u001b[1;36m\u001b[1;36m\u001b[1;36mtensorcraft.mpi.distributions.multi_axis_dist\u001b[0m\u001b[0m\u001b[0m][\u001b[1;35m\u001b[1;35m\u001b[1;35mapply\u001b[0m\u001b[0m\u001b[0m][\u001b[1;30m\u001b[1;30m\u001b[1;32mDEBUG\u001b[0m\u001b[0m\u001b[0m] - R6/8:\u001b[1;30m\u001b[1;30m\u001b[1;32mPermute tuple: (0, 2, 1, 3)\u001b[0m\u001b[0m\u001b[0m\n",
       "[2025-05-30 20:33:51,026][\u001b[1;36mtensorcraft.mpi.distributions.multi_axis_dist\u001b[0m][\u001b[1;35mapply\u001b[0m][\u001b[1;32mDEBUG\u001b[0m] - R6/8:\u001b[1;32mReshape tuple: [3, 1, 11, 2]\u001b[0m\n",
       "[2025-05-30 20:33:51,026][\u001b[1;36m\u001b[1;36mtensorcraft.mpi.distributions.multi_axis_dist\u001b[0m\u001b[0m][\u001b[1;35m\u001b[1;35mapply\u001b[0m\u001b[0m][\u001b[1;30m\u001b[1;32mDEBUG\u001b[0m\u001b[0m] - R6/8:\u001b[1;30m\u001b[1;32mReshape tuple: [3, 1, 11, 2]\u001b[0m\u001b[0m\n",
       "[2025-05-30 20:33:51,026][\u001b[1;36m\u001b[1;36m\u001b[1;36mtensorcraft.mpi.distributions.multi_axis_dist\u001b[0m\u001b[0m\u001b[0m][\u001b[1;35m\u001b[1;35m\u001b[1;35mapply\u001b[0m\u001b[0m\u001b[0m][\u001b[1;30m\u001b[1;30m\u001b[1;32mDEBUG\u001b[0m\u001b[0m\u001b[0m] - R6/8:\u001b[1;30m\u001b[1;30m\u001b[1;32mReshape tuple: [3, 1, 11, 2]\u001b[0m\u001b[0m\u001b[0m\n",
       "[2025-05-30 20:33:51,032][\u001b[1;36mtensorcraft.mpi.distributions.multi_axis_dist\u001b[0m][\u001b[1;35mapply\u001b[0m][\u001b[1;32mDEBUG\u001b[0m] - R6/8:\u001b[1;32mTile Slices: [slice(tensor(1), None, 2), slice(None, None, None), slice(tensor(1), None, 4), slice(None, None, None)]\u001b[0m\n",
       "[2025-05-30 20:33:51,032][\u001b[1;36m\u001b[1;36mtensorcraft.mpi.distributions.multi_axis_dist\u001b[0m\u001b[0m][\u001b[1;35m\u001b[1;35mapply\u001b[0m\u001b[0m][\u001b[1;30m\u001b[1;32mDEBUG\u001b[0m\u001b[0m] - R6/8:\u001b[1;30m\u001b[1;32mTile Slices: [slice(tensor(1), None, 2), slice(None, None, None), slice(tensor(1), None, 4), slice(None, None, None)]\u001b[0m\u001b[0m\n",
       "[2025-05-30 20:33:51,032][\u001b[1;36m\u001b[1;36m\u001b[1;36mtensorcraft.mpi.distributions.multi_axis_dist\u001b[0m\u001b[0m\u001b[0m][\u001b[1;35m\u001b[1;35m\u001b[1;35mapply\u001b[0m\u001b[0m\u001b[0m][\u001b[1;30m\u001b[1;30m\u001b[1;32mDEBUG\u001b[0m\u001b[0m\u001b[0m] - R6/8:\u001b[1;30m\u001b[1;30m\u001b[1;32mTile Slices: [slice(tensor(1), None, 2), slice(None, None, None), slice(tensor(1), None, 4), slice(None, None, None)]\u001b[0m\u001b[0m\u001b[0m\n",
       "[2025-05-30 20:33:51,038][\u001b[1;36mtensorcraft.mpi.distributions.multi_axis_dist\u001b[0m][\u001b[1;35mapply\u001b[0m][\u001b[1;32mDEBUG\u001b[0m] - R6/8:\u001b[1;32mLocal tensor shape: torch.Size([1, 1, 3, 2])\u001b[0m\n",
       "[2025-05-30 20:33:51,038][\u001b[1;36m\u001b[1;36mtensorcraft.mpi.distributions.multi_axis_dist\u001b[0m\u001b[0m][\u001b[1;35m\u001b[1;35mapply\u001b[0m\u001b[0m][\u001b[1;30m\u001b[1;32mDEBUG\u001b[0m\u001b[0m] - R6/8:\u001b[1;30m\u001b[1;32mLocal tensor shape: torch.Size([1, 1, 3, 2])\u001b[0m\u001b[0m\n",
       "[2025-05-30 20:33:51,038][\u001b[1;36m\u001b[1;36m\u001b[1;36mtensorcraft.mpi.distributions.multi_axis_dist\u001b[0m\u001b[0m\u001b[0m][\u001b[1;35m\u001b[1;35m\u001b[1;35mapply\u001b[0m\u001b[0m\u001b[0m][\u001b[1;30m\u001b[1;30m\u001b[1;32mDEBUG\u001b[0m\u001b[0m\u001b[0m] - R6/8:\u001b[1;30m\u001b[1;30m\u001b[1;32mLocal tensor shape: torch.Size([1, 1, 3, 2])\u001b[0m\u001b[0m\u001b[0m\n",
       "[2025-05-30 20:33:51,040][\u001b[1;36mtensorcraft.mpi.distributions.multi_axis_dist\u001b[0m][\u001b[1;35mapply\u001b[0m][\u001b[1;32mDEBUG\u001b[0m] - R6/8:\u001b[1;32mTarget local tensor shape: [1, 6]\u001b[0m\n",
       "[2025-05-30 20:33:51,040][\u001b[1;36m\u001b[1;36mtensorcraft.mpi.distributions.multi_axis_dist\u001b[0m\u001b[0m][\u001b[1;35m\u001b[1;35mapply\u001b[0m\u001b[0m][\u001b[1;30m\u001b[1;32mDEBUG\u001b[0m\u001b[0m] - R6/8:\u001b[1;30m\u001b[1;32mTarget local tensor shape: [1, 6]\u001b[0m\u001b[0m\n",
       "[2025-05-30 20:33:51,040][\u001b[1;36m\u001b[1;36m\u001b[1;36mtensorcraft.mpi.distributions.multi_axis_dist\u001b[0m\u001b[0m\u001b[0m][\u001b[1;35m\u001b[1;35m\u001b[1;35mapply\u001b[0m\u001b[0m\u001b[0m][\u001b[1;30m\u001b[1;30m\u001b[1;32mDEBUG\u001b[0m\u001b[0m\u001b[0m] - R6/8:\u001b[1;30m\u001b[1;30m\u001b[1;32mTarget local tensor shape: [1, 6]\u001b[0m\u001b[0m\u001b[0m\n",
       "[2025-05-30 20:33:51,042][\u001b[1;36mtensorcraft.mpi.distributions.multi_axis_dist\u001b[0m][\u001b[1;35mapply\u001b[0m][\u001b[1;32mDEBUG\u001b[0m] - R6/8:\u001b[1;32mtensor([[22, 23, 30, 31, 38, 39]])\u001b[0m\n",
       "[2025-05-30 20:33:51,042][\u001b[1;36m\u001b[1;36mtensorcraft.mpi.distributions.multi_axis_dist\u001b[0m\u001b[0m][\u001b[1;35m\u001b[1;35mapply\u001b[0m\u001b[0m][\u001b[1;30m\u001b[1;32mDEBUG\u001b[0m\u001b[0m] - R6/8:\u001b[1;30m\u001b[1;32mtensor([[22, 23, 30, 31, 38, 39]])\u001b[0m\u001b[0m\n",
       "[2025-05-30 20:33:51,042][\u001b[1;36m\u001b[1;36m\u001b[1;36mtensorcraft.mpi.distributions.multi_axis_dist\u001b[0m\u001b[0m\u001b[0m][\u001b[1;35m\u001b[1;35m\u001b[1;35mapply\u001b[0m\u001b[0m\u001b[0m][\u001b[1;30m\u001b[1;30m\u001b[1;32mDEBUG\u001b[0m\u001b[0m\u001b[0m] - R6/8:\u001b[1;30m\u001b[1;30m\u001b[1;32mtensor([[22, 23, 30, 31, 38, 39]])\u001b[0m\u001b[0m\u001b[0m\n",
       "[2025-05-30 20:33:51,045][\u001b[1;36mtensorcraft.mpi.distributions.multi_axis_dist\u001b[0m][\u001b[1;35mapply\u001b[0m][\u001b[1;32mDEBUG\u001b[0m] - R6/8:\u001b[1;32mLinear processor index: 1, Residue: 1, Block size: 1, axis: 0, N procs: 2, N full blocks: 2\u001b[0m\n",
       "[2025-05-30 20:33:51,045][\u001b[1;36m\u001b[1;36mtensorcraft.mpi.distributions.multi_axis_dist\u001b[0m\u001b[0m][\u001b[1;35m\u001b[1;35mapply\u001b[0m\u001b[0m][\u001b[1;30m\u001b[1;32mDEBUG\u001b[0m\u001b[0m] - R6/8:\u001b[1;30m\u001b[1;32mLinear processor index: 1, Residue: 1, Block size: 1, axis: 0, N procs: 2, N full blocks: 2\u001b[0m\u001b[0m\n",
       "[2025-05-30 20:33:51,045][\u001b[1;36m\u001b[1;36m\u001b[1;36mtensorcraft.mpi.distributions.multi_axis_dist\u001b[0m\u001b[0m\u001b[0m][\u001b[1;35m\u001b[1;35m\u001b[1;35mapply\u001b[0m\u001b[0m\u001b[0m][\u001b[1;30m\u001b[1;30m\u001b[1;32mDEBUG\u001b[0m\u001b[0m\u001b[0m] - R6/8:\u001b[1;30m\u001b[1;30m\u001b[1;32mLinear processor index: 1, Residue: 1, Block size: 1, axis: 0, N procs: 2, N full blocks: 2\u001b[0m\u001b[0m\u001b[0m\n",
       "[2025-05-30 20:33:51,047][\u001b[1;36mtensorcraft.mpi.distributions.multi_axis_dist\u001b[0m][\u001b[1;35mapply\u001b[0m][\u001b[1;32mDEBUG\u001b[0m] - R6/8:\u001b[1;32mLinear processor index: 1, Residue: 2, Block size: 2, axis: 1, N procs: 4, N full blocks: 10\u001b[0m\n",
       "[2025-05-30 20:33:51,047][\u001b[1;36m\u001b[1;36mtensorcraft.mpi.distributions.multi_axis_dist\u001b[0m\u001b[0m][\u001b[1;35m\u001b[1;35mapply\u001b[0m\u001b[0m][\u001b[1;30m\u001b[1;32mDEBUG\u001b[0m\u001b[0m] - R6/8:\u001b[1;30m\u001b[1;32mLinear processor index: 1, Residue: 2, Block size: 2, axis: 1, N procs: 4, N full blocks: 10\u001b[0m\u001b[0m\n",
       "[2025-05-30 20:33:51,047][\u001b[1;36m\u001b[1;36m\u001b[1;36mtensorcraft.mpi.distributions.multi_axis_dist\u001b[0m\u001b[0m\u001b[0m][\u001b[1;35m\u001b[1;35m\u001b[1;35mapply\u001b[0m\u001b[0m\u001b[0m][\u001b[1;30m\u001b[1;30m\u001b[1;32mDEBUG\u001b[0m\u001b[0m\u001b[0m] - R6/8:\u001b[1;30m\u001b[1;30m\u001b[1;32mLinear processor index: 1, Residue: 2, Block size: 2, axis: 1, N procs: 4, N full blocks: 10\u001b[0m\u001b[0m\u001b[0m\n",
       "[2025-05-30 20:33:51,049][\u001b[1;36mtensorcraft.mpi.distributions.multi_axis_dist\u001b[0m][\u001b[1;35mapply\u001b[0m][\u001b[1;32mDEBUG\u001b[0m] - R6/8:\u001b[1;32mShaved slices: [slice(None, None, None), slice(None, None, None)]\u001b[0m\n",
       "[2025-05-30 20:33:51,049][\u001b[1;36m\u001b[1;36mtensorcraft.mpi.distributions.multi_axis_dist\u001b[0m\u001b[0m][\u001b[1;35m\u001b[1;35mapply\u001b[0m\u001b[0m][\u001b[1;30m\u001b[1;32mDEBUG\u001b[0m\u001b[0m] - R6/8:\u001b[1;30m\u001b[1;32mShaved slices: [slice(None, None, None), slice(None, None, None)]\u001b[0m\u001b[0m\n",
       "[2025-05-30 20:33:51,049][\u001b[1;36m\u001b[1;36m\u001b[1;36mtensorcraft.mpi.distributions.multi_axis_dist\u001b[0m\u001b[0m\u001b[0m][\u001b[1;35m\u001b[1;35m\u001b[1;35mapply\u001b[0m\u001b[0m\u001b[0m][\u001b[1;30m\u001b[1;30m\u001b[1;32mDEBUG\u001b[0m\u001b[0m\u001b[0m] - R6/8:\u001b[1;30m\u001b[1;30m\u001b[1;32mShaved slices: [slice(None, None, None), slice(None, None, None)]\u001b[0m\u001b[0m\u001b[0m\n",
       "[2025-05-30 20:33:51,052][\u001b[1;36mtensorcraft.mpi.distributions.multi_axis_dist\u001b[0m][\u001b[1;35mapply\u001b[0m][\u001b[1;32mDEBUG\u001b[0m] - R6/8:\u001b[1;32mFinal local tensor shape: torch.Size([1, 6])\u001b[0m\n",
       "[2025-05-30 20:33:51,052][\u001b[1;36m\u001b[1;36mtensorcraft.mpi.distributions.multi_axis_dist\u001b[0m\u001b[0m][\u001b[1;35m\u001b[1;35mapply\u001b[0m\u001b[0m][\u001b[1;30m\u001b[1;32mDEBUG\u001b[0m\u001b[0m] - R6/8:\u001b[1;30m\u001b[1;32mFinal local tensor shape: torch.Size([1, 6])\u001b[0m\u001b[0m\n",
       "[2025-05-30 20:33:51,052][\u001b[1;36m\u001b[1;36m\u001b[1;36mtensorcraft.mpi.distributions.multi_axis_dist\u001b[0m\u001b[0m\u001b[0m][\u001b[1;35m\u001b[1;35m\u001b[1;35mapply\u001b[0m\u001b[0m\u001b[0m][\u001b[1;30m\u001b[1;30m\u001b[1;32mDEBUG\u001b[0m\u001b[0m\u001b[0m] - R6/8:\u001b[1;30m\u001b[1;30m\u001b[1;32mFinal local tensor shape: torch.Size([1, 6])\u001b[0m\u001b[0m\u001b[0m\n"
      ]
     },
     "metadata": {},
     "output_type": "display_data"
    },
    {
     "data": {
      "text/plain": [
       "[stdout:7] [2025-05-30 20:33:50,986][\u001b[1;36mtensorcraft.mpi.distributions.multi_axis_dist\u001b[0m][\u001b[1;35mapply\u001b[0m][\u001b[1;32mDEBUG\u001b[0m] - R7/8:\u001b[1;32mProcessor multi index: torch.Size([1, 1, 1])\u001b[0m\n",
       "[2025-05-30 20:33:50,986][\u001b[1;36m\u001b[1;36mtensorcraft.mpi.distributions.multi_axis_dist\u001b[0m\u001b[0m][\u001b[1;35m\u001b[1;35mapply\u001b[0m\u001b[0m][\u001b[1;30m\u001b[1;32mDEBUG\u001b[0m\u001b[0m] - R7/8:\u001b[1;30m\u001b[1;32mProcessor multi index: torch.Size([1, 1, 1])\u001b[0m\u001b[0m\n",
       "[2025-05-30 20:33:50,986][\u001b[1;36m\u001b[1;36m\u001b[1;36mtensorcraft.mpi.distributions.multi_axis_dist\u001b[0m\u001b[0m\u001b[0m][\u001b[1;35m\u001b[1;35m\u001b[1;35mapply\u001b[0m\u001b[0m\u001b[0m][\u001b[1;30m\u001b[1;30m\u001b[1;32mDEBUG\u001b[0m\u001b[0m\u001b[0m] - R7/8:\u001b[1;30m\u001b[1;30m\u001b[1;32mProcessor multi index: torch.Size([1, 1, 1])\u001b[0m\u001b[0m\u001b[0m\n",
       "[2025-05-30 20:33:50,995][\u001b[1;36mtensorcraft.mpi.distributions.multi_axis_dist\u001b[0m][\u001b[1;35mapply\u001b[0m][\u001b[1;32mDEBUG\u001b[0m] - R7/8:\u001b[1;32mMissing elements: [1, 2]\u001b[0m\n",
       "[2025-05-30 20:33:50,995][\u001b[1;36m\u001b[1;36mtensorcraft.mpi.distributions.multi_axis_dist\u001b[0m\u001b[0m][\u001b[1;35m\u001b[1;35mapply\u001b[0m\u001b[0m][\u001b[1;30m\u001b[1;32mDEBUG\u001b[0m\u001b[0m] - R7/8:\u001b[1;30m\u001b[1;32mMissing elements: [1, 2]\u001b[0m\u001b[0m\n",
       "[2025-05-30 20:33:50,995][\u001b[1;36m\u001b[1;36m\u001b[1;36mtensorcraft.mpi.distributions.multi_axis_dist\u001b[0m\u001b[0m\u001b[0m][\u001b[1;35m\u001b[1;35m\u001b[1;35mapply\u001b[0m\u001b[0m\u001b[0m][\u001b[1;30m\u001b[1;30m\u001b[1;32mDEBUG\u001b[0m\u001b[0m\u001b[0m] - R7/8:\u001b[1;30m\u001b[1;30m\u001b[1;32mMissing elements: [1, 2]\u001b[0m\u001b[0m\u001b[0m\n",
       "[2025-05-30 20:33:51,001][\u001b[1;36mtensorcraft.mpi.distributions.multi_axis_dist\u001b[0m][\u001b[1;35mapply\u001b[0m][\u001b[1;32mDEBUG\u001b[0m] - R7/8:\u001b[1;32mN blocks per axis: [2, 10]\u001b[0m\n",
       "[2025-05-30 20:33:51,001][\u001b[1;36m\u001b[1;36mtensorcraft.mpi.distributions.multi_axis_dist\u001b[0m\u001b[0m][\u001b[1;35m\u001b[1;35mapply\u001b[0m\u001b[0m][\u001b[1;30m\u001b[1;32mDEBUG\u001b[0m\u001b[0m] - R7/8:\u001b[1;30m\u001b[1;32mN blocks per axis: [2, 10]\u001b[0m\u001b[0m\n",
       "[2025-05-30 20:33:51,001][\u001b[1;36m\u001b[1;36m\u001b[1;36mtensorcraft.mpi.distributions.multi_axis_dist\u001b[0m\u001b[0m\u001b[0m][\u001b[1;35m\u001b[1;35m\u001b[1;35mapply\u001b[0m\u001b[0m\u001b[0m][\u001b[1;30m\u001b[1;30m\u001b[1;32mDEBUG\u001b[0m\u001b[0m\u001b[0m] - R7/8:\u001b[1;30m\u001b[1;30m\u001b[1;32mN blocks per axis: [2, 10]\u001b[0m\u001b[0m\u001b[0m\n",
       "[2025-05-30 20:33:51,014][\u001b[1;36mtensorcraft.mpi.distributions.multi_axis_dist\u001b[0m][\u001b[1;35mapply\u001b[0m][\u001b[1;32mDEBUG\u001b[0m] - R7/8:\u001b[1;32mPadded tensor shape: torch.Size([3, 22])\u001b[0m\n",
       "[2025-05-30 20:33:51,014][\u001b[1;36m\u001b[1;36mtensorcraft.mpi.distributions.multi_axis_dist\u001b[0m\u001b[0m][\u001b[1;35m\u001b[1;35mapply\u001b[0m\u001b[0m][\u001b[1;30m\u001b[1;32mDEBUG\u001b[0m\u001b[0m] - R7/8:\u001b[1;30m\u001b[1;32mPadded tensor shape: torch.Size([3, 22])\u001b[0m\u001b[0m\n",
       "[2025-05-30 20:33:51,014][\u001b[1;36m\u001b[1;36m\u001b[1;36mtensorcraft.mpi.distributions.multi_axis_dist\u001b[0m\u001b[0m\u001b[0m][\u001b[1;35m\u001b[1;35m\u001b[1;35mapply\u001b[0m\u001b[0m\u001b[0m][\u001b[1;30m\u001b[1;30m\u001b[1;32mDEBUG\u001b[0m\u001b[0m\u001b[0m] - R7/8:\u001b[1;30m\u001b[1;30m\u001b[1;32mPadded tensor shape: torch.Size([3, 22])\u001b[0m\u001b[0m\u001b[0m\n",
       "[2025-05-30 20:33:51,025][\u001b[1;36mtensorcraft.mpi.distributions.multi_axis_dist\u001b[0m][\u001b[1;35mapply\u001b[0m][\u001b[1;32mDEBUG\u001b[0m] - R7/8:\u001b[1;32mPermute tuple: (0, 2, 1, 3)\u001b[0m\n",
       "[2025-05-30 20:33:51,025][\u001b[1;36m\u001b[1;36mtensorcraft.mpi.distributions.multi_axis_dist\u001b[0m\u001b[0m][\u001b[1;35m\u001b[1;35mapply\u001b[0m\u001b[0m][\u001b[1;30m\u001b[1;32mDEBUG\u001b[0m\u001b[0m] - R7/8:\u001b[1;30m\u001b[1;32mPermute tuple: (0, 2, 1, 3)\u001b[0m\u001b[0m\n",
       "[2025-05-30 20:33:51,025][\u001b[1;36m\u001b[1;36m\u001b[1;36mtensorcraft.mpi.distributions.multi_axis_dist\u001b[0m\u001b[0m\u001b[0m][\u001b[1;35m\u001b[1;35m\u001b[1;35mapply\u001b[0m\u001b[0m\u001b[0m][\u001b[1;30m\u001b[1;30m\u001b[1;32mDEBUG\u001b[0m\u001b[0m\u001b[0m] - R7/8:\u001b[1;30m\u001b[1;30m\u001b[1;32mPermute tuple: (0, 2, 1, 3)\u001b[0m\u001b[0m\u001b[0m\n",
       "[2025-05-30 20:33:51,031][\u001b[1;36mtensorcraft.mpi.distributions.multi_axis_dist\u001b[0m][\u001b[1;35mapply\u001b[0m][\u001b[1;32mDEBUG\u001b[0m] - R7/8:\u001b[1;32mReshape tuple: [3, 1, 11, 2]\u001b[0m\n",
       "[2025-05-30 20:33:51,031][\u001b[1;36m\u001b[1;36mtensorcraft.mpi.distributions.multi_axis_dist\u001b[0m\u001b[0m][\u001b[1;35m\u001b[1;35mapply\u001b[0m\u001b[0m][\u001b[1;30m\u001b[1;32mDEBUG\u001b[0m\u001b[0m] - R7/8:\u001b[1;30m\u001b[1;32mReshape tuple: [3, 1, 11, 2]\u001b[0m\u001b[0m\n",
       "[2025-05-30 20:33:51,031][\u001b[1;36m\u001b[1;36m\u001b[1;36mtensorcraft.mpi.distributions.multi_axis_dist\u001b[0m\u001b[0m\u001b[0m][\u001b[1;35m\u001b[1;35m\u001b[1;35mapply\u001b[0m\u001b[0m\u001b[0m][\u001b[1;30m\u001b[1;30m\u001b[1;32mDEBUG\u001b[0m\u001b[0m\u001b[0m] - R7/8:\u001b[1;30m\u001b[1;30m\u001b[1;32mReshape tuple: [3, 1, 11, 2]\u001b[0m\u001b[0m\u001b[0m\n",
       "[2025-05-30 20:33:51,038][\u001b[1;36mtensorcraft.mpi.distributions.multi_axis_dist\u001b[0m][\u001b[1;35mapply\u001b[0m][\u001b[1;32mDEBUG\u001b[0m] - R7/8:\u001b[1;32mTile Slices: [slice(tensor(1), None, 2), slice(None, None, None), slice(tensor(3), None, 4), slice(None, None, None)]\u001b[0m\n",
       "[2025-05-30 20:33:51,038][\u001b[1;36m\u001b[1;36mtensorcraft.mpi.distributions.multi_axis_dist\u001b[0m\u001b[0m][\u001b[1;35m\u001b[1;35mapply\u001b[0m\u001b[0m][\u001b[1;30m\u001b[1;32mDEBUG\u001b[0m\u001b[0m] - R7/8:\u001b[1;30m\u001b[1;32mTile Slices: [slice(tensor(1), None, 2), slice(None, None, None), slice(tensor(3), None, 4), slice(None, None, None)]\u001b[0m\u001b[0m\n",
       "[2025-05-30 20:33:51,038][\u001b[1;36m\u001b[1;36m\u001b[1;36mtensorcraft.mpi.distributions.multi_axis_dist\u001b[0m\u001b[0m\u001b[0m][\u001b[1;35m\u001b[1;35m\u001b[1;35mapply\u001b[0m\u001b[0m\u001b[0m][\u001b[1;30m\u001b[1;30m\u001b[1;32mDEBUG\u001b[0m\u001b[0m\u001b[0m] - R7/8:\u001b[1;30m\u001b[1;30m\u001b[1;32mTile Slices: [slice(tensor(1), None, 2), slice(None, None, None), slice(tensor(3), None, 4), slice(None, None, None)]\u001b[0m\u001b[0m\u001b[0m\n",
       "[2025-05-30 20:33:51,048][\u001b[1;36mtensorcraft.mpi.distributions.multi_axis_dist\u001b[0m][\u001b[1;35mapply\u001b[0m][\u001b[1;32mDEBUG\u001b[0m] - R7/8:\u001b[1;32mLocal tensor shape: torch.Size([1, 1, 2, 2])\u001b[0m\n",
       "[2025-05-30 20:33:51,048][\u001b[1;36m\u001b[1;36mtensorcraft.mpi.distributions.multi_axis_dist\u001b[0m\u001b[0m][\u001b[1;35m\u001b[1;35mapply\u001b[0m\u001b[0m][\u001b[1;30m\u001b[1;32mDEBUG\u001b[0m\u001b[0m] - R7/8:\u001b[1;30m\u001b[1;32mLocal tensor shape: torch.Size([1, 1, 2, 2])\u001b[0m\u001b[0m\n",
       "[2025-05-30 20:33:51,048][\u001b[1;36m\u001b[1;36m\u001b[1;36mtensorcraft.mpi.distributions.multi_axis_dist\u001b[0m\u001b[0m\u001b[0m][\u001b[1;35m\u001b[1;35m\u001b[1;35mapply\u001b[0m\u001b[0m\u001b[0m][\u001b[1;30m\u001b[1;30m\u001b[1;32mDEBUG\u001b[0m\u001b[0m\u001b[0m] - R7/8:\u001b[1;30m\u001b[1;30m\u001b[1;32mLocal tensor shape: torch.Size([1, 1, 2, 2])\u001b[0m\u001b[0m\u001b[0m\n",
       "[2025-05-30 20:33:51,053][\u001b[1;36mtensorcraft.mpi.distributions.multi_axis_dist\u001b[0m][\u001b[1;35mapply\u001b[0m][\u001b[1;32mDEBUG\u001b[0m] - R7/8:\u001b[1;32mTarget local tensor shape: [1, 4]\u001b[0m\n",
       "[2025-05-30 20:33:51,053][\u001b[1;36m\u001b[1;36mtensorcraft.mpi.distributions.multi_axis_dist\u001b[0m\u001b[0m][\u001b[1;35m\u001b[1;35mapply\u001b[0m\u001b[0m][\u001b[1;30m\u001b[1;32mDEBUG\u001b[0m\u001b[0m] - R7/8:\u001b[1;30m\u001b[1;32mTarget local tensor shape: [1, 4]\u001b[0m\u001b[0m\n",
       "[2025-05-30 20:33:51,053][\u001b[1;36m\u001b[1;36m\u001b[1;36mtensorcraft.mpi.distributions.multi_axis_dist\u001b[0m\u001b[0m\u001b[0m][\u001b[1;35m\u001b[1;35m\u001b[1;35mapply\u001b[0m\u001b[0m\u001b[0m][\u001b[1;30m\u001b[1;30m\u001b[1;32mDEBUG\u001b[0m\u001b[0m\u001b[0m] - R7/8:\u001b[1;30m\u001b[1;30m\u001b[1;32mTarget local tensor shape: [1, 4]\u001b[0m\u001b[0m\u001b[0m\n",
       "[2025-05-30 20:33:51,062][\u001b[1;36mtensorcraft.mpi.distributions.multi_axis_dist\u001b[0m][\u001b[1;35mapply\u001b[0m][\u001b[1;32mDEBUG\u001b[0m] - R7/8:\u001b[1;32mtensor([[26, 27, 34, 35]])\u001b[0m\n",
       "[2025-05-30 20:33:51,062][\u001b[1;36m\u001b[1;36mtensorcraft.mpi.distributions.multi_axis_dist\u001b[0m\u001b[0m][\u001b[1;35m\u001b[1;35mapply\u001b[0m\u001b[0m][\u001b[1;30m\u001b[1;32mDEBUG\u001b[0m\u001b[0m] - R7/8:\u001b[1;30m\u001b[1;32mtensor([[26, 27, 34, 35]])\u001b[0m\u001b[0m\n",
       "[2025-05-30 20:33:51,062][\u001b[1;36m\u001b[1;36m\u001b[1;36mtensorcraft.mpi.distributions.multi_axis_dist\u001b[0m\u001b[0m\u001b[0m][\u001b[1;35m\u001b[1;35m\u001b[1;35mapply\u001b[0m\u001b[0m\u001b[0m][\u001b[1;30m\u001b[1;30m\u001b[1;32mDEBUG\u001b[0m\u001b[0m\u001b[0m] - R7/8:\u001b[1;30m\u001b[1;30m\u001b[1;32mtensor([[26, 27, 34, 35]])\u001b[0m\u001b[0m\u001b[0m\n",
       "[2025-05-30 20:33:51,067][\u001b[1;36mtensorcraft.mpi.distributions.multi_axis_dist\u001b[0m][\u001b[1;35mapply\u001b[0m][\u001b[1;32mDEBUG\u001b[0m] - R7/8:\u001b[1;32mLinear processor index: 1, Residue: 1, Block size: 1, axis: 0, N procs: 2, N full blocks: 2\u001b[0m\n",
       "[2025-05-30 20:33:51,067][\u001b[1;36m\u001b[1;36mtensorcraft.mpi.distributions.multi_axis_dist\u001b[0m\u001b[0m][\u001b[1;35m\u001b[1;35mapply\u001b[0m\u001b[0m][\u001b[1;30m\u001b[1;32mDEBUG\u001b[0m\u001b[0m] - R7/8:\u001b[1;30m\u001b[1;32mLinear processor index: 1, Residue: 1, Block size: 1, axis: 0, N procs: 2, N full blocks: 2\u001b[0m\u001b[0m\n",
       "[2025-05-30 20:33:51,067][\u001b[1;36m\u001b[1;36m\u001b[1;36mtensorcraft.mpi.distributions.multi_axis_dist\u001b[0m\u001b[0m\u001b[0m][\u001b[1;35m\u001b[1;35m\u001b[1;35mapply\u001b[0m\u001b[0m\u001b[0m][\u001b[1;30m\u001b[1;30m\u001b[1;32mDEBUG\u001b[0m\u001b[0m\u001b[0m] - R7/8:\u001b[1;30m\u001b[1;30m\u001b[1;32mLinear processor index: 1, Residue: 1, Block size: 1, axis: 0, N procs: 2, N full blocks: 2\u001b[0m\u001b[0m\u001b[0m\n",
       "[2025-05-30 20:33:51,070][\u001b[1;36mtensorcraft.mpi.distributions.multi_axis_dist\u001b[0m][\u001b[1;35mapply\u001b[0m][\u001b[1;32mDEBUG\u001b[0m] - R7/8:\u001b[1;32mLinear processor index: 3, Residue: 2, Block size: 2, axis: 1, N procs: 4, N full blocks: 10\u001b[0m\n",
       "[2025-05-30 20:33:51,070][\u001b[1;36m\u001b[1;36mtensorcraft.mpi.distributions.multi_axis_dist\u001b[0m\u001b[0m][\u001b[1;35m\u001b[1;35mapply\u001b[0m\u001b[0m][\u001b[1;30m\u001b[1;32mDEBUG\u001b[0m\u001b[0m] - R7/8:\u001b[1;30m\u001b[1;32mLinear processor index: 3, Residue: 2, Block size: 2, axis: 1, N procs: 4, N full blocks: 10\u001b[0m\u001b[0m\n",
       "[2025-05-30 20:33:51,070][\u001b[1;36m\u001b[1;36m\u001b[1;36mtensorcraft.mpi.distributions.multi_axis_dist\u001b[0m\u001b[0m\u001b[0m][\u001b[1;35m\u001b[1;35m\u001b[1;35mapply\u001b[0m\u001b[0m\u001b[0m][\u001b[1;30m\u001b[1;30m\u001b[1;32mDEBUG\u001b[0m\u001b[0m\u001b[0m] - R7/8:\u001b[1;30m\u001b[1;30m\u001b[1;32mLinear processor index: 3, Residue: 2, Block size: 2, axis: 1, N procs: 4, N full blocks: 10\u001b[0m\u001b[0m\u001b[0m\n",
       "[2025-05-30 20:33:51,073][\u001b[1;36mtensorcraft.mpi.distributions.multi_axis_dist\u001b[0m][\u001b[1;35mapply\u001b[0m][\u001b[1;32mDEBUG\u001b[0m] - R7/8:\u001b[1;32mShaved slices: [slice(None, None, None), slice(None, None, None)]\u001b[0m\n",
       "[2025-05-30 20:33:51,073][\u001b[1;36m\u001b[1;36mtensorcraft.mpi.distributions.multi_axis_dist\u001b[0m\u001b[0m][\u001b[1;35m\u001b[1;35mapply\u001b[0m\u001b[0m][\u001b[1;30m\u001b[1;32mDEBUG\u001b[0m\u001b[0m] - R7/8:\u001b[1;30m\u001b[1;32mShaved slices: [slice(None, None, None), slice(None, None, None)]\u001b[0m\u001b[0m\n",
       "[2025-05-30 20:33:51,073][\u001b[1;36m\u001b[1;36m\u001b[1;36mtensorcraft.mpi.distributions.multi_axis_dist\u001b[0m\u001b[0m\u001b[0m][\u001b[1;35m\u001b[1;35m\u001b[1;35mapply\u001b[0m\u001b[0m\u001b[0m][\u001b[1;30m\u001b[1;30m\u001b[1;32mDEBUG\u001b[0m\u001b[0m\u001b[0m] - R7/8:\u001b[1;30m\u001b[1;30m\u001b[1;32mShaved slices: [slice(None, None, None), slice(None, None, None)]\u001b[0m\u001b[0m\u001b[0m\n",
       "[2025-05-30 20:33:51,076][\u001b[1;36mtensorcraft.mpi.distributions.multi_axis_dist\u001b[0m][\u001b[1;35mapply\u001b[0m][\u001b[1;32mDEBUG\u001b[0m] - R7/8:\u001b[1;32mFinal local tensor shape: torch.Size([1, 4])\u001b[0m\n",
       "[2025-05-30 20:33:51,076][\u001b[1;36m\u001b[1;36mtensorcraft.mpi.distributions.multi_axis_dist\u001b[0m\u001b[0m][\u001b[1;35m\u001b[1;35mapply\u001b[0m\u001b[0m][\u001b[1;30m\u001b[1;32mDEBUG\u001b[0m\u001b[0m] - R7/8:\u001b[1;30m\u001b[1;32mFinal local tensor shape: torch.Size([1, 4])\u001b[0m\u001b[0m\n",
       "[2025-05-30 20:33:51,076][\u001b[1;36m\u001b[1;36m\u001b[1;36mtensorcraft.mpi.distributions.multi_axis_dist\u001b[0m\u001b[0m\u001b[0m][\u001b[1;35m\u001b[1;35m\u001b[1;35mapply\u001b[0m\u001b[0m\u001b[0m][\u001b[1;30m\u001b[1;30m\u001b[1;32mDEBUG\u001b[0m\u001b[0m\u001b[0m] - R7/8:\u001b[1;30m\u001b[1;30m\u001b[1;32mFinal local tensor shape: torch.Size([1, 4])\u001b[0m\u001b[0m\u001b[0m\n"
      ]
     },
     "metadata": {},
     "output_type": "display_data"
    },
    {
     "data": {
      "text/plain": [
       "\u001b[0;31mOut[5:13]: \u001b[0mtensor(True)"
      ]
     },
     "metadata": {
      "after": [],
      "completed": "2025-05-30T18:33:51.029812Z",
      "data": {},
      "engine_id": 5,
      "engine_uuid": "64e12d98-85066450af82538791e2074b",
      "error": null,
      "execute_input": "expected_local = new_dist.apply(x, rank)\ntorch.all(expected_local ==  new_local)\n",
      "execute_result": {
       "data": {
        "text/plain": "tensor(True)"
       },
       "execution_count": 13,
       "metadata": {}
      },
      "follow": [],
      "is_broadcast": false,
      "is_coalescing": false,
      "msg_id": "76e05c53-2f62b7a8a8c13a1c19b62b3b_183043_102",
      "outputs": [],
      "received": "2025-05-30T18:33:51.034782Z",
      "started": "2025-05-30T18:33:50.981994Z",
      "status": "ok",
      "stderr": "",
      "stdout": "[2025-05-30 20:33:50,984][\u001b[1;36mtensorcraft.mpi.distributions.multi_axis_dist\u001b[0m][\u001b[1;35mapply\u001b[0m][\u001b[1;32mDEBUG\u001b[0m] - R5/8:\u001b[1;32mProcessor multi index: torch.Size([1, 0, 1])\u001b[0m\n[2025-05-30 20:33:50,984][\u001b[1;36m\u001b[1;36mtensorcraft.mpi.distributions.multi_axis_dist\u001b[0m\u001b[0m][\u001b[1;35m\u001b[1;35mapply\u001b[0m\u001b[0m][\u001b[1;30m\u001b[1;32mDEBUG\u001b[0m\u001b[0m] - R5/8:\u001b[1;30m\u001b[1;32mProcessor multi index: torch.Size([1, 0, 1])\u001b[0m\u001b[0m\n[2025-05-30 20:33:50,984][\u001b[1;36m\u001b[1;36m\u001b[1;36mtensorcraft.mpi.distributions.multi_axis_dist\u001b[0m\u001b[0m\u001b[0m][\u001b[1;35m\u001b[1;35m\u001b[1;35mapply\u001b[0m\u001b[0m\u001b[0m][\u001b[1;30m\u001b[1;30m\u001b[1;32mDEBUG\u001b[0m\u001b[0m\u001b[0m] - R5/8:\u001b[1;30m\u001b[1;30m\u001b[1;32mProcessor multi index: torch.Size([1, 0, 1])\u001b[0m\u001b[0m\u001b[0m\n[2025-05-30 20:33:50,988][\u001b[1;36mtensorcraft.mpi.distributions.multi_axis_dist\u001b[0m][\u001b[1;35mapply\u001b[0m][\u001b[1;32mDEBUG\u001b[0m] - R5/8:\u001b[1;32mMissing elements: [1, 2]\u001b[0m\n[2025-05-30 20:33:50,988][\u001b[1;36m\u001b[1;36mtensorcraft.mpi.distributions.multi_axis_dist\u001b[0m\u001b[0m][\u001b[1;35m\u001b[1;35mapply\u001b[0m\u001b[0m][\u001b[1;30m\u001b[1;32mDEBUG\u001b[0m\u001b[0m] - R5/8:\u001b[1;30m\u001b[1;32mMissing elements: [1, 2]\u001b[0m\u001b[0m\n[2025-05-30 20:33:50,988][\u001b[1;36m\u001b[1;36m\u001b[1;36mtensorcraft.mpi.distributions.multi_axis_dist\u001b[0m\u001b[0m\u001b[0m][\u001b[1;35m\u001b[1;35m\u001b[1;35mapply\u001b[0m\u001b[0m\u001b[0m][\u001b[1;30m\u001b[1;30m\u001b[1;32mDEBUG\u001b[0m\u001b[0m\u001b[0m] - R5/8:\u001b[1;30m\u001b[1;30m\u001b[1;32mMissing elements: [1, 2]\u001b[0m\u001b[0m\u001b[0m\n[2025-05-30 20:33:50,990][\u001b[1;36mtensorcraft.mpi.distributions.multi_axis_dist\u001b[0m][\u001b[1;35mapply\u001b[0m][\u001b[1;32mDEBUG\u001b[0m] - R5/8:\u001b[1;32mN blocks per axis: [2, 10]\u001b[0m\n[2025-05-30 20:33:50,990][\u001b[1;36m\u001b[1;36mtensorcraft.mpi.distributions.multi_axis_dist\u001b[0m\u001b[0m][\u001b[1;35m\u001b[1;35mapply\u001b[0m\u001b[0m][\u001b[1;30m\u001b[1;32mDEBUG\u001b[0m\u001b[0m] - R5/8:\u001b[1;30m\u001b[1;32mN blocks per axis: [2, 10]\u001b[0m\u001b[0m\n[2025-05-30 20:33:50,990][\u001b[1;36m\u001b[1;36m\u001b[1;36mtensorcraft.mpi.distributions.multi_axis_dist\u001b[0m\u001b[0m\u001b[0m][\u001b[1;35m\u001b[1;35m\u001b[1;35mapply\u001b[0m\u001b[0m\u001b[0m][\u001b[1;30m\u001b[1;30m\u001b[1;32mDEBUG\u001b[0m\u001b[0m\u001b[0m] - R5/8:\u001b[1;30m\u001b[1;30m\u001b[1;32mN blocks per axis: [2, 10]\u001b[0m\u001b[0m\u001b[0m\n[2025-05-30 20:33:50,992][\u001b[1;36mtensorcraft.mpi.distributions.multi_axis_dist\u001b[0m][\u001b[1;35mapply\u001b[0m][\u001b[1;32mDEBUG\u001b[0m] - R5/8:\u001b[1;32mPadded tensor shape: torch.Size([3, 22])\u001b[0m\n[2025-05-30 20:33:50,992][\u001b[1;36m\u001b[1;36mtensorcraft.mpi.distributions.multi_axis_dist\u001b[0m\u001b[0m][\u001b[1;35m\u001b[1;35mapply\u001b[0m\u001b[0m][\u001b[1;30m\u001b[1;32mDEBUG\u001b[0m\u001b[0m] - R5/8:\u001b[1;30m\u001b[1;32mPadded tensor shape: torch.Size([3, 22])\u001b[0m\u001b[0m\n[2025-05-30 20:33:50,992][\u001b[1;36m\u001b[1;36m\u001b[1;36mtensorcraft.mpi.distributions.multi_axis_dist\u001b[0m\u001b[0m\u001b[0m][\u001b[1;35m\u001b[1;35m\u001b[1;35mapply\u001b[0m\u001b[0m\u001b[0m][\u001b[1;30m\u001b[1;30m\u001b[1;32mDEBUG\u001b[0m\u001b[0m\u001b[0m] - R5/8:\u001b[1;30m\u001b[1;30m\u001b[1;32mPadded tensor shape: torch.Size([3, 22])\u001b[0m\u001b[0m\u001b[0m\n[2025-05-30 20:33:50,994][\u001b[1;36mtensorcraft.mpi.distributions.multi_axis_dist\u001b[0m][\u001b[1;35mapply\u001b[0m][\u001b[1;32mDEBUG\u001b[0m] - R5/8:\u001b[1;32mPermute tuple: (0, 2, 1, 3)\u001b[0m\n[2025-05-30 20:33:50,994][\u001b[1;36m\u001b[1;36mtensorcraft.mpi.distributions.multi_axis_dist\u001b[0m\u001b[0m][\u001b[1;35m\u001b[1;35mapply\u001b[0m\u001b[0m][\u001b[1;30m\u001b[1;32mDEBUG\u001b[0m\u001b[0m] - R5/8:\u001b[1;30m\u001b[1;32mPermute tuple: (0, 2, 1, 3)\u001b[0m\u001b[0m\n[2025-05-30 20:33:50,994][\u001b[1;36m\u001b[1;36m\u001b[1;36mtensorcraft.mpi.distributions.multi_axis_dist\u001b[0m\u001b[0m\u001b[0m][\u001b[1;35m\u001b[1;35m\u001b[1;35mapply\u001b[0m\u001b[0m\u001b[0m][\u001b[1;30m\u001b[1;30m\u001b[1;32mDEBUG\u001b[0m\u001b[0m\u001b[0m] - R5/8:\u001b[1;30m\u001b[1;30m\u001b[1;32mPermute tuple: (0, 2, 1, 3)\u001b[0m\u001b[0m\u001b[0m\n[2025-05-30 20:33:50,998][\u001b[1;36mtensorcraft.mpi.distributions.multi_axis_dist\u001b[0m][\u001b[1;35mapply\u001b[0m][\u001b[1;32mDEBUG\u001b[0m] - R5/8:\u001b[1;32mReshape tuple: [3, 1, 11, 2]\u001b[0m\n[2025-05-30 20:33:50,998][\u001b[1;36m\u001b[1;36mtensorcraft.mpi.distributions.multi_axis_dist\u001b[0m\u001b[0m][\u001b[1;35m\u001b[1;35mapply\u001b[0m\u001b[0m][\u001b[1;30m\u001b[1;32mDEBUG\u001b[0m\u001b[0m] - R5/8:\u001b[1;30m\u001b[1;32mReshape tuple: [3, 1, 11, 2]\u001b[0m\u001b[0m\n[2025-05-30 20:33:50,998][\u001b[1;36m\u001b[1;36m\u001b[1;36mtensorcraft.mpi.distributions.multi_axis_dist\u001b[0m\u001b[0m\u001b[0m][\u001b[1;35m\u001b[1;35m\u001b[1;35mapply\u001b[0m\u001b[0m\u001b[0m][\u001b[1;30m\u001b[1;30m\u001b[1;32mDEBUG\u001b[0m\u001b[0m\u001b[0m] - R5/8:\u001b[1;30m\u001b[1;30m\u001b[1;32mReshape tuple: [3, 1, 11, 2]\u001b[0m\u001b[0m\u001b[0m\n[2025-05-30 20:33:51,001][\u001b[1;36mtensorcraft.mpi.distributions.multi_axis_dist\u001b[0m][\u001b[1;35mapply\u001b[0m][\u001b[1;32mDEBUG\u001b[0m] - R5/8:\u001b[1;32mTile Slices: [slice(tensor(0), None, 2), slice(None, None, None), slice(tensor(3), None, 4), slice(None, None, None)]\u001b[0m\n[2025-05-30 20:33:51,001][\u001b[1;36m\u001b[1;36mtensorcraft.mpi.distributions.multi_axis_dist\u001b[0m\u001b[0m][\u001b[1;35m\u001b[1;35mapply\u001b[0m\u001b[0m][\u001b[1;30m\u001b[1;32mDEBUG\u001b[0m\u001b[0m] - R5/8:\u001b[1;30m\u001b[1;32mTile Slices: [slice(tensor(0), None, 2), slice(None, None, None), slice(tensor(3), None, 4), slice(None, None, None)]\u001b[0m\u001b[0m\n[2025-05-30 20:33:51,001][\u001b[1;36m\u001b[1;36m\u001b[1;36mtensorcraft.mpi.distributions.multi_axis_dist\u001b[0m\u001b[0m\u001b[0m][\u001b[1;35m\u001b[1;35m\u001b[1;35mapply\u001b[0m\u001b[0m\u001b[0m][\u001b[1;30m\u001b[1;30m\u001b[1;32mDEBUG\u001b[0m\u001b[0m\u001b[0m] - R5/8:\u001b[1;30m\u001b[1;30m\u001b[1;32mTile Slices: [slice(tensor(0), None, 2), slice(None, None, None), slice(tensor(3), None, 4), slice(None, None, None)]\u001b[0m\u001b[0m\u001b[0m\n[2025-05-30 20:33:51,003][\u001b[1;36mtensorcraft.mpi.distributions.multi_axis_dist\u001b[0m][\u001b[1;35mapply\u001b[0m][\u001b[1;32mDEBUG\u001b[0m] - R5/8:\u001b[1;32mLocal tensor shape: torch.Size([2, 1, 2, 2])\u001b[0m\n[2025-05-30 20:33:51,003][\u001b[1;36m\u001b[1;36mtensorcraft.mpi.distributions.multi_axis_dist\u001b[0m\u001b[0m][\u001b[1;35m\u001b[1;35mapply\u001b[0m\u001b[0m][\u001b[1;30m\u001b[1;32mDEBUG\u001b[0m\u001b[0m] - R5/8:\u001b[1;30m\u001b[1;32mLocal tensor shape: torch.Size([2, 1, 2, 2])\u001b[0m\u001b[0m\n[2025-05-30 20:33:51,003][\u001b[1;36m\u001b[1;36m\u001b[1;36mtensorcraft.mpi.distributions.multi_axis_dist\u001b[0m\u001b[0m\u001b[0m][\u001b[1;35m\u001b[1;35m\u001b[1;35mapply\u001b[0m\u001b[0m\u001b[0m][\u001b[1;30m\u001b[1;30m\u001b[1;32mDEBUG\u001b[0m\u001b[0m\u001b[0m] - R5/8:\u001b[1;30m\u001b[1;30m\u001b[1;32mLocal tensor shape: torch.Size([2, 1, 2, 2])\u001b[0m\u001b[0m\u001b[0m\n[2025-05-30 20:33:51,006][\u001b[1;36mtensorcraft.mpi.distributions.multi_axis_dist\u001b[0m][\u001b[1;35mapply\u001b[0m][\u001b[1;32mDEBUG\u001b[0m] - R5/8:\u001b[1;32mTarget local tensor shape: [2, 4]\u001b[0m\n[2025-05-30 20:33:51,006][\u001b[1;36m\u001b[1;36mtensorcraft.mpi.distributions.multi_axis_dist\u001b[0m\u001b[0m][\u001b[1;35m\u001b[1;35mapply\u001b[0m\u001b[0m][\u001b[1;30m\u001b[1;32mDEBUG\u001b[0m\u001b[0m] - R5/8:\u001b[1;30m\u001b[1;32mTarget local tensor shape: [2, 4]\u001b[0m\u001b[0m\n[2025-05-30 20:33:51,006][\u001b[1;36m\u001b[1;36m\u001b[1;36mtensorcraft.mpi.distributions.multi_axis_dist\u001b[0m\u001b[0m\u001b[0m][\u001b[1;35m\u001b[1;35m\u001b[1;35mapply\u001b[0m\u001b[0m\u001b[0m][\u001b[1;30m\u001b[1;30m\u001b[1;32mDEBUG\u001b[0m\u001b[0m\u001b[0m] - R5/8:\u001b[1;30m\u001b[1;30m\u001b[1;32mTarget local tensor shape: [2, 4]\u001b[0m\u001b[0m\u001b[0m\n[2025-05-30 20:33:51,008][\u001b[1;36mtensorcraft.mpi.distributions.multi_axis_dist\u001b[0m][\u001b[1;35mapply\u001b[0m][\u001b[1;32mDEBUG\u001b[0m] - R5/8:\u001b[1;32mtensor([[ 6,  7, 14, 15],\n        [ 0,  0,  0,  0]])\u001b[0m\n[2025-05-30 20:33:51,008][\u001b[1;36m\u001b[1;36mtensorcraft.mpi.distributions.multi_axis_dist\u001b[0m\u001b[0m][\u001b[1;35m\u001b[1;35mapply\u001b[0m\u001b[0m][\u001b[1;30m\u001b[1;32mDEBUG\u001b[0m\u001b[0m] - R5/8:\u001b[1;30m\u001b[1;32mtensor([[ 6,  7, 14, 15],\n        [ 0,  0,  0,  0]])\u001b[0m\u001b[0m\n[2025-05-30 20:33:51,008][\u001b[1;36m\u001b[1;36m\u001b[1;36mtensorcraft.mpi.distributions.multi_axis_dist\u001b[0m\u001b[0m\u001b[0m][\u001b[1;35m\u001b[1;35m\u001b[1;35mapply\u001b[0m\u001b[0m\u001b[0m][\u001b[1;30m\u001b[1;30m\u001b[1;32mDEBUG\u001b[0m\u001b[0m\u001b[0m] - R5/8:\u001b[1;30m\u001b[1;30m\u001b[1;32mtensor([[ 6,  7, 14, 15],\n        [ 0,  0,  0,  0]])\u001b[0m\u001b[0m\u001b[0m\n[2025-05-30 20:33:51,012][\u001b[1;36mtensorcraft.mpi.distributions.multi_axis_dist\u001b[0m][\u001b[1;35mapply\u001b[0m][\u001b[1;32mDEBUG\u001b[0m] - R5/8:\u001b[1;32mLinear processor index: 0, Residue: 1, Block size: 1, axis: 0, N procs: 2, N full blocks: 2\u001b[0m\n[2025-05-30 20:33:51,012][\u001b[1;36m\u001b[1;36mtensorcraft.mpi.distributions.multi_axis_dist\u001b[0m\u001b[0m][\u001b[1;35m\u001b[1;35mapply\u001b[0m\u001b[0m][\u001b[1;30m\u001b[1;32mDEBUG\u001b[0m\u001b[0m] - R5/8:\u001b[1;30m\u001b[1;32mLinear processor index: 0, Residue: 1, Block size: 1, axis: 0, N procs: 2, N full blocks: 2\u001b[0m\u001b[0m\n[2025-05-30 20:33:51,012][\u001b[1;36m\u001b[1;36m\u001b[1;36mtensorcraft.mpi.distributions.multi_axis_dist\u001b[0m\u001b[0m\u001b[0m][\u001b[1;35m\u001b[1;35m\u001b[1;35mapply\u001b[0m\u001b[0m\u001b[0m][\u001b[1;30m\u001b[1;30m\u001b[1;32mDEBUG\u001b[0m\u001b[0m\u001b[0m] - R5/8:\u001b[1;30m\u001b[1;30m\u001b[1;32mLinear processor index: 0, Residue: 1, Block size: 1, axis: 0, N procs: 2, N full blocks: 2\u001b[0m\u001b[0m\u001b[0m\n[2025-05-30 20:33:51,015][\u001b[1;36mtensorcraft.mpi.distributions.multi_axis_dist\u001b[0m][\u001b[1;35mapply\u001b[0m][\u001b[1;32mDEBUG\u001b[0m] - R5/8:\u001b[1;32mLinear processor index: 3, Residue: 2, Block size: 2, axis: 1, N procs: 4, N full blocks: 10\u001b[0m\n[2025-05-30 20:33:51,015][\u001b[1;36m\u001b[1;36mtensorcraft.mpi.distributions.multi_axis_dist\u001b[0m\u001b[0m][\u001b[1;35m\u001b[1;35mapply\u001b[0m\u001b[0m][\u001b[1;30m\u001b[1;32mDEBUG\u001b[0m\u001b[0m] - R5/8:\u001b[1;30m\u001b[1;32mLinear processor index: 3, Residue: 2, Block size: 2, axis: 1, N procs: 4, N full blocks: 10\u001b[0m\u001b[0m\n[2025-05-30 20:33:51,015][\u001b[1;36m\u001b[1;36m\u001b[1;36mtensorcraft.mpi.distributions.multi_axis_dist\u001b[0m\u001b[0m\u001b[0m][\u001b[1;35m\u001b[1;35m\u001b[1;35mapply\u001b[0m\u001b[0m\u001b[0m][\u001b[1;30m\u001b[1;30m\u001b[1;32mDEBUG\u001b[0m\u001b[0m\u001b[0m] - R5/8:\u001b[1;30m\u001b[1;30m\u001b[1;32mLinear processor index: 3, Residue: 2, Block size: 2, axis: 1, N procs: 4, N full blocks: 10\u001b[0m\u001b[0m\u001b[0m\n[2025-05-30 20:33:51,018][\u001b[1;36mtensorcraft.mpi.distributions.multi_axis_dist\u001b[0m][\u001b[1;35mapply\u001b[0m][\u001b[1;32mDEBUG\u001b[0m] - R5/8:\u001b[1;32mShaved slices: [slice(0, -1, None), slice(None, None, None)]\u001b[0m\n[2025-05-30 20:33:51,018][\u001b[1;36m\u001b[1;36mtensorcraft.mpi.distributions.multi_axis_dist\u001b[0m\u001b[0m][\u001b[1;35m\u001b[1;35mapply\u001b[0m\u001b[0m][\u001b[1;30m\u001b[1;32mDEBUG\u001b[0m\u001b[0m] - R5/8:\u001b[1;30m\u001b[1;32mShaved slices: [slice(0, -1, None), slice(None, None, None)]\u001b[0m\u001b[0m\n[2025-05-30 20:33:51,018][\u001b[1;36m\u001b[1;36m\u001b[1;36mtensorcraft.mpi.distributions.multi_axis_dist\u001b[0m\u001b[0m\u001b[0m][\u001b[1;35m\u001b[1;35m\u001b[1;35mapply\u001b[0m\u001b[0m\u001b[0m][\u001b[1;30m\u001b[1;30m\u001b[1;32mDEBUG\u001b[0m\u001b[0m\u001b[0m] - R5/8:\u001b[1;30m\u001b[1;30m\u001b[1;32mShaved slices: [slice(0, -1, None), slice(None, None, None)]\u001b[0m\u001b[0m\u001b[0m\n[2025-05-30 20:33:51,021][\u001b[1;36mtensorcraft.mpi.distributions.multi_axis_dist\u001b[0m][\u001b[1;35mapply\u001b[0m][\u001b[1;32mDEBUG\u001b[0m] - R5/8:\u001b[1;32mFinal local tensor shape: torch.Size([1, 4])\u001b[0m\n[2025-05-30 20:33:51,021][\u001b[1;36m\u001b[1;36mtensorcraft.mpi.distributions.multi_axis_dist\u001b[0m\u001b[0m][\u001b[1;35m\u001b[1;35mapply\u001b[0m\u001b[0m][\u001b[1;30m\u001b[1;32mDEBUG\u001b[0m\u001b[0m] - R5/8:\u001b[1;30m\u001b[1;32mFinal local tensor shape: torch.Size([1, 4])\u001b[0m\u001b[0m\n[2025-05-30 20:33:51,021][\u001b[1;36m\u001b[1;36m\u001b[1;36mtensorcraft.mpi.distributions.multi_axis_dist\u001b[0m\u001b[0m\u001b[0m][\u001b[1;35m\u001b[1;35m\u001b[1;35mapply\u001b[0m\u001b[0m\u001b[0m][\u001b[1;30m\u001b[1;30m\u001b[1;32mDEBUG\u001b[0m\u001b[0m\u001b[0m] - R5/8:\u001b[1;30m\u001b[1;30m\u001b[1;32mFinal local tensor shape: torch.Size([1, 4])\u001b[0m\u001b[0m\u001b[0m\n",
      "submitted": "2025-05-30T18:33:50.976349Z"
     },
     "output_type": "display_data"
    },
    {
     "data": {
      "text/plain": [
       "\u001b[0;31mOut[2:13]: \u001b[0mtensor(True)"
      ]
     },
     "metadata": {
      "after": [],
      "completed": "2025-05-30T18:33:51.035538Z",
      "data": {},
      "engine_id": 2,
      "engine_uuid": "729b1c09-1c2bebdaadbd57760678b094",
      "error": null,
      "execute_input": "expected_local = new_dist.apply(x, rank)\ntorch.all(expected_local ==  new_local)\n",
      "execute_result": {
       "data": {
        "text/plain": "tensor(True)"
       },
       "execution_count": 13,
       "metadata": {}
      },
      "follow": [],
      "is_broadcast": false,
      "is_coalescing": false,
      "msg_id": "76e05c53-2f62b7a8a8c13a1c19b62b3b_183043_99",
      "outputs": [],
      "received": "2025-05-30T18:33:51.037579Z",
      "started": "2025-05-30T18:33:50.979305Z",
      "status": "ok",
      "stderr": "",
      "stdout": "[2025-05-30 20:33:50,980][\u001b[1;36mtensorcraft.mpi.distributions.multi_axis_dist\u001b[0m][\u001b[1;35mapply\u001b[0m][\u001b[1;32mDEBUG\u001b[0m] - R2/8:\u001b[1;32mProcessor multi index: torch.Size([0, 1, 0])\u001b[0m\n[2025-05-30 20:33:50,980][\u001b[1;36m\u001b[1;36mtensorcraft.mpi.distributions.multi_axis_dist\u001b[0m\u001b[0m][\u001b[1;35m\u001b[1;35mapply\u001b[0m\u001b[0m][\u001b[1;30m\u001b[1;32mDEBUG\u001b[0m\u001b[0m] - R2/8:\u001b[1;30m\u001b[1;32mProcessor multi index: torch.Size([0, 1, 0])\u001b[0m\u001b[0m\n[2025-05-30 20:33:50,980][\u001b[1;36m\u001b[1;36m\u001b[1;36mtensorcraft.mpi.distributions.multi_axis_dist\u001b[0m\u001b[0m\u001b[0m][\u001b[1;35m\u001b[1;35m\u001b[1;35mapply\u001b[0m\u001b[0m\u001b[0m][\u001b[1;30m\u001b[1;30m\u001b[1;32mDEBUG\u001b[0m\u001b[0m\u001b[0m] - R2/8:\u001b[1;30m\u001b[1;30m\u001b[1;32mProcessor multi index: torch.Size([0, 1, 0])\u001b[0m\u001b[0m\u001b[0m\n[2025-05-30 20:33:50,990][\u001b[1;36mtensorcraft.mpi.distributions.multi_axis_dist\u001b[0m][\u001b[1;35mapply\u001b[0m][\u001b[1;32mDEBUG\u001b[0m] - R2/8:\u001b[1;32mMissing elements: [1, 2]\u001b[0m\n[2025-05-30 20:33:50,990][\u001b[1;36m\u001b[1;36mtensorcraft.mpi.distributions.multi_axis_dist\u001b[0m\u001b[0m][\u001b[1;35m\u001b[1;35mapply\u001b[0m\u001b[0m][\u001b[1;30m\u001b[1;32mDEBUG\u001b[0m\u001b[0m] - R2/8:\u001b[1;30m\u001b[1;32mMissing elements: [1, 2]\u001b[0m\u001b[0m\n[2025-05-30 20:33:50,990][\u001b[1;36m\u001b[1;36m\u001b[1;36mtensorcraft.mpi.distributions.multi_axis_dist\u001b[0m\u001b[0m\u001b[0m][\u001b[1;35m\u001b[1;35m\u001b[1;35mapply\u001b[0m\u001b[0m\u001b[0m][\u001b[1;30m\u001b[1;30m\u001b[1;32mDEBUG\u001b[0m\u001b[0m\u001b[0m] - R2/8:\u001b[1;30m\u001b[1;30m\u001b[1;32mMissing elements: [1, 2]\u001b[0m\u001b[0m\u001b[0m\n[2025-05-30 20:33:50,995][\u001b[1;36mtensorcraft.mpi.distributions.multi_axis_dist\u001b[0m][\u001b[1;35mapply\u001b[0m][\u001b[1;32mDEBUG\u001b[0m] - R2/8:\u001b[1;32mN blocks per axis: [2, 10]\u001b[0m\n[2025-05-30 20:33:50,995][\u001b[1;36m\u001b[1;36mtensorcraft.mpi.distributions.multi_axis_dist\u001b[0m\u001b[0m][\u001b[1;35m\u001b[1;35mapply\u001b[0m\u001b[0m][\u001b[1;30m\u001b[1;32mDEBUG\u001b[0m\u001b[0m] - R2/8:\u001b[1;30m\u001b[1;32mN blocks per axis: [2, 10]\u001b[0m\u001b[0m\n[2025-05-30 20:33:50,995][\u001b[1;36m\u001b[1;36m\u001b[1;36mtensorcraft.mpi.distributions.multi_axis_dist\u001b[0m\u001b[0m\u001b[0m][\u001b[1;35m\u001b[1;35m\u001b[1;35mapply\u001b[0m\u001b[0m\u001b[0m][\u001b[1;30m\u001b[1;30m\u001b[1;32mDEBUG\u001b[0m\u001b[0m\u001b[0m] - R2/8:\u001b[1;30m\u001b[1;30m\u001b[1;32mN blocks per axis: [2, 10]\u001b[0m\u001b[0m\u001b[0m\n[2025-05-30 20:33:50,997][\u001b[1;36mtensorcraft.mpi.distributions.multi_axis_dist\u001b[0m][\u001b[1;35mapply\u001b[0m][\u001b[1;32mDEBUG\u001b[0m] - R2/8:\u001b[1;32mPadded tensor shape: torch.Size([3, 22])\u001b[0m\n[2025-05-30 20:33:50,997][\u001b[1;36m\u001b[1;36mtensorcraft.mpi.distributions.multi_axis_dist\u001b[0m\u001b[0m][\u001b[1;35m\u001b[1;35mapply\u001b[0m\u001b[0m][\u001b[1;30m\u001b[1;32mDEBUG\u001b[0m\u001b[0m] - R2/8:\u001b[1;30m\u001b[1;32mPadded tensor shape: torch.Size([3, 22])\u001b[0m\u001b[0m\n[2025-05-30 20:33:50,997][\u001b[1;36m\u001b[1;36m\u001b[1;36mtensorcraft.mpi.distributions.multi_axis_dist\u001b[0m\u001b[0m\u001b[0m][\u001b[1;35m\u001b[1;35m\u001b[1;35mapply\u001b[0m\u001b[0m\u001b[0m][\u001b[1;30m\u001b[1;30m\u001b[1;32mDEBUG\u001b[0m\u001b[0m\u001b[0m] - R2/8:\u001b[1;30m\u001b[1;30m\u001b[1;32mPadded tensor shape: torch.Size([3, 22])\u001b[0m\u001b[0m\u001b[0m\n[2025-05-30 20:33:51,002][\u001b[1;36mtensorcraft.mpi.distributions.multi_axis_dist\u001b[0m][\u001b[1;35mapply\u001b[0m][\u001b[1;32mDEBUG\u001b[0m] - R2/8:\u001b[1;32mPermute tuple: (0, 2, 1, 3)\u001b[0m\n[2025-05-30 20:33:51,002][\u001b[1;36m\u001b[1;36mtensorcraft.mpi.distributions.multi_axis_dist\u001b[0m\u001b[0m][\u001b[1;35m\u001b[1;35mapply\u001b[0m\u001b[0m][\u001b[1;30m\u001b[1;32mDEBUG\u001b[0m\u001b[0m] - R2/8:\u001b[1;30m\u001b[1;32mPermute tuple: (0, 2, 1, 3)\u001b[0m\u001b[0m\n[2025-05-30 20:33:51,002][\u001b[1;36m\u001b[1;36m\u001b[1;36mtensorcraft.mpi.distributions.multi_axis_dist\u001b[0m\u001b[0m\u001b[0m][\u001b[1;35m\u001b[1;35m\u001b[1;35mapply\u001b[0m\u001b[0m\u001b[0m][\u001b[1;30m\u001b[1;30m\u001b[1;32mDEBUG\u001b[0m\u001b[0m\u001b[0m] - R2/8:\u001b[1;30m\u001b[1;30m\u001b[1;32mPermute tuple: (0, 2, 1, 3)\u001b[0m\u001b[0m\u001b[0m\n[2025-05-30 20:33:51,004][\u001b[1;36mtensorcraft.mpi.distributions.multi_axis_dist\u001b[0m][\u001b[1;35mapply\u001b[0m][\u001b[1;32mDEBUG\u001b[0m] - R2/8:\u001b[1;32mReshape tuple: [3, 1, 11, 2]\u001b[0m\n[2025-05-30 20:33:51,004][\u001b[1;36m\u001b[1;36mtensorcraft.mpi.distributions.multi_axis_dist\u001b[0m\u001b[0m][\u001b[1;35m\u001b[1;35mapply\u001b[0m\u001b[0m][\u001b[1;30m\u001b[1;32mDEBUG\u001b[0m\u001b[0m] - R2/8:\u001b[1;30m\u001b[1;32mReshape tuple: [3, 1, 11, 2]\u001b[0m\u001b[0m\n[2025-05-30 20:33:51,004][\u001b[1;36m\u001b[1;36m\u001b[1;36mtensorcraft.mpi.distributions.multi_axis_dist\u001b[0m\u001b[0m\u001b[0m][\u001b[1;35m\u001b[1;35m\u001b[1;35mapply\u001b[0m\u001b[0m\u001b[0m][\u001b[1;30m\u001b[1;30m\u001b[1;32mDEBUG\u001b[0m\u001b[0m\u001b[0m] - R2/8:\u001b[1;30m\u001b[1;30m\u001b[1;32mReshape tuple: [3, 1, 11, 2]\u001b[0m\u001b[0m\u001b[0m\n[2025-05-30 20:33:51,009][\u001b[1;36mtensorcraft.mpi.distributions.multi_axis_dist\u001b[0m][\u001b[1;35mapply\u001b[0m][\u001b[1;32mDEBUG\u001b[0m] - R2/8:\u001b[1;32mTile Slices: [slice(tensor(1), None, 2), slice(None, None, None), slice(tensor(0), None, 4), slice(None, None, None)]\u001b[0m\n[2025-05-30 20:33:51,009][\u001b[1;36m\u001b[1;36mtensorcraft.mpi.distributions.multi_axis_dist\u001b[0m\u001b[0m][\u001b[1;35m\u001b[1;35mapply\u001b[0m\u001b[0m][\u001b[1;30m\u001b[1;32mDEBUG\u001b[0m\u001b[0m] - R2/8:\u001b[1;30m\u001b[1;32mTile Slices: [slice(tensor(1), None, 2), slice(None, None, None), slice(tensor(0), None, 4), slice(None, None, None)]\u001b[0m\u001b[0m\n[2025-05-30 20:33:51,009][\u001b[1;36m\u001b[1;36m\u001b[1;36mtensorcraft.mpi.distributions.multi_axis_dist\u001b[0m\u001b[0m\u001b[0m][\u001b[1;35m\u001b[1;35m\u001b[1;35mapply\u001b[0m\u001b[0m\u001b[0m][\u001b[1;30m\u001b[1;30m\u001b[1;32mDEBUG\u001b[0m\u001b[0m\u001b[0m] - R2/8:\u001b[1;30m\u001b[1;30m\u001b[1;32mTile Slices: [slice(tensor(1), None, 2), slice(None, None, None), slice(tensor(0), None, 4), slice(None, None, None)]\u001b[0m\u001b[0m\u001b[0m\n[2025-05-30 20:33:51,015][\u001b[1;36mtensorcraft.mpi.distributions.multi_axis_dist\u001b[0m][\u001b[1;35mapply\u001b[0m][\u001b[1;32mDEBUG\u001b[0m] - R2/8:\u001b[1;32mLocal tensor shape: torch.Size([1, 1, 3, 2])\u001b[0m\n[2025-05-30 20:33:51,015][\u001b[1;36m\u001b[1;36mtensorcraft.mpi.distributions.multi_axis_dist\u001b[0m\u001b[0m][\u001b[1;35m\u001b[1;35mapply\u001b[0m\u001b[0m][\u001b[1;30m\u001b[1;32mDEBUG\u001b[0m\u001b[0m] - R2/8:\u001b[1;30m\u001b[1;32mLocal tensor shape: torch.Size([1, 1, 3, 2])\u001b[0m\u001b[0m\n[2025-05-30 20:33:51,015][\u001b[1;36m\u001b[1;36m\u001b[1;36mtensorcraft.mpi.distributions.multi_axis_dist\u001b[0m\u001b[0m\u001b[0m][\u001b[1;35m\u001b[1;35m\u001b[1;35mapply\u001b[0m\u001b[0m\u001b[0m][\u001b[1;30m\u001b[1;30m\u001b[1;32mDEBUG\u001b[0m\u001b[0m\u001b[0m] - R2/8:\u001b[1;30m\u001b[1;30m\u001b[1;32mLocal tensor shape: torch.Size([1, 1, 3, 2])\u001b[0m\u001b[0m\u001b[0m\n[2025-05-30 20:33:51,017][\u001b[1;36mtensorcraft.mpi.distributions.multi_axis_dist\u001b[0m][\u001b[1;35mapply\u001b[0m][\u001b[1;32mDEBUG\u001b[0m] - R2/8:\u001b[1;32mTarget local tensor shape: [1, 6]\u001b[0m\n[2025-05-30 20:33:51,017][\u001b[1;36m\u001b[1;36mtensorcraft.mpi.distributions.multi_axis_dist\u001b[0m\u001b[0m][\u001b[1;35m\u001b[1;35mapply\u001b[0m\u001b[0m][\u001b[1;30m\u001b[1;32mDEBUG\u001b[0m\u001b[0m] - R2/8:\u001b[1;30m\u001b[1;32mTarget local tensor shape: [1, 6]\u001b[0m\u001b[0m\n[2025-05-30 20:33:51,017][\u001b[1;36m\u001b[1;36m\u001b[1;36mtensorcraft.mpi.distributions.multi_axis_dist\u001b[0m\u001b[0m\u001b[0m][\u001b[1;35m\u001b[1;35m\u001b[1;35mapply\u001b[0m\u001b[0m\u001b[0m][\u001b[1;30m\u001b[1;30m\u001b[1;32mDEBUG\u001b[0m\u001b[0m\u001b[0m] - R2/8:\u001b[1;30m\u001b[1;30m\u001b[1;32mTarget local tensor shape: [1, 6]\u001b[0m\u001b[0m\u001b[0m\n[2025-05-30 20:33:51,019][\u001b[1;36mtensorcraft.mpi.distributions.multi_axis_dist\u001b[0m][\u001b[1;35mapply\u001b[0m][\u001b[1;32mDEBUG\u001b[0m] - R2/8:\u001b[1;32mtensor([[20, 21, 28, 29, 36, 37]])\u001b[0m\n[2025-05-30 20:33:51,019][\u001b[1;36m\u001b[1;36mtensorcraft.mpi.distributions.multi_axis_dist\u001b[0m\u001b[0m][\u001b[1;35m\u001b[1;35mapply\u001b[0m\u001b[0m][\u001b[1;30m\u001b[1;32mDEBUG\u001b[0m\u001b[0m] - R2/8:\u001b[1;30m\u001b[1;32mtensor([[20, 21, 28, 29, 36, 37]])\u001b[0m\u001b[0m\n[2025-05-30 20:33:51,019][\u001b[1;36m\u001b[1;36m\u001b[1;36mtensorcraft.mpi.distributions.multi_axis_dist\u001b[0m\u001b[0m\u001b[0m][\u001b[1;35m\u001b[1;35m\u001b[1;35mapply\u001b[0m\u001b[0m\u001b[0m][\u001b[1;30m\u001b[1;30m\u001b[1;32mDEBUG\u001b[0m\u001b[0m\u001b[0m] - R2/8:\u001b[1;30m\u001b[1;30m\u001b[1;32mtensor([[20, 21, 28, 29, 36, 37]])\u001b[0m\u001b[0m\u001b[0m\n[2025-05-30 20:33:51,023][\u001b[1;36mtensorcraft.mpi.distributions.multi_axis_dist\u001b[0m][\u001b[1;35mapply\u001b[0m][\u001b[1;32mDEBUG\u001b[0m] - R2/8:\u001b[1;32mLinear processor index: 1, Residue: 1, Block size: 1, axis: 0, N procs: 2, N full blocks: 2\u001b[0m\n[2025-05-30 20:33:51,023][\u001b[1;36m\u001b[1;36mtensorcraft.mpi.distributions.multi_axis_dist\u001b[0m\u001b[0m][\u001b[1;35m\u001b[1;35mapply\u001b[0m\u001b[0m][\u001b[1;30m\u001b[1;32mDEBUG\u001b[0m\u001b[0m] - R2/8:\u001b[1;30m\u001b[1;32mLinear processor index: 1, Residue: 1, Block size: 1, axis: 0, N procs: 2, N full blocks: 2\u001b[0m\u001b[0m\n[2025-05-30 20:33:51,023][\u001b[1;36m\u001b[1;36m\u001b[1;36mtensorcraft.mpi.distributions.multi_axis_dist\u001b[0m\u001b[0m\u001b[0m][\u001b[1;35m\u001b[1;35m\u001b[1;35mapply\u001b[0m\u001b[0m\u001b[0m][\u001b[1;30m\u001b[1;30m\u001b[1;32mDEBUG\u001b[0m\u001b[0m\u001b[0m] - R2/8:\u001b[1;30m\u001b[1;30m\u001b[1;32mLinear processor index: 1, Residue: 1, Block size: 1, axis: 0, N procs: 2, N full blocks: 2\u001b[0m\u001b[0m\u001b[0m\n[2025-05-30 20:33:51,025][\u001b[1;36mtensorcraft.mpi.distributions.multi_axis_dist\u001b[0m][\u001b[1;35mapply\u001b[0m][\u001b[1;32mDEBUG\u001b[0m] - R2/8:\u001b[1;32mLinear processor index: 0, Residue: 2, Block size: 2, axis: 1, N procs: 4, N full blocks: 10\u001b[0m\n[2025-05-30 20:33:51,025][\u001b[1;36m\u001b[1;36mtensorcraft.mpi.distributions.multi_axis_dist\u001b[0m\u001b[0m][\u001b[1;35m\u001b[1;35mapply\u001b[0m\u001b[0m][\u001b[1;30m\u001b[1;32mDEBUG\u001b[0m\u001b[0m] - R2/8:\u001b[1;30m\u001b[1;32mLinear processor index: 0, Residue: 2, Block size: 2, axis: 1, N procs: 4, N full blocks: 10\u001b[0m\u001b[0m\n[2025-05-30 20:33:51,025][\u001b[1;36m\u001b[1;36m\u001b[1;36mtensorcraft.mpi.distributions.multi_axis_dist\u001b[0m\u001b[0m\u001b[0m][\u001b[1;35m\u001b[1;35m\u001b[1;35mapply\u001b[0m\u001b[0m\u001b[0m][\u001b[1;30m\u001b[1;30m\u001b[1;32mDEBUG\u001b[0m\u001b[0m\u001b[0m] - R2/8:\u001b[1;30m\u001b[1;30m\u001b[1;32mLinear processor index: 0, Residue: 2, Block size: 2, axis: 1, N procs: 4, N full blocks: 10\u001b[0m\u001b[0m\u001b[0m\n[2025-05-30 20:33:51,028][\u001b[1;36mtensorcraft.mpi.distributions.multi_axis_dist\u001b[0m][\u001b[1;35mapply\u001b[0m][\u001b[1;32mDEBUG\u001b[0m] - R2/8:\u001b[1;32mShaved slices: [slice(None, None, None), slice(None, None, None)]\u001b[0m\n[2025-05-30 20:33:51,028][\u001b[1;36m\u001b[1;36mtensorcraft.mpi.distributions.multi_axis_dist\u001b[0m\u001b[0m][\u001b[1;35m\u001b[1;35mapply\u001b[0m\u001b[0m][\u001b[1;30m\u001b[1;32mDEBUG\u001b[0m\u001b[0m] - R2/8:\u001b[1;30m\u001b[1;32mShaved slices: [slice(None, None, None), slice(None, None, None)]\u001b[0m\u001b[0m\n[2025-05-30 20:33:51,028][\u001b[1;36m\u001b[1;36m\u001b[1;36mtensorcraft.mpi.distributions.multi_axis_dist\u001b[0m\u001b[0m\u001b[0m][\u001b[1;35m\u001b[1;35m\u001b[1;35mapply\u001b[0m\u001b[0m\u001b[0m][\u001b[1;30m\u001b[1;30m\u001b[1;32mDEBUG\u001b[0m\u001b[0m\u001b[0m] - R2/8:\u001b[1;30m\u001b[1;30m\u001b[1;32mShaved slices: [slice(None, None, None), slice(None, None, None)]\u001b[0m\u001b[0m\u001b[0m\n[2025-05-30 20:33:51,030][\u001b[1;36mtensorcraft.mpi.distributions.multi_axis_dist\u001b[0m][\u001b[1;35mapply\u001b[0m][\u001b[1;32mDEBUG\u001b[0m] - R2/8:\u001b[1;32mFinal local tensor shape: torch.Size([1, 6])\u001b[0m\n[2025-05-30 20:33:51,030][\u001b[1;36m\u001b[1;36mtensorcraft.mpi.distributions.multi_axis_dist\u001b[0m\u001b[0m][\u001b[1;35m\u001b[1;35mapply\u001b[0m\u001b[0m][\u001b[1;30m\u001b[1;32mDEBUG\u001b[0m\u001b[0m] - R2/8:\u001b[1;30m\u001b[1;32mFinal local tensor shape: torch.Size([1, 6])\u001b[0m\u001b[0m\n[2025-05-30 20:33:51,030][\u001b[1;36m\u001b[1;36m\u001b[1;36mtensorcraft.mpi.distributions.multi_axis_dist\u001b[0m\u001b[0m\u001b[0m][\u001b[1;35m\u001b[1;35m\u001b[1;35mapply\u001b[0m\u001b[0m\u001b[0m][\u001b[1;30m\u001b[1;30m\u001b[1;32mDEBUG\u001b[0m\u001b[0m\u001b[0m] - R2/8:\u001b[1;30m\u001b[1;30m\u001b[1;32mFinal local tensor shape: torch.Size([1, 6])\u001b[0m\u001b[0m\u001b[0m\n",
      "submitted": "2025-05-30T18:33:50.975874Z"
     },
     "output_type": "display_data"
    },
    {
     "data": {
      "text/plain": [
       "\u001b[0;31mOut[6:13]: \u001b[0mtensor(True)"
      ]
     },
     "metadata": {
      "after": [],
      "completed": "2025-05-30T18:33:51.057392Z",
      "data": {},
      "engine_id": 6,
      "engine_uuid": "a4c293b9-aa60ab0ee5e39a1fb8a5030a",
      "error": null,
      "execute_input": "expected_local = new_dist.apply(x, rank)\ntorch.all(expected_local ==  new_local)\n",
      "execute_result": {
       "data": {
        "text/plain": "tensor(True)"
       },
       "execution_count": 13,
       "metadata": {}
      },
      "follow": [],
      "is_broadcast": false,
      "is_coalescing": false,
      "msg_id": "76e05c53-2f62b7a8a8c13a1c19b62b3b_183043_103",
      "outputs": [],
      "received": "2025-05-30T18:33:51.062378Z",
      "started": "2025-05-30T18:33:50.983687Z",
      "status": "ok",
      "stderr": "",
      "stdout": "[2025-05-30 20:33:50,985][\u001b[1;36mtensorcraft.mpi.distributions.multi_axis_dist\u001b[0m][\u001b[1;35mapply\u001b[0m][\u001b[1;32mDEBUG\u001b[0m] - R6/8:\u001b[1;32mProcessor multi index: torch.Size([1, 1, 0])\u001b[0m\n[2025-05-30 20:33:50,985][\u001b[1;36m\u001b[1;36mtensorcraft.mpi.distributions.multi_axis_dist\u001b[0m\u001b[0m][\u001b[1;35m\u001b[1;35mapply\u001b[0m\u001b[0m][\u001b[1;30m\u001b[1;32mDEBUG\u001b[0m\u001b[0m] - R6/8:\u001b[1;30m\u001b[1;32mProcessor multi index: torch.Size([1, 1, 0])\u001b[0m\u001b[0m\n[2025-05-30 20:33:50,985][\u001b[1;36m\u001b[1;36m\u001b[1;36mtensorcraft.mpi.distributions.multi_axis_dist\u001b[0m\u001b[0m\u001b[0m][\u001b[1;35m\u001b[1;35m\u001b[1;35mapply\u001b[0m\u001b[0m\u001b[0m][\u001b[1;30m\u001b[1;30m\u001b[1;32mDEBUG\u001b[0m\u001b[0m\u001b[0m] - R6/8:\u001b[1;30m\u001b[1;30m\u001b[1;32mProcessor multi index: torch.Size([1, 1, 0])\u001b[0m\u001b[0m\u001b[0m\n[2025-05-30 20:33:50,995][\u001b[1;36mtensorcraft.mpi.distributions.multi_axis_dist\u001b[0m][\u001b[1;35mapply\u001b[0m][\u001b[1;32mDEBUG\u001b[0m] - R6/8:\u001b[1;32mMissing elements: [1, 2]\u001b[0m\n[2025-05-30 20:33:50,995][\u001b[1;36m\u001b[1;36mtensorcraft.mpi.distributions.multi_axis_dist\u001b[0m\u001b[0m][\u001b[1;35m\u001b[1;35mapply\u001b[0m\u001b[0m][\u001b[1;30m\u001b[1;32mDEBUG\u001b[0m\u001b[0m] - R6/8:\u001b[1;30m\u001b[1;32mMissing elements: [1, 2]\u001b[0m\u001b[0m\n[2025-05-30 20:33:50,995][\u001b[1;36m\u001b[1;36m\u001b[1;36mtensorcraft.mpi.distributions.multi_axis_dist\u001b[0m\u001b[0m\u001b[0m][\u001b[1;35m\u001b[1;35m\u001b[1;35mapply\u001b[0m\u001b[0m\u001b[0m][\u001b[1;30m\u001b[1;30m\u001b[1;32mDEBUG\u001b[0m\u001b[0m\u001b[0m] - R6/8:\u001b[1;30m\u001b[1;30m\u001b[1;32mMissing elements: [1, 2]\u001b[0m\u001b[0m\u001b[0m\n[2025-05-30 20:33:51,002][\u001b[1;36mtensorcraft.mpi.distributions.multi_axis_dist\u001b[0m][\u001b[1;35mapply\u001b[0m][\u001b[1;32mDEBUG\u001b[0m] - R6/8:\u001b[1;32mN blocks per axis: [2, 10]\u001b[0m\n[2025-05-30 20:33:51,002][\u001b[1;36m\u001b[1;36mtensorcraft.mpi.distributions.multi_axis_dist\u001b[0m\u001b[0m][\u001b[1;35m\u001b[1;35mapply\u001b[0m\u001b[0m][\u001b[1;30m\u001b[1;32mDEBUG\u001b[0m\u001b[0m] - R6/8:\u001b[1;30m\u001b[1;32mN blocks per axis: [2, 10]\u001b[0m\u001b[0m\n[2025-05-30 20:33:51,002][\u001b[1;36m\u001b[1;36m\u001b[1;36mtensorcraft.mpi.distributions.multi_axis_dist\u001b[0m\u001b[0m\u001b[0m][\u001b[1;35m\u001b[1;35m\u001b[1;35mapply\u001b[0m\u001b[0m\u001b[0m][\u001b[1;30m\u001b[1;30m\u001b[1;32mDEBUG\u001b[0m\u001b[0m\u001b[0m] - R6/8:\u001b[1;30m\u001b[1;30m\u001b[1;32mN blocks per axis: [2, 10]\u001b[0m\u001b[0m\u001b[0m\n[2025-05-30 20:33:51,015][\u001b[1;36mtensorcraft.mpi.distributions.multi_axis_dist\u001b[0m][\u001b[1;35mapply\u001b[0m][\u001b[1;32mDEBUG\u001b[0m] - R6/8:\u001b[1;32mPadded tensor shape: torch.Size([3, 22])\u001b[0m\n[2025-05-30 20:33:51,015][\u001b[1;36m\u001b[1;36mtensorcraft.mpi.distributions.multi_axis_dist\u001b[0m\u001b[0m][\u001b[1;35m\u001b[1;35mapply\u001b[0m\u001b[0m][\u001b[1;30m\u001b[1;32mDEBUG\u001b[0m\u001b[0m] - R6/8:\u001b[1;30m\u001b[1;32mPadded tensor shape: torch.Size([3, 22])\u001b[0m\u001b[0m\n[2025-05-30 20:33:51,015][\u001b[1;36m\u001b[1;36m\u001b[1;36mtensorcraft.mpi.distributions.multi_axis_dist\u001b[0m\u001b[0m\u001b[0m][\u001b[1;35m\u001b[1;35m\u001b[1;35mapply\u001b[0m\u001b[0m\u001b[0m][\u001b[1;30m\u001b[1;30m\u001b[1;32mDEBUG\u001b[0m\u001b[0m\u001b[0m] - R6/8:\u001b[1;30m\u001b[1;30m\u001b[1;32mPadded tensor shape: torch.Size([3, 22])\u001b[0m\u001b[0m\u001b[0m\n[2025-05-30 20:33:51,018][\u001b[1;36mtensorcraft.mpi.distributions.multi_axis_dist\u001b[0m][\u001b[1;35mapply\u001b[0m][\u001b[1;32mDEBUG\u001b[0m] - R6/8:\u001b[1;32mPermute tuple: (0, 2, 1, 3)\u001b[0m\n[2025-05-30 20:33:51,018][\u001b[1;36m\u001b[1;36mtensorcraft.mpi.distributions.multi_axis_dist\u001b[0m\u001b[0m][\u001b[1;35m\u001b[1;35mapply\u001b[0m\u001b[0m][\u001b[1;30m\u001b[1;32mDEBUG\u001b[0m\u001b[0m] - R6/8:\u001b[1;30m\u001b[1;32mPermute tuple: (0, 2, 1, 3)\u001b[0m\u001b[0m\n[2025-05-30 20:33:51,018][\u001b[1;36m\u001b[1;36m\u001b[1;36mtensorcraft.mpi.distributions.multi_axis_dist\u001b[0m\u001b[0m\u001b[0m][\u001b[1;35m\u001b[1;35m\u001b[1;35mapply\u001b[0m\u001b[0m\u001b[0m][\u001b[1;30m\u001b[1;30m\u001b[1;32mDEBUG\u001b[0m\u001b[0m\u001b[0m] - R6/8:\u001b[1;30m\u001b[1;30m\u001b[1;32mPermute tuple: (0, 2, 1, 3)\u001b[0m\u001b[0m\u001b[0m\n[2025-05-30 20:33:51,026][\u001b[1;36mtensorcraft.mpi.distributions.multi_axis_dist\u001b[0m][\u001b[1;35mapply\u001b[0m][\u001b[1;32mDEBUG\u001b[0m] - R6/8:\u001b[1;32mReshape tuple: [3, 1, 11, 2]\u001b[0m\n[2025-05-30 20:33:51,026][\u001b[1;36m\u001b[1;36mtensorcraft.mpi.distributions.multi_axis_dist\u001b[0m\u001b[0m][\u001b[1;35m\u001b[1;35mapply\u001b[0m\u001b[0m][\u001b[1;30m\u001b[1;32mDEBUG\u001b[0m\u001b[0m] - R6/8:\u001b[1;30m\u001b[1;32mReshape tuple: [3, 1, 11, 2]\u001b[0m\u001b[0m\n[2025-05-30 20:33:51,026][\u001b[1;36m\u001b[1;36m\u001b[1;36mtensorcraft.mpi.distributions.multi_axis_dist\u001b[0m\u001b[0m\u001b[0m][\u001b[1;35m\u001b[1;35m\u001b[1;35mapply\u001b[0m\u001b[0m\u001b[0m][\u001b[1;30m\u001b[1;30m\u001b[1;32mDEBUG\u001b[0m\u001b[0m\u001b[0m] - R6/8:\u001b[1;30m\u001b[1;30m\u001b[1;32mReshape tuple: [3, 1, 11, 2]\u001b[0m\u001b[0m\u001b[0m\n[2025-05-30 20:33:51,032][\u001b[1;36mtensorcraft.mpi.distributions.multi_axis_dist\u001b[0m][\u001b[1;35mapply\u001b[0m][\u001b[1;32mDEBUG\u001b[0m] - R6/8:\u001b[1;32mTile Slices: [slice(tensor(1), None, 2), slice(None, None, None), slice(tensor(1), None, 4), slice(None, None, None)]\u001b[0m\n[2025-05-30 20:33:51,032][\u001b[1;36m\u001b[1;36mtensorcraft.mpi.distributions.multi_axis_dist\u001b[0m\u001b[0m][\u001b[1;35m\u001b[1;35mapply\u001b[0m\u001b[0m][\u001b[1;30m\u001b[1;32mDEBUG\u001b[0m\u001b[0m] - R6/8:\u001b[1;30m\u001b[1;32mTile Slices: [slice(tensor(1), None, 2), slice(None, None, None), slice(tensor(1), None, 4), slice(None, None, None)]\u001b[0m\u001b[0m\n[2025-05-30 20:33:51,032][\u001b[1;36m\u001b[1;36m\u001b[1;36mtensorcraft.mpi.distributions.multi_axis_dist\u001b[0m\u001b[0m\u001b[0m][\u001b[1;35m\u001b[1;35m\u001b[1;35mapply\u001b[0m\u001b[0m\u001b[0m][\u001b[1;30m\u001b[1;30m\u001b[1;32mDEBUG\u001b[0m\u001b[0m\u001b[0m] - R6/8:\u001b[1;30m\u001b[1;30m\u001b[1;32mTile Slices: [slice(tensor(1), None, 2), slice(None, None, None), slice(tensor(1), None, 4), slice(None, None, None)]\u001b[0m\u001b[0m\u001b[0m\n[2025-05-30 20:33:51,038][\u001b[1;36mtensorcraft.mpi.distributions.multi_axis_dist\u001b[0m][\u001b[1;35mapply\u001b[0m][\u001b[1;32mDEBUG\u001b[0m] - R6/8:\u001b[1;32mLocal tensor shape: torch.Size([1, 1, 3, 2])\u001b[0m\n[2025-05-30 20:33:51,038][\u001b[1;36m\u001b[1;36mtensorcraft.mpi.distributions.multi_axis_dist\u001b[0m\u001b[0m][\u001b[1;35m\u001b[1;35mapply\u001b[0m\u001b[0m][\u001b[1;30m\u001b[1;32mDEBUG\u001b[0m\u001b[0m] - R6/8:\u001b[1;30m\u001b[1;32mLocal tensor shape: torch.Size([1, 1, 3, 2])\u001b[0m\u001b[0m\n[2025-05-30 20:33:51,038][\u001b[1;36m\u001b[1;36m\u001b[1;36mtensorcraft.mpi.distributions.multi_axis_dist\u001b[0m\u001b[0m\u001b[0m][\u001b[1;35m\u001b[1;35m\u001b[1;35mapply\u001b[0m\u001b[0m\u001b[0m][\u001b[1;30m\u001b[1;30m\u001b[1;32mDEBUG\u001b[0m\u001b[0m\u001b[0m] - R6/8:\u001b[1;30m\u001b[1;30m\u001b[1;32mLocal tensor shape: torch.Size([1, 1, 3, 2])\u001b[0m\u001b[0m\u001b[0m\n[2025-05-30 20:33:51,040][\u001b[1;36mtensorcraft.mpi.distributions.multi_axis_dist\u001b[0m][\u001b[1;35mapply\u001b[0m][\u001b[1;32mDEBUG\u001b[0m] - R6/8:\u001b[1;32mTarget local tensor shape: [1, 6]\u001b[0m\n[2025-05-30 20:33:51,040][\u001b[1;36m\u001b[1;36mtensorcraft.mpi.distributions.multi_axis_dist\u001b[0m\u001b[0m][\u001b[1;35m\u001b[1;35mapply\u001b[0m\u001b[0m][\u001b[1;30m\u001b[1;32mDEBUG\u001b[0m\u001b[0m] - R6/8:\u001b[1;30m\u001b[1;32mTarget local tensor shape: [1, 6]\u001b[0m\u001b[0m\n[2025-05-30 20:33:51,040][\u001b[1;36m\u001b[1;36m\u001b[1;36mtensorcraft.mpi.distributions.multi_axis_dist\u001b[0m\u001b[0m\u001b[0m][\u001b[1;35m\u001b[1;35m\u001b[1;35mapply\u001b[0m\u001b[0m\u001b[0m][\u001b[1;30m\u001b[1;30m\u001b[1;32mDEBUG\u001b[0m\u001b[0m\u001b[0m] - R6/8:\u001b[1;30m\u001b[1;30m\u001b[1;32mTarget local tensor shape: [1, 6]\u001b[0m\u001b[0m\u001b[0m\n[2025-05-30 20:33:51,042][\u001b[1;36mtensorcraft.mpi.distributions.multi_axis_dist\u001b[0m][\u001b[1;35mapply\u001b[0m][\u001b[1;32mDEBUG\u001b[0m] - R6/8:\u001b[1;32mtensor([[22, 23, 30, 31, 38, 39]])\u001b[0m\n[2025-05-30 20:33:51,042][\u001b[1;36m\u001b[1;36mtensorcraft.mpi.distributions.multi_axis_dist\u001b[0m\u001b[0m][\u001b[1;35m\u001b[1;35mapply\u001b[0m\u001b[0m][\u001b[1;30m\u001b[1;32mDEBUG\u001b[0m\u001b[0m] - R6/8:\u001b[1;30m\u001b[1;32mtensor([[22, 23, 30, 31, 38, 39]])\u001b[0m\u001b[0m\n[2025-05-30 20:33:51,042][\u001b[1;36m\u001b[1;36m\u001b[1;36mtensorcraft.mpi.distributions.multi_axis_dist\u001b[0m\u001b[0m\u001b[0m][\u001b[1;35m\u001b[1;35m\u001b[1;35mapply\u001b[0m\u001b[0m\u001b[0m][\u001b[1;30m\u001b[1;30m\u001b[1;32mDEBUG\u001b[0m\u001b[0m\u001b[0m] - R6/8:\u001b[1;30m\u001b[1;30m\u001b[1;32mtensor([[22, 23, 30, 31, 38, 39]])\u001b[0m\u001b[0m\u001b[0m\n[2025-05-30 20:33:51,045][\u001b[1;36mtensorcraft.mpi.distributions.multi_axis_dist\u001b[0m][\u001b[1;35mapply\u001b[0m][\u001b[1;32mDEBUG\u001b[0m] - R6/8:\u001b[1;32mLinear processor index: 1, Residue: 1, Block size: 1, axis: 0, N procs: 2, N full blocks: 2\u001b[0m\n[2025-05-30 20:33:51,045][\u001b[1;36m\u001b[1;36mtensorcraft.mpi.distributions.multi_axis_dist\u001b[0m\u001b[0m][\u001b[1;35m\u001b[1;35mapply\u001b[0m\u001b[0m][\u001b[1;30m\u001b[1;32mDEBUG\u001b[0m\u001b[0m] - R6/8:\u001b[1;30m\u001b[1;32mLinear processor index: 1, Residue: 1, Block size: 1, axis: 0, N procs: 2, N full blocks: 2\u001b[0m\u001b[0m\n[2025-05-30 20:33:51,045][\u001b[1;36m\u001b[1;36m\u001b[1;36mtensorcraft.mpi.distributions.multi_axis_dist\u001b[0m\u001b[0m\u001b[0m][\u001b[1;35m\u001b[1;35m\u001b[1;35mapply\u001b[0m\u001b[0m\u001b[0m][\u001b[1;30m\u001b[1;30m\u001b[1;32mDEBUG\u001b[0m\u001b[0m\u001b[0m] - R6/8:\u001b[1;30m\u001b[1;30m\u001b[1;32mLinear processor index: 1, Residue: 1, Block size: 1, axis: 0, N procs: 2, N full blocks: 2\u001b[0m\u001b[0m\u001b[0m\n[2025-05-30 20:33:51,047][\u001b[1;36mtensorcraft.mpi.distributions.multi_axis_dist\u001b[0m][\u001b[1;35mapply\u001b[0m][\u001b[1;32mDEBUG\u001b[0m] - R6/8:\u001b[1;32mLinear processor index: 1, Residue: 2, Block size: 2, axis: 1, N procs: 4, N full blocks: 10\u001b[0m\n[2025-05-30 20:33:51,047][\u001b[1;36m\u001b[1;36mtensorcraft.mpi.distributions.multi_axis_dist\u001b[0m\u001b[0m][\u001b[1;35m\u001b[1;35mapply\u001b[0m\u001b[0m][\u001b[1;30m\u001b[1;32mDEBUG\u001b[0m\u001b[0m] - R6/8:\u001b[1;30m\u001b[1;32mLinear processor index: 1, Residue: 2, Block size: 2, axis: 1, N procs: 4, N full blocks: 10\u001b[0m\u001b[0m\n[2025-05-30 20:33:51,047][\u001b[1;36m\u001b[1;36m\u001b[1;36mtensorcraft.mpi.distributions.multi_axis_dist\u001b[0m\u001b[0m\u001b[0m][\u001b[1;35m\u001b[1;35m\u001b[1;35mapply\u001b[0m\u001b[0m\u001b[0m][\u001b[1;30m\u001b[1;30m\u001b[1;32mDEBUG\u001b[0m\u001b[0m\u001b[0m] - R6/8:\u001b[1;30m\u001b[1;30m\u001b[1;32mLinear processor index: 1, Residue: 2, Block size: 2, axis: 1, N procs: 4, N full blocks: 10\u001b[0m\u001b[0m\u001b[0m\n[2025-05-30 20:33:51,049][\u001b[1;36mtensorcraft.mpi.distributions.multi_axis_dist\u001b[0m][\u001b[1;35mapply\u001b[0m][\u001b[1;32mDEBUG\u001b[0m] - R6/8:\u001b[1;32mShaved slices: [slice(None, None, None), slice(None, None, None)]\u001b[0m\n[2025-05-30 20:33:51,049][\u001b[1;36m\u001b[1;36mtensorcraft.mpi.distributions.multi_axis_dist\u001b[0m\u001b[0m][\u001b[1;35m\u001b[1;35mapply\u001b[0m\u001b[0m][\u001b[1;30m\u001b[1;32mDEBUG\u001b[0m\u001b[0m] - R6/8:\u001b[1;30m\u001b[1;32mShaved slices: [slice(None, None, None), slice(None, None, None)]\u001b[0m\u001b[0m\n[2025-05-30 20:33:51,049][\u001b[1;36m\u001b[1;36m\u001b[1;36mtensorcraft.mpi.distributions.multi_axis_dist\u001b[0m\u001b[0m\u001b[0m][\u001b[1;35m\u001b[1;35m\u001b[1;35mapply\u001b[0m\u001b[0m\u001b[0m][\u001b[1;30m\u001b[1;30m\u001b[1;32mDEBUG\u001b[0m\u001b[0m\u001b[0m] - R6/8:\u001b[1;30m\u001b[1;30m\u001b[1;32mShaved slices: [slice(None, None, None), slice(None, None, None)]\u001b[0m\u001b[0m\u001b[0m\n[2025-05-30 20:33:51,052][\u001b[1;36mtensorcraft.mpi.distributions.multi_axis_dist\u001b[0m][\u001b[1;35mapply\u001b[0m][\u001b[1;32mDEBUG\u001b[0m] - R6/8:\u001b[1;32mFinal local tensor shape: torch.Size([1, 6])\u001b[0m\n[2025-05-30 20:33:51,052][\u001b[1;36m\u001b[1;36mtensorcraft.mpi.distributions.multi_axis_dist\u001b[0m\u001b[0m][\u001b[1;35m\u001b[1;35mapply\u001b[0m\u001b[0m][\u001b[1;30m\u001b[1;32mDEBUG\u001b[0m\u001b[0m] - R6/8:\u001b[1;30m\u001b[1;32mFinal local tensor shape: torch.Size([1, 6])\u001b[0m\u001b[0m\n[2025-05-30 20:33:51,052][\u001b[1;36m\u001b[1;36m\u001b[1;36mtensorcraft.mpi.distributions.multi_axis_dist\u001b[0m\u001b[0m\u001b[0m][\u001b[1;35m\u001b[1;35m\u001b[1;35mapply\u001b[0m\u001b[0m\u001b[0m][\u001b[1;30m\u001b[1;30m\u001b[1;32mDEBUG\u001b[0m\u001b[0m\u001b[0m] - R6/8:\u001b[1;30m\u001b[1;30m\u001b[1;32mFinal local tensor shape: torch.Size([1, 6])\u001b[0m\u001b[0m\u001b[0m\n",
      "submitted": "2025-05-30T18:33:50.976444Z"
     },
     "output_type": "display_data"
    },
    {
     "data": {
      "text/plain": [
       "\u001b[0;31mOut[0:13]: \u001b[0mtensor(True)"
      ]
     },
     "metadata": {
      "after": [],
      "completed": "2025-05-30T18:33:51.062220Z",
      "data": {},
      "engine_id": 0,
      "engine_uuid": "af9137b7-2b91422e6170ed87d1e5f45f",
      "error": null,
      "execute_input": "expected_local = new_dist.apply(x, rank)\ntorch.all(expected_local ==  new_local)\n",
      "execute_result": {
       "data": {
        "text/plain": "tensor(True)"
       },
       "execution_count": 13,
       "metadata": {}
      },
      "follow": [],
      "is_broadcast": false,
      "is_coalescing": false,
      "msg_id": "76e05c53-2f62b7a8a8c13a1c19b62b3b_183043_97",
      "outputs": [],
      "received": "2025-05-30T18:33:51.065027Z",
      "started": "2025-05-30T18:33:50.978266Z",
      "status": "ok",
      "stderr": "",
      "stdout": "[2025-05-30 20:33:50,982][\u001b[1;36mtensorcraft.mpi.distributions.multi_axis_dist\u001b[0m][\u001b[1;35mapply\u001b[0m][\u001b[1;32mDEBUG\u001b[0m] - R0/8:\u001b[1;32mProcessor multi index: torch.Size([0, 0, 0])\u001b[0m\n[2025-05-30 20:33:50,982][\u001b[1;36m\u001b[1;36mtensorcraft.mpi.distributions.multi_axis_dist\u001b[0m\u001b[0m][\u001b[1;35m\u001b[1;35mapply\u001b[0m\u001b[0m][\u001b[1;30m\u001b[1;32mDEBUG\u001b[0m\u001b[0m] - R0/8:\u001b[1;30m\u001b[1;32mProcessor multi index: torch.Size([0, 0, 0])\u001b[0m\u001b[0m\n[2025-05-30 20:33:50,982][\u001b[1;36m\u001b[1;36m\u001b[1;36mtensorcraft.mpi.distributions.multi_axis_dist\u001b[0m\u001b[0m\u001b[0m][\u001b[1;35m\u001b[1;35m\u001b[1;35mapply\u001b[0m\u001b[0m\u001b[0m][\u001b[1;30m\u001b[1;30m\u001b[1;32mDEBUG\u001b[0m\u001b[0m\u001b[0m] - R0/8:\u001b[1;30m\u001b[1;30m\u001b[1;32mProcessor multi index: torch.Size([0, 0, 0])\u001b[0m\u001b[0m\u001b[0m\n[2025-05-30 20:33:50,985][\u001b[1;36mtensorcraft.mpi.distributions.multi_axis_dist\u001b[0m][\u001b[1;35mapply\u001b[0m][\u001b[1;32mDEBUG\u001b[0m] - R0/8:\u001b[1;32mMissing elements: [1, 2]\u001b[0m\n[2025-05-30 20:33:50,985][\u001b[1;36m\u001b[1;36mtensorcraft.mpi.distributions.multi_axis_dist\u001b[0m\u001b[0m][\u001b[1;35m\u001b[1;35mapply\u001b[0m\u001b[0m][\u001b[1;30m\u001b[1;32mDEBUG\u001b[0m\u001b[0m] - R0/8:\u001b[1;30m\u001b[1;32mMissing elements: [1, 2]\u001b[0m\u001b[0m\n[2025-05-30 20:33:50,985][\u001b[1;36m\u001b[1;36m\u001b[1;36mtensorcraft.mpi.distributions.multi_axis_dist\u001b[0m\u001b[0m\u001b[0m][\u001b[1;35m\u001b[1;35m\u001b[1;35mapply\u001b[0m\u001b[0m\u001b[0m][\u001b[1;30m\u001b[1;30m\u001b[1;32mDEBUG\u001b[0m\u001b[0m\u001b[0m] - R0/8:\u001b[1;30m\u001b[1;30m\u001b[1;32mMissing elements: [1, 2]\u001b[0m\u001b[0m\u001b[0m\n[2025-05-30 20:33:50,990][\u001b[1;36mtensorcraft.mpi.distributions.multi_axis_dist\u001b[0m][\u001b[1;35mapply\u001b[0m][\u001b[1;32mDEBUG\u001b[0m] - R0/8:\u001b[1;32mN blocks per axis: [2, 10]\u001b[0m\n[2025-05-30 20:33:50,990][\u001b[1;36m\u001b[1;36mtensorcraft.mpi.distributions.multi_axis_dist\u001b[0m\u001b[0m][\u001b[1;35m\u001b[1;35mapply\u001b[0m\u001b[0m][\u001b[1;30m\u001b[1;32mDEBUG\u001b[0m\u001b[0m] - R0/8:\u001b[1;30m\u001b[1;32mN blocks per axis: [2, 10]\u001b[0m\u001b[0m\n[2025-05-30 20:33:50,990][\u001b[1;36m\u001b[1;36m\u001b[1;36mtensorcraft.mpi.distributions.multi_axis_dist\u001b[0m\u001b[0m\u001b[0m][\u001b[1;35m\u001b[1;35m\u001b[1;35mapply\u001b[0m\u001b[0m\u001b[0m][\u001b[1;30m\u001b[1;30m\u001b[1;32mDEBUG\u001b[0m\u001b[0m\u001b[0m] - R0/8:\u001b[1;30m\u001b[1;30m\u001b[1;32mN blocks per axis: [2, 10]\u001b[0m\u001b[0m\u001b[0m\n[2025-05-30 20:33:50,995][\u001b[1;36mtensorcraft.mpi.distributions.multi_axis_dist\u001b[0m][\u001b[1;35mapply\u001b[0m][\u001b[1;32mDEBUG\u001b[0m] - R0/8:\u001b[1;32mPadded tensor shape: torch.Size([3, 22])\u001b[0m\n[2025-05-30 20:33:50,995][\u001b[1;36m\u001b[1;36mtensorcraft.mpi.distributions.multi_axis_dist\u001b[0m\u001b[0m][\u001b[1;35m\u001b[1;35mapply\u001b[0m\u001b[0m][\u001b[1;30m\u001b[1;32mDEBUG\u001b[0m\u001b[0m] - R0/8:\u001b[1;30m\u001b[1;32mPadded tensor shape: torch.Size([3, 22])\u001b[0m\u001b[0m\n[2025-05-30 20:33:50,995][\u001b[1;36m\u001b[1;36m\u001b[1;36mtensorcraft.mpi.distributions.multi_axis_dist\u001b[0m\u001b[0m\u001b[0m][\u001b[1;35m\u001b[1;35m\u001b[1;35mapply\u001b[0m\u001b[0m\u001b[0m][\u001b[1;30m\u001b[1;30m\u001b[1;32mDEBUG\u001b[0m\u001b[0m\u001b[0m] - R0/8:\u001b[1;30m\u001b[1;30m\u001b[1;32mPadded tensor shape: torch.Size([3, 22])\u001b[0m\u001b[0m\u001b[0m\n[2025-05-30 20:33:51,001][\u001b[1;36mtensorcraft.mpi.distributions.multi_axis_dist\u001b[0m][\u001b[1;35mapply\u001b[0m][\u001b[1;32mDEBUG\u001b[0m] - R0/8:\u001b[1;32mPermute tuple: (0, 2, 1, 3)\u001b[0m\n[2025-05-30 20:33:51,001][\u001b[1;36m\u001b[1;36mtensorcraft.mpi.distributions.multi_axis_dist\u001b[0m\u001b[0m][\u001b[1;35m\u001b[1;35mapply\u001b[0m\u001b[0m][\u001b[1;30m\u001b[1;32mDEBUG\u001b[0m\u001b[0m] - R0/8:\u001b[1;30m\u001b[1;32mPermute tuple: (0, 2, 1, 3)\u001b[0m\u001b[0m\n[2025-05-30 20:33:51,001][\u001b[1;36m\u001b[1;36m\u001b[1;36mtensorcraft.mpi.distributions.multi_axis_dist\u001b[0m\u001b[0m\u001b[0m][\u001b[1;35m\u001b[1;35m\u001b[1;35mapply\u001b[0m\u001b[0m\u001b[0m][\u001b[1;30m\u001b[1;30m\u001b[1;32mDEBUG\u001b[0m\u001b[0m\u001b[0m] - R0/8:\u001b[1;30m\u001b[1;30m\u001b[1;32mPermute tuple: (0, 2, 1, 3)\u001b[0m\u001b[0m\u001b[0m\n[2025-05-30 20:33:51,005][\u001b[1;36mtensorcraft.mpi.distributions.multi_axis_dist\u001b[0m][\u001b[1;35mapply\u001b[0m][\u001b[1;32mDEBUG\u001b[0m] - R0/8:\u001b[1;32mReshape tuple: [3, 1, 11, 2]\u001b[0m\n[2025-05-30 20:33:51,005][\u001b[1;36m\u001b[1;36mtensorcraft.mpi.distributions.multi_axis_dist\u001b[0m\u001b[0m][\u001b[1;35m\u001b[1;35mapply\u001b[0m\u001b[0m][\u001b[1;30m\u001b[1;32mDEBUG\u001b[0m\u001b[0m] - R0/8:\u001b[1;30m\u001b[1;32mReshape tuple: [3, 1, 11, 2]\u001b[0m\u001b[0m\n[2025-05-30 20:33:51,005][\u001b[1;36m\u001b[1;36m\u001b[1;36mtensorcraft.mpi.distributions.multi_axis_dist\u001b[0m\u001b[0m\u001b[0m][\u001b[1;35m\u001b[1;35m\u001b[1;35mapply\u001b[0m\u001b[0m\u001b[0m][\u001b[1;30m\u001b[1;30m\u001b[1;32mDEBUG\u001b[0m\u001b[0m\u001b[0m] - R0/8:\u001b[1;30m\u001b[1;30m\u001b[1;32mReshape tuple: [3, 1, 11, 2]\u001b[0m\u001b[0m\u001b[0m\n[2025-05-30 20:33:51,013][\u001b[1;36mtensorcraft.mpi.distributions.multi_axis_dist\u001b[0m][\u001b[1;35mapply\u001b[0m][\u001b[1;32mDEBUG\u001b[0m] - R0/8:\u001b[1;32mTile Slices: [slice(tensor(0), None, 2), slice(None, None, None), slice(tensor(0), None, 4), slice(None, None, None)]\u001b[0m\n[2025-05-30 20:33:51,013][\u001b[1;36m\u001b[1;36mtensorcraft.mpi.distributions.multi_axis_dist\u001b[0m\u001b[0m][\u001b[1;35m\u001b[1;35mapply\u001b[0m\u001b[0m][\u001b[1;30m\u001b[1;32mDEBUG\u001b[0m\u001b[0m] - R0/8:\u001b[1;30m\u001b[1;32mTile Slices: [slice(tensor(0), None, 2), slice(None, None, None), slice(tensor(0), None, 4), slice(None, None, None)]\u001b[0m\u001b[0m\n[2025-05-30 20:33:51,013][\u001b[1;36m\u001b[1;36m\u001b[1;36mtensorcraft.mpi.distributions.multi_axis_dist\u001b[0m\u001b[0m\u001b[0m][\u001b[1;35m\u001b[1;35m\u001b[1;35mapply\u001b[0m\u001b[0m\u001b[0m][\u001b[1;30m\u001b[1;30m\u001b[1;32mDEBUG\u001b[0m\u001b[0m\u001b[0m] - R0/8:\u001b[1;30m\u001b[1;30m\u001b[1;32mTile Slices: [slice(tensor(0), None, 2), slice(None, None, None), slice(tensor(0), None, 4), slice(None, None, None)]\u001b[0m\u001b[0m\u001b[0m\n[2025-05-30 20:33:51,020][\u001b[1;36mtensorcraft.mpi.distributions.multi_axis_dist\u001b[0m][\u001b[1;35mapply\u001b[0m][\u001b[1;32mDEBUG\u001b[0m] - R0/8:\u001b[1;32mLocal tensor shape: torch.Size([2, 1, 3, 2])\u001b[0m\n[2025-05-30 20:33:51,020][\u001b[1;36m\u001b[1;36mtensorcraft.mpi.distributions.multi_axis_dist\u001b[0m\u001b[0m][\u001b[1;35m\u001b[1;35mapply\u001b[0m\u001b[0m][\u001b[1;30m\u001b[1;32mDEBUG\u001b[0m\u001b[0m] - R0/8:\u001b[1;30m\u001b[1;32mLocal tensor shape: torch.Size([2, 1, 3, 2])\u001b[0m\u001b[0m\n[2025-05-30 20:33:51,020][\u001b[1;36m\u001b[1;36m\u001b[1;36mtensorcraft.mpi.distributions.multi_axis_dist\u001b[0m\u001b[0m\u001b[0m][\u001b[1;35m\u001b[1;35m\u001b[1;35mapply\u001b[0m\u001b[0m\u001b[0m][\u001b[1;30m\u001b[1;30m\u001b[1;32mDEBUG\u001b[0m\u001b[0m\u001b[0m] - R0/8:\u001b[1;30m\u001b[1;30m\u001b[1;32mLocal tensor shape: torch.Size([2, 1, 3, 2])\u001b[0m\u001b[0m\u001b[0m\n[2025-05-30 20:33:51,026][\u001b[1;36mtensorcraft.mpi.distributions.multi_axis_dist\u001b[0m][\u001b[1;35mapply\u001b[0m][\u001b[1;32mDEBUG\u001b[0m] - R0/8:\u001b[1;32mTarget local tensor shape: [2, 6]\u001b[0m\n[2025-05-30 20:33:51,026][\u001b[1;36m\u001b[1;36mtensorcraft.mpi.distributions.multi_axis_dist\u001b[0m\u001b[0m][\u001b[1;35m\u001b[1;35mapply\u001b[0m\u001b[0m][\u001b[1;30m\u001b[1;32mDEBUG\u001b[0m\u001b[0m] - R0/8:\u001b[1;30m\u001b[1;32mTarget local tensor shape: [2, 6]\u001b[0m\u001b[0m\n[2025-05-30 20:33:51,026][\u001b[1;36m\u001b[1;36m\u001b[1;36mtensorcraft.mpi.distributions.multi_axis_dist\u001b[0m\u001b[0m\u001b[0m][\u001b[1;35m\u001b[1;35m\u001b[1;35mapply\u001b[0m\u001b[0m\u001b[0m][\u001b[1;30m\u001b[1;30m\u001b[1;32mDEBUG\u001b[0m\u001b[0m\u001b[0m] - R0/8:\u001b[1;30m\u001b[1;30m\u001b[1;32mTarget local tensor shape: [2, 6]\u001b[0m\u001b[0m\u001b[0m\n[2025-05-30 20:33:51,030][\u001b[1;36mtensorcraft.mpi.distributions.multi_axis_dist\u001b[0m][\u001b[1;35mapply\u001b[0m][\u001b[1;32mDEBUG\u001b[0m] - R0/8:\u001b[1;32mtensor([[ 0,  1,  8,  9, 16, 17],\n        [ 0,  0,  0,  0,  0,  0]])\u001b[0m\n[2025-05-30 20:33:51,030][\u001b[1;36m\u001b[1;36mtensorcraft.mpi.distributions.multi_axis_dist\u001b[0m\u001b[0m][\u001b[1;35m\u001b[1;35mapply\u001b[0m\u001b[0m][\u001b[1;30m\u001b[1;32mDEBUG\u001b[0m\u001b[0m] - R0/8:\u001b[1;30m\u001b[1;32mtensor([[ 0,  1,  8,  9, 16, 17],\n        [ 0,  0,  0,  0,  0,  0]])\u001b[0m\u001b[0m\n[2025-05-30 20:33:51,030][\u001b[1;36m\u001b[1;36m\u001b[1;36mtensorcraft.mpi.distributions.multi_axis_dist\u001b[0m\u001b[0m\u001b[0m][\u001b[1;35m\u001b[1;35m\u001b[1;35mapply\u001b[0m\u001b[0m\u001b[0m][\u001b[1;30m\u001b[1;30m\u001b[1;32mDEBUG\u001b[0m\u001b[0m\u001b[0m] - R0/8:\u001b[1;30m\u001b[1;30m\u001b[1;32mtensor([[ 0,  1,  8,  9, 16, 17],\n        [ 0,  0,  0,  0,  0,  0]])\u001b[0m\u001b[0m\u001b[0m\n[2025-05-30 20:33:51,036][\u001b[1;36mtensorcraft.mpi.distributions.multi_axis_dist\u001b[0m][\u001b[1;35mapply\u001b[0m][\u001b[1;32mDEBUG\u001b[0m] - R0/8:\u001b[1;32mLinear processor index: 0, Residue: 1, Block size: 1, axis: 0, N procs: 2, N full blocks: 2\u001b[0m\n[2025-05-30 20:33:51,036][\u001b[1;36m\u001b[1;36mtensorcraft.mpi.distributions.multi_axis_dist\u001b[0m\u001b[0m][\u001b[1;35m\u001b[1;35mapply\u001b[0m\u001b[0m][\u001b[1;30m\u001b[1;32mDEBUG\u001b[0m\u001b[0m] - R0/8:\u001b[1;30m\u001b[1;32mLinear processor index: 0, Residue: 1, Block size: 1, axis: 0, N procs: 2, N full blocks: 2\u001b[0m\u001b[0m\n[2025-05-30 20:33:51,036][\u001b[1;36m\u001b[1;36m\u001b[1;36mtensorcraft.mpi.distributions.multi_axis_dist\u001b[0m\u001b[0m\u001b[0m][\u001b[1;35m\u001b[1;35m\u001b[1;35mapply\u001b[0m\u001b[0m\u001b[0m][\u001b[1;30m\u001b[1;30m\u001b[1;32mDEBUG\u001b[0m\u001b[0m\u001b[0m] - R0/8:\u001b[1;30m\u001b[1;30m\u001b[1;32mLinear processor index: 0, Residue: 1, Block size: 1, axis: 0, N procs: 2, N full blocks: 2\u001b[0m\u001b[0m\u001b[0m\n[2025-05-30 20:33:51,041][\u001b[1;36mtensorcraft.mpi.distributions.multi_axis_dist\u001b[0m][\u001b[1;35mapply\u001b[0m][\u001b[1;32mDEBUG\u001b[0m] - R0/8:\u001b[1;32mLinear processor index: 0, Residue: 2, Block size: 2, axis: 1, N procs: 4, N full blocks: 10\u001b[0m\n[2025-05-30 20:33:51,041][\u001b[1;36m\u001b[1;36mtensorcraft.mpi.distributions.multi_axis_dist\u001b[0m\u001b[0m][\u001b[1;35m\u001b[1;35mapply\u001b[0m\u001b[0m][\u001b[1;30m\u001b[1;32mDEBUG\u001b[0m\u001b[0m] - R0/8:\u001b[1;30m\u001b[1;32mLinear processor index: 0, Residue: 2, Block size: 2, axis: 1, N procs: 4, N full blocks: 10\u001b[0m\u001b[0m\n[2025-05-30 20:33:51,041][\u001b[1;36m\u001b[1;36m\u001b[1;36mtensorcraft.mpi.distributions.multi_axis_dist\u001b[0m\u001b[0m\u001b[0m][\u001b[1;35m\u001b[1;35m\u001b[1;35mapply\u001b[0m\u001b[0m\u001b[0m][\u001b[1;30m\u001b[1;30m\u001b[1;32mDEBUG\u001b[0m\u001b[0m\u001b[0m] - R0/8:\u001b[1;30m\u001b[1;30m\u001b[1;32mLinear processor index: 0, Residue: 2, Block size: 2, axis: 1, N procs: 4, N full blocks: 10\u001b[0m\u001b[0m\u001b[0m\n[2025-05-30 20:33:51,045][\u001b[1;36mtensorcraft.mpi.distributions.multi_axis_dist\u001b[0m][\u001b[1;35mapply\u001b[0m][\u001b[1;32mDEBUG\u001b[0m] - R0/8:\u001b[1;32mShaved slices: [slice(0, -1, None), slice(None, None, None)]\u001b[0m\n[2025-05-30 20:33:51,045][\u001b[1;36m\u001b[1;36mtensorcraft.mpi.distributions.multi_axis_dist\u001b[0m\u001b[0m][\u001b[1;35m\u001b[1;35mapply\u001b[0m\u001b[0m][\u001b[1;30m\u001b[1;32mDEBUG\u001b[0m\u001b[0m] - R0/8:\u001b[1;30m\u001b[1;32mShaved slices: [slice(0, -1, None), slice(None, None, None)]\u001b[0m\u001b[0m\n[2025-05-30 20:33:51,045][\u001b[1;36m\u001b[1;36m\u001b[1;36mtensorcraft.mpi.distributions.multi_axis_dist\u001b[0m\u001b[0m\u001b[0m][\u001b[1;35m\u001b[1;35m\u001b[1;35mapply\u001b[0m\u001b[0m\u001b[0m][\u001b[1;30m\u001b[1;30m\u001b[1;32mDEBUG\u001b[0m\u001b[0m\u001b[0m] - R0/8:\u001b[1;30m\u001b[1;30m\u001b[1;32mShaved slices: [slice(0, -1, None), slice(None, None, None)]\u001b[0m\u001b[0m\u001b[0m\n[2025-05-30 20:33:51,053][\u001b[1;36mtensorcraft.mpi.distributions.multi_axis_dist\u001b[0m][\u001b[1;35mapply\u001b[0m][\u001b[1;32mDEBUG\u001b[0m] - R0/8:\u001b[1;32mFinal local tensor shape: torch.Size([1, 6])\u001b[0m\n[2025-05-30 20:33:51,053][\u001b[1;36m\u001b[1;36mtensorcraft.mpi.distributions.multi_axis_dist\u001b[0m\u001b[0m][\u001b[1;35m\u001b[1;35mapply\u001b[0m\u001b[0m][\u001b[1;30m\u001b[1;32mDEBUG\u001b[0m\u001b[0m] - R0/8:\u001b[1;30m\u001b[1;32mFinal local tensor shape: torch.Size([1, 6])\u001b[0m\u001b[0m\n[2025-05-30 20:33:51,053][\u001b[1;36m\u001b[1;36m\u001b[1;36mtensorcraft.mpi.distributions.multi_axis_dist\u001b[0m\u001b[0m\u001b[0m][\u001b[1;35m\u001b[1;35m\u001b[1;35mapply\u001b[0m\u001b[0m\u001b[0m][\u001b[1;30m\u001b[1;30m\u001b[1;32mDEBUG\u001b[0m\u001b[0m\u001b[0m] - R0/8:\u001b[1;30m\u001b[1;30m\u001b[1;32mFinal local tensor shape: torch.Size([1, 6])\u001b[0m\u001b[0m\u001b[0m\n",
      "submitted": "2025-05-30T18:33:50.975174Z"
     },
     "output_type": "display_data"
    },
    {
     "data": {
      "text/plain": [
       "\u001b[0;31mOut[1:13]: \u001b[0mtensor(True)"
      ]
     },
     "metadata": {
      "after": [],
      "completed": "2025-05-30T18:33:51.062764Z",
      "data": {},
      "engine_id": 1,
      "engine_uuid": "61a2bb3f-5c0b213dea4e4b577dcb246c",
      "error": null,
      "execute_input": "expected_local = new_dist.apply(x, rank)\ntorch.all(expected_local ==  new_local)\n",
      "execute_result": {
       "data": {
        "text/plain": "tensor(True)"
       },
       "execution_count": 13,
       "metadata": {}
      },
      "follow": [],
      "is_broadcast": false,
      "is_coalescing": false,
      "msg_id": "76e05c53-2f62b7a8a8c13a1c19b62b3b_183043_98",
      "outputs": [],
      "received": "2025-05-30T18:33:51.068026Z",
      "started": "2025-05-30T18:33:50.979443Z",
      "status": "ok",
      "stderr": "",
      "stdout": "[2025-05-30 20:33:50,982][\u001b[1;36mtensorcraft.mpi.distributions.multi_axis_dist\u001b[0m][\u001b[1;35mapply\u001b[0m][\u001b[1;32mDEBUG\u001b[0m] - R1/8:\u001b[1;32mProcessor multi index: torch.Size([0, 0, 1])\u001b[0m\n[2025-05-30 20:33:50,982][\u001b[1;36m\u001b[1;36mtensorcraft.mpi.distributions.multi_axis_dist\u001b[0m\u001b[0m][\u001b[1;35m\u001b[1;35mapply\u001b[0m\u001b[0m][\u001b[1;30m\u001b[1;32mDEBUG\u001b[0m\u001b[0m] - R1/8:\u001b[1;30m\u001b[1;32mProcessor multi index: torch.Size([0, 0, 1])\u001b[0m\u001b[0m\n[2025-05-30 20:33:50,982][\u001b[1;36m\u001b[1;36m\u001b[1;36mtensorcraft.mpi.distributions.multi_axis_dist\u001b[0m\u001b[0m\u001b[0m][\u001b[1;35m\u001b[1;35m\u001b[1;35mapply\u001b[0m\u001b[0m\u001b[0m][\u001b[1;30m\u001b[1;30m\u001b[1;32mDEBUG\u001b[0m\u001b[0m\u001b[0m] - R1/8:\u001b[1;30m\u001b[1;30m\u001b[1;32mProcessor multi index: torch.Size([0, 0, 1])\u001b[0m\u001b[0m\u001b[0m\n[2025-05-30 20:33:50,987][\u001b[1;36mtensorcraft.mpi.distributions.multi_axis_dist\u001b[0m][\u001b[1;35mapply\u001b[0m][\u001b[1;32mDEBUG\u001b[0m] - R1/8:\u001b[1;32mMissing elements: [1, 2]\u001b[0m\n[2025-05-30 20:33:50,987][\u001b[1;36m\u001b[1;36mtensorcraft.mpi.distributions.multi_axis_dist\u001b[0m\u001b[0m][\u001b[1;35m\u001b[1;35mapply\u001b[0m\u001b[0m][\u001b[1;30m\u001b[1;32mDEBUG\u001b[0m\u001b[0m] - R1/8:\u001b[1;30m\u001b[1;32mMissing elements: [1, 2]\u001b[0m\u001b[0m\n[2025-05-30 20:33:50,987][\u001b[1;36m\u001b[1;36m\u001b[1;36mtensorcraft.mpi.distributions.multi_axis_dist\u001b[0m\u001b[0m\u001b[0m][\u001b[1;35m\u001b[1;35m\u001b[1;35mapply\u001b[0m\u001b[0m\u001b[0m][\u001b[1;30m\u001b[1;30m\u001b[1;32mDEBUG\u001b[0m\u001b[0m\u001b[0m] - R1/8:\u001b[1;30m\u001b[1;30m\u001b[1;32mMissing elements: [1, 2]\u001b[0m\u001b[0m\u001b[0m\n[2025-05-30 20:33:50,991][\u001b[1;36mtensorcraft.mpi.distributions.multi_axis_dist\u001b[0m][\u001b[1;35mapply\u001b[0m][\u001b[1;32mDEBUG\u001b[0m] - R1/8:\u001b[1;32mN blocks per axis: [2, 10]\u001b[0m\n[2025-05-30 20:33:50,991][\u001b[1;36m\u001b[1;36mtensorcraft.mpi.distributions.multi_axis_dist\u001b[0m\u001b[0m][\u001b[1;35m\u001b[1;35mapply\u001b[0m\u001b[0m][\u001b[1;30m\u001b[1;32mDEBUG\u001b[0m\u001b[0m] - R1/8:\u001b[1;30m\u001b[1;32mN blocks per axis: [2, 10]\u001b[0m\u001b[0m\n[2025-05-30 20:33:50,991][\u001b[1;36m\u001b[1;36m\u001b[1;36mtensorcraft.mpi.distributions.multi_axis_dist\u001b[0m\u001b[0m\u001b[0m][\u001b[1;35m\u001b[1;35m\u001b[1;35mapply\u001b[0m\u001b[0m\u001b[0m][\u001b[1;30m\u001b[1;30m\u001b[1;32mDEBUG\u001b[0m\u001b[0m\u001b[0m] - R1/8:\u001b[1;30m\u001b[1;30m\u001b[1;32mN blocks per axis: [2, 10]\u001b[0m\u001b[0m\u001b[0m\n[2025-05-30 20:33:50,997][\u001b[1;36mtensorcraft.mpi.distributions.multi_axis_dist\u001b[0m][\u001b[1;35mapply\u001b[0m][\u001b[1;32mDEBUG\u001b[0m] - R1/8:\u001b[1;32mPadded tensor shape: torch.Size([3, 22])\u001b[0m\n[2025-05-30 20:33:50,997][\u001b[1;36m\u001b[1;36mtensorcraft.mpi.distributions.multi_axis_dist\u001b[0m\u001b[0m][\u001b[1;35m\u001b[1;35mapply\u001b[0m\u001b[0m][\u001b[1;30m\u001b[1;32mDEBUG\u001b[0m\u001b[0m] - R1/8:\u001b[1;30m\u001b[1;32mPadded tensor shape: torch.Size([3, 22])\u001b[0m\u001b[0m\n[2025-05-30 20:33:50,997][\u001b[1;36m\u001b[1;36m\u001b[1;36mtensorcraft.mpi.distributions.multi_axis_dist\u001b[0m\u001b[0m\u001b[0m][\u001b[1;35m\u001b[1;35m\u001b[1;35mapply\u001b[0m\u001b[0m\u001b[0m][\u001b[1;30m\u001b[1;30m\u001b[1;32mDEBUG\u001b[0m\u001b[0m\u001b[0m] - R1/8:\u001b[1;30m\u001b[1;30m\u001b[1;32mPadded tensor shape: torch.Size([3, 22])\u001b[0m\u001b[0m\u001b[0m\n[2025-05-30 20:33:51,001][\u001b[1;36mtensorcraft.mpi.distributions.multi_axis_dist\u001b[0m][\u001b[1;35mapply\u001b[0m][\u001b[1;32mDEBUG\u001b[0m] - R1/8:\u001b[1;32mPermute tuple: (0, 2, 1, 3)\u001b[0m\n[2025-05-30 20:33:51,001][\u001b[1;36m\u001b[1;36mtensorcraft.mpi.distributions.multi_axis_dist\u001b[0m\u001b[0m][\u001b[1;35m\u001b[1;35mapply\u001b[0m\u001b[0m][\u001b[1;30m\u001b[1;32mDEBUG\u001b[0m\u001b[0m] - R1/8:\u001b[1;30m\u001b[1;32mPermute tuple: (0, 2, 1, 3)\u001b[0m\u001b[0m\n[2025-05-30 20:33:51,001][\u001b[1;36m\u001b[1;36m\u001b[1;36mtensorcraft.mpi.distributions.multi_axis_dist\u001b[0m\u001b[0m\u001b[0m][\u001b[1;35m\u001b[1;35m\u001b[1;35mapply\u001b[0m\u001b[0m\u001b[0m][\u001b[1;30m\u001b[1;30m\u001b[1;32mDEBUG\u001b[0m\u001b[0m\u001b[0m] - R1/8:\u001b[1;30m\u001b[1;30m\u001b[1;32mPermute tuple: (0, 2, 1, 3)\u001b[0m\u001b[0m\u001b[0m\n[2025-05-30 20:33:51,007][\u001b[1;36mtensorcraft.mpi.distributions.multi_axis_dist\u001b[0m][\u001b[1;35mapply\u001b[0m][\u001b[1;32mDEBUG\u001b[0m] - R1/8:\u001b[1;32mReshape tuple: [3, 1, 11, 2]\u001b[0m\n[2025-05-30 20:33:51,007][\u001b[1;36m\u001b[1;36mtensorcraft.mpi.distributions.multi_axis_dist\u001b[0m\u001b[0m][\u001b[1;35m\u001b[1;35mapply\u001b[0m\u001b[0m][\u001b[1;30m\u001b[1;32mDEBUG\u001b[0m\u001b[0m] - R1/8:\u001b[1;30m\u001b[1;32mReshape tuple: [3, 1, 11, 2]\u001b[0m\u001b[0m\n[2025-05-30 20:33:51,007][\u001b[1;36m\u001b[1;36m\u001b[1;36mtensorcraft.mpi.distributions.multi_axis_dist\u001b[0m\u001b[0m\u001b[0m][\u001b[1;35m\u001b[1;35m\u001b[1;35mapply\u001b[0m\u001b[0m\u001b[0m][\u001b[1;30m\u001b[1;30m\u001b[1;32mDEBUG\u001b[0m\u001b[0m\u001b[0m] - R1/8:\u001b[1;30m\u001b[1;30m\u001b[1;32mReshape tuple: [3, 1, 11, 2]\u001b[0m\u001b[0m\u001b[0m\n[2025-05-30 20:33:51,013][\u001b[1;36mtensorcraft.mpi.distributions.multi_axis_dist\u001b[0m][\u001b[1;35mapply\u001b[0m][\u001b[1;32mDEBUG\u001b[0m] - R1/8:\u001b[1;32mTile Slices: [slice(tensor(0), None, 2), slice(None, None, None), slice(tensor(2), None, 4), slice(None, None, None)]\u001b[0m\n[2025-05-30 20:33:51,013][\u001b[1;36m\u001b[1;36mtensorcraft.mpi.distributions.multi_axis_dist\u001b[0m\u001b[0m][\u001b[1;35m\u001b[1;35mapply\u001b[0m\u001b[0m][\u001b[1;30m\u001b[1;32mDEBUG\u001b[0m\u001b[0m] - R1/8:\u001b[1;30m\u001b[1;32mTile Slices: [slice(tensor(0), None, 2), slice(None, None, None), slice(tensor(2), None, 4), slice(None, None, None)]\u001b[0m\u001b[0m\n[2025-05-30 20:33:51,013][\u001b[1;36m\u001b[1;36m\u001b[1;36mtensorcraft.mpi.distributions.multi_axis_dist\u001b[0m\u001b[0m\u001b[0m][\u001b[1;35m\u001b[1;35m\u001b[1;35mapply\u001b[0m\u001b[0m\u001b[0m][\u001b[1;30m\u001b[1;30m\u001b[1;32mDEBUG\u001b[0m\u001b[0m\u001b[0m] - R1/8:\u001b[1;30m\u001b[1;30m\u001b[1;32mTile Slices: [slice(tensor(0), None, 2), slice(None, None, None), slice(tensor(2), None, 4), slice(None, None, None)]\u001b[0m\u001b[0m\u001b[0m\n[2025-05-30 20:33:51,017][\u001b[1;36mtensorcraft.mpi.distributions.multi_axis_dist\u001b[0m][\u001b[1;35mapply\u001b[0m][\u001b[1;32mDEBUG\u001b[0m] - R1/8:\u001b[1;32mLocal tensor shape: torch.Size([2, 1, 3, 2])\u001b[0m\n[2025-05-30 20:33:51,017][\u001b[1;36m\u001b[1;36mtensorcraft.mpi.distributions.multi_axis_dist\u001b[0m\u001b[0m][\u001b[1;35m\u001b[1;35mapply\u001b[0m\u001b[0m][\u001b[1;30m\u001b[1;32mDEBUG\u001b[0m\u001b[0m] - R1/8:\u001b[1;30m\u001b[1;32mLocal tensor shape: torch.Size([2, 1, 3, 2])\u001b[0m\u001b[0m\n[2025-05-30 20:33:51,017][\u001b[1;36m\u001b[1;36m\u001b[1;36mtensorcraft.mpi.distributions.multi_axis_dist\u001b[0m\u001b[0m\u001b[0m][\u001b[1;35m\u001b[1;35m\u001b[1;35mapply\u001b[0m\u001b[0m\u001b[0m][\u001b[1;30m\u001b[1;30m\u001b[1;32mDEBUG\u001b[0m\u001b[0m\u001b[0m] - R1/8:\u001b[1;30m\u001b[1;30m\u001b[1;32mLocal tensor shape: torch.Size([2, 1, 3, 2])\u001b[0m\u001b[0m\u001b[0m\n[2025-05-30 20:33:51,021][\u001b[1;36mtensorcraft.mpi.distributions.multi_axis_dist\u001b[0m][\u001b[1;35mapply\u001b[0m][\u001b[1;32mDEBUG\u001b[0m] - R1/8:\u001b[1;32mTarget local tensor shape: [2, 6]\u001b[0m\n[2025-05-30 20:33:51,021][\u001b[1;36m\u001b[1;36mtensorcraft.mpi.distributions.multi_axis_dist\u001b[0m\u001b[0m][\u001b[1;35m\u001b[1;35mapply\u001b[0m\u001b[0m][\u001b[1;30m\u001b[1;32mDEBUG\u001b[0m\u001b[0m] - R1/8:\u001b[1;30m\u001b[1;32mTarget local tensor shape: [2, 6]\u001b[0m\u001b[0m\n[2025-05-30 20:33:51,021][\u001b[1;36m\u001b[1;36m\u001b[1;36mtensorcraft.mpi.distributions.multi_axis_dist\u001b[0m\u001b[0m\u001b[0m][\u001b[1;35m\u001b[1;35m\u001b[1;35mapply\u001b[0m\u001b[0m\u001b[0m][\u001b[1;30m\u001b[1;30m\u001b[1;32mDEBUG\u001b[0m\u001b[0m\u001b[0m] - R1/8:\u001b[1;30m\u001b[1;30m\u001b[1;32mTarget local tensor shape: [2, 6]\u001b[0m\u001b[0m\u001b[0m\n[2025-05-30 20:33:51,031][\u001b[1;36mtensorcraft.mpi.distributions.multi_axis_dist\u001b[0m][\u001b[1;35mapply\u001b[0m][\u001b[1;32mDEBUG\u001b[0m] - R1/8:\u001b[1;32mtensor([[ 4,  5, 12, 13,  0,  0],\n        [ 0,  0,  0,  0,  0,  0]])\u001b[0m\n[2025-05-30 20:33:51,031][\u001b[1;36m\u001b[1;36mtensorcraft.mpi.distributions.multi_axis_dist\u001b[0m\u001b[0m][\u001b[1;35m\u001b[1;35mapply\u001b[0m\u001b[0m][\u001b[1;30m\u001b[1;32mDEBUG\u001b[0m\u001b[0m] - R1/8:\u001b[1;30m\u001b[1;32mtensor([[ 4,  5, 12, 13,  0,  0],\n        [ 0,  0,  0,  0,  0,  0]])\u001b[0m\u001b[0m\n[2025-05-30 20:33:51,031][\u001b[1;36m\u001b[1;36m\u001b[1;36mtensorcraft.mpi.distributions.multi_axis_dist\u001b[0m\u001b[0m\u001b[0m][\u001b[1;35m\u001b[1;35m\u001b[1;35mapply\u001b[0m\u001b[0m\u001b[0m][\u001b[1;30m\u001b[1;30m\u001b[1;32mDEBUG\u001b[0m\u001b[0m\u001b[0m] - R1/8:\u001b[1;30m\u001b[1;30m\u001b[1;32mtensor([[ 4,  5, 12, 13,  0,  0],\n        [ 0,  0,  0,  0,  0,  0]])\u001b[0m\u001b[0m\u001b[0m\n[2025-05-30 20:33:51,036][\u001b[1;36mtensorcraft.mpi.distributions.multi_axis_dist\u001b[0m][\u001b[1;35mapply\u001b[0m][\u001b[1;32mDEBUG\u001b[0m] - R1/8:\u001b[1;32mLinear processor index: 0, Residue: 1, Block size: 1, axis: 0, N procs: 2, N full blocks: 2\u001b[0m\n[2025-05-30 20:33:51,036][\u001b[1;36m\u001b[1;36mtensorcraft.mpi.distributions.multi_axis_dist\u001b[0m\u001b[0m][\u001b[1;35m\u001b[1;35mapply\u001b[0m\u001b[0m][\u001b[1;30m\u001b[1;32mDEBUG\u001b[0m\u001b[0m] - R1/8:\u001b[1;30m\u001b[1;32mLinear processor index: 0, Residue: 1, Block size: 1, axis: 0, N procs: 2, N full blocks: 2\u001b[0m\u001b[0m\n[2025-05-30 20:33:51,036][\u001b[1;36m\u001b[1;36m\u001b[1;36mtensorcraft.mpi.distributions.multi_axis_dist\u001b[0m\u001b[0m\u001b[0m][\u001b[1;35m\u001b[1;35m\u001b[1;35mapply\u001b[0m\u001b[0m\u001b[0m][\u001b[1;30m\u001b[1;30m\u001b[1;32mDEBUG\u001b[0m\u001b[0m\u001b[0m] - R1/8:\u001b[1;30m\u001b[1;30m\u001b[1;32mLinear processor index: 0, Residue: 1, Block size: 1, axis: 0, N procs: 2, N full blocks: 2\u001b[0m\u001b[0m\u001b[0m\n[2025-05-30 20:33:51,039][\u001b[1;36mtensorcraft.mpi.distributions.multi_axis_dist\u001b[0m][\u001b[1;35mapply\u001b[0m][\u001b[1;32mDEBUG\u001b[0m] - R1/8:\u001b[1;32mLinear processor index: 2, Residue: 2, Block size: 2, axis: 1, N procs: 4, N full blocks: 10\u001b[0m\n[2025-05-30 20:33:51,039][\u001b[1;36m\u001b[1;36mtensorcraft.mpi.distributions.multi_axis_dist\u001b[0m\u001b[0m][\u001b[1;35m\u001b[1;35mapply\u001b[0m\u001b[0m][\u001b[1;30m\u001b[1;32mDEBUG\u001b[0m\u001b[0m] - R1/8:\u001b[1;30m\u001b[1;32mLinear processor index: 2, Residue: 2, Block size: 2, axis: 1, N procs: 4, N full blocks: 10\u001b[0m\u001b[0m\n[2025-05-30 20:33:51,039][\u001b[1;36m\u001b[1;36m\u001b[1;36mtensorcraft.mpi.distributions.multi_axis_dist\u001b[0m\u001b[0m\u001b[0m][\u001b[1;35m\u001b[1;35m\u001b[1;35mapply\u001b[0m\u001b[0m\u001b[0m][\u001b[1;30m\u001b[1;30m\u001b[1;32mDEBUG\u001b[0m\u001b[0m\u001b[0m] - R1/8:\u001b[1;30m\u001b[1;30m\u001b[1;32mLinear processor index: 2, Residue: 2, Block size: 2, axis: 1, N procs: 4, N full blocks: 10\u001b[0m\u001b[0m\u001b[0m\n[2025-05-30 20:33:51,042][\u001b[1;36mtensorcraft.mpi.distributions.multi_axis_dist\u001b[0m][\u001b[1;35mapply\u001b[0m][\u001b[1;32mDEBUG\u001b[0m] - R1/8:\u001b[1;32mShaved slices: [slice(0, -1, None), slice(0, -2, None)]\u001b[0m\n[2025-05-30 20:33:51,042][\u001b[1;36m\u001b[1;36mtensorcraft.mpi.distributions.multi_axis_dist\u001b[0m\u001b[0m][\u001b[1;35m\u001b[1;35mapply\u001b[0m\u001b[0m][\u001b[1;30m\u001b[1;32mDEBUG\u001b[0m\u001b[0m] - R1/8:\u001b[1;30m\u001b[1;32mShaved slices: [slice(0, -1, None), slice(0, -2, None)]\u001b[0m\u001b[0m\n[2025-05-30 20:33:51,042][\u001b[1;36m\u001b[1;36m\u001b[1;36mtensorcraft.mpi.distributions.multi_axis_dist\u001b[0m\u001b[0m\u001b[0m][\u001b[1;35m\u001b[1;35m\u001b[1;35mapply\u001b[0m\u001b[0m\u001b[0m][\u001b[1;30m\u001b[1;30m\u001b[1;32mDEBUG\u001b[0m\u001b[0m\u001b[0m] - R1/8:\u001b[1;30m\u001b[1;30m\u001b[1;32mShaved slices: [slice(0, -1, None), slice(0, -2, None)]\u001b[0m\u001b[0m\u001b[0m\n[2025-05-30 20:33:51,053][\u001b[1;36mtensorcraft.mpi.distributions.multi_axis_dist\u001b[0m][\u001b[1;35mapply\u001b[0m][\u001b[1;32mDEBUG\u001b[0m] - R1/8:\u001b[1;32mFinal local tensor shape: torch.Size([1, 4])\u001b[0m\n[2025-05-30 20:33:51,053][\u001b[1;36m\u001b[1;36mtensorcraft.mpi.distributions.multi_axis_dist\u001b[0m\u001b[0m][\u001b[1;35m\u001b[1;35mapply\u001b[0m\u001b[0m][\u001b[1;30m\u001b[1;32mDEBUG\u001b[0m\u001b[0m] - R1/8:\u001b[1;30m\u001b[1;32mFinal local tensor shape: torch.Size([1, 4])\u001b[0m\u001b[0m\n[2025-05-30 20:33:51,053][\u001b[1;36m\u001b[1;36m\u001b[1;36mtensorcraft.mpi.distributions.multi_axis_dist\u001b[0m\u001b[0m\u001b[0m][\u001b[1;35m\u001b[1;35m\u001b[1;35mapply\u001b[0m\u001b[0m\u001b[0m][\u001b[1;30m\u001b[1;30m\u001b[1;32mDEBUG\u001b[0m\u001b[0m\u001b[0m] - R1/8:\u001b[1;30m\u001b[1;30m\u001b[1;32mFinal local tensor shape: torch.Size([1, 4])\u001b[0m\u001b[0m\u001b[0m\n",
      "submitted": "2025-05-30T18:33:50.975724Z"
     },
     "output_type": "display_data"
    },
    {
     "data": {
      "text/plain": [
       "\u001b[0;31mOut[4:13]: \u001b[0mtensor(True)"
      ]
     },
     "metadata": {
      "after": [],
      "completed": "2025-05-30T18:33:51.072319Z",
      "data": {},
      "engine_id": 4,
      "engine_uuid": "e46a277b-84e5993eeb52443de3df711f",
      "error": null,
      "execute_input": "expected_local = new_dist.apply(x, rank)\ntorch.all(expected_local ==  new_local)\n",
      "execute_result": {
       "data": {
        "text/plain": "tensor(True)"
       },
       "execution_count": 13,
       "metadata": {}
      },
      "follow": [],
      "is_broadcast": false,
      "is_coalescing": false,
      "msg_id": "76e05c53-2f62b7a8a8c13a1c19b62b3b_183043_101",
      "outputs": [],
      "received": "2025-05-30T18:33:51.075853Z",
      "started": "2025-05-30T18:33:50.981012Z",
      "status": "ok",
      "stderr": "",
      "stdout": "[2025-05-30 20:33:50,982][\u001b[1;36mtensorcraft.mpi.distributions.multi_axis_dist\u001b[0m][\u001b[1;35mapply\u001b[0m][\u001b[1;32mDEBUG\u001b[0m] - R4/8:\u001b[1;32mProcessor multi index: torch.Size([1, 0, 0])\u001b[0m\n[2025-05-30 20:33:50,982][\u001b[1;36m\u001b[1;36mtensorcraft.mpi.distributions.multi_axis_dist\u001b[0m\u001b[0m][\u001b[1;35m\u001b[1;35mapply\u001b[0m\u001b[0m][\u001b[1;30m\u001b[1;32mDEBUG\u001b[0m\u001b[0m] - R4/8:\u001b[1;30m\u001b[1;32mProcessor multi index: torch.Size([1, 0, 0])\u001b[0m\u001b[0m\n[2025-05-30 20:33:50,982][\u001b[1;36m\u001b[1;36m\u001b[1;36mtensorcraft.mpi.distributions.multi_axis_dist\u001b[0m\u001b[0m\u001b[0m][\u001b[1;35m\u001b[1;35m\u001b[1;35mapply\u001b[0m\u001b[0m\u001b[0m][\u001b[1;30m\u001b[1;30m\u001b[1;32mDEBUG\u001b[0m\u001b[0m\u001b[0m] - R4/8:\u001b[1;30m\u001b[1;30m\u001b[1;32mProcessor multi index: torch.Size([1, 0, 0])\u001b[0m\u001b[0m\u001b[0m\n[2025-05-30 20:33:50,989][\u001b[1;36mtensorcraft.mpi.distributions.multi_axis_dist\u001b[0m][\u001b[1;35mapply\u001b[0m][\u001b[1;32mDEBUG\u001b[0m] - R4/8:\u001b[1;32mMissing elements: [1, 2]\u001b[0m\n[2025-05-30 20:33:50,989][\u001b[1;36m\u001b[1;36mtensorcraft.mpi.distributions.multi_axis_dist\u001b[0m\u001b[0m][\u001b[1;35m\u001b[1;35mapply\u001b[0m\u001b[0m][\u001b[1;30m\u001b[1;32mDEBUG\u001b[0m\u001b[0m] - R4/8:\u001b[1;30m\u001b[1;32mMissing elements: [1, 2]\u001b[0m\u001b[0m\n[2025-05-30 20:33:50,989][\u001b[1;36m\u001b[1;36m\u001b[1;36mtensorcraft.mpi.distributions.multi_axis_dist\u001b[0m\u001b[0m\u001b[0m][\u001b[1;35m\u001b[1;35m\u001b[1;35mapply\u001b[0m\u001b[0m\u001b[0m][\u001b[1;30m\u001b[1;30m\u001b[1;32mDEBUG\u001b[0m\u001b[0m\u001b[0m] - R4/8:\u001b[1;30m\u001b[1;30m\u001b[1;32mMissing elements: [1, 2]\u001b[0m\u001b[0m\u001b[0m\n[2025-05-30 20:33:50,993][\u001b[1;36mtensorcraft.mpi.distributions.multi_axis_dist\u001b[0m][\u001b[1;35mapply\u001b[0m][\u001b[1;32mDEBUG\u001b[0m] - R4/8:\u001b[1;32mN blocks per axis: [2, 10]\u001b[0m\n[2025-05-30 20:33:50,993][\u001b[1;36m\u001b[1;36mtensorcraft.mpi.distributions.multi_axis_dist\u001b[0m\u001b[0m][\u001b[1;35m\u001b[1;35mapply\u001b[0m\u001b[0m][\u001b[1;30m\u001b[1;32mDEBUG\u001b[0m\u001b[0m] - R4/8:\u001b[1;30m\u001b[1;32mN blocks per axis: [2, 10]\u001b[0m\u001b[0m\n[2025-05-30 20:33:50,993][\u001b[1;36m\u001b[1;36m\u001b[1;36mtensorcraft.mpi.distributions.multi_axis_dist\u001b[0m\u001b[0m\u001b[0m][\u001b[1;35m\u001b[1;35m\u001b[1;35mapply\u001b[0m\u001b[0m\u001b[0m][\u001b[1;30m\u001b[1;30m\u001b[1;32mDEBUG\u001b[0m\u001b[0m\u001b[0m] - R4/8:\u001b[1;30m\u001b[1;30m\u001b[1;32mN blocks per axis: [2, 10]\u001b[0m\u001b[0m\u001b[0m\n[2025-05-30 20:33:50,997][\u001b[1;36mtensorcraft.mpi.distributions.multi_axis_dist\u001b[0m][\u001b[1;35mapply\u001b[0m][\u001b[1;32mDEBUG\u001b[0m] - R4/8:\u001b[1;32mPadded tensor shape: torch.Size([3, 22])\u001b[0m\n[2025-05-30 20:33:50,997][\u001b[1;36m\u001b[1;36mtensorcraft.mpi.distributions.multi_axis_dist\u001b[0m\u001b[0m][\u001b[1;35m\u001b[1;35mapply\u001b[0m\u001b[0m][\u001b[1;30m\u001b[1;32mDEBUG\u001b[0m\u001b[0m] - R4/8:\u001b[1;30m\u001b[1;32mPadded tensor shape: torch.Size([3, 22])\u001b[0m\u001b[0m\n[2025-05-30 20:33:50,997][\u001b[1;36m\u001b[1;36m\u001b[1;36mtensorcraft.mpi.distributions.multi_axis_dist\u001b[0m\u001b[0m\u001b[0m][\u001b[1;35m\u001b[1;35m\u001b[1;35mapply\u001b[0m\u001b[0m\u001b[0m][\u001b[1;30m\u001b[1;30m\u001b[1;32mDEBUG\u001b[0m\u001b[0m\u001b[0m] - R4/8:\u001b[1;30m\u001b[1;30m\u001b[1;32mPadded tensor shape: torch.Size([3, 22])\u001b[0m\u001b[0m\u001b[0m\n[2025-05-30 20:33:51,006][\u001b[1;36mtensorcraft.mpi.distributions.multi_axis_dist\u001b[0m][\u001b[1;35mapply\u001b[0m][\u001b[1;32mDEBUG\u001b[0m] - R4/8:\u001b[1;32mPermute tuple: (0, 2, 1, 3)\u001b[0m\n[2025-05-30 20:33:51,006][\u001b[1;36m\u001b[1;36mtensorcraft.mpi.distributions.multi_axis_dist\u001b[0m\u001b[0m][\u001b[1;35m\u001b[1;35mapply\u001b[0m\u001b[0m][\u001b[1;30m\u001b[1;32mDEBUG\u001b[0m\u001b[0m] - R4/8:\u001b[1;30m\u001b[1;32mPermute tuple: (0, 2, 1, 3)\u001b[0m\u001b[0m\n[2025-05-30 20:33:51,006][\u001b[1;36m\u001b[1;36m\u001b[1;36mtensorcraft.mpi.distributions.multi_axis_dist\u001b[0m\u001b[0m\u001b[0m][\u001b[1;35m\u001b[1;35m\u001b[1;35mapply\u001b[0m\u001b[0m\u001b[0m][\u001b[1;30m\u001b[1;30m\u001b[1;32mDEBUG\u001b[0m\u001b[0m\u001b[0m] - R4/8:\u001b[1;30m\u001b[1;30m\u001b[1;32mPermute tuple: (0, 2, 1, 3)\u001b[0m\u001b[0m\u001b[0m\n[2025-05-30 20:33:51,011][\u001b[1;36mtensorcraft.mpi.distributions.multi_axis_dist\u001b[0m][\u001b[1;35mapply\u001b[0m][\u001b[1;32mDEBUG\u001b[0m] - R4/8:\u001b[1;32mReshape tuple: [3, 1, 11, 2]\u001b[0m\n[2025-05-30 20:33:51,011][\u001b[1;36m\u001b[1;36mtensorcraft.mpi.distributions.multi_axis_dist\u001b[0m\u001b[0m][\u001b[1;35m\u001b[1;35mapply\u001b[0m\u001b[0m][\u001b[1;30m\u001b[1;32mDEBUG\u001b[0m\u001b[0m] - R4/8:\u001b[1;30m\u001b[1;32mReshape tuple: [3, 1, 11, 2]\u001b[0m\u001b[0m\n[2025-05-30 20:33:51,011][\u001b[1;36m\u001b[1;36m\u001b[1;36mtensorcraft.mpi.distributions.multi_axis_dist\u001b[0m\u001b[0m\u001b[0m][\u001b[1;35m\u001b[1;35m\u001b[1;35mapply\u001b[0m\u001b[0m\u001b[0m][\u001b[1;30m\u001b[1;30m\u001b[1;32mDEBUG\u001b[0m\u001b[0m\u001b[0m] - R4/8:\u001b[1;30m\u001b[1;30m\u001b[1;32mReshape tuple: [3, 1, 11, 2]\u001b[0m\u001b[0m\u001b[0m\n[2025-05-30 20:33:51,023][\u001b[1;36mtensorcraft.mpi.distributions.multi_axis_dist\u001b[0m][\u001b[1;35mapply\u001b[0m][\u001b[1;32mDEBUG\u001b[0m] - R4/8:\u001b[1;32mTile Slices: [slice(tensor(0), None, 2), slice(None, None, None), slice(tensor(1), None, 4), slice(None, None, None)]\u001b[0m\n[2025-05-30 20:33:51,023][\u001b[1;36m\u001b[1;36mtensorcraft.mpi.distributions.multi_axis_dist\u001b[0m\u001b[0m][\u001b[1;35m\u001b[1;35mapply\u001b[0m\u001b[0m][\u001b[1;30m\u001b[1;32mDEBUG\u001b[0m\u001b[0m] - R4/8:\u001b[1;30m\u001b[1;32mTile Slices: [slice(tensor(0), None, 2), slice(None, None, None), slice(tensor(1), None, 4), slice(None, None, None)]\u001b[0m\u001b[0m\n[2025-05-30 20:33:51,023][\u001b[1;36m\u001b[1;36m\u001b[1;36mtensorcraft.mpi.distributions.multi_axis_dist\u001b[0m\u001b[0m\u001b[0m][\u001b[1;35m\u001b[1;35m\u001b[1;35mapply\u001b[0m\u001b[0m\u001b[0m][\u001b[1;30m\u001b[1;30m\u001b[1;32mDEBUG\u001b[0m\u001b[0m\u001b[0m] - R4/8:\u001b[1;30m\u001b[1;30m\u001b[1;32mTile Slices: [slice(tensor(0), None, 2), slice(None, None, None), slice(tensor(1), None, 4), slice(None, None, None)]\u001b[0m\u001b[0m\u001b[0m\n[2025-05-30 20:33:51,030][\u001b[1;36mtensorcraft.mpi.distributions.multi_axis_dist\u001b[0m][\u001b[1;35mapply\u001b[0m][\u001b[1;32mDEBUG\u001b[0m] - R4/8:\u001b[1;32mLocal tensor shape: torch.Size([2, 1, 3, 2])\u001b[0m\n[2025-05-30 20:33:51,030][\u001b[1;36m\u001b[1;36mtensorcraft.mpi.distributions.multi_axis_dist\u001b[0m\u001b[0m][\u001b[1;35m\u001b[1;35mapply\u001b[0m\u001b[0m][\u001b[1;30m\u001b[1;32mDEBUG\u001b[0m\u001b[0m] - R4/8:\u001b[1;30m\u001b[1;32mLocal tensor shape: torch.Size([2, 1, 3, 2])\u001b[0m\u001b[0m\n[2025-05-30 20:33:51,030][\u001b[1;36m\u001b[1;36m\u001b[1;36mtensorcraft.mpi.distributions.multi_axis_dist\u001b[0m\u001b[0m\u001b[0m][\u001b[1;35m\u001b[1;35m\u001b[1;35mapply\u001b[0m\u001b[0m\u001b[0m][\u001b[1;30m\u001b[1;30m\u001b[1;32mDEBUG\u001b[0m\u001b[0m\u001b[0m] - R4/8:\u001b[1;30m\u001b[1;30m\u001b[1;32mLocal tensor shape: torch.Size([2, 1, 3, 2])\u001b[0m\u001b[0m\u001b[0m\n[2025-05-30 20:33:51,034][\u001b[1;36mtensorcraft.mpi.distributions.multi_axis_dist\u001b[0m][\u001b[1;35mapply\u001b[0m][\u001b[1;32mDEBUG\u001b[0m] - R4/8:\u001b[1;32mTarget local tensor shape: [2, 6]\u001b[0m\n[2025-05-30 20:33:51,034][\u001b[1;36m\u001b[1;36mtensorcraft.mpi.distributions.multi_axis_dist\u001b[0m\u001b[0m][\u001b[1;35m\u001b[1;35mapply\u001b[0m\u001b[0m][\u001b[1;30m\u001b[1;32mDEBUG\u001b[0m\u001b[0m] - R4/8:\u001b[1;30m\u001b[1;32mTarget local tensor shape: [2, 6]\u001b[0m\u001b[0m\n[2025-05-30 20:33:51,034][\u001b[1;36m\u001b[1;36m\u001b[1;36mtensorcraft.mpi.distributions.multi_axis_dist\u001b[0m\u001b[0m\u001b[0m][\u001b[1;35m\u001b[1;35m\u001b[1;35mapply\u001b[0m\u001b[0m\u001b[0m][\u001b[1;30m\u001b[1;30m\u001b[1;32mDEBUG\u001b[0m\u001b[0m\u001b[0m] - R4/8:\u001b[1;30m\u001b[1;30m\u001b[1;32mTarget local tensor shape: [2, 6]\u001b[0m\u001b[0m\u001b[0m\n[2025-05-30 20:33:51,041][\u001b[1;36mtensorcraft.mpi.distributions.multi_axis_dist\u001b[0m][\u001b[1;35mapply\u001b[0m][\u001b[1;32mDEBUG\u001b[0m] - R4/8:\u001b[1;32mtensor([[ 2,  3, 10, 11, 18, 19],\n        [ 0,  0,  0,  0,  0,  0]])\u001b[0m\n[2025-05-30 20:33:51,041][\u001b[1;36m\u001b[1;36mtensorcraft.mpi.distributions.multi_axis_dist\u001b[0m\u001b[0m][\u001b[1;35m\u001b[1;35mapply\u001b[0m\u001b[0m][\u001b[1;30m\u001b[1;32mDEBUG\u001b[0m\u001b[0m] - R4/8:\u001b[1;30m\u001b[1;32mtensor([[ 2,  3, 10, 11, 18, 19],\n        [ 0,  0,  0,  0,  0,  0]])\u001b[0m\u001b[0m\n[2025-05-30 20:33:51,041][\u001b[1;36m\u001b[1;36m\u001b[1;36mtensorcraft.mpi.distributions.multi_axis_dist\u001b[0m\u001b[0m\u001b[0m][\u001b[1;35m\u001b[1;35m\u001b[1;35mapply\u001b[0m\u001b[0m\u001b[0m][\u001b[1;30m\u001b[1;30m\u001b[1;32mDEBUG\u001b[0m\u001b[0m\u001b[0m] - R4/8:\u001b[1;30m\u001b[1;30m\u001b[1;32mtensor([[ 2,  3, 10, 11, 18, 19],\n        [ 0,  0,  0,  0,  0,  0]])\u001b[0m\u001b[0m\u001b[0m\n[2025-05-30 20:33:51,046][\u001b[1;36mtensorcraft.mpi.distributions.multi_axis_dist\u001b[0m][\u001b[1;35mapply\u001b[0m][\u001b[1;32mDEBUG\u001b[0m] - R4/8:\u001b[1;32mLinear processor index: 0, Residue: 1, Block size: 1, axis: 0, N procs: 2, N full blocks: 2\u001b[0m\n[2025-05-30 20:33:51,046][\u001b[1;36m\u001b[1;36mtensorcraft.mpi.distributions.multi_axis_dist\u001b[0m\u001b[0m][\u001b[1;35m\u001b[1;35mapply\u001b[0m\u001b[0m][\u001b[1;30m\u001b[1;32mDEBUG\u001b[0m\u001b[0m] - R4/8:\u001b[1;30m\u001b[1;32mLinear processor index: 0, Residue: 1, Block size: 1, axis: 0, N procs: 2, N full blocks: 2\u001b[0m\u001b[0m\n[2025-05-30 20:33:51,046][\u001b[1;36m\u001b[1;36m\u001b[1;36mtensorcraft.mpi.distributions.multi_axis_dist\u001b[0m\u001b[0m\u001b[0m][\u001b[1;35m\u001b[1;35m\u001b[1;35mapply\u001b[0m\u001b[0m\u001b[0m][\u001b[1;30m\u001b[1;30m\u001b[1;32mDEBUG\u001b[0m\u001b[0m\u001b[0m] - R4/8:\u001b[1;30m\u001b[1;30m\u001b[1;32mLinear processor index: 0, Residue: 1, Block size: 1, axis: 0, N procs: 2, N full blocks: 2\u001b[0m\u001b[0m\u001b[0m\n[2025-05-30 20:33:51,056][\u001b[1;36mtensorcraft.mpi.distributions.multi_axis_dist\u001b[0m][\u001b[1;35mapply\u001b[0m][\u001b[1;32mDEBUG\u001b[0m] - R4/8:\u001b[1;32mLinear processor index: 1, Residue: 2, Block size: 2, axis: 1, N procs: 4, N full blocks: 10\u001b[0m\n[2025-05-30 20:33:51,056][\u001b[1;36m\u001b[1;36mtensorcraft.mpi.distributions.multi_axis_dist\u001b[0m\u001b[0m][\u001b[1;35m\u001b[1;35mapply\u001b[0m\u001b[0m][\u001b[1;30m\u001b[1;32mDEBUG\u001b[0m\u001b[0m] - R4/8:\u001b[1;30m\u001b[1;32mLinear processor index: 1, Residue: 2, Block size: 2, axis: 1, N procs: 4, N full blocks: 10\u001b[0m\u001b[0m\n[2025-05-30 20:33:51,056][\u001b[1;36m\u001b[1;36m\u001b[1;36mtensorcraft.mpi.distributions.multi_axis_dist\u001b[0m\u001b[0m\u001b[0m][\u001b[1;35m\u001b[1;35m\u001b[1;35mapply\u001b[0m\u001b[0m\u001b[0m][\u001b[1;30m\u001b[1;30m\u001b[1;32mDEBUG\u001b[0m\u001b[0m\u001b[0m] - R4/8:\u001b[1;30m\u001b[1;30m\u001b[1;32mLinear processor index: 1, Residue: 2, Block size: 2, axis: 1, N procs: 4, N full blocks: 10\u001b[0m\u001b[0m\u001b[0m\n[2025-05-30 20:33:51,063][\u001b[1;36mtensorcraft.mpi.distributions.multi_axis_dist\u001b[0m][\u001b[1;35mapply\u001b[0m][\u001b[1;32mDEBUG\u001b[0m] - R4/8:\u001b[1;32mShaved slices: [slice(0, -1, None), slice(None, None, None)]\u001b[0m\n[2025-05-30 20:33:51,063][\u001b[1;36m\u001b[1;36mtensorcraft.mpi.distributions.multi_axis_dist\u001b[0m\u001b[0m][\u001b[1;35m\u001b[1;35mapply\u001b[0m\u001b[0m][\u001b[1;30m\u001b[1;32mDEBUG\u001b[0m\u001b[0m] - R4/8:\u001b[1;30m\u001b[1;32mShaved slices: [slice(0, -1, None), slice(None, None, None)]\u001b[0m\u001b[0m\n[2025-05-30 20:33:51,063][\u001b[1;36m\u001b[1;36m\u001b[1;36mtensorcraft.mpi.distributions.multi_axis_dist\u001b[0m\u001b[0m\u001b[0m][\u001b[1;35m\u001b[1;35m\u001b[1;35mapply\u001b[0m\u001b[0m\u001b[0m][\u001b[1;30m\u001b[1;30m\u001b[1;32mDEBUG\u001b[0m\u001b[0m\u001b[0m] - R4/8:\u001b[1;30m\u001b[1;30m\u001b[1;32mShaved slices: [slice(0, -1, None), slice(None, None, None)]\u001b[0m\u001b[0m\u001b[0m\n[2025-05-30 20:33:51,065][\u001b[1;36mtensorcraft.mpi.distributions.multi_axis_dist\u001b[0m][\u001b[1;35mapply\u001b[0m][\u001b[1;32mDEBUG\u001b[0m] - R4/8:\u001b[1;32mFinal local tensor shape: torch.Size([1, 6])\u001b[0m\n[2025-05-30 20:33:51,065][\u001b[1;36m\u001b[1;36mtensorcraft.mpi.distributions.multi_axis_dist\u001b[0m\u001b[0m][\u001b[1;35m\u001b[1;35mapply\u001b[0m\u001b[0m][\u001b[1;30m\u001b[1;32mDEBUG\u001b[0m\u001b[0m] - R4/8:\u001b[1;30m\u001b[1;32mFinal local tensor shape: torch.Size([1, 6])\u001b[0m\u001b[0m\n[2025-05-30 20:33:51,065][\u001b[1;36m\u001b[1;36m\u001b[1;36mtensorcraft.mpi.distributions.multi_axis_dist\u001b[0m\u001b[0m\u001b[0m][\u001b[1;35m\u001b[1;35m\u001b[1;35mapply\u001b[0m\u001b[0m\u001b[0m][\u001b[1;30m\u001b[1;30m\u001b[1;32mDEBUG\u001b[0m\u001b[0m\u001b[0m] - R4/8:\u001b[1;30m\u001b[1;30m\u001b[1;32mFinal local tensor shape: torch.Size([1, 6])\u001b[0m\u001b[0m\u001b[0m\n",
      "submitted": "2025-05-30T18:33:50.976061Z"
     },
     "output_type": "display_data"
    },
    {
     "data": {
      "text/plain": [
       "\u001b[0;31mOut[7:13]: \u001b[0mtensor(True)"
      ]
     },
     "metadata": {
      "after": [],
      "completed": "2025-05-30T18:33:51.081389Z",
      "data": {},
      "engine_id": 7,
      "engine_uuid": "1ff01221-b231ebb650841e18cb0d5969",
      "error": null,
      "execute_input": "expected_local = new_dist.apply(x, rank)\ntorch.all(expected_local ==  new_local)\n",
      "execute_result": {
       "data": {
        "text/plain": "tensor(True)"
       },
       "execution_count": 13,
       "metadata": {}
      },
      "follow": [],
      "is_broadcast": false,
      "is_coalescing": false,
      "msg_id": "76e05c53-2f62b7a8a8c13a1c19b62b3b_183043_104",
      "outputs": [],
      "received": "2025-05-30T18:33:51.086310Z",
      "started": "2025-05-30T18:33:50.982852Z",
      "status": "ok",
      "stderr": "",
      "stdout": "[2025-05-30 20:33:50,986][\u001b[1;36mtensorcraft.mpi.distributions.multi_axis_dist\u001b[0m][\u001b[1;35mapply\u001b[0m][\u001b[1;32mDEBUG\u001b[0m] - R7/8:\u001b[1;32mProcessor multi index: torch.Size([1, 1, 1])\u001b[0m\n[2025-05-30 20:33:50,986][\u001b[1;36m\u001b[1;36mtensorcraft.mpi.distributions.multi_axis_dist\u001b[0m\u001b[0m][\u001b[1;35m\u001b[1;35mapply\u001b[0m\u001b[0m][\u001b[1;30m\u001b[1;32mDEBUG\u001b[0m\u001b[0m] - R7/8:\u001b[1;30m\u001b[1;32mProcessor multi index: torch.Size([1, 1, 1])\u001b[0m\u001b[0m\n[2025-05-30 20:33:50,986][\u001b[1;36m\u001b[1;36m\u001b[1;36mtensorcraft.mpi.distributions.multi_axis_dist\u001b[0m\u001b[0m\u001b[0m][\u001b[1;35m\u001b[1;35m\u001b[1;35mapply\u001b[0m\u001b[0m\u001b[0m][\u001b[1;30m\u001b[1;30m\u001b[1;32mDEBUG\u001b[0m\u001b[0m\u001b[0m] - R7/8:\u001b[1;30m\u001b[1;30m\u001b[1;32mProcessor multi index: torch.Size([1, 1, 1])\u001b[0m\u001b[0m\u001b[0m\n[2025-05-30 20:33:50,995][\u001b[1;36mtensorcraft.mpi.distributions.multi_axis_dist\u001b[0m][\u001b[1;35mapply\u001b[0m][\u001b[1;32mDEBUG\u001b[0m] - R7/8:\u001b[1;32mMissing elements: [1, 2]\u001b[0m\n[2025-05-30 20:33:50,995][\u001b[1;36m\u001b[1;36mtensorcraft.mpi.distributions.multi_axis_dist\u001b[0m\u001b[0m][\u001b[1;35m\u001b[1;35mapply\u001b[0m\u001b[0m][\u001b[1;30m\u001b[1;32mDEBUG\u001b[0m\u001b[0m] - R7/8:\u001b[1;30m\u001b[1;32mMissing elements: [1, 2]\u001b[0m\u001b[0m\n[2025-05-30 20:33:50,995][\u001b[1;36m\u001b[1;36m\u001b[1;36mtensorcraft.mpi.distributions.multi_axis_dist\u001b[0m\u001b[0m\u001b[0m][\u001b[1;35m\u001b[1;35m\u001b[1;35mapply\u001b[0m\u001b[0m\u001b[0m][\u001b[1;30m\u001b[1;30m\u001b[1;32mDEBUG\u001b[0m\u001b[0m\u001b[0m] - R7/8:\u001b[1;30m\u001b[1;30m\u001b[1;32mMissing elements: [1, 2]\u001b[0m\u001b[0m\u001b[0m\n[2025-05-30 20:33:51,001][\u001b[1;36mtensorcraft.mpi.distributions.multi_axis_dist\u001b[0m][\u001b[1;35mapply\u001b[0m][\u001b[1;32mDEBUG\u001b[0m] - R7/8:\u001b[1;32mN blocks per axis: [2, 10]\u001b[0m\n[2025-05-30 20:33:51,001][\u001b[1;36m\u001b[1;36mtensorcraft.mpi.distributions.multi_axis_dist\u001b[0m\u001b[0m][\u001b[1;35m\u001b[1;35mapply\u001b[0m\u001b[0m][\u001b[1;30m\u001b[1;32mDEBUG\u001b[0m\u001b[0m] - R7/8:\u001b[1;30m\u001b[1;32mN blocks per axis: [2, 10]\u001b[0m\u001b[0m\n[2025-05-30 20:33:51,001][\u001b[1;36m\u001b[1;36m\u001b[1;36mtensorcraft.mpi.distributions.multi_axis_dist\u001b[0m\u001b[0m\u001b[0m][\u001b[1;35m\u001b[1;35m\u001b[1;35mapply\u001b[0m\u001b[0m\u001b[0m][\u001b[1;30m\u001b[1;30m\u001b[1;32mDEBUG\u001b[0m\u001b[0m\u001b[0m] - R7/8:\u001b[1;30m\u001b[1;30m\u001b[1;32mN blocks per axis: [2, 10]\u001b[0m\u001b[0m\u001b[0m\n[2025-05-30 20:33:51,014][\u001b[1;36mtensorcraft.mpi.distributions.multi_axis_dist\u001b[0m][\u001b[1;35mapply\u001b[0m][\u001b[1;32mDEBUG\u001b[0m] - R7/8:\u001b[1;32mPadded tensor shape: torch.Size([3, 22])\u001b[0m\n[2025-05-30 20:33:51,014][\u001b[1;36m\u001b[1;36mtensorcraft.mpi.distributions.multi_axis_dist\u001b[0m\u001b[0m][\u001b[1;35m\u001b[1;35mapply\u001b[0m\u001b[0m][\u001b[1;30m\u001b[1;32mDEBUG\u001b[0m\u001b[0m] - R7/8:\u001b[1;30m\u001b[1;32mPadded tensor shape: torch.Size([3, 22])\u001b[0m\u001b[0m\n[2025-05-30 20:33:51,014][\u001b[1;36m\u001b[1;36m\u001b[1;36mtensorcraft.mpi.distributions.multi_axis_dist\u001b[0m\u001b[0m\u001b[0m][\u001b[1;35m\u001b[1;35m\u001b[1;35mapply\u001b[0m\u001b[0m\u001b[0m][\u001b[1;30m\u001b[1;30m\u001b[1;32mDEBUG\u001b[0m\u001b[0m\u001b[0m] - R7/8:\u001b[1;30m\u001b[1;30m\u001b[1;32mPadded tensor shape: torch.Size([3, 22])\u001b[0m\u001b[0m\u001b[0m\n[2025-05-30 20:33:51,025][\u001b[1;36mtensorcraft.mpi.distributions.multi_axis_dist\u001b[0m][\u001b[1;35mapply\u001b[0m][\u001b[1;32mDEBUG\u001b[0m] - R7/8:\u001b[1;32mPermute tuple: (0, 2, 1, 3)\u001b[0m\n[2025-05-30 20:33:51,025][\u001b[1;36m\u001b[1;36mtensorcraft.mpi.distributions.multi_axis_dist\u001b[0m\u001b[0m][\u001b[1;35m\u001b[1;35mapply\u001b[0m\u001b[0m][\u001b[1;30m\u001b[1;32mDEBUG\u001b[0m\u001b[0m] - R7/8:\u001b[1;30m\u001b[1;32mPermute tuple: (0, 2, 1, 3)\u001b[0m\u001b[0m\n[2025-05-30 20:33:51,025][\u001b[1;36m\u001b[1;36m\u001b[1;36mtensorcraft.mpi.distributions.multi_axis_dist\u001b[0m\u001b[0m\u001b[0m][\u001b[1;35m\u001b[1;35m\u001b[1;35mapply\u001b[0m\u001b[0m\u001b[0m][\u001b[1;30m\u001b[1;30m\u001b[1;32mDEBUG\u001b[0m\u001b[0m\u001b[0m] - R7/8:\u001b[1;30m\u001b[1;30m\u001b[1;32mPermute tuple: (0, 2, 1, 3)\u001b[0m\u001b[0m\u001b[0m\n[2025-05-30 20:33:51,031][\u001b[1;36mtensorcraft.mpi.distributions.multi_axis_dist\u001b[0m][\u001b[1;35mapply\u001b[0m][\u001b[1;32mDEBUG\u001b[0m] - R7/8:\u001b[1;32mReshape tuple: [3, 1, 11, 2]\u001b[0m\n[2025-05-30 20:33:51,031][\u001b[1;36m\u001b[1;36mtensorcraft.mpi.distributions.multi_axis_dist\u001b[0m\u001b[0m][\u001b[1;35m\u001b[1;35mapply\u001b[0m\u001b[0m][\u001b[1;30m\u001b[1;32mDEBUG\u001b[0m\u001b[0m] - R7/8:\u001b[1;30m\u001b[1;32mReshape tuple: [3, 1, 11, 2]\u001b[0m\u001b[0m\n[2025-05-30 20:33:51,031][\u001b[1;36m\u001b[1;36m\u001b[1;36mtensorcraft.mpi.distributions.multi_axis_dist\u001b[0m\u001b[0m\u001b[0m][\u001b[1;35m\u001b[1;35m\u001b[1;35mapply\u001b[0m\u001b[0m\u001b[0m][\u001b[1;30m\u001b[1;30m\u001b[1;32mDEBUG\u001b[0m\u001b[0m\u001b[0m] - R7/8:\u001b[1;30m\u001b[1;30m\u001b[1;32mReshape tuple: [3, 1, 11, 2]\u001b[0m\u001b[0m\u001b[0m\n[2025-05-30 20:33:51,038][\u001b[1;36mtensorcraft.mpi.distributions.multi_axis_dist\u001b[0m][\u001b[1;35mapply\u001b[0m][\u001b[1;32mDEBUG\u001b[0m] - R7/8:\u001b[1;32mTile Slices: [slice(tensor(1), None, 2), slice(None, None, None), slice(tensor(3), None, 4), slice(None, None, None)]\u001b[0m\n[2025-05-30 20:33:51,038][\u001b[1;36m\u001b[1;36mtensorcraft.mpi.distributions.multi_axis_dist\u001b[0m\u001b[0m][\u001b[1;35m\u001b[1;35mapply\u001b[0m\u001b[0m][\u001b[1;30m\u001b[1;32mDEBUG\u001b[0m\u001b[0m] - R7/8:\u001b[1;30m\u001b[1;32mTile Slices: [slice(tensor(1), None, 2), slice(None, None, None), slice(tensor(3), None, 4), slice(None, None, None)]\u001b[0m\u001b[0m\n[2025-05-30 20:33:51,038][\u001b[1;36m\u001b[1;36m\u001b[1;36mtensorcraft.mpi.distributions.multi_axis_dist\u001b[0m\u001b[0m\u001b[0m][\u001b[1;35m\u001b[1;35m\u001b[1;35mapply\u001b[0m\u001b[0m\u001b[0m][\u001b[1;30m\u001b[1;30m\u001b[1;32mDEBUG\u001b[0m\u001b[0m\u001b[0m] - R7/8:\u001b[1;30m\u001b[1;30m\u001b[1;32mTile Slices: [slice(tensor(1), None, 2), slice(None, None, None), slice(tensor(3), None, 4), slice(None, None, None)]\u001b[0m\u001b[0m\u001b[0m\n[2025-05-30 20:33:51,048][\u001b[1;36mtensorcraft.mpi.distributions.multi_axis_dist\u001b[0m][\u001b[1;35mapply\u001b[0m][\u001b[1;32mDEBUG\u001b[0m] - R7/8:\u001b[1;32mLocal tensor shape: torch.Size([1, 1, 2, 2])\u001b[0m\n[2025-05-30 20:33:51,048][\u001b[1;36m\u001b[1;36mtensorcraft.mpi.distributions.multi_axis_dist\u001b[0m\u001b[0m][\u001b[1;35m\u001b[1;35mapply\u001b[0m\u001b[0m][\u001b[1;30m\u001b[1;32mDEBUG\u001b[0m\u001b[0m] - R7/8:\u001b[1;30m\u001b[1;32mLocal tensor shape: torch.Size([1, 1, 2, 2])\u001b[0m\u001b[0m\n[2025-05-30 20:33:51,048][\u001b[1;36m\u001b[1;36m\u001b[1;36mtensorcraft.mpi.distributions.multi_axis_dist\u001b[0m\u001b[0m\u001b[0m][\u001b[1;35m\u001b[1;35m\u001b[1;35mapply\u001b[0m\u001b[0m\u001b[0m][\u001b[1;30m\u001b[1;30m\u001b[1;32mDEBUG\u001b[0m\u001b[0m\u001b[0m] - R7/8:\u001b[1;30m\u001b[1;30m\u001b[1;32mLocal tensor shape: torch.Size([1, 1, 2, 2])\u001b[0m\u001b[0m\u001b[0m\n[2025-05-30 20:33:51,053][\u001b[1;36mtensorcraft.mpi.distributions.multi_axis_dist\u001b[0m][\u001b[1;35mapply\u001b[0m][\u001b[1;32mDEBUG\u001b[0m] - R7/8:\u001b[1;32mTarget local tensor shape: [1, 4]\u001b[0m\n[2025-05-30 20:33:51,053][\u001b[1;36m\u001b[1;36mtensorcraft.mpi.distributions.multi_axis_dist\u001b[0m\u001b[0m][\u001b[1;35m\u001b[1;35mapply\u001b[0m\u001b[0m][\u001b[1;30m\u001b[1;32mDEBUG\u001b[0m\u001b[0m] - R7/8:\u001b[1;30m\u001b[1;32mTarget local tensor shape: [1, 4]\u001b[0m\u001b[0m\n[2025-05-30 20:33:51,053][\u001b[1;36m\u001b[1;36m\u001b[1;36mtensorcraft.mpi.distributions.multi_axis_dist\u001b[0m\u001b[0m\u001b[0m][\u001b[1;35m\u001b[1;35m\u001b[1;35mapply\u001b[0m\u001b[0m\u001b[0m][\u001b[1;30m\u001b[1;30m\u001b[1;32mDEBUG\u001b[0m\u001b[0m\u001b[0m] - R7/8:\u001b[1;30m\u001b[1;30m\u001b[1;32mTarget local tensor shape: [1, 4]\u001b[0m\u001b[0m\u001b[0m\n[2025-05-30 20:33:51,062][\u001b[1;36mtensorcraft.mpi.distributions.multi_axis_dist\u001b[0m][\u001b[1;35mapply\u001b[0m][\u001b[1;32mDEBUG\u001b[0m] - R7/8:\u001b[1;32mtensor([[26, 27, 34, 35]])\u001b[0m\n[2025-05-30 20:33:51,062][\u001b[1;36m\u001b[1;36mtensorcraft.mpi.distributions.multi_axis_dist\u001b[0m\u001b[0m][\u001b[1;35m\u001b[1;35mapply\u001b[0m\u001b[0m][\u001b[1;30m\u001b[1;32mDEBUG\u001b[0m\u001b[0m] - R7/8:\u001b[1;30m\u001b[1;32mtensor([[26, 27, 34, 35]])\u001b[0m\u001b[0m\n[2025-05-30 20:33:51,062][\u001b[1;36m\u001b[1;36m\u001b[1;36mtensorcraft.mpi.distributions.multi_axis_dist\u001b[0m\u001b[0m\u001b[0m][\u001b[1;35m\u001b[1;35m\u001b[1;35mapply\u001b[0m\u001b[0m\u001b[0m][\u001b[1;30m\u001b[1;30m\u001b[1;32mDEBUG\u001b[0m\u001b[0m\u001b[0m] - R7/8:\u001b[1;30m\u001b[1;30m\u001b[1;32mtensor([[26, 27, 34, 35]])\u001b[0m\u001b[0m\u001b[0m\n[2025-05-30 20:33:51,067][\u001b[1;36mtensorcraft.mpi.distributions.multi_axis_dist\u001b[0m][\u001b[1;35mapply\u001b[0m][\u001b[1;32mDEBUG\u001b[0m] - R7/8:\u001b[1;32mLinear processor index: 1, Residue: 1, Block size: 1, axis: 0, N procs: 2, N full blocks: 2\u001b[0m\n[2025-05-30 20:33:51,067][\u001b[1;36m\u001b[1;36mtensorcraft.mpi.distributions.multi_axis_dist\u001b[0m\u001b[0m][\u001b[1;35m\u001b[1;35mapply\u001b[0m\u001b[0m][\u001b[1;30m\u001b[1;32mDEBUG\u001b[0m\u001b[0m] - R7/8:\u001b[1;30m\u001b[1;32mLinear processor index: 1, Residue: 1, Block size: 1, axis: 0, N procs: 2, N full blocks: 2\u001b[0m\u001b[0m\n[2025-05-30 20:33:51,067][\u001b[1;36m\u001b[1;36m\u001b[1;36mtensorcraft.mpi.distributions.multi_axis_dist\u001b[0m\u001b[0m\u001b[0m][\u001b[1;35m\u001b[1;35m\u001b[1;35mapply\u001b[0m\u001b[0m\u001b[0m][\u001b[1;30m\u001b[1;30m\u001b[1;32mDEBUG\u001b[0m\u001b[0m\u001b[0m] - R7/8:\u001b[1;30m\u001b[1;30m\u001b[1;32mLinear processor index: 1, Residue: 1, Block size: 1, axis: 0, N procs: 2, N full blocks: 2\u001b[0m\u001b[0m\u001b[0m\n[2025-05-30 20:33:51,070][\u001b[1;36mtensorcraft.mpi.distributions.multi_axis_dist\u001b[0m][\u001b[1;35mapply\u001b[0m][\u001b[1;32mDEBUG\u001b[0m] - R7/8:\u001b[1;32mLinear processor index: 3, Residue: 2, Block size: 2, axis: 1, N procs: 4, N full blocks: 10\u001b[0m\n[2025-05-30 20:33:51,070][\u001b[1;36m\u001b[1;36mtensorcraft.mpi.distributions.multi_axis_dist\u001b[0m\u001b[0m][\u001b[1;35m\u001b[1;35mapply\u001b[0m\u001b[0m][\u001b[1;30m\u001b[1;32mDEBUG\u001b[0m\u001b[0m] - R7/8:\u001b[1;30m\u001b[1;32mLinear processor index: 3, Residue: 2, Block size: 2, axis: 1, N procs: 4, N full blocks: 10\u001b[0m\u001b[0m\n[2025-05-30 20:33:51,070][\u001b[1;36m\u001b[1;36m\u001b[1;36mtensorcraft.mpi.distributions.multi_axis_dist\u001b[0m\u001b[0m\u001b[0m][\u001b[1;35m\u001b[1;35m\u001b[1;35mapply\u001b[0m\u001b[0m\u001b[0m][\u001b[1;30m\u001b[1;30m\u001b[1;32mDEBUG\u001b[0m\u001b[0m\u001b[0m] - R7/8:\u001b[1;30m\u001b[1;30m\u001b[1;32mLinear processor index: 3, Residue: 2, Block size: 2, axis: 1, N procs: 4, N full blocks: 10\u001b[0m\u001b[0m\u001b[0m\n[2025-05-30 20:33:51,073][\u001b[1;36mtensorcraft.mpi.distributions.multi_axis_dist\u001b[0m][\u001b[1;35mapply\u001b[0m][\u001b[1;32mDEBUG\u001b[0m] - R7/8:\u001b[1;32mShaved slices: [slice(None, None, None), slice(None, None, None)]\u001b[0m\n[2025-05-30 20:33:51,073][\u001b[1;36m\u001b[1;36mtensorcraft.mpi.distributions.multi_axis_dist\u001b[0m\u001b[0m][\u001b[1;35m\u001b[1;35mapply\u001b[0m\u001b[0m][\u001b[1;30m\u001b[1;32mDEBUG\u001b[0m\u001b[0m] - R7/8:\u001b[1;30m\u001b[1;32mShaved slices: [slice(None, None, None), slice(None, None, None)]\u001b[0m\u001b[0m\n[2025-05-30 20:33:51,073][\u001b[1;36m\u001b[1;36m\u001b[1;36mtensorcraft.mpi.distributions.multi_axis_dist\u001b[0m\u001b[0m\u001b[0m][\u001b[1;35m\u001b[1;35m\u001b[1;35mapply\u001b[0m\u001b[0m\u001b[0m][\u001b[1;30m\u001b[1;30m\u001b[1;32mDEBUG\u001b[0m\u001b[0m\u001b[0m] - R7/8:\u001b[1;30m\u001b[1;30m\u001b[1;32mShaved slices: [slice(None, None, None), slice(None, None, None)]\u001b[0m\u001b[0m\u001b[0m\n[2025-05-30 20:33:51,076][\u001b[1;36mtensorcraft.mpi.distributions.multi_axis_dist\u001b[0m][\u001b[1;35mapply\u001b[0m][\u001b[1;32mDEBUG\u001b[0m] - R7/8:\u001b[1;32mFinal local tensor shape: torch.Size([1, 4])\u001b[0m\n[2025-05-30 20:33:51,076][\u001b[1;36m\u001b[1;36mtensorcraft.mpi.distributions.multi_axis_dist\u001b[0m\u001b[0m][\u001b[1;35m\u001b[1;35mapply\u001b[0m\u001b[0m][\u001b[1;30m\u001b[1;32mDEBUG\u001b[0m\u001b[0m] - R7/8:\u001b[1;30m\u001b[1;32mFinal local tensor shape: torch.Size([1, 4])\u001b[0m\u001b[0m\n[2025-05-30 20:33:51,076][\u001b[1;36m\u001b[1;36m\u001b[1;36mtensorcraft.mpi.distributions.multi_axis_dist\u001b[0m\u001b[0m\u001b[0m][\u001b[1;35m\u001b[1;35m\u001b[1;35mapply\u001b[0m\u001b[0m\u001b[0m][\u001b[1;30m\u001b[1;30m\u001b[1;32mDEBUG\u001b[0m\u001b[0m\u001b[0m] - R7/8:\u001b[1;30m\u001b[1;30m\u001b[1;32mFinal local tensor shape: torch.Size([1, 4])\u001b[0m\u001b[0m\u001b[0m\n",
      "submitted": "2025-05-30T18:33:50.976528Z"
     },
     "output_type": "display_data"
    },
    {
     "data": {
      "text/plain": [
       "\u001b[0;31mOut[3:13]: \u001b[0mtensor(True)"
      ]
     },
     "metadata": {
      "after": [],
      "completed": "2025-05-30T18:33:51.081984Z",
      "data": {},
      "engine_id": 3,
      "engine_uuid": "643e94a3-1606d3a144d7a01850482695",
      "error": null,
      "execute_input": "expected_local = new_dist.apply(x, rank)\ntorch.all(expected_local ==  new_local)\n",
      "execute_result": {
       "data": {
        "text/plain": "tensor(True)"
       },
       "execution_count": 13,
       "metadata": {}
      },
      "follow": [],
      "is_broadcast": false,
      "is_coalescing": false,
      "msg_id": "76e05c53-2f62b7a8a8c13a1c19b62b3b_183043_100",
      "outputs": [],
      "received": "2025-05-30T18:33:51.084752Z",
      "started": "2025-05-30T18:33:50.979952Z",
      "status": "ok",
      "stderr": "",
      "stdout": "[2025-05-30 20:33:50,981][\u001b[1;36mtensorcraft.mpi.distributions.multi_axis_dist\u001b[0m][\u001b[1;35mapply\u001b[0m][\u001b[1;32mDEBUG\u001b[0m] - R3/8:\u001b[1;32mProcessor multi index: torch.Size([0, 1, 1])\u001b[0m\n[2025-05-30 20:33:50,981][\u001b[1;36m\u001b[1;36mtensorcraft.mpi.distributions.multi_axis_dist\u001b[0m\u001b[0m][\u001b[1;35m\u001b[1;35mapply\u001b[0m\u001b[0m][\u001b[1;30m\u001b[1;32mDEBUG\u001b[0m\u001b[0m] - R3/8:\u001b[1;30m\u001b[1;32mProcessor multi index: torch.Size([0, 1, 1])\u001b[0m\u001b[0m\n[2025-05-30 20:33:50,981][\u001b[1;36m\u001b[1;36m\u001b[1;36mtensorcraft.mpi.distributions.multi_axis_dist\u001b[0m\u001b[0m\u001b[0m][\u001b[1;35m\u001b[1;35m\u001b[1;35mapply\u001b[0m\u001b[0m\u001b[0m][\u001b[1;30m\u001b[1;30m\u001b[1;32mDEBUG\u001b[0m\u001b[0m\u001b[0m] - R3/8:\u001b[1;30m\u001b[1;30m\u001b[1;32mProcessor multi index: torch.Size([0, 1, 1])\u001b[0m\u001b[0m\u001b[0m\n[2025-05-30 20:33:50,992][\u001b[1;36mtensorcraft.mpi.distributions.multi_axis_dist\u001b[0m][\u001b[1;35mapply\u001b[0m][\u001b[1;32mDEBUG\u001b[0m] - R3/8:\u001b[1;32mMissing elements: [1, 2]\u001b[0m\n[2025-05-30 20:33:50,992][\u001b[1;36m\u001b[1;36mtensorcraft.mpi.distributions.multi_axis_dist\u001b[0m\u001b[0m][\u001b[1;35m\u001b[1;35mapply\u001b[0m\u001b[0m][\u001b[1;30m\u001b[1;32mDEBUG\u001b[0m\u001b[0m] - R3/8:\u001b[1;30m\u001b[1;32mMissing elements: [1, 2]\u001b[0m\u001b[0m\n[2025-05-30 20:33:50,992][\u001b[1;36m\u001b[1;36m\u001b[1;36mtensorcraft.mpi.distributions.multi_axis_dist\u001b[0m\u001b[0m\u001b[0m][\u001b[1;35m\u001b[1;35m\u001b[1;35mapply\u001b[0m\u001b[0m\u001b[0m][\u001b[1;30m\u001b[1;30m\u001b[1;32mDEBUG\u001b[0m\u001b[0m\u001b[0m] - R3/8:\u001b[1;30m\u001b[1;30m\u001b[1;32mMissing elements: [1, 2]\u001b[0m\u001b[0m\u001b[0m\n[2025-05-30 20:33:50,999][\u001b[1;36mtensorcraft.mpi.distributions.multi_axis_dist\u001b[0m][\u001b[1;35mapply\u001b[0m][\u001b[1;32mDEBUG\u001b[0m] - R3/8:\u001b[1;32mN blocks per axis: [2, 10]\u001b[0m\n[2025-05-30 20:33:50,999][\u001b[1;36m\u001b[1;36mtensorcraft.mpi.distributions.multi_axis_dist\u001b[0m\u001b[0m][\u001b[1;35m\u001b[1;35mapply\u001b[0m\u001b[0m][\u001b[1;30m\u001b[1;32mDEBUG\u001b[0m\u001b[0m] - R3/8:\u001b[1;30m\u001b[1;32mN blocks per axis: [2, 10]\u001b[0m\u001b[0m\n[2025-05-30 20:33:50,999][\u001b[1;36m\u001b[1;36m\u001b[1;36mtensorcraft.mpi.distributions.multi_axis_dist\u001b[0m\u001b[0m\u001b[0m][\u001b[1;35m\u001b[1;35m\u001b[1;35mapply\u001b[0m\u001b[0m\u001b[0m][\u001b[1;30m\u001b[1;30m\u001b[1;32mDEBUG\u001b[0m\u001b[0m\u001b[0m] - R3/8:\u001b[1;30m\u001b[1;30m\u001b[1;32mN blocks per axis: [2, 10]\u001b[0m\u001b[0m\u001b[0m\n[2025-05-30 20:33:51,012][\u001b[1;36mtensorcraft.mpi.distributions.multi_axis_dist\u001b[0m][\u001b[1;35mapply\u001b[0m][\u001b[1;32mDEBUG\u001b[0m] - R3/8:\u001b[1;32mPadded tensor shape: torch.Size([3, 22])\u001b[0m\n[2025-05-30 20:33:51,012][\u001b[1;36m\u001b[1;36mtensorcraft.mpi.distributions.multi_axis_dist\u001b[0m\u001b[0m][\u001b[1;35m\u001b[1;35mapply\u001b[0m\u001b[0m][\u001b[1;30m\u001b[1;32mDEBUG\u001b[0m\u001b[0m] - R3/8:\u001b[1;30m\u001b[1;32mPadded tensor shape: torch.Size([3, 22])\u001b[0m\u001b[0m\n[2025-05-30 20:33:51,012][\u001b[1;36m\u001b[1;36m\u001b[1;36mtensorcraft.mpi.distributions.multi_axis_dist\u001b[0m\u001b[0m\u001b[0m][\u001b[1;35m\u001b[1;35m\u001b[1;35mapply\u001b[0m\u001b[0m\u001b[0m][\u001b[1;30m\u001b[1;30m\u001b[1;32mDEBUG\u001b[0m\u001b[0m\u001b[0m] - R3/8:\u001b[1;30m\u001b[1;30m\u001b[1;32mPadded tensor shape: torch.Size([3, 22])\u001b[0m\u001b[0m\u001b[0m\n[2025-05-30 20:33:51,019][\u001b[1;36mtensorcraft.mpi.distributions.multi_axis_dist\u001b[0m][\u001b[1;35mapply\u001b[0m][\u001b[1;32mDEBUG\u001b[0m] - R3/8:\u001b[1;32mPermute tuple: (0, 2, 1, 3)\u001b[0m\n[2025-05-30 20:33:51,019][\u001b[1;36m\u001b[1;36mtensorcraft.mpi.distributions.multi_axis_dist\u001b[0m\u001b[0m][\u001b[1;35m\u001b[1;35mapply\u001b[0m\u001b[0m][\u001b[1;30m\u001b[1;32mDEBUG\u001b[0m\u001b[0m] - R3/8:\u001b[1;30m\u001b[1;32mPermute tuple: (0, 2, 1, 3)\u001b[0m\u001b[0m\n[2025-05-30 20:33:51,019][\u001b[1;36m\u001b[1;36m\u001b[1;36mtensorcraft.mpi.distributions.multi_axis_dist\u001b[0m\u001b[0m\u001b[0m][\u001b[1;35m\u001b[1;35m\u001b[1;35mapply\u001b[0m\u001b[0m\u001b[0m][\u001b[1;30m\u001b[1;30m\u001b[1;32mDEBUG\u001b[0m\u001b[0m\u001b[0m] - R3/8:\u001b[1;30m\u001b[1;30m\u001b[1;32mPermute tuple: (0, 2, 1, 3)\u001b[0m\u001b[0m\u001b[0m\n[2025-05-30 20:33:51,030][\u001b[1;36mtensorcraft.mpi.distributions.multi_axis_dist\u001b[0m][\u001b[1;35mapply\u001b[0m][\u001b[1;32mDEBUG\u001b[0m] - R3/8:\u001b[1;32mReshape tuple: [3, 1, 11, 2]\u001b[0m\n[2025-05-30 20:33:51,030][\u001b[1;36m\u001b[1;36mtensorcraft.mpi.distributions.multi_axis_dist\u001b[0m\u001b[0m][\u001b[1;35m\u001b[1;35mapply\u001b[0m\u001b[0m][\u001b[1;30m\u001b[1;32mDEBUG\u001b[0m\u001b[0m] - R3/8:\u001b[1;30m\u001b[1;32mReshape tuple: [3, 1, 11, 2]\u001b[0m\u001b[0m\n[2025-05-30 20:33:51,030][\u001b[1;36m\u001b[1;36m\u001b[1;36mtensorcraft.mpi.distributions.multi_axis_dist\u001b[0m\u001b[0m\u001b[0m][\u001b[1;35m\u001b[1;35m\u001b[1;35mapply\u001b[0m\u001b[0m\u001b[0m][\u001b[1;30m\u001b[1;30m\u001b[1;32mDEBUG\u001b[0m\u001b[0m\u001b[0m] - R3/8:\u001b[1;30m\u001b[1;30m\u001b[1;32mReshape tuple: [3, 1, 11, 2]\u001b[0m\u001b[0m\u001b[0m\n[2025-05-30 20:33:51,035][\u001b[1;36mtensorcraft.mpi.distributions.multi_axis_dist\u001b[0m][\u001b[1;35mapply\u001b[0m][\u001b[1;32mDEBUG\u001b[0m] - R3/8:\u001b[1;32mTile Slices: [slice(tensor(1), None, 2), slice(None, None, None), slice(tensor(2), None, 4), slice(None, None, None)]\u001b[0m\n[2025-05-30 20:33:51,035][\u001b[1;36m\u001b[1;36mtensorcraft.mpi.distributions.multi_axis_dist\u001b[0m\u001b[0m][\u001b[1;35m\u001b[1;35mapply\u001b[0m\u001b[0m][\u001b[1;30m\u001b[1;32mDEBUG\u001b[0m\u001b[0m] - R3/8:\u001b[1;30m\u001b[1;32mTile Slices: [slice(tensor(1), None, 2), slice(None, None, None), slice(tensor(2), None, 4), slice(None, None, None)]\u001b[0m\u001b[0m\n[2025-05-30 20:33:51,035][\u001b[1;36m\u001b[1;36m\u001b[1;36mtensorcraft.mpi.distributions.multi_axis_dist\u001b[0m\u001b[0m\u001b[0m][\u001b[1;35m\u001b[1;35m\u001b[1;35mapply\u001b[0m\u001b[0m\u001b[0m][\u001b[1;30m\u001b[1;30m\u001b[1;32mDEBUG\u001b[0m\u001b[0m\u001b[0m] - R3/8:\u001b[1;30m\u001b[1;30m\u001b[1;32mTile Slices: [slice(tensor(1), None, 2), slice(None, None, None), slice(tensor(2), None, 4), slice(None, None, None)]\u001b[0m\u001b[0m\u001b[0m\n[2025-05-30 20:33:51,045][\u001b[1;36mtensorcraft.mpi.distributions.multi_axis_dist\u001b[0m][\u001b[1;35mapply\u001b[0m][\u001b[1;32mDEBUG\u001b[0m] - R3/8:\u001b[1;32mLocal tensor shape: torch.Size([1, 1, 3, 2])\u001b[0m\n[2025-05-30 20:33:51,045][\u001b[1;36m\u001b[1;36mtensorcraft.mpi.distributions.multi_axis_dist\u001b[0m\u001b[0m][\u001b[1;35m\u001b[1;35mapply\u001b[0m\u001b[0m][\u001b[1;30m\u001b[1;32mDEBUG\u001b[0m\u001b[0m] - R3/8:\u001b[1;30m\u001b[1;32mLocal tensor shape: torch.Size([1, 1, 3, 2])\u001b[0m\u001b[0m\n[2025-05-30 20:33:51,045][\u001b[1;36m\u001b[1;36m\u001b[1;36mtensorcraft.mpi.distributions.multi_axis_dist\u001b[0m\u001b[0m\u001b[0m][\u001b[1;35m\u001b[1;35m\u001b[1;35mapply\u001b[0m\u001b[0m\u001b[0m][\u001b[1;30m\u001b[1;30m\u001b[1;32mDEBUG\u001b[0m\u001b[0m\u001b[0m] - R3/8:\u001b[1;30m\u001b[1;30m\u001b[1;32mLocal tensor shape: torch.Size([1, 1, 3, 2])\u001b[0m\u001b[0m\u001b[0m\n[2025-05-30 20:33:51,049][\u001b[1;36mtensorcraft.mpi.distributions.multi_axis_dist\u001b[0m][\u001b[1;35mapply\u001b[0m][\u001b[1;32mDEBUG\u001b[0m] - R3/8:\u001b[1;32mTarget local tensor shape: [1, 6]\u001b[0m\n[2025-05-30 20:33:51,049][\u001b[1;36m\u001b[1;36mtensorcraft.mpi.distributions.multi_axis_dist\u001b[0m\u001b[0m][\u001b[1;35m\u001b[1;35mapply\u001b[0m\u001b[0m][\u001b[1;30m\u001b[1;32mDEBUG\u001b[0m\u001b[0m] - R3/8:\u001b[1;30m\u001b[1;32mTarget local tensor shape: [1, 6]\u001b[0m\u001b[0m\n[2025-05-30 20:33:51,049][\u001b[1;36m\u001b[1;36m\u001b[1;36mtensorcraft.mpi.distributions.multi_axis_dist\u001b[0m\u001b[0m\u001b[0m][\u001b[1;35m\u001b[1;35m\u001b[1;35mapply\u001b[0m\u001b[0m\u001b[0m][\u001b[1;30m\u001b[1;30m\u001b[1;32mDEBUG\u001b[0m\u001b[0m\u001b[0m] - R3/8:\u001b[1;30m\u001b[1;30m\u001b[1;32mTarget local tensor shape: [1, 6]\u001b[0m\u001b[0m\u001b[0m\n[2025-05-30 20:33:51,060][\u001b[1;36mtensorcraft.mpi.distributions.multi_axis_dist\u001b[0m][\u001b[1;35mapply\u001b[0m][\u001b[1;32mDEBUG\u001b[0m] - R3/8:\u001b[1;32mtensor([[24, 25, 32, 33,  0,  0]])\u001b[0m\n[2025-05-30 20:33:51,060][\u001b[1;36m\u001b[1;36mtensorcraft.mpi.distributions.multi_axis_dist\u001b[0m\u001b[0m][\u001b[1;35m\u001b[1;35mapply\u001b[0m\u001b[0m][\u001b[1;30m\u001b[1;32mDEBUG\u001b[0m\u001b[0m] - R3/8:\u001b[1;30m\u001b[1;32mtensor([[24, 25, 32, 33,  0,  0]])\u001b[0m\u001b[0m\n[2025-05-30 20:33:51,060][\u001b[1;36m\u001b[1;36m\u001b[1;36mtensorcraft.mpi.distributions.multi_axis_dist\u001b[0m\u001b[0m\u001b[0m][\u001b[1;35m\u001b[1;35m\u001b[1;35mapply\u001b[0m\u001b[0m\u001b[0m][\u001b[1;30m\u001b[1;30m\u001b[1;32mDEBUG\u001b[0m\u001b[0m\u001b[0m] - R3/8:\u001b[1;30m\u001b[1;30m\u001b[1;32mtensor([[24, 25, 32, 33,  0,  0]])\u001b[0m\u001b[0m\u001b[0m\n[2025-05-30 20:33:51,065][\u001b[1;36mtensorcraft.mpi.distributions.multi_axis_dist\u001b[0m][\u001b[1;35mapply\u001b[0m][\u001b[1;32mDEBUG\u001b[0m] - R3/8:\u001b[1;32mLinear processor index: 1, Residue: 1, Block size: 1, axis: 0, N procs: 2, N full blocks: 2\u001b[0m\n[2025-05-30 20:33:51,065][\u001b[1;36m\u001b[1;36mtensorcraft.mpi.distributions.multi_axis_dist\u001b[0m\u001b[0m][\u001b[1;35m\u001b[1;35mapply\u001b[0m\u001b[0m][\u001b[1;30m\u001b[1;32mDEBUG\u001b[0m\u001b[0m] - R3/8:\u001b[1;30m\u001b[1;32mLinear processor index: 1, Residue: 1, Block size: 1, axis: 0, N procs: 2, N full blocks: 2\u001b[0m\u001b[0m\n[2025-05-30 20:33:51,065][\u001b[1;36m\u001b[1;36m\u001b[1;36mtensorcraft.mpi.distributions.multi_axis_dist\u001b[0m\u001b[0m\u001b[0m][\u001b[1;35m\u001b[1;35m\u001b[1;35mapply\u001b[0m\u001b[0m\u001b[0m][\u001b[1;30m\u001b[1;30m\u001b[1;32mDEBUG\u001b[0m\u001b[0m\u001b[0m] - R3/8:\u001b[1;30m\u001b[1;30m\u001b[1;32mLinear processor index: 1, Residue: 1, Block size: 1, axis: 0, N procs: 2, N full blocks: 2\u001b[0m\u001b[0m\u001b[0m\n[2025-05-30 20:33:51,070][\u001b[1;36mtensorcraft.mpi.distributions.multi_axis_dist\u001b[0m][\u001b[1;35mapply\u001b[0m][\u001b[1;32mDEBUG\u001b[0m] - R3/8:\u001b[1;32mLinear processor index: 2, Residue: 2, Block size: 2, axis: 1, N procs: 4, N full blocks: 10\u001b[0m\n[2025-05-30 20:33:51,070][\u001b[1;36m\u001b[1;36mtensorcraft.mpi.distributions.multi_axis_dist\u001b[0m\u001b[0m][\u001b[1;35m\u001b[1;35mapply\u001b[0m\u001b[0m][\u001b[1;30m\u001b[1;32mDEBUG\u001b[0m\u001b[0m] - R3/8:\u001b[1;30m\u001b[1;32mLinear processor index: 2, Residue: 2, Block size: 2, axis: 1, N procs: 4, N full blocks: 10\u001b[0m\u001b[0m\n[2025-05-30 20:33:51,070][\u001b[1;36m\u001b[1;36m\u001b[1;36mtensorcraft.mpi.distributions.multi_axis_dist\u001b[0m\u001b[0m\u001b[0m][\u001b[1;35m\u001b[1;35m\u001b[1;35mapply\u001b[0m\u001b[0m\u001b[0m][\u001b[1;30m\u001b[1;30m\u001b[1;32mDEBUG\u001b[0m\u001b[0m\u001b[0m] - R3/8:\u001b[1;30m\u001b[1;30m\u001b[1;32mLinear processor index: 2, Residue: 2, Block size: 2, axis: 1, N procs: 4, N full blocks: 10\u001b[0m\u001b[0m\u001b[0m\n[2025-05-30 20:33:51,074][\u001b[1;36mtensorcraft.mpi.distributions.multi_axis_dist\u001b[0m][\u001b[1;35mapply\u001b[0m][\u001b[1;32mDEBUG\u001b[0m] - R3/8:\u001b[1;32mShaved slices: [slice(None, None, None), slice(0, -2, None)]\u001b[0m\n[2025-05-30 20:33:51,074][\u001b[1;36m\u001b[1;36mtensorcraft.mpi.distributions.multi_axis_dist\u001b[0m\u001b[0m][\u001b[1;35m\u001b[1;35mapply\u001b[0m\u001b[0m][\u001b[1;30m\u001b[1;32mDEBUG\u001b[0m\u001b[0m] - R3/8:\u001b[1;30m\u001b[1;32mShaved slices: [slice(None, None, None), slice(0, -2, None)]\u001b[0m\u001b[0m\n[2025-05-30 20:33:51,074][\u001b[1;36m\u001b[1;36m\u001b[1;36mtensorcraft.mpi.distributions.multi_axis_dist\u001b[0m\u001b[0m\u001b[0m][\u001b[1;35m\u001b[1;35m\u001b[1;35mapply\u001b[0m\u001b[0m\u001b[0m][\u001b[1;30m\u001b[1;30m\u001b[1;32mDEBUG\u001b[0m\u001b[0m\u001b[0m] - R3/8:\u001b[1;30m\u001b[1;30m\u001b[1;32mShaved slices: [slice(None, None, None), slice(0, -2, None)]\u001b[0m\u001b[0m\u001b[0m\n[2025-05-30 20:33:51,077][\u001b[1;36mtensorcraft.mpi.distributions.multi_axis_dist\u001b[0m][\u001b[1;35mapply\u001b[0m][\u001b[1;32mDEBUG\u001b[0m] - R3/8:\u001b[1;32mFinal local tensor shape: torch.Size([1, 4])\u001b[0m\n[2025-05-30 20:33:51,077][\u001b[1;36m\u001b[1;36mtensorcraft.mpi.distributions.multi_axis_dist\u001b[0m\u001b[0m][\u001b[1;35m\u001b[1;35mapply\u001b[0m\u001b[0m][\u001b[1;30m\u001b[1;32mDEBUG\u001b[0m\u001b[0m] - R3/8:\u001b[1;30m\u001b[1;32mFinal local tensor shape: torch.Size([1, 4])\u001b[0m\u001b[0m\n[2025-05-30 20:33:51,077][\u001b[1;36m\u001b[1;36m\u001b[1;36mtensorcraft.mpi.distributions.multi_axis_dist\u001b[0m\u001b[0m\u001b[0m][\u001b[1;35m\u001b[1;35m\u001b[1;35mapply\u001b[0m\u001b[0m\u001b[0m][\u001b[1;30m\u001b[1;30m\u001b[1;32mDEBUG\u001b[0m\u001b[0m\u001b[0m] - R3/8:\u001b[1;30m\u001b[1;30m\u001b[1;32mFinal local tensor shape: torch.Size([1, 4])\u001b[0m\u001b[0m\u001b[0m\n",
      "submitted": "2025-05-30T18:33:50.975974Z"
     },
     "output_type": "display_data"
    }
   ],
   "source": [
    "%%px\n",
    "expected_local = new_dist.apply(x, rank)\n",
    "# torch.all(expected_local ==  new_local)\n",
    "expected_local"
   ]
  },
  {
   "cell_type": "code",
   "execution_count": null,
   "metadata": {},
   "outputs": [],
   "source": []
  }
 ],
 "metadata": {
  "kernelspec": {
   "display_name": "tensorcraft-dev-3.12",
   "language": "python",
   "name": "python3"
  },
  "language_info": {
   "codemirror_mode": {
    "name": "ipython",
    "version": 3
   },
   "file_extension": ".py",
   "mimetype": "text/x-python",
   "name": "python",
   "nbconvert_exporter": "python",
   "pygments_lexer": "ipython3",
   "version": "3.12.4"
  }
 },
 "nbformat": 4,
 "nbformat_minor": 2
}
